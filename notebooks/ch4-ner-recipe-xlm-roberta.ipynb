{
 "cells": [
  {
   "cell_type": "markdown",
   "id": "9ea9fa31",
   "metadata": {
    "papermill": {
     "duration": 0.200197,
     "end_time": "2022-04-09T11:05:13.253760",
     "exception": false,
     "start_time": "2022-04-09T11:05:13.053563",
     "status": "completed"
    },
    "tags": []
   },
   "source": [
    "# Identifying parts of recipe ingredients"
   ]
  },
  {
   "cell_type": "markdown",
   "id": "bf4f7df2",
   "metadata": {
    "papermill": {
     "duration": 0.150642,
     "end_time": "2022-04-09T11:05:13.586140",
     "exception": false,
     "start_time": "2022-04-09T11:05:13.435498",
     "status": "completed"
    },
    "tags": []
   },
   "source": [
    "We're going to use transformers to train a recipe ingredient phrase tagger.\n",
    "\n",
    "We will follow the techniques used in Chapter 4 of [Natural Language Processing with Transformers](https://www.oreilly.com/library/view/natural-language-processing/9781098103231/) by Tunstall, von Werra and Wolf (in particular see their [chapter 4 notebook](https://github.com/nlp-with-transformers/notebooks)).\n",
    "\n",
    "We will use the data from [A Named Entity Based Approach to Model Recipes, by Diwan, Batra, and Bagler](https://arxiv.org/abs/2004.12184).\n",
    "There are other existing datasets such as [NYTimes Ingredient Phrase Tagger](https://github.com/nytimes/ingredient-phrase-tagger)."
   ]
  },
  {
   "cell_type": "code",
   "execution_count": 1,
   "id": "5ea39649",
   "metadata": {
    "execution": {
     "iopub.execute_input": "2022-04-09T11:05:13.896789Z",
     "iopub.status.busy": "2022-04-09T11:05:13.896077Z",
     "iopub.status.idle": "2022-04-09T11:05:15.450267Z",
     "shell.execute_reply": "2022-04-09T11:05:15.449629Z",
     "shell.execute_reply.started": "2022-04-09T09:38:04.756507Z"
    },
    "papermill": {
     "duration": 1.715316,
     "end_time": "2022-04-09T11:05:15.450443",
     "exception": false,
     "start_time": "2022-04-09T11:05:13.735127",
     "status": "completed"
    },
    "tags": []
   },
   "outputs": [],
   "source": [
    "push_to_hub = False\n",
    "\n",
    "from huggingface_hub import notebook_login\n",
    "\n",
    "if push_to_hub:\n",
    "    notebook_login()"
   ]
  },
  {
   "cell_type": "code",
   "execution_count": 2,
   "id": "4ba96e99",
   "metadata": {
    "execution": {
     "iopub.execute_input": "2022-04-09T11:05:15.758356Z",
     "iopub.status.busy": "2022-04-09T11:05:15.757463Z",
     "iopub.status.idle": "2022-04-09T11:05:15.759768Z",
     "shell.execute_reply": "2022-04-09T11:05:15.760299Z",
     "shell.execute_reply.started": "2022-04-09T09:38:06.623826Z"
    },
    "papermill": {
     "duration": 0.159001,
     "end_time": "2022-04-09T11:05:15.760474",
     "exception": false,
     "start_time": "2022-04-09T11:05:15.601473",
     "status": "completed"
    },
    "tags": []
   },
   "outputs": [],
   "source": [
    "if push_to_hub:\n",
    "    !sudo apt-get install git-lfs\n",
    "    !git lfs install"
   ]
  },
  {
   "cell_type": "markdown",
   "id": "b93fd96c",
   "metadata": {
    "papermill": {
     "duration": 0.147744,
     "end_time": "2022-04-09T11:05:16.058400",
     "exception": false,
     "start_time": "2022-04-09T11:05:15.910656",
     "status": "completed"
    },
    "tags": []
   },
   "source": [
    "# Fetching the Data"
   ]
  },
  {
   "cell_type": "markdown",
   "id": "3d425736",
   "metadata": {
    "papermill": {
     "duration": 0.13898,
     "end_time": "2022-04-09T11:05:16.346008",
     "exception": false,
     "start_time": "2022-04-09T11:05:16.207028",
     "status": "completed"
    },
    "tags": []
   },
   "source": [
    "The source data is from [A Named Entity Based Approach to Model Recipes, by Diwan, Batra, and Bagler](https://arxiv.org/abs/2004.12184).\n",
    "They annotated data from from RecipeDB sources AllRecipes (`ar`), and FOOD.com (formerly GeniusKitchen.com, `gk`).\n",
    "They have generously [shared the training data](https://github.com/cosylabiiit/recipe-knowledge-mining).\n",
    "\n",
    "In particular we are interested in the annotated ingredience for each source.\n",
    "Let's fetch the most recent version from Github:"
   ]
  },
  {
   "cell_type": "code",
   "execution_count": 3,
   "id": "1363bd24",
   "metadata": {
    "execution": {
     "iopub.execute_input": "2022-04-09T11:05:16.625158Z",
     "iopub.status.busy": "2022-04-09T11:05:16.624340Z",
     "iopub.status.idle": "2022-04-09T11:05:16.626145Z",
     "shell.execute_reply": "2022-04-09T11:05:16.626544Z",
     "shell.execute_reply.started": "2022-04-09T09:38:06.646339Z"
    },
    "papermill": {
     "duration": 0.142782,
     "end_time": "2022-04-09T11:05:16.626686",
     "exception": false,
     "start_time": "2022-04-09T11:05:16.483904",
     "status": "completed"
    },
    "tags": []
   },
   "outputs": [],
   "source": [
    "import requests\n",
    "\n",
    "data_sources = ['ar', 'gk']\n",
    "data_splits = ['train', 'test']\n",
    "\n",
    "base_url = 'https://raw.githubusercontent.com/cosylabiiit/recipe-knowledge-mining/master/'\n",
    "def get_text(source: str, split: str) -> str:\n",
    "    r = requests.get(base_url + f'{source}_{split}.tsv')\n",
    "    r.raise_for_status()\n",
    "    content = r.content.decode('utf-8')\n",
    "    return list(segment_texts(content))"
   ]
  },
  {
   "cell_type": "markdown",
   "id": "af7b97b7",
   "metadata": {
    "papermill": {
     "duration": 0.137246,
     "end_time": "2022-04-09T11:05:16.898320",
     "exception": false,
     "start_time": "2022-04-09T11:05:16.761074",
     "status": "completed"
    },
    "tags": []
   },
   "source": [
    "The texts are as TSVs where each line is a tab separated token and label.\n",
    "Different ingredients are separated by blank lines.\n",
    "\n",
    "We'll convert this into a list of pairs of text, token."
   ]
  },
  {
   "cell_type": "code",
   "execution_count": 4,
   "id": "3f70225a",
   "metadata": {
    "execution": {
     "iopub.execute_input": "2022-04-09T11:05:17.176073Z",
     "iopub.status.busy": "2022-04-09T11:05:17.175217Z",
     "iopub.status.idle": "2022-04-09T11:05:17.176942Z",
     "shell.execute_reply": "2022-04-09T11:05:17.177375Z",
     "shell.execute_reply.started": "2022-04-09T09:38:06.658883Z"
    },
    "papermill": {
     "duration": 0.141685,
     "end_time": "2022-04-09T11:05:17.177504",
     "exception": false,
     "start_time": "2022-04-09T11:05:17.035819",
     "status": "completed"
    },
    "tags": []
   },
   "outputs": [],
   "source": [
    "sample=\"\"\"\t\n",
    "4\tQUANTITY\n",
    "cloves\tUNIT\n",
    "garlic\tNAME\n",
    "\t\n",
    "2\tQUANTITY\n",
    "tablespoons\tUNIT\n",
    "vegetable\tNAME\n",
    "oil\tNAME\n",
    ",\tO\n",
    "divided\tSTATE\n",
    "\t\n",
    "2\tQUANTITY\n",
    "tablespoons\tUNIT\n",
    "dried\tDF\n",
    "marjoram\tNAME\n",
    "\t\"\"\""
   ]
  },
  {
   "cell_type": "code",
   "execution_count": 5,
   "id": "f6866f07",
   "metadata": {
    "execution": {
     "iopub.execute_input": "2022-04-09T11:05:17.453055Z",
     "iopub.status.busy": "2022-04-09T11:05:17.452236Z",
     "iopub.status.idle": "2022-04-09T11:05:17.454053Z",
     "shell.execute_reply": "2022-04-09T11:05:17.454455Z",
     "shell.execute_reply.started": "2022-04-09T09:38:06.678353Z"
    },
    "papermill": {
     "duration": 0.142062,
     "end_time": "2022-04-09T11:05:17.454585",
     "exception": false,
     "start_time": "2022-04-09T11:05:17.312523",
     "status": "completed"
    },
    "tags": []
   },
   "outputs": [],
   "source": [
    "tag_names = ['O', 'QUANTITY', 'UNIT', 'STATE', 'NAME', 'DF', 'SIZE', 'TEMP']"
   ]
  },
  {
   "cell_type": "code",
   "execution_count": 6,
   "id": "526ca76f",
   "metadata": {
    "execution": {
     "iopub.execute_input": "2022-04-09T11:05:17.734682Z",
     "iopub.status.busy": "2022-04-09T11:05:17.733858Z",
     "iopub.status.idle": "2022-04-09T11:05:17.735831Z",
     "shell.execute_reply": "2022-04-09T11:05:17.736196Z",
     "shell.execute_reply.started": "2022-04-09T09:38:06.699262Z"
    },
    "papermill": {
     "duration": 0.144419,
     "end_time": "2022-04-09T11:05:17.736326",
     "exception": false,
     "start_time": "2022-04-09T11:05:17.591907",
     "status": "completed"
    },
    "tags": []
   },
   "outputs": [],
   "source": [
    "from typing import List, Tuple\n",
    "\n",
    "def segment_texts(data: str) -> List[Tuple[str, str]]:\n",
    "    output = []\n",
    "    for line in data.split('\\n'):\n",
    "        if line.strip():\n",
    "            text, token = line.split('\\t')\n",
    "            output.append((text.strip(), token.strip()))\n",
    "        elif output:\n",
    "            yield output\n",
    "            output = []"
   ]
  },
  {
   "cell_type": "code",
   "execution_count": 7,
   "id": "6b46b267",
   "metadata": {
    "execution": {
     "iopub.execute_input": "2022-04-09T11:05:18.017956Z",
     "iopub.status.busy": "2022-04-09T11:05:18.016291Z",
     "iopub.status.idle": "2022-04-09T11:05:18.021015Z",
     "shell.execute_reply": "2022-04-09T11:05:18.020247Z",
     "shell.execute_reply.started": "2022-04-09T09:38:06.711597Z"
    },
    "papermill": {
     "duration": 0.148159,
     "end_time": "2022-04-09T11:05:18.021176",
     "exception": false,
     "start_time": "2022-04-09T11:05:17.873017",
     "status": "completed"
    },
    "tags": []
   },
   "outputs": [
    {
     "name": "stdout",
     "output_type": "stream",
     "text": [
      "[('4', 'QUANTITY'), ('cloves', 'UNIT'), ('garlic', 'NAME')]\n",
      "[('2', 'QUANTITY'), ('tablespoons', 'UNIT'), ('vegetable', 'NAME'), ('oil', 'NAME'), (',', 'O'), ('divided', 'STATE')]\n",
      "[('2', 'QUANTITY'), ('tablespoons', 'UNIT'), ('dried', 'DF'), ('marjoram', 'NAME')]\n"
     ]
    }
   ],
   "source": [
    "for line in segment_texts(sample):\n",
    "    print(line)"
   ]
  },
  {
   "cell_type": "markdown",
   "id": "33d4ba6b",
   "metadata": {
    "papermill": {
     "duration": 0.136391,
     "end_time": "2022-04-09T11:05:18.296013",
     "exception": false,
     "start_time": "2022-04-09T11:05:18.159622",
     "status": "completed"
    },
    "tags": []
   },
   "source": [
    "Converting to IOB-1.\n",
    "\n",
    "Because this isn't in the text itself we're going to infer any adjacent tags are a compound; this may not be true."
   ]
  },
  {
   "cell_type": "code",
   "execution_count": 8,
   "id": "a966fd2d",
   "metadata": {
    "execution": {
     "iopub.execute_input": "2022-04-09T11:05:18.575537Z",
     "iopub.status.busy": "2022-04-09T11:05:18.574842Z",
     "iopub.status.idle": "2022-04-09T11:05:18.577315Z",
     "shell.execute_reply": "2022-04-09T11:05:18.576915Z",
     "shell.execute_reply.started": "2022-04-09T09:38:06.741020Z"
    },
    "papermill": {
     "duration": 0.143834,
     "end_time": "2022-04-09T11:05:18.577424",
     "exception": false,
     "start_time": "2022-04-09T11:05:18.433590",
     "status": "completed"
    },
    "tags": []
   },
   "outputs": [],
   "source": [
    "def convert_to_iob1(tokens):\n",
    "    return ['I-' + label if label != 'O' else 'O' for label in tokens]\n",
    "\n",
    "assert convert_to_iob1(['QUANTITY', 'SIZE', 'NAME', 'NAME', 'O', 'STATE']) == ['I-QUANTITY', 'I-SIZE', 'I-NAME', 'I-NAME', 'O', 'I-STATE']"
   ]
  },
  {
   "cell_type": "markdown",
   "id": "a59a3b14",
   "metadata": {
    "papermill": {
     "duration": 0.135551,
     "end_time": "2022-04-09T11:05:18.850195",
     "exception": false,
     "start_time": "2022-04-09T11:05:18.714644",
     "status": "completed"
    },
    "tags": []
   },
   "source": [
    "Then we want to wrap this in a HuggingFace dataset.\n",
    "\n",
    "This requires flipping them into aligned sequences of tokens and labels, which we can do with `zip(*...)`."
   ]
  },
  {
   "cell_type": "code",
   "execution_count": 9,
   "id": "55764ee7",
   "metadata": {
    "execution": {
     "iopub.execute_input": "2022-04-09T11:05:19.132918Z",
     "iopub.status.busy": "2022-04-09T11:05:19.131977Z",
     "iopub.status.idle": "2022-04-09T11:05:19.134062Z",
     "shell.execute_reply": "2022-04-09T11:05:19.134493Z",
     "shell.execute_reply.started": "2022-04-09T09:38:06.768913Z"
    },
    "papermill": {
     "duration": 0.144318,
     "end_time": "2022-04-09T11:05:19.134660",
     "exception": false,
     "start_time": "2022-04-09T11:05:18.990342",
     "status": "completed"
    },
    "tags": []
   },
   "outputs": [],
   "source": [
    "iob_names = convert_to_iob1(tag_names)"
   ]
  },
  {
   "cell_type": "code",
   "execution_count": 10,
   "id": "2ac18ea3",
   "metadata": {
    "execution": {
     "iopub.execute_input": "2022-04-09T11:05:19.412805Z",
     "iopub.status.busy": "2022-04-09T11:05:19.412038Z",
     "iopub.status.idle": "2022-04-09T11:05:19.737769Z",
     "shell.execute_reply": "2022-04-09T11:05:19.737242Z",
     "shell.execute_reply.started": "2022-04-09T09:38:06.792978Z"
    },
    "papermill": {
     "duration": 0.46757,
     "end_time": "2022-04-09T11:05:19.737897",
     "exception": false,
     "start_time": "2022-04-09T11:05:19.270327",
     "status": "completed"
    },
    "tags": []
   },
   "outputs": [],
   "source": [
    "from datasets import Dataset, Features, Sequence, Value, ClassLabel\n",
    "\n",
    "_features = Features(\n",
    "    tokens=Sequence(Value(dtype='string')),\n",
    "    labels=Sequence(ClassLabel(names=iob_names))\n",
    ")\n",
    "\n",
    "def convert_to_dataset(data):\n",
    "    all_tokens = []\n",
    "    all_labels = []\n",
    "    for datum in data:\n",
    "        tokens, labels = zip(*datum)\n",
    "        all_tokens.append(tokens)\n",
    "        all_labels.append(convert_to_iob1(labels))\n",
    "        \n",
    "    return Dataset.from_dict({'tokens': all_tokens, 'labels': all_labels},\n",
    "                             _features)"
   ]
  },
  {
   "cell_type": "markdown",
   "id": "9a6b1038",
   "metadata": {
    "papermill": {
     "duration": 0.138005,
     "end_time": "2022-04-09T11:05:20.013107",
     "exception": false,
     "start_time": "2022-04-09T11:05:19.875102",
     "status": "completed"
    },
    "tags": []
   },
   "source": [
    "Then we can wrap it all together to get the datasets."
   ]
  },
  {
   "cell_type": "code",
   "execution_count": 11,
   "id": "5d838610",
   "metadata": {
    "execution": {
     "iopub.execute_input": "2022-04-09T11:05:20.292308Z",
     "iopub.status.busy": "2022-04-09T11:05:20.291480Z",
     "iopub.status.idle": "2022-04-09T11:05:25.110195Z",
     "shell.execute_reply": "2022-04-09T11:05:25.109715Z",
     "shell.execute_reply.started": "2022-04-09T09:38:07.460620Z"
    },
    "papermill": {
     "duration": 4.959858,
     "end_time": "2022-04-09T11:05:25.110325",
     "exception": false,
     "start_time": "2022-04-09T11:05:20.150467",
     "status": "completed"
    },
    "tags": []
   },
   "outputs": [],
   "source": [
    "from datasets import DatasetDict\n",
    "\n",
    "data = {source: DatasetDict({split: convert_to_dataset(get_text(source, split)) for split in data_splits}) for source in data_sources}"
   ]
  },
  {
   "cell_type": "code",
   "execution_count": 12,
   "id": "a4b3c605",
   "metadata": {
    "execution": {
     "iopub.execute_input": "2022-04-09T11:05:25.387677Z",
     "iopub.status.busy": "2022-04-09T11:05:25.386485Z",
     "iopub.status.idle": "2022-04-09T11:05:25.390426Z",
     "shell.execute_reply": "2022-04-09T11:05:25.390001Z",
     "shell.execute_reply.started": "2022-04-09T09:38:09.321778Z"
    },
    "papermill": {
     "duration": 0.145601,
     "end_time": "2022-04-09T11:05:25.390531",
     "exception": false,
     "start_time": "2022-04-09T11:05:25.244930",
     "status": "completed"
    },
    "tags": []
   },
   "outputs": [
    {
     "data": {
      "text/plain": [
       "{'tokens': ['2',\n",
       "  'cups',\n",
       "  'cooked',\n",
       "  'corned',\n",
       "  'beef',\n",
       "  '-LRB-',\n",
       "  'or',\n",
       "  'canned',\n",
       "  '-RRB-'],\n",
       " 'labels': [1, 2, 3, 3, 4, 0, 0, 0, 0]}"
      ]
     },
     "execution_count": 12,
     "metadata": {},
     "output_type": "execute_result"
    }
   ],
   "source": [
    "data['gk']['train'][0]"
   ]
  },
  {
   "cell_type": "markdown",
   "id": "9f8a9923",
   "metadata": {
    "papermill": {
     "duration": 0.136223,
     "end_time": "2022-04-09T11:05:25.663427",
     "exception": false,
     "start_time": "2022-04-09T11:05:25.527204",
     "status": "completed"
    },
    "tags": []
   },
   "source": [
    "We can reproduce Table III from the paper on Dataset Sizes"
   ]
  },
  {
   "cell_type": "code",
   "execution_count": 13,
   "id": "628d1b39",
   "metadata": {
    "execution": {
     "iopub.execute_input": "2022-04-09T11:05:25.965278Z",
     "iopub.status.busy": "2022-04-09T11:05:25.964414Z",
     "iopub.status.idle": "2022-04-09T11:05:26.001587Z",
     "shell.execute_reply": "2022-04-09T11:05:26.006898Z",
     "shell.execute_reply.started": "2022-04-09T09:38:09.338187Z"
    },
    "papermill": {
     "duration": 0.208955,
     "end_time": "2022-04-09T11:05:26.007250",
     "exception": false,
     "start_time": "2022-04-09T11:05:25.798295",
     "status": "completed"
    },
    "tags": []
   },
   "outputs": [
    {
     "data": {
      "text/html": [
       "<div>\n",
       "<style scoped>\n",
       "    .dataframe tbody tr th:only-of-type {\n",
       "        vertical-align: middle;\n",
       "    }\n",
       "\n",
       "    .dataframe tbody tr th {\n",
       "        vertical-align: top;\n",
       "    }\n",
       "\n",
       "    .dataframe thead th {\n",
       "        text-align: right;\n",
       "    }\n",
       "</style>\n",
       "<table border=\"1\" class=\"dataframe\">\n",
       "  <thead>\n",
       "    <tr style=\"text-align: right;\">\n",
       "      <th>source</th>\n",
       "      <th>ar</th>\n",
       "      <th>gk</th>\n",
       "      <th>both</th>\n",
       "    </tr>\n",
       "    <tr>\n",
       "      <th>split</th>\n",
       "      <th></th>\n",
       "      <th></th>\n",
       "      <th></th>\n",
       "    </tr>\n",
       "  </thead>\n",
       "  <tbody>\n",
       "    <tr>\n",
       "      <th>train</th>\n",
       "      <td>1470</td>\n",
       "      <td>5142</td>\n",
       "      <td>6612</td>\n",
       "    </tr>\n",
       "    <tr>\n",
       "      <th>test</th>\n",
       "      <td>483</td>\n",
       "      <td>1705</td>\n",
       "      <td>2188</td>\n",
       "    </tr>\n",
       "  </tbody>\n",
       "</table>\n",
       "</div>"
      ],
      "text/plain": [
       "source    ar    gk  both\n",
       "split                   \n",
       "train   1470  5142  6612\n",
       "test     483  1705  2188"
      ]
     },
     "execution_count": 13,
     "metadata": {},
     "output_type": "execute_result"
    }
   ],
   "source": [
    "import pandas as pd\n",
    "\n",
    "(\n",
    "    pd.DataFrame(\n",
    "        [(source, split, len(datum)) for source, source_data in data.items() for split, datum in source_data.items()],\n",
    "        columns=['source', 'split', 'n'])\n",
    "    .pivot(index='split', columns='source', values='n')\n",
    "    .sort_values('ar', ascending=False)\n",
    "    .assign(both = lambda _: _.sum(axis=1))\n",
    ")"
   ]
  },
  {
   "cell_type": "markdown",
   "id": "ef6103d0",
   "metadata": {
    "papermill": {
     "duration": 0.219919,
     "end_time": "2022-04-09T11:05:26.463885",
     "exception": false,
     "start_time": "2022-04-09T11:05:26.243966",
     "status": "completed"
    },
    "tags": []
   },
   "source": [
    "## Creating Validation Splits\n",
    "\n",
    "The paper did not have a separate validation split, so let us create one."
   ]
  },
  {
   "cell_type": "code",
   "execution_count": 14,
   "id": "7188d856",
   "metadata": {
    "execution": {
     "iopub.execute_input": "2022-04-09T11:05:26.758819Z",
     "iopub.status.busy": "2022-04-09T11:05:26.757998Z",
     "iopub.status.idle": "2022-04-09T11:05:26.773318Z",
     "shell.execute_reply": "2022-04-09T11:05:26.772852Z",
     "shell.execute_reply.started": "2022-04-09T09:38:09.382102Z"
    },
    "papermill": {
     "duration": 0.156643,
     "end_time": "2022-04-09T11:05:26.773444",
     "exception": false,
     "start_time": "2022-04-09T11:05:26.616801",
     "status": "completed"
    },
    "tags": []
   },
   "outputs": [],
   "source": [
    "val_size = 0.2\n",
    "seed = 42\n",
    "\n",
    "for source in data:\n",
    "    if 'validation' not in data[source]:\n",
    "        train_val = data[source]['train'].train_test_split(test_size=val_size, seed=seed)\n",
    "        data[source]['train'] = train_val['train']\n",
    "        data[source]['validation'] = train_val['test']"
   ]
  },
  {
   "cell_type": "code",
   "execution_count": 15,
   "id": "9633eb10",
   "metadata": {
    "execution": {
     "iopub.execute_input": "2022-04-09T11:05:27.068275Z",
     "iopub.status.busy": "2022-04-09T11:05:27.067291Z",
     "iopub.status.idle": "2022-04-09T11:05:27.076558Z",
     "shell.execute_reply": "2022-04-09T11:05:27.077016Z",
     "shell.execute_reply.started": "2022-04-09T09:38:09.408057Z"
    },
    "papermill": {
     "duration": 0.161337,
     "end_time": "2022-04-09T11:05:27.077153",
     "exception": false,
     "start_time": "2022-04-09T11:05:26.915816",
     "status": "completed"
    },
    "tags": []
   },
   "outputs": [
    {
     "data": {
      "text/html": [
       "<div>\n",
       "<style scoped>\n",
       "    .dataframe tbody tr th:only-of-type {\n",
       "        vertical-align: middle;\n",
       "    }\n",
       "\n",
       "    .dataframe tbody tr th {\n",
       "        vertical-align: top;\n",
       "    }\n",
       "\n",
       "    .dataframe thead th {\n",
       "        text-align: right;\n",
       "    }\n",
       "</style>\n",
       "<table border=\"1\" class=\"dataframe\">\n",
       "  <thead>\n",
       "    <tr style=\"text-align: right;\">\n",
       "      <th>source</th>\n",
       "      <th>ar</th>\n",
       "      <th>gk</th>\n",
       "      <th>both</th>\n",
       "    </tr>\n",
       "    <tr>\n",
       "      <th>split</th>\n",
       "      <th></th>\n",
       "      <th></th>\n",
       "      <th></th>\n",
       "    </tr>\n",
       "  </thead>\n",
       "  <tbody>\n",
       "    <tr>\n",
       "      <th>train</th>\n",
       "      <td>1176</td>\n",
       "      <td>4113</td>\n",
       "      <td>5289</td>\n",
       "    </tr>\n",
       "    <tr>\n",
       "      <th>test</th>\n",
       "      <td>483</td>\n",
       "      <td>1705</td>\n",
       "      <td>2188</td>\n",
       "    </tr>\n",
       "    <tr>\n",
       "      <th>validation</th>\n",
       "      <td>294</td>\n",
       "      <td>1029</td>\n",
       "      <td>1323</td>\n",
       "    </tr>\n",
       "  </tbody>\n",
       "</table>\n",
       "</div>"
      ],
      "text/plain": [
       "source        ar    gk  both\n",
       "split                       \n",
       "train       1176  4113  5289\n",
       "test         483  1705  2188\n",
       "validation   294  1029  1323"
      ]
     },
     "execution_count": 15,
     "metadata": {},
     "output_type": "execute_result"
    }
   ],
   "source": [
    "(\n",
    "    pd.DataFrame(\n",
    "        [(source, split, len(datum)) for source, source_data in data.items() for split, datum in source_data.items()],\n",
    "        columns=['source', 'split', 'n'])\n",
    "    .pivot(index='split', columns='source', values='n')\n",
    "    .sort_values('ar', ascending=False)\n",
    "    .assign(both = lambda _: _.sum(axis=1))\n",
    ")"
   ]
  },
  {
   "cell_type": "markdown",
   "id": "79ff9160",
   "metadata": {
    "papermill": {
     "duration": 0.135811,
     "end_time": "2022-04-09T11:05:27.350175",
     "exception": false,
     "start_time": "2022-04-09T11:05:27.214364",
     "status": "completed"
    },
    "tags": []
   },
   "source": [
    "# Examining data"
   ]
  },
  {
   "cell_type": "markdown",
   "id": "3d6571fe",
   "metadata": {
    "papermill": {
     "duration": 0.138357,
     "end_time": "2022-04-09T11:05:27.626714",
     "exception": false,
     "start_time": "2022-04-09T11:05:27.488357",
     "status": "completed"
    },
    "tags": []
   },
   "source": [
    "## Tags"
   ]
  },
  {
   "cell_type": "code",
   "execution_count": 16,
   "id": "728f4e1e",
   "metadata": {
    "execution": {
     "iopub.execute_input": "2022-04-09T11:05:27.904560Z",
     "iopub.status.busy": "2022-04-09T11:05:27.903722Z",
     "iopub.status.idle": "2022-04-09T11:05:27.906061Z",
     "shell.execute_reply": "2022-04-09T11:05:27.905504Z",
     "shell.execute_reply.started": "2022-04-09T09:38:09.432052Z"
    },
    "papermill": {
     "duration": 0.143642,
     "end_time": "2022-04-09T11:05:27.906171",
     "exception": false,
     "start_time": "2022-04-09T11:05:27.762529",
     "status": "completed"
    },
    "tags": []
   },
   "outputs": [],
   "source": [
    "tag_feature = data['gk']['train'].features['labels'].feature"
   ]
  },
  {
   "cell_type": "markdown",
   "id": "707463c4",
   "metadata": {
    "papermill": {
     "duration": 0.136788,
     "end_time": "2022-04-09T11:05:28.182106",
     "exception": false,
     "start_time": "2022-04-09T11:05:28.045318",
     "status": "completed"
    },
    "tags": []
   },
   "source": [
    "We need a little helper function to convert the integer labels into a Pandas categorical dtype."
   ]
  },
  {
   "cell_type": "code",
   "execution_count": 17,
   "id": "4728b2af",
   "metadata": {
    "execution": {
     "iopub.execute_input": "2022-04-09T11:05:28.473871Z",
     "iopub.status.busy": "2022-04-09T11:05:28.473239Z",
     "iopub.status.idle": "2022-04-09T11:05:28.477347Z",
     "shell.execute_reply": "2022-04-09T11:05:28.476892Z",
     "shell.execute_reply.started": "2022-04-09T09:38:09.440464Z"
    },
    "papermill": {
     "duration": 0.157133,
     "end_time": "2022-04-09T11:05:28.477468",
     "exception": false,
     "start_time": "2022-04-09T11:05:28.320335",
     "status": "completed"
    },
    "tags": []
   },
   "outputs": [],
   "source": [
    "def convert_int_to_categorical(df: pd.DataFrame, col_name: str, names: List[str], copy=True) -> pd.DataFrame:\n",
    "    if copy:\n",
    "        df = df.copy()\n",
    "    int2str = dict(enumerate(names))\n",
    "    df[col_name] = df[col_name].map(int2str)\n",
    "    df[col_name] = pd.Categorical(df[col_name], categories=names)\n",
    "    return df"
   ]
  },
  {
   "cell_type": "code",
   "execution_count": 18,
   "id": "892f3746",
   "metadata": {
    "execution": {
     "iopub.execute_input": "2022-04-09T11:05:28.764227Z",
     "iopub.status.busy": "2022-04-09T11:05:28.763415Z",
     "iopub.status.idle": "2022-04-09T11:05:29.312292Z",
     "shell.execute_reply": "2022-04-09T11:05:29.312729Z",
     "shell.execute_reply.started": "2022-04-09T09:38:09.452273Z"
    },
    "papermill": {
     "duration": 0.691213,
     "end_time": "2022-04-09T11:05:29.312881",
     "exception": false,
     "start_time": "2022-04-09T11:05:28.621668",
     "status": "completed"
    },
    "tags": []
   },
   "outputs": [
    {
     "data": {
      "text/html": [
       "<div>\n",
       "<style scoped>\n",
       "    .dataframe tbody tr th:only-of-type {\n",
       "        vertical-align: middle;\n",
       "    }\n",
       "\n",
       "    .dataframe tbody tr th {\n",
       "        vertical-align: top;\n",
       "    }\n",
       "\n",
       "    .dataframe thead th {\n",
       "        text-align: right;\n",
       "    }\n",
       "</style>\n",
       "<table border=\"1\" class=\"dataframe\">\n",
       "  <thead>\n",
       "    <tr style=\"text-align: right;\">\n",
       "      <th></th>\n",
       "      <th>index</th>\n",
       "      <th>tokens</th>\n",
       "      <th>labels</th>\n",
       "      <th>source</th>\n",
       "    </tr>\n",
       "  </thead>\n",
       "  <tbody>\n",
       "    <tr>\n",
       "      <th>0</th>\n",
       "      <td>0</td>\n",
       "      <td>1</td>\n",
       "      <td>I-QUANTITY</td>\n",
       "      <td>ar</td>\n",
       "    </tr>\n",
       "    <tr>\n",
       "      <th>1</th>\n",
       "      <td>0</td>\n",
       "      <td>teaspoon</td>\n",
       "      <td>I-UNIT</td>\n",
       "      <td>ar</td>\n",
       "    </tr>\n",
       "    <tr>\n",
       "      <th>2</th>\n",
       "      <td>0</td>\n",
       "      <td>ground</td>\n",
       "      <td>I-STATE</td>\n",
       "      <td>ar</td>\n",
       "    </tr>\n",
       "    <tr>\n",
       "      <th>3</th>\n",
       "      <td>0</td>\n",
       "      <td>mace</td>\n",
       "      <td>I-NAME</td>\n",
       "      <td>ar</td>\n",
       "    </tr>\n",
       "    <tr>\n",
       "      <th>4</th>\n",
       "      <td>1</td>\n",
       "      <td>1/2</td>\n",
       "      <td>I-QUANTITY</td>\n",
       "      <td>ar</td>\n",
       "    </tr>\n",
       "  </tbody>\n",
       "</table>\n",
       "</div>"
      ],
      "text/plain": [
       "   index    tokens      labels source\n",
       "0      0         1  I-QUANTITY     ar\n",
       "1      0  teaspoon      I-UNIT     ar\n",
       "2      0    ground     I-STATE     ar\n",
       "3      0      mace      I-NAME     ar\n",
       "4      1       1/2  I-QUANTITY     ar"
      ]
     },
     "execution_count": 18,
     "metadata": {},
     "output_type": "execute_result"
    }
   ],
   "source": [
    "df_train = (pd.concat([pd.DataFrame(data[source]['train']).assign(source=source) for source in data_sources],\n",
    "                      ignore_index=True)\n",
    "            .apply(lambda _: _.explode())\n",
    "            .pipe(convert_int_to_categorical, 'labels', tag_feature.names)\n",
    "            .reset_index()\n",
    "           )\n",
    "\n",
    "df_train.head()"
   ]
  },
  {
   "cell_type": "markdown",
   "id": "680d831c",
   "metadata": {
    "papermill": {
     "duration": 0.136536,
     "end_time": "2022-04-09T11:05:29.587555",
     "exception": false,
     "start_time": "2022-04-09T11:05:29.451019",
     "status": "completed"
    },
    "tags": []
   },
   "source": [
    "## How frequent are the tags?"
   ]
  },
  {
   "cell_type": "code",
   "execution_count": 19,
   "id": "4adc0264",
   "metadata": {
    "execution": {
     "iopub.execute_input": "2022-04-09T11:05:29.875101Z",
     "iopub.status.busy": "2022-04-09T11:05:29.874360Z",
     "iopub.status.idle": "2022-04-09T11:05:29.892892Z",
     "shell.execute_reply": "2022-04-09T11:05:29.892387Z",
     "shell.execute_reply.started": "2022-04-09T09:38:10.258291Z"
    },
    "papermill": {
     "duration": 0.168625,
     "end_time": "2022-04-09T11:05:29.893018",
     "exception": false,
     "start_time": "2022-04-09T11:05:29.724393",
     "status": "completed"
    },
    "tags": []
   },
   "outputs": [
    {
     "data": {
      "text/html": [
       "<div>\n",
       "<style scoped>\n",
       "    .dataframe tbody tr th:only-of-type {\n",
       "        vertical-align: middle;\n",
       "    }\n",
       "\n",
       "    .dataframe tbody tr th {\n",
       "        vertical-align: top;\n",
       "    }\n",
       "\n",
       "    .dataframe thead th {\n",
       "        text-align: right;\n",
       "    }\n",
       "</style>\n",
       "<table border=\"1\" class=\"dataframe\">\n",
       "  <thead>\n",
       "    <tr style=\"text-align: right;\">\n",
       "      <th>source</th>\n",
       "      <th>ar</th>\n",
       "      <th>gk</th>\n",
       "    </tr>\n",
       "    <tr>\n",
       "      <th>labels</th>\n",
       "      <th></th>\n",
       "      <th></th>\n",
       "    </tr>\n",
       "  </thead>\n",
       "  <tbody>\n",
       "    <tr>\n",
       "      <th>I-NAME</th>\n",
       "      <td>2006</td>\n",
       "      <td>6801</td>\n",
       "    </tr>\n",
       "    <tr>\n",
       "      <th>O</th>\n",
       "      <td>1349</td>\n",
       "      <td>6658</td>\n",
       "    </tr>\n",
       "    <tr>\n",
       "      <th>I-QUANTITY</th>\n",
       "      <td>1273</td>\n",
       "      <td>3914</td>\n",
       "    </tr>\n",
       "    <tr>\n",
       "      <th>I-UNIT</th>\n",
       "      <td>1085</td>\n",
       "      <td>3257</td>\n",
       "    </tr>\n",
       "    <tr>\n",
       "      <th>I-STATE</th>\n",
       "      <td>706</td>\n",
       "      <td>1885</td>\n",
       "    </tr>\n",
       "    <tr>\n",
       "      <th>I-DF</th>\n",
       "      <td>127</td>\n",
       "      <td>358</td>\n",
       "    </tr>\n",
       "    <tr>\n",
       "      <th>I-SIZE</th>\n",
       "      <td>47</td>\n",
       "      <td>247</td>\n",
       "    </tr>\n",
       "    <tr>\n",
       "      <th>I-TEMP</th>\n",
       "      <td>26</td>\n",
       "      <td>91</td>\n",
       "    </tr>\n",
       "  </tbody>\n",
       "</table>\n",
       "</div>"
      ],
      "text/plain": [
       "source        ar    gk\n",
       "labels                \n",
       "I-NAME      2006  6801\n",
       "O           1349  6658\n",
       "I-QUANTITY  1273  3914\n",
       "I-UNIT      1085  3257\n",
       "I-STATE      706  1885\n",
       "I-DF         127   358\n",
       "I-SIZE        47   247\n",
       "I-TEMP        26    91"
      ]
     },
     "execution_count": 19,
     "metadata": {},
     "output_type": "execute_result"
    }
   ],
   "source": [
    "df_tag_count = (\n",
    "    df_train\n",
    "    .groupby(['source', 'labels'])\n",
    "    .agg(n=('index', 'count'))\n",
    "    .reset_index()\n",
    "    .pivot('labels', 'source', 'n')\n",
    "    .sort_values(data_sources[0], ascending=False)\n",
    ")\n",
    "df_tag_count"
   ]
  },
  {
   "cell_type": "markdown",
   "id": "309d6b96",
   "metadata": {
    "papermill": {
     "duration": 0.137226,
     "end_time": "2022-04-09T11:05:30.176707",
     "exception": false,
     "start_time": "2022-04-09T11:05:30.039481",
     "status": "completed"
    },
    "tags": []
   },
   "source": [
    "We can see TEMP, SIZE and DF (Dried/Fresh) are pretty uncommon and it will be hard to do well on them."
   ]
  },
  {
   "cell_type": "code",
   "execution_count": 20,
   "id": "305227d3",
   "metadata": {
    "execution": {
     "iopub.execute_input": "2022-04-09T11:05:30.464999Z",
     "iopub.status.busy": "2022-04-09T11:05:30.464293Z",
     "iopub.status.idle": "2022-04-09T11:05:30.740195Z",
     "shell.execute_reply": "2022-04-09T11:05:30.740558Z",
     "shell.execute_reply.started": "2022-04-09T09:38:10.293823Z"
    },
    "papermill": {
     "duration": 0.426949,
     "end_time": "2022-04-09T11:05:30.740723",
     "exception": false,
     "start_time": "2022-04-09T11:05:30.313774",
     "status": "completed"
    },
    "tags": []
   },
   "outputs": [
    {
     "data": {
      "text/plain": [
       "<AxesSubplot:ylabel='labels'>"
      ]
     },
     "execution_count": 20,
     "metadata": {},
     "output_type": "execute_result"
    },
    {
     "data": {
      "image/png": "[encoded data removed]",
      "text/plain": [
       "<Figure size 432x288 with 1 Axes>"
      ]
     },
     "metadata": {
      "needs_background": "light"
     },
     "output_type": "display_data"
    }
   ],
   "source": [
    "df_tag_count.plot.barh()"
   ]
  },
  {
   "cell_type": "markdown",
   "id": "7ee9c4f9",
   "metadata": {
    "papermill": {
     "duration": 0.138048,
     "end_time": "2022-04-09T11:05:31.016922",
     "exception": false,
     "start_time": "2022-04-09T11:05:30.878874",
     "status": "completed"
    },
    "tags": []
   },
   "source": [
    "Another way to view it is how many sentences have each kind of tag,\n",
    "\n",
    "Almost every exmaple has a name (as it should)"
   ]
  },
  {
   "cell_type": "code",
   "execution_count": 21,
   "id": "ff0e4514",
   "metadata": {
    "execution": {
     "iopub.execute_input": "2022-04-09T11:05:31.307475Z",
     "iopub.status.busy": "2022-04-09T11:05:31.306533Z",
     "iopub.status.idle": "2022-04-09T11:05:31.376906Z",
     "shell.execute_reply": "2022-04-09T11:05:31.377288Z",
     "shell.execute_reply.started": "2022-04-09T09:38:10.656076Z"
    },
    "papermill": {
     "duration": 0.221732,
     "end_time": "2022-04-09T11:05:31.377429",
     "exception": false,
     "start_time": "2022-04-09T11:05:31.155697",
     "status": "completed"
    },
    "tags": []
   },
   "outputs": [
    {
     "data": {
      "text/html": [
       "<style type=\"text/css\">\n",
       "</style>\n",
       "<table id=\"T_1e940_\">\n",
       "  <thead>\n",
       "    <tr>\n",
       "      <th class=\"index_name level0\" >source</th>\n",
       "      <th class=\"col_heading level0 col0\" >ar</th>\n",
       "      <th class=\"col_heading level0 col1\" >gk</th>\n",
       "    </tr>\n",
       "    <tr>\n",
       "      <th class=\"index_name level0\" >labels</th>\n",
       "      <th class=\"blank col0\" >&nbsp;</th>\n",
       "      <th class=\"blank col1\" >&nbsp;</th>\n",
       "    </tr>\n",
       "  </thead>\n",
       "  <tbody>\n",
       "    <tr>\n",
       "      <th id=\"T_1e940_level0_row0\" class=\"row_heading level0 row0\" >I-NAME</th>\n",
       "      <td id=\"T_1e940_row0_col0\" class=\"data row0 col0\" >99.4%</td>\n",
       "      <td id=\"T_1e940_row0_col1\" class=\"data row0 col1\" >99.6%</td>\n",
       "    </tr>\n",
       "    <tr>\n",
       "      <th id=\"T_1e940_level0_row1\" class=\"row_heading level0 row1\" >I-QUANTITY</th>\n",
       "      <td id=\"T_1e940_row1_col0\" class=\"data row1 col0\" >97.8%</td>\n",
       "      <td id=\"T_1e940_row1_col1\" class=\"data row1 col1\" >93.6%</td>\n",
       "    </tr>\n",
       "    <tr>\n",
       "      <th id=\"T_1e940_level0_row2\" class=\"row_heading level0 row2\" >I-UNIT</th>\n",
       "      <td id=\"T_1e940_row2_col0\" class=\"data row2 col0\" >81.8%</td>\n",
       "      <td id=\"T_1e940_row2_col1\" class=\"data row2 col1\" >77.8%</td>\n",
       "    </tr>\n",
       "    <tr>\n",
       "      <th id=\"T_1e940_level0_row3\" class=\"row_heading level0 row3\" >I-STATE</th>\n",
       "      <td id=\"T_1e940_row3_col0\" class=\"data row3 col0\" >48.0%</td>\n",
       "      <td id=\"T_1e940_row3_col1\" class=\"data row3 col1\" >38.4%</td>\n",
       "    </tr>\n",
       "    <tr>\n",
       "      <th id=\"T_1e940_level0_row4\" class=\"row_heading level0 row4\" >O</th>\n",
       "      <td id=\"T_1e940_row4_col0\" class=\"data row4 col0\" >43.9%</td>\n",
       "      <td id=\"T_1e940_row4_col1\" class=\"data row4 col1\" >45.9%</td>\n",
       "    </tr>\n",
       "    <tr>\n",
       "      <th id=\"T_1e940_level0_row5\" class=\"row_heading level0 row5\" >I-DF</th>\n",
       "      <td id=\"T_1e940_row5_col0\" class=\"data row5 col0\" >10.8%</td>\n",
       "      <td id=\"T_1e940_row5_col1\" class=\"data row5 col1\" >8.6%</td>\n",
       "    </tr>\n",
       "    <tr>\n",
       "      <th id=\"T_1e940_level0_row6\" class=\"row_heading level0 row6\" >I-SIZE</th>\n",
       "      <td id=\"T_1e940_row6_col0\" class=\"data row6 col0\" >3.9%</td>\n",
       "      <td id=\"T_1e940_row6_col1\" class=\"data row6 col1\" >6.0%</td>\n",
       "    </tr>\n",
       "    <tr>\n",
       "      <th id=\"T_1e940_level0_row7\" class=\"row_heading level0 row7\" >I-TEMP</th>\n",
       "      <td id=\"T_1e940_row7_col0\" class=\"data row7 col0\" >2.0%</td>\n",
       "      <td id=\"T_1e940_row7_col1\" class=\"data row7 col1\" >2.2%</td>\n",
       "    </tr>\n",
       "  </tbody>\n",
       "</table>\n"
      ],
      "text/plain": [
       "<pandas.io.formats.style.Styler at 0x7f3a8ea27b50>"
      ]
     },
     "execution_count": 21,
     "metadata": {},
     "output_type": "execute_result"
    }
   ],
   "source": [
    "df_tag_sentence_count = (\n",
    "    df_train\n",
    "    .groupby(['source', 'labels'])\n",
    "    .agg(n=('index', 'nunique'))\n",
    "    .reset_index()\n",
    "    .pivot('labels', 'source', 'n')\n",
    "    .sort_values(data_sources[0], ascending=False)\n",
    ")\n",
    "\n",
    "source_sentence_count = df_train.groupby('source').index.nunique()\n",
    "\n",
    "(df_tag_sentence_count / source_sentence_count).style.format('{:0.1%}')"
   ]
  },
  {
   "cell_type": "code",
   "execution_count": 22,
   "id": "fda40d8a",
   "metadata": {
    "execution": {
     "iopub.execute_input": "2022-04-09T11:05:31.679709Z",
     "iopub.status.busy": "2022-04-09T11:05:31.678800Z",
     "iopub.status.idle": "2022-04-09T11:05:31.907526Z",
     "shell.execute_reply": "2022-04-09T11:05:31.907096Z",
     "shell.execute_reply.started": "2022-04-09T09:38:10.757925Z"
    },
    "papermill": {
     "duration": 0.390229,
     "end_time": "2022-04-09T11:05:31.907661",
     "exception": false,
     "start_time": "2022-04-09T11:05:31.517432",
     "status": "completed"
    },
    "tags": []
   },
   "outputs": [
    {
     "data": {
      "text/plain": [
       "<AxesSubplot:ylabel='labels'>"
      ]
     },
     "execution_count": 22,
     "metadata": {},
     "output_type": "execute_result"
    },
    {
     "data": {
      "image/png": "[encoded data removed]",
      "text/plain": [
       "<Figure size 432x288 with 1 Axes>"
      ]
     },
     "metadata": {
      "needs_background": "light"
     },
     "output_type": "display_data"
    }
   ],
   "source": [
    "(df_tag_sentence_count / source_sentence_count).plot.barh()"
   ]
  },
  {
   "cell_type": "code",
   "execution_count": 23,
   "id": "492bdf2f",
   "metadata": {
    "execution": {
     "iopub.execute_input": "2022-04-09T11:05:32.195517Z",
     "iopub.status.busy": "2022-04-09T11:05:32.194738Z",
     "iopub.status.idle": "2022-04-09T11:05:32.204343Z",
     "shell.execute_reply": "2022-04-09T11:05:32.203909Z",
     "shell.execute_reply.started": "2022-04-09T09:38:11.066909Z"
    },
    "papermill": {
     "duration": 0.15591,
     "end_time": "2022-04-09T11:05:32.204452",
     "exception": false,
     "start_time": "2022-04-09T11:05:32.048542",
     "status": "completed"
    },
    "tags": []
   },
   "outputs": [],
   "source": [
    "name_counts = df_train.assign(is_name=lambda _: _.labels=='I-NAME').groupby('index')['is_name'].sum()\n",
    "\n",
    "df_train_no_name = df_train[df_train['index'].isin(name_counts[name_counts==0].index)]"
   ]
  },
  {
   "cell_type": "markdown",
   "id": "9318d98d",
   "metadata": {
    "papermill": {
     "duration": 0.154878,
     "end_time": "2022-04-09T11:05:32.500814",
     "exception": false,
     "start_time": "2022-04-09T11:05:32.345936",
     "status": "completed"
    },
    "tags": []
   },
   "source": [
    "It seems in each of the examples with a missing NAME tag there is an annotation error; e.g.\n",
    "\n",
    "* 118: zuchhinis should be NAME\n",
    "* 203: thyme should be NAME\n",
    "* 698: sake should be NAME\n",
    "* 839: pecans should be NAME\n",
    "* 896: No NAME here, but 12-inch is not a quantitiy."
   ]
  },
  {
   "cell_type": "code",
   "execution_count": 24,
   "id": "6e0b4b3d",
   "metadata": {
    "execution": {
     "iopub.execute_input": "2022-04-09T11:05:32.866738Z",
     "iopub.status.busy": "2022-04-09T11:05:32.866121Z",
     "iopub.status.idle": "2022-04-09T11:05:32.910117Z",
     "shell.execute_reply": "2022-04-09T11:05:32.910580Z",
     "shell.execute_reply.started": "2022-04-09T09:38:11.088306Z"
    },
    "papermill": {
     "duration": 0.202673,
     "end_time": "2022-04-09T11:05:32.910748",
     "exception": false,
     "start_time": "2022-04-09T11:05:32.708075",
     "status": "completed"
    },
    "tags": []
   },
   "outputs": [
    {
     "name": "stdout",
     "output_type": "stream",
     "text": [
      "ar 118\n"
     ]
    },
    {
     "data": {
      "text/html": [
       "<div>\n",
       "<style scoped>\n",
       "    .dataframe tbody tr th:only-of-type {\n",
       "        vertical-align: middle;\n",
       "    }\n",
       "\n",
       "    .dataframe tbody tr th {\n",
       "        vertical-align: top;\n",
       "    }\n",
       "\n",
       "    .dataframe thead th {\n",
       "        text-align: right;\n",
       "    }\n",
       "</style>\n",
       "<table border=\"1\" class=\"dataframe\">\n",
       "  <thead>\n",
       "    <tr style=\"text-align: right;\">\n",
       "      <th></th>\n",
       "      <th>0</th>\n",
       "      <th>1</th>\n",
       "      <th>2</th>\n",
       "      <th>3</th>\n",
       "      <th>4</th>\n",
       "      <th>5</th>\n",
       "      <th>6</th>\n",
       "      <th>7</th>\n",
       "    </tr>\n",
       "  </thead>\n",
       "  <tbody>\n",
       "    <tr>\n",
       "      <th>tokens</th>\n",
       "      <td>2</td>\n",
       "      <td>zucchinis</td>\n",
       "      <td>,</td>\n",
       "      <td>cut</td>\n",
       "      <td>into</td>\n",
       "      <td>4</td>\n",
       "      <td>large</td>\n",
       "      <td>chunks</td>\n",
       "    </tr>\n",
       "    <tr>\n",
       "      <th>tags</th>\n",
       "      <td>I-QUANTITY</td>\n",
       "      <td>O</td>\n",
       "      <td>O</td>\n",
       "      <td>I-STATE</td>\n",
       "      <td>O</td>\n",
       "      <td>O</td>\n",
       "      <td>I-SIZE</td>\n",
       "      <td>O</td>\n",
       "    </tr>\n",
       "  </tbody>\n",
       "</table>\n",
       "</div>"
      ],
      "text/plain": [
       "                 0          1  2        3     4  5       6       7\n",
       "tokens           2  zucchinis  ,      cut  into  4   large  chunks\n",
       "tags    I-QUANTITY          O  O  I-STATE     O  O  I-SIZE       O"
      ]
     },
     "metadata": {},
     "output_type": "display_data"
    },
    {
     "name": "stdout",
     "output_type": "stream",
     "text": [
      "ar 203\n"
     ]
    },
    {
     "data": {
      "text/html": [
       "<div>\n",
       "<style scoped>\n",
       "    .dataframe tbody tr th:only-of-type {\n",
       "        vertical-align: middle;\n",
       "    }\n",
       "\n",
       "    .dataframe tbody tr th {\n",
       "        vertical-align: top;\n",
       "    }\n",
       "\n",
       "    .dataframe thead th {\n",
       "        text-align: right;\n",
       "    }\n",
       "</style>\n",
       "<table border=\"1\" class=\"dataframe\">\n",
       "  <thead>\n",
       "    <tr style=\"text-align: right;\">\n",
       "      <th></th>\n",
       "      <th>0</th>\n",
       "      <th>1</th>\n",
       "      <th>2</th>\n",
       "      <th>3</th>\n",
       "    </tr>\n",
       "  </thead>\n",
       "  <tbody>\n",
       "    <tr>\n",
       "      <th>tokens</th>\n",
       "      <td>1/4</td>\n",
       "      <td>teaspoon</td>\n",
       "      <td>dried</td>\n",
       "      <td>thyme</td>\n",
       "    </tr>\n",
       "    <tr>\n",
       "      <th>tags</th>\n",
       "      <td>I-QUANTITY</td>\n",
       "      <td>I-UNIT</td>\n",
       "      <td>I-DF</td>\n",
       "      <td>O</td>\n",
       "    </tr>\n",
       "  </tbody>\n",
       "</table>\n",
       "</div>"
      ],
      "text/plain": [
       "                 0         1      2      3\n",
       "tokens         1/4  teaspoon  dried  thyme\n",
       "tags    I-QUANTITY    I-UNIT   I-DF      O"
      ]
     },
     "metadata": {},
     "output_type": "display_data"
    },
    {
     "name": "stdout",
     "output_type": "stream",
     "text": [
      "ar 698\n"
     ]
    },
    {
     "data": {
      "text/html": [
       "<div>\n",
       "<style scoped>\n",
       "    .dataframe tbody tr th:only-of-type {\n",
       "        vertical-align: middle;\n",
       "    }\n",
       "\n",
       "    .dataframe tbody tr th {\n",
       "        vertical-align: top;\n",
       "    }\n",
       "\n",
       "    .dataframe thead th {\n",
       "        text-align: right;\n",
       "    }\n",
       "</style>\n",
       "<table border=\"1\" class=\"dataframe\">\n",
       "  <thead>\n",
       "    <tr style=\"text-align: right;\">\n",
       "      <th></th>\n",
       "      <th>0</th>\n",
       "      <th>1</th>\n",
       "      <th>2</th>\n",
       "      <th>3</th>\n",
       "      <th>4</th>\n",
       "      <th>5</th>\n",
       "      <th>6</th>\n",
       "    </tr>\n",
       "  </thead>\n",
       "  <tbody>\n",
       "    <tr>\n",
       "      <th>tokens</th>\n",
       "      <td>3</td>\n",
       "      <td>tablespoons</td>\n",
       "      <td>sake</td>\n",
       "      <td>,</td>\n",
       "      <td>or</td>\n",
       "      <td>to</td>\n",
       "      <td>taste</td>\n",
       "    </tr>\n",
       "    <tr>\n",
       "      <th>tags</th>\n",
       "      <td>I-QUANTITY</td>\n",
       "      <td>I-UNIT</td>\n",
       "      <td>O</td>\n",
       "      <td>O</td>\n",
       "      <td>O</td>\n",
       "      <td>O</td>\n",
       "      <td>O</td>\n",
       "    </tr>\n",
       "  </tbody>\n",
       "</table>\n",
       "</div>"
      ],
      "text/plain": [
       "                 0            1     2  3   4   5      6\n",
       "tokens           3  tablespoons  sake  ,  or  to  taste\n",
       "tags    I-QUANTITY       I-UNIT     O  O   O   O      O"
      ]
     },
     "metadata": {},
     "output_type": "display_data"
    },
    {
     "name": "stdout",
     "output_type": "stream",
     "text": [
      "ar 839\n"
     ]
    },
    {
     "data": {
      "text/html": [
       "<div>\n",
       "<style scoped>\n",
       "    .dataframe tbody tr th:only-of-type {\n",
       "        vertical-align: middle;\n",
       "    }\n",
       "\n",
       "    .dataframe tbody tr th {\n",
       "        vertical-align: top;\n",
       "    }\n",
       "\n",
       "    .dataframe thead th {\n",
       "        text-align: right;\n",
       "    }\n",
       "</style>\n",
       "<table border=\"1\" class=\"dataframe\">\n",
       "  <thead>\n",
       "    <tr style=\"text-align: right;\">\n",
       "      <th></th>\n",
       "      <th>0</th>\n",
       "      <th>1</th>\n",
       "      <th>2</th>\n",
       "      <th>3</th>\n",
       "    </tr>\n",
       "  </thead>\n",
       "  <tbody>\n",
       "    <tr>\n",
       "      <th>tokens</th>\n",
       "      <td>1/2</td>\n",
       "      <td>cup</td>\n",
       "      <td>chopped</td>\n",
       "      <td>pecans</td>\n",
       "    </tr>\n",
       "    <tr>\n",
       "      <th>tags</th>\n",
       "      <td>I-QUANTITY</td>\n",
       "      <td>I-UNIT</td>\n",
       "      <td>I-STATE</td>\n",
       "      <td>I-STATE</td>\n",
       "    </tr>\n",
       "  </tbody>\n",
       "</table>\n",
       "</div>"
      ],
      "text/plain": [
       "                 0       1        2        3\n",
       "tokens         1/2     cup  chopped   pecans\n",
       "tags    I-QUANTITY  I-UNIT  I-STATE  I-STATE"
      ]
     },
     "metadata": {},
     "output_type": "display_data"
    },
    {
     "name": "stdout",
     "output_type": "stream",
     "text": [
      "ar 896\n"
     ]
    },
    {
     "data": {
      "text/html": [
       "<div>\n",
       "<style scoped>\n",
       "    .dataframe tbody tr th:only-of-type {\n",
       "        vertical-align: middle;\n",
       "    }\n",
       "\n",
       "    .dataframe tbody tr th {\n",
       "        vertical-align: top;\n",
       "    }\n",
       "\n",
       "    .dataframe thead th {\n",
       "        text-align: right;\n",
       "    }\n",
       "</style>\n",
       "<table border=\"1\" class=\"dataframe\">\n",
       "  <thead>\n",
       "    <tr style=\"text-align: right;\">\n",
       "      <th></th>\n",
       "      <th>0</th>\n",
       "      <th>1</th>\n",
       "      <th>2</th>\n",
       "      <th>3</th>\n",
       "      <th>4</th>\n",
       "    </tr>\n",
       "  </thead>\n",
       "  <tbody>\n",
       "    <tr>\n",
       "      <th>tokens</th>\n",
       "      <td>4</td>\n",
       "      <td>12-inch</td>\n",
       "      <td>long</td>\n",
       "      <td>metal</td>\n",
       "      <td>skewers</td>\n",
       "    </tr>\n",
       "    <tr>\n",
       "      <th>tags</th>\n",
       "      <td>I-QUANTITY</td>\n",
       "      <td>I-QUANTITY</td>\n",
       "      <td>I-UNIT</td>\n",
       "      <td>O</td>\n",
       "      <td>O</td>\n",
       "    </tr>\n",
       "  </tbody>\n",
       "</table>\n",
       "</div>"
      ],
      "text/plain": [
       "                 0           1       2      3        4\n",
       "tokens           4     12-inch    long  metal  skewers\n",
       "tags    I-QUANTITY  I-QUANTITY  I-UNIT      O        O"
      ]
     },
     "metadata": {},
     "output_type": "display_data"
    }
   ],
   "source": [
    "from itertools import groupby, islice\n",
    "from IPython.display import display\n",
    "\n",
    "n_example = 5\n",
    "\n",
    "groups = groupby((row for idx, row in df_train_no_name.iterrows()), key=lambda row: row['index'])\n",
    "groups = islice(groups, n_example)\n",
    "\n",
    "for idx, group in groups:\n",
    "    index, tokens, tags, source = zip(*group)\n",
    "    print(source[0], idx)\n",
    "    display(pd.DataFrame({'tokens': tokens, 'tags': tags}).T)"
   ]
  },
  {
   "cell_type": "markdown",
   "id": "f455696f",
   "metadata": {
    "papermill": {
     "duration": 0.155258,
     "end_time": "2022-04-09T11:05:33.228776",
     "exception": false,
     "start_time": "2022-04-09T11:05:33.073518",
     "status": "completed"
    },
    "tags": []
   },
   "source": [
    "### Most common tokens per tag\n",
    "\n",
    "For each tag what is the most common tokens and their frequency.\n",
    "\n",
    "I can quickly see some linguistic features (NAME is almost always a noune, STATE almost always a verb).\n",
    "\n",
    "SIZE, DF, TEMP and UNIT could probably be captured using a gazette.\n",
    "QUANTITY could be captured using some rules."
   ]
  },
  {
   "cell_type": "code",
   "execution_count": 25,
   "id": "73aac7bb",
   "metadata": {
    "execution": {
     "iopub.execute_input": "2022-04-09T11:05:33.698399Z",
     "iopub.status.busy": "2022-04-09T11:05:33.697629Z",
     "iopub.status.idle": "2022-04-09T11:05:34.082912Z",
     "shell.execute_reply": "2022-04-09T11:05:34.083909Z",
     "shell.execute_reply.started": "2022-04-09T09:38:11.157885Z"
    },
    "papermill": {
     "duration": 0.624088,
     "end_time": "2022-04-09T11:05:34.084109",
     "exception": false,
     "start_time": "2022-04-09T11:05:33.460021",
     "status": "completed"
    },
    "tags": []
   },
   "outputs": [
    {
     "data": {
      "text/html": [
       "<style type=\"text/css\">\n",
       "</style>\n",
       "<table id=\"T_02713_\">\n",
       "  <thead>\n",
       "    <tr>\n",
       "      <th class=\"blank level0\" >&nbsp;</th>\n",
       "      <th class=\"col_heading level0 col0\" >token_0</th>\n",
       "      <th class=\"col_heading level0 col1\" >token_1</th>\n",
       "      <th class=\"col_heading level0 col2\" >token_2</th>\n",
       "      <th class=\"col_heading level0 col3\" >token_3</th>\n",
       "      <th class=\"col_heading level0 col4\" >token_4</th>\n",
       "      <th class=\"col_heading level0 col5\" >token_5</th>\n",
       "      <th class=\"col_heading level0 col6\" >token_6</th>\n",
       "      <th class=\"col_heading level0 col7\" >token_7</th>\n",
       "      <th class=\"col_heading level0 col8\" >token_8</th>\n",
       "      <th class=\"col_heading level0 col9\" >token_9</th>\n",
       "      <th class=\"col_heading level0 col10\" >prop_0</th>\n",
       "      <th class=\"col_heading level0 col11\" >prop_1</th>\n",
       "      <th class=\"col_heading level0 col12\" >prop_2</th>\n",
       "      <th class=\"col_heading level0 col13\" >prop_3</th>\n",
       "      <th class=\"col_heading level0 col14\" >prop_4</th>\n",
       "      <th class=\"col_heading level0 col15\" >prop_5</th>\n",
       "      <th class=\"col_heading level0 col16\" >prop_6</th>\n",
       "      <th class=\"col_heading level0 col17\" >prop_7</th>\n",
       "      <th class=\"col_heading level0 col18\" >prop_8</th>\n",
       "      <th class=\"col_heading level0 col19\" >prop_9</th>\n",
       "    </tr>\n",
       "    <tr>\n",
       "      <th class=\"index_name level0\" >labels</th>\n",
       "      <th class=\"blank col0\" >&nbsp;</th>\n",
       "      <th class=\"blank col1\" >&nbsp;</th>\n",
       "      <th class=\"blank col2\" >&nbsp;</th>\n",
       "      <th class=\"blank col3\" >&nbsp;</th>\n",
       "      <th class=\"blank col4\" >&nbsp;</th>\n",
       "      <th class=\"blank col5\" >&nbsp;</th>\n",
       "      <th class=\"blank col6\" >&nbsp;</th>\n",
       "      <th class=\"blank col7\" >&nbsp;</th>\n",
       "      <th class=\"blank col8\" >&nbsp;</th>\n",
       "      <th class=\"blank col9\" >&nbsp;</th>\n",
       "      <th class=\"blank col10\" >&nbsp;</th>\n",
       "      <th class=\"blank col11\" >&nbsp;</th>\n",
       "      <th class=\"blank col12\" >&nbsp;</th>\n",
       "      <th class=\"blank col13\" >&nbsp;</th>\n",
       "      <th class=\"blank col14\" >&nbsp;</th>\n",
       "      <th class=\"blank col15\" >&nbsp;</th>\n",
       "      <th class=\"blank col16\" >&nbsp;</th>\n",
       "      <th class=\"blank col17\" >&nbsp;</th>\n",
       "      <th class=\"blank col18\" >&nbsp;</th>\n",
       "      <th class=\"blank col19\" >&nbsp;</th>\n",
       "    </tr>\n",
       "  </thead>\n",
       "  <tbody>\n",
       "    <tr>\n",
       "      <th id=\"T_02713_level0_row0\" class=\"row_heading level0 row0\" >O</th>\n",
       "      <td id=\"T_02713_row0_col0\" class=\"data row0 col0\" >,</td>\n",
       "      <td id=\"T_02713_row0_col1\" class=\"data row0 col1\" >-LRB-</td>\n",
       "      <td id=\"T_02713_row0_col2\" class=\"data row0 col2\" >-RRB-</td>\n",
       "      <td id=\"T_02713_row0_col3\" class=\"data row0 col3\" >or</td>\n",
       "      <td id=\"T_02713_row0_col4\" class=\"data row0 col4\" >and</td>\n",
       "      <td id=\"T_02713_row0_col5\" class=\"data row0 col5\" >to</td>\n",
       "      <td id=\"T_02713_row0_col6\" class=\"data row0 col6\" >into</td>\n",
       "      <td id=\"T_02713_row0_col7\" class=\"data row0 col7\" >taste</td>\n",
       "      <td id=\"T_02713_row0_col8\" class=\"data row0 col8\" >finely</td>\n",
       "      <td id=\"T_02713_row0_col9\" class=\"data row0 col9\" >optional</td>\n",
       "      <td id=\"T_02713_row0_col10\" class=\"data row0 col10\" >21.34%</td>\n",
       "      <td id=\"T_02713_row0_col11\" class=\"data row0 col11\" >8.48%</td>\n",
       "      <td id=\"T_02713_row0_col12\" class=\"data row0 col12\" >8.47%</td>\n",
       "      <td id=\"T_02713_row0_col13\" class=\"data row0 col13\" >4.10%</td>\n",
       "      <td id=\"T_02713_row0_col14\" class=\"data row0 col14\" >3.40%</td>\n",
       "      <td id=\"T_02713_row0_col15\" class=\"data row0 col15\" >2.00%</td>\n",
       "      <td id=\"T_02713_row0_col16\" class=\"data row0 col16\" >1.82%</td>\n",
       "      <td id=\"T_02713_row0_col17\" class=\"data row0 col17\" >1.31%</td>\n",
       "      <td id=\"T_02713_row0_col18\" class=\"data row0 col18\" >1.19%</td>\n",
       "      <td id=\"T_02713_row0_col19\" class=\"data row0 col19\" >1.11%</td>\n",
       "    </tr>\n",
       "    <tr>\n",
       "      <th id=\"T_02713_level0_row1\" class=\"row_heading level0 row1\" >I-QUANTITY</th>\n",
       "      <td id=\"T_02713_row1_col0\" class=\"data row1 col0\" >1</td>\n",
       "      <td id=\"T_02713_row1_col1\" class=\"data row1 col1\" >2</td>\n",
       "      <td id=\"T_02713_row1_col2\" class=\"data row1 col2\" >1/2</td>\n",
       "      <td id=\"T_02713_row1_col3\" class=\"data row1 col3\" >1/4</td>\n",
       "      <td id=\"T_02713_row1_col4\" class=\"data row1 col4\" >3</td>\n",
       "      <td id=\"T_02713_row1_col5\" class=\"data row1 col5\" >4</td>\n",
       "      <td id=\"T_02713_row1_col6\" class=\"data row1 col6\" >1 1/2</td>\n",
       "      <td id=\"T_02713_row1_col7\" class=\"data row1 col7\" >3/4</td>\n",
       "      <td id=\"T_02713_row1_col8\" class=\"data row1 col8\" >6</td>\n",
       "      <td id=\"T_02713_row1_col9\" class=\"data row1 col9\" >8</td>\n",
       "      <td id=\"T_02713_row1_col10\" class=\"data row1 col10\" >31.64%</td>\n",
       "      <td id=\"T_02713_row1_col11\" class=\"data row1 col11\" >14.69%</td>\n",
       "      <td id=\"T_02713_row1_col12\" class=\"data row1 col12\" >11.34%</td>\n",
       "      <td id=\"T_02713_row1_col13\" class=\"data row1 col13\" >6.46%</td>\n",
       "      <td id=\"T_02713_row1_col14\" class=\"data row1 col14\" >5.53%</td>\n",
       "      <td id=\"T_02713_row1_col15\" class=\"data row1 col15\" >4.86%</td>\n",
       "      <td id=\"T_02713_row1_col16\" class=\"data row1 col16\" >3.01%</td>\n",
       "      <td id=\"T_02713_row1_col17\" class=\"data row1 col17\" >2.31%</td>\n",
       "      <td id=\"T_02713_row1_col18\" class=\"data row1 col18\" >2.22%</td>\n",
       "      <td id=\"T_02713_row1_col19\" class=\"data row1 col19\" >1.91%</td>\n",
       "    </tr>\n",
       "    <tr>\n",
       "      <th id=\"T_02713_level0_row2\" class=\"row_heading level0 row2\" >I-UNIT</th>\n",
       "      <td id=\"T_02713_row2_col0\" class=\"data row2 col0\" >cup</td>\n",
       "      <td id=\"T_02713_row2_col1\" class=\"data row2 col1\" >teaspoon</td>\n",
       "      <td id=\"T_02713_row2_col2\" class=\"data row2 col2\" >tablespoons</td>\n",
       "      <td id=\"T_02713_row2_col3\" class=\"data row2 col3\" >cups</td>\n",
       "      <td id=\"T_02713_row2_col4\" class=\"data row2 col4\" >tablespoon</td>\n",
       "      <td id=\"T_02713_row2_col5\" class=\"data row2 col5\" >teaspoons</td>\n",
       "      <td id=\"T_02713_row2_col6\" class=\"data row2 col6\" >ounces</td>\n",
       "      <td id=\"T_02713_row2_col7\" class=\"data row2 col7\" >ounce</td>\n",
       "      <td id=\"T_02713_row2_col8\" class=\"data row2 col8\" >can</td>\n",
       "      <td id=\"T_02713_row2_col9\" class=\"data row2 col9\" >g</td>\n",
       "      <td id=\"T_02713_row2_col10\" class=\"data row2 col10\" >23.28%</td>\n",
       "      <td id=\"T_02713_row2_col11\" class=\"data row2 col11\" >12.92%</td>\n",
       "      <td id=\"T_02713_row2_col12\" class=\"data row2 col12\" >9.77%</td>\n",
       "      <td id=\"T_02713_row2_col13\" class=\"data row2 col13\" >8.68%</td>\n",
       "      <td id=\"T_02713_row2_col14\" class=\"data row2 col14\" >6.38%</td>\n",
       "      <td id=\"T_02713_row2_col15\" class=\"data row2 col15\" >4.84%</td>\n",
       "      <td id=\"T_02713_row2_col16\" class=\"data row2 col16\" >4.01%</td>\n",
       "      <td id=\"T_02713_row2_col17\" class=\"data row2 col17\" >3.39%</td>\n",
       "      <td id=\"T_02713_row2_col18\" class=\"data row2 col18\" >3.32%</td>\n",
       "      <td id=\"T_02713_row2_col19\" class=\"data row2 col19\" >3.06%</td>\n",
       "    </tr>\n",
       "    <tr>\n",
       "      <th id=\"T_02713_level0_row3\" class=\"row_heading level0 row3\" >I-STATE</th>\n",
       "      <td id=\"T_02713_row3_col0\" class=\"data row3 col0\" >chopped</td>\n",
       "      <td id=\"T_02713_row3_col1\" class=\"data row3 col1\" >ground</td>\n",
       "      <td id=\"T_02713_row3_col2\" class=\"data row3 col2\" >sliced</td>\n",
       "      <td id=\"T_02713_row3_col3\" class=\"data row3 col3\" >cut</td>\n",
       "      <td id=\"T_02713_row3_col4\" class=\"data row3 col4\" >diced</td>\n",
       "      <td id=\"T_02713_row3_col5\" class=\"data row3 col5\" >grated</td>\n",
       "      <td id=\"T_02713_row3_col6\" class=\"data row3 col6\" >minced</td>\n",
       "      <td id=\"T_02713_row3_col7\" class=\"data row3 col7\" >peeled</td>\n",
       "      <td id=\"T_02713_row3_col8\" class=\"data row3 col8\" >shredded</td>\n",
       "      <td id=\"T_02713_row3_col9\" class=\"data row3 col9\" >drained</td>\n",
       "      <td id=\"T_02713_row3_col10\" class=\"data row3 col10\" >17.33%</td>\n",
       "      <td id=\"T_02713_row3_col11\" class=\"data row3 col11\" >7.64%</td>\n",
       "      <td id=\"T_02713_row3_col12\" class=\"data row3 col12\" >7.26%</td>\n",
       "      <td id=\"T_02713_row3_col13\" class=\"data row3 col13\" >5.29%</td>\n",
       "      <td id=\"T_02713_row3_col14\" class=\"data row3 col14\" >5.25%</td>\n",
       "      <td id=\"T_02713_row3_col15\" class=\"data row3 col15\" >3.86%</td>\n",
       "      <td id=\"T_02713_row3_col16\" class=\"data row3 col16\" >3.78%</td>\n",
       "      <td id=\"T_02713_row3_col17\" class=\"data row3 col17\" >3.71%</td>\n",
       "      <td id=\"T_02713_row3_col18\" class=\"data row3 col18\" >3.09%</td>\n",
       "      <td id=\"T_02713_row3_col19\" class=\"data row3 col19\" >2.55%</td>\n",
       "    </tr>\n",
       "    <tr>\n",
       "      <th id=\"T_02713_level0_row4\" class=\"row_heading level0 row4\" >I-NAME</th>\n",
       "      <td id=\"T_02713_row4_col0\" class=\"data row4 col0\" >pepper</td>\n",
       "      <td id=\"T_02713_row4_col1\" class=\"data row4 col1\" >cheese</td>\n",
       "      <td id=\"T_02713_row4_col2\" class=\"data row4 col2\" >sugar</td>\n",
       "      <td id=\"T_02713_row4_col3\" class=\"data row4 col3\" >onion</td>\n",
       "      <td id=\"T_02713_row4_col4\" class=\"data row4 col4\" >oil</td>\n",
       "      <td id=\"T_02713_row4_col5\" class=\"data row4 col5\" >garlic</td>\n",
       "      <td id=\"T_02713_row4_col6\" class=\"data row4 col6\" >red</td>\n",
       "      <td id=\"T_02713_row4_col7\" class=\"data row4 col7\" >sauce</td>\n",
       "      <td id=\"T_02713_row4_col8\" class=\"data row4 col8\" >water</td>\n",
       "      <td id=\"T_02713_row4_col9\" class=\"data row4 col9\" >butter</td>\n",
       "      <td id=\"T_02713_row4_col10\" class=\"data row4 col10\" >2.58%</td>\n",
       "      <td id=\"T_02713_row4_col11\" class=\"data row4 col11\" >2.41%</td>\n",
       "      <td id=\"T_02713_row4_col12\" class=\"data row4 col12\" >2.16%</td>\n",
       "      <td id=\"T_02713_row4_col13\" class=\"data row4 col13\" >1.98%</td>\n",
       "      <td id=\"T_02713_row4_col14\" class=\"data row4 col14\" >1.86%</td>\n",
       "      <td id=\"T_02713_row4_col15\" class=\"data row4 col15\" >1.77%</td>\n",
       "      <td id=\"T_02713_row4_col16\" class=\"data row4 col16\" >1.75%</td>\n",
       "      <td id=\"T_02713_row4_col17\" class=\"data row4 col17\" >1.65%</td>\n",
       "      <td id=\"T_02713_row4_col18\" class=\"data row4 col18\" >1.49%</td>\n",
       "      <td id=\"T_02713_row4_col19\" class=\"data row4 col19\" >1.45%</td>\n",
       "    </tr>\n",
       "    <tr>\n",
       "      <th id=\"T_02713_level0_row5\" class=\"row_heading level0 row5\" >I-DF</th>\n",
       "      <td id=\"T_02713_row5_col0\" class=\"data row5 col0\" >fresh</td>\n",
       "      <td id=\"T_02713_row5_col1\" class=\"data row5 col1\" >dried</td>\n",
       "      <td id=\"T_02713_row5_col2\" class=\"data row5 col2\" >dry</td>\n",
       "      <td id=\"T_02713_row5_col3\" class=\"data row5 col3\" >freshly</td>\n",
       "      <td id=\"T_02713_row5_col4\" class=\"data row5 col4\" >light</td>\n",
       "      <td id=\"T_02713_row5_col5\" class=\"data row5 col5\" >torn</td>\n",
       "      <td id=\"T_02713_row5_col6\" class=\"data row5 col6\" >refrigerated</td>\n",
       "      <td id=\"T_02713_row5_col7\" class=\"data row5 col7\" ></td>\n",
       "      <td id=\"T_02713_row5_col8\" class=\"data row5 col8\" ></td>\n",
       "      <td id=\"T_02713_row5_col9\" class=\"data row5 col9\" ></td>\n",
       "      <td id=\"T_02713_row5_col10\" class=\"data row5 col10\" >56.70%</td>\n",
       "      <td id=\"T_02713_row5_col11\" class=\"data row5 col11\" >20.41%</td>\n",
       "      <td id=\"T_02713_row5_col12\" class=\"data row5 col12\" >10.72%</td>\n",
       "      <td id=\"T_02713_row5_col13\" class=\"data row5 col13\" >7.01%</td>\n",
       "      <td id=\"T_02713_row5_col14\" class=\"data row5 col14\" >4.54%</td>\n",
       "      <td id=\"T_02713_row5_col15\" class=\"data row5 col15\" >0.41%</td>\n",
       "      <td id=\"T_02713_row5_col16\" class=\"data row5 col16\" >0.21%</td>\n",
       "      <td id=\"T_02713_row5_col17\" class=\"data row5 col17\" >0.00%</td>\n",
       "      <td id=\"T_02713_row5_col18\" class=\"data row5 col18\" >0.00%</td>\n",
       "      <td id=\"T_02713_row5_col19\" class=\"data row5 col19\" >0.00%</td>\n",
       "    </tr>\n",
       "    <tr>\n",
       "      <th id=\"T_02713_level0_row6\" class=\"row_heading level0 row6\" >I-SIZE</th>\n",
       "      <td id=\"T_02713_row6_col0\" class=\"data row6 col0\" >large</td>\n",
       "      <td id=\"T_02713_row6_col1\" class=\"data row6 col1\" >medium</td>\n",
       "      <td id=\"T_02713_row6_col2\" class=\"data row6 col2\" >small</td>\n",
       "      <td id=\"T_02713_row6_col3\" class=\"data row6 col3\" >long</td>\n",
       "      <td id=\"T_02713_row6_col4\" class=\"data row6 col4\" >big</td>\n",
       "      <td id=\"T_02713_row6_col5\" class=\"data row6 col5\" >8-inch</td>\n",
       "      <td id=\"T_02713_row6_col6\" class=\"data row6 col6\" >medum</td>\n",
       "      <td id=\"T_02713_row6_col7\" class=\"data row6 col7\" >medium-large</td>\n",
       "      <td id=\"T_02713_row6_col8\" class=\"data row6 col8\" >extra-large</td>\n",
       "      <td id=\"T_02713_row6_col9\" class=\"data row6 col9\" ></td>\n",
       "      <td id=\"T_02713_row6_col10\" class=\"data row6 col10\" >45.24%</td>\n",
       "      <td id=\"T_02713_row6_col11\" class=\"data row6 col11\" >27.55%</td>\n",
       "      <td id=\"T_02713_row6_col12\" class=\"data row6 col12\" >24.49%</td>\n",
       "      <td id=\"T_02713_row6_col13\" class=\"data row6 col13\" >0.68%</td>\n",
       "      <td id=\"T_02713_row6_col14\" class=\"data row6 col14\" >0.68%</td>\n",
       "      <td id=\"T_02713_row6_col15\" class=\"data row6 col15\" >0.34%</td>\n",
       "      <td id=\"T_02713_row6_col16\" class=\"data row6 col16\" >0.34%</td>\n",
       "      <td id=\"T_02713_row6_col17\" class=\"data row6 col17\" >0.34%</td>\n",
       "      <td id=\"T_02713_row6_col18\" class=\"data row6 col18\" >0.34%</td>\n",
       "      <td id=\"T_02713_row6_col19\" class=\"data row6 col19\" >0.00%</td>\n",
       "    </tr>\n",
       "    <tr>\n",
       "      <th id=\"T_02713_level0_row7\" class=\"row_heading level0 row7\" >I-TEMP</th>\n",
       "      <td id=\"T_02713_row7_col0\" class=\"data row7 col0\" >hot</td>\n",
       "      <td id=\"T_02713_row7_col1\" class=\"data row7 col1\" >frozen</td>\n",
       "      <td id=\"T_02713_row7_col2\" class=\"data row7 col2\" >warm</td>\n",
       "      <td id=\"T_02713_row7_col3\" class=\"data row7 col3\" >cold</td>\n",
       "      <td id=\"T_02713_row7_col4\" class=\"data row7 col4\" >lukewarm</td>\n",
       "      <td id=\"T_02713_row7_col5\" class=\"data row7 col5\" >refrigerated</td>\n",
       "      <td id=\"T_02713_row7_col6\" class=\"data row7 col6\" >heated</td>\n",
       "      <td id=\"T_02713_row7_col7\" class=\"data row7 col7\" >temperature</td>\n",
       "      <td id=\"T_02713_row7_col8\" class=\"data row7 col8\" >room</td>\n",
       "      <td id=\"T_02713_row7_col9\" class=\"data row7 col9\" >cooled</td>\n",
       "      <td id=\"T_02713_row7_col10\" class=\"data row7 col10\" >34.19%</td>\n",
       "      <td id=\"T_02713_row7_col11\" class=\"data row7 col11\" >31.62%</td>\n",
       "      <td id=\"T_02713_row7_col12\" class=\"data row7 col12\" >13.68%</td>\n",
       "      <td id=\"T_02713_row7_col13\" class=\"data row7 col13\" >8.55%</td>\n",
       "      <td id=\"T_02713_row7_col14\" class=\"data row7 col14\" >3.42%</td>\n",
       "      <td id=\"T_02713_row7_col15\" class=\"data row7 col15\" >2.56%</td>\n",
       "      <td id=\"T_02713_row7_col16\" class=\"data row7 col16\" >1.71%</td>\n",
       "      <td id=\"T_02713_row7_col17\" class=\"data row7 col17\" >1.71%</td>\n",
       "      <td id=\"T_02713_row7_col18\" class=\"data row7 col18\" >1.71%</td>\n",
       "      <td id=\"T_02713_row7_col19\" class=\"data row7 col19\" >0.85%</td>\n",
       "    </tr>\n",
       "  </tbody>\n",
       "</table>\n"
      ],
      "text/plain": [
       "<pandas.io.formats.style.Styler at 0x7f3a8eabcd10>"
      ]
     },
     "execution_count": 25,
     "metadata": {},
     "output_type": "execute_result"
    }
   ],
   "source": [
    "topn = 10\n",
    "import numpy as np\n",
    "\n",
    "(df_train\n",
    " .groupby(['labels', 'tokens'])\n",
    " .agg(n=('index', 'count'), n_sentence=('index', 'nunique'), n_source=('source', 'nunique'))\n",
    " .sort_values('n', ascending=False)\n",
    " .reset_index()\n",
    " .groupby('labels')\n",
    " .pipe(lambda _: pd.DataFrame({**{f'token_{i}': np.where(_.n.nth(i) > 0, _.tokens.nth(i), '') for i in range(topn)}, **{f'prop_{i}': _.n.nth(i)/ _.n.sum() for i in range(topn)}}))\n",
    ").style.format({f'prop_{i}': '{:0.2%}' for i in range(topn)})"
   ]
  },
  {
   "cell_type": "markdown",
   "id": "cda59d6b",
   "metadata": {
    "papermill": {
     "duration": 0.187599,
     "end_time": "2022-04-09T11:05:34.542009",
     "exception": false,
     "start_time": "2022-04-09T11:05:34.354410",
     "status": "completed"
    },
    "tags": []
   },
   "source": [
    "# Lengths"
   ]
  },
  {
   "cell_type": "markdown",
   "id": "6df8c8b5",
   "metadata": {
    "papermill": {
     "duration": 0.143541,
     "end_time": "2022-04-09T11:05:34.830063",
     "exception": false,
     "start_time": "2022-04-09T11:05:34.686522",
     "status": "completed"
    },
    "tags": []
   },
   "source": [
    "Most of these are very short and will easily fit into a context window"
   ]
  },
  {
   "cell_type": "code",
   "execution_count": 26,
   "id": "1d383b69",
   "metadata": {
    "execution": {
     "iopub.execute_input": "2022-04-09T11:05:35.134462Z",
     "iopub.status.busy": "2022-04-09T11:05:35.133539Z",
     "iopub.status.idle": "2022-04-09T11:05:35.324284Z",
     "shell.execute_reply": "2022-04-09T11:05:35.323223Z",
     "shell.execute_reply.started": "2022-04-09T09:38:11.512931Z"
    },
    "papermill": {
     "duration": 0.347518,
     "end_time": "2022-04-09T11:05:35.324443",
     "exception": false,
     "start_time": "2022-04-09T11:05:34.976925",
     "status": "completed"
    },
    "tags": []
   },
   "outputs": [
    {
     "data": {
      "text/plain": [
       "<AxesSubplot:title={'center':'n_tokens'}, xlabel='source'>"
      ]
     },
     "execution_count": 26,
     "metadata": {},
     "output_type": "execute_result"
    },
    {
     "data": {
      "image/png": "[encoded data removed]",
      "text/plain": [
       "<Figure size 432x288 with 1 Axes>"
      ]
     },
     "metadata": {
      "needs_background": "light"
     },
     "output_type": "display_data"
    }
   ],
   "source": [
    "df_train_len = (df_train\n",
    " .groupby(['source', 'index'])\n",
    " .agg(n_tokens=('tokens', 'count'))\n",
    " .reset_index()\n",
    ")\n",
    "\n",
    "df_train_len.boxplot('n_tokens', by='source', grid=False, showfliers=False)"
   ]
  },
  {
   "cell_type": "code",
   "execution_count": 27,
   "id": "e6ff8d87",
   "metadata": {
    "execution": {
     "iopub.execute_input": "2022-04-09T11:05:35.639932Z",
     "iopub.status.busy": "2022-04-09T11:05:35.639220Z",
     "iopub.status.idle": "2022-04-09T11:05:35.656850Z",
     "shell.execute_reply": "2022-04-09T11:05:35.657301Z",
     "shell.execute_reply.started": "2022-04-09T09:38:11.750611Z"
    },
    "papermill": {
     "duration": 0.180563,
     "end_time": "2022-04-09T11:05:35.657458",
     "exception": false,
     "start_time": "2022-04-09T11:05:35.476895",
     "status": "completed"
    },
    "tags": []
   },
   "outputs": [
    {
     "data": {
      "text/html": [
       "<div>\n",
       "<style scoped>\n",
       "    .dataframe tbody tr th:only-of-type {\n",
       "        vertical-align: middle;\n",
       "    }\n",
       "\n",
       "    .dataframe tbody tr th {\n",
       "        vertical-align: top;\n",
       "    }\n",
       "\n",
       "    .dataframe thead th {\n",
       "        text-align: right;\n",
       "    }\n",
       "</style>\n",
       "<table border=\"1\" class=\"dataframe\">\n",
       "  <thead>\n",
       "    <tr style=\"text-align: right;\">\n",
       "      <th></th>\n",
       "      <th>min</th>\n",
       "      <th>med</th>\n",
       "      <th>mean</th>\n",
       "      <th>max</th>\n",
       "    </tr>\n",
       "    <tr>\n",
       "      <th>source</th>\n",
       "      <th></th>\n",
       "      <th></th>\n",
       "      <th></th>\n",
       "      <th></th>\n",
       "    </tr>\n",
       "  </thead>\n",
       "  <tbody>\n",
       "    <tr>\n",
       "      <th>ar</th>\n",
       "      <td>1</td>\n",
       "      <td>5.0</td>\n",
       "      <td>5.628401</td>\n",
       "      <td>18</td>\n",
       "    </tr>\n",
       "    <tr>\n",
       "      <th>gk</th>\n",
       "      <td>1</td>\n",
       "      <td>5.0</td>\n",
       "      <td>5.643326</td>\n",
       "      <td>29</td>\n",
       "    </tr>\n",
       "  </tbody>\n",
       "</table>\n",
       "</div>"
      ],
      "text/plain": [
       "        min  med      mean  max\n",
       "source                         \n",
       "ar        1  5.0  5.628401   18\n",
       "gk        1  5.0  5.643326   29"
      ]
     },
     "execution_count": 27,
     "metadata": {},
     "output_type": "execute_result"
    }
   ],
   "source": [
    "(df_train_len\n",
    " .groupby('source')\n",
    " .agg(min=('n_tokens', 'min'),\n",
    "      med=('n_tokens', 'median'),\n",
    "      mean=('n_tokens', 'mean'),\n",
    "      max=('n_tokens', 'max'),\n",
    "     )\n",
    ")"
   ]
  },
  {
   "cell_type": "markdown",
   "id": "04685eae",
   "metadata": {
    "papermill": {
     "duration": 0.1514,
     "end_time": "2022-04-09T11:05:35.963714",
     "exception": false,
     "start_time": "2022-04-09T11:05:35.812314",
     "status": "completed"
    },
    "tags": []
   },
   "source": [
    "## Common Tokens"
   ]
  },
  {
   "cell_type": "markdown",
   "id": "543fa9e0",
   "metadata": {
    "papermill": {
     "duration": 0.146869,
     "end_time": "2022-04-09T11:05:36.258418",
     "exception": false,
     "start_time": "2022-04-09T11:05:36.111549",
     "status": "completed"
    },
    "tags": []
   },
   "source": [
    "It seems like `-LRB-` and `-RRB-` are special tokens for \"Left Round Bracket\" and \"Right Round Bracket\" (i.e `(` and `)`)"
   ]
  },
  {
   "cell_type": "code",
   "execution_count": 28,
   "id": "92c02101",
   "metadata": {
    "execution": {
     "iopub.execute_input": "2022-04-09T11:05:36.565868Z",
     "iopub.status.busy": "2022-04-09T11:05:36.564938Z",
     "iopub.status.idle": "2022-04-09T11:05:36.829573Z",
     "shell.execute_reply": "2022-04-09T11:05:36.830067Z",
     "shell.execute_reply.started": "2022-04-09T09:38:11.784027Z"
    },
    "papermill": {
     "duration": 0.425115,
     "end_time": "2022-04-09T11:05:36.830224",
     "exception": false,
     "start_time": "2022-04-09T11:05:36.405109",
     "status": "completed"
    },
    "tags": []
   },
   "outputs": [
    {
     "data": {
      "text/html": [
       "<div>\n",
       "<style scoped>\n",
       "    .dataframe tbody tr th:only-of-type {\n",
       "        vertical-align: middle;\n",
       "    }\n",
       "\n",
       "    .dataframe tbody tr th {\n",
       "        vertical-align: top;\n",
       "    }\n",
       "\n",
       "    .dataframe thead th {\n",
       "        text-align: right;\n",
       "    }\n",
       "</style>\n",
       "<table border=\"1\" class=\"dataframe\">\n",
       "  <thead>\n",
       "    <tr style=\"text-align: right;\">\n",
       "      <th></th>\n",
       "      <th>tag</th>\n",
       "      <th>n</th>\n",
       "      <th>p</th>\n",
       "    </tr>\n",
       "    <tr>\n",
       "      <th>tokens</th>\n",
       "      <th></th>\n",
       "      <th></th>\n",
       "      <th></th>\n",
       "    </tr>\n",
       "  </thead>\n",
       "  <tbody>\n",
       "    <tr>\n",
       "      <th>1</th>\n",
       "      <td>I-QUANTITY</td>\n",
       "      <td>1714</td>\n",
       "      <td>0.057459</td>\n",
       "    </tr>\n",
       "    <tr>\n",
       "      <th>,</th>\n",
       "      <td>O</td>\n",
       "      <td>1712</td>\n",
       "      <td>0.057392</td>\n",
       "    </tr>\n",
       "    <tr>\n",
       "      <th>cup</th>\n",
       "      <td>I-UNIT</td>\n",
       "      <td>1049</td>\n",
       "      <td>0.035166</td>\n",
       "    </tr>\n",
       "    <tr>\n",
       "      <th>2</th>\n",
       "      <td>I-QUANTITY</td>\n",
       "      <td>800</td>\n",
       "      <td>0.026819</td>\n",
       "    </tr>\n",
       "    <tr>\n",
       "      <th>-LRB-</th>\n",
       "      <td>O</td>\n",
       "      <td>679</td>\n",
       "      <td>0.022762</td>\n",
       "    </tr>\n",
       "    <tr>\n",
       "      <th>-RRB-</th>\n",
       "      <td>O</td>\n",
       "      <td>678</td>\n",
       "      <td>0.022729</td>\n",
       "    </tr>\n",
       "    <tr>\n",
       "      <th>1/2</th>\n",
       "      <td>I-QUANTITY</td>\n",
       "      <td>613</td>\n",
       "      <td>0.020550</td>\n",
       "    </tr>\n",
       "    <tr>\n",
       "      <th>teaspoon</th>\n",
       "      <td>I-UNIT</td>\n",
       "      <td>570</td>\n",
       "      <td>0.019108</td>\n",
       "    </tr>\n",
       "    <tr>\n",
       "      <th>chopped</th>\n",
       "      <td>I-STATE</td>\n",
       "      <td>453</td>\n",
       "      <td>0.015186</td>\n",
       "    </tr>\n",
       "    <tr>\n",
       "      <th>tablespoons</th>\n",
       "      <td>I-UNIT</td>\n",
       "      <td>439</td>\n",
       "      <td>0.014717</td>\n",
       "    </tr>\n",
       "    <tr>\n",
       "      <th>cups</th>\n",
       "      <td>I-UNIT</td>\n",
       "      <td>392</td>\n",
       "      <td>0.013141</td>\n",
       "    </tr>\n",
       "    <tr>\n",
       "      <th>1/4</th>\n",
       "      <td>I-QUANTITY</td>\n",
       "      <td>352</td>\n",
       "      <td>0.011800</td>\n",
       "    </tr>\n",
       "    <tr>\n",
       "      <th>or</th>\n",
       "      <td>O</td>\n",
       "      <td>328</td>\n",
       "      <td>0.010996</td>\n",
       "    </tr>\n",
       "    <tr>\n",
       "      <th>3</th>\n",
       "      <td>I-QUANTITY</td>\n",
       "      <td>301</td>\n",
       "      <td>0.010091</td>\n",
       "    </tr>\n",
       "    <tr>\n",
       "      <th>fresh</th>\n",
       "      <td>I-DF</td>\n",
       "      <td>285</td>\n",
       "      <td>0.009554</td>\n",
       "    </tr>\n",
       "    <tr>\n",
       "      <th>tablespoon</th>\n",
       "      <td>I-UNIT</td>\n",
       "      <td>285</td>\n",
       "      <td>0.009554</td>\n",
       "    </tr>\n",
       "    <tr>\n",
       "      <th>and</th>\n",
       "      <td>O</td>\n",
       "      <td>272</td>\n",
       "      <td>0.009118</td>\n",
       "    </tr>\n",
       "    <tr>\n",
       "      <th>4</th>\n",
       "      <td>I-QUANTITY</td>\n",
       "      <td>267</td>\n",
       "      <td>0.008951</td>\n",
       "    </tr>\n",
       "    <tr>\n",
       "      <th>pepper</th>\n",
       "      <td>I-NAME</td>\n",
       "      <td>232</td>\n",
       "      <td>0.007777</td>\n",
       "    </tr>\n",
       "    <tr>\n",
       "      <th>cheese</th>\n",
       "      <td>I-NAME</td>\n",
       "      <td>227</td>\n",
       "      <td>0.007610</td>\n",
       "    </tr>\n",
       "  </tbody>\n",
       "</table>\n",
       "</div>"
      ],
      "text/plain": [
       "                    tag     n         p\n",
       "tokens                                 \n",
       "1            I-QUANTITY  1714  0.057459\n",
       ",                     O  1712  0.057392\n",
       "cup              I-UNIT  1049  0.035166\n",
       "2            I-QUANTITY   800  0.026819\n",
       "-LRB-                 O   679  0.022762\n",
       "-RRB-                 O   678  0.022729\n",
       "1/2          I-QUANTITY   613  0.020550\n",
       "teaspoon         I-UNIT   570  0.019108\n",
       "chopped         I-STATE   453  0.015186\n",
       "tablespoons      I-UNIT   439  0.014717\n",
       "cups             I-UNIT   392  0.013141\n",
       "1/4          I-QUANTITY   352  0.011800\n",
       "or                    O   328  0.010996\n",
       "3            I-QUANTITY   301  0.010091\n",
       "fresh              I-DF   285  0.009554\n",
       "tablespoon       I-UNIT   285  0.009554\n",
       "and                   O   272  0.009118\n",
       "4            I-QUANTITY   267  0.008951\n",
       "pepper           I-NAME   232  0.007777\n",
       "cheese           I-NAME   227  0.007610"
      ]
     },
     "execution_count": 28,
     "metadata": {},
     "output_type": "execute_result"
    }
   ],
   "source": [
    "(\n",
    "    df_train\n",
    "    .groupby('tokens')\n",
    "    .agg(tag=('labels', pd.Series.mode), n=('index', 'count'))\n",
    "    .sort_values('n', ascending=False)\n",
    "    .assign(p = lambda _: _['n'] / sum(_['n']))\n",
    "    .head(20)\n",
    ")"
   ]
  },
  {
   "cell_type": "markdown",
   "id": "dbdf27ee",
   "metadata": {
    "papermill": {
     "duration": 0.251674,
     "end_time": "2022-04-09T11:05:37.280118",
     "exception": false,
     "start_time": "2022-04-09T11:05:37.028444",
     "status": "completed"
    },
    "tags": []
   },
   "source": [
    "These seem to be the only special tokens"
   ]
  },
  {
   "cell_type": "code",
   "execution_count": 29,
   "id": "09352451",
   "metadata": {
    "execution": {
     "iopub.execute_input": "2022-04-09T11:05:37.694391Z",
     "iopub.status.busy": "2022-04-09T11:05:37.693543Z",
     "iopub.status.idle": "2022-04-09T11:05:37.699974Z",
     "shell.execute_reply": "2022-04-09T11:05:37.700376Z",
     "shell.execute_reply.started": "2022-04-09T09:38:12.259409Z"
    },
    "papermill": {
     "duration": 0.179385,
     "end_time": "2022-04-09T11:05:37.700509",
     "exception": false,
     "start_time": "2022-04-09T11:05:37.521124",
     "status": "completed"
    },
    "tags": []
   },
   "outputs": [
    {
     "data": {
      "text/plain": [
       "-LRB-    679\n",
       "-RRB-    678\n",
       "--         1\n",
       "Name: tokens, dtype: int64"
      ]
     },
     "execution_count": 29,
     "metadata": {},
     "output_type": "execute_result"
    }
   ],
   "source": [
    "df_train[df_train.tokens.str.match('^-.*-$')].tokens.value_counts()"
   ]
  },
  {
   "cell_type": "markdown",
   "id": "59376782",
   "metadata": {
    "papermill": {
     "duration": 0.152657,
     "end_time": "2022-04-09T11:05:37.999853",
     "exception": false,
     "start_time": "2022-04-09T11:05:37.847196",
     "status": "completed"
    },
    "tags": []
   },
   "source": [
    "They'll cause our tokenizer some problems so let's fix them up"
   ]
  },
  {
   "cell_type": "code",
   "execution_count": 30,
   "id": "4d55af78",
   "metadata": {
    "execution": {
     "iopub.execute_input": "2022-04-09T11:05:38.303072Z",
     "iopub.status.busy": "2022-04-09T11:05:38.302261Z",
     "iopub.status.idle": "2022-04-09T11:05:38.304573Z",
     "shell.execute_reply": "2022-04-09T11:05:38.304162Z",
     "shell.execute_reply.started": "2022-04-09T09:38:12.298084Z"
    },
    "papermill": {
     "duration": 0.154861,
     "end_time": "2022-04-09T11:05:38.304714",
     "exception": false,
     "start_time": "2022-04-09T11:05:38.149853",
     "status": "completed"
    },
    "tags": []
   },
   "outputs": [],
   "source": [
    "def fixup_token(token):\n",
    "    if token == '-LRB-':\n",
    "        return '('\n",
    "    elif token == '-RRB-':\n",
    "        return ')'\n",
    "    else:\n",
    "        return token\n",
    "    \n",
    "def map_fixup_tokens(examples):\n",
    "    examples['tokens'] = [fixup_token(token) for token in examples['tokens']]\n",
    "    return examples"
   ]
  },
  {
   "cell_type": "code",
   "execution_count": 31,
   "id": "5bd52d9d",
   "metadata": {
    "execution": {
     "iopub.execute_input": "2022-04-09T11:05:38.611531Z",
     "iopub.status.busy": "2022-04-09T11:05:38.610946Z",
     "iopub.status.idle": "2022-04-09T11:05:38.662892Z",
     "shell.execute_reply": "2022-04-09T11:05:38.662460Z",
     "shell.execute_reply.started": "2022-04-09T09:38:12.307600Z"
    },
    "papermill": {
     "duration": 0.206964,
     "end_time": "2022-04-09T11:05:38.663010",
     "exception": false,
     "start_time": "2022-04-09T11:05:38.456046",
     "status": "completed"
    },
    "tags": []
   },
   "outputs": [
    {
     "data": {
      "application/vnd.jupyter.widget-view+json": {
       "model_id": "daae7671025b475bad1b6891ccc232bd",
       "version_major": 2,
       "version_minor": 0
      },
      "text/plain": [
       "0ex [00:00, ?ex/s]"
      ]
     },
     "metadata": {},
     "output_type": "display_data"
    },
    {
     "data": {
      "text/plain": [
       "[['1', 'teaspoon', 'ground', 'mace'],\n",
       " ['1/2', '(', '13.5', 'ounce', ')', 'can', 'chopped', 'spinach']]"
      ]
     },
     "execution_count": 31,
     "metadata": {},
     "output_type": "execute_result"
    }
   ],
   "source": [
    "data['ar']['train'].select(range(2)).map(map_fixup_tokens)['tokens']"
   ]
  },
  {
   "cell_type": "markdown",
   "id": "b634f90d",
   "metadata": {
    "papermill": {
     "duration": 0.149381,
     "end_time": "2022-04-09T11:05:38.961380",
     "exception": false,
     "start_time": "2022-04-09T11:05:38.811999",
     "status": "completed"
    },
    "tags": []
   },
   "source": [
    "# Preparing Model"
   ]
  },
  {
   "cell_type": "code",
   "execution_count": 32,
   "id": "2377d7f1",
   "metadata": {
    "execution": {
     "iopub.execute_input": "2022-04-09T11:05:39.263825Z",
     "iopub.status.busy": "2022-04-09T11:05:39.263122Z",
     "iopub.status.idle": "2022-04-09T11:05:44.215091Z",
     "shell.execute_reply": "2022-04-09T11:05:44.214190Z",
     "shell.execute_reply.started": "2022-04-09T09:38:12.382326Z"
    },
    "papermill": {
     "duration": 5.10477,
     "end_time": "2022-04-09T11:05:44.215243",
     "exception": false,
     "start_time": "2022-04-09T11:05:39.110473",
     "status": "completed"
    },
    "tags": []
   },
   "outputs": [],
   "source": [
    "from transformers import AutoTokenizer, AutoModelForTokenClassification, DataCollatorForTokenClassification, Trainer\n",
    "import torch"
   ]
  },
  {
   "cell_type": "code",
   "execution_count": 33,
   "id": "ad5f1761",
   "metadata": {
    "execution": {
     "iopub.execute_input": "2022-04-09T11:05:44.528260Z",
     "iopub.status.busy": "2022-04-09T11:05:44.527432Z",
     "iopub.status.idle": "2022-04-09T11:05:44.529968Z",
     "shell.execute_reply": "2022-04-09T11:05:44.529507Z",
     "shell.execute_reply.started": "2022-04-09T09:38:19.157496Z"
    },
    "papermill": {
     "duration": 0.162951,
     "end_time": "2022-04-09T11:05:44.530079",
     "exception": false,
     "start_time": "2022-04-09T11:05:44.367128",
     "status": "completed"
    },
    "tags": []
   },
   "outputs": [],
   "source": [
    "tag_feature = data['gk']['train'].features['labels'].feature"
   ]
  },
  {
   "cell_type": "code",
   "execution_count": 34,
   "id": "f15686a7",
   "metadata": {
    "execution": {
     "iopub.execute_input": "2022-04-09T11:05:44.846796Z",
     "iopub.status.busy": "2022-04-09T11:05:44.846206Z",
     "iopub.status.idle": "2022-04-09T11:05:44.848923Z",
     "shell.execute_reply": "2022-04-09T11:05:44.849324Z",
     "shell.execute_reply.started": "2022-04-09T09:38:19.169973Z"
    },
    "papermill": {
     "duration": 0.161691,
     "end_time": "2022-04-09T11:05:44.849450",
     "exception": false,
     "start_time": "2022-04-09T11:05:44.687759",
     "status": "completed"
    },
    "tags": []
   },
   "outputs": [
    {
     "data": {
      "text/plain": [
       "8"
      ]
     },
     "execution_count": 34,
     "metadata": {},
     "output_type": "execute_result"
    }
   ],
   "source": [
    "tag_feature.num_classes"
   ]
  },
  {
   "cell_type": "code",
   "execution_count": 35,
   "id": "b2701f06",
   "metadata": {
    "execution": {
     "iopub.execute_input": "2022-04-09T11:05:45.203353Z",
     "iopub.status.busy": "2022-04-09T11:05:45.202515Z",
     "iopub.status.idle": "2022-04-09T11:06:21.038781Z",
     "shell.execute_reply": "2022-04-09T11:06:21.040159Z",
     "shell.execute_reply.started": "2022-04-09T09:38:19.190933Z"
    },
    "papermill": {
     "duration": 36.043358,
     "end_time": "2022-04-09T11:06:21.040656",
     "exception": false,
     "start_time": "2022-04-09T11:05:44.997298",
     "status": "completed"
    },
    "tags": []
   },
   "outputs": [
    {
     "data": {
      "application/vnd.jupyter.widget-view+json": {
       "model_id": "ec3151f275a148319039bc57a8d6e70f",
       "version_major": 2,
       "version_minor": 0
      },
      "text/plain": [
       "Downloading:   0%|          | 0.00/615 [00:00<?, ?B/s]"
      ]
     },
     "metadata": {},
     "output_type": "display_data"
    },
    {
     "data": {
      "application/vnd.jupyter.widget-view+json": {
       "model_id": "e663315765b14ca5afcb8120d388b24f",
       "version_major": 2,
       "version_minor": 0
      },
      "text/plain": [
       "Downloading:   0%|          | 0.00/4.83M [00:00<?, ?B/s]"
      ]
     },
     "metadata": {},
     "output_type": "display_data"
    },
    {
     "data": {
      "application/vnd.jupyter.widget-view+json": {
       "model_id": "4d04f02e7f1d4d29a60922ac696e5175",
       "version_major": 2,
       "version_minor": 0
      },
      "text/plain": [
       "Downloading:   0%|          | 0.00/8.68M [00:00<?, ?B/s]"
      ]
     },
     "metadata": {},
     "output_type": "display_data"
    },
    {
     "data": {
      "application/vnd.jupyter.widget-view+json": {
       "model_id": "fa4a4e38cd13452d9b407479fbbb2e1d",
       "version_major": 2,
       "version_minor": 0
      },
      "text/plain": [
       "Downloading:   0%|          | 0.00/1.04G [00:00<?, ?B/s]"
      ]
     },
     "metadata": {},
     "output_type": "display_data"
    },
    {
     "name": "stderr",
     "output_type": "stream",
     "text": [
      "Some weights of the model checkpoint at xlm-roberta-base were not used when initializing XLMRobertaForTokenClassification: ['lm_head.layer_norm.weight', 'lm_head.layer_norm.bias', 'lm_head.decoder.weight', 'lm_head.dense.weight', 'lm_head.bias', 'lm_head.dense.bias']\n",
      "- This IS expected if you are initializing XLMRobertaForTokenClassification from the checkpoint of a model trained on another task or with another architecture (e.g. initializing a BertForSequenceClassification model from a BertForPreTraining model).\n",
      "- This IS NOT expected if you are initializing XLMRobertaForTokenClassification from the checkpoint of a model that you expect to be exactly identical (initializing a BertForSequenceClassification model from a BertForSequenceClassification model).\n",
      "Some weights of XLMRobertaForTokenClassification were not initialized from the model checkpoint at xlm-roberta-base and are newly initialized: ['classifier.bias', 'classifier.weight']\n",
      "You should probably TRAIN this model on a down-stream task to be able to use it for predictions and inference.\n"
     ]
    }
   ],
   "source": [
    "model_ckpt = 'xlm-roberta-base'\n",
    "\n",
    "device = torch.device('cuda' if torch.cuda.is_available() else 'cpu')\n",
    "\n",
    "tokenizer = AutoTokenizer.from_pretrained(model_ckpt)\n",
    "model = AutoModelForTokenClassification.from_pretrained(model_ckpt, num_labels=tag_feature.num_classes).to(device)\n",
    "collator = DataCollatorForTokenClassification(tokenizer)"
   ]
  },
  {
   "cell_type": "markdown",
   "id": "67c85bbd",
   "metadata": {
    "papermill": {
     "duration": 0.537684,
     "end_time": "2022-04-09T11:06:21.867847",
     "exception": false,
     "start_time": "2022-04-09T11:06:21.330163",
     "status": "completed"
    },
    "tags": []
   },
   "source": [
    "Let's run some examples"
   ]
  },
  {
   "cell_type": "code",
   "execution_count": 36,
   "id": "e4fbd60b",
   "metadata": {
    "execution": {
     "iopub.execute_input": "2022-04-09T11:06:22.449779Z",
     "iopub.status.busy": "2022-04-09T11:06:22.448960Z",
     "iopub.status.idle": "2022-04-09T11:06:22.498637Z",
     "shell.execute_reply": "2022-04-09T11:06:22.495547Z",
     "shell.execute_reply.started": "2022-04-09T09:39:19.180265Z"
    },
    "papermill": {
     "duration": 0.226382,
     "end_time": "2022-04-09T11:06:22.498772",
     "exception": false,
     "start_time": "2022-04-09T11:06:22.272390",
     "status": "completed"
    },
    "tags": []
   },
   "outputs": [
    {
     "data": {
      "application/vnd.jupyter.widget-view+json": {
       "model_id": "54e162776923461d99b0fd02b189dac5",
       "version_major": 2,
       "version_minor": 0
      },
      "text/plain": [
       "0ex [00:00, ?ex/s]"
      ]
     },
     "metadata": {},
     "output_type": "display_data"
    }
   ],
   "source": [
    "examples = data['ar']['train'].select(range(2)).map(map_fixup_tokens)"
   ]
  },
  {
   "cell_type": "markdown",
   "id": "24d6b211",
   "metadata": {
    "papermill": {
     "duration": 0.152643,
     "end_time": "2022-04-09T11:06:22.814822",
     "exception": false,
     "start_time": "2022-04-09T11:06:22.662179",
     "status": "completed"
    },
    "tags": []
   },
   "source": [
    "Tokenizing"
   ]
  },
  {
   "cell_type": "code",
   "execution_count": 37,
   "id": "0b8bacb2",
   "metadata": {
    "execution": {
     "iopub.execute_input": "2022-04-09T11:06:23.146755Z",
     "iopub.status.busy": "2022-04-09T11:06:23.146082Z",
     "iopub.status.idle": "2022-04-09T11:06:23.148948Z",
     "shell.execute_reply": "2022-04-09T11:06:23.149407Z",
     "shell.execute_reply.started": "2022-04-09T09:39:19.293826Z"
    },
    "papermill": {
     "duration": 0.171349,
     "end_time": "2022-04-09T11:06:23.149547",
     "exception": false,
     "start_time": "2022-04-09T11:06:22.978198",
     "status": "completed"
    },
    "tags": []
   },
   "outputs": [
    {
     "data": {
      "text/plain": [
       "{'tokens': [['1', 'teaspoon', 'ground', 'mace'],\n",
       "  ['1/2', '(', '13.5', 'ounce', ')', 'can', 'chopped', 'spinach']],\n",
       " 'labels': [[1, 2, 3, 4], [1, 0, 1, 2, 0, 2, 3, 4]]}"
      ]
     },
     "execution_count": 37,
     "metadata": {},
     "output_type": "execute_result"
    }
   ],
   "source": [
    "examples[:]"
   ]
  },
  {
   "cell_type": "markdown",
   "id": "3239596d",
   "metadata": {
    "execution": {
     "iopub.execute_input": "2022-03-31T04:20:01.581057Z",
     "iopub.status.busy": "2022-03-31T04:20:01.580679Z",
     "iopub.status.idle": "2022-03-31T04:20:01.586404Z",
     "shell.execute_reply": "2022-03-31T04:20:01.585517Z",
     "shell.execute_reply.started": "2022-03-31T04:20:01.581021Z"
    },
    "papermill": {
     "duration": 0.152225,
     "end_time": "2022-04-09T11:06:23.460852",
     "exception": false,
     "start_time": "2022-04-09T11:06:23.308627",
     "status": "completed"
    },
    "tags": []
   },
   "source": [
    "First we tokenize"
   ]
  },
  {
   "cell_type": "code",
   "execution_count": 38,
   "id": "091b49e9",
   "metadata": {
    "execution": {
     "iopub.execute_input": "2022-04-09T11:06:23.773780Z",
     "iopub.status.busy": "2022-04-09T11:06:23.773117Z",
     "iopub.status.idle": "2022-04-09T11:06:23.782387Z",
     "shell.execute_reply": "2022-04-09T11:06:23.781988Z",
     "shell.execute_reply.started": "2022-04-09T09:39:19.307105Z"
    },
    "papermill": {
     "duration": 0.168041,
     "end_time": "2022-04-09T11:06:23.782498",
     "exception": false,
     "start_time": "2022-04-09T11:06:23.614457",
     "status": "completed"
    },
    "tags": []
   },
   "outputs": [
    {
     "data": {
      "text/plain": [
       "{'input_ids': [[0, 106, 26156, 11955, 191, 61585, 291, 329, 2], [0, 22128, 15, 5847, 758, 6, 85018, 1388, 831, 681, 48398, 25927, 934, 2]], 'attention_mask': [[1, 1, 1, 1, 1, 1, 1, 1, 1], [1, 1, 1, 1, 1, 1, 1, 1, 1, 1, 1, 1, 1, 1]]}"
      ]
     },
     "execution_count": 38,
     "metadata": {},
     "output_type": "execute_result"
    }
   ],
   "source": [
    "inputs = tokenizer(examples['tokens'], is_split_into_words=True)\n",
    "inputs"
   ]
  },
  {
   "cell_type": "code",
   "execution_count": 39,
   "id": "7a9cae49",
   "metadata": {
    "execution": {
     "iopub.execute_input": "2022-04-09T11:06:24.105132Z",
     "iopub.status.busy": "2022-04-09T11:06:24.104333Z",
     "iopub.status.idle": "2022-04-09T11:06:24.108227Z",
     "shell.execute_reply": "2022-04-09T11:06:24.108596Z",
     "shell.execute_reply.started": "2022-04-09T09:39:19.325002Z"
    },
    "papermill": {
     "duration": 0.173995,
     "end_time": "2022-04-09T11:06:24.108781",
     "exception": false,
     "start_time": "2022-04-09T11:06:23.934786",
     "status": "completed"
    },
    "tags": []
   },
   "outputs": [
    {
     "data": {
      "text/html": [
       "<div>\n",
       "<style scoped>\n",
       "    .dataframe tbody tr th:only-of-type {\n",
       "        vertical-align: middle;\n",
       "    }\n",
       "\n",
       "    .dataframe tbody tr th {\n",
       "        vertical-align: top;\n",
       "    }\n",
       "\n",
       "    .dataframe thead th {\n",
       "        text-align: right;\n",
       "    }\n",
       "</style>\n",
       "<table border=\"1\" class=\"dataframe\">\n",
       "  <thead>\n",
       "    <tr style=\"text-align: right;\">\n",
       "      <th></th>\n",
       "      <th>0</th>\n",
       "      <th>1</th>\n",
       "      <th>2</th>\n",
       "      <th>3</th>\n",
       "      <th>4</th>\n",
       "      <th>5</th>\n",
       "      <th>6</th>\n",
       "      <th>7</th>\n",
       "      <th>8</th>\n",
       "    </tr>\n",
       "  </thead>\n",
       "  <tbody>\n",
       "    <tr>\n",
       "      <th>tokens</th>\n",
       "      <td>&lt;s&gt;</td>\n",
       "      <td>▁1</td>\n",
       "      <td>▁tea</td>\n",
       "      <td>spo</td>\n",
       "      <td>on</td>\n",
       "      <td>▁ground</td>\n",
       "      <td>▁ma</td>\n",
       "      <td>ce</td>\n",
       "      <td>&lt;/s&gt;</td>\n",
       "    </tr>\n",
       "    <tr>\n",
       "      <th>word_ids</th>\n",
       "      <td>NaN</td>\n",
       "      <td>0.0</td>\n",
       "      <td>1.0</td>\n",
       "      <td>1.0</td>\n",
       "      <td>1.0</td>\n",
       "      <td>2.0</td>\n",
       "      <td>3.0</td>\n",
       "      <td>3.0</td>\n",
       "      <td>NaN</td>\n",
       "    </tr>\n",
       "  </tbody>\n",
       "</table>\n",
       "</div>"
      ],
      "text/plain": [
       "            0    1     2    3    4        5    6    7     8\n",
       "tokens    <s>   ▁1  ▁tea  spo   on  ▁ground  ▁ma   ce  </s>\n",
       "word_ids  NaN  0.0   1.0  1.0  1.0      2.0  3.0  3.0   NaN"
      ]
     },
     "execution_count": 39,
     "metadata": {},
     "output_type": "execute_result"
    }
   ],
   "source": [
    "pd.DataFrame({'tokens': tokenizer.convert_ids_to_tokens(inputs['input_ids'][0]),\n",
    "              'word_ids': inputs.word_ids(0)}).T"
   ]
  },
  {
   "cell_type": "code",
   "execution_count": 40,
   "id": "81f0b6a2",
   "metadata": {
    "execution": {
     "iopub.execute_input": "2022-04-09T11:06:24.432108Z",
     "iopub.status.busy": "2022-04-09T11:06:24.431253Z",
     "iopub.status.idle": "2022-04-09T11:06:24.436071Z",
     "shell.execute_reply": "2022-04-09T11:06:24.435585Z",
     "shell.execute_reply.started": "2022-04-09T09:39:19.348213Z"
    },
    "papermill": {
     "duration": 0.174949,
     "end_time": "2022-04-09T11:06:24.436179",
     "exception": false,
     "start_time": "2022-04-09T11:06:24.261230",
     "status": "completed"
    },
    "tags": []
   },
   "outputs": [
    {
     "data": {
      "text/html": [
       "<div>\n",
       "<style scoped>\n",
       "    .dataframe tbody tr th:only-of-type {\n",
       "        vertical-align: middle;\n",
       "    }\n",
       "\n",
       "    .dataframe tbody tr th {\n",
       "        vertical-align: top;\n",
       "    }\n",
       "\n",
       "    .dataframe thead th {\n",
       "        text-align: right;\n",
       "    }\n",
       "</style>\n",
       "<table border=\"1\" class=\"dataframe\">\n",
       "  <thead>\n",
       "    <tr style=\"text-align: right;\">\n",
       "      <th></th>\n",
       "      <th>0</th>\n",
       "      <th>1</th>\n",
       "      <th>2</th>\n",
       "      <th>3</th>\n",
       "      <th>4</th>\n",
       "      <th>5</th>\n",
       "      <th>6</th>\n",
       "      <th>7</th>\n",
       "      <th>8</th>\n",
       "      <th>9</th>\n",
       "      <th>10</th>\n",
       "      <th>11</th>\n",
       "      <th>12</th>\n",
       "      <th>13</th>\n",
       "    </tr>\n",
       "  </thead>\n",
       "  <tbody>\n",
       "    <tr>\n",
       "      <th>tokens</th>\n",
       "      <td>&lt;s&gt;</td>\n",
       "      <td>▁1/2</td>\n",
       "      <td>▁(</td>\n",
       "      <td>▁13.</td>\n",
       "      <td>5</td>\n",
       "      <td>▁</td>\n",
       "      <td>ounce</td>\n",
       "      <td>▁)</td>\n",
       "      <td>▁can</td>\n",
       "      <td>▁cho</td>\n",
       "      <td>pped</td>\n",
       "      <td>▁spin</td>\n",
       "      <td>ach</td>\n",
       "      <td>&lt;/s&gt;</td>\n",
       "    </tr>\n",
       "    <tr>\n",
       "      <th>word_ids</th>\n",
       "      <td>NaN</td>\n",
       "      <td>0.0</td>\n",
       "      <td>1.0</td>\n",
       "      <td>2.0</td>\n",
       "      <td>2.0</td>\n",
       "      <td>3.0</td>\n",
       "      <td>3.0</td>\n",
       "      <td>4.0</td>\n",
       "      <td>5.0</td>\n",
       "      <td>6.0</td>\n",
       "      <td>6.0</td>\n",
       "      <td>7.0</td>\n",
       "      <td>7.0</td>\n",
       "      <td>NaN</td>\n",
       "    </tr>\n",
       "  </tbody>\n",
       "</table>\n",
       "</div>"
      ],
      "text/plain": [
       "           0     1    2     3    4    5      6    7     8     9     10     11  \\\n",
       "tokens    <s>  ▁1/2   ▁(  ▁13.    5    ▁  ounce   ▁)  ▁can  ▁cho  pped  ▁spin   \n",
       "word_ids  NaN   0.0  1.0   2.0  2.0  3.0    3.0  4.0   5.0   6.0   6.0    7.0   \n",
       "\n",
       "           12    13  \n",
       "tokens    ach  </s>  \n",
       "word_ids  7.0   NaN  "
      ]
     },
     "execution_count": 40,
     "metadata": {},
     "output_type": "execute_result"
    }
   ],
   "source": [
    "pd.DataFrame({'tokens': tokenizer.convert_ids_to_tokens(inputs['input_ids'][1]),\n",
    "              'word_ids': inputs.word_ids(1)}).T"
   ]
  },
  {
   "cell_type": "markdown",
   "id": "a0fe7fef",
   "metadata": {
    "papermill": {
     "duration": 0.15313,
     "end_time": "2022-04-09T11:06:24.744332",
     "exception": false,
     "start_time": "2022-04-09T11:06:24.591202",
     "status": "completed"
    },
    "tags": []
   },
   "source": [
    "We need to realign the labels"
   ]
  },
  {
   "cell_type": "code",
   "execution_count": 41,
   "id": "7c98872d",
   "metadata": {
    "execution": {
     "iopub.execute_input": "2022-04-09T11:06:25.063949Z",
     "iopub.status.busy": "2022-04-09T11:06:25.062237Z",
     "iopub.status.idle": "2022-04-09T11:06:25.064576Z",
     "shell.execute_reply": "2022-04-09T11:06:25.065075Z",
     "shell.execute_reply.started": "2022-04-09T09:39:19.373452Z"
    },
    "papermill": {
     "duration": 0.166492,
     "end_time": "2022-04-09T11:06:25.065213",
     "exception": false,
     "start_time": "2022-04-09T11:06:24.898721",
     "status": "completed"
    },
    "tags": []
   },
   "outputs": [],
   "source": [
    "IGN = -100\n",
    "def align_labels(labels, word_ids):\n",
    "    last_idx = None\n",
    "    output = []\n",
    "    for idx in word_ids:\n",
    "        if idx is not None and idx != last_idx:\n",
    "            output.append(labels[idx])\n",
    "        else:\n",
    "            output.append(IGN)\n",
    "        last_idx = idx\n",
    "    return output"
   ]
  },
  {
   "cell_type": "code",
   "execution_count": 42,
   "id": "66e87fa7",
   "metadata": {
    "execution": {
     "iopub.execute_input": "2022-04-09T11:06:25.398703Z",
     "iopub.status.busy": "2022-04-09T11:06:25.397872Z",
     "iopub.status.idle": "2022-04-09T11:06:25.402054Z",
     "shell.execute_reply": "2022-04-09T11:06:25.401332Z",
     "shell.execute_reply.started": "2022-04-09T09:39:19.384785Z"
    },
    "papermill": {
     "duration": 0.180424,
     "end_time": "2022-04-09T11:06:25.402165",
     "exception": false,
     "start_time": "2022-04-09T11:06:25.221741",
     "status": "completed"
    },
    "tags": []
   },
   "outputs": [
    {
     "data": {
      "text/html": [
       "<div>\n",
       "<style scoped>\n",
       "    .dataframe tbody tr th:only-of-type {\n",
       "        vertical-align: middle;\n",
       "    }\n",
       "\n",
       "    .dataframe tbody tr th {\n",
       "        vertical-align: top;\n",
       "    }\n",
       "\n",
       "    .dataframe thead th {\n",
       "        text-align: right;\n",
       "    }\n",
       "</style>\n",
       "<table border=\"1\" class=\"dataframe\">\n",
       "  <thead>\n",
       "    <tr style=\"text-align: right;\">\n",
       "      <th></th>\n",
       "      <th>0</th>\n",
       "      <th>1</th>\n",
       "      <th>2</th>\n",
       "      <th>3</th>\n",
       "      <th>4</th>\n",
       "      <th>5</th>\n",
       "      <th>6</th>\n",
       "      <th>7</th>\n",
       "      <th>8</th>\n",
       "      <th>9</th>\n",
       "      <th>10</th>\n",
       "      <th>11</th>\n",
       "      <th>12</th>\n",
       "      <th>13</th>\n",
       "    </tr>\n",
       "  </thead>\n",
       "  <tbody>\n",
       "    <tr>\n",
       "      <th>tokens</th>\n",
       "      <td>&lt;s&gt;</td>\n",
       "      <td>▁1/2</td>\n",
       "      <td>▁(</td>\n",
       "      <td>▁13.</td>\n",
       "      <td>5</td>\n",
       "      <td>▁</td>\n",
       "      <td>ounce</td>\n",
       "      <td>▁)</td>\n",
       "      <td>▁can</td>\n",
       "      <td>▁cho</td>\n",
       "      <td>pped</td>\n",
       "      <td>▁spin</td>\n",
       "      <td>ach</td>\n",
       "      <td>&lt;/s&gt;</td>\n",
       "    </tr>\n",
       "    <tr>\n",
       "      <th>word_ids</th>\n",
       "      <td>NaN</td>\n",
       "      <td>0.0</td>\n",
       "      <td>1.0</td>\n",
       "      <td>2.0</td>\n",
       "      <td>2.0</td>\n",
       "      <td>3.0</td>\n",
       "      <td>3.0</td>\n",
       "      <td>4.0</td>\n",
       "      <td>5.0</td>\n",
       "      <td>6.0</td>\n",
       "      <td>6.0</td>\n",
       "      <td>7.0</td>\n",
       "      <td>7.0</td>\n",
       "      <td>NaN</td>\n",
       "    </tr>\n",
       "    <tr>\n",
       "      <th>labels</th>\n",
       "      <td>-100</td>\n",
       "      <td>1</td>\n",
       "      <td>0</td>\n",
       "      <td>1</td>\n",
       "      <td>-100</td>\n",
       "      <td>2</td>\n",
       "      <td>-100</td>\n",
       "      <td>0</td>\n",
       "      <td>2</td>\n",
       "      <td>3</td>\n",
       "      <td>-100</td>\n",
       "      <td>4</td>\n",
       "      <td>-100</td>\n",
       "      <td>-100</td>\n",
       "    </tr>\n",
       "    <tr>\n",
       "      <th>label_str</th>\n",
       "      <td>IGN</td>\n",
       "      <td>I-QUANTITY</td>\n",
       "      <td>O</td>\n",
       "      <td>I-QUANTITY</td>\n",
       "      <td>IGN</td>\n",
       "      <td>I-UNIT</td>\n",
       "      <td>IGN</td>\n",
       "      <td>O</td>\n",
       "      <td>I-UNIT</td>\n",
       "      <td>I-STATE</td>\n",
       "      <td>IGN</td>\n",
       "      <td>I-NAME</td>\n",
       "      <td>IGN</td>\n",
       "      <td>IGN</td>\n",
       "    </tr>\n",
       "  </tbody>\n",
       "</table>\n",
       "</div>"
      ],
      "text/plain": [
       "             0           1    2           3     4       5      6    7   \\\n",
       "tokens      <s>        ▁1/2   ▁(        ▁13.     5       ▁  ounce   ▁)   \n",
       "word_ids    NaN         0.0  1.0         2.0   2.0     3.0    3.0  4.0   \n",
       "labels     -100           1    0           1  -100       2   -100    0   \n",
       "label_str   IGN  I-QUANTITY    O  I-QUANTITY   IGN  I-UNIT    IGN    O   \n",
       "\n",
       "               8        9     10      11    12    13  \n",
       "tokens       ▁can     ▁cho  pped   ▁spin   ach  </s>  \n",
       "word_ids      5.0      6.0   6.0     7.0   7.0   NaN  \n",
       "labels          2        3  -100       4  -100  -100  \n",
       "label_str  I-UNIT  I-STATE   IGN  I-NAME   IGN   IGN  "
      ]
     },
     "execution_count": 42,
     "metadata": {},
     "output_type": "execute_result"
    }
   ],
   "source": [
    "(\n",
    "    pd.DataFrame({'tokens': tokenizer.convert_ids_to_tokens(inputs['input_ids'][1]),\n",
    "              'word_ids': inputs.word_ids(1),\n",
    "              'labels': align_labels(examples['labels'][1], inputs.word_ids(1))}\n",
    "            )\n",
    ".assign(label_str = lambda _: [tag_feature.int2str(t) if t != -100 else 'IGN' for t in _.labels])\n",
    "    .T\n",
    ")"
   ]
  },
  {
   "cell_type": "markdown",
   "id": "c193efc4",
   "metadata": {
    "execution": {
     "iopub.execute_input": "2022-03-31T04:20:10.95543Z",
     "iopub.status.busy": "2022-03-31T04:20:10.954355Z",
     "iopub.status.idle": "2022-03-31T04:20:10.960052Z",
     "shell.execute_reply": "2022-03-31T04:20:10.959256Z",
     "shell.execute_reply.started": "2022-03-31T04:20:10.955376Z"
    },
    "papermill": {
     "duration": 0.155124,
     "end_time": "2022-04-09T11:06:25.712779",
     "exception": false,
     "start_time": "2022-04-09T11:06:25.557655",
     "status": "completed"
    },
    "tags": []
   },
   "source": [
    "Then we put it into the model"
   ]
  },
  {
   "cell_type": "code",
   "execution_count": 43,
   "id": "b9db6241",
   "metadata": {
    "execution": {
     "iopub.execute_input": "2022-04-09T11:06:26.027739Z",
     "iopub.status.busy": "2022-04-09T11:06:26.026923Z",
     "iopub.status.idle": "2022-04-09T11:06:26.029480Z",
     "shell.execute_reply": "2022-04-09T11:06:26.029037Z",
     "shell.execute_reply.started": "2022-04-09T09:39:19.416876Z"
    },
    "papermill": {
     "duration": 0.16208,
     "end_time": "2022-04-09T11:06:26.029599",
     "exception": false,
     "start_time": "2022-04-09T11:06:25.867519",
     "status": "completed"
    },
    "tags": []
   },
   "outputs": [],
   "source": [
    "def tokenize_and_align(examples):\n",
    "    tokenized_inputs = tokenizer(examples['tokens'], is_split_into_words=True, truncation=True)\n",
    "    tokenized_inputs['labels'] = align_labels(examples['labels'], tokenized_inputs.word_ids())\n",
    "    return tokenized_inputs"
   ]
  },
  {
   "cell_type": "code",
   "execution_count": 44,
   "id": "4a7eecb0",
   "metadata": {
    "execution": {
     "iopub.execute_input": "2022-04-09T11:06:26.388188Z",
     "iopub.status.busy": "2022-04-09T11:06:26.387324Z",
     "iopub.status.idle": "2022-04-09T11:06:26.429933Z",
     "shell.execute_reply": "2022-04-09T11:06:26.429447Z",
     "shell.execute_reply.started": "2022-04-09T09:39:19.424933Z"
    },
    "papermill": {
     "duration": 0.242618,
     "end_time": "2022-04-09T11:06:26.430067",
     "exception": false,
     "start_time": "2022-04-09T11:06:26.187449",
     "status": "completed"
    },
    "tags": []
   },
   "outputs": [
    {
     "data": {
      "application/vnd.jupyter.widget-view+json": {
       "model_id": "936accd9c41b475abf401c442a02e4a1",
       "version_major": 2,
       "version_minor": 0
      },
      "text/plain": [
       "0ex [00:00, ?ex/s]"
      ]
     },
     "metadata": {},
     "output_type": "display_data"
    }
   ],
   "source": [
    "encoded_examples = examples.map(tokenize_and_align, remove_columns=['tokens'])"
   ]
  },
  {
   "cell_type": "code",
   "execution_count": 45,
   "id": "ba0e56f1",
   "metadata": {
    "execution": {
     "iopub.execute_input": "2022-04-09T11:06:26.753665Z",
     "iopub.status.busy": "2022-04-09T11:06:26.753138Z",
     "iopub.status.idle": "2022-04-09T11:06:26.760420Z",
     "shell.execute_reply": "2022-04-09T11:06:26.760025Z",
     "shell.execute_reply.started": "2022-04-09T09:39:19.527820Z"
    },
    "papermill": {
     "duration": 0.170559,
     "end_time": "2022-04-09T11:06:26.760530",
     "exception": false,
     "start_time": "2022-04-09T11:06:26.589971",
     "status": "completed"
    },
    "tags": []
   },
   "outputs": [
    {
     "data": {
      "text/plain": [
       "{'labels': tensor([[-100,    1,    2, -100, -100,    3,    4, -100, -100, -100, -100, -100,\n",
       "          -100, -100],\n",
       "         [-100,    1,    0,    1, -100,    2, -100,    0,    2,    3, -100,    4,\n",
       "          -100, -100]]),\n",
       " 'input_ids': tensor([[    0,   106, 26156, 11955,   191, 61585,   291,   329,     2,     1,\n",
       "              1,     1,     1,     1],\n",
       "         [    0, 22128,    15,  5847,   758,     6, 85018,  1388,   831,   681,\n",
       "          48398, 25927,   934,     2]]),\n",
       " 'attention_mask': tensor([[1, 1, 1, 1, 1, 1, 1, 1, 1, 0, 0, 0, 0, 0],\n",
       "         [1, 1, 1, 1, 1, 1, 1, 1, 1, 1, 1, 1, 1, 1]])}"
      ]
     },
     "execution_count": 45,
     "metadata": {},
     "output_type": "execute_result"
    }
   ],
   "source": [
    "inputs = collator([encoded_examples[idx] for idx in range(2)], return_tensors='pt')\n",
    "inputs"
   ]
  },
  {
   "cell_type": "code",
   "execution_count": 46,
   "id": "becbafad",
   "metadata": {
    "execution": {
     "iopub.execute_input": "2022-04-09T11:06:27.081367Z",
     "iopub.status.busy": "2022-04-09T11:06:27.080683Z",
     "iopub.status.idle": "2022-04-09T11:06:27.083242Z",
     "shell.execute_reply": "2022-04-09T11:06:27.083667Z",
     "shell.execute_reply.started": "2022-04-09T09:39:19.543697Z"
    },
    "papermill": {
     "duration": 0.164936,
     "end_time": "2022-04-09T11:06:27.083806",
     "exception": false,
     "start_time": "2022-04-09T11:06:26.918870",
     "status": "completed"
    },
    "tags": []
   },
   "outputs": [
    {
     "data": {
      "text/plain": [
       "torch.Size([2, 14])"
      ]
     },
     "execution_count": 46,
     "metadata": {},
     "output_type": "execute_result"
    }
   ],
   "source": [
    "label_ids = inputs['labels']\n",
    "label_ids.shape"
   ]
  },
  {
   "cell_type": "code",
   "execution_count": 47,
   "id": "01049895",
   "metadata": {
    "execution": {
     "iopub.execute_input": "2022-04-09T11:06:27.396402Z",
     "iopub.status.busy": "2022-04-09T11:06:27.395807Z",
     "iopub.status.idle": "2022-04-09T11:06:28.210446Z",
     "shell.execute_reply": "2022-04-09T11:06:28.209439Z",
     "shell.execute_reply.started": "2022-04-09T09:39:19.553571Z"
    },
    "papermill": {
     "duration": 0.972699,
     "end_time": "2022-04-09T11:06:28.210592",
     "exception": false,
     "start_time": "2022-04-09T11:06:27.237893",
     "status": "completed"
    },
    "tags": []
   },
   "outputs": [],
   "source": [
    "preds = model(input_ids=inputs['input_ids'].to(device), attention_mask=inputs['attention_mask'].to(device))"
   ]
  },
  {
   "cell_type": "markdown",
   "id": "5c56bd7f",
   "metadata": {
    "papermill": {
     "duration": 0.1591,
     "end_time": "2022-04-09T11:06:28.524249",
     "exception": false,
     "start_time": "2022-04-09T11:06:28.365149",
     "status": "completed"
    },
    "tags": []
   },
   "source": [
    "We get: bs x seq_length x num_labels"
   ]
  },
  {
   "cell_type": "code",
   "execution_count": 48,
   "id": "9cf86049",
   "metadata": {
    "execution": {
     "iopub.execute_input": "2022-04-09T11:06:28.844954Z",
     "iopub.status.busy": "2022-04-09T11:06:28.844264Z",
     "iopub.status.idle": "2022-04-09T11:06:28.846997Z",
     "shell.execute_reply": "2022-04-09T11:06:28.847391Z",
     "shell.execute_reply.started": "2022-04-09T09:39:20.597183Z"
    },
    "papermill": {
     "duration": 0.167048,
     "end_time": "2022-04-09T11:06:28.847520",
     "exception": false,
     "start_time": "2022-04-09T11:06:28.680472",
     "status": "completed"
    },
    "tags": []
   },
   "outputs": [
    {
     "data": {
      "text/plain": [
       "torch.Size([2, 14, 8])"
      ]
     },
     "execution_count": 48,
     "metadata": {},
     "output_type": "execute_result"
    }
   ],
   "source": [
    "predictions = preds.logits\n",
    "predictions.shape"
   ]
  },
  {
   "cell_type": "code",
   "execution_count": 49,
   "id": "4f0809a9",
   "metadata": {
    "execution": {
     "iopub.execute_input": "2022-04-09T11:06:29.166090Z",
     "iopub.status.busy": "2022-04-09T11:06:29.165184Z",
     "iopub.status.idle": "2022-04-09T11:06:29.167668Z",
     "shell.execute_reply": "2022-04-09T11:06:29.167245Z",
     "shell.execute_reply.started": "2022-04-09T09:39:20.615636Z"
    },
    "papermill": {
     "duration": 0.164654,
     "end_time": "2022-04-09T11:06:29.167793",
     "exception": false,
     "start_time": "2022-04-09T11:06:29.003139",
     "status": "completed"
    },
    "tags": []
   },
   "outputs": [],
   "source": [
    "del model\n",
    "del preds"
   ]
  },
  {
   "cell_type": "code",
   "execution_count": 50,
   "id": "27ecfc60",
   "metadata": {
    "execution": {
     "iopub.execute_input": "2022-04-09T11:06:29.508054Z",
     "iopub.status.busy": "2022-04-09T11:06:29.486426Z",
     "iopub.status.idle": "2022-04-09T11:06:33.402454Z",
     "shell.execute_reply": "2022-04-09T11:06:33.402028Z",
     "shell.execute_reply.started": "2022-04-09T09:39:20.628269Z"
    },
    "papermill": {
     "duration": 4.080256,
     "end_time": "2022-04-09T11:06:33.402577",
     "exception": false,
     "start_time": "2022-04-09T11:06:29.322321",
     "status": "completed"
    },
    "tags": []
   },
   "outputs": [
    {
     "data": {
      "application/vnd.jupyter.widget-view+json": {
       "model_id": "fc461be0c5864fb791ccccaa61ef6d9b",
       "version_major": 2,
       "version_minor": 0
      },
      "text/plain": [
       "0ex [00:00, ?ex/s]"
      ]
     },
     "metadata": {},
     "output_type": "display_data"
    },
    {
     "data": {
      "application/vnd.jupyter.widget-view+json": {
       "model_id": "a980290097f7425c996919b38c648607",
       "version_major": 2,
       "version_minor": 0
      },
      "text/plain": [
       "0ex [00:00, ?ex/s]"
      ]
     },
     "metadata": {},
     "output_type": "display_data"
    },
    {
     "data": {
      "application/vnd.jupyter.widget-view+json": {
       "model_id": "274d9905708f4d6baea9eab4604cf8d9",
       "version_major": 2,
       "version_minor": 0
      },
      "text/plain": [
       "0ex [00:00, ?ex/s]"
      ]
     },
     "metadata": {},
     "output_type": "display_data"
    },
    {
     "data": {
      "application/vnd.jupyter.widget-view+json": {
       "model_id": "06a43cca7ada46059fc6d63ae01434fc",
       "version_major": 2,
       "version_minor": 0
      },
      "text/plain": [
       "0ex [00:00, ?ex/s]"
      ]
     },
     "metadata": {},
     "output_type": "display_data"
    },
    {
     "data": {
      "application/vnd.jupyter.widget-view+json": {
       "model_id": "b33fe439a38e47a3be9695dd0973d573",
       "version_major": 2,
       "version_minor": 0
      },
      "text/plain": [
       "0ex [00:00, ?ex/s]"
      ]
     },
     "metadata": {},
     "output_type": "display_data"
    },
    {
     "data": {
      "application/vnd.jupyter.widget-view+json": {
       "model_id": "e31f107d76f44e209d677cfe72a1f2c1",
       "version_major": 2,
       "version_minor": 0
      },
      "text/plain": [
       "0ex [00:00, ?ex/s]"
      ]
     },
     "metadata": {},
     "output_type": "display_data"
    },
    {
     "data": {
      "application/vnd.jupyter.widget-view+json": {
       "model_id": "9f2c34e89d434d0ab144c662924f719c",
       "version_major": 2,
       "version_minor": 0
      },
      "text/plain": [
       "0ex [00:00, ?ex/s]"
      ]
     },
     "metadata": {},
     "output_type": "display_data"
    },
    {
     "data": {
      "application/vnd.jupyter.widget-view+json": {
       "model_id": "9ac503395ad94274bb0389376b491b54",
       "version_major": 2,
       "version_minor": 0
      },
      "text/plain": [
       "0ex [00:00, ?ex/s]"
      ]
     },
     "metadata": {},
     "output_type": "display_data"
    },
    {
     "data": {
      "application/vnd.jupyter.widget-view+json": {
       "model_id": "30715d2b603547aba296869aaab2444a",
       "version_major": 2,
       "version_minor": 0
      },
      "text/plain": [
       "0ex [00:00, ?ex/s]"
      ]
     },
     "metadata": {},
     "output_type": "display_data"
    },
    {
     "data": {
      "application/vnd.jupyter.widget-view+json": {
       "model_id": "e321ca0e468f492084d5c6071811cf66",
       "version_major": 2,
       "version_minor": 0
      },
      "text/plain": [
       "0ex [00:00, ?ex/s]"
      ]
     },
     "metadata": {},
     "output_type": "display_data"
    },
    {
     "data": {
      "application/vnd.jupyter.widget-view+json": {
       "model_id": "49f0f717c291435da0e6a74fa3462aec",
       "version_major": 2,
       "version_minor": 0
      },
      "text/plain": [
       "0ex [00:00, ?ex/s]"
      ]
     },
     "metadata": {},
     "output_type": "display_data"
    },
    {
     "data": {
      "application/vnd.jupyter.widget-view+json": {
       "model_id": "9ec59bf8333a40ffb28bad48f437f1af",
       "version_major": 2,
       "version_minor": 0
      },
      "text/plain": [
       "0ex [00:00, ?ex/s]"
      ]
     },
     "metadata": {},
     "output_type": "display_data"
    }
   ],
   "source": [
    "data_encoded = {source: ds.map(map_fixup_tokens).map(tokenize_and_align, remove_columns=['tokens']) for source, ds in data.items()}"
   ]
  },
  {
   "cell_type": "markdown",
   "id": "a88c1bc2",
   "metadata": {
    "papermill": {
     "duration": 0.16566,
     "end_time": "2022-04-09T11:06:33.731856",
     "exception": false,
     "start_time": "2022-04-09T11:06:33.566196",
     "status": "completed"
    },
    "tags": []
   },
   "source": [
    "## Evaluating a prediction\n",
    "\n",
    "To evaluate our predictions we need to align them back with the original labels.\n",
    "This is almost the inverse of padding with the -100 tags."
   ]
  },
  {
   "cell_type": "code",
   "execution_count": 51,
   "id": "27b81442",
   "metadata": {
    "execution": {
     "iopub.execute_input": "2022-04-09T11:06:34.068807Z",
     "iopub.status.busy": "2022-04-09T11:06:34.068211Z",
     "iopub.status.idle": "2022-04-09T11:06:34.072360Z",
     "shell.execute_reply": "2022-04-09T11:06:34.072756Z",
     "shell.execute_reply.started": "2022-04-09T09:39:26.378974Z"
    },
    "papermill": {
     "duration": 0.176182,
     "end_time": "2022-04-09T11:06:34.072898",
     "exception": false,
     "start_time": "2022-04-09T11:06:33.896716",
     "status": "completed"
    },
    "tags": []
   },
   "outputs": [
    {
     "data": {
      "text/plain": [
       "ClassLabel(num_classes=8, names=['O', 'I-QUANTITY', 'I-UNIT', 'I-STATE', 'I-NAME', 'I-DF', 'I-SIZE', 'I-TEMP'], id=None)"
      ]
     },
     "execution_count": 51,
     "metadata": {},
     "output_type": "execute_result"
    }
   ],
   "source": [
    "tag_feature"
   ]
  },
  {
   "cell_type": "code",
   "execution_count": 52,
   "id": "20986829",
   "metadata": {
    "execution": {
     "iopub.execute_input": "2022-04-09T11:06:34.416698Z",
     "iopub.status.busy": "2022-04-09T11:06:34.415630Z",
     "iopub.status.idle": "2022-04-09T11:06:34.420228Z",
     "shell.execute_reply": "2022-04-09T11:06:34.419595Z",
     "shell.execute_reply.started": "2022-04-09T09:39:26.390950Z"
    },
    "papermill": {
     "duration": 0.182194,
     "end_time": "2022-04-09T11:06:34.420359",
     "exception": false,
     "start_time": "2022-04-09T11:06:34.238165",
     "status": "completed"
    },
    "tags": []
   },
   "outputs": [],
   "source": [
    "from itertools import compress\n",
    "import numpy as np\n",
    "\n",
    "def align_predictions(predictions, label_ids, int2str=tag_feature.names):\n",
    "    preds = np.argmax(predictions, axis=-1)\n",
    "    batch_size, seq_len = preds.shape\n",
    "    \n",
    "    y_true = []\n",
    "    y_pred = []\n",
    "    for pred, label in zip(preds, label_ids):\n",
    "        mask = [l != IGN for l in label]\n",
    "        y_true.append([int2str[l] for l in compress(label, mask)])\n",
    "        y_pred.append([int2str[l] for l in compress(pred, mask)])\n",
    "    \n",
    "    return y_true, y_pred"
   ]
  },
  {
   "cell_type": "code",
   "execution_count": 53,
   "id": "120bafb2",
   "metadata": {
    "execution": {
     "iopub.execute_input": "2022-04-09T11:06:34.760059Z",
     "iopub.status.busy": "2022-04-09T11:06:34.759090Z",
     "iopub.status.idle": "2022-04-09T11:06:34.764844Z",
     "shell.execute_reply": "2022-04-09T11:06:34.764413Z",
     "shell.execute_reply.started": "2022-04-09T09:39:26.403360Z"
    },
    "papermill": {
     "duration": 0.175491,
     "end_time": "2022-04-09T11:06:34.764958",
     "exception": false,
     "start_time": "2022-04-09T11:06:34.589467",
     "status": "completed"
    },
    "tags": []
   },
   "outputs": [
    {
     "data": {
      "text/plain": [
       "([['I-QUANTITY', 'I-UNIT', 'I-STATE', 'I-NAME'],\n",
       "  ['I-QUANTITY',\n",
       "   'O',\n",
       "   'I-QUANTITY',\n",
       "   'I-UNIT',\n",
       "   'O',\n",
       "   'I-UNIT',\n",
       "   'I-STATE',\n",
       "   'I-NAME']],\n",
       " [['O', 'I-TEMP', 'I-TEMP', 'O'],\n",
       "  ['O', 'O', 'O', 'O', 'I-STATE', 'O', 'O', 'I-TEMP']])"
      ]
     },
     "execution_count": 53,
     "metadata": {},
     "output_type": "execute_result"
    }
   ],
   "source": [
    "y_true, y_pred = align_predictions(predictions.cpu().detach().numpy(), label_ids.cpu().detach().numpy())\n",
    "y_true, y_pred"
   ]
  },
  {
   "cell_type": "code",
   "execution_count": 54,
   "id": "18757cb6",
   "metadata": {
    "execution": {
     "iopub.execute_input": "2022-04-09T11:06:35.100543Z",
     "iopub.status.busy": "2022-04-09T11:06:35.099634Z",
     "iopub.status.idle": "2022-04-09T11:06:47.544632Z",
     "shell.execute_reply": "2022-04-09T11:06:47.545151Z",
     "shell.execute_reply.started": "2022-04-09T09:39:26.420608Z"
    },
    "papermill": {
     "duration": 12.615133,
     "end_time": "2022-04-09T11:06:47.545323",
     "exception": false,
     "start_time": "2022-04-09T11:06:34.930190",
     "status": "completed"
    },
    "tags": []
   },
   "outputs": [
    {
     "name": "stdout",
     "output_type": "stream",
     "text": [
      "huggingface/tokenizers: The current process just got forked, after parallelism has already been used. Disabling parallelism to avoid deadlocks...\n",
      "To disable this warning, you can either:\n",
      "\t- Avoid using `tokenizers` before the fork if possible\n",
      "\t- Explicitly set the environment variable TOKENIZERS_PARALLELISM=(true | false)\n",
      "Collecting seqeval\r\n",
      "  Downloading seqeval-1.2.2.tar.gz (43 kB)\r\n",
      "     |████████████████████████████████| 43 kB 908 kB/s             \r\n",
      "\u001b[?25h  Preparing metadata (setup.py) ... \u001b[?25l-\b \bdone\r\n",
      "\u001b[?25hRequirement already satisfied: numpy>=1.14.0 in /opt/conda/lib/python3.7/site-packages (from seqeval) (1.20.3)\r\n",
      "Requirement already satisfied: scikit-learn>=0.21.3 in /opt/conda/lib/python3.7/site-packages (from seqeval) (1.0.1)\r\n",
      "Requirement already satisfied: joblib>=0.11 in /opt/conda/lib/python3.7/site-packages (from scikit-learn>=0.21.3->seqeval) (1.1.0)\r\n",
      "Requirement already satisfied: threadpoolctl>=2.0.0 in /opt/conda/lib/python3.7/site-packages (from scikit-learn>=0.21.3->seqeval) (3.0.0)\r\n",
      "Requirement already satisfied: scipy>=1.1.0 in /opt/conda/lib/python3.7/site-packages (from scikit-learn>=0.21.3->seqeval) (1.7.3)\r\n",
      "Building wheels for collected packages: seqeval\r\n",
      "  Building wheel for seqeval (setup.py) ... \u001b[?25l-\b \b\\\b \b|\b \bdone\r\n",
      "\u001b[?25h  Created wheel for seqeval: filename=seqeval-1.2.2-py3-none-any.whl size=16181 sha256=4887e17d28f8f2e026abba028880614834608b4e9eeaa532d83a5203cbadd9f2\r\n",
      "  Stored in directory: /root/.cache/pip/wheels/05/96/ee/7cac4e74f3b19e3158dce26a20a1c86b3533c43ec72a549fd7\r\n",
      "Successfully built seqeval\r\n",
      "Installing collected packages: seqeval\r\n",
      "Successfully installed seqeval-1.2.2\r\n",
      "\u001b[33mWARNING: Running pip as the 'root' user can result in broken permissions and conflicting behaviour with the system package manager. It is recommended to use a virtual environment instead: https://pip.pypa.io/warnings/venv\u001b[0m\r\n"
     ]
    }
   ],
   "source": [
    "!pip install seqeval"
   ]
  },
  {
   "cell_type": "code",
   "execution_count": 55,
   "id": "d34026ad",
   "metadata": {
    "execution": {
     "iopub.execute_input": "2022-04-09T11:06:47.888862Z",
     "iopub.status.busy": "2022-04-09T11:06:47.888036Z",
     "iopub.status.idle": "2022-04-09T11:06:47.897305Z",
     "shell.execute_reply": "2022-04-09T11:06:47.896872Z",
     "shell.execute_reply.started": "2022-04-09T09:39:44.100288Z"
    },
    "papermill": {
     "duration": 0.184069,
     "end_time": "2022-04-09T11:06:47.897413",
     "exception": false,
     "start_time": "2022-04-09T11:06:47.713344",
     "status": "completed"
    },
    "tags": []
   },
   "outputs": [],
   "source": [
    "from seqeval.metrics import f1_score"
   ]
  },
  {
   "cell_type": "code",
   "execution_count": 56,
   "id": "997eb197",
   "metadata": {
    "execution": {
     "iopub.execute_input": "2022-04-09T11:06:48.242489Z",
     "iopub.status.busy": "2022-04-09T11:06:48.239805Z",
     "iopub.status.idle": "2022-04-09T11:06:48.246285Z",
     "shell.execute_reply": "2022-04-09T11:06:48.246696Z",
     "shell.execute_reply.started": "2022-04-09T09:39:44.119254Z"
    },
    "papermill": {
     "duration": 0.180197,
     "end_time": "2022-04-09T11:06:48.246840",
     "exception": false,
     "start_time": "2022-04-09T11:06:48.066643",
     "status": "completed"
    },
    "tags": []
   },
   "outputs": [
    {
     "data": {
      "text/plain": [
       "0.0"
      ]
     },
     "execution_count": 56,
     "metadata": {},
     "output_type": "execute_result"
    }
   ],
   "source": [
    "f1_score(y_true, y_pred)"
   ]
  },
  {
   "cell_type": "code",
   "execution_count": 57,
   "id": "5e12f86b",
   "metadata": {
    "execution": {
     "iopub.execute_input": "2022-04-09T11:06:48.590797Z",
     "iopub.status.busy": "2022-04-09T11:06:48.590163Z",
     "iopub.status.idle": "2022-04-09T11:06:48.592951Z",
     "shell.execute_reply": "2022-04-09T11:06:48.593366Z",
     "shell.execute_reply.started": "2022-04-09T09:39:44.134605Z"
    },
    "papermill": {
     "duration": 0.179595,
     "end_time": "2022-04-09T11:06:48.593508",
     "exception": false,
     "start_time": "2022-04-09T11:06:48.413913",
     "status": "completed"
    },
    "tags": []
   },
   "outputs": [
    {
     "data": {
      "text/plain": [
       "0.4"
      ]
     },
     "execution_count": 57,
     "metadata": {},
     "output_type": "execute_result"
    }
   ],
   "source": [
    "f1_score([['I-QUANTITY', 'I-UNIT', 'I-STATE', 'I-NAME']], [['I-QUANTITY', 'O', 'O', 'O']])"
   ]
  },
  {
   "cell_type": "markdown",
   "id": "632e321a",
   "metadata": {
    "papermill": {
     "duration": 0.182819,
     "end_time": "2022-04-09T11:06:48.943705",
     "exception": false,
     "start_time": "2022-04-09T11:06:48.760886",
     "status": "completed"
    },
    "tags": []
   },
   "source": [
    "# Baseline"
   ]
  },
  {
   "cell_type": "markdown",
   "id": "36c24838",
   "metadata": {
    "papermill": {
     "duration": 0.169695,
     "end_time": "2022-04-09T11:06:49.295253",
     "exception": false,
     "start_time": "2022-04-09T11:06:49.125558",
     "status": "completed"
    },
    "tags": []
   },
   "source": [
    "A simple baseline is to assign each word to the most common tag.\n",
    "\n",
    "Ideally I'd use the pipeline above, but it's a touch tricky."
   ]
  },
  {
   "cell_type": "code",
   "execution_count": 58,
   "id": "aee40f0e",
   "metadata": {
    "execution": {
     "iopub.execute_input": "2022-04-09T11:06:49.642231Z",
     "iopub.status.busy": "2022-04-09T11:06:49.641240Z",
     "iopub.status.idle": "2022-04-09T11:06:49.917908Z",
     "shell.execute_reply": "2022-04-09T11:06:49.917328Z",
     "shell.execute_reply.started": "2022-04-09T09:39:44.147844Z"
    },
    "papermill": {
     "duration": 0.453078,
     "end_time": "2022-04-09T11:06:49.918049",
     "exception": false,
     "start_time": "2022-04-09T11:06:49.464971",
     "status": "completed"
    },
    "tags": []
   },
   "outputs": [],
   "source": [
    "most_common_token = df_train.groupby('tokens').agg(label=('labels', lambda x: pd.Series.mode(x)[0]))['label'].to_dict()"
   ]
  },
  {
   "cell_type": "code",
   "execution_count": 59,
   "id": "135e5093",
   "metadata": {
    "execution": {
     "iopub.execute_input": "2022-04-09T11:06:50.283769Z",
     "iopub.status.busy": "2022-04-09T11:06:50.282902Z",
     "iopub.status.idle": "2022-04-09T11:06:50.427570Z",
     "shell.execute_reply": "2022-04-09T11:06:50.428213Z",
     "shell.execute_reply.started": "2022-04-09T09:39:44.658765Z"
    },
    "papermill": {
     "duration": 0.334565,
     "end_time": "2022-04-09T11:06:50.428466",
     "exception": false,
     "start_time": "2022-04-09T11:06:50.093901",
     "status": "completed"
    },
    "tags": []
   },
   "outputs": [
    {
     "name": "stdout",
     "output_type": "stream",
     "text": [
      "CPU times: user 144 ms, sys: 52 µs, total: 144 ms\n",
      "Wall time: 143 ms\n"
     ]
    }
   ],
   "source": [
    "%%time\n",
    "preds = {}\n",
    "actual = {}\n",
    "tokens = {}\n",
    "\n",
    "eval_split = 'validation'\n",
    "\n",
    "for source in data_sources:\n",
    "    preds[source] = []\n",
    "    actual[source] = []\n",
    "    for item in data[source][eval_split]:\n",
    "        actual[source].append(tag_feature.int2str(item['labels']))\n",
    "        preds[source].append([most_common_token.get(t, 'O') for t in item['tokens']])"
   ]
  },
  {
   "cell_type": "markdown",
   "id": "1851aa68",
   "metadata": {
    "papermill": {
     "duration": 0.171737,
     "end_time": "2022-04-09T11:06:50.772715",
     "exception": false,
     "start_time": "2022-04-09T11:06:50.600978",
     "status": "completed"
    },
    "tags": []
   },
   "source": [
    "This simple model gives an f1 scores in the mid 90s.\n",
    "They are only a couple of percentage points lower than the CRF in the original paper."
   ]
  },
  {
   "cell_type": "code",
   "execution_count": 60,
   "id": "9dea7dc3",
   "metadata": {
    "execution": {
     "iopub.execute_input": "2022-04-09T11:06:51.132904Z",
     "iopub.status.busy": "2022-04-09T11:06:51.132044Z",
     "iopub.status.idle": "2022-04-09T11:06:51.170555Z",
     "shell.execute_reply": "2022-04-09T11:06:51.171114Z",
     "shell.execute_reply.started": "2022-04-09T09:39:44.869401Z"
    },
    "papermill": {
     "duration": 0.222978,
     "end_time": "2022-04-09T11:06:51.171299",
     "exception": false,
     "start_time": "2022-04-09T11:06:50.948321",
     "status": "completed"
    },
    "tags": []
   },
   "outputs": [
    {
     "name": "stdout",
     "output_type": "stream",
     "text": [
      "ar 0.953759925268566\n",
      "gk 0.9213137665967854\n"
     ]
    }
   ],
   "source": [
    "for source in data_sources:\n",
    "    print(source, f1_score(actual[source], preds[source]))"
   ]
  },
  {
   "cell_type": "markdown",
   "id": "da2d7971",
   "metadata": {
    "papermill": {
     "duration": 0.17167,
     "end_time": "2022-04-09T11:06:51.514592",
     "exception": false,
     "start_time": "2022-04-09T11:06:51.342922",
     "status": "completed"
    },
    "tags": []
   },
   "source": [
    "Looking by label: the most common mistakes are mispredicting terms for \"O\", especially \"NAME\"."
   ]
  },
  {
   "cell_type": "code",
   "execution_count": 61,
   "id": "b033d860",
   "metadata": {
    "execution": {
     "iopub.execute_input": "2022-04-09T11:06:51.866168Z",
     "iopub.status.busy": "2022-04-09T11:06:51.865318Z",
     "iopub.status.idle": "2022-04-09T11:06:51.867379Z",
     "shell.execute_reply": "2022-04-09T11:06:51.867804Z",
     "shell.execute_reply.started": "2022-04-09T09:39:44.932081Z"
    },
    "papermill": {
     "duration": 0.1819,
     "end_time": "2022-04-09T11:06:51.867950",
     "exception": false,
     "start_time": "2022-04-09T11:06:51.686050",
     "status": "completed"
    },
    "tags": []
   },
   "outputs": [],
   "source": [
    "preds_flat = {source: [l for row in preds[source] for l in row] for source in data_sources}\n",
    "actuals_flat = {source: [l for row in actual[source] for l in row] for source in data_sources}\n"
   ]
  },
  {
   "cell_type": "code",
   "execution_count": 62,
   "id": "f1532118",
   "metadata": {
    "execution": {
     "iopub.execute_input": "2022-04-09T11:06:52.242625Z",
     "iopub.status.busy": "2022-04-09T11:06:52.241011Z",
     "iopub.status.idle": "2022-04-09T11:06:53.385119Z",
     "shell.execute_reply": "2022-04-09T11:06:53.384690Z",
     "shell.execute_reply.started": "2022-04-09T09:39:44.942811Z"
    },
    "papermill": {
     "duration": 1.335083,
     "end_time": "2022-04-09T11:06:53.385249",
     "exception": false,
     "start_time": "2022-04-09T11:06:52.050166",
     "status": "completed"
    },
    "tags": []
   },
   "outputs": [
    {
     "data": {
      "image/png": "[encoded data removed]",
      "text/plain": [
       "<Figure size 864x864 with 2 Axes>"
      ]
     },
     "metadata": {
      "needs_background": "light"
     },
     "output_type": "display_data"
    },
    {
     "data": {
      "image/png": "[encoded data removed]",
      "text/plain": [
       "<Figure size 864x864 with 2 Axes>"
      ]
     },
     "metadata": {
      "needs_background": "light"
     },
     "output_type": "display_data"
    }
   ],
   "source": [
    "from sklearn.metrics import ConfusionMatrixDisplay\n",
    "\n",
    "import matplotlib.pyplot as plt\n",
    "\n",
    "\n",
    "for source in data_sources:\n",
    "    fig, ax = plt.subplots(1, figsize=(12, 12))\n",
    "    ax.set_title(source)\n",
    "    ConfusionMatrixDisplay.from_predictions(actuals_flat[source], preds_flat[source], ax=ax)"
   ]
  },
  {
   "cell_type": "markdown",
   "id": "b4527460",
   "metadata": {
    "papermill": {
     "duration": 0.170521,
     "end_time": "2022-04-09T11:06:53.729971",
     "exception": false,
     "start_time": "2022-04-09T11:06:53.559450",
     "status": "completed"
    },
    "tags": []
   },
   "source": [
    "What are the confused tags?"
   ]
  },
  {
   "cell_type": "code",
   "execution_count": 63,
   "id": "50939334",
   "metadata": {
    "execution": {
     "iopub.execute_input": "2022-04-09T11:06:54.219417Z",
     "iopub.status.busy": "2022-04-09T11:06:54.218549Z",
     "iopub.status.idle": "2022-04-09T11:06:54.253907Z",
     "shell.execute_reply": "2022-04-09T11:06:54.254930Z",
     "shell.execute_reply.started": "2022-04-09T09:39:46.649090Z"
    },
    "papermill": {
     "duration": 0.351284,
     "end_time": "2022-04-09T11:06:54.255125",
     "exception": false,
     "start_time": "2022-04-09T11:06:53.903841",
     "status": "completed"
    },
    "tags": []
   },
   "outputs": [],
   "source": [
    "tokens_flat = {source: [t for s in data[source][eval_split]['tokens'] for t in s] for source in data_sources}"
   ]
  },
  {
   "cell_type": "code",
   "execution_count": 64,
   "id": "6fc40de4",
   "metadata": {
    "execution": {
     "iopub.execute_input": "2022-04-09T11:06:54.713193Z",
     "iopub.status.busy": "2022-04-09T11:06:54.711575Z",
     "iopub.status.idle": "2022-04-09T11:06:54.713790Z",
     "shell.execute_reply": "2022-04-09T11:06:54.714191Z",
     "shell.execute_reply.started": "2022-04-09T09:39:46.682999Z"
    },
    "papermill": {
     "duration": 0.179825,
     "end_time": "2022-04-09T11:06:54.714322",
     "exception": false,
     "start_time": "2022-04-09T11:06:54.534497",
     "status": "completed"
    },
    "tags": []
   },
   "outputs": [],
   "source": [
    "mismatch = []\n",
    "for source in data_sources:\n",
    "    for label, pred, token in zip(actuals_flat[source], preds_flat[source], tokens_flat[source]):\n",
    "        if label != pred and label != 'O' and pred != 'O':\n",
    "            mismatch.append((token, label, pred))"
   ]
  },
  {
   "cell_type": "markdown",
   "id": "09e8a33f",
   "metadata": {
    "papermill": {
     "duration": 0.17596,
     "end_time": "2022-04-09T11:06:55.063443",
     "exception": false,
     "start_time": "2022-04-09T11:06:54.887483",
     "status": "completed"
    },
    "tags": []
   },
   "source": [
    "The most common mistake is whether cloves is a unit or a name."
   ]
  },
  {
   "cell_type": "code",
   "execution_count": 65,
   "id": "444996b9",
   "metadata": {
    "execution": {
     "iopub.execute_input": "2022-04-09T11:06:55.416999Z",
     "iopub.status.busy": "2022-04-09T11:06:55.415258Z",
     "iopub.status.idle": "2022-04-09T11:06:55.426860Z",
     "shell.execute_reply": "2022-04-09T11:06:55.427265Z",
     "shell.execute_reply.started": "2022-04-09T09:39:46.695637Z"
    },
    "papermill": {
     "duration": 0.189338,
     "end_time": "2022-04-09T11:06:55.427397",
     "exception": false,
     "start_time": "2022-04-09T11:06:55.238059",
     "status": "completed"
    },
    "tags": []
   },
   "outputs": [
    {
     "data": {
      "text/html": [
       "<div>\n",
       "<style scoped>\n",
       "    .dataframe tbody tr th:only-of-type {\n",
       "        vertical-align: middle;\n",
       "    }\n",
       "\n",
       "    .dataframe tbody tr th {\n",
       "        vertical-align: top;\n",
       "    }\n",
       "\n",
       "    .dataframe thead th {\n",
       "        text-align: right;\n",
       "    }\n",
       "</style>\n",
       "<table border=\"1\" class=\"dataframe\">\n",
       "  <thead>\n",
       "    <tr style=\"text-align: right;\">\n",
       "      <th></th>\n",
       "      <th></th>\n",
       "      <th></th>\n",
       "      <th>n</th>\n",
       "    </tr>\n",
       "    <tr>\n",
       "      <th>token</th>\n",
       "      <th>actual</th>\n",
       "      <th>pred</th>\n",
       "      <th></th>\n",
       "    </tr>\n",
       "  </thead>\n",
       "  <tbody>\n",
       "    <tr>\n",
       "      <th>cloves</th>\n",
       "      <th>I-NAME</th>\n",
       "      <th>I-UNIT</th>\n",
       "      <td>7</td>\n",
       "    </tr>\n",
       "    <tr>\n",
       "      <th>firm</th>\n",
       "      <th>I-STATE</th>\n",
       "      <th>I-NAME</th>\n",
       "      <td>2</td>\n",
       "    </tr>\n",
       "    <tr>\n",
       "      <th>halved</th>\n",
       "      <th>I-UNIT</th>\n",
       "      <th>I-STATE</th>\n",
       "      <td>2</td>\n",
       "    </tr>\n",
       "    <tr>\n",
       "      <th>sprig</th>\n",
       "      <th>I-UNIT</th>\n",
       "      <th>I-NAME</th>\n",
       "      <td>2</td>\n",
       "    </tr>\n",
       "    <tr>\n",
       "      <th>2</th>\n",
       "      <th>I-STATE</th>\n",
       "      <th>I-QUANTITY</th>\n",
       "      <td>1</td>\n",
       "    </tr>\n",
       "    <tr>\n",
       "      <th>peeled</th>\n",
       "      <th>I-SIZE</th>\n",
       "      <th>I-STATE</th>\n",
       "      <td>1</td>\n",
       "    </tr>\n",
       "    <tr>\n",
       "      <th rowspan=\"2\" valign=\"top\">stewing</th>\n",
       "      <th>I-STATE</th>\n",
       "      <th>I-UNIT</th>\n",
       "      <td>1</td>\n",
       "    </tr>\n",
       "    <tr>\n",
       "      <th>I-NAME</th>\n",
       "      <th>I-UNIT</th>\n",
       "      <td>1</td>\n",
       "    </tr>\n",
       "    <tr>\n",
       "      <th>sliced</th>\n",
       "      <th>I-SIZE</th>\n",
       "      <th>I-STATE</th>\n",
       "      <td>1</td>\n",
       "    </tr>\n",
       "    <tr>\n",
       "      <th>short</th>\n",
       "      <th>I-SIZE</th>\n",
       "      <th>I-NAME</th>\n",
       "      <td>1</td>\n",
       "    </tr>\n",
       "    <tr>\n",
       "      <th>sheet</th>\n",
       "      <th>I-NAME</th>\n",
       "      <th>I-UNIT</th>\n",
       "      <td>1</td>\n",
       "    </tr>\n",
       "    <tr>\n",
       "      <th>light</th>\n",
       "      <th>I-NAME</th>\n",
       "      <th>I-DF</th>\n",
       "      <td>1</td>\n",
       "    </tr>\n",
       "    <tr>\n",
       "      <th>mild</th>\n",
       "      <th>I-NAME</th>\n",
       "      <th>I-STATE</th>\n",
       "      <td>1</td>\n",
       "    </tr>\n",
       "    <tr>\n",
       "      <th>bags</th>\n",
       "      <th>I-NAME</th>\n",
       "      <th>I-UNIT</th>\n",
       "      <td>1</td>\n",
       "    </tr>\n",
       "    <tr>\n",
       "      <th>head</th>\n",
       "      <th>I-UNIT</th>\n",
       "      <th>I-NAME</th>\n",
       "      <td>1</td>\n",
       "    </tr>\n",
       "    <tr>\n",
       "      <th>hard-boiled</th>\n",
       "      <th>I-NAME</th>\n",
       "      <th>I-STATE</th>\n",
       "      <td>1</td>\n",
       "    </tr>\n",
       "    <tr>\n",
       "      <th>creamy</th>\n",
       "      <th>I-NAME</th>\n",
       "      <th>I-STATE</th>\n",
       "      <td>1</td>\n",
       "    </tr>\n",
       "    <tr>\n",
       "      <th>clove</th>\n",
       "      <th>I-NAME</th>\n",
       "      <th>I-UNIT</th>\n",
       "      <td>1</td>\n",
       "    </tr>\n",
       "    <tr>\n",
       "      <th>torn</th>\n",
       "      <th>I-NAME</th>\n",
       "      <th>I-DF</th>\n",
       "      <td>1</td>\n",
       "    </tr>\n",
       "  </tbody>\n",
       "</table>\n",
       "</div>"
      ],
      "text/plain": [
       "                                n\n",
       "token       actual  pred         \n",
       "cloves      I-NAME  I-UNIT      7\n",
       "firm        I-STATE I-NAME      2\n",
       "halved      I-UNIT  I-STATE     2\n",
       "sprig       I-UNIT  I-NAME      2\n",
       "2           I-STATE I-QUANTITY  1\n",
       "peeled      I-SIZE  I-STATE     1\n",
       "stewing     I-STATE I-UNIT      1\n",
       "            I-NAME  I-UNIT      1\n",
       "sliced      I-SIZE  I-STATE     1\n",
       "short       I-SIZE  I-NAME      1\n",
       "sheet       I-NAME  I-UNIT      1\n",
       "light       I-NAME  I-DF        1\n",
       "mild        I-NAME  I-STATE     1\n",
       "bags        I-NAME  I-UNIT      1\n",
       "head        I-UNIT  I-NAME      1\n",
       "hard-boiled I-NAME  I-STATE     1\n",
       "creamy      I-NAME  I-STATE     1\n",
       "clove       I-NAME  I-UNIT      1\n",
       "torn        I-NAME  I-DF        1"
      ]
     },
     "execution_count": 65,
     "metadata": {},
     "output_type": "execute_result"
    }
   ],
   "source": [
    "(\n",
    "    pd.DataFrame(mismatch, columns=['token', 'actual', 'pred'])\n",
    "    .assign(n=1)\n",
    "    .groupby(['token', 'actual', 'pred'])\n",
    "    .count()\n",
    "    .sort_values('n', ascending=False)\n",
    ")"
   ]
  },
  {
   "cell_type": "markdown",
   "id": "13035063",
   "metadata": {
    "papermill": {
     "duration": 0.171376,
     "end_time": "2022-04-09T11:06:55.771421",
     "exception": false,
     "start_time": "2022-04-09T11:06:55.600045",
     "status": "completed"
    },
    "tags": []
   },
   "source": [
    "# Fit model"
   ]
  },
  {
   "cell_type": "code",
   "execution_count": 66,
   "id": "d6f589dc",
   "metadata": {
    "execution": {
     "iopub.execute_input": "2022-04-09T11:06:56.121310Z",
     "iopub.status.busy": "2022-04-09T11:06:56.120441Z",
     "iopub.status.idle": "2022-04-09T11:06:56.122574Z",
     "shell.execute_reply": "2022-04-09T11:06:56.122997Z",
     "shell.execute_reply.started": "2022-04-09T09:39:46.724899Z"
    },
    "papermill": {
     "duration": 0.178407,
     "end_time": "2022-04-09T11:06:56.123135",
     "exception": false,
     "start_time": "2022-04-09T11:06:55.944728",
     "status": "completed"
    },
    "tags": []
   },
   "outputs": [],
   "source": [
    "def compute_metrics(eval_pred):\n",
    "    y_pred, y_true = align_predictions(eval_pred.predictions, \n",
    "                                       eval_pred.label_ids)\n",
    "    return {\"f1\": f1_score(y_true, y_pred)}"
   ]
  },
  {
   "cell_type": "code",
   "execution_count": 67,
   "id": "eb7e59a4",
   "metadata": {
    "execution": {
     "iopub.execute_input": "2022-04-09T11:06:56.466957Z",
     "iopub.status.busy": "2022-04-09T11:06:56.466035Z",
     "iopub.status.idle": "2022-04-09T11:06:56.468613Z",
     "shell.execute_reply": "2022-04-09T11:06:56.468073Z",
     "shell.execute_reply.started": "2022-04-09T09:39:46.735910Z"
    },
    "papermill": {
     "duration": 0.176531,
     "end_time": "2022-04-09T11:06:56.468744",
     "exception": false,
     "start_time": "2022-04-09T11:06:56.292213",
     "status": "completed"
    },
    "tags": []
   },
   "outputs": [],
   "source": [
    "source = 'gk'"
   ]
  },
  {
   "cell_type": "code",
   "execution_count": 68,
   "id": "8c58d3e6",
   "metadata": {
    "execution": {
     "iopub.execute_input": "2022-04-09T11:06:56.825941Z",
     "iopub.status.busy": "2022-04-09T11:06:56.825154Z",
     "iopub.status.idle": "2022-04-09T11:06:56.829231Z",
     "shell.execute_reply": "2022-04-09T11:06:56.828568Z",
     "shell.execute_reply.started": "2022-04-09T09:39:46.747483Z"
    },
    "papermill": {
     "duration": 0.186296,
     "end_time": "2022-04-09T11:06:56.829366",
     "exception": false,
     "start_time": "2022-04-09T11:06:56.643070",
     "status": "completed"
    },
    "tags": []
   },
   "outputs": [],
   "source": [
    "from transformers import TrainingArguments\n",
    "\n",
    "num_epochs = 3\n",
    "batch_size = 12\n",
    "logging_steps = len(data[source][\"train\"]) // batch_size\n",
    "model_name = f\"{model_ckpt}-finetuned-recipe-{source}\"\n",
    "training_args = TrainingArguments(\n",
    "    output_dir=model_name, log_level=\"error\", num_train_epochs=num_epochs, \n",
    "    per_device_train_batch_size=batch_size, \n",
    "    per_device_eval_batch_size=batch_size, evaluation_strategy=\"epoch\", \n",
    "    save_steps=1e6, weight_decay=0.01, disable_tqdm=False, \n",
    "    logging_steps=logging_steps,\n",
    "    push_to_hub=push_to_hub,\n",
    "    report_to='none')"
   ]
  },
  {
   "cell_type": "markdown",
   "id": "19df1bd0",
   "metadata": {
    "papermill": {
     "duration": 0.171179,
     "end_time": "2022-04-09T11:06:57.172580",
     "exception": false,
     "start_time": "2022-04-09T11:06:57.001401",
     "status": "completed"
    },
    "tags": []
   },
   "source": [
    "https://discuss.huggingface.co/t/change-label-names-on-inference-api/3063/3https://discuss.huggingface.co/t/change-label-names-on-inference-api/3063/3"
   ]
  },
  {
   "cell_type": "code",
   "execution_count": 69,
   "id": "62f601c2",
   "metadata": {
    "execution": {
     "iopub.execute_input": "2022-04-09T11:06:57.519975Z",
     "iopub.status.busy": "2022-04-09T11:06:57.519084Z",
     "iopub.status.idle": "2022-04-09T11:06:57.520839Z",
     "shell.execute_reply": "2022-04-09T11:06:57.521332Z",
     "shell.execute_reply.started": "2022-04-09T09:39:46.762180Z"
    },
    "papermill": {
     "duration": 0.178194,
     "end_time": "2022-04-09T11:06:57.521465",
     "exception": false,
     "start_time": "2022-04-09T11:06:57.343271",
     "status": "completed"
    },
    "tags": []
   },
   "outputs": [],
   "source": [
    "def model_init():\n",
    "    return AutoModelForTokenClassification.from_pretrained(model_ckpt,\n",
    "                                                           num_labels=tag_feature.num_classes,\n",
    "                                                           label2id={v:i for i,v in enumerate(tag_feature.names)},\n",
    "                                                           id2label={i:v for i,v in enumerate(tag_feature.names)}).to(device)\n"
   ]
  },
  {
   "cell_type": "code",
   "execution_count": 70,
   "id": "fb2be969",
   "metadata": {
    "execution": {
     "iopub.execute_input": "2022-04-09T11:06:57.870165Z",
     "iopub.status.busy": "2022-04-09T11:06:57.869533Z",
     "iopub.status.idle": "2022-04-09T11:06:57.872205Z",
     "shell.execute_reply": "2022-04-09T11:06:57.872587Z",
     "shell.execute_reply.started": "2022-04-09T09:39:46.774569Z"
    },
    "papermill": {
     "duration": 0.177649,
     "end_time": "2022-04-09T11:06:57.872736",
     "exception": false,
     "start_time": "2022-04-09T11:06:57.695087",
     "status": "completed"
    },
    "tags": []
   },
   "outputs": [
    {
     "data": {
      "text/plain": [
       "'xlm-roberta-base-finetuned-recipe-gk'"
      ]
     },
     "execution_count": 70,
     "metadata": {},
     "output_type": "execute_result"
    }
   ],
   "source": [
    "training_args.output_dir"
   ]
  },
  {
   "cell_type": "code",
   "execution_count": 71,
   "id": "11ba8cb8",
   "metadata": {
    "execution": {
     "iopub.execute_input": "2022-04-09T11:06:58.224149Z",
     "iopub.status.busy": "2022-04-09T11:06:58.223328Z",
     "iopub.status.idle": "2022-04-09T11:06:58.225211Z",
     "shell.execute_reply": "2022-04-09T11:06:58.225735Z",
     "shell.execute_reply.started": "2022-04-09T09:39:46.791293Z"
    },
    "papermill": {
     "duration": 0.177712,
     "end_time": "2022-04-09T11:06:58.225871",
     "exception": false,
     "start_time": "2022-04-09T11:06:58.048159",
     "status": "completed"
    },
    "tags": []
   },
   "outputs": [],
   "source": [
    "def get_f1_score(trainer, dataset):\n",
    "    return trainer.predict(dataset).metrics[\"test_f1\"]"
   ]
  },
  {
   "cell_type": "code",
   "execution_count": 72,
   "id": "897ad1c0",
   "metadata": {
    "execution": {
     "iopub.execute_input": "2022-04-09T11:06:58.590683Z",
     "iopub.status.busy": "2022-04-09T11:06:58.589380Z",
     "iopub.status.idle": "2022-04-09T11:06:58.591411Z",
     "shell.execute_reply": "2022-04-09T11:06:58.591938Z",
     "shell.execute_reply.started": "2022-04-09T09:39:46.802773Z"
    },
    "papermill": {
     "duration": 0.190709,
     "end_time": "2022-04-09T11:06:58.592110",
     "exception": false,
     "start_time": "2022-04-09T11:06:58.401401",
     "status": "completed"
    },
    "tags": []
   },
   "outputs": [],
   "source": [
    "from transformers import Trainer\n",
    "from typing import Dict\n",
    "\n",
    "def train_on_dataset(dataset: DatasetDict, label: str, test_datasets: Dict[str, Dataset], test_training_args=training_args) -> Dict[str, float]:\n",
    "    model_name = f\"{model_ckpt}-finetuned-recipe-{label}\"\n",
    "    \n",
    "    training_args.logging_steps = len(dataset['train']) // training_args.per_device_train_batch_size\n",
    "    training_args.output_dir = model_name\n",
    "    \n",
    "    \n",
    "    trainer = Trainer(model_init=model_init,\n",
    "                  args=training_args, \n",
    "                  data_collator=collator,\n",
    "                  compute_metrics=compute_metrics,\n",
    "                  train_dataset=dataset[\"train\"],\n",
    "                  eval_dataset=dataset[\"validation\"], \n",
    "                  tokenizer=tokenizer)\n",
    "    trainer.train()\n",
    "    if training_args.push_to_hub:\n",
    "        trainer.push_to_hub(commit_message=\"Training completed!\")\n",
    "        \n",
    "    return {name: get_f1_score(trainer, test_set) for name, test_set in test_datasets.items()}, trainer"
   ]
  },
  {
   "cell_type": "code",
   "execution_count": 73,
   "id": "7148adfe",
   "metadata": {
    "execution": {
     "iopub.execute_input": "2022-04-09T11:06:58.957368Z",
     "iopub.status.busy": "2022-04-09T11:06:58.956473Z",
     "iopub.status.idle": "2022-04-09T11:06:58.958353Z",
     "shell.execute_reply": "2022-04-09T11:06:58.958805Z",
     "shell.execute_reply.started": "2022-04-09T09:39:46.818384Z"
    },
    "papermill": {
     "duration": 0.18601,
     "end_time": "2022-04-09T11:06:58.958937",
     "exception": false,
     "start_time": "2022-04-09T11:06:58.772927",
     "status": "completed"
    },
    "tags": []
   },
   "outputs": [],
   "source": [
    "from datasets import concatenate_datasets"
   ]
  },
  {
   "cell_type": "code",
   "execution_count": 74,
   "id": "f01fac99",
   "metadata": {
    "execution": {
     "iopub.execute_input": "2022-04-09T11:06:59.318318Z",
     "iopub.status.busy": "2022-04-09T11:06:59.317504Z",
     "iopub.status.idle": "2022-04-09T11:06:59.323314Z",
     "shell.execute_reply": "2022-04-09T11:06:59.322912Z",
     "shell.execute_reply.started": "2022-04-09T09:39:46.830907Z"
    },
    "papermill": {
     "duration": 0.181346,
     "end_time": "2022-04-09T11:06:59.323426",
     "exception": false,
     "start_time": "2022-04-09T11:06:59.142080",
     "status": "completed"
    },
    "tags": []
   },
   "outputs": [],
   "source": [
    "test_datasets = {source: dataset['test'] for source, dataset in data_encoded.items()}\n",
    "test_datasets['all'] = concatenate_datasets(test_datasets.values())"
   ]
  },
  {
   "cell_type": "code",
   "execution_count": 75,
   "id": "3b4c948c",
   "metadata": {
    "execution": {
     "iopub.execute_input": "2022-04-09T11:06:59.674504Z",
     "iopub.status.busy": "2022-04-09T11:06:59.673835Z",
     "iopub.status.idle": "2022-04-09T11:06:59.676864Z",
     "shell.execute_reply": "2022-04-09T11:06:59.677418Z",
     "shell.execute_reply.started": "2022-04-09T09:39:46.855479Z"
    },
    "papermill": {
     "duration": 0.182057,
     "end_time": "2022-04-09T11:06:59.677592",
     "exception": false,
     "start_time": "2022-04-09T11:06:59.495535",
     "status": "completed"
    },
    "tags": []
   },
   "outputs": [
    {
     "name": "stdout",
     "output_type": "stream",
     "text": [
      "env: TOKENIZERS_PARALLELISM=false\n"
     ]
    }
   ],
   "source": [
    "%env TOKENIZERS_PARALLELISM=false"
   ]
  },
  {
   "cell_type": "code",
   "execution_count": 76,
   "id": "eb4768dd",
   "metadata": {
    "execution": {
     "iopub.execute_input": "2022-04-09T11:07:00.030067Z",
     "iopub.status.busy": "2022-04-09T11:07:00.029250Z",
     "iopub.status.idle": "2022-04-09T11:09:47.677789Z",
     "shell.execute_reply": "2022-04-09T11:09:47.677179Z",
     "shell.execute_reply.started": "2022-04-09T09:39:46.864328Z"
    },
    "papermill": {
     "duration": 167.826427,
     "end_time": "2022-04-09T11:09:47.677923",
     "exception": false,
     "start_time": "2022-04-09T11:06:59.851496",
     "status": "completed"
    },
    "tags": []
   },
   "outputs": [
    {
     "name": "stdout",
     "output_type": "stream",
     "text": [
      "ar\n"
     ]
    },
    {
     "name": "stderr",
     "output_type": "stream",
     "text": [
      "/opt/conda/lib/python3.7/site-packages/transformers/optimization.py:309: FutureWarning: This implementation of AdamW is deprecated and will be removed in a future version. Use thePyTorch implementation torch.optim.AdamW instead, or set `no_deprecation_warning=True` to disable this warning\n",
      "  FutureWarning,\n"
     ]
    },
    {
     "data": {
      "text/html": [
       "\n",
       "    <div>\n",
       "      \n",
       "      <progress value='294' max='294' style='width:300px; height:20px; vertical-align: middle;'></progress>\n",
       "      [294/294 00:30, Epoch 3/3]\n",
       "    </div>\n",
       "    <table border=\"1\" class=\"dataframe\">\n",
       "  <thead>\n",
       " <tr style=\"text-align: left;\">\n",
       "      <th>Epoch</th>\n",
       "      <th>Training Loss</th>\n",
       "      <th>Validation Loss</th>\n",
       "      <th>F1</th>\n",
       "    </tr>\n",
       "  </thead>\n",
       "  <tbody>\n",
       "    <tr>\n",
       "      <td>1</td>\n",
       "      <td>0.388800</td>\n",
       "      <td>0.093360</td>\n",
       "      <td>0.970711</td>\n",
       "    </tr>\n",
       "    <tr>\n",
       "      <td>2</td>\n",
       "      <td>0.099300</td>\n",
       "      <td>0.061398</td>\n",
       "      <td>0.979972</td>\n",
       "    </tr>\n",
       "    <tr>\n",
       "      <td>3</td>\n",
       "      <td>0.074500</td>\n",
       "      <td>0.055014</td>\n",
       "      <td>0.981378</td>\n",
       "    </tr>\n",
       "  </tbody>\n",
       "</table><p>"
      ],
      "text/plain": [
       "<IPython.core.display.HTML object>"
      ]
     },
     "metadata": {},
     "output_type": "display_data"
    },
    {
     "data": {
      "text/html": [
       "\n",
       "    <div>\n",
       "      \n",
       "      <progress value='367' max='41' style='width:300px; height:20px; vertical-align: middle;'></progress>\n",
       "      [41/41 00:06]\n",
       "    </div>\n",
       "    "
      ],
      "text/plain": [
       "<IPython.core.display.HTML object>"
      ]
     },
     "metadata": {},
     "output_type": "display_data"
    },
    {
     "name": "stdout",
     "output_type": "stream",
     "text": [
      "gk\n"
     ]
    },
    {
     "data": {
      "text/html": [
       "\n",
       "    <div>\n",
       "      \n",
       "      <progress value='1029' max='1029' style='width:300px; height:20px; vertical-align: middle;'></progress>\n",
       "      [1029/1029 01:48, Epoch 3/3]\n",
       "    </div>\n",
       "    <table border=\"1\" class=\"dataframe\">\n",
       "  <thead>\n",
       " <tr style=\"text-align: left;\">\n",
       "      <th>Epoch</th>\n",
       "      <th>Training Loss</th>\n",
       "      <th>Validation Loss</th>\n",
       "      <th>F1</th>\n",
       "    </tr>\n",
       "  </thead>\n",
       "  <tbody>\n",
       "    <tr>\n",
       "      <td>1</td>\n",
       "      <td>0.261200</td>\n",
       "      <td>0.145264</td>\n",
       "      <td>0.959022</td>\n",
       "    </tr>\n",
       "    <tr>\n",
       "      <td>2</td>\n",
       "      <td>0.110300</td>\n",
       "      <td>0.132405</td>\n",
       "      <td>0.961445</td>\n",
       "    </tr>\n",
       "    <tr>\n",
       "      <td>3</td>\n",
       "      <td>0.072300</td>\n",
       "      <td>0.129608</td>\n",
       "      <td>0.965061</td>\n",
       "    </tr>\n",
       "  </tbody>\n",
       "</table><p>"
      ],
      "text/plain": [
       "<IPython.core.display.HTML object>"
      ]
     },
     "metadata": {},
     "output_type": "display_data"
    },
    {
     "data": {
      "text/html": [
       "\n",
       "    <div>\n",
       "      \n",
       "      <progress value='367' max='41' style='width:300px; height:20px; vertical-align: middle;'></progress>\n",
       "      [41/41 00:05]\n",
       "    </div>\n",
       "    "
      ],
      "text/plain": [
       "<IPython.core.display.HTML object>"
      ]
     },
     "metadata": {},
     "output_type": "display_data"
    }
   ],
   "source": [
    "results = {}\n",
    "for label, dataset in data_encoded.items():\n",
    "    print(label)\n",
    "    results[label], _ = train_on_dataset(dataset, label, test_datasets)"
   ]
  },
  {
   "cell_type": "markdown",
   "id": "db2821bc",
   "metadata": {
    "papermill": {
     "duration": 0.172669,
     "end_time": "2022-04-09T11:09:48.025689",
     "exception": false,
     "start_time": "2022-04-09T11:09:47.853020",
     "status": "completed"
    },
    "tags": []
   },
   "source": [
    "On the combined data"
   ]
  },
  {
   "cell_type": "code",
   "execution_count": 77,
   "id": "0c3141dc",
   "metadata": {
    "execution": {
     "iopub.execute_input": "2022-04-09T11:09:48.379414Z",
     "iopub.status.busy": "2022-04-09T11:09:48.378776Z",
     "iopub.status.idle": "2022-04-09T11:09:48.381427Z",
     "shell.execute_reply": "2022-04-09T11:09:48.381848Z",
     "shell.execute_reply.started": "2022-04-09T09:43:03.841033Z"
    },
    "papermill": {
     "duration": 0.181566,
     "end_time": "2022-04-09T11:09:48.381981",
     "exception": false,
     "start_time": "2022-04-09T11:09:48.200415",
     "status": "completed"
    },
    "tags": []
   },
   "outputs": [
    {
     "data": {
      "text/plain": [
       "['train', 'test', 'validation']"
      ]
     },
     "execution_count": 77,
     "metadata": {},
     "output_type": "execute_result"
    }
   ],
   "source": [
    "splits = list(next(iter(data.values())).keys())\n",
    "\n",
    "splits"
   ]
  },
  {
   "cell_type": "code",
   "execution_count": 78,
   "id": "64c38b98",
   "metadata": {
    "execution": {
     "iopub.execute_input": "2022-04-09T11:09:48.736356Z",
     "iopub.status.busy": "2022-04-09T11:09:48.735539Z",
     "iopub.status.idle": "2022-04-09T11:09:48.744107Z",
     "shell.execute_reply": "2022-04-09T11:09:48.743681Z",
     "shell.execute_reply.started": "2022-04-09T09:43:03.858959Z"
    },
    "papermill": {
     "duration": 0.187184,
     "end_time": "2022-04-09T11:09:48.744224",
     "exception": false,
     "start_time": "2022-04-09T11:09:48.557040",
     "status": "completed"
    },
    "tags": []
   },
   "outputs": [],
   "source": [
    "dataset_all_encoded = DatasetDict(**{split: concatenate_datasets([data_encoded[source][split] for source in data]) for split in splits})"
   ]
  },
  {
   "cell_type": "code",
   "execution_count": 79,
   "id": "d7102972",
   "metadata": {
    "execution": {
     "iopub.execute_input": "2022-04-09T11:09:49.105135Z",
     "iopub.status.busy": "2022-04-09T11:09:49.104323Z",
     "iopub.status.idle": "2022-04-09T11:12:22.057387Z",
     "shell.execute_reply": "2022-04-09T11:12:22.057836Z",
     "shell.execute_reply.started": "2022-04-09T09:43:03.882561Z"
    },
    "papermill": {
     "duration": 153.137626,
     "end_time": "2022-04-09T11:12:22.058016",
     "exception": false,
     "start_time": "2022-04-09T11:09:48.920390",
     "status": "completed"
    },
    "tags": []
   },
   "outputs": [
    {
     "data": {
      "text/html": [
       "\n",
       "    <div>\n",
       "      \n",
       "      <progress value='1323' max='1323' style='width:300px; height:20px; vertical-align: middle;'></progress>\n",
       "      [1323/1323 02:19, Epoch 3/3]\n",
       "    </div>\n",
       "    <table border=\"1\" class=\"dataframe\">\n",
       "  <thead>\n",
       " <tr style=\"text-align: left;\">\n",
       "      <th>Epoch</th>\n",
       "      <th>Training Loss</th>\n",
       "      <th>Validation Loss</th>\n",
       "      <th>F1</th>\n",
       "    </tr>\n",
       "  </thead>\n",
       "  <tbody>\n",
       "    <tr>\n",
       "      <td>1</td>\n",
       "      <td>0.225500</td>\n",
       "      <td>0.127204</td>\n",
       "      <td>0.964034</td>\n",
       "    </tr>\n",
       "    <tr>\n",
       "      <td>2</td>\n",
       "      <td>0.104100</td>\n",
       "      <td>0.116494</td>\n",
       "      <td>0.965010</td>\n",
       "    </tr>\n",
       "    <tr>\n",
       "      <td>3</td>\n",
       "      <td>0.069000</td>\n",
       "      <td>0.120217</td>\n",
       "      <td>0.966078</td>\n",
       "    </tr>\n",
       "  </tbody>\n",
       "</table><p>"
      ],
      "text/plain": [
       "<IPython.core.display.HTML object>"
      ]
     },
     "metadata": {},
     "output_type": "display_data"
    },
    {
     "data": {
      "text/html": [
       "\n",
       "    <div>\n",
       "      \n",
       "      <progress value='367' max='41' style='width:300px; height:20px; vertical-align: middle;'></progress>\n",
       "      [41/41 00:06]\n",
       "    </div>\n",
       "    "
      ],
      "text/plain": [
       "<IPython.core.display.HTML object>"
      ]
     },
     "metadata": {},
     "output_type": "display_data"
    }
   ],
   "source": [
    "results['all'], trainer = train_on_dataset(dataset_all_encoded, 'all', test_datasets)"
   ]
  },
  {
   "cell_type": "markdown",
   "id": "7fc2382c",
   "metadata": {
    "papermill": {
     "duration": 0.177325,
     "end_time": "2022-04-09T11:12:22.412030",
     "exception": false,
     "start_time": "2022-04-09T11:12:22.234705",
     "status": "completed"
    },
    "tags": []
   },
   "source": [
    "Here are our results."
   ]
  },
  {
   "cell_type": "code",
   "execution_count": 80,
   "id": "76b8385c",
   "metadata": {
    "execution": {
     "iopub.execute_input": "2022-04-09T11:12:22.777118Z",
     "iopub.status.busy": "2022-04-09T11:12:22.776471Z",
     "iopub.status.idle": "2022-04-09T11:12:22.779249Z",
     "shell.execute_reply": "2022-04-09T11:12:22.779688Z",
     "shell.execute_reply.started": "2022-04-09T09:46:00.590312Z"
    },
    "papermill": {
     "duration": 0.187515,
     "end_time": "2022-04-09T11:12:22.779826",
     "exception": false,
     "start_time": "2022-04-09T11:12:22.592311",
     "status": "completed"
    },
    "tags": []
   },
   "outputs": [
    {
     "data": {
      "text/html": [
       "<style type=\"text/css\">\n",
       "</style>\n",
       "<table id=\"T_654ee_\">\n",
       "  <thead>\n",
       "    <tr>\n",
       "      <th class=\"blank level0\" >&nbsp;</th>\n",
       "      <th class=\"col_heading level0 col0\" >ar</th>\n",
       "      <th class=\"col_heading level0 col1\" >gk</th>\n",
       "      <th class=\"col_heading level0 col2\" >all</th>\n",
       "    </tr>\n",
       "  </thead>\n",
       "  <tbody>\n",
       "    <tr>\n",
       "      <th id=\"T_654ee_level0_row0\" class=\"row_heading level0 row0\" >ar</th>\n",
       "      <td id=\"T_654ee_row0_col0\" class=\"data row0 col0\" >0.9694</td>\n",
       "      <td id=\"T_654ee_row0_col1\" class=\"data row0 col1\" >0.9573</td>\n",
       "      <td id=\"T_654ee_row0_col2\" class=\"data row0 col2\" >0.9734</td>\n",
       "    </tr>\n",
       "    <tr>\n",
       "      <th id=\"T_654ee_level0_row1\" class=\"row_heading level0 row1\" >gk</th>\n",
       "      <td id=\"T_654ee_row1_col0\" class=\"data row1 col0\" >0.9164</td>\n",
       "      <td id=\"T_654ee_row1_col1\" class=\"data row1 col1\" >0.9604</td>\n",
       "      <td id=\"T_654ee_row1_col2\" class=\"data row1 col2\" >0.9577</td>\n",
       "    </tr>\n",
       "    <tr>\n",
       "      <th id=\"T_654ee_level0_row2\" class=\"row_heading level0 row2\" >all</th>\n",
       "      <td id=\"T_654ee_row2_col0\" class=\"data row2 col0\" >0.929</td>\n",
       "      <td id=\"T_654ee_row2_col1\" class=\"data row2 col1\" >0.9596</td>\n",
       "      <td id=\"T_654ee_row2_col2\" class=\"data row2 col2\" >0.9615</td>\n",
       "    </tr>\n",
       "  </tbody>\n",
       "</table>\n"
      ],
      "text/plain": [
       "<pandas.io.formats.style.Styler at 0x7f3a1ed41910>"
      ]
     },
     "execution_count": 80,
     "metadata": {},
     "output_type": "execute_result"
    }
   ],
   "source": [
    "results_df = pd.DataFrame(results)\n",
    "\n",
    "results_df.style.format('{:0.4}')"
   ]
  },
  {
   "cell_type": "markdown",
   "id": "a619f2fa",
   "metadata": {
    "papermill": {
     "duration": 0.175979,
     "end_time": "2022-04-09T11:12:23.146971",
     "exception": false,
     "start_time": "2022-04-09T11:12:22.970992",
     "status": "completed"
    },
    "tags": []
   },
   "source": [
    "Compare this with the results in the paper"
   ]
  },
  {
   "cell_type": "code",
   "execution_count": 81,
   "id": "4c7bc4e9",
   "metadata": {
    "execution": {
     "iopub.execute_input": "2022-04-09T11:12:23.512434Z",
     "iopub.status.busy": "2022-04-09T11:12:23.511847Z",
     "iopub.status.idle": "2022-04-09T11:12:23.514565Z",
     "shell.execute_reply": "2022-04-09T11:12:23.515010Z",
     "shell.execute_reply.started": "2022-04-09T09:46:00.605590Z"
    },
    "papermill": {
     "duration": 0.189935,
     "end_time": "2022-04-09T11:12:23.515144",
     "exception": false,
     "start_time": "2022-04-09T11:12:23.325209",
     "status": "completed"
    },
    "tags": []
   },
   "outputs": [
    {
     "data": {
      "text/html": [
       "<div>\n",
       "<style scoped>\n",
       "    .dataframe tbody tr th:only-of-type {\n",
       "        vertical-align: middle;\n",
       "    }\n",
       "\n",
       "    .dataframe tbody tr th {\n",
       "        vertical-align: top;\n",
       "    }\n",
       "\n",
       "    .dataframe thead th {\n",
       "        text-align: right;\n",
       "    }\n",
       "</style>\n",
       "<table border=\"1\" class=\"dataframe\">\n",
       "  <thead>\n",
       "    <tr style=\"text-align: right;\">\n",
       "      <th></th>\n",
       "      <th>AllRecipes</th>\n",
       "      <th>FOOD.com</th>\n",
       "      <th>BOTH</th>\n",
       "    </tr>\n",
       "    <tr>\n",
       "      <th>Testing Set</th>\n",
       "      <th></th>\n",
       "      <th></th>\n",
       "      <th></th>\n",
       "    </tr>\n",
       "  </thead>\n",
       "  <tbody>\n",
       "    <tr>\n",
       "      <th>AllRecipes</th>\n",
       "      <td>0.9682</td>\n",
       "      <td>0.9317</td>\n",
       "      <td>0.9709</td>\n",
       "    </tr>\n",
       "    <tr>\n",
       "      <th>FOOD.com</th>\n",
       "      <td>0.8672</td>\n",
       "      <td>0.9519</td>\n",
       "      <td>0.9848</td>\n",
       "    </tr>\n",
       "    <tr>\n",
       "      <th>BOTH</th>\n",
       "      <td>0.8972</td>\n",
       "      <td>0.9498</td>\n",
       "      <td>0.9611</td>\n",
       "    </tr>\n",
       "  </tbody>\n",
       "</table>\n",
       "</div>"
      ],
      "text/plain": [
       "             AllRecipes  FOOD.com    BOTH\n",
       "Testing Set                              \n",
       "AllRecipes       0.9682    0.9317  0.9709\n",
       "FOOD.com         0.8672    0.9519  0.9848\n",
       "BOTH             0.8972    0.9498  0.9611"
      ]
     },
     "execution_count": 81,
     "metadata": {},
     "output_type": "execute_result"
    }
   ],
   "source": [
    "paper_results_df = pd.DataFrame({'AllRecipes': [0.9682, 0.8672, 0.8972],\n",
    "             'FOOD.com': [0.9317, 0.9519, 0.9498],\n",
    "             'BOTH':     [0.9709, 0.9848, 0.9611],\n",
    "             'Testing Set': ['AllRecipes', 'FOOD.com', 'BOTH']}).set_index('Testing Set')\n",
    "paper_results_df"
   ]
  },
  {
   "cell_type": "markdown",
   "id": "5245886d",
   "metadata": {
    "papermill": {
     "duration": 0.176427,
     "end_time": "2022-04-09T11:12:23.867085",
     "exception": false,
     "start_time": "2022-04-09T11:12:23.690658",
     "status": "completed"
    },
    "tags": []
   },
   "source": [
    "The results are very marginally better than those in the paper; especially for both."
   ]
  },
  {
   "cell_type": "code",
   "execution_count": 82,
   "id": "f0437675",
   "metadata": {
    "execution": {
     "iopub.execute_input": "2022-04-09T11:12:24.444213Z",
     "iopub.status.busy": "2022-04-09T11:12:24.443448Z",
     "iopub.status.idle": "2022-04-09T11:12:24.454670Z",
     "shell.execute_reply": "2022-04-09T11:12:24.455248Z",
     "shell.execute_reply.started": "2022-04-09T09:46:00.628180Z"
    },
    "papermill": {
     "duration": 0.306988,
     "end_time": "2022-04-09T11:12:24.455426",
     "exception": false,
     "start_time": "2022-04-09T11:12:24.148438",
     "status": "completed"
    },
    "tags": []
   },
   "outputs": [
    {
     "data": {
      "text/html": [
       "<div>\n",
       "<style scoped>\n",
       "    .dataframe tbody tr th:only-of-type {\n",
       "        vertical-align: middle;\n",
       "    }\n",
       "\n",
       "    .dataframe tbody tr th {\n",
       "        vertical-align: top;\n",
       "    }\n",
       "\n",
       "    .dataframe thead th {\n",
       "        text-align: right;\n",
       "    }\n",
       "</style>\n",
       "<table border=\"1\" class=\"dataframe\">\n",
       "  <thead>\n",
       "    <tr style=\"text-align: right;\">\n",
       "      <th></th>\n",
       "      <th>AllRecipes</th>\n",
       "      <th>FOOD.com</th>\n",
       "      <th>BOTH</th>\n",
       "    </tr>\n",
       "    <tr>\n",
       "      <th>Testing Set</th>\n",
       "      <th></th>\n",
       "      <th></th>\n",
       "      <th></th>\n",
       "    </tr>\n",
       "  </thead>\n",
       "  <tbody>\n",
       "    <tr>\n",
       "      <th>AllRecipes</th>\n",
       "      <td>0.001185</td>\n",
       "      <td>0.025560</td>\n",
       "      <td>0.002527</td>\n",
       "    </tr>\n",
       "    <tr>\n",
       "      <th>FOOD.com</th>\n",
       "      <td>0.049198</td>\n",
       "      <td>0.008462</td>\n",
       "      <td>-0.027068</td>\n",
       "    </tr>\n",
       "    <tr>\n",
       "      <th>BOTH</th>\n",
       "      <td>0.031828</td>\n",
       "      <td>0.009814</td>\n",
       "      <td>0.000444</td>\n",
       "    </tr>\n",
       "  </tbody>\n",
       "</table>\n",
       "</div>"
      ],
      "text/plain": [
       "             AllRecipes  FOOD.com      BOTH\n",
       "Testing Set                                \n",
       "AllRecipes     0.001185  0.025560  0.002527\n",
       "FOOD.com       0.049198  0.008462 -0.027068\n",
       "BOTH           0.031828  0.009814  0.000444"
      ]
     },
     "execution_count": 82,
     "metadata": {},
     "output_type": "execute_result"
    }
   ],
   "source": [
    "results_df.to_numpy() - paper_results_df"
   ]
  },
  {
   "cell_type": "markdown",
   "id": "6481a157",
   "metadata": {
    "papermill": {
     "duration": 0.180909,
     "end_time": "2022-04-09T11:12:24.838210",
     "exception": false,
     "start_time": "2022-04-09T11:12:24.657301",
     "status": "completed"
    },
    "tags": []
   },
   "source": [
    "# Model Examples"
   ]
  },
  {
   "cell_type": "code",
   "execution_count": 83,
   "id": "45fe5eb1",
   "metadata": {
    "execution": {
     "iopub.execute_input": "2022-04-09T11:12:25.211878Z",
     "iopub.status.busy": "2022-04-09T11:12:25.210963Z",
     "iopub.status.idle": "2022-04-09T11:12:25.213061Z",
     "shell.execute_reply": "2022-04-09T11:12:25.213499Z",
     "shell.execute_reply.started": "2022-04-09T09:46:00.646796Z"
    },
    "papermill": {
     "duration": 0.191457,
     "end_time": "2022-04-09T11:12:25.213661",
     "exception": false,
     "start_time": "2022-04-09T11:12:25.022204",
     "status": "completed"
    },
    "tags": []
   },
   "outputs": [],
   "source": [
    "def align_token_preds(inputs, tokens, preds):\n",
    "    results = []\n",
    "    for idx in range(inputs['input_ids'].shape[0]):\n",
    "        result = []\n",
    "        for key, group in groupby(zip(inputs.word_ids(idx), tokens[idx], preds[idx]), key=lambda x: x[0]):\n",
    "            if key is not None:\n",
    "                group = list(group)\n",
    "                token = ''.join([x[1] for x in group]).lstrip('▁')\n",
    "                tag = group[0][2]\n",
    "                result.append((token, tag))\n",
    "        results.append(list(zip(*result)))\n",
    "    return results"
   ]
  },
  {
   "cell_type": "code",
   "execution_count": 84,
   "id": "dc69b67a",
   "metadata": {
    "execution": {
     "iopub.execute_input": "2022-04-09T11:12:25.573741Z",
     "iopub.status.busy": "2022-04-09T11:12:25.572950Z",
     "iopub.status.idle": "2022-04-09T11:12:25.574962Z",
     "shell.execute_reply": "2022-04-09T11:12:25.575329Z",
     "shell.execute_reply.started": "2022-04-09T09:46:00.660246Z"
    },
    "papermill": {
     "duration": 0.183947,
     "end_time": "2022-04-09T11:12:25.575457",
     "exception": false,
     "start_time": "2022-04-09T11:12:25.391510",
     "status": "completed"
    },
    "tags": []
   },
   "outputs": [],
   "source": [
    "def show_preds(text):\n",
    "    inputs = tokenizer(text, return_tensors=\"pt\")\n",
    "    tokens = [tokenizer.convert_ids_to_tokens(x) for x in inputs['input_ids']]\n",
    "    preds = [tag_feature.int2str(x) for x in trainer.model(**inputs.to(device)).logits.argmax(axis=-1)]\n",
    "    return pd.DataFrame([tokens[0], preds[0]], index=['token', 'pred']).iloc[:, 1:-1]"
   ]
  },
  {
   "cell_type": "code",
   "execution_count": 85,
   "id": "e1b1c7cc",
   "metadata": {
    "execution": {
     "iopub.execute_input": "2022-04-09T11:12:25.936397Z",
     "iopub.status.busy": "2022-04-09T11:12:25.935592Z",
     "iopub.status.idle": "2022-04-09T11:12:25.960587Z",
     "shell.execute_reply": "2022-04-09T11:12:25.961018Z",
     "shell.execute_reply.started": "2022-04-09T09:46:00.672768Z"
    },
    "papermill": {
     "duration": 0.209954,
     "end_time": "2022-04-09T11:12:25.961147",
     "exception": false,
     "start_time": "2022-04-09T11:12:25.751193",
     "status": "completed"
    },
    "tags": []
   },
   "outputs": [
    {
     "data": {
      "text/html": [
       "<div>\n",
       "<style scoped>\n",
       "    .dataframe tbody tr th:only-of-type {\n",
       "        vertical-align: middle;\n",
       "    }\n",
       "\n",
       "    .dataframe tbody tr th {\n",
       "        vertical-align: top;\n",
       "    }\n",
       "\n",
       "    .dataframe thead th {\n",
       "        text-align: right;\n",
       "    }\n",
       "</style>\n",
       "<table border=\"1\" class=\"dataframe\">\n",
       "  <thead>\n",
       "    <tr style=\"text-align: right;\">\n",
       "      <th></th>\n",
       "      <th>1</th>\n",
       "      <th>2</th>\n",
       "      <th>3</th>\n",
       "      <th>4</th>\n",
       "      <th>5</th>\n",
       "      <th>6</th>\n",
       "    </tr>\n",
       "  </thead>\n",
       "  <tbody>\n",
       "    <tr>\n",
       "      <th>token</th>\n",
       "      <td>▁4</td>\n",
       "      <td>▁clo</td>\n",
       "      <td>ves</td>\n",
       "      <td>▁of</td>\n",
       "      <td>▁gar</td>\n",
       "      <td>lic</td>\n",
       "    </tr>\n",
       "    <tr>\n",
       "      <th>pred</th>\n",
       "      <td>I-QUANTITY</td>\n",
       "      <td>I-UNIT</td>\n",
       "      <td>I-UNIT</td>\n",
       "      <td>O</td>\n",
       "      <td>I-NAME</td>\n",
       "      <td>I-NAME</td>\n",
       "    </tr>\n",
       "  </tbody>\n",
       "</table>\n",
       "</div>"
      ],
      "text/plain": [
       "                1       2       3    4       5       6\n",
       "token          ▁4    ▁clo     ves  ▁of    ▁gar     lic\n",
       "pred   I-QUANTITY  I-UNIT  I-UNIT    O  I-NAME  I-NAME"
      ]
     },
     "execution_count": 85,
     "metadata": {},
     "output_type": "execute_result"
    }
   ],
   "source": [
    "show_preds(\"4 cloves of garlic\")"
   ]
  },
  {
   "cell_type": "markdown",
   "id": "a507b4a3",
   "metadata": {
    "papermill": {
     "duration": 0.177973,
     "end_time": "2022-04-09T11:12:26.316324",
     "exception": false,
     "start_time": "2022-04-09T11:12:26.138351",
     "status": "completed"
    },
    "tags": []
   },
   "source": [
    "Here's an example out of a cookbook I have on hand. It does quite poorly\n",
    "\n",
    "* The quantity is (arguably) 2 x 400\n",
    "* Tin is not a name, probably O"
   ]
  },
  {
   "cell_type": "code",
   "execution_count": 86,
   "id": "3c55a8e4",
   "metadata": {
    "execution": {
     "iopub.execute_input": "2022-04-09T11:12:26.678150Z",
     "iopub.status.busy": "2022-04-09T11:12:26.677337Z",
     "iopub.status.idle": "2022-04-09T11:12:26.703186Z",
     "shell.execute_reply": "2022-04-09T11:12:26.702769Z",
     "shell.execute_reply.started": "2022-04-09T09:46:00.717182Z"
    },
    "papermill": {
     "duration": 0.206775,
     "end_time": "2022-04-09T11:12:26.703301",
     "exception": false,
     "start_time": "2022-04-09T11:12:26.496526",
     "status": "completed"
    },
    "tags": []
   },
   "outputs": [
    {
     "data": {
      "text/html": [
       "<div>\n",
       "<style scoped>\n",
       "    .dataframe tbody tr th:only-of-type {\n",
       "        vertical-align: middle;\n",
       "    }\n",
       "\n",
       "    .dataframe tbody tr th {\n",
       "        vertical-align: top;\n",
       "    }\n",
       "\n",
       "    .dataframe thead th {\n",
       "        text-align: right;\n",
       "    }\n",
       "</style>\n",
       "<table border=\"1\" class=\"dataframe\">\n",
       "  <thead>\n",
       "    <tr style=\"text-align: right;\">\n",
       "      <th></th>\n",
       "      <th>1</th>\n",
       "      <th>2</th>\n",
       "      <th>3</th>\n",
       "      <th>4</th>\n",
       "      <th>5</th>\n",
       "      <th>6</th>\n",
       "      <th>7</th>\n",
       "      <th>8</th>\n",
       "      <th>9</th>\n",
       "      <th>10</th>\n",
       "      <th>11</th>\n",
       "      <th>12</th>\n",
       "    </tr>\n",
       "  </thead>\n",
       "  <tbody>\n",
       "    <tr>\n",
       "      <th>token</th>\n",
       "      <td>▁2</td>\n",
       "      <td>▁x</td>\n",
       "      <td>▁400</td>\n",
       "      <td>g</td>\n",
       "      <td>▁tin</td>\n",
       "      <td>s</td>\n",
       "      <td>▁of</td>\n",
       "      <td>▁quality</td>\n",
       "      <td>▁plu</td>\n",
       "      <td>m</td>\n",
       "      <td>▁tomato</td>\n",
       "      <td>es</td>\n",
       "    </tr>\n",
       "    <tr>\n",
       "      <th>pred</th>\n",
       "      <td>I-QUANTITY</td>\n",
       "      <td>O</td>\n",
       "      <td>O</td>\n",
       "      <td>I-UNIT</td>\n",
       "      <td>O</td>\n",
       "      <td>O</td>\n",
       "      <td>O</td>\n",
       "      <td>O</td>\n",
       "      <td>I-NAME</td>\n",
       "      <td>I-NAME</td>\n",
       "      <td>I-NAME</td>\n",
       "      <td>I-NAME</td>\n",
       "    </tr>\n",
       "  </tbody>\n",
       "</table>\n",
       "</div>"
      ],
      "text/plain": [
       "               1   2     3       4     5  6    7         8       9       10  \\\n",
       "token          ▁2  ▁x  ▁400       g  ▁tin  s  ▁of  ▁quality    ▁plu       m   \n",
       "pred   I-QUANTITY   O     O  I-UNIT     O  O    O         O  I-NAME  I-NAME   \n",
       "\n",
       "            11      12  \n",
       "token  ▁tomato      es  \n",
       "pred    I-NAME  I-NAME  "
      ]
     },
     "execution_count": 86,
     "metadata": {},
     "output_type": "execute_result"
    }
   ],
   "source": [
    "show_preds(\"2 x 400g tins of quality plum tomatoes\")"
   ]
  },
  {
   "cell_type": "markdown",
   "id": "bf384bdd",
   "metadata": {
    "papermill": {
     "duration": 0.178936,
     "end_time": "2022-04-09T11:12:27.061781",
     "exception": false,
     "start_time": "2022-04-09T11:12:26.882845",
     "status": "completed"
    },
    "tags": []
   },
   "source": [
    "This is an interesting example of a tokenization issue; with the bracket it can't guess the second quantity correctly."
   ]
  },
  {
   "cell_type": "code",
   "execution_count": 87,
   "id": "136bb789",
   "metadata": {
    "execution": {
     "iopub.execute_input": "2022-04-09T11:12:27.424755Z",
     "iopub.status.busy": "2022-04-09T11:12:27.423910Z",
     "iopub.status.idle": "2022-04-09T11:12:27.447706Z",
     "shell.execute_reply": "2022-04-09T11:12:27.447254Z",
     "shell.execute_reply.started": "2022-04-09T09:46:00.756769Z"
    },
    "papermill": {
     "duration": 0.206524,
     "end_time": "2022-04-09T11:12:27.447822",
     "exception": false,
     "start_time": "2022-04-09T11:12:27.241298",
     "status": "completed"
    },
    "tags": []
   },
   "outputs": [
    {
     "data": {
      "text/html": [
       "<div>\n",
       "<style scoped>\n",
       "    .dataframe tbody tr th:only-of-type {\n",
       "        vertical-align: middle;\n",
       "    }\n",
       "\n",
       "    .dataframe tbody tr th {\n",
       "        vertical-align: top;\n",
       "    }\n",
       "\n",
       "    .dataframe thead th {\n",
       "        text-align: right;\n",
       "    }\n",
       "</style>\n",
       "<table border=\"1\" class=\"dataframe\">\n",
       "  <thead>\n",
       "    <tr style=\"text-align: right;\">\n",
       "      <th></th>\n",
       "      <th>1</th>\n",
       "      <th>2</th>\n",
       "      <th>3</th>\n",
       "      <th>4</th>\n",
       "      <th>5</th>\n",
       "      <th>6</th>\n",
       "      <th>7</th>\n",
       "      <th>8</th>\n",
       "      <th>9</th>\n",
       "    </tr>\n",
       "  </thead>\n",
       "  <tbody>\n",
       "    <tr>\n",
       "      <th>token</th>\n",
       "      <td>▁1</td>\n",
       "      <td>▁bunch</td>\n",
       "      <td>▁of</td>\n",
       "      <td>▁fresh</td>\n",
       "      <td>▁bas</td>\n",
       "      <td>il</td>\n",
       "      <td>▁(30</td>\n",
       "      <td>g</td>\n",
       "      <td>)</td>\n",
       "    </tr>\n",
       "    <tr>\n",
       "      <th>pred</th>\n",
       "      <td>I-QUANTITY</td>\n",
       "      <td>I-UNIT</td>\n",
       "      <td>O</td>\n",
       "      <td>I-DF</td>\n",
       "      <td>I-NAME</td>\n",
       "      <td>I-NAME</td>\n",
       "      <td>O</td>\n",
       "      <td>I-UNIT</td>\n",
       "      <td>O</td>\n",
       "    </tr>\n",
       "  </tbody>\n",
       "</table>\n",
       "</div>"
      ],
      "text/plain": [
       "                1       2    3       4       5       6     7       8  9\n",
       "token          ▁1  ▁bunch  ▁of  ▁fresh    ▁bas      il  ▁(30       g  )\n",
       "pred   I-QUANTITY  I-UNIT    O    I-DF  I-NAME  I-NAME     O  I-UNIT  O"
      ]
     },
     "execution_count": 87,
     "metadata": {},
     "output_type": "execute_result"
    }
   ],
   "source": [
    "show_preds(\"1 bunch of fresh basil (30g)\")"
   ]
  },
  {
   "cell_type": "code",
   "execution_count": 88,
   "id": "af1aeb97",
   "metadata": {
    "execution": {
     "iopub.execute_input": "2022-04-09T11:12:27.812921Z",
     "iopub.status.busy": "2022-04-09T11:12:27.812091Z",
     "iopub.status.idle": "2022-04-09T11:12:27.836742Z",
     "shell.execute_reply": "2022-04-09T11:12:27.836327Z",
     "shell.execute_reply.started": "2022-04-09T09:46:00.793312Z"
    },
    "papermill": {
     "duration": 0.206842,
     "end_time": "2022-04-09T11:12:27.836858",
     "exception": false,
     "start_time": "2022-04-09T11:12:27.630016",
     "status": "completed"
    },
    "tags": []
   },
   "outputs": [
    {
     "data": {
      "text/html": [
       "<div>\n",
       "<style scoped>\n",
       "    .dataframe tbody tr th:only-of-type {\n",
       "        vertical-align: middle;\n",
       "    }\n",
       "\n",
       "    .dataframe tbody tr th {\n",
       "        vertical-align: top;\n",
       "    }\n",
       "\n",
       "    .dataframe thead th {\n",
       "        text-align: right;\n",
       "    }\n",
       "</style>\n",
       "<table border=\"1\" class=\"dataframe\">\n",
       "  <thead>\n",
       "    <tr style=\"text-align: right;\">\n",
       "      <th></th>\n",
       "      <th>1</th>\n",
       "      <th>2</th>\n",
       "      <th>3</th>\n",
       "      <th>4</th>\n",
       "      <th>5</th>\n",
       "      <th>6</th>\n",
       "      <th>7</th>\n",
       "      <th>8</th>\n",
       "      <th>9</th>\n",
       "      <th>10</th>\n",
       "    </tr>\n",
       "  </thead>\n",
       "  <tbody>\n",
       "    <tr>\n",
       "      <th>token</th>\n",
       "      <td>▁1</td>\n",
       "      <td>▁bunch</td>\n",
       "      <td>▁of</td>\n",
       "      <td>▁fresh</td>\n",
       "      <td>▁bas</td>\n",
       "      <td>il</td>\n",
       "      <td>▁(</td>\n",
       "      <td>▁30</td>\n",
       "      <td>▁g</td>\n",
       "      <td>)</td>\n",
       "    </tr>\n",
       "    <tr>\n",
       "      <th>pred</th>\n",
       "      <td>I-QUANTITY</td>\n",
       "      <td>I-UNIT</td>\n",
       "      <td>O</td>\n",
       "      <td>I-DF</td>\n",
       "      <td>I-NAME</td>\n",
       "      <td>I-NAME</td>\n",
       "      <td>O</td>\n",
       "      <td>I-QUANTITY</td>\n",
       "      <td>O</td>\n",
       "      <td>O</td>\n",
       "    </tr>\n",
       "  </tbody>\n",
       "</table>\n",
       "</div>"
      ],
      "text/plain": [
       "               1       2    3       4       5       6   7           8   9  10\n",
       "token          ▁1  ▁bunch  ▁of  ▁fresh    ▁bas      il  ▁(         ▁30  ▁g  )\n",
       "pred   I-QUANTITY  I-UNIT    O    I-DF  I-NAME  I-NAME   O  I-QUANTITY   O  O"
      ]
     },
     "execution_count": 88,
     "metadata": {},
     "output_type": "execute_result"
    }
   ],
   "source": [
    "show_preds(\"1 bunch of fresh basil ( 30 g)\")"
   ]
  },
  {
   "cell_type": "markdown",
   "id": "d0115448",
   "metadata": {
    "papermill": {
     "duration": 0.18132,
     "end_time": "2022-04-09T11:12:28.199145",
     "exception": false,
     "start_time": "2022-04-09T11:12:28.017825",
     "status": "completed"
    },
    "tags": []
   },
   "source": [
    "# Error Analysis\n",
    "\n",
    "Let's follow the book to get the validation data with losses in a nice format"
   ]
  },
  {
   "cell_type": "code",
   "execution_count": 89,
   "id": "a403996a",
   "metadata": {
    "execution": {
     "iopub.execute_input": "2022-04-09T11:12:28.576287Z",
     "iopub.status.busy": "2022-04-09T11:12:28.575444Z",
     "iopub.status.idle": "2022-04-09T11:12:28.577437Z",
     "shell.execute_reply": "2022-04-09T11:12:28.577939Z",
     "shell.execute_reply.started": "2022-04-09T09:46:01.116428Z"
    },
    "papermill": {
     "duration": 0.196387,
     "end_time": "2022-04-09T11:12:28.578077",
     "exception": false,
     "start_time": "2022-04-09T11:12:28.381690",
     "status": "completed"
    },
    "tags": []
   },
   "outputs": [],
   "source": [
    "from torch.nn.functional import cross_entropy\n",
    "\n",
    "\n",
    "def forward_pass_with_label(batch, data_collator=collator, trainer=trainer):\n",
    "    # Convert dict of lists to list of dicts suitable for data collator\n",
    "    features = [dict(zip(batch, t)) for t in zip(*batch.values())]\n",
    "    # Pad inputs and labels and put all tensors on device\n",
    "    batch = data_collator(features)\n",
    "    input_ids = batch[\"input_ids\"].to(device)\n",
    "    attention_mask = batch[\"attention_mask\"].to(device)\n",
    "    labels = batch[\"labels\"].to(device)\n",
    "    with torch.no_grad():\n",
    "        # Pass data through model  \n",
    "        output = trainer.model(input_ids, attention_mask)\n",
    "        # Logit.size: [batch_size, sequence_length, classes]\n",
    "        # Predict class with largest logit value on classes axis\n",
    "        predicted_label = torch.argmax(output.logits, axis=-1).cpu().numpy()\n",
    "    # Calculate loss per token after flattening batch dimension with view\n",
    "    loss = cross_entropy(output.logits.view(-1, trainer.model.num_labels), \n",
    "                         labels.view(-1), reduction=\"none\")\n",
    "    # Unflatten batch dimension and convert to numpy array\n",
    "    loss = loss.view(len(input_ids), -1).cpu().numpy()\n",
    "\n",
    "    return {\"loss\":loss, \"predicted_label\": predicted_label}"
   ]
  },
  {
   "cell_type": "code",
   "execution_count": 90,
   "id": "a3d7c7b9",
   "metadata": {
    "execution": {
     "iopub.execute_input": "2022-04-09T11:12:28.939046Z",
     "iopub.status.busy": "2022-04-09T11:12:28.938186Z",
     "iopub.status.idle": "2022-04-09T11:12:37.371306Z",
     "shell.execute_reply": "2022-04-09T11:12:37.371715Z",
     "shell.execute_reply.started": "2022-04-09T09:46:01.134092Z"
    },
    "papermill": {
     "duration": 8.617173,
     "end_time": "2022-04-09T11:12:37.371867",
     "exception": false,
     "start_time": "2022-04-09T11:12:28.754694",
     "status": "completed"
    },
    "tags": []
   },
   "outputs": [
    {
     "data": {
      "application/vnd.jupyter.widget-view+json": {
       "model_id": "a573e1a5b3cb4bac88e3ab06d6443f4a",
       "version_major": 2,
       "version_minor": 0
      },
      "text/plain": [
       "  0%|          | 0/42 [00:00<?, ?ba/s]"
      ]
     },
     "metadata": {},
     "output_type": "display_data"
    }
   ],
   "source": [
    "valid_set = dataset_all_encoded['validation'].map(forward_pass_with_label, batched=True, batch_size=32)"
   ]
  },
  {
   "cell_type": "code",
   "execution_count": 91,
   "id": "68685934",
   "metadata": {
    "execution": {
     "iopub.execute_input": "2022-04-09T11:12:37.737393Z",
     "iopub.status.busy": "2022-04-09T11:12:37.736737Z",
     "iopub.status.idle": "2022-04-09T11:12:37.747096Z",
     "shell.execute_reply": "2022-04-09T11:12:37.747457Z",
     "shell.execute_reply.started": "2022-04-09T09:46:09.453590Z"
    },
    "papermill": {
     "duration": 0.19571,
     "end_time": "2022-04-09T11:12:37.747616",
     "exception": false,
     "start_time": "2022-04-09T11:12:37.551906",
     "status": "completed"
    },
    "tags": []
   },
   "outputs": [],
   "source": [
    "df = valid_set.to_pandas()"
   ]
  },
  {
   "cell_type": "code",
   "execution_count": 92,
   "id": "baa631f8",
   "metadata": {
    "execution": {
     "iopub.execute_input": "2022-04-09T11:12:38.116893Z",
     "iopub.status.busy": "2022-04-09T11:12:38.116034Z",
     "iopub.status.idle": "2022-04-09T11:12:38.117917Z",
     "shell.execute_reply": "2022-04-09T11:12:38.118352Z",
     "shell.execute_reply.started": "2022-04-09T09:46:09.471926Z"
    },
    "papermill": {
     "duration": 0.191166,
     "end_time": "2022-04-09T11:12:38.118483",
     "exception": false,
     "start_time": "2022-04-09T11:12:37.927317",
     "status": "completed"
    },
    "tags": []
   },
   "outputs": [],
   "source": [
    "index2tag = {i: v for i, v in enumerate(tag_feature.names)}\n",
    "index2tag[-100] = 'IGN'"
   ]
  },
  {
   "cell_type": "code",
   "execution_count": 93,
   "id": "fe737a27",
   "metadata": {
    "execution": {
     "iopub.execute_input": "2022-04-09T11:12:38.534892Z",
     "iopub.status.busy": "2022-04-09T11:12:38.516460Z",
     "iopub.status.idle": "2022-04-09T11:12:38.583140Z",
     "shell.execute_reply": "2022-04-09T11:12:38.582687Z",
     "shell.execute_reply.started": "2022-04-09T09:46:09.480451Z"
    },
    "papermill": {
     "duration": 0.282619,
     "end_time": "2022-04-09T11:12:38.583272",
     "exception": false,
     "start_time": "2022-04-09T11:12:38.300653",
     "status": "completed"
    },
    "tags": []
   },
   "outputs": [],
   "source": [
    "df['input_tokens'] = df['input_ids'].apply(tokenizer.convert_ids_to_tokens)\n",
    "df['predicted_label'] = df['predicted_label'].apply(lambda x: [index2tag[i] for i in x])\n",
    "df['labels'] = df['labels'].apply(lambda x: [index2tag[i] for i in x])\n",
    "df['loss'] = df.apply(lambda x: x['loss'][:len(x['input_ids'])], axis=1)\n",
    "df['predicted_label'] = df.apply(lambda x: x['predicted_label'][:len(x['input_ids'])], axis=1)"
   ]
  },
  {
   "cell_type": "code",
   "execution_count": 94,
   "id": "4dcfa353",
   "metadata": {
    "execution": {
     "iopub.execute_input": "2022-04-09T11:12:38.959839Z",
     "iopub.status.busy": "2022-04-09T11:12:38.959284Z",
     "iopub.status.idle": "2022-04-09T11:12:38.964768Z",
     "shell.execute_reply": "2022-04-09T11:12:38.964312Z",
     "shell.execute_reply.started": "2022-04-09T09:46:09.611008Z"
    },
    "papermill": {
     "duration": 0.199352,
     "end_time": "2022-04-09T11:12:38.964881",
     "exception": false,
     "start_time": "2022-04-09T11:12:38.765529",
     "status": "completed"
    },
    "tags": []
   },
   "outputs": [
    {
     "data": {
      "text/html": [
       "<div>\n",
       "<style scoped>\n",
       "    .dataframe tbody tr th:only-of-type {\n",
       "        vertical-align: middle;\n",
       "    }\n",
       "\n",
       "    .dataframe tbody tr th {\n",
       "        vertical-align: top;\n",
       "    }\n",
       "\n",
       "    .dataframe thead th {\n",
       "        text-align: right;\n",
       "    }\n",
       "</style>\n",
       "<table border=\"1\" class=\"dataframe\">\n",
       "  <thead>\n",
       "    <tr style=\"text-align: right;\">\n",
       "      <th></th>\n",
       "      <th>labels</th>\n",
       "      <th>input_ids</th>\n",
       "      <th>attention_mask</th>\n",
       "      <th>loss</th>\n",
       "      <th>predicted_label</th>\n",
       "      <th>input_tokens</th>\n",
       "    </tr>\n",
       "  </thead>\n",
       "  <tbody>\n",
       "    <tr>\n",
       "      <th>0</th>\n",
       "      <td>[IGN, I-QUANTITY, I-NAME, IGN, IGN]</td>\n",
       "      <td>[0, 382, 56125, 7, 2]</td>\n",
       "      <td>[1, 1, 1, 1, 1]</td>\n",
       "      <td>[0.0, 0.00014768941, 0.0013005617, 0.0, 0.0]</td>\n",
       "      <td>[I-UNIT, I-QUANTITY, I-NAME, I-NAME, I-UNIT]</td>\n",
       "      <td>[&lt;s&gt;, ▁8, ▁egg, s, &lt;/s&gt;]</td>\n",
       "    </tr>\n",
       "  </tbody>\n",
       "</table>\n",
       "</div>"
      ],
      "text/plain": [
       "                                labels              input_ids  \\\n",
       "0  [IGN, I-QUANTITY, I-NAME, IGN, IGN]  [0, 382, 56125, 7, 2]   \n",
       "\n",
       "    attention_mask                                          loss  \\\n",
       "0  [1, 1, 1, 1, 1]  [0.0, 0.00014768941, 0.0013005617, 0.0, 0.0]   \n",
       "\n",
       "                                predicted_label              input_tokens  \n",
       "0  [I-UNIT, I-QUANTITY, I-NAME, I-NAME, I-UNIT]  [<s>, ▁8, ▁egg, s, </s>]  "
      ]
     },
     "execution_count": 94,
     "metadata": {},
     "output_type": "execute_result"
    }
   ],
   "source": [
    "df.head(1)"
   ]
  },
  {
   "cell_type": "code",
   "execution_count": 95,
   "id": "f3aae805",
   "metadata": {
    "execution": {
     "iopub.execute_input": "2022-04-09T11:12:39.336771Z",
     "iopub.status.busy": "2022-04-09T11:12:39.335941Z",
     "iopub.status.idle": "2022-04-09T11:12:39.444257Z",
     "shell.execute_reply": "2022-04-09T11:12:39.443838Z",
     "shell.execute_reply.started": "2022-04-09T09:46:09.629952Z"
    },
    "papermill": {
     "duration": 0.296323,
     "end_time": "2022-04-09T11:12:39.444371",
     "exception": false,
     "start_time": "2022-04-09T11:12:39.148048",
     "status": "completed"
    },
    "tags": []
   },
   "outputs": [
    {
     "data": {
      "text/html": [
       "<div>\n",
       "<style scoped>\n",
       "    .dataframe tbody tr th:only-of-type {\n",
       "        vertical-align: middle;\n",
       "    }\n",
       "\n",
       "    .dataframe tbody tr th {\n",
       "        vertical-align: top;\n",
       "    }\n",
       "\n",
       "    .dataframe thead th {\n",
       "        text-align: right;\n",
       "    }\n",
       "</style>\n",
       "<table border=\"1\" class=\"dataframe\">\n",
       "  <thead>\n",
       "    <tr style=\"text-align: right;\">\n",
       "      <th></th>\n",
       "      <th></th>\n",
       "      <th>loss</th>\n",
       "      <th>label</th>\n",
       "      <th>subtoken</th>\n",
       "      <th>token</th>\n",
       "    </tr>\n",
       "    <tr>\n",
       "      <th>index</th>\n",
       "      <th>word_idx</th>\n",
       "      <th></th>\n",
       "      <th></th>\n",
       "      <th></th>\n",
       "      <th></th>\n",
       "    </tr>\n",
       "  </thead>\n",
       "  <tbody>\n",
       "    <tr>\n",
       "      <th rowspan=\"2\" valign=\"top\">0</th>\n",
       "      <th>1</th>\n",
       "      <td>0.000148</td>\n",
       "      <td>I-QUANTITY</td>\n",
       "      <td>▁8</td>\n",
       "      <td>8</td>\n",
       "    </tr>\n",
       "    <tr>\n",
       "      <th>2</th>\n",
       "      <td>0.001301</td>\n",
       "      <td>I-NAME</td>\n",
       "      <td>▁egg</td>\n",
       "      <td>eggs</td>\n",
       "    </tr>\n",
       "    <tr>\n",
       "      <th rowspan=\"3\" valign=\"top\">1</th>\n",
       "      <th>1</th>\n",
       "      <td>0.000100</td>\n",
       "      <td>I-QUANTITY</td>\n",
       "      <td>▁2</td>\n",
       "      <td>2</td>\n",
       "    </tr>\n",
       "    <tr>\n",
       "      <th>2</th>\n",
       "      <td>0.000117</td>\n",
       "      <td>I-UNIT</td>\n",
       "      <td>▁table</td>\n",
       "      <td>tablespoons</td>\n",
       "    </tr>\n",
       "    <tr>\n",
       "      <th>3</th>\n",
       "      <td>0.000407</td>\n",
       "      <td>I-STATE</td>\n",
       "      <td>▁cho</td>\n",
       "      <td>chopped</td>\n",
       "    </tr>\n",
       "  </tbody>\n",
       "</table>\n",
       "</div>"
      ],
      "text/plain": [
       "                    loss       label subtoken        token\n",
       "index word_idx                                            \n",
       "0     1         0.000148  I-QUANTITY       ▁8            8\n",
       "      2         0.001301      I-NAME     ▁egg         eggs\n",
       "1     1         0.000100  I-QUANTITY       ▁2            2\n",
       "      2         0.000117      I-UNIT   ▁table  tablespoons\n",
       "      3         0.000407     I-STATE     ▁cho      chopped"
      ]
     },
     "execution_count": 95,
     "metadata": {},
     "output_type": "execute_result"
    }
   ],
   "source": [
    "df_tokens =   (df\n",
    "    .apply(pd.Series.explode)\n",
    "    .reset_index()\n",
    "    .query('input_tokens not in (\"<s>\", \"</s>\")')\n",
    "   )\n",
    "\n",
    "df_tokens['word_idx'] = (df_tokens\n",
    "                         .assign(start = lambda _: np.where(_['labels'] != 'IGN', 1, 0))\n",
    "                         .groupby('index')\n",
    "                         ['start']\n",
    "                         .cumsum())\n",
    "\n",
    "df_tokens = (\n",
    "    df_tokens\n",
    "    .groupby(['index', 'word_idx'])\n",
    "    .agg(loss=('loss', 'first'),\n",
    "         label=('labels', 'first'),\n",
    "         subtoken=('input_tokens', 'first'),\n",
    "         token=('input_tokens', lambda x: ''.join(x).lstrip('▁'))))\n",
    "\n",
    "df_tokens.head()"
   ]
  },
  {
   "cell_type": "markdown",
   "id": "7d9d94e2",
   "metadata": {
    "papermill": {
     "duration": 0.179056,
     "end_time": "2022-04-09T11:12:39.803738",
     "exception": false,
     "start_time": "2022-04-09T11:12:39.624682",
     "status": "completed"
    },
    "tags": []
   },
   "source": [
    "## Tokens with most loss"
   ]
  },
  {
   "cell_type": "code",
   "execution_count": 96,
   "id": "42a91cf4",
   "metadata": {
    "execution": {
     "iopub.execute_input": "2022-04-09T11:12:40.173771Z",
     "iopub.status.busy": "2022-04-09T11:12:40.173118Z",
     "iopub.status.idle": "2022-04-09T11:12:40.377498Z",
     "shell.execute_reply": "2022-04-09T11:12:40.377015Z",
     "shell.execute_reply.started": "2022-04-09T09:46:09.773583Z"
    },
    "papermill": {
     "duration": 0.393605,
     "end_time": "2022-04-09T11:12:40.377706",
     "exception": false,
     "start_time": "2022-04-09T11:12:39.984101",
     "status": "completed"
    },
    "tags": []
   },
   "outputs": [
    {
     "data": {
      "text/html": [
       "<div>\n",
       "<style scoped>\n",
       "    .dataframe tbody tr th:only-of-type {\n",
       "        vertical-align: middle;\n",
       "    }\n",
       "\n",
       "    .dataframe tbody tr th {\n",
       "        vertical-align: top;\n",
       "    }\n",
       "\n",
       "    .dataframe thead th {\n",
       "        text-align: right;\n",
       "    }\n",
       "</style>\n",
       "<table border=\"1\" class=\"dataframe\">\n",
       "  <thead>\n",
       "    <tr style=\"text-align: right;\">\n",
       "      <th>token</th>\n",
       "      <th>1</th>\n",
       "      <th>chopped</th>\n",
       "      <th>can</th>\n",
       "      <th>teaspoon</th>\n",
       "      <th>cracked</th>\n",
       "      <th>firm</th>\n",
       "      <th>cloves</th>\n",
       "      <th>stewing</th>\n",
       "      <th>whole</th>\n",
       "      <th>juice</th>\n",
       "    </tr>\n",
       "  </thead>\n",
       "  <tbody>\n",
       "    <tr>\n",
       "      <th>total_loss</th>\n",
       "      <td>48.622528</td>\n",
       "      <td>25.765255</td>\n",
       "      <td>22.627169</td>\n",
       "      <td>16.577082</td>\n",
       "      <td>15.953512</td>\n",
       "      <td>13.066023</td>\n",
       "      <td>12.83609</td>\n",
       "      <td>11.927866</td>\n",
       "      <td>11.677866</td>\n",
       "      <td>11.124677</td>\n",
       "    </tr>\n",
       "    <tr>\n",
       "      <th>avg_loss</th>\n",
       "      <td>0.118881</td>\n",
       "      <td>0.224046</td>\n",
       "      <td>0.665505</td>\n",
       "      <td>0.122793</td>\n",
       "      <td>5.317837</td>\n",
       "      <td>3.266506</td>\n",
       "      <td>0.513444</td>\n",
       "      <td>3.975955</td>\n",
       "      <td>0.834133</td>\n",
       "      <td>0.695292</td>\n",
       "    </tr>\n",
       "    <tr>\n",
       "      <th>n</th>\n",
       "      <td>409</td>\n",
       "      <td>115</td>\n",
       "      <td>34</td>\n",
       "      <td>135</td>\n",
       "      <td>3</td>\n",
       "      <td>4</td>\n",
       "      <td>25</td>\n",
       "      <td>3</td>\n",
       "      <td>14</td>\n",
       "      <td>16</td>\n",
       "    </tr>\n",
       "    <tr>\n",
       "      <th>typical_label</th>\n",
       "      <td>I-QUANTITY</td>\n",
       "      <td>I-STATE</td>\n",
       "      <td>I-UNIT</td>\n",
       "      <td>I-UNIT</td>\n",
       "      <td>O</td>\n",
       "      <td>[I-NAME, I-STATE]</td>\n",
       "      <td>I-UNIT</td>\n",
       "      <td>[I-NAME, I-STATE, O]</td>\n",
       "      <td>O</td>\n",
       "      <td>I-NAME</td>\n",
       "    </tr>\n",
       "  </tbody>\n",
       "</table>\n",
       "</div>"
      ],
      "text/plain": [
       "token                   1    chopped        can   teaspoon    cracked  \\\n",
       "total_loss      48.622528  25.765255  22.627169  16.577082  15.953512   \n",
       "avg_loss         0.118881   0.224046   0.665505   0.122793   5.317837   \n",
       "n                     409        115         34        135          3   \n",
       "typical_label  I-QUANTITY    I-STATE     I-UNIT     I-UNIT          O   \n",
       "\n",
       "token                       firm    cloves               stewing      whole  \\\n",
       "total_loss             13.066023  12.83609             11.927866  11.677866   \n",
       "avg_loss                3.266506  0.513444              3.975955   0.834133   \n",
       "n                              4        25                     3         14   \n",
       "typical_label  [I-NAME, I-STATE]    I-UNIT  [I-NAME, I-STATE, O]          O   \n",
       "\n",
       "token              juice  \n",
       "total_loss     11.124677  \n",
       "avg_loss        0.695292  \n",
       "n                     16  \n",
       "typical_label     I-NAME  "
      ]
     },
     "execution_count": 96,
     "metadata": {},
     "output_type": "execute_result"
    }
   ],
   "source": [
    "(\n",
    "    df_tokens\n",
    "    .groupby('token')\n",
    "    .agg(total_loss=('loss', 'sum'),\n",
    "         avg_loss=('loss', 'mean'),\n",
    "         n=('loss', 'count'),\n",
    "         typical_label=('label', pd.Series.mode),)\n",
    "    .sort_values('total_loss', ascending=False)\n",
    "    .head(10)\n",
    ").T"
   ]
  },
  {
   "cell_type": "markdown",
   "id": "77865d2a",
   "metadata": {
    "papermill": {
     "duration": 0.185365,
     "end_time": "2022-04-09T11:12:40.760932",
     "exception": false,
     "start_time": "2022-04-09T11:12:40.575567",
     "status": "completed"
    },
    "tags": []
   },
   "source": [
    "Let's look at 1"
   ]
  },
  {
   "cell_type": "code",
   "execution_count": 97,
   "id": "080b8b12",
   "metadata": {
    "execution": {
     "iopub.execute_input": "2022-04-09T11:12:41.138501Z",
     "iopub.status.busy": "2022-04-09T11:12:41.135189Z",
     "iopub.status.idle": "2022-04-09T11:12:41.150999Z",
     "shell.execute_reply": "2022-04-09T11:12:41.151433Z",
     "shell.execute_reply.started": "2022-04-09T09:46:10.105358Z"
    },
    "papermill": {
     "duration": 0.202854,
     "end_time": "2022-04-09T11:12:41.151567",
     "exception": false,
     "start_time": "2022-04-09T11:12:40.948713",
     "status": "completed"
    },
    "tags": []
   },
   "outputs": [
    {
     "data": {
      "text/html": [
       "<div>\n",
       "<style scoped>\n",
       "    .dataframe tbody tr th:only-of-type {\n",
       "        vertical-align: middle;\n",
       "    }\n",
       "\n",
       "    .dataframe tbody tr th {\n",
       "        vertical-align: top;\n",
       "    }\n",
       "\n",
       "    .dataframe thead th {\n",
       "        text-align: right;\n",
       "    }\n",
       "</style>\n",
       "<table border=\"1\" class=\"dataframe\">\n",
       "  <thead>\n",
       "    <tr style=\"text-align: right;\">\n",
       "      <th></th>\n",
       "      <th>n</th>\n",
       "      <th>loss</th>\n",
       "    </tr>\n",
       "    <tr>\n",
       "      <th>label</th>\n",
       "      <th></th>\n",
       "      <th></th>\n",
       "    </tr>\n",
       "  </thead>\n",
       "  <tbody>\n",
       "    <tr>\n",
       "      <th>I-QUANTITY</th>\n",
       "      <td>386</td>\n",
       "      <td>0.069864</td>\n",
       "    </tr>\n",
       "    <tr>\n",
       "      <th>O</th>\n",
       "      <td>23</td>\n",
       "      <td>0.941518</td>\n",
       "    </tr>\n",
       "  </tbody>\n",
       "</table>\n",
       "</div>"
      ],
      "text/plain": [
       "              n      loss\n",
       "label                    \n",
       "I-QUANTITY  386  0.069864\n",
       "O            23  0.941518"
      ]
     },
     "execution_count": 97,
     "metadata": {},
     "output_type": "execute_result"
    }
   ],
   "source": [
    "df_tokens.query('token==\"1\"').groupby('label').agg(n=('loss', 'count'), loss=('loss', 'mean'))"
   ]
  },
  {
   "cell_type": "markdown",
   "id": "40053709",
   "metadata": {
    "papermill": {
     "duration": 0.182088,
     "end_time": "2022-04-09T11:12:41.528641",
     "exception": false,
     "start_time": "2022-04-09T11:12:41.346553",
     "status": "completed"
    },
    "tags": []
   },
   "source": [
    "Looking at some examples these all contain an \"or\" followed by a second ingredient.\n",
    "In fact it's an issue in the data annotation process of only annotating the first ingredient."
   ]
  },
  {
   "cell_type": "code",
   "execution_count": 98,
   "id": "82bd4565",
   "metadata": {
    "execution": {
     "iopub.execute_input": "2022-04-09T11:12:41.904924Z",
     "iopub.status.busy": "2022-04-09T11:12:41.904075Z",
     "iopub.status.idle": "2022-04-09T11:12:41.962237Z",
     "shell.execute_reply": "2022-04-09T11:12:41.961724Z",
     "shell.execute_reply.started": "2022-04-09T10:21:36.918423Z"
    },
    "papermill": {
     "duration": 0.251603,
     "end_time": "2022-04-09T11:12:41.962353",
     "exception": false,
     "start_time": "2022-04-09T11:12:41.710750",
     "status": "completed"
    },
    "tags": []
   },
   "outputs": [
    {
     "data": {
      "text/html": [
       "<div>\n",
       "<style scoped>\n",
       "    .dataframe tbody tr th:only-of-type {\n",
       "        vertical-align: middle;\n",
       "    }\n",
       "\n",
       "    .dataframe tbody tr th {\n",
       "        vertical-align: top;\n",
       "    }\n",
       "\n",
       "    .dataframe thead th {\n",
       "        text-align: right;\n",
       "    }\n",
       "</style>\n",
       "<table border=\"1\" class=\"dataframe\">\n",
       "  <thead>\n",
       "    <tr style=\"text-align: right;\">\n",
       "      <th>token</th>\n",
       "      <th>1</th>\n",
       "      <th>teaspoon</th>\n",
       "      <th>orange</th>\n",
       "      <th>zest</th>\n",
       "      <th>or</th>\n",
       "      <th>1</th>\n",
       "      <th>teaspoon</th>\n",
       "      <th>lemon</th>\n",
       "      <th>zest</th>\n",
       "    </tr>\n",
       "  </thead>\n",
       "  <tbody>\n",
       "    <tr>\n",
       "      <th>label</th>\n",
       "      <td>I-QUANTITY</td>\n",
       "      <td>I-UNIT</td>\n",
       "      <td>I-NAME</td>\n",
       "      <td>I-NAME</td>\n",
       "      <td>O</td>\n",
       "      <td>O</td>\n",
       "      <td>O</td>\n",
       "      <td>O</td>\n",
       "      <td>O</td>\n",
       "    </tr>\n",
       "    <tr>\n",
       "      <th>loss</th>\n",
       "      <td>0.000081</td>\n",
       "      <td>0.00014</td>\n",
       "      <td>0.001599</td>\n",
       "      <td>0.001021</td>\n",
       "      <td>0.001865</td>\n",
       "      <td>0.034536</td>\n",
       "      <td>0.047386</td>\n",
       "      <td>0.080989</td>\n",
       "      <td>0.038607</td>\n",
       "    </tr>\n",
       "  </tbody>\n",
       "</table>\n",
       "</div>"
      ],
      "text/plain": [
       "token           1 teaspoon    orange      zest        or         1  teaspoon  \\\n",
       "label  I-QUANTITY   I-UNIT    I-NAME    I-NAME         O         O         O   \n",
       "loss     0.000081  0.00014  0.001599  0.001021  0.001865  0.034536  0.047386   \n",
       "\n",
       "token     lemon      zest  \n",
       "label         O         O  \n",
       "loss   0.080989  0.038607  "
      ]
     },
     "metadata": {},
     "output_type": "display_data"
    },
    {
     "data": {
      "text/html": [
       "<div>\n",
       "<style scoped>\n",
       "    .dataframe tbody tr th:only-of-type {\n",
       "        vertical-align: middle;\n",
       "    }\n",
       "\n",
       "    .dataframe tbody tr th {\n",
       "        vertical-align: top;\n",
       "    }\n",
       "\n",
       "    .dataframe thead th {\n",
       "        text-align: right;\n",
       "    }\n",
       "</style>\n",
       "<table border=\"1\" class=\"dataframe\">\n",
       "  <thead>\n",
       "    <tr style=\"text-align: right;\">\n",
       "      <th>token</th>\n",
       "      <th>1</th>\n",
       "      <th>1</th>\n",
       "      <th>cup</th>\n",
       "      <th>craisins</th>\n",
       "      <th>or</th>\n",
       "      <th>1</th>\n",
       "      <th>cup</th>\n",
       "      <th>sultana</th>\n",
       "    </tr>\n",
       "  </thead>\n",
       "  <tbody>\n",
       "    <tr>\n",
       "      <th>label</th>\n",
       "      <td>I-QUANTITY</td>\n",
       "      <td>I-QUANTITY</td>\n",
       "      <td>I-UNIT</td>\n",
       "      <td>I-NAME</td>\n",
       "      <td>O</td>\n",
       "      <td>O</td>\n",
       "      <td>O</td>\n",
       "      <td>O</td>\n",
       "    </tr>\n",
       "    <tr>\n",
       "      <th>loss</th>\n",
       "      <td>0.000083</td>\n",
       "      <td>0.000101</td>\n",
       "      <td>0.000153</td>\n",
       "      <td>0.079905</td>\n",
       "      <td>0.002256</td>\n",
       "      <td>0.025803</td>\n",
       "      <td>0.03024</td>\n",
       "      <td>0.016824</td>\n",
       "    </tr>\n",
       "  </tbody>\n",
       "</table>\n",
       "</div>"
      ],
      "text/plain": [
       "token           1           1       cup  craisins        or         1  \\\n",
       "label  I-QUANTITY  I-QUANTITY    I-UNIT    I-NAME         O         O   \n",
       "loss     0.000083    0.000101  0.000153  0.079905  0.002256  0.025803   \n",
       "\n",
       "token      cup   sultana  \n",
       "label        O         O  \n",
       "loss   0.03024  0.016824  "
      ]
     },
     "metadata": {},
     "output_type": "display_data"
    },
    {
     "data": {
      "text/html": [
       "<div>\n",
       "<style scoped>\n",
       "    .dataframe tbody tr th:only-of-type {\n",
       "        vertical-align: middle;\n",
       "    }\n",
       "\n",
       "    .dataframe tbody tr th {\n",
       "        vertical-align: top;\n",
       "    }\n",
       "\n",
       "    .dataframe thead th {\n",
       "        text-align: right;\n",
       "    }\n",
       "</style>\n",
       "<table border=\"1\" class=\"dataframe\">\n",
       "  <thead>\n",
       "    <tr style=\"text-align: right;\">\n",
       "      <th>token</th>\n",
       "      <th>1</th>\n",
       "      <th>tablespoon</th>\n",
       "      <th>butter</th>\n",
       "      <th>or</th>\n",
       "      <th>1</th>\n",
       "      <th>tablespoon</th>\n",
       "      <th>margarine</th>\n",
       "    </tr>\n",
       "  </thead>\n",
       "  <tbody>\n",
       "    <tr>\n",
       "      <th>label</th>\n",
       "      <td>I-QUANTITY</td>\n",
       "      <td>I-UNIT</td>\n",
       "      <td>I-NAME</td>\n",
       "      <td>O</td>\n",
       "      <td>O</td>\n",
       "      <td>O</td>\n",
       "      <td>O</td>\n",
       "    </tr>\n",
       "    <tr>\n",
       "      <th>loss</th>\n",
       "      <td>0.000085</td>\n",
       "      <td>0.000134</td>\n",
       "      <td>0.000668</td>\n",
       "      <td>0.001856</td>\n",
       "      <td>0.037731</td>\n",
       "      <td>0.041958</td>\n",
       "      <td>0.033882</td>\n",
       "    </tr>\n",
       "  </tbody>\n",
       "</table>\n",
       "</div>"
      ],
      "text/plain": [
       "token           1 tablespoon    butter        or         1 tablespoon  \\\n",
       "label  I-QUANTITY     I-UNIT    I-NAME         O         O          O   \n",
       "loss     0.000085   0.000134  0.000668  0.001856  0.037731   0.041958   \n",
       "\n",
       "token margarine  \n",
       "label         O  \n",
       "loss   0.033882  "
      ]
     },
     "metadata": {},
     "output_type": "display_data"
    },
    {
     "data": {
      "text/html": [
       "<div>\n",
       "<style scoped>\n",
       "    .dataframe tbody tr th:only-of-type {\n",
       "        vertical-align: middle;\n",
       "    }\n",
       "\n",
       "    .dataframe tbody tr th {\n",
       "        vertical-align: top;\n",
       "    }\n",
       "\n",
       "    .dataframe thead th {\n",
       "        text-align: right;\n",
       "    }\n",
       "</style>\n",
       "<table border=\"1\" class=\"dataframe\">\n",
       "  <thead>\n",
       "    <tr style=\"text-align: right;\">\n",
       "      <th>token</th>\n",
       "      <th>2</th>\n",
       "      <th>anchovy</th>\n",
       "      <th>fillets</th>\n",
       "      <th>or</th>\n",
       "      <th>1</th>\n",
       "      <th>tablespoon</th>\n",
       "      <th>anchovy</th>\n",
       "      <th>paste</th>\n",
       "    </tr>\n",
       "  </thead>\n",
       "  <tbody>\n",
       "    <tr>\n",
       "      <th>label</th>\n",
       "      <td>I-QUANTITY</td>\n",
       "      <td>I-NAME</td>\n",
       "      <td>I-NAME</td>\n",
       "      <td>O</td>\n",
       "      <td>O</td>\n",
       "      <td>O</td>\n",
       "      <td>O</td>\n",
       "      <td>O</td>\n",
       "    </tr>\n",
       "    <tr>\n",
       "      <th>loss</th>\n",
       "      <td>0.000118</td>\n",
       "      <td>0.01329</td>\n",
       "      <td>0.008728</td>\n",
       "      <td>0.001453</td>\n",
       "      <td>0.025533</td>\n",
       "      <td>0.050657</td>\n",
       "      <td>0.018307</td>\n",
       "      <td>0.009956</td>\n",
       "    </tr>\n",
       "  </tbody>\n",
       "</table>\n",
       "</div>"
      ],
      "text/plain": [
       "token           2  anchovy   fillets        or         1 tablespoon   anchovy  \\\n",
       "label  I-QUANTITY   I-NAME    I-NAME         O         O          O         O   \n",
       "loss     0.000118  0.01329  0.008728  0.001453  0.025533   0.050657  0.018307   \n",
       "\n",
       "token     paste  \n",
       "label         O  \n",
       "loss   0.009956  "
      ]
     },
     "metadata": {},
     "output_type": "display_data"
    },
    {
     "data": {
      "text/html": [
       "<div>\n",
       "<style scoped>\n",
       "    .dataframe tbody tr th:only-of-type {\n",
       "        vertical-align: middle;\n",
       "    }\n",
       "\n",
       "    .dataframe tbody tr th {\n",
       "        vertical-align: top;\n",
       "    }\n",
       "\n",
       "    .dataframe thead th {\n",
       "        text-align: right;\n",
       "    }\n",
       "</style>\n",
       "<table border=\"1\" class=\"dataframe\">\n",
       "  <thead>\n",
       "    <tr style=\"text-align: right;\">\n",
       "      <th>token</th>\n",
       "      <th>1</th>\n",
       "      <th>1</th>\n",
       "      <th>tablespoon</th>\n",
       "      <th>tapioca</th>\n",
       "      <th>flour</th>\n",
       "      <th>or</th>\n",
       "      <th>1</th>\n",
       "      <th>tablespoon</th>\n",
       "      <th>cornstarch</th>\n",
       "    </tr>\n",
       "  </thead>\n",
       "  <tbody>\n",
       "    <tr>\n",
       "      <th>label</th>\n",
       "      <td>I-QUANTITY</td>\n",
       "      <td>I-QUANTITY</td>\n",
       "      <td>I-UNIT</td>\n",
       "      <td>I-NAME</td>\n",
       "      <td>I-NAME</td>\n",
       "      <td>O</td>\n",
       "      <td>O</td>\n",
       "      <td>O</td>\n",
       "      <td>O</td>\n",
       "    </tr>\n",
       "    <tr>\n",
       "      <th>loss</th>\n",
       "      <td>0.000103</td>\n",
       "      <td>0.000291</td>\n",
       "      <td>0.000134</td>\n",
       "      <td>0.00188</td>\n",
       "      <td>0.000841</td>\n",
       "      <td>0.001694</td>\n",
       "      <td>0.04281</td>\n",
       "      <td>0.068595</td>\n",
       "      <td>0.024502</td>\n",
       "    </tr>\n",
       "  </tbody>\n",
       "</table>\n",
       "</div>"
      ],
      "text/plain": [
       "token           1           1 tablespoon  tapioca     flour        or  \\\n",
       "label  I-QUANTITY  I-QUANTITY     I-UNIT   I-NAME    I-NAME         O   \n",
       "loss     0.000103    0.000291   0.000134  0.00188  0.000841  0.001694   \n",
       "\n",
       "token        1 tablespoon cornstarch  \n",
       "label        O          O          O  \n",
       "loss   0.04281   0.068595   0.024502  "
      ]
     },
     "metadata": {},
     "output_type": "display_data"
    }
   ],
   "source": [
    "from IPython.display import display\n",
    "pd.options.display.max_columns = 50\n",
    "\n",
    "def show_n_examples(token, label, n=5):\n",
    "\n",
    "    idxs = (df_tokens\n",
    "            .loc[((df_tokens.token == token) & (df_tokens.label == label))]\n",
    "            .reset_index()\n",
    "            ['index'])\n",
    "\n",
    "    for idx in idxs[:n]:\n",
    "        display(df_tokens.reset_index().set_index('index').loc[idx].set_index('token')[['label', 'loss']].T)\n",
    "        \n",
    "show_n_examples('1', 'O')"
   ]
  },
  {
   "cell_type": "markdown",
   "id": "7c0c2259",
   "metadata": {
    "papermill": {
     "duration": 0.185403,
     "end_time": "2022-04-09T11:12:42.334964",
     "exception": false,
     "start_time": "2022-04-09T11:12:42.149561",
     "status": "completed"
    },
    "tags": []
   },
   "source": [
    "Let's try to find some other kinds of errors"
   ]
  },
  {
   "cell_type": "code",
   "execution_count": 99,
   "id": "009a22fe",
   "metadata": {
    "execution": {
     "iopub.execute_input": "2022-04-09T11:12:42.713193Z",
     "iopub.status.busy": "2022-04-09T11:12:42.712125Z",
     "iopub.status.idle": "2022-04-09T11:12:42.714124Z",
     "shell.execute_reply": "2022-04-09T11:12:42.714981Z",
     "shell.execute_reply.started": "2022-04-09T10:04:55.012982Z"
    },
    "papermill": {
     "duration": 0.195833,
     "end_time": "2022-04-09T11:12:42.715129",
     "exception": false,
     "start_time": "2022-04-09T11:12:42.519296",
     "status": "completed"
    },
    "tags": []
   },
   "outputs": [],
   "source": [
    "high_loss_tokens = ['chopped', 'can', 'teaspoon', 'cracked', \n",
    "                    'firm', 'cloves', 'stewing', 'whole', 'juice']"
   ]
  },
  {
   "cell_type": "code",
   "execution_count": 100,
   "id": "b1e69738",
   "metadata": {
    "execution": {
     "iopub.execute_input": "2022-04-09T11:12:43.131215Z",
     "iopub.status.busy": "2022-04-09T11:12:43.122886Z",
     "iopub.status.idle": "2022-04-09T11:12:43.149873Z",
     "shell.execute_reply": "2022-04-09T11:12:43.150328Z",
     "shell.execute_reply.started": "2022-04-09T10:21:46.285945Z"
    },
    "papermill": {
     "duration": 0.242262,
     "end_time": "2022-04-09T11:12:43.150471",
     "exception": false,
     "start_time": "2022-04-09T11:12:42.908209",
     "status": "completed"
    },
    "tags": []
   },
   "outputs": [
    {
     "data": {
      "text/html": [
       "<div>\n",
       "<style scoped>\n",
       "    .dataframe tbody tr th:only-of-type {\n",
       "        vertical-align: middle;\n",
       "    }\n",
       "\n",
       "    .dataframe tbody tr th {\n",
       "        vertical-align: top;\n",
       "    }\n",
       "\n",
       "    .dataframe thead tr th {\n",
       "        text-align: left;\n",
       "    }\n",
       "</style>\n",
       "<table border=\"1\" class=\"dataframe\">\n",
       "  <thead>\n",
       "    <tr>\n",
       "      <th>token</th>\n",
       "      <th>can</th>\n",
       "      <th>chopped</th>\n",
       "      <th colspan=\"2\" halign=\"left\">cloves</th>\n",
       "      <th colspan=\"2\" halign=\"left\">firm</th>\n",
       "      <th>juice</th>\n",
       "      <th colspan=\"2\" halign=\"left\">stewing</th>\n",
       "      <th>teaspoon</th>\n",
       "      <th>whole</th>\n",
       "    </tr>\n",
       "    <tr>\n",
       "      <th>label</th>\n",
       "      <th>I-UNIT</th>\n",
       "      <th>I-STATE</th>\n",
       "      <th>I-NAME</th>\n",
       "      <th>I-UNIT</th>\n",
       "      <th>I-NAME</th>\n",
       "      <th>I-STATE</th>\n",
       "      <th>I-NAME</th>\n",
       "      <th>I-NAME</th>\n",
       "      <th>I-STATE</th>\n",
       "      <th>I-UNIT</th>\n",
       "      <th>I-UNIT</th>\n",
       "    </tr>\n",
       "  </thead>\n",
       "  <tbody>\n",
       "    <tr>\n",
       "      <th>n</th>\n",
       "      <td>32.000000</td>\n",
       "      <td>110.000000</td>\n",
       "      <td>7.00000</td>\n",
       "      <td>13.000000</td>\n",
       "      <td>2.000000</td>\n",
       "      <td>2.000000</td>\n",
       "      <td>13.000000</td>\n",
       "      <td>1.000000</td>\n",
       "      <td>1.000000</td>\n",
       "      <td>130.000000</td>\n",
       "      <td>5.000000</td>\n",
       "    </tr>\n",
       "    <tr>\n",
       "      <th>loss</th>\n",
       "      <td>0.705787</td>\n",
       "      <td>0.000705</td>\n",
       "      <td>0.26481</td>\n",
       "      <td>0.138315</td>\n",
       "      <td>0.152782</td>\n",
       "      <td>6.380229</td>\n",
       "      <td>0.022387</td>\n",
       "      <td>0.027096</td>\n",
       "      <td>6.808753</td>\n",
       "      <td>0.052055</td>\n",
       "      <td>2.247591</td>\n",
       "    </tr>\n",
       "  </tbody>\n",
       "</table>\n",
       "</div>"
      ],
      "text/plain": [
       "token        can     chopped   cloves                 firm            \\\n",
       "label     I-UNIT     I-STATE   I-NAME     I-UNIT    I-NAME   I-STATE   \n",
       "n      32.000000  110.000000  7.00000  13.000000  2.000000  2.000000   \n",
       "loss    0.705787    0.000705  0.26481   0.138315  0.152782  6.380229   \n",
       "\n",
       "token      juice   stewing              teaspoon     whole  \n",
       "label     I-NAME    I-NAME   I-STATE      I-UNIT    I-UNIT  \n",
       "n      13.000000  1.000000  1.000000  130.000000  5.000000  \n",
       "loss    0.022387  0.027096  6.808753    0.052055  2.247591  "
      ]
     },
     "execution_count": 100,
     "metadata": {},
     "output_type": "execute_result"
    }
   ],
   "source": [
    "(\n",
    "    df_tokens\n",
    "    .query('token in @high_loss_tokens & label != \"O\"')\n",
    "    .groupby(['token', 'label'])\n",
    "    .agg(n=('loss', 'count'),\n",
    "         loss=('loss', 'mean'))\n",
    ").T"
   ]
  },
  {
   "cell_type": "markdown",
   "id": "6bb430e9",
   "metadata": {
    "papermill": {
     "duration": 0.285953,
     "end_time": "2022-04-09T11:12:43.630593",
     "exception": false,
     "start_time": "2022-04-09T11:12:43.344640",
     "status": "completed"
    },
    "tags": []
   },
   "source": [
    "The model is struggling to disambiguate \"clove of garlic\" from \"ground cloves\""
   ]
  },
  {
   "cell_type": "code",
   "execution_count": 101,
   "id": "e57cbef7",
   "metadata": {
    "execution": {
     "iopub.execute_input": "2022-04-09T11:12:44.256418Z",
     "iopub.status.busy": "2022-04-09T11:12:44.255560Z",
     "iopub.status.idle": "2022-04-09T11:12:44.386487Z",
     "shell.execute_reply": "2022-04-09T11:12:44.387058Z",
     "shell.execute_reply.started": "2022-04-09T10:21:47.508786Z"
    },
    "papermill": {
     "duration": 0.452123,
     "end_time": "2022-04-09T11:12:44.387279",
     "exception": false,
     "start_time": "2022-04-09T11:12:43.935156",
     "status": "completed"
    },
    "tags": []
   },
   "outputs": [
    {
     "data": {
      "text/html": [
       "<div>\n",
       "<style scoped>\n",
       "    .dataframe tbody tr th:only-of-type {\n",
       "        vertical-align: middle;\n",
       "    }\n",
       "\n",
       "    .dataframe tbody tr th {\n",
       "        vertical-align: top;\n",
       "    }\n",
       "\n",
       "    .dataframe thead th {\n",
       "        text-align: right;\n",
       "    }\n",
       "</style>\n",
       "<table border=\"1\" class=\"dataframe\">\n",
       "  <thead>\n",
       "    <tr style=\"text-align: right;\">\n",
       "      <th>token</th>\n",
       "      <th>3</th>\n",
       "      <th>large</th>\n",
       "      <th>cloves</th>\n",
       "      <th>garlic</th>\n",
       "      <th>,</th>\n",
       "      <th>minced</th>\n",
       "    </tr>\n",
       "  </thead>\n",
       "  <tbody>\n",
       "    <tr>\n",
       "      <th>label</th>\n",
       "      <td>I-QUANTITY</td>\n",
       "      <td>I-SIZE</td>\n",
       "      <td>I-UNIT</td>\n",
       "      <td>I-NAME</td>\n",
       "      <td>O</td>\n",
       "      <td>I-STATE</td>\n",
       "    </tr>\n",
       "    <tr>\n",
       "      <th>loss</th>\n",
       "      <td>0.000143</td>\n",
       "      <td>0.000458</td>\n",
       "      <td>0.096751</td>\n",
       "      <td>0.000472</td>\n",
       "      <td>0.001131</td>\n",
       "      <td>0.00072</td>\n",
       "    </tr>\n",
       "  </tbody>\n",
       "</table>\n",
       "</div>"
      ],
      "text/plain": [
       "token           3     large    cloves    garlic         ,   minced\n",
       "label  I-QUANTITY    I-SIZE    I-UNIT    I-NAME         O  I-STATE\n",
       "loss     0.000143  0.000458  0.096751  0.000472  0.001131  0.00072"
      ]
     },
     "metadata": {},
     "output_type": "display_data"
    },
    {
     "data": {
      "text/html": [
       "<div>\n",
       "<style scoped>\n",
       "    .dataframe tbody tr th:only-of-type {\n",
       "        vertical-align: middle;\n",
       "    }\n",
       "\n",
       "    .dataframe tbody tr th {\n",
       "        vertical-align: top;\n",
       "    }\n",
       "\n",
       "    .dataframe thead th {\n",
       "        text-align: right;\n",
       "    }\n",
       "</style>\n",
       "<table border=\"1\" class=\"dataframe\">\n",
       "  <thead>\n",
       "    <tr style=\"text-align: right;\">\n",
       "      <th>token</th>\n",
       "      <th>3</th>\n",
       "      <th>cloves</th>\n",
       "      <th>of</th>\n",
       "      <th>roughly</th>\n",
       "      <th>chopped</th>\n",
       "      <th>garlic</th>\n",
       "      <th>or</th>\n",
       "      <th>1</th>\n",
       "      <th>teaspoon</th>\n",
       "      <th>garlic</th>\n",
       "      <th>powder</th>\n",
       "    </tr>\n",
       "  </thead>\n",
       "  <tbody>\n",
       "    <tr>\n",
       "      <th>label</th>\n",
       "      <td>I-QUANTITY</td>\n",
       "      <td>I-UNIT</td>\n",
       "      <td>O</td>\n",
       "      <td>O</td>\n",
       "      <td>I-STATE</td>\n",
       "      <td>I-NAME</td>\n",
       "      <td>O</td>\n",
       "      <td>I-QUANTITY</td>\n",
       "      <td>I-UNIT</td>\n",
       "      <td>I-NAME</td>\n",
       "      <td>I-NAME</td>\n",
       "    </tr>\n",
       "    <tr>\n",
       "      <th>loss</th>\n",
       "      <td>0.000134</td>\n",
       "      <td>0.484515</td>\n",
       "      <td>0.005077</td>\n",
       "      <td>0.0017</td>\n",
       "      <td>0.000677</td>\n",
       "      <td>0.001423</td>\n",
       "      <td>0.001175</td>\n",
       "      <td>3.262393</td>\n",
       "      <td>3.6821</td>\n",
       "      <td>2.692136</td>\n",
       "      <td>3.979522</td>\n",
       "    </tr>\n",
       "  </tbody>\n",
       "</table>\n",
       "</div>"
      ],
      "text/plain": [
       "token           3    cloves        of roughly   chopped    garlic        or  \\\n",
       "label  I-QUANTITY    I-UNIT         O       O   I-STATE    I-NAME         O   \n",
       "loss     0.000134  0.484515  0.005077  0.0017  0.000677  0.001423  0.001175   \n",
       "\n",
       "token           1 teaspoon    garlic    powder  \n",
       "label  I-QUANTITY   I-UNIT    I-NAME    I-NAME  \n",
       "loss     3.262393   3.6821  2.692136  3.979522  "
      ]
     },
     "metadata": {},
     "output_type": "display_data"
    },
    {
     "data": {
      "text/html": [
       "<div>\n",
       "<style scoped>\n",
       "    .dataframe tbody tr th:only-of-type {\n",
       "        vertical-align: middle;\n",
       "    }\n",
       "\n",
       "    .dataframe tbody tr th {\n",
       "        vertical-align: top;\n",
       "    }\n",
       "\n",
       "    .dataframe thead th {\n",
       "        text-align: right;\n",
       "    }\n",
       "</style>\n",
       "<table border=\"1\" class=\"dataframe\">\n",
       "  <thead>\n",
       "    <tr style=\"text-align: right;\">\n",
       "      <th>token</th>\n",
       "      <th>2</th>\n",
       "      <th>garlic</th>\n",
       "      <th>cloves</th>\n",
       "      <th>,</th>\n",
       "      <th>smashed</th>\n",
       "    </tr>\n",
       "  </thead>\n",
       "  <tbody>\n",
       "    <tr>\n",
       "      <th>label</th>\n",
       "      <td>I-QUANTITY</td>\n",
       "      <td>I-NAME</td>\n",
       "      <td>I-UNIT</td>\n",
       "      <td>O</td>\n",
       "      <td>O</td>\n",
       "    </tr>\n",
       "    <tr>\n",
       "      <th>loss</th>\n",
       "      <td>0.000112</td>\n",
       "      <td>0.000505</td>\n",
       "      <td>0.126389</td>\n",
       "      <td>0.000731</td>\n",
       "      <td>1.466063</td>\n",
       "    </tr>\n",
       "  </tbody>\n",
       "</table>\n",
       "</div>"
      ],
      "text/plain": [
       "token           2    garlic    cloves         ,   smashed\n",
       "label  I-QUANTITY    I-NAME    I-UNIT         O         O\n",
       "loss     0.000112  0.000505  0.126389  0.000731  1.466063"
      ]
     },
     "metadata": {},
     "output_type": "display_data"
    },
    {
     "data": {
      "text/html": [
       "<div>\n",
       "<style scoped>\n",
       "    .dataframe tbody tr th:only-of-type {\n",
       "        vertical-align: middle;\n",
       "    }\n",
       "\n",
       "    .dataframe tbody tr th {\n",
       "        vertical-align: top;\n",
       "    }\n",
       "\n",
       "    .dataframe thead th {\n",
       "        text-align: right;\n",
       "    }\n",
       "</style>\n",
       "<table border=\"1\" class=\"dataframe\">\n",
       "  <thead>\n",
       "    <tr style=\"text-align: right;\">\n",
       "      <th>token</th>\n",
       "      <th>2</th>\n",
       "      <th>cloves</th>\n",
       "      <th>garlic</th>\n",
       "      <th>,</th>\n",
       "      <th>minced</th>\n",
       "    </tr>\n",
       "  </thead>\n",
       "  <tbody>\n",
       "    <tr>\n",
       "      <th>label</th>\n",
       "      <td>I-QUANTITY</td>\n",
       "      <td>I-UNIT</td>\n",
       "      <td>I-NAME</td>\n",
       "      <td>O</td>\n",
       "      <td>I-STATE</td>\n",
       "    </tr>\n",
       "    <tr>\n",
       "      <th>loss</th>\n",
       "      <td>0.000109</td>\n",
       "      <td>0.051659</td>\n",
       "      <td>0.000452</td>\n",
       "      <td>0.001049</td>\n",
       "      <td>0.000585</td>\n",
       "    </tr>\n",
       "  </tbody>\n",
       "</table>\n",
       "</div>"
      ],
      "text/plain": [
       "token           2    cloves    garlic         ,    minced\n",
       "label  I-QUANTITY    I-UNIT    I-NAME         O   I-STATE\n",
       "loss     0.000109  0.051659  0.000452  0.001049  0.000585"
      ]
     },
     "metadata": {},
     "output_type": "display_data"
    },
    {
     "data": {
      "text/html": [
       "<div>\n",
       "<style scoped>\n",
       "    .dataframe tbody tr th:only-of-type {\n",
       "        vertical-align: middle;\n",
       "    }\n",
       "\n",
       "    .dataframe tbody tr th {\n",
       "        vertical-align: top;\n",
       "    }\n",
       "\n",
       "    .dataframe thead th {\n",
       "        text-align: right;\n",
       "    }\n",
       "</style>\n",
       "<table border=\"1\" class=\"dataframe\">\n",
       "  <thead>\n",
       "    <tr style=\"text-align: right;\">\n",
       "      <th>token</th>\n",
       "      <th>4</th>\n",
       "      <th>garlic</th>\n",
       "      <th>cloves</th>\n",
       "    </tr>\n",
       "  </thead>\n",
       "  <tbody>\n",
       "    <tr>\n",
       "      <th>label</th>\n",
       "      <td>I-QUANTITY</td>\n",
       "      <td>I-NAME</td>\n",
       "      <td>I-UNIT</td>\n",
       "    </tr>\n",
       "    <tr>\n",
       "      <th>loss</th>\n",
       "      <td>0.000124</td>\n",
       "      <td>0.000454</td>\n",
       "      <td>0.104116</td>\n",
       "    </tr>\n",
       "  </tbody>\n",
       "</table>\n",
       "</div>"
      ],
      "text/plain": [
       "token           4    garlic    cloves\n",
       "label  I-QUANTITY    I-NAME    I-UNIT\n",
       "loss     0.000124  0.000454  0.104116"
      ]
     },
     "metadata": {},
     "output_type": "display_data"
    },
    {
     "data": {
      "text/html": [
       "<div>\n",
       "<style scoped>\n",
       "    .dataframe tbody tr th:only-of-type {\n",
       "        vertical-align: middle;\n",
       "    }\n",
       "\n",
       "    .dataframe tbody tr th {\n",
       "        vertical-align: top;\n",
       "    }\n",
       "\n",
       "    .dataframe thead th {\n",
       "        text-align: right;\n",
       "    }\n",
       "</style>\n",
       "<table border=\"1\" class=\"dataframe\">\n",
       "  <thead>\n",
       "    <tr style=\"text-align: right;\">\n",
       "      <th>token</th>\n",
       "      <th>1/2</th>\n",
       "      <th>teaspoon</th>\n",
       "      <th>ground</th>\n",
       "      <th>cloves</th>\n",
       "    </tr>\n",
       "  </thead>\n",
       "  <tbody>\n",
       "    <tr>\n",
       "      <th>label</th>\n",
       "      <td>I-QUANTITY</td>\n",
       "      <td>I-UNIT</td>\n",
       "      <td>I-STATE</td>\n",
       "      <td>I-NAME</td>\n",
       "    </tr>\n",
       "    <tr>\n",
       "      <th>loss</th>\n",
       "      <td>0.0001</td>\n",
       "      <td>0.00014</td>\n",
       "      <td>0.000603</td>\n",
       "      <td>0.013584</td>\n",
       "    </tr>\n",
       "  </tbody>\n",
       "</table>\n",
       "</div>"
      ],
      "text/plain": [
       "token         1/2 teaspoon    ground    cloves\n",
       "label  I-QUANTITY   I-UNIT   I-STATE    I-NAME\n",
       "loss       0.0001  0.00014  0.000603  0.013584"
      ]
     },
     "metadata": {},
     "output_type": "display_data"
    },
    {
     "data": {
      "text/html": [
       "<div>\n",
       "<style scoped>\n",
       "    .dataframe tbody tr th:only-of-type {\n",
       "        vertical-align: middle;\n",
       "    }\n",
       "\n",
       "    .dataframe tbody tr th {\n",
       "        vertical-align: top;\n",
       "    }\n",
       "\n",
       "    .dataframe thead th {\n",
       "        text-align: right;\n",
       "    }\n",
       "</style>\n",
       "<table border=\"1\" class=\"dataframe\">\n",
       "  <thead>\n",
       "    <tr style=\"text-align: right;\">\n",
       "      <th>token</th>\n",
       "      <th>2</th>\n",
       "      <th>tablespoons</th>\n",
       "      <th>ground</th>\n",
       "      <th>cloves</th>\n",
       "    </tr>\n",
       "  </thead>\n",
       "  <tbody>\n",
       "    <tr>\n",
       "      <th>label</th>\n",
       "      <td>I-QUANTITY</td>\n",
       "      <td>I-UNIT</td>\n",
       "      <td>I-STATE</td>\n",
       "      <td>I-NAME</td>\n",
       "    </tr>\n",
       "    <tr>\n",
       "      <th>loss</th>\n",
       "      <td>0.000102</td>\n",
       "      <td>0.000118</td>\n",
       "      <td>0.000613</td>\n",
       "      <td>0.013011</td>\n",
       "    </tr>\n",
       "  </tbody>\n",
       "</table>\n",
       "</div>"
      ],
      "text/plain": [
       "token           2 tablespoons    ground    cloves\n",
       "label  I-QUANTITY      I-UNIT   I-STATE    I-NAME\n",
       "loss     0.000102    0.000118  0.000613  0.013011"
      ]
     },
     "metadata": {},
     "output_type": "display_data"
    },
    {
     "data": {
      "text/html": [
       "<div>\n",
       "<style scoped>\n",
       "    .dataframe tbody tr th:only-of-type {\n",
       "        vertical-align: middle;\n",
       "    }\n",
       "\n",
       "    .dataframe tbody tr th {\n",
       "        vertical-align: top;\n",
       "    }\n",
       "\n",
       "    .dataframe thead th {\n",
       "        text-align: right;\n",
       "    }\n",
       "</style>\n",
       "<table border=\"1\" class=\"dataframe\">\n",
       "  <thead>\n",
       "    <tr style=\"text-align: right;\">\n",
       "      <th>token</th>\n",
       "      <th>1</th>\n",
       "      <th>teaspoon</th>\n",
       "      <th>ground</th>\n",
       "      <th>cloves</th>\n",
       "    </tr>\n",
       "  </thead>\n",
       "  <tbody>\n",
       "    <tr>\n",
       "      <th>label</th>\n",
       "      <td>I-QUANTITY</td>\n",
       "      <td>I-UNIT</td>\n",
       "      <td>I-STATE</td>\n",
       "      <td>I-NAME</td>\n",
       "    </tr>\n",
       "    <tr>\n",
       "      <th>loss</th>\n",
       "      <td>0.000088</td>\n",
       "      <td>0.000154</td>\n",
       "      <td>0.000667</td>\n",
       "      <td>0.015411</td>\n",
       "    </tr>\n",
       "  </tbody>\n",
       "</table>\n",
       "</div>"
      ],
      "text/plain": [
       "token           1  teaspoon    ground    cloves\n",
       "label  I-QUANTITY    I-UNIT   I-STATE    I-NAME\n",
       "loss     0.000088  0.000154  0.000667  0.015411"
      ]
     },
     "metadata": {},
     "output_type": "display_data"
    },
    {
     "data": {
      "text/html": [
       "<div>\n",
       "<style scoped>\n",
       "    .dataframe tbody tr th:only-of-type {\n",
       "        vertical-align: middle;\n",
       "    }\n",
       "\n",
       "    .dataframe tbody tr th {\n",
       "        vertical-align: top;\n",
       "    }\n",
       "\n",
       "    .dataframe thead th {\n",
       "        text-align: right;\n",
       "    }\n",
       "</style>\n",
       "<table border=\"1\" class=\"dataframe\">\n",
       "  <thead>\n",
       "    <tr style=\"text-align: right;\">\n",
       "      <th>token</th>\n",
       "      <th>4</th>\n",
       "      <th>cloves</th>\n",
       "    </tr>\n",
       "  </thead>\n",
       "  <tbody>\n",
       "    <tr>\n",
       "      <th>label</th>\n",
       "      <td>I-QUANTITY</td>\n",
       "      <td>I-NAME</td>\n",
       "    </tr>\n",
       "    <tr>\n",
       "      <th>loss</th>\n",
       "      <td>0.000139</td>\n",
       "      <td>1.767283</td>\n",
       "    </tr>\n",
       "  </tbody>\n",
       "</table>\n",
       "</div>"
      ],
      "text/plain": [
       "token           4    cloves\n",
       "label  I-QUANTITY    I-NAME\n",
       "loss     0.000139  1.767283"
      ]
     },
     "metadata": {},
     "output_type": "display_data"
    },
    {
     "data": {
      "text/html": [
       "<div>\n",
       "<style scoped>\n",
       "    .dataframe tbody tr th:only-of-type {\n",
       "        vertical-align: middle;\n",
       "    }\n",
       "\n",
       "    .dataframe tbody tr th {\n",
       "        vertical-align: top;\n",
       "    }\n",
       "\n",
       "    .dataframe thead th {\n",
       "        text-align: right;\n",
       "    }\n",
       "</style>\n",
       "<table border=\"1\" class=\"dataframe\">\n",
       "  <thead>\n",
       "    <tr style=\"text-align: right;\">\n",
       "      <th>token</th>\n",
       "      <th>1</th>\n",
       "      <th>pinch</th>\n",
       "      <th>ground</th>\n",
       "      <th>cloves</th>\n",
       "    </tr>\n",
       "  </thead>\n",
       "  <tbody>\n",
       "    <tr>\n",
       "      <th>label</th>\n",
       "      <td>I-QUANTITY</td>\n",
       "      <td>I-UNIT</td>\n",
       "      <td>I-STATE</td>\n",
       "      <td>I-NAME</td>\n",
       "    </tr>\n",
       "    <tr>\n",
       "      <th>loss</th>\n",
       "      <td>0.000096</td>\n",
       "      <td>0.001384</td>\n",
       "      <td>0.000792</td>\n",
       "      <td>0.017229</td>\n",
       "    </tr>\n",
       "  </tbody>\n",
       "</table>\n",
       "</div>"
      ],
      "text/plain": [
       "token           1     pinch    ground    cloves\n",
       "label  I-QUANTITY    I-UNIT   I-STATE    I-NAME\n",
       "loss     0.000096  0.001384  0.000792  0.017229"
      ]
     },
     "metadata": {},
     "output_type": "display_data"
    }
   ],
   "source": [
    "show_n_examples('cloves', 'I-UNIT')\n",
    "show_n_examples('cloves', 'I-NAME')"
   ]
  },
  {
   "cell_type": "markdown",
   "id": "25313db9",
   "metadata": {
    "papermill": {
     "duration": 0.200128,
     "end_time": "2022-04-09T11:12:44.900216",
     "exception": false,
     "start_time": "2022-04-09T11:12:44.700088",
     "status": "completed"
    },
    "tags": []
   },
   "source": [
    "Direct contridictions in how `firm` is labelled for both tofu and tomatoes."
   ]
  },
  {
   "cell_type": "code",
   "execution_count": 102,
   "id": "2371687c",
   "metadata": {
    "execution": {
     "iopub.execute_input": "2022-04-09T11:12:45.300800Z",
     "iopub.status.busy": "2022-04-09T11:12:45.299924Z",
     "iopub.status.idle": "2022-04-09T11:12:45.352719Z",
     "shell.execute_reply": "2022-04-09T11:12:45.352177Z",
     "shell.execute_reply.started": "2022-04-09T10:21:50.065182Z"
    },
    "papermill": {
     "duration": 0.254196,
     "end_time": "2022-04-09T11:12:45.352864",
     "exception": false,
     "start_time": "2022-04-09T11:12:45.098668",
     "status": "completed"
    },
    "tags": []
   },
   "outputs": [
    {
     "data": {
      "text/html": [
       "<div>\n",
       "<style scoped>\n",
       "    .dataframe tbody tr th:only-of-type {\n",
       "        vertical-align: middle;\n",
       "    }\n",
       "\n",
       "    .dataframe tbody tr th {\n",
       "        vertical-align: top;\n",
       "    }\n",
       "\n",
       "    .dataframe thead th {\n",
       "        text-align: right;\n",
       "    }\n",
       "</style>\n",
       "<table border=\"1\" class=\"dataframe\">\n",
       "  <thead>\n",
       "    <tr style=\"text-align: right;\">\n",
       "      <th>token</th>\n",
       "      <th>1</th>\n",
       "      <th>cup</th>\n",
       "      <th>diced</th>\n",
       "      <th>firm</th>\n",
       "      <th>tofu</th>\n",
       "    </tr>\n",
       "  </thead>\n",
       "  <tbody>\n",
       "    <tr>\n",
       "      <th>label</th>\n",
       "      <td>I-QUANTITY</td>\n",
       "      <td>I-UNIT</td>\n",
       "      <td>I-STATE</td>\n",
       "      <td>I-STATE</td>\n",
       "      <td>I-NAME</td>\n",
       "    </tr>\n",
       "    <tr>\n",
       "      <th>loss</th>\n",
       "      <td>0.000084</td>\n",
       "      <td>0.000146</td>\n",
       "      <td>0.000849</td>\n",
       "      <td>6.971877</td>\n",
       "      <td>0.005136</td>\n",
       "    </tr>\n",
       "  </tbody>\n",
       "</table>\n",
       "</div>"
      ],
      "text/plain": [
       "token           1       cup     diced      firm      tofu\n",
       "label  I-QUANTITY    I-UNIT   I-STATE   I-STATE    I-NAME\n",
       "loss     0.000084  0.000146  0.000849  6.971877  0.005136"
      ]
     },
     "metadata": {},
     "output_type": "display_data"
    },
    {
     "data": {
      "text/html": [
       "<div>\n",
       "<style scoped>\n",
       "    .dataframe tbody tr th:only-of-type {\n",
       "        vertical-align: middle;\n",
       "    }\n",
       "\n",
       "    .dataframe tbody tr th {\n",
       "        vertical-align: top;\n",
       "    }\n",
       "\n",
       "    .dataframe thead th {\n",
       "        text-align: right;\n",
       "    }\n",
       "</style>\n",
       "<table border=\"1\" class=\"dataframe\">\n",
       "  <thead>\n",
       "    <tr style=\"text-align: right;\">\n",
       "      <th>token</th>\n",
       "      <th>3</th>\n",
       "      <th>large</th>\n",
       "      <th>firm</th>\n",
       "      <th>very</th>\n",
       "      <th>ripe</th>\n",
       "      <th>tomatoes</th>\n",
       "      <th>,</th>\n",
       "      <th>sliced</th>\n",
       "    </tr>\n",
       "  </thead>\n",
       "  <tbody>\n",
       "    <tr>\n",
       "      <th>label</th>\n",
       "      <td>I-QUANTITY</td>\n",
       "      <td>I-SIZE</td>\n",
       "      <td>I-STATE</td>\n",
       "      <td>O</td>\n",
       "      <td>I-STATE</td>\n",
       "      <td>I-NAME</td>\n",
       "      <td>O</td>\n",
       "      <td>I-STATE</td>\n",
       "    </tr>\n",
       "    <tr>\n",
       "      <th>loss</th>\n",
       "      <td>0.000127</td>\n",
       "      <td>0.000513</td>\n",
       "      <td>5.788581</td>\n",
       "      <td>0.031156</td>\n",
       "      <td>0.000717</td>\n",
       "      <td>0.00167</td>\n",
       "      <td>0.000962</td>\n",
       "      <td>0.001172</td>\n",
       "    </tr>\n",
       "  </tbody>\n",
       "</table>\n",
       "</div>"
      ],
      "text/plain": [
       "token           3     large      firm      very      ripe tomatoes         ,  \\\n",
       "label  I-QUANTITY    I-SIZE   I-STATE         O   I-STATE   I-NAME         O   \n",
       "loss     0.000127  0.000513  5.788581  0.031156  0.000717  0.00167  0.000962   \n",
       "\n",
       "token    sliced  \n",
       "label   I-STATE  \n",
       "loss   0.001172  "
      ]
     },
     "metadata": {},
     "output_type": "display_data"
    },
    {
     "data": {
      "text/html": [
       "<div>\n",
       "<style scoped>\n",
       "    .dataframe tbody tr th:only-of-type {\n",
       "        vertical-align: middle;\n",
       "    }\n",
       "\n",
       "    .dataframe tbody tr th {\n",
       "        vertical-align: top;\n",
       "    }\n",
       "\n",
       "    .dataframe thead th {\n",
       "        text-align: right;\n",
       "    }\n",
       "</style>\n",
       "<table border=\"1\" class=\"dataframe\">\n",
       "  <thead>\n",
       "    <tr style=\"text-align: right;\">\n",
       "      <th>token</th>\n",
       "      <th>4</th>\n",
       "      <th>ounces</th>\n",
       "      <th>firm</th>\n",
       "      <th>tofu</th>\n",
       "      <th>or</th>\n",
       "      <th>4</th>\n",
       "      <th>ounces</th>\n",
       "      <th>tofu</th>\n",
       "      <th>ham</th>\n",
       "      <th>,</th>\n",
       "      <th>cut</th>\n",
       "      <th>into</th>\n",
       "      <th>thin</th>\n",
       "      <th>strips</th>\n",
       "      <th>(</th>\n",
       "      <th>110</th>\n",
       "      <th>g</th>\n",
       "      <th>)</th>\n",
       "    </tr>\n",
       "  </thead>\n",
       "  <tbody>\n",
       "    <tr>\n",
       "      <th>label</th>\n",
       "      <td>I-QUANTITY</td>\n",
       "      <td>I-UNIT</td>\n",
       "      <td>I-NAME</td>\n",
       "      <td>I-NAME</td>\n",
       "      <td>O</td>\n",
       "      <td>I-QUANTITY</td>\n",
       "      <td>I-UNIT</td>\n",
       "      <td>I-NAME</td>\n",
       "      <td>I-NAME</td>\n",
       "      <td>O</td>\n",
       "      <td>I-STATE</td>\n",
       "      <td>O</td>\n",
       "      <td>O</td>\n",
       "      <td>O</td>\n",
       "      <td>O</td>\n",
       "      <td>I-QUANTITY</td>\n",
       "      <td>I-UNIT</td>\n",
       "      <td>O</td>\n",
       "    </tr>\n",
       "    <tr>\n",
       "      <th>loss</th>\n",
       "      <td>0.000099</td>\n",
       "      <td>0.000142</td>\n",
       "      <td>0.066008</td>\n",
       "      <td>0.013748</td>\n",
       "      <td>0.001233</td>\n",
       "      <td>2.510047</td>\n",
       "      <td>3.403034</td>\n",
       "      <td>5.153624</td>\n",
       "      <td>4.591987</td>\n",
       "      <td>0.000414</td>\n",
       "      <td>0.958356</td>\n",
       "      <td>0.000853</td>\n",
       "      <td>0.001185</td>\n",
       "      <td>0.003049</td>\n",
       "      <td>0.000747</td>\n",
       "      <td>2.902087</td>\n",
       "      <td>4.171572</td>\n",
       "      <td>0.000579</td>\n",
       "    </tr>\n",
       "  </tbody>\n",
       "</table>\n",
       "</div>"
      ],
      "text/plain": [
       "token           4    ounces      firm      tofu        or           4  \\\n",
       "label  I-QUANTITY    I-UNIT    I-NAME    I-NAME         O  I-QUANTITY   \n",
       "loss     0.000099  0.000142  0.066008  0.013748  0.001233    2.510047   \n",
       "\n",
       "token    ounces      tofu       ham         ,       cut      into      thin  \\\n",
       "label    I-UNIT    I-NAME    I-NAME         O   I-STATE         O         O   \n",
       "loss   3.403034  5.153624  4.591987  0.000414  0.958356  0.000853  0.001185   \n",
       "\n",
       "token    strips         (         110         g         )  \n",
       "label         O         O  I-QUANTITY    I-UNIT         O  \n",
       "loss   0.003049  0.000747    2.902087  4.171572  0.000579  "
      ]
     },
     "metadata": {},
     "output_type": "display_data"
    },
    {
     "data": {
      "text/html": [
       "<div>\n",
       "<style scoped>\n",
       "    .dataframe tbody tr th:only-of-type {\n",
       "        vertical-align: middle;\n",
       "    }\n",
       "\n",
       "    .dataframe tbody tr th {\n",
       "        vertical-align: top;\n",
       "    }\n",
       "\n",
       "    .dataframe thead th {\n",
       "        text-align: right;\n",
       "    }\n",
       "</style>\n",
       "<table border=\"1\" class=\"dataframe\">\n",
       "  <thead>\n",
       "    <tr style=\"text-align: right;\">\n",
       "      <th>token</th>\n",
       "      <th>1</th>\n",
       "      <th>cup</th>\n",
       "      <th>firm</th>\n",
       "      <th>ripe</th>\n",
       "      <th>tomatoes</th>\n",
       "      <th>,</th>\n",
       "      <th>diced</th>\n",
       "    </tr>\n",
       "  </thead>\n",
       "  <tbody>\n",
       "    <tr>\n",
       "      <th>label</th>\n",
       "      <td>I-QUANTITY</td>\n",
       "      <td>I-UNIT</td>\n",
       "      <td>I-NAME</td>\n",
       "      <td>I-STATE</td>\n",
       "      <td>I-NAME</td>\n",
       "      <td>O</td>\n",
       "      <td>I-STATE</td>\n",
       "    </tr>\n",
       "    <tr>\n",
       "      <th>loss</th>\n",
       "      <td>0.000089</td>\n",
       "      <td>0.000126</td>\n",
       "      <td>0.239557</td>\n",
       "      <td>0.000722</td>\n",
       "      <td>0.001018</td>\n",
       "      <td>0.000842</td>\n",
       "      <td>0.001</td>\n",
       "    </tr>\n",
       "  </tbody>\n",
       "</table>\n",
       "</div>"
      ],
      "text/plain": [
       "token           1       cup      firm      ripe  tomatoes         ,    diced\n",
       "label  I-QUANTITY    I-UNIT    I-NAME   I-STATE    I-NAME         O  I-STATE\n",
       "loss     0.000089  0.000126  0.239557  0.000722  0.001018  0.000842    0.001"
      ]
     },
     "metadata": {},
     "output_type": "display_data"
    }
   ],
   "source": [
    "show_n_examples('firm', 'I-STATE')\n",
    "show_n_examples('firm', 'I-NAME')"
   ]
  },
  {
   "cell_type": "markdown",
   "id": "c148569a",
   "metadata": {
    "papermill": {
     "duration": 0.192779,
     "end_time": "2022-04-09T11:12:45.740516",
     "exception": false,
     "start_time": "2022-04-09T11:12:45.547737",
     "status": "completed"
    },
    "tags": []
   },
   "source": [
    "Here's a direct contradiction; \"stewing\" in \"stewing beef\" is a name."
   ]
  },
  {
   "cell_type": "code",
   "execution_count": 103,
   "id": "27d1434e",
   "metadata": {
    "execution": {
     "iopub.execute_input": "2022-04-09T11:12:46.305277Z",
     "iopub.status.busy": "2022-04-09T11:12:46.304447Z",
     "iopub.status.idle": "2022-04-09T11:12:46.344845Z",
     "shell.execute_reply": "2022-04-09T11:12:46.345856Z",
     "shell.execute_reply.started": "2022-04-09T10:21:51.816806Z"
    },
    "papermill": {
     "duration": 0.398672,
     "end_time": "2022-04-09T11:12:46.346065",
     "exception": false,
     "start_time": "2022-04-09T11:12:45.947393",
     "status": "completed"
    },
    "tags": []
   },
   "outputs": [
    {
     "data": {
      "text/html": [
       "<div>\n",
       "<style scoped>\n",
       "    .dataframe tbody tr th:only-of-type {\n",
       "        vertical-align: middle;\n",
       "    }\n",
       "\n",
       "    .dataframe tbody tr th {\n",
       "        vertical-align: top;\n",
       "    }\n",
       "\n",
       "    .dataframe thead th {\n",
       "        text-align: right;\n",
       "    }\n",
       "</style>\n",
       "<table border=\"1\" class=\"dataframe\">\n",
       "  <thead>\n",
       "    <tr style=\"text-align: right;\">\n",
       "      <th>token</th>\n",
       "      <th>2</th>\n",
       "      <th>lbs</th>\n",
       "      <th>stewing</th>\n",
       "      <th>beef</th>\n",
       "      <th>,</th>\n",
       "      <th>cut</th>\n",
       "      <th>into</th>\n",
       "      <th>1-inch</th>\n",
       "      <th>pieces</th>\n",
       "    </tr>\n",
       "  </thead>\n",
       "  <tbody>\n",
       "    <tr>\n",
       "      <th>label</th>\n",
       "      <td>I-QUANTITY</td>\n",
       "      <td>I-UNIT</td>\n",
       "      <td>I-STATE</td>\n",
       "      <td>I-NAME</td>\n",
       "      <td>O</td>\n",
       "      <td>I-STATE</td>\n",
       "      <td>O</td>\n",
       "      <td>O</td>\n",
       "      <td>O</td>\n",
       "    </tr>\n",
       "    <tr>\n",
       "      <th>loss</th>\n",
       "      <td>0.000086</td>\n",
       "      <td>0.000333</td>\n",
       "      <td>6.808753</td>\n",
       "      <td>0.001149</td>\n",
       "      <td>0.000608</td>\n",
       "      <td>0.014949</td>\n",
       "      <td>0.000479</td>\n",
       "      <td>0.066888</td>\n",
       "      <td>0.003012</td>\n",
       "    </tr>\n",
       "  </tbody>\n",
       "</table>\n",
       "</div>"
      ],
      "text/plain": [
       "token           2       lbs   stewing      beef         ,       cut      into  \\\n",
       "label  I-QUANTITY    I-UNIT   I-STATE    I-NAME         O   I-STATE         O   \n",
       "loss     0.000086  0.000333  6.808753  0.001149  0.000608  0.014949  0.000479   \n",
       "\n",
       "token    1-inch    pieces  \n",
       "label         O         O  \n",
       "loss   0.066888  0.003012  "
      ]
     },
     "metadata": {},
     "output_type": "display_data"
    },
    {
     "data": {
      "text/html": [
       "<div>\n",
       "<style scoped>\n",
       "    .dataframe tbody tr th:only-of-type {\n",
       "        vertical-align: middle;\n",
       "    }\n",
       "\n",
       "    .dataframe tbody tr th {\n",
       "        vertical-align: top;\n",
       "    }\n",
       "\n",
       "    .dataframe thead th {\n",
       "        text-align: right;\n",
       "    }\n",
       "</style>\n",
       "<table border=\"1\" class=\"dataframe\">\n",
       "  <thead>\n",
       "    <tr style=\"text-align: right;\">\n",
       "      <th>token</th>\n",
       "      <th>1▁1/2</th>\n",
       "      <th>lbs</th>\n",
       "      <th>stewing</th>\n",
       "      <th>beef</th>\n",
       "    </tr>\n",
       "  </thead>\n",
       "  <tbody>\n",
       "    <tr>\n",
       "      <th>label</th>\n",
       "      <td>I-QUANTITY</td>\n",
       "      <td>I-UNIT</td>\n",
       "      <td>I-NAME</td>\n",
       "      <td>I-NAME</td>\n",
       "    </tr>\n",
       "    <tr>\n",
       "      <th>loss</th>\n",
       "      <td>0.000093</td>\n",
       "      <td>0.000157</td>\n",
       "      <td>0.027096</td>\n",
       "      <td>0.001027</td>\n",
       "    </tr>\n",
       "  </tbody>\n",
       "</table>\n",
       "</div>"
      ],
      "text/plain": [
       "token       1▁1/2       lbs   stewing      beef\n",
       "label  I-QUANTITY    I-UNIT    I-NAME    I-NAME\n",
       "loss     0.000093  0.000157  0.027096  0.001027"
      ]
     },
     "metadata": {},
     "output_type": "display_data"
    }
   ],
   "source": [
    "show_n_examples('stewing', 'I-STATE')\n",
    "show_n_examples('stewing', 'I-NAME')"
   ]
  },
  {
   "cell_type": "markdown",
   "id": "8beaceda",
   "metadata": {
    "papermill": {
     "duration": 0.202495,
     "end_time": "2022-04-09T11:12:46.820631",
     "exception": false,
     "start_time": "2022-04-09T11:12:46.618136",
     "status": "completed"
    },
    "tags": []
   },
   "source": [
    "## Labels with most loss"
   ]
  },
  {
   "cell_type": "markdown",
   "id": "0f56b0b3",
   "metadata": {
    "papermill": {
     "duration": 0.197034,
     "end_time": "2022-04-09T11:12:47.221727",
     "exception": false,
     "start_time": "2022-04-09T11:12:47.024693",
     "status": "completed"
    },
    "tags": []
   },
   "source": [
    "SIZE and TEMP have the most loss, but also the fewest examples to learn from."
   ]
  },
  {
   "cell_type": "code",
   "execution_count": 104,
   "id": "c47537ff",
   "metadata": {
    "execution": {
     "iopub.execute_input": "2022-04-09T11:12:47.660441Z",
     "iopub.status.busy": "2022-04-09T11:12:47.657829Z",
     "iopub.status.idle": "2022-04-09T11:12:47.675059Z",
     "shell.execute_reply": "2022-04-09T11:12:47.675487Z",
     "shell.execute_reply.started": "2022-04-09T10:24:20.482832Z"
    },
    "papermill": {
     "duration": 0.218865,
     "end_time": "2022-04-09T11:12:47.675651",
     "exception": false,
     "start_time": "2022-04-09T11:12:47.456786",
     "status": "completed"
    },
    "tags": []
   },
   "outputs": [
    {
     "data": {
      "text/html": [
       "<div>\n",
       "<style scoped>\n",
       "    .dataframe tbody tr th:only-of-type {\n",
       "        vertical-align: middle;\n",
       "    }\n",
       "\n",
       "    .dataframe tbody tr th {\n",
       "        vertical-align: top;\n",
       "    }\n",
       "\n",
       "    .dataframe thead th {\n",
       "        text-align: right;\n",
       "    }\n",
       "</style>\n",
       "<table border=\"1\" class=\"dataframe\">\n",
       "  <thead>\n",
       "    <tr style=\"text-align: right;\">\n",
       "      <th>label</th>\n",
       "      <th>I-SIZE</th>\n",
       "      <th>I-TEMP</th>\n",
       "      <th>O</th>\n",
       "      <th>I-STATE</th>\n",
       "      <th>I-NAME</th>\n",
       "      <th>I-UNIT</th>\n",
       "      <th>I-QUANTITY</th>\n",
       "      <th>I-DF</th>\n",
       "    </tr>\n",
       "  </thead>\n",
       "  <tbody>\n",
       "    <tr>\n",
       "      <th>n</th>\n",
       "      <td>75.00000</td>\n",
       "      <td>25.000000</td>\n",
       "      <td>2033.000000</td>\n",
       "      <td>653.000000</td>\n",
       "      <td>2165.000000</td>\n",
       "      <td>1048.000000</td>\n",
       "      <td>1282.000000</td>\n",
       "      <td>129.000000</td>\n",
       "    </tr>\n",
       "    <tr>\n",
       "      <th>total_loss</th>\n",
       "      <td>29.13002</td>\n",
       "      <td>5.533007</td>\n",
       "      <td>425.975464</td>\n",
       "      <td>84.030113</td>\n",
       "      <td>211.644577</td>\n",
       "      <td>91.029678</td>\n",
       "      <td>62.467163</td>\n",
       "      <td>0.342286</td>\n",
       "    </tr>\n",
       "    <tr>\n",
       "      <th>avg_loss</th>\n",
       "      <td>0.38840</td>\n",
       "      <td>0.221320</td>\n",
       "      <td>0.209530</td>\n",
       "      <td>0.128683</td>\n",
       "      <td>0.097757</td>\n",
       "      <td>0.086860</td>\n",
       "      <td>0.048726</td>\n",
       "      <td>0.002653</td>\n",
       "    </tr>\n",
       "  </tbody>\n",
       "</table>\n",
       "</div>"
      ],
      "text/plain": [
       "label         I-SIZE     I-TEMP            O     I-STATE       I-NAME  \\\n",
       "n           75.00000  25.000000  2033.000000  653.000000  2165.000000   \n",
       "total_loss  29.13002   5.533007   425.975464   84.030113   211.644577   \n",
       "avg_loss     0.38840   0.221320     0.209530    0.128683     0.097757   \n",
       "\n",
       "label            I-UNIT   I-QUANTITY        I-DF  \n",
       "n           1048.000000  1282.000000  129.000000  \n",
       "total_loss    91.029678    62.467163    0.342286  \n",
       "avg_loss       0.086860     0.048726    0.002653  "
      ]
     },
     "execution_count": 104,
     "metadata": {},
     "output_type": "execute_result"
    }
   ],
   "source": [
    "(df_tokens\n",
    " .groupby('label')\n",
    " .agg(n=('loss', 'count'),\n",
    "      total_loss=('loss', 'sum'),\n",
    "      avg_loss=('loss', 'mean'))\n",
    " .sort_values('avg_loss', ascending=False)\n",
    ").T"
   ]
  },
  {
   "cell_type": "markdown",
   "id": "201044ca",
   "metadata": {
    "papermill": {
     "duration": 0.196861,
     "end_time": "2022-04-09T11:12:48.078169",
     "exception": false,
     "start_time": "2022-04-09T11:12:47.881308",
     "status": "completed"
    },
    "tags": []
   },
   "source": [
    "## Ingredients with highest loss"
   ]
  },
  {
   "cell_type": "markdown",
   "id": "aeca92e7",
   "metadata": {
    "papermill": {
     "duration": 0.197813,
     "end_time": "2022-04-09T11:12:48.470830",
     "exception": false,
     "start_time": "2022-04-09T11:12:48.273017",
     "status": "completed"
    },
    "tags": []
   },
   "source": [
    "Calculate the loss by ingredient"
   ]
  },
  {
   "cell_type": "code",
   "execution_count": 105,
   "id": "5d25e1c4",
   "metadata": {
    "execution": {
     "iopub.execute_input": "2022-04-09T11:12:48.867565Z",
     "iopub.status.busy": "2022-04-09T11:12:48.866547Z",
     "iopub.status.idle": "2022-04-09T11:12:48.875054Z",
     "shell.execute_reply": "2022-04-09T11:12:48.874514Z",
     "shell.execute_reply.started": "2022-04-09T10:28:16.757458Z"
    },
    "papermill": {
     "duration": 0.20918,
     "end_time": "2022-04-09T11:12:48.875191",
     "exception": false,
     "start_time": "2022-04-09T11:12:48.666011",
     "status": "completed"
    },
    "tags": []
   },
   "outputs": [],
   "source": [
    "total_loss = (\n",
    "    df_tokens\n",
    "    .reset_index()\n",
    "    .groupby('index')\n",
    "    ['loss']\n",
    "    .sum()\n",
    "    .rename('total_loss')\n",
    ")\n",
    "\n",
    "df_tokens = df_tokens.merge(total_loss, left_index=True, right_index=True)"
   ]
  },
  {
   "cell_type": "code",
   "execution_count": 106,
   "id": "8c2778e5",
   "metadata": {
    "execution": {
     "iopub.execute_input": "2022-04-09T11:12:49.270258Z",
     "iopub.status.busy": "2022-04-09T11:12:49.269432Z",
     "iopub.status.idle": "2022-04-09T11:12:49.275236Z",
     "shell.execute_reply": "2022-04-09T11:12:49.275661Z",
     "shell.execute_reply.started": "2022-04-09T10:32:32.408455Z"
    },
    "papermill": {
     "duration": 0.205126,
     "end_time": "2022-04-09T11:12:49.275797",
     "exception": false,
     "start_time": "2022-04-09T11:12:49.070671",
     "status": "completed"
    },
    "tags": []
   },
   "outputs": [
    {
     "data": {
      "text/plain": [
       "index\n",
       "392     26.562275\n",
       "1120    25.912493\n",
       "49      23.902916\n",
       "548     23.778763\n",
       "481     20.826239\n",
       "Name: total_loss, dtype: float32"
      ]
     },
     "execution_count": 106,
     "metadata": {},
     "output_type": "execute_result"
    }
   ],
   "source": [
    "top_loss_ingredients = total_loss.sort_values(ascending=False)\n",
    "\n",
    "top_loss_ingredients.head()"
   ]
  },
  {
   "cell_type": "code",
   "execution_count": 107,
   "id": "e7ed8206",
   "metadata": {
    "execution": {
     "iopub.execute_input": "2022-04-09T11:12:49.672271Z",
     "iopub.status.busy": "2022-04-09T11:12:49.671436Z",
     "iopub.status.idle": "2022-04-09T11:12:49.673427Z",
     "shell.execute_reply": "2022-04-09T11:12:49.673831Z",
     "shell.execute_reply.started": "2022-04-09T10:35:12.846786Z"
    },
    "papermill": {
     "duration": 0.20064,
     "end_time": "2022-04-09T11:12:49.673970",
     "exception": false,
     "start_time": "2022-04-09T11:12:49.473330",
     "status": "completed"
    },
    "tags": []
   },
   "outputs": [],
   "source": [
    "def show_idx(idx):\n",
    "    return (\n",
    "        pd.DataFrame(df.iloc[idx])\n",
    "        .T\n",
    "        .apply(pd.Series.explode)\n",
    "        .set_index('input_tokens')\n",
    "        [['loss', 'labels', 'predicted_label']]\n",
    "        .iloc[1:-1]\n",
    "        .T\n",
    "    )"
   ]
  },
  {
   "cell_type": "markdown",
   "id": "40889997",
   "metadata": {
    "papermill": {
     "duration": 0.195279,
     "end_time": "2022-04-09T11:12:50.064234",
     "exception": false,
     "start_time": "2022-04-09T11:12:49.868955",
     "status": "completed"
    },
    "tags": []
   },
   "source": [
    "This is an example where multiple ingredients are annotated. This differs from many other examples we saw above where only the first ingredient is annotated."
   ]
  },
  {
   "cell_type": "code",
   "execution_count": 108,
   "id": "028c72b2",
   "metadata": {
    "execution": {
     "iopub.execute_input": "2022-04-09T11:12:50.484640Z",
     "iopub.status.busy": "2022-04-09T11:12:50.484084Z",
     "iopub.status.idle": "2022-04-09T11:12:50.489843Z",
     "shell.execute_reply": "2022-04-09T11:12:50.489342Z",
     "shell.execute_reply.started": "2022-04-09T10:35:14.133871Z"
    },
    "papermill": {
     "duration": 0.229201,
     "end_time": "2022-04-09T11:12:50.489965",
     "exception": false,
     "start_time": "2022-04-09T11:12:50.260764",
     "status": "completed"
    },
    "tags": []
   },
   "outputs": [
    {
     "data": {
      "text/html": [
       "<div>\n",
       "<style scoped>\n",
       "    .dataframe tbody tr th:only-of-type {\n",
       "        vertical-align: middle;\n",
       "    }\n",
       "\n",
       "    .dataframe tbody tr th {\n",
       "        vertical-align: top;\n",
       "    }\n",
       "\n",
       "    .dataframe thead th {\n",
       "        text-align: right;\n",
       "    }\n",
       "</style>\n",
       "<table border=\"1\" class=\"dataframe\">\n",
       "  <thead>\n",
       "    <tr style=\"text-align: right;\">\n",
       "      <th>input_tokens</th>\n",
       "      <th>▁1</th>\n",
       "      <th>▁cup</th>\n",
       "      <th>▁chicken</th>\n",
       "      <th>▁bro</th>\n",
       "      <th>th</th>\n",
       "      <th>▁(</th>\n",
       "      <th>▁or</th>\n",
       "      <th>▁1</th>\n",
       "      <th>▁cup</th>\n",
       "      <th>▁water</th>\n",
       "      <th>▁and</th>\n",
       "      <th>▁1</th>\n",
       "      <th>▁chicken</th>\n",
       "      <th>▁bou</th>\n",
       "      <th>illon</th>\n",
       "      <th>▁cu</th>\n",
       "      <th>be</th>\n",
       "      <th>▁)</th>\n",
       "    </tr>\n",
       "  </thead>\n",
       "  <tbody>\n",
       "    <tr>\n",
       "      <th>loss</th>\n",
       "      <td>0.000085</td>\n",
       "      <td>0.000138</td>\n",
       "      <td>0.001909</td>\n",
       "      <td>0.002343</td>\n",
       "      <td>0.0</td>\n",
       "      <td>0.000501</td>\n",
       "      <td>0.001071</td>\n",
       "      <td>4.176648</td>\n",
       "      <td>4.636656</td>\n",
       "      <td>4.815321</td>\n",
       "      <td>0.00103</td>\n",
       "      <td>3.416889</td>\n",
       "      <td>3.87547</td>\n",
       "      <td>2.389743</td>\n",
       "      <td>0.0</td>\n",
       "      <td>3.243766</td>\n",
       "      <td>0.0</td>\n",
       "      <td>0.000704</td>\n",
       "    </tr>\n",
       "    <tr>\n",
       "      <th>labels</th>\n",
       "      <td>I-QUANTITY</td>\n",
       "      <td>I-UNIT</td>\n",
       "      <td>I-NAME</td>\n",
       "      <td>I-NAME</td>\n",
       "      <td>IGN</td>\n",
       "      <td>O</td>\n",
       "      <td>O</td>\n",
       "      <td>I-QUANTITY</td>\n",
       "      <td>I-UNIT</td>\n",
       "      <td>I-NAME</td>\n",
       "      <td>O</td>\n",
       "      <td>I-QUANTITY</td>\n",
       "      <td>I-NAME</td>\n",
       "      <td>I-NAME</td>\n",
       "      <td>IGN</td>\n",
       "      <td>I-NAME</td>\n",
       "      <td>IGN</td>\n",
       "      <td>O</td>\n",
       "    </tr>\n",
       "    <tr>\n",
       "      <th>predicted_label</th>\n",
       "      <td>I-QUANTITY</td>\n",
       "      <td>I-UNIT</td>\n",
       "      <td>I-NAME</td>\n",
       "      <td>I-NAME</td>\n",
       "      <td>I-NAME</td>\n",
       "      <td>O</td>\n",
       "      <td>O</td>\n",
       "      <td>O</td>\n",
       "      <td>O</td>\n",
       "      <td>O</td>\n",
       "      <td>O</td>\n",
       "      <td>O</td>\n",
       "      <td>O</td>\n",
       "      <td>O</td>\n",
       "      <td>O</td>\n",
       "      <td>O</td>\n",
       "      <td>O</td>\n",
       "      <td>O</td>\n",
       "    </tr>\n",
       "  </tbody>\n",
       "</table>\n",
       "</div>"
      ],
      "text/plain": [
       "input_tokens             ▁1      ▁cup  ▁chicken      ▁bro      th        ▁(  \\\n",
       "loss               0.000085  0.000138  0.001909  0.002343     0.0  0.000501   \n",
       "labels           I-QUANTITY    I-UNIT    I-NAME    I-NAME     IGN         O   \n",
       "predicted_label  I-QUANTITY    I-UNIT    I-NAME    I-NAME  I-NAME         O   \n",
       "\n",
       "input_tokens          ▁or          ▁1      ▁cup    ▁water     ▁and  \\\n",
       "loss             0.001071    4.176648  4.636656  4.815321  0.00103   \n",
       "labels                  O  I-QUANTITY    I-UNIT    I-NAME        O   \n",
       "predicted_label         O           O         O         O        O   \n",
       "\n",
       "input_tokens             ▁1 ▁chicken      ▁bou illon       ▁cu   be        ▁)  \n",
       "loss               3.416889  3.87547  2.389743   0.0  3.243766  0.0  0.000704  \n",
       "labels           I-QUANTITY   I-NAME    I-NAME   IGN    I-NAME  IGN         O  \n",
       "predicted_label           O        O         O     O         O    O         O  "
      ]
     },
     "execution_count": 108,
     "metadata": {},
     "output_type": "execute_result"
    }
   ],
   "source": [
    "show_idx(top_loss_ingredients.index[0])"
   ]
  },
  {
   "cell_type": "markdown",
   "id": "ff3770b0",
   "metadata": {
    "papermill": {
     "duration": 0.196201,
     "end_time": "2022-04-09T11:12:50.888563",
     "exception": false,
     "start_time": "2022-04-09T11:12:50.692362",
     "status": "completed"
    },
    "tags": []
   },
   "source": [
    "This is ambiguous; should both of the quantities be annotated?"
   ]
  },
  {
   "cell_type": "code",
   "execution_count": 109,
   "id": "da7f11f3",
   "metadata": {
    "execution": {
     "iopub.execute_input": "2022-04-09T11:12:51.300060Z",
     "iopub.status.busy": "2022-04-09T11:12:51.299183Z",
     "iopub.status.idle": "2022-04-09T11:12:51.302535Z",
     "shell.execute_reply": "2022-04-09T11:12:51.302962Z",
     "shell.execute_reply.started": "2022-04-09T10:35:25.341476Z"
    },
    "papermill": {
     "duration": 0.218759,
     "end_time": "2022-04-09T11:12:51.303094",
     "exception": false,
     "start_time": "2022-04-09T11:12:51.084335",
     "status": "completed"
    },
    "tags": []
   },
   "outputs": [
    {
     "data": {
      "text/html": [
       "<div>\n",
       "<style scoped>\n",
       "    .dataframe tbody tr th:only-of-type {\n",
       "        vertical-align: middle;\n",
       "    }\n",
       "\n",
       "    .dataframe tbody tr th {\n",
       "        vertical-align: top;\n",
       "    }\n",
       "\n",
       "    .dataframe thead th {\n",
       "        text-align: right;\n",
       "    }\n",
       "</style>\n",
       "<table border=\"1\" class=\"dataframe\">\n",
       "  <thead>\n",
       "    <tr style=\"text-align: right;\">\n",
       "      <th>input_tokens</th>\n",
       "      <th>▁1</th>\n",
       "      <th>▁tea</th>\n",
       "      <th>spo</th>\n",
       "      <th>on</th>\n",
       "      <th>▁/</th>\n",
       "      <th>▁5</th>\n",
       "      <th>▁ml</th>\n",
       "      <th>▁salt</th>\n",
       "    </tr>\n",
       "  </thead>\n",
       "  <tbody>\n",
       "    <tr>\n",
       "      <th>loss</th>\n",
       "      <td>10.751072</td>\n",
       "      <td>9.679757</td>\n",
       "      <td>0.0</td>\n",
       "      <td>0.0</td>\n",
       "      <td>0.001081</td>\n",
       "      <td>2.070652</td>\n",
       "      <td>3.400888</td>\n",
       "      <td>0.009042</td>\n",
       "    </tr>\n",
       "    <tr>\n",
       "      <th>labels</th>\n",
       "      <td>O</td>\n",
       "      <td>O</td>\n",
       "      <td>IGN</td>\n",
       "      <td>IGN</td>\n",
       "      <td>O</td>\n",
       "      <td>I-QUANTITY</td>\n",
       "      <td>I-UNIT</td>\n",
       "      <td>I-NAME</td>\n",
       "    </tr>\n",
       "    <tr>\n",
       "      <th>predicted_label</th>\n",
       "      <td>I-QUANTITY</td>\n",
       "      <td>I-UNIT</td>\n",
       "      <td>I-UNIT</td>\n",
       "      <td>I-UNIT</td>\n",
       "      <td>O</td>\n",
       "      <td>O</td>\n",
       "      <td>O</td>\n",
       "      <td>I-NAME</td>\n",
       "    </tr>\n",
       "  </tbody>\n",
       "</table>\n",
       "</div>"
      ],
      "text/plain": [
       "input_tokens             ▁1      ▁tea     spo      on        ▁/          ▁5  \\\n",
       "loss              10.751072  9.679757     0.0     0.0  0.001081    2.070652   \n",
       "labels                    O         O     IGN     IGN         O  I-QUANTITY   \n",
       "predicted_label  I-QUANTITY    I-UNIT  I-UNIT  I-UNIT         O           O   \n",
       "\n",
       "input_tokens          ▁ml     ▁salt  \n",
       "loss             3.400888  0.009042  \n",
       "labels             I-UNIT    I-NAME  \n",
       "predicted_label         O    I-NAME  "
      ]
     },
     "execution_count": 109,
     "metadata": {},
     "output_type": "execute_result"
    }
   ],
   "source": [
    "show_idx(top_loss_ingredients.index[1])"
   ]
  },
  {
   "cell_type": "markdown",
   "id": "81829daf",
   "metadata": {
    "papermill": {
     "duration": 0.196375,
     "end_time": "2022-04-09T11:12:51.703342",
     "exception": false,
     "start_time": "2022-04-09T11:12:51.506967",
     "status": "completed"
    },
    "tags": []
   },
   "source": [
    "So much is wrong here:\n",
    "\n",
    "* whole is not a unit; it's a kind of milk (this is tricky to annotate, the kind of example that breaks NER!)\n",
    "* 2% is not a state"
   ]
  },
  {
   "cell_type": "code",
   "execution_count": 110,
   "id": "330096c8",
   "metadata": {
    "execution": {
     "iopub.execute_input": "2022-04-09T11:12:52.125317Z",
     "iopub.status.busy": "2022-04-09T11:12:52.124465Z",
     "iopub.status.idle": "2022-04-09T11:12:52.137520Z",
     "shell.execute_reply": "2022-04-09T11:12:52.137992Z",
     "shell.execute_reply.started": "2022-04-09T10:36:25.611226Z"
    },
    "papermill": {
     "duration": 0.221429,
     "end_time": "2022-04-09T11:12:52.138127",
     "exception": false,
     "start_time": "2022-04-09T11:12:51.916698",
     "status": "completed"
    },
    "tags": []
   },
   "outputs": [
    {
     "data": {
      "text/html": [
       "<div>\n",
       "<style scoped>\n",
       "    .dataframe tbody tr th:only-of-type {\n",
       "        vertical-align: middle;\n",
       "    }\n",
       "\n",
       "    .dataframe tbody tr th {\n",
       "        vertical-align: top;\n",
       "    }\n",
       "\n",
       "    .dataframe thead th {\n",
       "        text-align: right;\n",
       "    }\n",
       "</style>\n",
       "<table border=\"1\" class=\"dataframe\">\n",
       "  <thead>\n",
       "    <tr style=\"text-align: right;\">\n",
       "      <th>input_tokens</th>\n",
       "      <th>▁1/2</th>\n",
       "      <th>▁cup</th>\n",
       "      <th>▁whole</th>\n",
       "      <th>▁or</th>\n",
       "      <th>▁2</th>\n",
       "      <th>▁%</th>\n",
       "      <th>▁milk</th>\n",
       "    </tr>\n",
       "  </thead>\n",
       "  <tbody>\n",
       "    <tr>\n",
       "      <th>loss</th>\n",
       "      <td>0.000102</td>\n",
       "      <td>0.000134</td>\n",
       "      <td>5.975614</td>\n",
       "      <td>0.001304</td>\n",
       "      <td>6.81601</td>\n",
       "      <td>7.816472</td>\n",
       "      <td>3.293282</td>\n",
       "    </tr>\n",
       "    <tr>\n",
       "      <th>labels</th>\n",
       "      <td>I-QUANTITY</td>\n",
       "      <td>I-UNIT</td>\n",
       "      <td>I-UNIT</td>\n",
       "      <td>O</td>\n",
       "      <td>I-STATE</td>\n",
       "      <td>I-STATE</td>\n",
       "      <td>I-NAME</td>\n",
       "    </tr>\n",
       "    <tr>\n",
       "      <th>predicted_label</th>\n",
       "      <td>I-QUANTITY</td>\n",
       "      <td>I-UNIT</td>\n",
       "      <td>O</td>\n",
       "      <td>O</td>\n",
       "      <td>O</td>\n",
       "      <td>O</td>\n",
       "      <td>O</td>\n",
       "    </tr>\n",
       "  </tbody>\n",
       "</table>\n",
       "</div>"
      ],
      "text/plain": [
       "input_tokens           ▁1/2      ▁cup    ▁whole       ▁or       ▁2        ▁%  \\\n",
       "loss               0.000102  0.000134  5.975614  0.001304  6.81601  7.816472   \n",
       "labels           I-QUANTITY    I-UNIT    I-UNIT         O  I-STATE   I-STATE   \n",
       "predicted_label  I-QUANTITY    I-UNIT         O         O        O         O   \n",
       "\n",
       "input_tokens        ▁milk  \n",
       "loss             3.293282  \n",
       "labels             I-NAME  \n",
       "predicted_label         O  "
      ]
     },
     "execution_count": 110,
     "metadata": {},
     "output_type": "execute_result"
    }
   ],
   "source": [
    "show_idx(top_loss_ingredients.index[2])"
   ]
  },
  {
   "cell_type": "markdown",
   "id": "7a40f8dc",
   "metadata": {
    "papermill": {
     "duration": 0.197469,
     "end_time": "2022-04-09T11:12:52.534085",
     "exception": false,
     "start_time": "2022-04-09T11:12:52.336616",
     "status": "completed"
    },
    "tags": []
   },
   "source": [
    "The annotation here is right, but the predictions only picks up the first ingredient."
   ]
  },
  {
   "cell_type": "code",
   "execution_count": 111,
   "id": "885ab83c",
   "metadata": {
    "execution": {
     "iopub.execute_input": "2022-04-09T11:12:52.952178Z",
     "iopub.status.busy": "2022-04-09T11:12:52.951263Z",
     "iopub.status.idle": "2022-04-09T11:12:52.986933Z",
     "shell.execute_reply": "2022-04-09T11:12:52.986443Z",
     "shell.execute_reply.started": "2022-04-09T10:37:56.338103Z"
    },
    "papermill": {
     "duration": 0.254518,
     "end_time": "2022-04-09T11:12:52.987056",
     "exception": false,
     "start_time": "2022-04-09T11:12:52.732538",
     "status": "completed"
    },
    "tags": []
   },
   "outputs": [
    {
     "data": {
      "text/html": [
       "<div>\n",
       "<style scoped>\n",
       "    .dataframe tbody tr th:only-of-type {\n",
       "        vertical-align: middle;\n",
       "    }\n",
       "\n",
       "    .dataframe tbody tr th {\n",
       "        vertical-align: top;\n",
       "    }\n",
       "\n",
       "    .dataframe thead th {\n",
       "        text-align: right;\n",
       "    }\n",
       "</style>\n",
       "<table border=\"1\" class=\"dataframe\">\n",
       "  <thead>\n",
       "    <tr style=\"text-align: right;\">\n",
       "      <th>input_tokens</th>\n",
       "      <th>▁4</th>\n",
       "      <th>▁</th>\n",
       "      <th>ounce</th>\n",
       "      <th>s</th>\n",
       "      <th>▁firm</th>\n",
       "      <th>▁to</th>\n",
       "      <th>fu</th>\n",
       "      <th>▁or</th>\n",
       "      <th>▁4</th>\n",
       "      <th>▁</th>\n",
       "      <th>ounce</th>\n",
       "      <th>s</th>\n",
       "      <th>▁to</th>\n",
       "      <th>fu</th>\n",
       "      <th>▁ham</th>\n",
       "      <th>▁</th>\n",
       "      <th>,</th>\n",
       "      <th>▁cut</th>\n",
       "      <th>▁into</th>\n",
       "      <th>▁thi</th>\n",
       "      <th>n</th>\n",
       "      <th>▁strip</th>\n",
       "      <th>s</th>\n",
       "      <th>▁(</th>\n",
       "      <th>▁110</th>\n",
       "      <th>▁g</th>\n",
       "      <th>▁)</th>\n",
       "    </tr>\n",
       "  </thead>\n",
       "  <tbody>\n",
       "    <tr>\n",
       "      <th>loss</th>\n",
       "      <td>0.000099</td>\n",
       "      <td>0.000142</td>\n",
       "      <td>0.0</td>\n",
       "      <td>0.0</td>\n",
       "      <td>0.066008</td>\n",
       "      <td>0.013748</td>\n",
       "      <td>0.0</td>\n",
       "      <td>0.001233</td>\n",
       "      <td>2.510047</td>\n",
       "      <td>3.403034</td>\n",
       "      <td>0.0</td>\n",
       "      <td>0.0</td>\n",
       "      <td>5.153624</td>\n",
       "      <td>0.0</td>\n",
       "      <td>4.591987</td>\n",
       "      <td>0.000414</td>\n",
       "      <td>0.0</td>\n",
       "      <td>0.958356</td>\n",
       "      <td>0.000853</td>\n",
       "      <td>0.001185</td>\n",
       "      <td>0.0</td>\n",
       "      <td>0.003049</td>\n",
       "      <td>0.0</td>\n",
       "      <td>0.000747</td>\n",
       "      <td>2.902087</td>\n",
       "      <td>4.171572</td>\n",
       "      <td>0.000579</td>\n",
       "    </tr>\n",
       "    <tr>\n",
       "      <th>labels</th>\n",
       "      <td>I-QUANTITY</td>\n",
       "      <td>I-UNIT</td>\n",
       "      <td>IGN</td>\n",
       "      <td>IGN</td>\n",
       "      <td>I-NAME</td>\n",
       "      <td>I-NAME</td>\n",
       "      <td>IGN</td>\n",
       "      <td>O</td>\n",
       "      <td>I-QUANTITY</td>\n",
       "      <td>I-UNIT</td>\n",
       "      <td>IGN</td>\n",
       "      <td>IGN</td>\n",
       "      <td>I-NAME</td>\n",
       "      <td>IGN</td>\n",
       "      <td>I-NAME</td>\n",
       "      <td>O</td>\n",
       "      <td>IGN</td>\n",
       "      <td>I-STATE</td>\n",
       "      <td>O</td>\n",
       "      <td>O</td>\n",
       "      <td>IGN</td>\n",
       "      <td>O</td>\n",
       "      <td>IGN</td>\n",
       "      <td>O</td>\n",
       "      <td>I-QUANTITY</td>\n",
       "      <td>I-UNIT</td>\n",
       "      <td>O</td>\n",
       "    </tr>\n",
       "    <tr>\n",
       "      <th>predicted_label</th>\n",
       "      <td>I-QUANTITY</td>\n",
       "      <td>I-UNIT</td>\n",
       "      <td>I-UNIT</td>\n",
       "      <td>I-UNIT</td>\n",
       "      <td>I-NAME</td>\n",
       "      <td>I-NAME</td>\n",
       "      <td>I-NAME</td>\n",
       "      <td>O</td>\n",
       "      <td>O</td>\n",
       "      <td>O</td>\n",
       "      <td>O</td>\n",
       "      <td>O</td>\n",
       "      <td>O</td>\n",
       "      <td>O</td>\n",
       "      <td>O</td>\n",
       "      <td>O</td>\n",
       "      <td>O</td>\n",
       "      <td>O</td>\n",
       "      <td>O</td>\n",
       "      <td>O</td>\n",
       "      <td>O</td>\n",
       "      <td>O</td>\n",
       "      <td>O</td>\n",
       "      <td>O</td>\n",
       "      <td>O</td>\n",
       "      <td>O</td>\n",
       "      <td>O</td>\n",
       "    </tr>\n",
       "  </tbody>\n",
       "</table>\n",
       "</div>"
      ],
      "text/plain": [
       "input_tokens             ▁4         ▁   ounce       s     ▁firm       ▁to  \\\n",
       "loss               0.000099  0.000142     0.0     0.0  0.066008  0.013748   \n",
       "labels           I-QUANTITY    I-UNIT     IGN     IGN    I-NAME    I-NAME   \n",
       "predicted_label  I-QUANTITY    I-UNIT  I-UNIT  I-UNIT    I-NAME    I-NAME   \n",
       "\n",
       "input_tokens         fu       ▁or          ▁4         ▁ ounce    s       ▁to  \\\n",
       "loss                0.0  0.001233    2.510047  3.403034   0.0  0.0  5.153624   \n",
       "labels              IGN         O  I-QUANTITY    I-UNIT   IGN  IGN    I-NAME   \n",
       "predicted_label  I-NAME         O           O         O     O    O         O   \n",
       "\n",
       "input_tokens      fu      ▁ham         ▁    ,      ▁cut     ▁into      ▁thi  \\\n",
       "loss             0.0  4.591987  0.000414  0.0  0.958356  0.000853  0.001185   \n",
       "labels           IGN    I-NAME         O  IGN   I-STATE         O         O   \n",
       "predicted_label    O         O         O    O         O         O         O   \n",
       "\n",
       "input_tokens       n    ▁strip    s        ▁(        ▁110        ▁g        ▁)  \n",
       "loss             0.0  0.003049  0.0  0.000747    2.902087  4.171572  0.000579  \n",
       "labels           IGN         O  IGN         O  I-QUANTITY    I-UNIT         O  \n",
       "predicted_label    O         O    O         O           O         O         O  "
      ]
     },
     "execution_count": 111,
     "metadata": {},
     "output_type": "execute_result"
    }
   ],
   "source": [
    "show_idx(top_loss_ingredients.index[3])"
   ]
  },
  {
   "cell_type": "markdown",
   "id": "23b6869a",
   "metadata": {
    "papermill": {
     "duration": 0.208376,
     "end_time": "2022-04-09T11:12:53.397417",
     "exception": false,
     "start_time": "2022-04-09T11:12:53.189041",
     "status": "completed"
    },
    "tags": []
   },
   "source": [
    "This is an annotation issue; peeled and sliced is a STATE and not a SIZE."
   ]
  },
  {
   "cell_type": "code",
   "execution_count": 112,
   "id": "afec9257",
   "metadata": {
    "execution": {
     "iopub.execute_input": "2022-04-09T11:12:53.803829Z",
     "iopub.status.busy": "2022-04-09T11:12:53.802932Z",
     "iopub.status.idle": "2022-04-09T11:12:53.826661Z",
     "shell.execute_reply": "2022-04-09T11:12:53.826241Z",
     "shell.execute_reply.started": "2022-04-09T10:40:20.147633Z"
    },
    "papermill": {
     "duration": 0.226604,
     "end_time": "2022-04-09T11:12:53.826784",
     "exception": false,
     "start_time": "2022-04-09T11:12:53.600180",
     "status": "completed"
    },
    "tags": []
   },
   "outputs": [
    {
     "data": {
      "text/html": [
       "<div>\n",
       "<style scoped>\n",
       "    .dataframe tbody tr th:only-of-type {\n",
       "        vertical-align: middle;\n",
       "    }\n",
       "\n",
       "    .dataframe tbody tr th {\n",
       "        vertical-align: top;\n",
       "    }\n",
       "\n",
       "    .dataframe thead th {\n",
       "        text-align: right;\n",
       "    }\n",
       "</style>\n",
       "<table border=\"1\" class=\"dataframe\">\n",
       "  <thead>\n",
       "    <tr style=\"text-align: right;\">\n",
       "      <th>input_tokens</th>\n",
       "      <th>▁2</th>\n",
       "      <th>▁l</th>\n",
       "      <th>bs</th>\n",
       "      <th>▁medium</th>\n",
       "      <th>▁po</th>\n",
       "      <th>tato</th>\n",
       "      <th>es</th>\n",
       "      <th>▁</th>\n",
       "      <th>,</th>\n",
       "      <th>▁pe</th>\n",
       "      <th>e</th>\n",
       "      <th>led</th>\n",
       "      <th>▁and</th>\n",
       "      <th>▁sli</th>\n",
       "      <th>ced</th>\n",
       "      <th>▁into</th>\n",
       "      <th>▁1/4</th>\n",
       "      <th>▁in</th>\n",
       "      <th>ch</th>\n",
       "      <th>▁round</th>\n",
       "      <th>s</th>\n",
       "    </tr>\n",
       "  </thead>\n",
       "  <tbody>\n",
       "    <tr>\n",
       "      <th>loss</th>\n",
       "      <td>0.000088</td>\n",
       "      <td>0.000255</td>\n",
       "      <td>0.0</td>\n",
       "      <td>0.001538</td>\n",
       "      <td>0.001343</td>\n",
       "      <td>0.0</td>\n",
       "      <td>0.0</td>\n",
       "      <td>0.000797</td>\n",
       "      <td>0.0</td>\n",
       "      <td>10.765153</td>\n",
       "      <td>0.0</td>\n",
       "      <td>0.0</td>\n",
       "      <td>0.00039</td>\n",
       "      <td>10.031956</td>\n",
       "      <td>0.0</td>\n",
       "      <td>0.000616</td>\n",
       "      <td>0.016454</td>\n",
       "      <td>0.004614</td>\n",
       "      <td>0.0</td>\n",
       "      <td>0.003037</td>\n",
       "      <td>0.0</td>\n",
       "    </tr>\n",
       "    <tr>\n",
       "      <th>labels</th>\n",
       "      <td>I-QUANTITY</td>\n",
       "      <td>I-UNIT</td>\n",
       "      <td>IGN</td>\n",
       "      <td>I-SIZE</td>\n",
       "      <td>I-NAME</td>\n",
       "      <td>IGN</td>\n",
       "      <td>IGN</td>\n",
       "      <td>O</td>\n",
       "      <td>IGN</td>\n",
       "      <td>I-SIZE</td>\n",
       "      <td>IGN</td>\n",
       "      <td>IGN</td>\n",
       "      <td>O</td>\n",
       "      <td>I-SIZE</td>\n",
       "      <td>IGN</td>\n",
       "      <td>O</td>\n",
       "      <td>O</td>\n",
       "      <td>O</td>\n",
       "      <td>IGN</td>\n",
       "      <td>O</td>\n",
       "      <td>IGN</td>\n",
       "    </tr>\n",
       "    <tr>\n",
       "      <th>predicted_label</th>\n",
       "      <td>I-QUANTITY</td>\n",
       "      <td>I-UNIT</td>\n",
       "      <td>I-UNIT</td>\n",
       "      <td>I-SIZE</td>\n",
       "      <td>I-NAME</td>\n",
       "      <td>I-NAME</td>\n",
       "      <td>I-NAME</td>\n",
       "      <td>O</td>\n",
       "      <td>O</td>\n",
       "      <td>I-STATE</td>\n",
       "      <td>I-STATE</td>\n",
       "      <td>I-STATE</td>\n",
       "      <td>O</td>\n",
       "      <td>I-STATE</td>\n",
       "      <td>I-STATE</td>\n",
       "      <td>O</td>\n",
       "      <td>O</td>\n",
       "      <td>O</td>\n",
       "      <td>O</td>\n",
       "      <td>O</td>\n",
       "      <td>O</td>\n",
       "    </tr>\n",
       "  </tbody>\n",
       "</table>\n",
       "</div>"
      ],
      "text/plain": [
       "input_tokens             ▁2        ▁l      bs   ▁medium       ▁po    tato  \\\n",
       "loss               0.000088  0.000255     0.0  0.001538  0.001343     0.0   \n",
       "labels           I-QUANTITY    I-UNIT     IGN    I-SIZE    I-NAME     IGN   \n",
       "predicted_label  I-QUANTITY    I-UNIT  I-UNIT    I-SIZE    I-NAME  I-NAME   \n",
       "\n",
       "input_tokens         es         ▁    ,        ▁pe        e      led     ▁and  \\\n",
       "loss                0.0  0.000797  0.0  10.765153      0.0      0.0  0.00039   \n",
       "labels              IGN         O  IGN     I-SIZE      IGN      IGN        O   \n",
       "predicted_label  I-NAME         O    O    I-STATE  I-STATE  I-STATE        O   \n",
       "\n",
       "input_tokens          ▁sli      ced     ▁into      ▁1/4       ▁in   ch  \\\n",
       "loss             10.031956      0.0  0.000616  0.016454  0.004614  0.0   \n",
       "labels              I-SIZE      IGN         O         O         O  IGN   \n",
       "predicted_label    I-STATE  I-STATE         O         O         O    O   \n",
       "\n",
       "input_tokens       ▁round    s  \n",
       "loss             0.003037  0.0  \n",
       "labels                  O  IGN  \n",
       "predicted_label         O    O  "
      ]
     },
     "execution_count": 112,
     "metadata": {},
     "output_type": "execute_result"
    }
   ],
   "source": [
    "show_idx(top_loss_ingredients.index[4])"
   ]
  },
  {
   "cell_type": "markdown",
   "id": "6945d3a7",
   "metadata": {
    "papermill": {
     "duration": 0.198082,
     "end_time": "2022-04-09T11:12:54.222050",
     "exception": false,
     "start_time": "2022-04-09T11:12:54.023968",
     "status": "completed"
    },
    "tags": []
   },
   "source": [
    "Again the annotatoin is wrong here:\n",
    "\n",
    "* can is not a unit\n",
    "* for some reason only 2 or the 3 alternative ingredients are annotated..."
   ]
  },
  {
   "cell_type": "code",
   "execution_count": 113,
   "id": "ff30797a",
   "metadata": {
    "execution": {
     "iopub.execute_input": "2022-04-09T11:12:54.641019Z",
     "iopub.status.busy": "2022-04-09T11:12:54.640338Z",
     "iopub.status.idle": "2022-04-09T11:12:54.643435Z",
     "shell.execute_reply": "2022-04-09T11:12:54.643839Z",
     "shell.execute_reply.started": "2022-04-09T10:40:23.066119Z"
    },
    "papermill": {
     "duration": 0.224296,
     "end_time": "2022-04-09T11:12:54.643969",
     "exception": false,
     "start_time": "2022-04-09T11:12:54.419673",
     "status": "completed"
    },
    "tags": []
   },
   "outputs": [
    {
     "data": {
      "text/html": [
       "<div>\n",
       "<style scoped>\n",
       "    .dataframe tbody tr th:only-of-type {\n",
       "        vertical-align: middle;\n",
       "    }\n",
       "\n",
       "    .dataframe tbody tr th {\n",
       "        vertical-align: top;\n",
       "    }\n",
       "\n",
       "    .dataframe thead th {\n",
       "        text-align: right;\n",
       "    }\n",
       "</style>\n",
       "<table border=\"1\" class=\"dataframe\">\n",
       "  <thead>\n",
       "    <tr style=\"text-align: right;\">\n",
       "      <th>input_tokens</th>\n",
       "      <th>▁1/4</th>\n",
       "      <th>▁cup</th>\n",
       "      <th>▁sugar</th>\n",
       "      <th>▁</th>\n",
       "      <th>,</th>\n",
       "      <th>▁to</th>\n",
       "      <th>▁taste</th>\n",
       "      <th>▁(</th>\n",
       "      <th>▁can</th>\n",
       "      <th>▁use</th>\n",
       "      <th>▁honey</th>\n",
       "      <th>▁</th>\n",
       "      <th>,</th>\n",
       "      <th>▁a</th>\n",
       "      <th>gave</th>\n",
       "      <th>▁sy</th>\n",
       "      <th>rup</th>\n",
       "      <th>▁</th>\n",
       "      <th>,</th>\n",
       "      <th>▁or</th>\n",
       "      <th>▁ste</th>\n",
       "      <th>via</th>\n",
       "      <th>▁)</th>\n",
       "    </tr>\n",
       "  </thead>\n",
       "  <tbody>\n",
       "    <tr>\n",
       "      <th>loss</th>\n",
       "      <td>0.000095</td>\n",
       "      <td>0.000129</td>\n",
       "      <td>0.000663</td>\n",
       "      <td>0.000652</td>\n",
       "      <td>0.0</td>\n",
       "      <td>0.000506</td>\n",
       "      <td>0.00101</td>\n",
       "      <td>0.000379</td>\n",
       "      <td>7.031023</td>\n",
       "      <td>0.001462</td>\n",
       "      <td>3.311471</td>\n",
       "      <td>0.000616</td>\n",
       "      <td>0.0</td>\n",
       "      <td>3.96994</td>\n",
       "      <td>0.0</td>\n",
       "      <td>3.844073</td>\n",
       "      <td>0.0</td>\n",
       "      <td>0.000735</td>\n",
       "      <td>0.0</td>\n",
       "      <td>0.000977</td>\n",
       "      <td>0.013887</td>\n",
       "      <td>0.0</td>\n",
       "      <td>0.000525</td>\n",
       "    </tr>\n",
       "    <tr>\n",
       "      <th>labels</th>\n",
       "      <td>I-QUANTITY</td>\n",
       "      <td>I-UNIT</td>\n",
       "      <td>I-NAME</td>\n",
       "      <td>O</td>\n",
       "      <td>IGN</td>\n",
       "      <td>O</td>\n",
       "      <td>O</td>\n",
       "      <td>O</td>\n",
       "      <td>I-UNIT</td>\n",
       "      <td>O</td>\n",
       "      <td>I-NAME</td>\n",
       "      <td>O</td>\n",
       "      <td>IGN</td>\n",
       "      <td>I-NAME</td>\n",
       "      <td>IGN</td>\n",
       "      <td>I-NAME</td>\n",
       "      <td>IGN</td>\n",
       "      <td>O</td>\n",
       "      <td>IGN</td>\n",
       "      <td>O</td>\n",
       "      <td>O</td>\n",
       "      <td>IGN</td>\n",
       "      <td>O</td>\n",
       "    </tr>\n",
       "    <tr>\n",
       "      <th>predicted_label</th>\n",
       "      <td>I-QUANTITY</td>\n",
       "      <td>I-UNIT</td>\n",
       "      <td>I-NAME</td>\n",
       "      <td>O</td>\n",
       "      <td>O</td>\n",
       "      <td>O</td>\n",
       "      <td>O</td>\n",
       "      <td>O</td>\n",
       "      <td>O</td>\n",
       "      <td>O</td>\n",
       "      <td>O</td>\n",
       "      <td>O</td>\n",
       "      <td>O</td>\n",
       "      <td>O</td>\n",
       "      <td>O</td>\n",
       "      <td>O</td>\n",
       "      <td>O</td>\n",
       "      <td>O</td>\n",
       "      <td>O</td>\n",
       "      <td>O</td>\n",
       "      <td>O</td>\n",
       "      <td>O</td>\n",
       "      <td>O</td>\n",
       "    </tr>\n",
       "  </tbody>\n",
       "</table>\n",
       "</div>"
      ],
      "text/plain": [
       "input_tokens           ▁1/4      ▁cup    ▁sugar         ▁    ,       ▁to  \\\n",
       "loss               0.000095  0.000129  0.000663  0.000652  0.0  0.000506   \n",
       "labels           I-QUANTITY    I-UNIT    I-NAME         O  IGN         O   \n",
       "predicted_label  I-QUANTITY    I-UNIT    I-NAME         O    O         O   \n",
       "\n",
       "input_tokens      ▁taste        ▁(      ▁can      ▁use    ▁honey         ▁  \\\n",
       "loss             0.00101  0.000379  7.031023  0.001462  3.311471  0.000616   \n",
       "labels                 O         O    I-UNIT         O    I-NAME         O   \n",
       "predicted_label        O         O         O         O         O         O   \n",
       "\n",
       "input_tokens       ,       ▁a gave       ▁sy  rup         ▁    ,       ▁or  \\\n",
       "loss             0.0  3.96994  0.0  3.844073  0.0  0.000735  0.0  0.000977   \n",
       "labels           IGN   I-NAME  IGN    I-NAME  IGN         O  IGN         O   \n",
       "predicted_label    O        O    O         O    O         O    O         O   \n",
       "\n",
       "input_tokens         ▁ste  via        ▁)  \n",
       "loss             0.013887  0.0  0.000525  \n",
       "labels                  O  IGN         O  \n",
       "predicted_label         O    O         O  "
      ]
     },
     "execution_count": 113,
     "metadata": {},
     "output_type": "execute_result"
    }
   ],
   "source": [
    "show_idx(top_loss_ingredients.index[5])"
   ]
  },
  {
   "cell_type": "markdown",
   "id": "322f3c60",
   "metadata": {
    "papermill": {
     "duration": 0.200756,
     "end_time": "2022-04-09T11:12:55.041348",
     "exception": false,
     "start_time": "2022-04-09T11:12:54.840592",
     "status": "completed"
    },
    "tags": []
   },
   "source": [
    "# Zero-shot Cross language transfer"
   ]
  },
  {
   "cell_type": "markdown",
   "id": "dddf5e1b",
   "metadata": {
    "papermill": {
     "duration": 0.198104,
     "end_time": "2022-04-09T11:12:55.437495",
     "exception": false,
     "start_time": "2022-04-09T11:12:55.239391",
     "status": "completed"
    },
    "tags": []
   },
   "source": [
    "Let's see if it's learned anything about different languages\n",
    "\n",
    "In English:"
   ]
  },
  {
   "cell_type": "code",
   "execution_count": 114,
   "id": "4a1fc0b3",
   "metadata": {
    "execution": {
     "iopub.execute_input": "2022-04-09T11:12:55.832294Z",
     "iopub.status.busy": "2022-04-09T11:12:55.831482Z",
     "iopub.status.idle": "2022-04-09T11:12:55.853852Z",
     "shell.execute_reply": "2022-04-09T11:12:55.853359Z",
     "shell.execute_reply.started": "2022-04-09T09:46:00.832376Z"
    },
    "papermill": {
     "duration": 0.221349,
     "end_time": "2022-04-09T11:12:55.853968",
     "exception": false,
     "start_time": "2022-04-09T11:12:55.632619",
     "status": "completed"
    },
    "tags": []
   },
   "outputs": [
    {
     "data": {
      "text/html": [
       "<div>\n",
       "<style scoped>\n",
       "    .dataframe tbody tr th:only-of-type {\n",
       "        vertical-align: middle;\n",
       "    }\n",
       "\n",
       "    .dataframe tbody tr th {\n",
       "        vertical-align: top;\n",
       "    }\n",
       "\n",
       "    .dataframe thead th {\n",
       "        text-align: right;\n",
       "    }\n",
       "</style>\n",
       "<table border=\"1\" class=\"dataframe\">\n",
       "  <thead>\n",
       "    <tr style=\"text-align: right;\">\n",
       "      <th></th>\n",
       "      <th>1</th>\n",
       "      <th>2</th>\n",
       "      <th>3</th>\n",
       "      <th>4</th>\n",
       "      <th>5</th>\n",
       "      <th>6</th>\n",
       "      <th>7</th>\n",
       "    </tr>\n",
       "  </thead>\n",
       "  <tbody>\n",
       "    <tr>\n",
       "      <th>token</th>\n",
       "      <td>▁Fresh</td>\n",
       "      <td>▁por</td>\n",
       "      <td>k</td>\n",
       "      <td>▁fat</td>\n",
       "      <td>▁-</td>\n",
       "      <td>▁50</td>\n",
       "      <td>▁g</td>\n",
       "    </tr>\n",
       "    <tr>\n",
       "      <th>pred</th>\n",
       "      <td>I-DF</td>\n",
       "      <td>I-NAME</td>\n",
       "      <td>I-NAME</td>\n",
       "      <td>I-NAME</td>\n",
       "      <td>O</td>\n",
       "      <td>O</td>\n",
       "      <td>I-UNIT</td>\n",
       "    </tr>\n",
       "  </tbody>\n",
       "</table>\n",
       "</div>"
      ],
      "text/plain": [
       "            1       2       3       4   5    6       7\n",
       "token  ▁Fresh    ▁por       k    ▁fat  ▁-  ▁50      ▁g\n",
       "pred     I-DF  I-NAME  I-NAME  I-NAME   O    O  I-UNIT"
      ]
     },
     "execution_count": 114,
     "metadata": {},
     "output_type": "execute_result"
    }
   ],
   "source": [
    "show_preds(\"Fresh pork fat - 50 g\")"
   ]
  },
  {
   "cell_type": "markdown",
   "id": "56e66342",
   "metadata": {
    "execution": {
     "iopub.execute_input": "2022-04-08T13:14:54.246571Z",
     "iopub.status.busy": "2022-04-08T13:14:54.24619Z",
     "iopub.status.idle": "2022-04-08T13:14:54.282411Z",
     "shell.execute_reply": "2022-04-08T13:14:54.281398Z",
     "shell.execute_reply.started": "2022-04-08T13:14:54.246503Z"
    },
    "papermill": {
     "duration": 0.195454,
     "end_time": "2022-04-09T11:12:56.248796",
     "exception": false,
     "start_time": "2022-04-09T11:12:56.053342",
     "status": "completed"
    },
    "tags": []
   },
   "source": [
    "In Russian:\n",
    "\n",
    "```\n",
    "Сало   свиное свежее - 50         г\n",
    "I-NAME I-NAME I-DF O  I-QUANTITY I-UNIT\n",
    "```\n",
    "\n",
    "This is incredible!"
   ]
  },
  {
   "cell_type": "code",
   "execution_count": 115,
   "id": "68fcaeb8",
   "metadata": {
    "execution": {
     "iopub.execute_input": "2022-04-09T11:12:56.667531Z",
     "iopub.status.busy": "2022-04-09T11:12:56.666715Z",
     "iopub.status.idle": "2022-04-09T11:12:56.689789Z",
     "shell.execute_reply": "2022-04-09T11:12:56.690196Z",
     "shell.execute_reply.started": "2022-04-09T09:46:00.869584Z"
    },
    "papermill": {
     "duration": 0.232801,
     "end_time": "2022-04-09T11:12:56.690328",
     "exception": false,
     "start_time": "2022-04-09T11:12:56.457527",
     "status": "completed"
    },
    "tags": []
   },
   "outputs": [
    {
     "data": {
      "text/html": [
       "<div>\n",
       "<style scoped>\n",
       "    .dataframe tbody tr th:only-of-type {\n",
       "        vertical-align: middle;\n",
       "    }\n",
       "\n",
       "    .dataframe tbody tr th {\n",
       "        vertical-align: top;\n",
       "    }\n",
       "\n",
       "    .dataframe thead th {\n",
       "        text-align: right;\n",
       "    }\n",
       "</style>\n",
       "<table border=\"1\" class=\"dataframe\">\n",
       "  <thead>\n",
       "    <tr style=\"text-align: right;\">\n",
       "      <th></th>\n",
       "      <th>1</th>\n",
       "      <th>2</th>\n",
       "      <th>3</th>\n",
       "      <th>4</th>\n",
       "      <th>5</th>\n",
       "      <th>6</th>\n",
       "      <th>7</th>\n",
       "      <th>8</th>\n",
       "      <th>9</th>\n",
       "    </tr>\n",
       "  </thead>\n",
       "  <tbody>\n",
       "    <tr>\n",
       "      <th>token</th>\n",
       "      <td>▁Са</td>\n",
       "      <td>ло</td>\n",
       "      <td>▁сви</td>\n",
       "      <td>ное</td>\n",
       "      <td>▁свеж</td>\n",
       "      <td>ее</td>\n",
       "      <td>▁-</td>\n",
       "      <td>▁50</td>\n",
       "      <td>▁г</td>\n",
       "    </tr>\n",
       "    <tr>\n",
       "      <th>pred</th>\n",
       "      <td>I-NAME</td>\n",
       "      <td>I-NAME</td>\n",
       "      <td>I-NAME</td>\n",
       "      <td>I-NAME</td>\n",
       "      <td>I-DF</td>\n",
       "      <td>O</td>\n",
       "      <td>O</td>\n",
       "      <td>O</td>\n",
       "      <td>I-UNIT</td>\n",
       "    </tr>\n",
       "  </tbody>\n",
       "</table>\n",
       "</div>"
      ],
      "text/plain": [
       "            1       2       3       4      5   6   7    8       9\n",
       "token     ▁Са      ло    ▁сви     ное  ▁свеж  ее  ▁-  ▁50      ▁г\n",
       "pred   I-NAME  I-NAME  I-NAME  I-NAME   I-DF   O   O    O  I-UNIT"
      ]
     },
     "execution_count": 115,
     "metadata": {},
     "output_type": "execute_result"
    }
   ],
   "source": [
    "show_preds(\"Сало свиное свежее - 50 г\")"
   ]
  },
  {
   "cell_type": "markdown",
   "id": "22a53d8d",
   "metadata": {
    "papermill": {
     "duration": 0.381362,
     "end_time": "2022-04-09T11:12:57.280245",
     "exception": false,
     "start_time": "2022-04-09T11:12:56.898883",
     "status": "completed"
    },
    "tags": []
   },
   "source": [
    "In English"
   ]
  },
  {
   "cell_type": "code",
   "execution_count": 116,
   "id": "09ba9d27",
   "metadata": {
    "execution": {
     "iopub.execute_input": "2022-04-09T11:12:57.774374Z",
     "iopub.status.busy": "2022-04-09T11:12:57.773565Z",
     "iopub.status.idle": "2022-04-09T11:12:57.795642Z",
     "shell.execute_reply": "2022-04-09T11:12:57.796120Z",
     "shell.execute_reply.started": "2022-04-09T09:46:00.906984Z"
    },
    "papermill": {
     "duration": 0.223206,
     "end_time": "2022-04-09T11:12:57.796251",
     "exception": false,
     "start_time": "2022-04-09T11:12:57.573045",
     "status": "completed"
    },
    "tags": []
   },
   "outputs": [
    {
     "data": {
      "text/html": [
       "<div>\n",
       "<style scoped>\n",
       "    .dataframe tbody tr th:only-of-type {\n",
       "        vertical-align: middle;\n",
       "    }\n",
       "\n",
       "    .dataframe tbody tr th {\n",
       "        vertical-align: top;\n",
       "    }\n",
       "\n",
       "    .dataframe thead th {\n",
       "        text-align: right;\n",
       "    }\n",
       "</style>\n",
       "<table border=\"1\" class=\"dataframe\">\n",
       "  <thead>\n",
       "    <tr style=\"text-align: right;\">\n",
       "      <th></th>\n",
       "      <th>1</th>\n",
       "      <th>2</th>\n",
       "      <th>3</th>\n",
       "      <th>4</th>\n",
       "      <th>5</th>\n",
       "      <th>6</th>\n",
       "      <th>7</th>\n",
       "    </tr>\n",
       "  </thead>\n",
       "  <tbody>\n",
       "    <tr>\n",
       "      <th>token</th>\n",
       "      <td>▁1</td>\n",
       "      <td>▁pack</td>\n",
       "      <td>et</td>\n",
       "      <td>▁of</td>\n",
       "      <td>▁f</td>\n",
       "      <td>rozen</td>\n",
       "      <td>▁corn</td>\n",
       "    </tr>\n",
       "    <tr>\n",
       "      <th>pred</th>\n",
       "      <td>I-QUANTITY</td>\n",
       "      <td>I-UNIT</td>\n",
       "      <td>I-UNIT</td>\n",
       "      <td>O</td>\n",
       "      <td>I-TEMP</td>\n",
       "      <td>I-TEMP</td>\n",
       "      <td>I-NAME</td>\n",
       "    </tr>\n",
       "  </tbody>\n",
       "</table>\n",
       "</div>"
      ],
      "text/plain": [
       "                1       2       3    4       5       6       7\n",
       "token          ▁1   ▁pack      et  ▁of      ▁f   rozen   ▁corn\n",
       "pred   I-QUANTITY  I-UNIT  I-UNIT    O  I-TEMP  I-TEMP  I-NAME"
      ]
     },
     "execution_count": 116,
     "metadata": {},
     "output_type": "execute_result"
    }
   ],
   "source": [
    "show_preds(\"1 packet of frozen corn \")"
   ]
  },
  {
   "cell_type": "markdown",
   "id": "d6e90de3",
   "metadata": {
    "execution": {
     "iopub.status.busy": "2022-04-08T12:34:47.117922Z",
     "iopub.status.idle": "2022-04-08T12:34:47.11872Z",
     "shell.execute_reply": "2022-04-08T12:34:47.118427Z",
     "shell.execute_reply.started": "2022-04-08T12:34:47.11839Z"
    },
    "papermill": {
     "duration": 0.202909,
     "end_time": "2022-04-09T11:12:58.200796",
     "exception": false,
     "start_time": "2022-04-09T11:12:57.997887",
     "status": "completed"
    },
    "tags": []
   },
   "source": [
    "In Hungarian, it gets it right.\n",
    "\n",
    "```\n",
    "1            csomag fagyasztott tejes kukorica\n",
    "I-QUANTITY   I-UNIT I-TEMP      I-NAME I-NAME\n",
    "```"
   ]
  },
  {
   "cell_type": "code",
   "execution_count": 117,
   "id": "4fa8dda1",
   "metadata": {
    "execution": {
     "iopub.execute_input": "2022-04-09T11:12:58.614918Z",
     "iopub.status.busy": "2022-04-09T11:12:58.614058Z",
     "iopub.status.idle": "2022-04-09T11:12:58.636713Z",
     "shell.execute_reply": "2022-04-09T11:12:58.637196Z",
     "shell.execute_reply.started": "2022-04-09T09:46:00.944826Z"
    },
    "papermill": {
     "duration": 0.23729,
     "end_time": "2022-04-09T11:12:58.637345",
     "exception": false,
     "start_time": "2022-04-09T11:12:58.400055",
     "status": "completed"
    },
    "tags": []
   },
   "outputs": [
    {
     "data": {
      "text/html": [
       "<div>\n",
       "<style scoped>\n",
       "    .dataframe tbody tr th:only-of-type {\n",
       "        vertical-align: middle;\n",
       "    }\n",
       "\n",
       "    .dataframe tbody tr th {\n",
       "        vertical-align: top;\n",
       "    }\n",
       "\n",
       "    .dataframe thead th {\n",
       "        text-align: right;\n",
       "    }\n",
       "</style>\n",
       "<table border=\"1\" class=\"dataframe\">\n",
       "  <thead>\n",
       "    <tr style=\"text-align: right;\">\n",
       "      <th></th>\n",
       "      <th>1</th>\n",
       "      <th>2</th>\n",
       "      <th>3</th>\n",
       "      <th>4</th>\n",
       "      <th>5</th>\n",
       "      <th>6</th>\n",
       "      <th>7</th>\n",
       "    </tr>\n",
       "  </thead>\n",
       "  <tbody>\n",
       "    <tr>\n",
       "      <th>token</th>\n",
       "      <td>▁1</td>\n",
       "      <td>▁csomag</td>\n",
       "      <td>▁fag</td>\n",
       "      <td>ya</td>\n",
       "      <td>sztott</td>\n",
       "      <td>▁kuko</td>\n",
       "      <td>rica</td>\n",
       "    </tr>\n",
       "    <tr>\n",
       "      <th>pred</th>\n",
       "      <td>I-QUANTITY</td>\n",
       "      <td>I-UNIT</td>\n",
       "      <td>I-STATE</td>\n",
       "      <td>I-STATE</td>\n",
       "      <td>I-STATE</td>\n",
       "      <td>I-NAME</td>\n",
       "      <td>I-NAME</td>\n",
       "    </tr>\n",
       "  </tbody>\n",
       "</table>\n",
       "</div>"
      ],
      "text/plain": [
       "                1        2        3        4        5       6       7\n",
       "token          ▁1  ▁csomag     ▁fag       ya   sztott   ▁kuko    rica\n",
       "pred   I-QUANTITY   I-UNIT  I-STATE  I-STATE  I-STATE  I-NAME  I-NAME"
      ]
     },
     "execution_count": 117,
     "metadata": {},
     "output_type": "execute_result"
    }
   ],
   "source": [
    "show_preds(\"1 csomag fagyasztott kukorica\")"
   ]
  },
  {
   "cell_type": "markdown",
   "id": "f41472a3",
   "metadata": {
    "papermill": {
     "duration": 0.208944,
     "end_time": "2022-04-09T11:12:59.046406",
     "exception": false,
     "start_time": "2022-04-09T11:12:58.837462",
     "status": "completed"
    },
    "tags": []
   },
   "source": [
    "In English:"
   ]
  },
  {
   "cell_type": "code",
   "execution_count": 118,
   "id": "8c0d8c35",
   "metadata": {
    "execution": {
     "iopub.execute_input": "2022-04-09T11:12:59.463928Z",
     "iopub.status.busy": "2022-04-09T11:12:59.463125Z",
     "iopub.status.idle": "2022-04-09T11:12:59.483835Z",
     "shell.execute_reply": "2022-04-09T11:12:59.483300Z",
     "shell.execute_reply.started": "2022-04-09T09:46:00.980303Z"
    },
    "papermill": {
     "duration": 0.22919,
     "end_time": "2022-04-09T11:12:59.483948",
     "exception": false,
     "start_time": "2022-04-09T11:12:59.254758",
     "status": "completed"
    },
    "tags": []
   },
   "outputs": [
    {
     "data": {
      "text/html": [
       "<div>\n",
       "<style scoped>\n",
       "    .dataframe tbody tr th:only-of-type {\n",
       "        vertical-align: middle;\n",
       "    }\n",
       "\n",
       "    .dataframe tbody tr th {\n",
       "        vertical-align: top;\n",
       "    }\n",
       "\n",
       "    .dataframe thead th {\n",
       "        text-align: right;\n",
       "    }\n",
       "</style>\n",
       "<table border=\"1\" class=\"dataframe\">\n",
       "  <thead>\n",
       "    <tr style=\"text-align: right;\">\n",
       "      <th></th>\n",
       "      <th>1</th>\n",
       "      <th>2</th>\n",
       "      <th>3</th>\n",
       "      <th>4</th>\n",
       "      <th>5</th>\n",
       "    </tr>\n",
       "  </thead>\n",
       "  <tbody>\n",
       "    <tr>\n",
       "      <th>token</th>\n",
       "      <td>▁50</td>\n",
       "      <td>▁kg</td>\n",
       "      <td>▁can</td>\n",
       "      <td>ned</td>\n",
       "      <td>▁corn</td>\n",
       "    </tr>\n",
       "    <tr>\n",
       "      <th>pred</th>\n",
       "      <td>I-QUANTITY</td>\n",
       "      <td>I-UNIT</td>\n",
       "      <td>I-STATE</td>\n",
       "      <td>I-STATE</td>\n",
       "      <td>I-NAME</td>\n",
       "    </tr>\n",
       "  </tbody>\n",
       "</table>\n",
       "</div>"
      ],
      "text/plain": [
       "                1       2        3        4       5\n",
       "token         ▁50     ▁kg     ▁can      ned   ▁corn\n",
       "pred   I-QUANTITY  I-UNIT  I-STATE  I-STATE  I-NAME"
      ]
     },
     "execution_count": 118,
     "metadata": {},
     "output_type": "execute_result"
    }
   ],
   "source": [
    "show_preds(\"50 kg canned corn\")"
   ]
  },
  {
   "cell_type": "markdown",
   "id": "36b7d811",
   "metadata": {
    "execution": {
     "iopub.status.busy": "2022-04-08T12:34:47.111077Z",
     "iopub.status.idle": "2022-04-08T12:34:47.111879Z",
     "shell.execute_reply": "2022-04-08T12:34:47.111573Z",
     "shell.execute_reply.started": "2022-04-08T12:34:47.111536Z"
    },
    "papermill": {
     "duration": 0.200447,
     "end_time": "2022-04-09T11:12:59.885984",
     "exception": false,
     "start_time": "2022-04-09T11:12:59.685537",
     "status": "completed"
    },
    "tags": []
   },
   "source": [
    "In Hungarian; it can't pick up the state (konzerv)\n",
    "\n",
    "```\n",
    "50              dkg        kukorica konzerv\n",
    "I-QUANTITY      I-UNIT     I-NAME   I-STATE\n",
    "```"
   ]
  },
  {
   "cell_type": "code",
   "execution_count": 119,
   "id": "b7fbdf78",
   "metadata": {
    "execution": {
     "iopub.execute_input": "2022-04-09T11:13:00.291139Z",
     "iopub.status.busy": "2022-04-09T11:13:00.290334Z",
     "iopub.status.idle": "2022-04-09T11:13:00.311486Z",
     "shell.execute_reply": "2022-04-09T11:13:00.311057Z",
     "shell.execute_reply.started": "2022-04-09T09:46:01.015557Z"
    },
    "papermill": {
     "duration": 0.224476,
     "end_time": "2022-04-09T11:13:00.311594",
     "exception": false,
     "start_time": "2022-04-09T11:13:00.087118",
     "status": "completed"
    },
    "tags": []
   },
   "outputs": [
    {
     "data": {
      "text/html": [
       "<div>\n",
       "<style scoped>\n",
       "    .dataframe tbody tr th:only-of-type {\n",
       "        vertical-align: middle;\n",
       "    }\n",
       "\n",
       "    .dataframe tbody tr th {\n",
       "        vertical-align: top;\n",
       "    }\n",
       "\n",
       "    .dataframe thead th {\n",
       "        text-align: right;\n",
       "    }\n",
       "</style>\n",
       "<table border=\"1\" class=\"dataframe\">\n",
       "  <thead>\n",
       "    <tr style=\"text-align: right;\">\n",
       "      <th></th>\n",
       "      <th>1</th>\n",
       "      <th>2</th>\n",
       "      <th>3</th>\n",
       "      <th>4</th>\n",
       "      <th>5</th>\n",
       "      <th>6</th>\n",
       "    </tr>\n",
       "  </thead>\n",
       "  <tbody>\n",
       "    <tr>\n",
       "      <th>token</th>\n",
       "      <td>▁50</td>\n",
       "      <td>▁d</td>\n",
       "      <td>kg</td>\n",
       "      <td>▁kuko</td>\n",
       "      <td>rica</td>\n",
       "      <td>▁konzerv</td>\n",
       "    </tr>\n",
       "    <tr>\n",
       "      <th>pred</th>\n",
       "      <td>I-QUANTITY</td>\n",
       "      <td>I-UNIT</td>\n",
       "      <td>I-UNIT</td>\n",
       "      <td>I-NAME</td>\n",
       "      <td>I-NAME</td>\n",
       "      <td>I-NAME</td>\n",
       "    </tr>\n",
       "  </tbody>\n",
       "</table>\n",
       "</div>"
      ],
      "text/plain": [
       "                1       2       3       4       5         6\n",
       "token         ▁50      ▁d      kg   ▁kuko    rica  ▁konzerv\n",
       "pred   I-QUANTITY  I-UNIT  I-UNIT  I-NAME  I-NAME    I-NAME"
      ]
     },
     "execution_count": 119,
     "metadata": {},
     "output_type": "execute_result"
    }
   ],
   "source": [
    "show_preds(\"50 dkg kukorica konzerv\")"
   ]
  },
  {
   "cell_type": "markdown",
   "id": "9a11d736",
   "metadata": {
    "papermill": {
     "duration": 0.20944,
     "end_time": "2022-04-09T11:13:00.722461",
     "exception": false,
     "start_time": "2022-04-09T11:13:00.513021",
     "status": "completed"
    },
    "tags": []
   },
   "source": [
    "In English:"
   ]
  },
  {
   "cell_type": "code",
   "execution_count": 120,
   "id": "c12ff8c2",
   "metadata": {
    "execution": {
     "iopub.execute_input": "2022-04-09T11:13:01.144457Z",
     "iopub.status.busy": "2022-04-09T11:13:01.143584Z",
     "iopub.status.idle": "2022-04-09T11:13:01.163178Z",
     "shell.execute_reply": "2022-04-09T11:13:01.162742Z",
     "shell.execute_reply.started": "2022-04-09T09:46:01.049905Z"
    },
    "papermill": {
     "duration": 0.235359,
     "end_time": "2022-04-09T11:13:01.163289",
     "exception": false,
     "start_time": "2022-04-09T11:13:00.927930",
     "status": "completed"
    },
    "tags": []
   },
   "outputs": [
    {
     "data": {
      "text/html": [
       "<div>\n",
       "<style scoped>\n",
       "    .dataframe tbody tr th:only-of-type {\n",
       "        vertical-align: middle;\n",
       "    }\n",
       "\n",
       "    .dataframe tbody tr th {\n",
       "        vertical-align: top;\n",
       "    }\n",
       "\n",
       "    .dataframe thead th {\n",
       "        text-align: right;\n",
       "    }\n",
       "</style>\n",
       "<table border=\"1\" class=\"dataframe\">\n",
       "  <thead>\n",
       "    <tr style=\"text-align: right;\">\n",
       "      <th></th>\n",
       "      <th>1</th>\n",
       "      <th>2</th>\n",
       "      <th>3</th>\n",
       "    </tr>\n",
       "  </thead>\n",
       "  <tbody>\n",
       "    <tr>\n",
       "      <th>token</th>\n",
       "      <td>▁ground</td>\n",
       "      <td>▁white</td>\n",
       "      <td>▁pepper</td>\n",
       "    </tr>\n",
       "    <tr>\n",
       "      <th>pred</th>\n",
       "      <td>I-STATE</td>\n",
       "      <td>I-NAME</td>\n",
       "      <td>I-NAME</td>\n",
       "    </tr>\n",
       "  </tbody>\n",
       "</table>\n",
       "</div>"
      ],
      "text/plain": [
       "             1       2        3\n",
       "token  ▁ground  ▁white  ▁pepper\n",
       "pred   I-STATE  I-NAME   I-NAME"
      ]
     },
     "execution_count": 120,
     "metadata": {},
     "output_type": "execute_result"
    }
   ],
   "source": [
    "show_preds(\"ground white pepper\")"
   ]
  },
  {
   "cell_type": "markdown",
   "id": "2e81852a",
   "metadata": {
    "execution": {
     "iopub.execute_input": "2022-04-08T13:18:13.182009Z",
     "iopub.status.busy": "2022-04-08T13:18:13.181671Z",
     "iopub.status.idle": "2022-04-08T13:18:13.189439Z",
     "shell.execute_reply": "2022-04-08T13:18:13.187839Z",
     "shell.execute_reply.started": "2022-04-08T13:18:13.181976Z"
    },
    "papermill": {
     "duration": 0.205542,
     "end_time": "2022-04-09T11:13:01.573931",
     "exception": false,
     "start_time": "2022-04-09T11:13:01.368389",
     "status": "completed"
    },
    "tags": []
   },
   "source": [
    "In Hungarian it gets it right"
   ]
  },
  {
   "cell_type": "code",
   "execution_count": 121,
   "id": "4cdd7ced",
   "metadata": {
    "execution": {
     "iopub.execute_input": "2022-04-09T11:13:01.984380Z",
     "iopub.status.busy": "2022-04-09T11:13:01.983543Z",
     "iopub.status.idle": "2022-04-09T11:13:02.005003Z",
     "shell.execute_reply": "2022-04-09T11:13:02.004562Z",
     "shell.execute_reply.started": "2022-04-09T09:46:01.082099Z"
    },
    "papermill": {
     "duration": 0.226045,
     "end_time": "2022-04-09T11:13:02.005120",
     "exception": false,
     "start_time": "2022-04-09T11:13:01.779075",
     "status": "completed"
    },
    "tags": []
   },
   "outputs": [
    {
     "data": {
      "text/html": [
       "<div>\n",
       "<style scoped>\n",
       "    .dataframe tbody tr th:only-of-type {\n",
       "        vertical-align: middle;\n",
       "    }\n",
       "\n",
       "    .dataframe tbody tr th {\n",
       "        vertical-align: top;\n",
       "    }\n",
       "\n",
       "    .dataframe thead th {\n",
       "        text-align: right;\n",
       "    }\n",
       "</style>\n",
       "<table border=\"1\" class=\"dataframe\">\n",
       "  <thead>\n",
       "    <tr style=\"text-align: right;\">\n",
       "      <th></th>\n",
       "      <th>1</th>\n",
       "      <th>2</th>\n",
       "      <th>3</th>\n",
       "      <th>4</th>\n",
       "      <th>5</th>\n",
       "      <th>6</th>\n",
       "    </tr>\n",
       "  </thead>\n",
       "  <tbody>\n",
       "    <tr>\n",
       "      <th>token</th>\n",
       "      <td>▁őr</td>\n",
       "      <td>öl</td>\n",
       "      <td>t</td>\n",
       "      <td>▁fehér</td>\n",
       "      <td>▁bor</td>\n",
       "      <td>s</td>\n",
       "    </tr>\n",
       "    <tr>\n",
       "      <th>pred</th>\n",
       "      <td>I-STATE</td>\n",
       "      <td>I-STATE</td>\n",
       "      <td>I-STATE</td>\n",
       "      <td>I-NAME</td>\n",
       "      <td>I-NAME</td>\n",
       "      <td>I-NAME</td>\n",
       "    </tr>\n",
       "  </tbody>\n",
       "</table>\n",
       "</div>"
      ],
      "text/plain": [
       "             1        2        3       4       5       6\n",
       "token      ▁őr       öl        t  ▁fehér    ▁bor       s\n",
       "pred   I-STATE  I-STATE  I-STATE  I-NAME  I-NAME  I-NAME"
      ]
     },
     "execution_count": 121,
     "metadata": {},
     "output_type": "execute_result"
    }
   ],
   "source": [
    "show_preds(\"őrölt fehér bors\")"
   ]
  },
  {
   "cell_type": "markdown",
   "id": "fa783939",
   "metadata": {
    "papermill": {
     "duration": 0.201947,
     "end_time": "2022-04-09T11:13:02.406652",
     "exception": false,
     "start_time": "2022-04-09T11:13:02.204705",
     "status": "completed"
    },
    "tags": []
   },
   "source": [
    "French is particularly easy since there is so much shared vocabulary"
   ]
  },
  {
   "cell_type": "code",
   "execution_count": 122,
   "id": "5fe16260",
   "metadata": {
    "execution": {
     "iopub.execute_input": "2022-04-09T11:13:02.837595Z",
     "iopub.status.busy": "2022-04-09T11:13:02.836746Z",
     "iopub.status.idle": "2022-04-09T11:13:02.858234Z",
     "shell.execute_reply": "2022-04-09T11:13:02.858683Z",
     "shell.execute_reply.started": "2022-04-09T10:59:28.495066Z"
    },
    "papermill": {
     "duration": 0.240397,
     "end_time": "2022-04-09T11:13:02.858835",
     "exception": false,
     "start_time": "2022-04-09T11:13:02.618438",
     "status": "completed"
    },
    "tags": []
   },
   "outputs": [
    {
     "data": {
      "text/html": [
       "<div>\n",
       "<style scoped>\n",
       "    .dataframe tbody tr th:only-of-type {\n",
       "        vertical-align: middle;\n",
       "    }\n",
       "\n",
       "    .dataframe tbody tr th {\n",
       "        vertical-align: top;\n",
       "    }\n",
       "\n",
       "    .dataframe thead th {\n",
       "        text-align: right;\n",
       "    }\n",
       "</style>\n",
       "<table border=\"1\" class=\"dataframe\">\n",
       "  <thead>\n",
       "    <tr style=\"text-align: right;\">\n",
       "      <th></th>\n",
       "      <th>1</th>\n",
       "      <th>2</th>\n",
       "      <th>3</th>\n",
       "      <th>4</th>\n",
       "      <th>5</th>\n",
       "    </tr>\n",
       "  </thead>\n",
       "  <tbody>\n",
       "    <tr>\n",
       "      <th>token</th>\n",
       "      <td>▁1</td>\n",
       "      <td>▁small</td>\n",
       "      <td>▁red</td>\n",
       "      <td>▁on</td>\n",
       "      <td>ion</td>\n",
       "    </tr>\n",
       "    <tr>\n",
       "      <th>pred</th>\n",
       "      <td>I-QUANTITY</td>\n",
       "      <td>I-SIZE</td>\n",
       "      <td>I-NAME</td>\n",
       "      <td>I-NAME</td>\n",
       "      <td>I-NAME</td>\n",
       "    </tr>\n",
       "  </tbody>\n",
       "</table>\n",
       "</div>"
      ],
      "text/plain": [
       "                1       2       3       4       5\n",
       "token          ▁1  ▁small    ▁red     ▁on     ion\n",
       "pred   I-QUANTITY  I-SIZE  I-NAME  I-NAME  I-NAME"
      ]
     },
     "execution_count": 122,
     "metadata": {},
     "output_type": "execute_result"
    }
   ],
   "source": [
    "show_preds(\"1 small red onion\")"
   ]
  },
  {
   "cell_type": "code",
   "execution_count": 123,
   "id": "04462176",
   "metadata": {
    "execution": {
     "iopub.execute_input": "2022-04-09T11:13:03.325256Z",
     "iopub.status.busy": "2022-04-09T11:13:03.324397Z",
     "iopub.status.idle": "2022-04-09T11:13:03.345766Z",
     "shell.execute_reply": "2022-04-09T11:13:03.345294Z",
     "shell.execute_reply.started": "2022-04-09T10:59:12.640075Z"
    },
    "papermill": {
     "duration": 0.240203,
     "end_time": "2022-04-09T11:13:03.345899",
     "exception": false,
     "start_time": "2022-04-09T11:13:03.105696",
     "status": "completed"
    },
    "tags": []
   },
   "outputs": [
    {
     "data": {
      "text/html": [
       "<div>\n",
       "<style scoped>\n",
       "    .dataframe tbody tr th:only-of-type {\n",
       "        vertical-align: middle;\n",
       "    }\n",
       "\n",
       "    .dataframe tbody tr th {\n",
       "        vertical-align: top;\n",
       "    }\n",
       "\n",
       "    .dataframe thead th {\n",
       "        text-align: right;\n",
       "    }\n",
       "</style>\n",
       "<table border=\"1\" class=\"dataframe\">\n",
       "  <thead>\n",
       "    <tr style=\"text-align: right;\">\n",
       "      <th></th>\n",
       "      <th>1</th>\n",
       "      <th>2</th>\n",
       "      <th>3</th>\n",
       "      <th>4</th>\n",
       "      <th>5</th>\n",
       "    </tr>\n",
       "  </thead>\n",
       "  <tbody>\n",
       "    <tr>\n",
       "      <th>token</th>\n",
       "      <td>▁1</td>\n",
       "      <td>▁petit</td>\n",
       "      <td>▁o</td>\n",
       "      <td>ignon</td>\n",
       "      <td>▁rouge</td>\n",
       "    </tr>\n",
       "    <tr>\n",
       "      <th>pred</th>\n",
       "      <td>I-QUANTITY</td>\n",
       "      <td>I-SIZE</td>\n",
       "      <td>I-NAME</td>\n",
       "      <td>I-NAME</td>\n",
       "      <td>I-NAME</td>\n",
       "    </tr>\n",
       "  </tbody>\n",
       "</table>\n",
       "</div>"
      ],
      "text/plain": [
       "                1       2       3       4       5\n",
       "token          ▁1  ▁petit      ▁o   ignon  ▁rouge\n",
       "pred   I-QUANTITY  I-SIZE  I-NAME  I-NAME  I-NAME"
      ]
     },
     "execution_count": 123,
     "metadata": {},
     "output_type": "execute_result"
    }
   ],
   "source": [
    "show_preds(\"1 petit oignon rouge\")"
   ]
  }
 ],
 "metadata": {
  "kernelspec": {
   "display_name": "Python 3",
   "language": "python",
   "name": "python3"
  },
  "language_info": {
   "codemirror_mode": {
    "name": "ipython",
    "version": 3
   },
   "file_extension": ".py",
   "mimetype": "text/x-python",
   "name": "python",
   "nbconvert_exporter": "python",
   "pygments_lexer": "ipython3",
   "version": "3.7.12"
  },
  "papermill": {
   "default_parameters": {},
   "duration": 481.371432,
   "end_time": "2022-04-09T11:13:06.521643",
   "environment_variables": {},
   "exception": null,
   "input_path": "__notebook__.ipynb",
   "output_path": "__notebook__.ipynb",
   "parameters": {},
   "start_time": "2022-04-09T11:05:05.150211",
   "version": "2.3.3"
  },
  "widgets": {
   "application/vnd.jupyter.widget-state+json": {
    "state": {
     "020455ba1ef745dc9c769d71d90d6e59": {
      "model_module": "@jupyter-widgets/controls",
      "model_module_version": "1.5.0",
      "model_name": "HTMLModel",
      "state": {
       "_dom_classes": [],
       "_model_module": "@jupyter-widgets/controls",
       "_model_module_version": "1.5.0",
       "_model_name": "HTMLModel",
       "_view_count": null,
       "_view_module": "@jupyter-widgets/controls",
       "_view_module_version": "1.5.0",
       "_view_name": "HTMLView",
       "description": "",
       "description_tooltip": null,
       "layout": "IPY_MODEL_e3d5a03d392e47e7a3cf12dbd4d527ff",
       "placeholder": "​",
       "style": "IPY_MODEL_4207b5c93f0f40fcb2202e46ce5a2f67",
       "value": " 1029/? [00:00&lt;00:00, 3922.31ex/s]"
      }
     },
     "041573460a374bccb1f4dce0c2b8d990": {
      "model_module": "@jupyter-widgets/base",
      "model_module_version": "1.2.0",
      "model_name": "LayoutModel",
      "state": {
       "_model_module": "@jupyter-widgets/base",
       "_model_module_version": "1.2.0",
       "_model_name": "LayoutModel",
       "_view_count": null,
       "_view_module": "@jupyter-widgets/base",
       "_view_module_version": "1.2.0",
       "_view_name": "LayoutView",
       "align_content": null,
       "align_items": null,
       "align_self": null,
       "border": null,
       "bottom": null,
       "display": null,
       "flex": null,
       "flex_flow": null,
       "grid_area": null,
       "grid_auto_columns": null,
       "grid_auto_flow": null,
       "grid_auto_rows": null,
       "grid_column": null,
       "grid_gap": null,
       "grid_row": null,
       "grid_template_areas": null,
       "grid_template_columns": null,
       "grid_template_rows": null,
       "height": null,
       "justify_content": null,
       "justify_items": null,
       "left": null,
       "margin": null,
       "max_height": null,
       "max_width": null,
       "min_height": null,
       "min_width": null,
       "object_fit": null,
       "object_position": null,
       "order": null,
       "overflow": null,
       "overflow_x": null,
       "overflow_y": null,
       "padding": null,
       "right": null,
       "top": null,
       "visibility": null,
       "width": null
      }
     },
     "063b5648ed0740a0894701916b80f0bf": {
      "model_module": "@jupyter-widgets/base",
      "model_module_version": "1.2.0",
      "model_name": "LayoutModel",
      "state": {
       "_model_module": "@jupyter-widgets/base",
       "_model_module_version": "1.2.0",
       "_model_name": "LayoutModel",
       "_view_count": null,
       "_view_module": "@jupyter-widgets/base",
       "_view_module_version": "1.2.0",
       "_view_name": "LayoutView",
       "align_content": null,
       "align_items": null,
       "align_self": null,
       "border": null,
       "bottom": null,
       "display": null,
       "flex": null,
       "flex_flow": null,
       "grid_area": null,
       "grid_auto_columns": null,
       "grid_auto_flow": null,
       "grid_auto_rows": null,
       "grid_column": null,
       "grid_gap": null,
       "grid_row": null,
       "grid_template_areas": null,
       "grid_template_columns": null,
       "grid_template_rows": null,
       "height": null,
       "justify_content": null,
       "justify_items": null,
       "left": null,
       "margin": null,
       "max_height": null,
       "max_width": null,
       "min_height": null,
       "min_width": null,
       "object_fit": null,
       "object_position": null,
       "order": null,
       "overflow": null,
       "overflow_x": null,
       "overflow_y": null,
       "padding": null,
       "right": null,
       "top": null,
       "visibility": null,
       "width": null
      }
     },
     "06a43cca7ada46059fc6d63ae01434fc": {
      "model_module": "@jupyter-widgets/controls",
      "model_module_version": "1.5.0",
      "model_name": "HBoxModel",
      "state": {
       "_dom_classes": [],
       "_model_module": "@jupyter-widgets/controls",
       "_model_module_version": "1.5.0",
       "_model_name": "HBoxModel",
       "_view_count": null,
       "_view_module": "@jupyter-widgets/controls",
       "_view_module_version": "1.5.0",
       "_view_name": "HBoxView",
       "box_style": "",
       "children": [
        "IPY_MODEL_6eea41d77f6b4f45a076fe5047452cb5",
        "IPY_MODEL_5ae2fa412e4c4a2d9b7232a09df324a7",
        "IPY_MODEL_482e1e5b6a8543f4a771c49db6a8f09d"
       ],
       "layout": "IPY_MODEL_3fd547b27de94232b01cd848ed68f9fa"
      }
     },
     "0b118fa990854b9e9d6037127d299a97": {
      "model_module": "@jupyter-widgets/controls",
      "model_module_version": "1.5.0",
      "model_name": "DescriptionStyleModel",
      "state": {
       "_model_module": "@jupyter-widgets/controls",
       "_model_module_version": "1.5.0",
       "_model_name": "DescriptionStyleModel",
       "_view_count": null,
       "_view_module": "@jupyter-widgets/base",
       "_view_module_version": "1.2.0",
       "_view_name": "StyleView",
       "description_width": ""
      }
     },
     "0bd267d2768448d3a5b651c4e67733ce": {
      "model_module": "@jupyter-widgets/controls",
      "model_module_version": "1.5.0",
      "model_name": "FloatProgressModel",
      "state": {
       "_dom_classes": [],
       "_model_module": "@jupyter-widgets/controls",
       "_model_module_version": "1.5.0",
       "_model_name": "FloatProgressModel",
       "_view_count": null,
       "_view_module": "@jupyter-widgets/controls",
       "_view_module_version": "1.5.0",
       "_view_name": "ProgressView",
       "bar_style": "success",
       "description": "",
       "description_tooltip": null,
       "layout": "IPY_MODEL_cc304cce5e6f49af98a08d3fdfb3756f",
       "max": 1.0,
       "min": 0.0,
       "orientation": "horizontal",
       "style": "IPY_MODEL_8e1983b1247841c69de7ec64d22ac09b",
       "value": 1.0
      }
     },
     "0beee21435394d61857734ac14f84841": {
      "model_module": "@jupyter-widgets/controls",
      "model_module_version": "1.5.0",
      "model_name": "DescriptionStyleModel",
      "state": {
       "_model_module": "@jupyter-widgets/controls",
       "_model_module_version": "1.5.0",
       "_model_name": "DescriptionStyleModel",
       "_view_count": null,
       "_view_module": "@jupyter-widgets/base",
       "_view_module_version": "1.2.0",
       "_view_name": "StyleView",
       "description_width": ""
      }
     },
     "0e59102637e94fd2b2dee6ef2030bac6": {
      "model_module": "@jupyter-widgets/controls",
      "model_module_version": "1.5.0",
      "model_name": "HTMLModel",
      "state": {
       "_dom_classes": [],
       "_model_module": "@jupyter-widgets/controls",
       "_model_module_version": "1.5.0",
       "_model_name": "HTMLModel",
       "_view_count": null,
       "_view_module": "@jupyter-widgets/controls",
       "_view_module_version": "1.5.0",
       "_view_name": "HTMLView",
       "description": "",
       "description_tooltip": null,
       "layout": "IPY_MODEL_7d2bc20a1de548e884ae4a72f8956e6b",
       "placeholder": "​",
       "style": "IPY_MODEL_c6067588a4cd48f39df60e76c272e2ba",
       "value": " 2/? [00:00&lt;00:00, 70.43ex/s]"
      }
     },
     "105592daebd948ad9d3fbaa56150f481": {
      "model_module": "@jupyter-widgets/base",
      "model_module_version": "1.2.0",
      "model_name": "LayoutModel",
      "state": {
       "_model_module": "@jupyter-widgets/base",
       "_model_module_version": "1.2.0",
       "_model_name": "LayoutModel",
       "_view_count": null,
       "_view_module": "@jupyter-widgets/base",
       "_view_module_version": "1.2.0",
       "_view_name": "LayoutView",
       "align_content": null,
       "align_items": null,
       "align_self": null,
       "border": null,
       "bottom": null,
       "display": null,
       "flex": null,
       "flex_flow": null,
       "grid_area": null,
       "grid_auto_columns": null,
       "grid_auto_flow": null,
       "grid_auto_rows": null,
       "grid_column": null,
       "grid_gap": null,
       "grid_row": null,
       "grid_template_areas": null,
       "grid_template_columns": null,
       "grid_template_rows": null,
       "height": null,
       "justify_content": null,
       "justify_items": null,
       "left": null,
       "margin": null,
       "max_height": null,
       "max_width": null,
       "min_height": null,
       "min_width": null,
       "object_fit": null,
       "object_position": null,
       "order": null,
       "overflow": null,
       "overflow_x": null,
       "overflow_y": null,
       "padding": null,
       "right": null,
       "top": null,
       "visibility": null,
       "width": null
      }
     },
     "12d45a11c2c440998219e61e05f2724b": {
      "model_module": "@jupyter-widgets/controls",
      "model_module_version": "1.5.0",
      "model_name": "ProgressStyleModel",
      "state": {
       "_model_module": "@jupyter-widgets/controls",
       "_model_module_version": "1.5.0",
       "_model_name": "ProgressStyleModel",
       "_view_count": null,
       "_view_module": "@jupyter-widgets/base",
       "_view_module_version": "1.2.0",
       "_view_name": "StyleView",
       "bar_color": null,
       "description_width": ""
      }
     },
     "1360cb058ab8418086e9c43f34c70763": {
      "model_module": "@jupyter-widgets/base",
      "model_module_version": "1.2.0",
      "model_name": "LayoutModel",
      "state": {
       "_model_module": "@jupyter-widgets/base",
       "_model_module_version": "1.2.0",
       "_model_name": "LayoutModel",
       "_view_count": null,
       "_view_module": "@jupyter-widgets/base",
       "_view_module_version": "1.2.0",
       "_view_name": "LayoutView",
       "align_content": null,
       "align_items": null,
       "align_self": null,
       "border": null,
       "bottom": null,
       "display": null,
       "flex": null,
       "flex_flow": null,
       "grid_area": null,
       "grid_auto_columns": null,
       "grid_auto_flow": null,
       "grid_auto_rows": null,
       "grid_column": null,
       "grid_gap": null,
       "grid_row": null,
       "grid_template_areas": null,
       "grid_template_columns": null,
       "grid_template_rows": null,
       "height": null,
       "justify_content": null,
       "justify_items": null,
       "left": null,
       "margin": null,
       "max_height": null,
       "max_width": null,
       "min_height": null,
       "min_width": null,
       "object_fit": null,
       "object_position": null,
       "order": null,
       "overflow": null,
       "overflow_x": null,
       "overflow_y": null,
       "padding": null,
       "right": null,
       "top": null,
       "visibility": null,
       "width": null
      }
     },
     "141448c26064414cb5ddc27ed76948e1": {
      "model_module": "@jupyter-widgets/controls",
      "model_module_version": "1.5.0",
      "model_name": "FloatProgressModel",
      "state": {
       "_dom_classes": [],
       "_model_module": "@jupyter-widgets/controls",
       "_model_module_version": "1.5.0",
       "_model_name": "FloatProgressModel",
       "_view_count": null,
       "_view_module": "@jupyter-widgets/controls",
       "_view_module_version": "1.5.0",
       "_view_name": "ProgressView",
       "bar_style": "success",
       "description": "",
       "description_tooltip": null,
       "layout": "IPY_MODEL_b499ad16704a49dcad2d46712ffdbf4d",
       "max": 1.0,
       "min": 0.0,
       "orientation": "horizontal",
       "style": "IPY_MODEL_4cad9ed3d01e4536ac467e514a5003bd",
       "value": 1.0
      }
     },
     "151f65c270514a798121682625d087e6": {
      "model_module": "@jupyter-widgets/controls",
      "model_module_version": "1.5.0",
      "model_name": "ProgressStyleModel",
      "state": {
       "_model_module": "@jupyter-widgets/controls",
       "_model_module_version": "1.5.0",
       "_model_name": "ProgressStyleModel",
       "_view_count": null,
       "_view_module": "@jupyter-widgets/base",
       "_view_module_version": "1.2.0",
       "_view_name": "StyleView",
       "bar_color": null,
       "description_width": ""
      }
     },
     "15c75afcd843409d8ed3c0b069bb37ec": {
      "model_module": "@jupyter-widgets/base",
      "model_module_version": "1.2.0",
      "model_name": "LayoutModel",
      "state": {
       "_model_module": "@jupyter-widgets/base",
       "_model_module_version": "1.2.0",
       "_model_name": "LayoutModel",
       "_view_count": null,
       "_view_module": "@jupyter-widgets/base",
       "_view_module_version": "1.2.0",
       "_view_name": "LayoutView",
       "align_content": null,
       "align_items": null,
       "align_self": null,
       "border": null,
       "bottom": null,
       "display": null,
       "flex": null,
       "flex_flow": null,
       "grid_area": null,
       "grid_auto_columns": null,
       "grid_auto_flow": null,
       "grid_auto_rows": null,
       "grid_column": null,
       "grid_gap": null,
       "grid_row": null,
       "grid_template_areas": null,
       "grid_template_columns": null,
       "grid_template_rows": null,
       "height": null,
       "justify_content": null,
       "justify_items": null,
       "left": null,
       "margin": null,
       "max_height": null,
       "max_width": null,
       "min_height": null,
       "min_width": null,
       "object_fit": null,
       "object_position": null,
       "order": null,
       "overflow": null,
       "overflow_x": null,
       "overflow_y": null,
       "padding": null,
       "right": null,
       "top": null,
       "visibility": null,
       "width": null
      }
     },
     "17752de89e36490a8a52aa3352c189ef": {
      "model_module": "@jupyter-widgets/controls",
      "model_module_version": "1.5.0",
      "model_name": "FloatProgressModel",
      "state": {
       "_dom_classes": [],
       "_model_module": "@jupyter-widgets/controls",
       "_model_module_version": "1.5.0",
       "_model_name": "FloatProgressModel",
       "_view_count": null,
       "_view_module": "@jupyter-widgets/controls",
       "_view_module_version": "1.5.0",
       "_view_name": "ProgressView",
       "bar_style": "success",
       "description": "",
       "description_tooltip": null,
       "layout": "IPY_MODEL_9fdd5084f7474663a6c2827b26359bde",
       "max": 1.0,
       "min": 0.0,
       "orientation": "horizontal",
       "style": "IPY_MODEL_a5fdaccc54f44b4485b82cd712c3b4b8",
       "value": 1.0
      }
     },
     "18310a2ca55d4fc3a8ab53a876110573": {
      "model_module": "@jupyter-widgets/base",
      "model_module_version": "1.2.0",
      "model_name": "LayoutModel",
      "state": {
       "_model_module": "@jupyter-widgets/base",
       "_model_module_version": "1.2.0",
       "_model_name": "LayoutModel",
       "_view_count": null,
       "_view_module": "@jupyter-widgets/base",
       "_view_module_version": "1.2.0",
       "_view_name": "LayoutView",
       "align_content": null,
       "align_items": null,
       "align_self": null,
       "border": null,
       "bottom": null,
       "display": null,
       "flex": null,
       "flex_flow": null,
       "grid_area": null,
       "grid_auto_columns": null,
       "grid_auto_flow": null,
       "grid_auto_rows": null,
       "grid_column": null,
       "grid_gap": null,
       "grid_row": null,
       "grid_template_areas": null,
       "grid_template_columns": null,
       "grid_template_rows": null,
       "height": null,
       "justify_content": null,
       "justify_items": null,
       "left": null,
       "margin": null,
       "max_height": null,
       "max_width": null,
       "min_height": null,
       "min_width": null,
       "object_fit": null,
       "object_position": null,
       "order": null,
       "overflow": null,
       "overflow_x": null,
       "overflow_y": null,
       "padding": null,
       "right": null,
       "top": null,
       "visibility": null,
       "width": null
      }
     },
     "188682f7140647b6acac67e205f80eec": {
      "model_module": "@jupyter-widgets/base",
      "model_module_version": "1.2.0",
      "model_name": "LayoutModel",
      "state": {
       "_model_module": "@jupyter-widgets/base",
       "_model_module_version": "1.2.0",
       "_model_name": "LayoutModel",
       "_view_count": null,
       "_view_module": "@jupyter-widgets/base",
       "_view_module_version": "1.2.0",
       "_view_name": "LayoutView",
       "align_content": null,
       "align_items": null,
       "align_self": null,
       "border": null,
       "bottom": null,
       "display": null,
       "flex": null,
       "flex_flow": null,
       "grid_area": null,
       "grid_auto_columns": null,
       "grid_auto_flow": null,
       "grid_auto_rows": null,
       "grid_column": null,
       "grid_gap": null,
       "grid_row": null,
       "grid_template_areas": null,
       "grid_template_columns": null,
       "grid_template_rows": null,
       "height": null,
       "justify_content": null,
       "justify_items": null,
       "left": null,
       "margin": null,
       "max_height": null,
       "max_width": null,
       "min_height": null,
       "min_width": null,
       "object_fit": null,
       "object_position": null,
       "order": null,
       "overflow": null,
       "overflow_x": null,
       "overflow_y": null,
       "padding": null,
       "right": null,
       "top": null,
       "visibility": null,
       "width": "20px"
      }
     },
     "1930ade79ec24f0f85beb80c9bb3855f": {
      "model_module": "@jupyter-widgets/controls",
      "model_module_version": "1.5.0",
      "model_name": "FloatProgressModel",
      "state": {
       "_dom_classes": [],
       "_model_module": "@jupyter-widgets/controls",
       "_model_module_version": "1.5.0",
       "_model_name": "FloatProgressModel",
       "_view_count": null,
       "_view_module": "@jupyter-widgets/controls",
       "_view_module_version": "1.5.0",
       "_view_name": "ProgressView",
       "bar_style": "success",
       "description": "",
       "description_tooltip": null,
       "layout": "IPY_MODEL_3cfe154b85ac436c93ef419261a758b6",
       "max": 615.0,
       "min": 0.0,
       "orientation": "horizontal",
       "style": "IPY_MODEL_e5529596a18746529afdc7d3382e7a21",
       "value": 615.0
      }
     },
     "1a1ae749de7346b594c6fa4b05137e89": {
      "model_module": "@jupyter-widgets/controls",
      "model_module_version": "1.5.0",
      "model_name": "DescriptionStyleModel",
      "state": {
       "_model_module": "@jupyter-widgets/controls",
       "_model_module_version": "1.5.0",
       "_model_name": "DescriptionStyleModel",
       "_view_count": null,
       "_view_module": "@jupyter-widgets/base",
       "_view_module_version": "1.2.0",
       "_view_name": "StyleView",
       "description_width": ""
      }
     },
     "1c51ce11329247989869d43245bd868b": {
      "model_module": "@jupyter-widgets/base",
      "model_module_version": "1.2.0",
      "model_name": "LayoutModel",
      "state": {
       "_model_module": "@jupyter-widgets/base",
       "_model_module_version": "1.2.0",
       "_model_name": "LayoutModel",
       "_view_count": null,
       "_view_module": "@jupyter-widgets/base",
       "_view_module_version": "1.2.0",
       "_view_name": "LayoutView",
       "align_content": null,
       "align_items": null,
       "align_self": null,
       "border": null,
       "bottom": null,
       "display": null,
       "flex": null,
       "flex_flow": null,
       "grid_area": null,
       "grid_auto_columns": null,
       "grid_auto_flow": null,
       "grid_auto_rows": null,
       "grid_column": null,
       "grid_gap": null,
       "grid_row": null,
       "grid_template_areas": null,
       "grid_template_columns": null,
       "grid_template_rows": null,
       "height": null,
       "justify_content": null,
       "justify_items": null,
       "left": null,
       "margin": null,
       "max_height": null,
       "max_width": null,
       "min_height": null,
       "min_width": null,
       "object_fit": null,
       "object_position": null,
       "order": null,
       "overflow": null,
       "overflow_x": null,
       "overflow_y": null,
       "padding": null,
       "right": null,
       "top": null,
       "visibility": null,
       "width": null
      }
     },
     "1c704a2c6a9348b3a394da18783cd1fa": {
      "model_module": "@jupyter-widgets/base",
      "model_module_version": "1.2.0",
      "model_name": "LayoutModel",
      "state": {
       "_model_module": "@jupyter-widgets/base",
       "_model_module_version": "1.2.0",
       "_model_name": "LayoutModel",
       "_view_count": null,
       "_view_module": "@jupyter-widgets/base",
       "_view_module_version": "1.2.0",
       "_view_name": "LayoutView",
       "align_content": null,
       "align_items": null,
       "align_self": null,
       "border": null,
       "bottom": null,
       "display": null,
       "flex": null,
       "flex_flow": null,
       "grid_area": null,
       "grid_auto_columns": null,
       "grid_auto_flow": null,
       "grid_auto_rows": null,
       "grid_column": null,
       "grid_gap": null,
       "grid_row": null,
       "grid_template_areas": null,
       "grid_template_columns": null,
       "grid_template_rows": null,
       "height": null,
       "justify_content": null,
       "justify_items": null,
       "left": null,
       "margin": null,
       "max_height": null,
       "max_width": null,
       "min_height": null,
       "min_width": null,
       "object_fit": null,
       "object_position": null,
       "order": null,
       "overflow": null,
       "overflow_x": null,
       "overflow_y": null,
       "padding": null,
       "right": null,
       "top": null,
       "visibility": null,
       "width": null
      }
     },
     "1cebfb0c26064626a78664020022f2a8": {
      "model_module": "@jupyter-widgets/base",
      "model_module_version": "1.2.0",
      "model_name": "LayoutModel",
      "state": {
       "_model_module": "@jupyter-widgets/base",
       "_model_module_version": "1.2.0",
       "_model_name": "LayoutModel",
       "_view_count": null,
       "_view_module": "@jupyter-widgets/base",
       "_view_module_version": "1.2.0",
       "_view_name": "LayoutView",
       "align_content": null,
       "align_items": null,
       "align_self": null,
       "border": null,
       "bottom": null,
       "display": null,
       "flex": null,
       "flex_flow": null,
       "grid_area": null,
       "grid_auto_columns": null,
       "grid_auto_flow": null,
       "grid_auto_rows": null,
       "grid_column": null,
       "grid_gap": null,
       "grid_row": null,
       "grid_template_areas": null,
       "grid_template_columns": null,
       "grid_template_rows": null,
       "height": null,
       "justify_content": null,
       "justify_items": null,
       "left": null,
       "margin": null,
       "max_height": null,
       "max_width": null,
       "min_height": null,
       "min_width": null,
       "object_fit": null,
       "object_position": null,
       "order": null,
       "overflow": null,
       "overflow_x": null,
       "overflow_y": null,
       "padding": null,
       "right": null,
       "top": null,
       "visibility": null,
       "width": null
      }
     },
     "1d8bb8b5be4441b9bfcb4a9494f31074": {
      "model_module": "@jupyter-widgets/controls",
      "model_module_version": "1.5.0",
      "model_name": "HTMLModel",
      "state": {
       "_dom_classes": [],
       "_model_module": "@jupyter-widgets/controls",
       "_model_module_version": "1.5.0",
       "_model_name": "HTMLModel",
       "_view_count": null,
       "_view_module": "@jupyter-widgets/controls",
       "_view_module_version": "1.5.0",
       "_view_name": "HTMLView",
       "description": "",
       "description_tooltip": null,
       "layout": "IPY_MODEL_f4a5ea9c2752427c9ff19edfbe0f031d",
       "placeholder": "​",
       "style": "IPY_MODEL_0b118fa990854b9e9d6037127d299a97",
       "value": ""
      }
     },
     "1fb14bc5cc224768b37bb56ac853cae0": {
      "model_module": "@jupyter-widgets/controls",
      "model_module_version": "1.5.0",
      "model_name": "HTMLModel",
      "state": {
       "_dom_classes": [],
       "_model_module": "@jupyter-widgets/controls",
       "_model_module_version": "1.5.0",
       "_model_name": "HTMLModel",
       "_view_count": null,
       "_view_module": "@jupyter-widgets/controls",
       "_view_module_version": "1.5.0",
       "_view_name": "HTMLView",
       "description": "",
       "description_tooltip": null,
       "layout": "IPY_MODEL_b8907e460a8745ddac1f2fc4e483c26b",
       "placeholder": "​",
       "style": "IPY_MODEL_fb714d18bd1d4a1f8ffceb9928c2b4da",
       "value": " 8.68M/8.68M [00:00&lt;00:00, 34.3MB/s]"
      }
     },
     "2165a410be2d49d4b08cce876bfabd0e": {
      "model_module": "@jupyter-widgets/base",
      "model_module_version": "1.2.0",
      "model_name": "LayoutModel",
      "state": {
       "_model_module": "@jupyter-widgets/base",
       "_model_module_version": "1.2.0",
       "_model_name": "LayoutModel",
       "_view_count": null,
       "_view_module": "@jupyter-widgets/base",
       "_view_module_version": "1.2.0",
       "_view_name": "LayoutView",
       "align_content": null,
       "align_items": null,
       "align_self": null,
       "border": null,
       "bottom": null,
       "display": null,
       "flex": null,
       "flex_flow": null,
       "grid_area": null,
       "grid_auto_columns": null,
       "grid_auto_flow": null,
       "grid_auto_rows": null,
       "grid_column": null,
       "grid_gap": null,
       "grid_row": null,
       "grid_template_areas": null,
       "grid_template_columns": null,
       "grid_template_rows": null,
       "height": null,
       "justify_content": null,
       "justify_items": null,
       "left": null,
       "margin": null,
       "max_height": null,
       "max_width": null,
       "min_height": null,
       "min_width": null,
       "object_fit": null,
       "object_position": null,
       "order": null,
       "overflow": null,
       "overflow_x": null,
       "overflow_y": null,
       "padding": null,
       "right": null,
       "top": null,
       "visibility": null,
       "width": null
      }
     },
     "21a12adad2074755936f5b76677bf2a2": {
      "model_module": "@jupyter-widgets/base",
      "model_module_version": "1.2.0",
      "model_name": "LayoutModel",
      "state": {
       "_model_module": "@jupyter-widgets/base",
       "_model_module_version": "1.2.0",
       "_model_name": "LayoutModel",
       "_view_count": null,
       "_view_module": "@jupyter-widgets/base",
       "_view_module_version": "1.2.0",
       "_view_name": "LayoutView",
       "align_content": null,
       "align_items": null,
       "align_self": null,
       "border": null,
       "bottom": null,
       "display": null,
       "flex": null,
       "flex_flow": null,
       "grid_area": null,
       "grid_auto_columns": null,
       "grid_auto_flow": null,
       "grid_auto_rows": null,
       "grid_column": null,
       "grid_gap": null,
       "grid_row": null,
       "grid_template_areas": null,
       "grid_template_columns": null,
       "grid_template_rows": null,
       "height": null,
       "justify_content": null,
       "justify_items": null,
       "left": null,
       "margin": null,
       "max_height": null,
       "max_width": null,
       "min_height": null,
       "min_width": null,
       "object_fit": null,
       "object_position": null,
       "order": null,
       "overflow": null,
       "overflow_x": null,
       "overflow_y": null,
       "padding": null,
       "right": null,
       "top": null,
       "visibility": null,
       "width": null
      }
     },
     "21b3a0aeca9a4dd3b7f977bc3966b910": {
      "model_module": "@jupyter-widgets/base",
      "model_module_version": "1.2.0",
      "model_name": "LayoutModel",
      "state": {
       "_model_module": "@jupyter-widgets/base",
       "_model_module_version": "1.2.0",
       "_model_name": "LayoutModel",
       "_view_count": null,
       "_view_module": "@jupyter-widgets/base",
       "_view_module_version": "1.2.0",
       "_view_name": "LayoutView",
       "align_content": null,
       "align_items": null,
       "align_self": null,
       "border": null,
       "bottom": null,
       "display": null,
       "flex": null,
       "flex_flow": null,
       "grid_area": null,
       "grid_auto_columns": null,
       "grid_auto_flow": null,
       "grid_auto_rows": null,
       "grid_column": null,
       "grid_gap": null,
       "grid_row": null,
       "grid_template_areas": null,
       "grid_template_columns": null,
       "grid_template_rows": null,
       "height": null,
       "justify_content": null,
       "justify_items": null,
       "left": null,
       "margin": null,
       "max_height": null,
       "max_width": null,
       "min_height": null,
       "min_width": null,
       "object_fit": null,
       "object_position": null,
       "order": null,
       "overflow": null,
       "overflow_x": null,
       "overflow_y": null,
       "padding": null,
       "right": null,
       "top": null,
       "visibility": null,
       "width": null
      }
     },
     "21c6d9ae18df4bc2b9079acf7c9f8ab2": {
      "model_module": "@jupyter-widgets/controls",
      "model_module_version": "1.5.0",
      "model_name": "HTMLModel",
      "state": {
       "_dom_classes": [],
       "_model_module": "@jupyter-widgets/controls",
       "_model_module_version": "1.5.0",
       "_model_name": "HTMLModel",
       "_view_count": null,
       "_view_module": "@jupyter-widgets/controls",
       "_view_module_version": "1.5.0",
       "_view_name": "HTMLView",
       "description": "",
       "description_tooltip": null,
       "layout": "IPY_MODEL_507a23f121ff4224b51cfcbee8759e87",
       "placeholder": "​",
       "style": "IPY_MODEL_285468014bcb45ec9c7c6bba90305806",
       "value": " 294/? [00:00&lt;00:00, 3066.28ex/s]"
      }
     },
     "21d34c54c1db4055bd59e657b7327bb5": {
      "model_module": "@jupyter-widgets/controls",
      "model_module_version": "1.5.0",
      "model_name": "HTMLModel",
      "state": {
       "_dom_classes": [],
       "_model_module": "@jupyter-widgets/controls",
       "_model_module_version": "1.5.0",
       "_model_name": "HTMLModel",
       "_view_count": null,
       "_view_module": "@jupyter-widgets/controls",
       "_view_module_version": "1.5.0",
       "_view_name": "HTMLView",
       "description": "",
       "description_tooltip": null,
       "layout": "IPY_MODEL_67211a8d63a64fc18dc13ba6366f8486",
       "placeholder": "​",
       "style": "IPY_MODEL_41088a944a2946c7a65fe97e6ea9ba9a",
       "value": " 4113/? [00:01&lt;00:00, 2958.29ex/s]"
      }
     },
     "26e46afcec13426ea5b6fba4fcba1371": {
      "model_module": "@jupyter-widgets/controls",
      "model_module_version": "1.5.0",
      "model_name": "HTMLModel",
      "state": {
       "_dom_classes": [],
       "_model_module": "@jupyter-widgets/controls",
       "_model_module_version": "1.5.0",
       "_model_name": "HTMLModel",
       "_view_count": null,
       "_view_module": "@jupyter-widgets/controls",
       "_view_module_version": "1.5.0",
       "_view_name": "HTMLView",
       "description": "",
       "description_tooltip": null,
       "layout": "IPY_MODEL_3d77d46afc174739bb381b5019fc57e3",
       "placeholder": "​",
       "style": "IPY_MODEL_bd3bf924eff54525a32b74ec695a19cf",
       "value": ""
      }
     },
     "274d9905708f4d6baea9eab4604cf8d9": {
      "model_module": "@jupyter-widgets/controls",
      "model_module_version": "1.5.0",
      "model_name": "HBoxModel",
      "state": {
       "_dom_classes": [],
       "_model_module": "@jupyter-widgets/controls",
       "_model_module_version": "1.5.0",
       "_model_name": "HBoxModel",
       "_view_count": null,
       "_view_module": "@jupyter-widgets/controls",
       "_view_module_version": "1.5.0",
       "_view_name": "HBoxView",
       "box_style": "",
       "children": [
        "IPY_MODEL_bba00d686b8f4fe5a9a1c5193d62929c",
        "IPY_MODEL_720c4ce93b3c4c7080e89073ba83fdbb",
        "IPY_MODEL_82ec606f5fae42ad8df8996c405935b6"
       ],
       "layout": "IPY_MODEL_53a24795394e4d4b9e5f326e1cdaa654"
      }
     },
     "285468014bcb45ec9c7c6bba90305806": {
      "model_module": "@jupyter-widgets/controls",
      "model_module_version": "1.5.0",
      "model_name": "DescriptionStyleModel",
      "state": {
       "_model_module": "@jupyter-widgets/controls",
       "_model_module_version": "1.5.0",
       "_model_name": "DescriptionStyleModel",
       "_view_count": null,
       "_view_module": "@jupyter-widgets/base",
       "_view_module_version": "1.2.0",
       "_view_name": "StyleView",
       "description_width": ""
      }
     },
     "288e8f16bc89468f9efdfeac1204f4d0": {
      "model_module": "@jupyter-widgets/base",
      "model_module_version": "1.2.0",
      "model_name": "LayoutModel",
      "state": {
       "_model_module": "@jupyter-widgets/base",
       "_model_module_version": "1.2.0",
       "_model_name": "LayoutModel",
       "_view_count": null,
       "_view_module": "@jupyter-widgets/base",
       "_view_module_version": "1.2.0",
       "_view_name": "LayoutView",
       "align_content": null,
       "align_items": null,
       "align_self": null,
       "border": null,
       "bottom": null,
       "display": null,
       "flex": null,
       "flex_flow": null,
       "grid_area": null,
       "grid_auto_columns": null,
       "grid_auto_flow": null,
       "grid_auto_rows": null,
       "grid_column": null,
       "grid_gap": null,
       "grid_row": null,
       "grid_template_areas": null,
       "grid_template_columns": null,
       "grid_template_rows": null,
       "height": null,
       "justify_content": null,
       "justify_items": null,
       "left": null,
       "margin": null,
       "max_height": null,
       "max_width": null,
       "min_height": null,
       "min_width": null,
       "object_fit": null,
       "object_position": null,
       "order": null,
       "overflow": null,
       "overflow_x": null,
       "overflow_y": null,
       "padding": null,
       "right": null,
       "top": null,
       "visibility": null,
       "width": null
      }
     },
     "2c8583c7f90c422bba51812fab916bef": {
      "model_module": "@jupyter-widgets/controls",
      "model_module_version": "1.5.0",
      "model_name": "DescriptionStyleModel",
      "state": {
       "_model_module": "@jupyter-widgets/controls",
       "_model_module_version": "1.5.0",
       "_model_name": "DescriptionStyleModel",
       "_view_count": null,
       "_view_module": "@jupyter-widgets/base",
       "_view_module_version": "1.2.0",
       "_view_name": "StyleView",
       "description_width": ""
      }
     },
     "2d7825d3f530443898d5c256be0535bb": {
      "model_module": "@jupyter-widgets/controls",
      "model_module_version": "1.5.0",
      "model_name": "DescriptionStyleModel",
      "state": {
       "_model_module": "@jupyter-widgets/controls",
       "_model_module_version": "1.5.0",
       "_model_name": "DescriptionStyleModel",
       "_view_count": null,
       "_view_module": "@jupyter-widgets/base",
       "_view_module_version": "1.2.0",
       "_view_name": "StyleView",
       "description_width": ""
      }
     },
     "30715d2b603547aba296869aaab2444a": {
      "model_module": "@jupyter-widgets/controls",
      "model_module_version": "1.5.0",
      "model_name": "HBoxModel",
      "state": {
       "_dom_classes": [],
       "_model_module": "@jupyter-widgets/controls",
       "_model_module_version": "1.5.0",
       "_model_name": "HBoxModel",
       "_view_count": null,
       "_view_module": "@jupyter-widgets/controls",
       "_view_module_version": "1.5.0",
       "_view_name": "HBoxView",
       "box_style": "",
       "children": [
        "IPY_MODEL_1d8bb8b5be4441b9bfcb4a9494f31074",
        "IPY_MODEL_141448c26064414cb5ddc27ed76948e1",
        "IPY_MODEL_9eefaf352d124e90adb3c21b61a6af60"
       ],
       "layout": "IPY_MODEL_21a12adad2074755936f5b76677bf2a2"
      }
     },
     "312125d94ae34916b166dc7f1af06ee1": {
      "model_module": "@jupyter-widgets/controls",
      "model_module_version": "1.5.0",
      "model_name": "DescriptionStyleModel",
      "state": {
       "_model_module": "@jupyter-widgets/controls",
       "_model_module_version": "1.5.0",
       "_model_name": "DescriptionStyleModel",
       "_view_count": null,
       "_view_module": "@jupyter-widgets/base",
       "_view_module_version": "1.2.0",
       "_view_name": "StyleView",
       "description_width": ""
      }
     },
     "331a4237525447d18f79e23778b2a00f": {
      "model_module": "@jupyter-widgets/controls",
      "model_module_version": "1.5.0",
      "model_name": "DescriptionStyleModel",
      "state": {
       "_model_module": "@jupyter-widgets/controls",
       "_model_module_version": "1.5.0",
       "_model_name": "DescriptionStyleModel",
       "_view_count": null,
       "_view_module": "@jupyter-widgets/base",
       "_view_module_version": "1.2.0",
       "_view_name": "StyleView",
       "description_width": ""
      }
     },
     "34e8acc4af36453e967acdb67f522402": {
      "model_module": "@jupyter-widgets/controls",
      "model_module_version": "1.5.0",
      "model_name": "HTMLModel",
      "state": {
       "_dom_classes": [],
       "_model_module": "@jupyter-widgets/controls",
       "_model_module_version": "1.5.0",
       "_model_name": "HTMLModel",
       "_view_count": null,
       "_view_module": "@jupyter-widgets/controls",
       "_view_module_version": "1.5.0",
       "_view_name": "HTMLView",
       "description": "",
       "description_tooltip": null,
       "layout": "IPY_MODEL_7102d46f2c8c432a9f589f9acd44a5bd",
       "placeholder": "​",
       "style": "IPY_MODEL_9be98213ca104276a3ce5988b98216c3",
       "value": " 42/42 [00:01&lt;00:00, 28.74ba/s]"
      }
     },
     "37bc756044ff4689a39d2aa55cb3e3bb": {
      "model_module": "@jupyter-widgets/controls",
      "model_module_version": "1.5.0",
      "model_name": "HTMLModel",
      "state": {
       "_dom_classes": [],
       "_model_module": "@jupyter-widgets/controls",
       "_model_module_version": "1.5.0",
       "_model_name": "HTMLModel",
       "_view_count": null,
       "_view_module": "@jupyter-widgets/controls",
       "_view_module_version": "1.5.0",
       "_view_name": "HTMLView",
       "description": "",
       "description_tooltip": null,
       "layout": "IPY_MODEL_1c51ce11329247989869d43245bd868b",
       "placeholder": "​",
       "style": "IPY_MODEL_c90364ffa2234c1abe517cb48b273a39",
       "value": " 2/? [00:00&lt;00:00, 66.25ex/s]"
      }
     },
     "3a11e74cbeb34a478256ceaf4f2e08bb": {
      "model_module": "@jupyter-widgets/controls",
      "model_module_version": "1.5.0",
      "model_name": "ProgressStyleModel",
      "state": {
       "_model_module": "@jupyter-widgets/controls",
       "_model_module_version": "1.5.0",
       "_model_name": "ProgressStyleModel",
       "_view_count": null,
       "_view_module": "@jupyter-widgets/base",
       "_view_module_version": "1.2.0",
       "_view_name": "StyleView",
       "bar_color": null,
       "description_width": ""
      }
     },
     "3cfe154b85ac436c93ef419261a758b6": {
      "model_module": "@jupyter-widgets/base",
      "model_module_version": "1.2.0",
      "model_name": "LayoutModel",
      "state": {
       "_model_module": "@jupyter-widgets/base",
       "_model_module_version": "1.2.0",
       "_model_name": "LayoutModel",
       "_view_count": null,
       "_view_module": "@jupyter-widgets/base",
       "_view_module_version": "1.2.0",
       "_view_name": "LayoutView",
       "align_content": null,
       "align_items": null,
       "align_self": null,
       "border": null,
       "bottom": null,
       "display": null,
       "flex": null,
       "flex_flow": null,
       "grid_area": null,
       "grid_auto_columns": null,
       "grid_auto_flow": null,
       "grid_auto_rows": null,
       "grid_column": null,
       "grid_gap": null,
       "grid_row": null,
       "grid_template_areas": null,
       "grid_template_columns": null,
       "grid_template_rows": null,
       "height": null,
       "justify_content": null,
       "justify_items": null,
       "left": null,
       "margin": null,
       "max_height": null,
       "max_width": null,
       "min_height": null,
       "min_width": null,
       "object_fit": null,
       "object_position": null,
       "order": null,
       "overflow": null,
       "overflow_x": null,
       "overflow_y": null,
       "padding": null,
       "right": null,
       "top": null,
       "visibility": null,
       "width": null
      }
     },
     "3d77d46afc174739bb381b5019fc57e3": {
      "model_module": "@jupyter-widgets/base",
      "model_module_version": "1.2.0",
      "model_name": "LayoutModel",
      "state": {
       "_model_module": "@jupyter-widgets/base",
       "_model_module_version": "1.2.0",
       "_model_name": "LayoutModel",
       "_view_count": null,
       "_view_module": "@jupyter-widgets/base",
       "_view_module_version": "1.2.0",
       "_view_name": "LayoutView",
       "align_content": null,
       "align_items": null,
       "align_self": null,
       "border": null,
       "bottom": null,
       "display": null,
       "flex": null,
       "flex_flow": null,
       "grid_area": null,
       "grid_auto_columns": null,
       "grid_auto_flow": null,
       "grid_auto_rows": null,
       "grid_column": null,
       "grid_gap": null,
       "grid_row": null,
       "grid_template_areas": null,
       "grid_template_columns": null,
       "grid_template_rows": null,
       "height": null,
       "justify_content": null,
       "justify_items": null,
       "left": null,
       "margin": null,
       "max_height": null,
       "max_width": null,
       "min_height": null,
       "min_width": null,
       "object_fit": null,
       "object_position": null,
       "order": null,
       "overflow": null,
       "overflow_x": null,
       "overflow_y": null,
       "padding": null,
       "right": null,
       "top": null,
       "visibility": null,
       "width": null
      }
     },
     "3d9779cae92845059507d45641e16b5b": {
      "model_module": "@jupyter-widgets/base",
      "model_module_version": "1.2.0",
      "model_name": "LayoutModel",
      "state": {
       "_model_module": "@jupyter-widgets/base",
       "_model_module_version": "1.2.0",
       "_model_name": "LayoutModel",
       "_view_count": null,
       "_view_module": "@jupyter-widgets/base",
       "_view_module_version": "1.2.0",
       "_view_name": "LayoutView",
       "align_content": null,
       "align_items": null,
       "align_self": null,
       "border": null,
       "bottom": null,
       "display": null,
       "flex": null,
       "flex_flow": null,
       "grid_area": null,
       "grid_auto_columns": null,
       "grid_auto_flow": null,
       "grid_auto_rows": null,
       "grid_column": null,
       "grid_gap": null,
       "grid_row": null,
       "grid_template_areas": null,
       "grid_template_columns": null,
       "grid_template_rows": null,
       "height": null,
       "justify_content": null,
       "justify_items": null,
       "left": null,
       "margin": null,
       "max_height": null,
       "max_width": null,
       "min_height": null,
       "min_width": null,
       "object_fit": null,
       "object_position": null,
       "order": null,
       "overflow": null,
       "overflow_x": null,
       "overflow_y": null,
       "padding": null,
       "right": null,
       "top": null,
       "visibility": null,
       "width": null
      }
     },
     "3deb0a7d57f2417397cca966617df605": {
      "model_module": "@jupyter-widgets/controls",
      "model_module_version": "1.5.0",
      "model_name": "HTMLModel",
      "state": {
       "_dom_classes": [],
       "_model_module": "@jupyter-widgets/controls",
       "_model_module_version": "1.5.0",
       "_model_name": "HTMLModel",
       "_view_count": null,
       "_view_module": "@jupyter-widgets/controls",
       "_view_module_version": "1.5.0",
       "_view_name": "HTMLView",
       "description": "",
       "description_tooltip": null,
       "layout": "IPY_MODEL_73eb90d3613b42a991fc7dc31b436b15",
       "placeholder": "​",
       "style": "IPY_MODEL_2c8583c7f90c422bba51812fab916bef",
       "value": " 615/615 [00:00&lt;00:00, 24.9kB/s]"
      }
     },
     "3ee12f7668dd407a9401a60b70022ac3": {
      "model_module": "@jupyter-widgets/controls",
      "model_module_version": "1.5.0",
      "model_name": "FloatProgressModel",
      "state": {
       "_dom_classes": [],
       "_model_module": "@jupyter-widgets/controls",
       "_model_module_version": "1.5.0",
       "_model_name": "FloatProgressModel",
       "_view_count": null,
       "_view_module": "@jupyter-widgets/controls",
       "_view_module_version": "1.5.0",
       "_view_name": "ProgressView",
       "bar_style": "success",
       "description": "",
       "description_tooltip": null,
       "layout": "IPY_MODEL_ed333dffa17a4a0dbb662e6984138a4a",
       "max": 1.0,
       "min": 0.0,
       "orientation": "horizontal",
       "style": "IPY_MODEL_b805f914c65f4984b00ad74cf24a00ef",
       "value": 1.0
      }
     },
     "3fd547b27de94232b01cd848ed68f9fa": {
      "model_module": "@jupyter-widgets/base",
      "model_module_version": "1.2.0",
      "model_name": "LayoutModel",
      "state": {
       "_model_module": "@jupyter-widgets/base",
       "_model_module_version": "1.2.0",
       "_model_name": "LayoutModel",
       "_view_count": null,
       "_view_module": "@jupyter-widgets/base",
       "_view_module_version": "1.2.0",
       "_view_name": "LayoutView",
       "align_content": null,
       "align_items": null,
       "align_self": null,
       "border": null,
       "bottom": null,
       "display": null,
       "flex": null,
       "flex_flow": null,
       "grid_area": null,
       "grid_auto_columns": null,
       "grid_auto_flow": null,
       "grid_auto_rows": null,
       "grid_column": null,
       "grid_gap": null,
       "grid_row": null,
       "grid_template_areas": null,
       "grid_template_columns": null,
       "grid_template_rows": null,
       "height": null,
       "justify_content": null,
       "justify_items": null,
       "left": null,
       "margin": null,
       "max_height": null,
       "max_width": null,
       "min_height": null,
       "min_width": null,
       "object_fit": null,
       "object_position": null,
       "order": null,
       "overflow": null,
       "overflow_x": null,
       "overflow_y": null,
       "padding": null,
       "right": null,
       "top": null,
       "visibility": null,
       "width": null
      }
     },
     "405824db9bc142fc9fcaf3927022e16a": {
      "model_module": "@jupyter-widgets/controls",
      "model_module_version": "1.5.0",
      "model_name": "HTMLModel",
      "state": {
       "_dom_classes": [],
       "_model_module": "@jupyter-widgets/controls",
       "_model_module_version": "1.5.0",
       "_model_name": "HTMLModel",
       "_view_count": null,
       "_view_module": "@jupyter-widgets/controls",
       "_view_module_version": "1.5.0",
       "_view_name": "HTMLView",
       "description": "",
       "description_tooltip": null,
       "layout": "IPY_MODEL_041573460a374bccb1f4dce0c2b8d990",
       "placeholder": "​",
       "style": "IPY_MODEL_7e3e4fe1f56641a08d2d2c56d1be2b0f",
       "value": "100%"
      }
     },
     "41088a944a2946c7a65fe97e6ea9ba9a": {
      "model_module": "@jupyter-widgets/controls",
      "model_module_version": "1.5.0",
      "model_name": "DescriptionStyleModel",
      "state": {
       "_model_module": "@jupyter-widgets/controls",
       "_model_module_version": "1.5.0",
       "_model_name": "DescriptionStyleModel",
       "_view_count": null,
       "_view_module": "@jupyter-widgets/base",
       "_view_module_version": "1.2.0",
       "_view_name": "StyleView",
       "description_width": ""
      }
     },
     "4207b5c93f0f40fcb2202e46ce5a2f67": {
      "model_module": "@jupyter-widgets/controls",
      "model_module_version": "1.5.0",
      "model_name": "DescriptionStyleModel",
      "state": {
       "_model_module": "@jupyter-widgets/controls",
       "_model_module_version": "1.5.0",
       "_model_name": "DescriptionStyleModel",
       "_view_count": null,
       "_view_module": "@jupyter-widgets/base",
       "_view_module_version": "1.2.0",
       "_view_name": "StyleView",
       "description_width": ""
      }
     },
     "42ca07482e2648f1a350d4ce2f5f3778": {
      "model_module": "@jupyter-widgets/base",
      "model_module_version": "1.2.0",
      "model_name": "LayoutModel",
      "state": {
       "_model_module": "@jupyter-widgets/base",
       "_model_module_version": "1.2.0",
       "_model_name": "LayoutModel",
       "_view_count": null,
       "_view_module": "@jupyter-widgets/base",
       "_view_module_version": "1.2.0",
       "_view_name": "LayoutView",
       "align_content": null,
       "align_items": null,
       "align_self": null,
       "border": null,
       "bottom": null,
       "display": null,
       "flex": null,
       "flex_flow": null,
       "grid_area": null,
       "grid_auto_columns": null,
       "grid_auto_flow": null,
       "grid_auto_rows": null,
       "grid_column": null,
       "grid_gap": null,
       "grid_row": null,
       "grid_template_areas": null,
       "grid_template_columns": null,
       "grid_template_rows": null,
       "height": null,
       "justify_content": null,
       "justify_items": null,
       "left": null,
       "margin": null,
       "max_height": null,
       "max_width": null,
       "min_height": null,
       "min_width": null,
       "object_fit": null,
       "object_position": null,
       "order": null,
       "overflow": null,
       "overflow_x": null,
       "overflow_y": null,
       "padding": null,
       "right": null,
       "top": null,
       "visibility": null,
       "width": null
      }
     },
     "4307353f99a24596845de482a258e31a": {
      "model_module": "@jupyter-widgets/controls",
      "model_module_version": "1.5.0",
      "model_name": "ProgressStyleModel",
      "state": {
       "_model_module": "@jupyter-widgets/controls",
       "_model_module_version": "1.5.0",
       "_model_name": "ProgressStyleModel",
       "_view_count": null,
       "_view_module": "@jupyter-widgets/base",
       "_view_module_version": "1.2.0",
       "_view_name": "StyleView",
       "bar_color": null,
       "description_width": ""
      }
     },
     "44b57ca227e04d65aa99dabc7a0a893d": {
      "model_module": "@jupyter-widgets/controls",
      "model_module_version": "1.5.0",
      "model_name": "DescriptionStyleModel",
      "state": {
       "_model_module": "@jupyter-widgets/controls",
       "_model_module_version": "1.5.0",
       "_model_name": "DescriptionStyleModel",
       "_view_count": null,
       "_view_module": "@jupyter-widgets/base",
       "_view_module_version": "1.2.0",
       "_view_name": "StyleView",
       "description_width": ""
      }
     },
     "482e1e5b6a8543f4a771c49db6a8f09d": {
      "model_module": "@jupyter-widgets/controls",
      "model_module_version": "1.5.0",
      "model_name": "HTMLModel",
      "state": {
       "_dom_classes": [],
       "_model_module": "@jupyter-widgets/controls",
       "_model_module_version": "1.5.0",
       "_model_name": "HTMLModel",
       "_view_count": null,
       "_view_module": "@jupyter-widgets/controls",
       "_view_module_version": "1.5.0",
       "_view_name": "HTMLView",
       "description": "",
       "description_tooltip": null,
       "layout": "IPY_MODEL_e346cdba1f6544fd938d5ac6b8cd1f2a",
       "placeholder": "​",
       "style": "IPY_MODEL_865d2b15833f4a1b87592bcac1f1eff9",
       "value": " 1176/? [00:00&lt;00:00, 3830.64ex/s]"
      }
     },
     "48367c0c125c40a2af4247568096c39a": {
      "model_module": "@jupyter-widgets/base",
      "model_module_version": "1.2.0",
      "model_name": "LayoutModel",
      "state": {
       "_model_module": "@jupyter-widgets/base",
       "_model_module_version": "1.2.0",
       "_model_name": "LayoutModel",
       "_view_count": null,
       "_view_module": "@jupyter-widgets/base",
       "_view_module_version": "1.2.0",
       "_view_name": "LayoutView",
       "align_content": null,
       "align_items": null,
       "align_self": null,
       "border": null,
       "bottom": null,
       "display": null,
       "flex": null,
       "flex_flow": null,
       "grid_area": null,
       "grid_auto_columns": null,
       "grid_auto_flow": null,
       "grid_auto_rows": null,
       "grid_column": null,
       "grid_gap": null,
       "grid_row": null,
       "grid_template_areas": null,
       "grid_template_columns": null,
       "grid_template_rows": null,
       "height": null,
       "justify_content": null,
       "justify_items": null,
       "left": null,
       "margin": null,
       "max_height": null,
       "max_width": null,
       "min_height": null,
       "min_width": null,
       "object_fit": null,
       "object_position": null,
       "order": null,
       "overflow": null,
       "overflow_x": null,
       "overflow_y": null,
       "padding": null,
       "right": null,
       "top": null,
       "visibility": null,
       "width": null
      }
     },
     "48545bca3b9b4766b1f2715c1873591a": {
      "model_module": "@jupyter-widgets/controls",
      "model_module_version": "1.5.0",
      "model_name": "DescriptionStyleModel",
      "state": {
       "_model_module": "@jupyter-widgets/controls",
       "_model_module_version": "1.5.0",
       "_model_name": "DescriptionStyleModel",
       "_view_count": null,
       "_view_module": "@jupyter-widgets/base",
       "_view_module_version": "1.2.0",
       "_view_name": "StyleView",
       "description_width": ""
      }
     },
     "49f0f717c291435da0e6a74fa3462aec": {
      "model_module": "@jupyter-widgets/controls",
      "model_module_version": "1.5.0",
      "model_name": "HBoxModel",
      "state": {
       "_dom_classes": [],
       "_model_module": "@jupyter-widgets/controls",
       "_model_module_version": "1.5.0",
       "_model_name": "HBoxModel",
       "_view_count": null,
       "_view_module": "@jupyter-widgets/controls",
       "_view_module_version": "1.5.0",
       "_view_name": "HBoxView",
       "box_style": "",
       "children": [
        "IPY_MODEL_e8cc442a93b742a4acbc8682d15d17e4",
        "IPY_MODEL_7b5682c205fb4a44a90278c9dfd483ef",
        "IPY_MODEL_dc64f62118da48c193b196312e4dc24c"
       ],
       "layout": "IPY_MODEL_288e8f16bc89468f9efdfeac1204f4d0"
      }
     },
     "4cad9ed3d01e4536ac467e514a5003bd": {
      "model_module": "@jupyter-widgets/controls",
      "model_module_version": "1.5.0",
      "model_name": "ProgressStyleModel",
      "state": {
       "_model_module": "@jupyter-widgets/controls",
       "_model_module_version": "1.5.0",
       "_model_name": "ProgressStyleModel",
       "_view_count": null,
       "_view_module": "@jupyter-widgets/base",
       "_view_module_version": "1.2.0",
       "_view_name": "StyleView",
       "bar_color": null,
       "description_width": ""
      }
     },
     "4d04f02e7f1d4d29a60922ac696e5175": {
      "model_module": "@jupyter-widgets/controls",
      "model_module_version": "1.5.0",
      "model_name": "HBoxModel",
      "state": {
       "_dom_classes": [],
       "_model_module": "@jupyter-widgets/controls",
       "_model_module_version": "1.5.0",
       "_model_name": "HBoxModel",
       "_view_count": null,
       "_view_module": "@jupyter-widgets/controls",
       "_view_module_version": "1.5.0",
       "_view_name": "HBoxView",
       "box_style": "",
       "children": [
        "IPY_MODEL_ed5bea7b10474d129b168400f217da85",
        "IPY_MODEL_6d1fb78e932c4078aa5c35302774a73d",
        "IPY_MODEL_1fb14bc5cc224768b37bb56ac853cae0"
       ],
       "layout": "IPY_MODEL_7b184d9cdeb94fdb81e4a73b2539e3ae"
      }
     },
     "4da3945a3c3f46519d291e88929e4e37": {
      "model_module": "@jupyter-widgets/controls",
      "model_module_version": "1.5.0",
      "model_name": "HTMLModel",
      "state": {
       "_dom_classes": [],
       "_model_module": "@jupyter-widgets/controls",
       "_model_module_version": "1.5.0",
       "_model_name": "HTMLModel",
       "_view_count": null,
       "_view_module": "@jupyter-widgets/controls",
       "_view_module_version": "1.5.0",
       "_view_name": "HTMLView",
       "description": "",
       "description_tooltip": null,
       "layout": "IPY_MODEL_2165a410be2d49d4b08cce876bfabd0e",
       "placeholder": "​",
       "style": "IPY_MODEL_0beee21435394d61857734ac14f84841",
       "value": ""
      }
     },
     "4e7a695fb58f4f66adf68e2a0ced821c": {
      "model_module": "@jupyter-widgets/base",
      "model_module_version": "1.2.0",
      "model_name": "LayoutModel",
      "state": {
       "_model_module": "@jupyter-widgets/base",
       "_model_module_version": "1.2.0",
       "_model_name": "LayoutModel",
       "_view_count": null,
       "_view_module": "@jupyter-widgets/base",
       "_view_module_version": "1.2.0",
       "_view_name": "LayoutView",
       "align_content": null,
       "align_items": null,
       "align_self": null,
       "border": null,
       "bottom": null,
       "display": null,
       "flex": null,
       "flex_flow": null,
       "grid_area": null,
       "grid_auto_columns": null,
       "grid_auto_flow": null,
       "grid_auto_rows": null,
       "grid_column": null,
       "grid_gap": null,
       "grid_row": null,
       "grid_template_areas": null,
       "grid_template_columns": null,
       "grid_template_rows": null,
       "height": null,
       "justify_content": null,
       "justify_items": null,
       "left": null,
       "margin": null,
       "max_height": null,
       "max_width": null,
       "min_height": null,
       "min_width": null,
       "object_fit": null,
       "object_position": null,
       "order": null,
       "overflow": null,
       "overflow_x": null,
       "overflow_y": null,
       "padding": null,
       "right": null,
       "top": null,
       "visibility": null,
       "width": null
      }
     },
     "4f3656f02b92410b96c6d8a2ee6e12db": {
      "model_module": "@jupyter-widgets/base",
      "model_module_version": "1.2.0",
      "model_name": "LayoutModel",
      "state": {
       "_model_module": "@jupyter-widgets/base",
       "_model_module_version": "1.2.0",
       "_model_name": "LayoutModel",
       "_view_count": null,
       "_view_module": "@jupyter-widgets/base",
       "_view_module_version": "1.2.0",
       "_view_name": "LayoutView",
       "align_content": null,
       "align_items": null,
       "align_self": null,
       "border": null,
       "bottom": null,
       "display": null,
       "flex": null,
       "flex_flow": null,
       "grid_area": null,
       "grid_auto_columns": null,
       "grid_auto_flow": null,
       "grid_auto_rows": null,
       "grid_column": null,
       "grid_gap": null,
       "grid_row": null,
       "grid_template_areas": null,
       "grid_template_columns": null,
       "grid_template_rows": null,
       "height": null,
       "justify_content": null,
       "justify_items": null,
       "left": null,
       "margin": null,
       "max_height": null,
       "max_width": null,
       "min_height": null,
       "min_width": null,
       "object_fit": null,
       "object_position": null,
       "order": null,
       "overflow": null,
       "overflow_x": null,
       "overflow_y": null,
       "padding": null,
       "right": null,
       "top": null,
       "visibility": null,
       "width": null
      }
     },
     "507a23f121ff4224b51cfcbee8759e87": {
      "model_module": "@jupyter-widgets/base",
      "model_module_version": "1.2.0",
      "model_name": "LayoutModel",
      "state": {
       "_model_module": "@jupyter-widgets/base",
       "_model_module_version": "1.2.0",
       "_model_name": "LayoutModel",
       "_view_count": null,
       "_view_module": "@jupyter-widgets/base",
       "_view_module_version": "1.2.0",
       "_view_name": "LayoutView",
       "align_content": null,
       "align_items": null,
       "align_self": null,
       "border": null,
       "bottom": null,
       "display": null,
       "flex": null,
       "flex_flow": null,
       "grid_area": null,
       "grid_auto_columns": null,
       "grid_auto_flow": null,
       "grid_auto_rows": null,
       "grid_column": null,
       "grid_gap": null,
       "grid_row": null,
       "grid_template_areas": null,
       "grid_template_columns": null,
       "grid_template_rows": null,
       "height": null,
       "justify_content": null,
       "justify_items": null,
       "left": null,
       "margin": null,
       "max_height": null,
       "max_width": null,
       "min_height": null,
       "min_width": null,
       "object_fit": null,
       "object_position": null,
       "order": null,
       "overflow": null,
       "overflow_x": null,
       "overflow_y": null,
       "padding": null,
       "right": null,
       "top": null,
       "visibility": null,
       "width": null
      }
     },
     "5176ad9aaaec4ae0be159d1b07c90b6d": {
      "model_module": "@jupyter-widgets/controls",
      "model_module_version": "1.5.0",
      "model_name": "DescriptionStyleModel",
      "state": {
       "_model_module": "@jupyter-widgets/controls",
       "_model_module_version": "1.5.0",
       "_model_name": "DescriptionStyleModel",
       "_view_count": null,
       "_view_module": "@jupyter-widgets/base",
       "_view_module_version": "1.2.0",
       "_view_name": "StyleView",
       "description_width": ""
      }
     },
     "53a24795394e4d4b9e5f326e1cdaa654": {
      "model_module": "@jupyter-widgets/base",
      "model_module_version": "1.2.0",
      "model_name": "LayoutModel",
      "state": {
       "_model_module": "@jupyter-widgets/base",
       "_model_module_version": "1.2.0",
       "_model_name": "LayoutModel",
       "_view_count": null,
       "_view_module": "@jupyter-widgets/base",
       "_view_module_version": "1.2.0",
       "_view_name": "LayoutView",
       "align_content": null,
       "align_items": null,
       "align_self": null,
       "border": null,
       "bottom": null,
       "display": null,
       "flex": null,
       "flex_flow": null,
       "grid_area": null,
       "grid_auto_columns": null,
       "grid_auto_flow": null,
       "grid_auto_rows": null,
       "grid_column": null,
       "grid_gap": null,
       "grid_row": null,
       "grid_template_areas": null,
       "grid_template_columns": null,
       "grid_template_rows": null,
       "height": null,
       "justify_content": null,
       "justify_items": null,
       "left": null,
       "margin": null,
       "max_height": null,
       "max_width": null,
       "min_height": null,
       "min_width": null,
       "object_fit": null,
       "object_position": null,
       "order": null,
       "overflow": null,
       "overflow_x": null,
       "overflow_y": null,
       "padding": null,
       "right": null,
       "top": null,
       "visibility": null,
       "width": null
      }
     },
     "541a6511ad6f4d45a38324eedc94ae2d": {
      "model_module": "@jupyter-widgets/base",
      "model_module_version": "1.2.0",
      "model_name": "LayoutModel",
      "state": {
       "_model_module": "@jupyter-widgets/base",
       "_model_module_version": "1.2.0",
       "_model_name": "LayoutModel",
       "_view_count": null,
       "_view_module": "@jupyter-widgets/base",
       "_view_module_version": "1.2.0",
       "_view_name": "LayoutView",
       "align_content": null,
       "align_items": null,
       "align_self": null,
       "border": null,
       "bottom": null,
       "display": null,
       "flex": null,
       "flex_flow": null,
       "grid_area": null,
       "grid_auto_columns": null,
       "grid_auto_flow": null,
       "grid_auto_rows": null,
       "grid_column": null,
       "grid_gap": null,
       "grid_row": null,
       "grid_template_areas": null,
       "grid_template_columns": null,
       "grid_template_rows": null,
       "height": null,
       "justify_content": null,
       "justify_items": null,
       "left": null,
       "margin": null,
       "max_height": null,
       "max_width": null,
       "min_height": null,
       "min_width": null,
       "object_fit": null,
       "object_position": null,
       "order": null,
       "overflow": null,
       "overflow_x": null,
       "overflow_y": null,
       "padding": null,
       "right": null,
       "top": null,
       "visibility": null,
       "width": "20px"
      }
     },
     "54451eb1ea4c4204a5cde14b65c743b9": {
      "model_module": "@jupyter-widgets/controls",
      "model_module_version": "1.5.0",
      "model_name": "HTMLModel",
      "state": {
       "_dom_classes": [],
       "_model_module": "@jupyter-widgets/controls",
       "_model_module_version": "1.5.0",
       "_model_name": "HTMLModel",
       "_view_count": null,
       "_view_module": "@jupyter-widgets/controls",
       "_view_module_version": "1.5.0",
       "_view_name": "HTMLView",
       "description": "",
       "description_tooltip": null,
       "layout": "IPY_MODEL_105592daebd948ad9d3fbaa56150f481",
       "placeholder": "​",
       "style": "IPY_MODEL_57b7ef50650543558dc4875b9e0c0dca",
       "value": "Downloading: 100%"
      }
     },
     "54e162776923461d99b0fd02b189dac5": {
      "model_module": "@jupyter-widgets/controls",
      "model_module_version": "1.5.0",
      "model_name": "HBoxModel",
      "state": {
       "_dom_classes": [],
       "_model_module": "@jupyter-widgets/controls",
       "_model_module_version": "1.5.0",
       "_model_name": "HBoxModel",
       "_view_count": null,
       "_view_module": "@jupyter-widgets/controls",
       "_view_module_version": "1.5.0",
       "_view_name": "HBoxView",
       "box_style": "",
       "children": [
        "IPY_MODEL_ebc5143422e245b1aa2a14e8d0788606",
        "IPY_MODEL_cd4cf8586bff481394a3557fd660cd7a",
        "IPY_MODEL_0e59102637e94fd2b2dee6ef2030bac6"
       ],
       "layout": "IPY_MODEL_5930a92c17954a8dacc7dac70b0e4d45"
      }
     },
     "5516923a224946a4838e53972578f6c2": {
      "model_module": "@jupyter-widgets/base",
      "model_module_version": "1.2.0",
      "model_name": "LayoutModel",
      "state": {
       "_model_module": "@jupyter-widgets/base",
       "_model_module_version": "1.2.0",
       "_model_name": "LayoutModel",
       "_view_count": null,
       "_view_module": "@jupyter-widgets/base",
       "_view_module_version": "1.2.0",
       "_view_name": "LayoutView",
       "align_content": null,
       "align_items": null,
       "align_self": null,
       "border": null,
       "bottom": null,
       "display": null,
       "flex": null,
       "flex_flow": null,
       "grid_area": null,
       "grid_auto_columns": null,
       "grid_auto_flow": null,
       "grid_auto_rows": null,
       "grid_column": null,
       "grid_gap": null,
       "grid_row": null,
       "grid_template_areas": null,
       "grid_template_columns": null,
       "grid_template_rows": null,
       "height": null,
       "justify_content": null,
       "justify_items": null,
       "left": null,
       "margin": null,
       "max_height": null,
       "max_width": null,
       "min_height": null,
       "min_width": null,
       "object_fit": null,
       "object_position": null,
       "order": null,
       "overflow": null,
       "overflow_x": null,
       "overflow_y": null,
       "padding": null,
       "right": null,
       "top": null,
       "visibility": null,
       "width": null
      }
     },
     "56e5938506784988a7b75c477308ad7e": {
      "model_module": "@jupyter-widgets/controls",
      "model_module_version": "1.5.0",
      "model_name": "FloatProgressModel",
      "state": {
       "_dom_classes": [],
       "_model_module": "@jupyter-widgets/controls",
       "_model_module_version": "1.5.0",
       "_model_name": "FloatProgressModel",
       "_view_count": null,
       "_view_module": "@jupyter-widgets/controls",
       "_view_module_version": "1.5.0",
       "_view_name": "ProgressView",
       "bar_style": "success",
       "description": "",
       "description_tooltip": null,
       "layout": "IPY_MODEL_89472b2afdae48c3b24bbd997ade71e9",
       "max": 1.0,
       "min": 0.0,
       "orientation": "horizontal",
       "style": "IPY_MODEL_bd1516f241b14d46b32f948288a501a7",
       "value": 1.0
      }
     },
     "57b7ef50650543558dc4875b9e0c0dca": {
      "model_module": "@jupyter-widgets/controls",
      "model_module_version": "1.5.0",
      "model_name": "DescriptionStyleModel",
      "state": {
       "_model_module": "@jupyter-widgets/controls",
       "_model_module_version": "1.5.0",
       "_model_name": "DescriptionStyleModel",
       "_view_count": null,
       "_view_module": "@jupyter-widgets/base",
       "_view_module_version": "1.2.0",
       "_view_name": "StyleView",
       "description_width": ""
      }
     },
     "5930a92c17954a8dacc7dac70b0e4d45": {
      "model_module": "@jupyter-widgets/base",
      "model_module_version": "1.2.0",
      "model_name": "LayoutModel",
      "state": {
       "_model_module": "@jupyter-widgets/base",
       "_model_module_version": "1.2.0",
       "_model_name": "LayoutModel",
       "_view_count": null,
       "_view_module": "@jupyter-widgets/base",
       "_view_module_version": "1.2.0",
       "_view_name": "LayoutView",
       "align_content": null,
       "align_items": null,
       "align_self": null,
       "border": null,
       "bottom": null,
       "display": null,
       "flex": null,
       "flex_flow": null,
       "grid_area": null,
       "grid_auto_columns": null,
       "grid_auto_flow": null,
       "grid_auto_rows": null,
       "grid_column": null,
       "grid_gap": null,
       "grid_row": null,
       "grid_template_areas": null,
       "grid_template_columns": null,
       "grid_template_rows": null,
       "height": null,
       "justify_content": null,
       "justify_items": null,
       "left": null,
       "margin": null,
       "max_height": null,
       "max_width": null,
       "min_height": null,
       "min_width": null,
       "object_fit": null,
       "object_position": null,
       "order": null,
       "overflow": null,
       "overflow_x": null,
       "overflow_y": null,
       "padding": null,
       "right": null,
       "top": null,
       "visibility": null,
       "width": null
      }
     },
     "59be0a2349a849fda06d2d87f1b21a0a": {
      "model_module": "@jupyter-widgets/base",
      "model_module_version": "1.2.0",
      "model_name": "LayoutModel",
      "state": {
       "_model_module": "@jupyter-widgets/base",
       "_model_module_version": "1.2.0",
       "_model_name": "LayoutModel",
       "_view_count": null,
       "_view_module": "@jupyter-widgets/base",
       "_view_module_version": "1.2.0",
       "_view_name": "LayoutView",
       "align_content": null,
       "align_items": null,
       "align_self": null,
       "border": null,
       "bottom": null,
       "display": null,
       "flex": null,
       "flex_flow": null,
       "grid_area": null,
       "grid_auto_columns": null,
       "grid_auto_flow": null,
       "grid_auto_rows": null,
       "grid_column": null,
       "grid_gap": null,
       "grid_row": null,
       "grid_template_areas": null,
       "grid_template_columns": null,
       "grid_template_rows": null,
       "height": null,
       "justify_content": null,
       "justify_items": null,
       "left": null,
       "margin": null,
       "max_height": null,
       "max_width": null,
       "min_height": null,
       "min_width": null,
       "object_fit": null,
       "object_position": null,
       "order": null,
       "overflow": null,
       "overflow_x": null,
       "overflow_y": null,
       "padding": null,
       "right": null,
       "top": null,
       "visibility": null,
       "width": null
      }
     },
     "5ae2fa412e4c4a2d9b7232a09df324a7": {
      "model_module": "@jupyter-widgets/controls",
      "model_module_version": "1.5.0",
      "model_name": "FloatProgressModel",
      "state": {
       "_dom_classes": [],
       "_model_module": "@jupyter-widgets/controls",
       "_model_module_version": "1.5.0",
       "_model_name": "FloatProgressModel",
       "_view_count": null,
       "_view_module": "@jupyter-widgets/controls",
       "_view_module_version": "1.5.0",
       "_view_name": "ProgressView",
       "bar_style": "success",
       "description": "",
       "description_tooltip": null,
       "layout": "IPY_MODEL_741ecc69c7854e70ae45eb8265f36b93",
       "max": 1.0,
       "min": 0.0,
       "orientation": "horizontal",
       "style": "IPY_MODEL_3a11e74cbeb34a478256ceaf4f2e08bb",
       "value": 1.0
      }
     },
     "5b7d15a445684bce9d5b2ff4f4b2eae4": {
      "model_module": "@jupyter-widgets/base",
      "model_module_version": "1.2.0",
      "model_name": "LayoutModel",
      "state": {
       "_model_module": "@jupyter-widgets/base",
       "_model_module_version": "1.2.0",
       "_model_name": "LayoutModel",
       "_view_count": null,
       "_view_module": "@jupyter-widgets/base",
       "_view_module_version": "1.2.0",
       "_view_name": "LayoutView",
       "align_content": null,
       "align_items": null,
       "align_self": null,
       "border": null,
       "bottom": null,
       "display": null,
       "flex": null,
       "flex_flow": null,
       "grid_area": null,
       "grid_auto_columns": null,
       "grid_auto_flow": null,
       "grid_auto_rows": null,
       "grid_column": null,
       "grid_gap": null,
       "grid_row": null,
       "grid_template_areas": null,
       "grid_template_columns": null,
       "grid_template_rows": null,
       "height": null,
       "justify_content": null,
       "justify_items": null,
       "left": null,
       "margin": null,
       "max_height": null,
       "max_width": null,
       "min_height": null,
       "min_width": null,
       "object_fit": null,
       "object_position": null,
       "order": null,
       "overflow": null,
       "overflow_x": null,
       "overflow_y": null,
       "padding": null,
       "right": null,
       "top": null,
       "visibility": null,
       "width": null
      }
     },
     "5c5cb22710674aeda29156dfa08a7271": {
      "model_module": "@jupyter-widgets/controls",
      "model_module_version": "1.5.0",
      "model_name": "FloatProgressModel",
      "state": {
       "_dom_classes": [],
       "_model_module": "@jupyter-widgets/controls",
       "_model_module_version": "1.5.0",
       "_model_name": "FloatProgressModel",
       "_view_count": null,
       "_view_module": "@jupyter-widgets/controls",
       "_view_module_version": "1.5.0",
       "_view_name": "ProgressView",
       "bar_style": "success",
       "description": "",
       "description_tooltip": null,
       "layout": "IPY_MODEL_676599b7fa3b4ba591eefcc4952c22fd",
       "max": 1.0,
       "min": 0.0,
       "orientation": "horizontal",
       "style": "IPY_MODEL_f4132c66b8ea42f184b69e20403b29fc",
       "value": 1.0
      }
     },
     "5c6e4d02d9cd4fb48b36b6bc75530c6a": {
      "model_module": "@jupyter-widgets/controls",
      "model_module_version": "1.5.0",
      "model_name": "HTMLModel",
      "state": {
       "_dom_classes": [],
       "_model_module": "@jupyter-widgets/controls",
       "_model_module_version": "1.5.0",
       "_model_name": "HTMLModel",
       "_view_count": null,
       "_view_module": "@jupyter-widgets/controls",
       "_view_module_version": "1.5.0",
       "_view_name": "HTMLView",
       "description": "",
       "description_tooltip": null,
       "layout": "IPY_MODEL_dd407cf8265645078f980c0ae58288cc",
       "placeholder": "​",
       "style": "IPY_MODEL_7a18bb3fda8d4896a4171f3fb4a7cebc",
       "value": " 1.04G/1.04G [00:23&lt;00:00, 51.1MB/s]"
      }
     },
     "5f1abe5d8a1145969f7398e5b2d7392e": {
      "model_module": "@jupyter-widgets/controls",
      "model_module_version": "1.5.0",
      "model_name": "ProgressStyleModel",
      "state": {
       "_model_module": "@jupyter-widgets/controls",
       "_model_module_version": "1.5.0",
       "_model_name": "ProgressStyleModel",
       "_view_count": null,
       "_view_module": "@jupyter-widgets/base",
       "_view_module_version": "1.2.0",
       "_view_name": "StyleView",
       "bar_color": null,
       "description_width": ""
      }
     },
     "5f2ba4c324fa46ccbeebe666edb49fd8": {
      "model_module": "@jupyter-widgets/base",
      "model_module_version": "1.2.0",
      "model_name": "LayoutModel",
      "state": {
       "_model_module": "@jupyter-widgets/base",
       "_model_module_version": "1.2.0",
       "_model_name": "LayoutModel",
       "_view_count": null,
       "_view_module": "@jupyter-widgets/base",
       "_view_module_version": "1.2.0",
       "_view_name": "LayoutView",
       "align_content": null,
       "align_items": null,
       "align_self": null,
       "border": null,
       "bottom": null,
       "display": null,
       "flex": null,
       "flex_flow": null,
       "grid_area": null,
       "grid_auto_columns": null,
       "grid_auto_flow": null,
       "grid_auto_rows": null,
       "grid_column": null,
       "grid_gap": null,
       "grid_row": null,
       "grid_template_areas": null,
       "grid_template_columns": null,
       "grid_template_rows": null,
       "height": null,
       "justify_content": null,
       "justify_items": null,
       "left": null,
       "margin": null,
       "max_height": null,
       "max_width": null,
       "min_height": null,
       "min_width": null,
       "object_fit": null,
       "object_position": null,
       "order": null,
       "overflow": null,
       "overflow_x": null,
       "overflow_y": null,
       "padding": null,
       "right": null,
       "top": null,
       "visibility": null,
       "width": null
      }
     },
     "67211a8d63a64fc18dc13ba6366f8486": {
      "model_module": "@jupyter-widgets/base",
      "model_module_version": "1.2.0",
      "model_name": "LayoutModel",
      "state": {
       "_model_module": "@jupyter-widgets/base",
       "_model_module_version": "1.2.0",
       "_model_name": "LayoutModel",
       "_view_count": null,
       "_view_module": "@jupyter-widgets/base",
       "_view_module_version": "1.2.0",
       "_view_name": "LayoutView",
       "align_content": null,
       "align_items": null,
       "align_self": null,
       "border": null,
       "bottom": null,
       "display": null,
       "flex": null,
       "flex_flow": null,
       "grid_area": null,
       "grid_auto_columns": null,
       "grid_auto_flow": null,
       "grid_auto_rows": null,
       "grid_column": null,
       "grid_gap": null,
       "grid_row": null,
       "grid_template_areas": null,
       "grid_template_columns": null,
       "grid_template_rows": null,
       "height": null,
       "justify_content": null,
       "justify_items": null,
       "left": null,
       "margin": null,
       "max_height": null,
       "max_width": null,
       "min_height": null,
       "min_width": null,
       "object_fit": null,
       "object_position": null,
       "order": null,
       "overflow": null,
       "overflow_x": null,
       "overflow_y": null,
       "padding": null,
       "right": null,
       "top": null,
       "visibility": null,
       "width": null
      }
     },
     "676599b7fa3b4ba591eefcc4952c22fd": {
      "model_module": "@jupyter-widgets/base",
      "model_module_version": "1.2.0",
      "model_name": "LayoutModel",
      "state": {
       "_model_module": "@jupyter-widgets/base",
       "_model_module_version": "1.2.0",
       "_model_name": "LayoutModel",
       "_view_count": null,
       "_view_module": "@jupyter-widgets/base",
       "_view_module_version": "1.2.0",
       "_view_name": "LayoutView",
       "align_content": null,
       "align_items": null,
       "align_self": null,
       "border": null,
       "bottom": null,
       "display": null,
       "flex": null,
       "flex_flow": null,
       "grid_area": null,
       "grid_auto_columns": null,
       "grid_auto_flow": null,
       "grid_auto_rows": null,
       "grid_column": null,
       "grid_gap": null,
       "grid_row": null,
       "grid_template_areas": null,
       "grid_template_columns": null,
       "grid_template_rows": null,
       "height": null,
       "justify_content": null,
       "justify_items": null,
       "left": null,
       "margin": null,
       "max_height": null,
       "max_width": null,
       "min_height": null,
       "min_width": null,
       "object_fit": null,
       "object_position": null,
       "order": null,
       "overflow": null,
       "overflow_x": null,
       "overflow_y": null,
       "padding": null,
       "right": null,
       "top": null,
       "visibility": null,
       "width": "20px"
      }
     },
     "67d5b7761b594eb7b18fde33edafb187": {
      "model_module": "@jupyter-widgets/base",
      "model_module_version": "1.2.0",
      "model_name": "LayoutModel",
      "state": {
       "_model_module": "@jupyter-widgets/base",
       "_model_module_version": "1.2.0",
       "_model_name": "LayoutModel",
       "_view_count": null,
       "_view_module": "@jupyter-widgets/base",
       "_view_module_version": "1.2.0",
       "_view_name": "LayoutView",
       "align_content": null,
       "align_items": null,
       "align_self": null,
       "border": null,
       "bottom": null,
       "display": null,
       "flex": null,
       "flex_flow": null,
       "grid_area": null,
       "grid_auto_columns": null,
       "grid_auto_flow": null,
       "grid_auto_rows": null,
       "grid_column": null,
       "grid_gap": null,
       "grid_row": null,
       "grid_template_areas": null,
       "grid_template_columns": null,
       "grid_template_rows": null,
       "height": null,
       "justify_content": null,
       "justify_items": null,
       "left": null,
       "margin": null,
       "max_height": null,
       "max_width": null,
       "min_height": null,
       "min_width": null,
       "object_fit": null,
       "object_position": null,
       "order": null,
       "overflow": null,
       "overflow_x": null,
       "overflow_y": null,
       "padding": null,
       "right": null,
       "top": null,
       "visibility": null,
       "width": null
      }
     },
     "6d1fb78e932c4078aa5c35302774a73d": {
      "model_module": "@jupyter-widgets/controls",
      "model_module_version": "1.5.0",
      "model_name": "FloatProgressModel",
      "state": {
       "_dom_classes": [],
       "_model_module": "@jupyter-widgets/controls",
       "_model_module_version": "1.5.0",
       "_model_name": "FloatProgressModel",
       "_view_count": null,
       "_view_module": "@jupyter-widgets/controls",
       "_view_module_version": "1.5.0",
       "_view_name": "ProgressView",
       "bar_style": "success",
       "description": "",
       "description_tooltip": null,
       "layout": "IPY_MODEL_5b7d15a445684bce9d5b2ff4f4b2eae4",
       "max": 9096718.0,
       "min": 0.0,
       "orientation": "horizontal",
       "style": "IPY_MODEL_a5e6338fe3f446c5bd6bc209d2c171b9",
       "value": 9096718.0
      }
     },
     "6e089868d73d4e59808110a8631a0a5b": {
      "model_module": "@jupyter-widgets/controls",
      "model_module_version": "1.5.0",
      "model_name": "HTMLModel",
      "state": {
       "_dom_classes": [],
       "_model_module": "@jupyter-widgets/controls",
       "_model_module_version": "1.5.0",
       "_model_name": "HTMLModel",
       "_view_count": null,
       "_view_module": "@jupyter-widgets/controls",
       "_view_module_version": "1.5.0",
       "_view_name": "HTMLView",
       "description": "",
       "description_tooltip": null,
       "layout": "IPY_MODEL_7589b6779e544e31a1cd23c78c8ff3b5",
       "placeholder": "​",
       "style": "IPY_MODEL_8d0ca6a71c8243608f4a02fbe2a954dc",
       "value": ""
      }
     },
     "6eea41d77f6b4f45a076fe5047452cb5": {
      "model_module": "@jupyter-widgets/controls",
      "model_module_version": "1.5.0",
      "model_name": "HTMLModel",
      "state": {
       "_dom_classes": [],
       "_model_module": "@jupyter-widgets/controls",
       "_model_module_version": "1.5.0",
       "_model_name": "HTMLModel",
       "_view_count": null,
       "_view_module": "@jupyter-widgets/controls",
       "_view_module_version": "1.5.0",
       "_view_name": "HTMLView",
       "description": "",
       "description_tooltip": null,
       "layout": "IPY_MODEL_a9b9697496c4408ea5d86316c26b840e",
       "placeholder": "​",
       "style": "IPY_MODEL_48545bca3b9b4766b1f2715c1873591a",
       "value": ""
      }
     },
     "7102d46f2c8c432a9f589f9acd44a5bd": {
      "model_module": "@jupyter-widgets/base",
      "model_module_version": "1.2.0",
      "model_name": "LayoutModel",
      "state": {
       "_model_module": "@jupyter-widgets/base",
       "_model_module_version": "1.2.0",
       "_model_name": "LayoutModel",
       "_view_count": null,
       "_view_module": "@jupyter-widgets/base",
       "_view_module_version": "1.2.0",
       "_view_name": "LayoutView",
       "align_content": null,
       "align_items": null,
       "align_self": null,
       "border": null,
       "bottom": null,
       "display": null,
       "flex": null,
       "flex_flow": null,
       "grid_area": null,
       "grid_auto_columns": null,
       "grid_auto_flow": null,
       "grid_auto_rows": null,
       "grid_column": null,
       "grid_gap": null,
       "grid_row": null,
       "grid_template_areas": null,
       "grid_template_columns": null,
       "grid_template_rows": null,
       "height": null,
       "justify_content": null,
       "justify_items": null,
       "left": null,
       "margin": null,
       "max_height": null,
       "max_width": null,
       "min_height": null,
       "min_width": null,
       "object_fit": null,
       "object_position": null,
       "order": null,
       "overflow": null,
       "overflow_x": null,
       "overflow_y": null,
       "padding": null,
       "right": null,
       "top": null,
       "visibility": null,
       "width": null
      }
     },
     "720c4ce93b3c4c7080e89073ba83fdbb": {
      "model_module": "@jupyter-widgets/controls",
      "model_module_version": "1.5.0",
      "model_name": "FloatProgressModel",
      "state": {
       "_dom_classes": [],
       "_model_module": "@jupyter-widgets/controls",
       "_model_module_version": "1.5.0",
       "_model_name": "FloatProgressModel",
       "_view_count": null,
       "_view_module": "@jupyter-widgets/controls",
       "_view_module_version": "1.5.0",
       "_view_name": "ProgressView",
       "bar_style": "success",
       "description": "",
       "description_tooltip": null,
       "layout": "IPY_MODEL_f5ccaf200b8549c280c5cfcda8e02806",
       "max": 1.0,
       "min": 0.0,
       "orientation": "horizontal",
       "style": "IPY_MODEL_725e072ca8a74062ad318b3d2c08da71",
       "value": 1.0
      }
     },
     "725e072ca8a74062ad318b3d2c08da71": {
      "model_module": "@jupyter-widgets/controls",
      "model_module_version": "1.5.0",
      "model_name": "ProgressStyleModel",
      "state": {
       "_model_module": "@jupyter-widgets/controls",
       "_model_module_version": "1.5.0",
       "_model_name": "ProgressStyleModel",
       "_view_count": null,
       "_view_module": "@jupyter-widgets/base",
       "_view_module_version": "1.2.0",
       "_view_name": "StyleView",
       "bar_color": null,
       "description_width": ""
      }
     },
     "726262bbefb1471491c298d4c27fc21b": {
      "model_module": "@jupyter-widgets/base",
      "model_module_version": "1.2.0",
      "model_name": "LayoutModel",
      "state": {
       "_model_module": "@jupyter-widgets/base",
       "_model_module_version": "1.2.0",
       "_model_name": "LayoutModel",
       "_view_count": null,
       "_view_module": "@jupyter-widgets/base",
       "_view_module_version": "1.2.0",
       "_view_name": "LayoutView",
       "align_content": null,
       "align_items": null,
       "align_self": null,
       "border": null,
       "bottom": null,
       "display": null,
       "flex": null,
       "flex_flow": null,
       "grid_area": null,
       "grid_auto_columns": null,
       "grid_auto_flow": null,
       "grid_auto_rows": null,
       "grid_column": null,
       "grid_gap": null,
       "grid_row": null,
       "grid_template_areas": null,
       "grid_template_columns": null,
       "grid_template_rows": null,
       "height": null,
       "justify_content": null,
       "justify_items": null,
       "left": null,
       "margin": null,
       "max_height": null,
       "max_width": null,
       "min_height": null,
       "min_width": null,
       "object_fit": null,
       "object_position": null,
       "order": null,
       "overflow": null,
       "overflow_x": null,
       "overflow_y": null,
       "padding": null,
       "right": null,
       "top": null,
       "visibility": null,
       "width": null
      }
     },
     "73eb90d3613b42a991fc7dc31b436b15": {
      "model_module": "@jupyter-widgets/base",
      "model_module_version": "1.2.0",
      "model_name": "LayoutModel",
      "state": {
       "_model_module": "@jupyter-widgets/base",
       "_model_module_version": "1.2.0",
       "_model_name": "LayoutModel",
       "_view_count": null,
       "_view_module": "@jupyter-widgets/base",
       "_view_module_version": "1.2.0",
       "_view_name": "LayoutView",
       "align_content": null,
       "align_items": null,
       "align_self": null,
       "border": null,
       "bottom": null,
       "display": null,
       "flex": null,
       "flex_flow": null,
       "grid_area": null,
       "grid_auto_columns": null,
       "grid_auto_flow": null,
       "grid_auto_rows": null,
       "grid_column": null,
       "grid_gap": null,
       "grid_row": null,
       "grid_template_areas": null,
       "grid_template_columns": null,
       "grid_template_rows": null,
       "height": null,
       "justify_content": null,
       "justify_items": null,
       "left": null,
       "margin": null,
       "max_height": null,
       "max_width": null,
       "min_height": null,
       "min_width": null,
       "object_fit": null,
       "object_position": null,
       "order": null,
       "overflow": null,
       "overflow_x": null,
       "overflow_y": null,
       "padding": null,
       "right": null,
       "top": null,
       "visibility": null,
       "width": null
      }
     },
     "741ecc69c7854e70ae45eb8265f36b93": {
      "model_module": "@jupyter-widgets/base",
      "model_module_version": "1.2.0",
      "model_name": "LayoutModel",
      "state": {
       "_model_module": "@jupyter-widgets/base",
       "_model_module_version": "1.2.0",
       "_model_name": "LayoutModel",
       "_view_count": null,
       "_view_module": "@jupyter-widgets/base",
       "_view_module_version": "1.2.0",
       "_view_name": "LayoutView",
       "align_content": null,
       "align_items": null,
       "align_self": null,
       "border": null,
       "bottom": null,
       "display": null,
       "flex": null,
       "flex_flow": null,
       "grid_area": null,
       "grid_auto_columns": null,
       "grid_auto_flow": null,
       "grid_auto_rows": null,
       "grid_column": null,
       "grid_gap": null,
       "grid_row": null,
       "grid_template_areas": null,
       "grid_template_columns": null,
       "grid_template_rows": null,
       "height": null,
       "justify_content": null,
       "justify_items": null,
       "left": null,
       "margin": null,
       "max_height": null,
       "max_width": null,
       "min_height": null,
       "min_width": null,
       "object_fit": null,
       "object_position": null,
       "order": null,
       "overflow": null,
       "overflow_x": null,
       "overflow_y": null,
       "padding": null,
       "right": null,
       "top": null,
       "visibility": null,
       "width": "20px"
      }
     },
     "7589b6779e544e31a1cd23c78c8ff3b5": {
      "model_module": "@jupyter-widgets/base",
      "model_module_version": "1.2.0",
      "model_name": "LayoutModel",
      "state": {
       "_model_module": "@jupyter-widgets/base",
       "_model_module_version": "1.2.0",
       "_model_name": "LayoutModel",
       "_view_count": null,
       "_view_module": "@jupyter-widgets/base",
       "_view_module_version": "1.2.0",
       "_view_name": "LayoutView",
       "align_content": null,
       "align_items": null,
       "align_self": null,
       "border": null,
       "bottom": null,
       "display": null,
       "flex": null,
       "flex_flow": null,
       "grid_area": null,
       "grid_auto_columns": null,
       "grid_auto_flow": null,
       "grid_auto_rows": null,
       "grid_column": null,
       "grid_gap": null,
       "grid_row": null,
       "grid_template_areas": null,
       "grid_template_columns": null,
       "grid_template_rows": null,
       "height": null,
       "justify_content": null,
       "justify_items": null,
       "left": null,
       "margin": null,
       "max_height": null,
       "max_width": null,
       "min_height": null,
       "min_width": null,
       "object_fit": null,
       "object_position": null,
       "order": null,
       "overflow": null,
       "overflow_x": null,
       "overflow_y": null,
       "padding": null,
       "right": null,
       "top": null,
       "visibility": null,
       "width": null
      }
     },
     "77e1548ac3ef4996a9044ab178b63494": {
      "model_module": "@jupyter-widgets/controls",
      "model_module_version": "1.5.0",
      "model_name": "DescriptionStyleModel",
      "state": {
       "_model_module": "@jupyter-widgets/controls",
       "_model_module_version": "1.5.0",
       "_model_name": "DescriptionStyleModel",
       "_view_count": null,
       "_view_module": "@jupyter-widgets/base",
       "_view_module_version": "1.2.0",
       "_view_name": "StyleView",
       "description_width": ""
      }
     },
     "783513644eed43feac4601f26163f95d": {
      "model_module": "@jupyter-widgets/controls",
      "model_module_version": "1.5.0",
      "model_name": "HTMLModel",
      "state": {
       "_dom_classes": [],
       "_model_module": "@jupyter-widgets/controls",
       "_model_module_version": "1.5.0",
       "_model_name": "HTMLModel",
       "_view_count": null,
       "_view_module": "@jupyter-widgets/controls",
       "_view_module_version": "1.5.0",
       "_view_name": "HTMLView",
       "description": "",
       "description_tooltip": null,
       "layout": "IPY_MODEL_f531313f5b5d4ca18eafffbcfe1ca58f",
       "placeholder": "​",
       "style": "IPY_MODEL_331a4237525447d18f79e23778b2a00f",
       "value": ""
      }
     },
     "7893643195084b9984480703870e1fff": {
      "model_module": "@jupyter-widgets/controls",
      "model_module_version": "1.5.0",
      "model_name": "DescriptionStyleModel",
      "state": {
       "_model_module": "@jupyter-widgets/controls",
       "_model_module_version": "1.5.0",
       "_model_name": "DescriptionStyleModel",
       "_view_count": null,
       "_view_module": "@jupyter-widgets/base",
       "_view_module_version": "1.2.0",
       "_view_name": "StyleView",
       "description_width": ""
      }
     },
     "7999cad743a744d1b445871ccae96870": {
      "model_module": "@jupyter-widgets/controls",
      "model_module_version": "1.5.0",
      "model_name": "FloatProgressModel",
      "state": {
       "_dom_classes": [],
       "_model_module": "@jupyter-widgets/controls",
       "_model_module_version": "1.5.0",
       "_model_name": "FloatProgressModel",
       "_view_count": null,
       "_view_module": "@jupyter-widgets/controls",
       "_view_module_version": "1.5.0",
       "_view_name": "ProgressView",
       "bar_style": "success",
       "description": "",
       "description_tooltip": null,
       "layout": "IPY_MODEL_063b5648ed0740a0894701916b80f0bf",
       "max": 1115590446.0,
       "min": 0.0,
       "orientation": "horizontal",
       "style": "IPY_MODEL_e2e9e2af9bf54cf19cacc03b92f881ec",
       "value": 1115590446.0
      }
     },
     "7a18bb3fda8d4896a4171f3fb4a7cebc": {
      "model_module": "@jupyter-widgets/controls",
      "model_module_version": "1.5.0",
      "model_name": "DescriptionStyleModel",
      "state": {
       "_model_module": "@jupyter-widgets/controls",
       "_model_module_version": "1.5.0",
       "_model_name": "DescriptionStyleModel",
       "_view_count": null,
       "_view_module": "@jupyter-widgets/base",
       "_view_module_version": "1.2.0",
       "_view_name": "StyleView",
       "description_width": ""
      }
     },
     "7a8d091cded4458ca257e3e686b11a5d": {
      "model_module": "@jupyter-widgets/controls",
      "model_module_version": "1.5.0",
      "model_name": "DescriptionStyleModel",
      "state": {
       "_model_module": "@jupyter-widgets/controls",
       "_model_module_version": "1.5.0",
       "_model_name": "DescriptionStyleModel",
       "_view_count": null,
       "_view_module": "@jupyter-widgets/base",
       "_view_module_version": "1.2.0",
       "_view_name": "StyleView",
       "description_width": ""
      }
     },
     "7b184d9cdeb94fdb81e4a73b2539e3ae": {
      "model_module": "@jupyter-widgets/base",
      "model_module_version": "1.2.0",
      "model_name": "LayoutModel",
      "state": {
       "_model_module": "@jupyter-widgets/base",
       "_model_module_version": "1.2.0",
       "_model_name": "LayoutModel",
       "_view_count": null,
       "_view_module": "@jupyter-widgets/base",
       "_view_module_version": "1.2.0",
       "_view_name": "LayoutView",
       "align_content": null,
       "align_items": null,
       "align_self": null,
       "border": null,
       "bottom": null,
       "display": null,
       "flex": null,
       "flex_flow": null,
       "grid_area": null,
       "grid_auto_columns": null,
       "grid_auto_flow": null,
       "grid_auto_rows": null,
       "grid_column": null,
       "grid_gap": null,
       "grid_row": null,
       "grid_template_areas": null,
       "grid_template_columns": null,
       "grid_template_rows": null,
       "height": null,
       "justify_content": null,
       "justify_items": null,
       "left": null,
       "margin": null,
       "max_height": null,
       "max_width": null,
       "min_height": null,
       "min_width": null,
       "object_fit": null,
       "object_position": null,
       "order": null,
       "overflow": null,
       "overflow_x": null,
       "overflow_y": null,
       "padding": null,
       "right": null,
       "top": null,
       "visibility": null,
       "width": null
      }
     },
     "7b5682c205fb4a44a90278c9dfd483ef": {
      "model_module": "@jupyter-widgets/controls",
      "model_module_version": "1.5.0",
      "model_name": "FloatProgressModel",
      "state": {
       "_dom_classes": [],
       "_model_module": "@jupyter-widgets/controls",
       "_model_module_version": "1.5.0",
       "_model_name": "FloatProgressModel",
       "_view_count": null,
       "_view_module": "@jupyter-widgets/controls",
       "_view_module_version": "1.5.0",
       "_view_name": "ProgressView",
       "bar_style": "success",
       "description": "",
       "description_tooltip": null,
       "layout": "IPY_MODEL_541a6511ad6f4d45a38324eedc94ae2d",
       "max": 1.0,
       "min": 0.0,
       "orientation": "horizontal",
       "style": "IPY_MODEL_8588c372648542e4b7e7f9565bfceb76",
       "value": 1.0
      }
     },
     "7c09923c070b417b8d35a7c8e9830ada": {
      "model_module": "@jupyter-widgets/base",
      "model_module_version": "1.2.0",
      "model_name": "LayoutModel",
      "state": {
       "_model_module": "@jupyter-widgets/base",
       "_model_module_version": "1.2.0",
       "_model_name": "LayoutModel",
       "_view_count": null,
       "_view_module": "@jupyter-widgets/base",
       "_view_module_version": "1.2.0",
       "_view_name": "LayoutView",
       "align_content": null,
       "align_items": null,
       "align_self": null,
       "border": null,
       "bottom": null,
       "display": null,
       "flex": null,
       "flex_flow": null,
       "grid_area": null,
       "grid_auto_columns": null,
       "grid_auto_flow": null,
       "grid_auto_rows": null,
       "grid_column": null,
       "grid_gap": null,
       "grid_row": null,
       "grid_template_areas": null,
       "grid_template_columns": null,
       "grid_template_rows": null,
       "height": null,
       "justify_content": null,
       "justify_items": null,
       "left": null,
       "margin": null,
       "max_height": null,
       "max_width": null,
       "min_height": null,
       "min_width": null,
       "object_fit": null,
       "object_position": null,
       "order": null,
       "overflow": null,
       "overflow_x": null,
       "overflow_y": null,
       "padding": null,
       "right": null,
       "top": null,
       "visibility": null,
       "width": null
      }
     },
     "7d1024bf360e49ab8495f096fe62b2cc": {
      "model_module": "@jupyter-widgets/base",
      "model_module_version": "1.2.0",
      "model_name": "LayoutModel",
      "state": {
       "_model_module": "@jupyter-widgets/base",
       "_model_module_version": "1.2.0",
       "_model_name": "LayoutModel",
       "_view_count": null,
       "_view_module": "@jupyter-widgets/base",
       "_view_module_version": "1.2.0",
       "_view_name": "LayoutView",
       "align_content": null,
       "align_items": null,
       "align_self": null,
       "border": null,
       "bottom": null,
       "display": null,
       "flex": null,
       "flex_flow": null,
       "grid_area": null,
       "grid_auto_columns": null,
       "grid_auto_flow": null,
       "grid_auto_rows": null,
       "grid_column": null,
       "grid_gap": null,
       "grid_row": null,
       "grid_template_areas": null,
       "grid_template_columns": null,
       "grid_template_rows": null,
       "height": null,
       "justify_content": null,
       "justify_items": null,
       "left": null,
       "margin": null,
       "max_height": null,
       "max_width": null,
       "min_height": null,
       "min_width": null,
       "object_fit": null,
       "object_position": null,
       "order": null,
       "overflow": null,
       "overflow_x": null,
       "overflow_y": null,
       "padding": null,
       "right": null,
       "top": null,
       "visibility": null,
       "width": null
      }
     },
     "7d2bc20a1de548e884ae4a72f8956e6b": {
      "model_module": "@jupyter-widgets/base",
      "model_module_version": "1.2.0",
      "model_name": "LayoutModel",
      "state": {
       "_model_module": "@jupyter-widgets/base",
       "_model_module_version": "1.2.0",
       "_model_name": "LayoutModel",
       "_view_count": null,
       "_view_module": "@jupyter-widgets/base",
       "_view_module_version": "1.2.0",
       "_view_name": "LayoutView",
       "align_content": null,
       "align_items": null,
       "align_self": null,
       "border": null,
       "bottom": null,
       "display": null,
       "flex": null,
       "flex_flow": null,
       "grid_area": null,
       "grid_auto_columns": null,
       "grid_auto_flow": null,
       "grid_auto_rows": null,
       "grid_column": null,
       "grid_gap": null,
       "grid_row": null,
       "grid_template_areas": null,
       "grid_template_columns": null,
       "grid_template_rows": null,
       "height": null,
       "justify_content": null,
       "justify_items": null,
       "left": null,
       "margin": null,
       "max_height": null,
       "max_width": null,
       "min_height": null,
       "min_width": null,
       "object_fit": null,
       "object_position": null,
       "order": null,
       "overflow": null,
       "overflow_x": null,
       "overflow_y": null,
       "padding": null,
       "right": null,
       "top": null,
       "visibility": null,
       "width": null
      }
     },
     "7db3d71967734fbab2bff1f57862c8ea": {
      "model_module": "@jupyter-widgets/controls",
      "model_module_version": "1.5.0",
      "model_name": "DescriptionStyleModel",
      "state": {
       "_model_module": "@jupyter-widgets/controls",
       "_model_module_version": "1.5.0",
       "_model_name": "DescriptionStyleModel",
       "_view_count": null,
       "_view_module": "@jupyter-widgets/base",
       "_view_module_version": "1.2.0",
       "_view_name": "StyleView",
       "description_width": ""
      }
     },
     "7e3e4fe1f56641a08d2d2c56d1be2b0f": {
      "model_module": "@jupyter-widgets/controls",
      "model_module_version": "1.5.0",
      "model_name": "DescriptionStyleModel",
      "state": {
       "_model_module": "@jupyter-widgets/controls",
       "_model_module_version": "1.5.0",
       "_model_name": "DescriptionStyleModel",
       "_view_count": null,
       "_view_module": "@jupyter-widgets/base",
       "_view_module_version": "1.2.0",
       "_view_name": "StyleView",
       "description_width": ""
      }
     },
     "802b8a207e6640f392ea69c11971f24d": {
      "model_module": "@jupyter-widgets/controls",
      "model_module_version": "1.5.0",
      "model_name": "DescriptionStyleModel",
      "state": {
       "_model_module": "@jupyter-widgets/controls",
       "_model_module_version": "1.5.0",
       "_model_name": "DescriptionStyleModel",
       "_view_count": null,
       "_view_module": "@jupyter-widgets/base",
       "_view_module_version": "1.2.0",
       "_view_name": "StyleView",
       "description_width": ""
      }
     },
     "80ab8025dbb34035a4eae09d1df53a93": {
      "model_module": "@jupyter-widgets/base",
      "model_module_version": "1.2.0",
      "model_name": "LayoutModel",
      "state": {
       "_model_module": "@jupyter-widgets/base",
       "_model_module_version": "1.2.0",
       "_model_name": "LayoutModel",
       "_view_count": null,
       "_view_module": "@jupyter-widgets/base",
       "_view_module_version": "1.2.0",
       "_view_name": "LayoutView",
       "align_content": null,
       "align_items": null,
       "align_self": null,
       "border": null,
       "bottom": null,
       "display": null,
       "flex": null,
       "flex_flow": null,
       "grid_area": null,
       "grid_auto_columns": null,
       "grid_auto_flow": null,
       "grid_auto_rows": null,
       "grid_column": null,
       "grid_gap": null,
       "grid_row": null,
       "grid_template_areas": null,
       "grid_template_columns": null,
       "grid_template_rows": null,
       "height": null,
       "justify_content": null,
       "justify_items": null,
       "left": null,
       "margin": null,
       "max_height": null,
       "max_width": null,
       "min_height": null,
       "min_width": null,
       "object_fit": null,
       "object_position": null,
       "order": null,
       "overflow": null,
       "overflow_x": null,
       "overflow_y": null,
       "padding": null,
       "right": null,
       "top": null,
       "visibility": null,
       "width": null
      }
     },
     "80cafba470124594888c15e10785492f": {
      "model_module": "@jupyter-widgets/base",
      "model_module_version": "1.2.0",
      "model_name": "LayoutModel",
      "state": {
       "_model_module": "@jupyter-widgets/base",
       "_model_module_version": "1.2.0",
       "_model_name": "LayoutModel",
       "_view_count": null,
       "_view_module": "@jupyter-widgets/base",
       "_view_module_version": "1.2.0",
       "_view_name": "LayoutView",
       "align_content": null,
       "align_items": null,
       "align_self": null,
       "border": null,
       "bottom": null,
       "display": null,
       "flex": null,
       "flex_flow": null,
       "grid_area": null,
       "grid_auto_columns": null,
       "grid_auto_flow": null,
       "grid_auto_rows": null,
       "grid_column": null,
       "grid_gap": null,
       "grid_row": null,
       "grid_template_areas": null,
       "grid_template_columns": null,
       "grid_template_rows": null,
       "height": null,
       "justify_content": null,
       "justify_items": null,
       "left": null,
       "margin": null,
       "max_height": null,
       "max_width": null,
       "min_height": null,
       "min_width": null,
       "object_fit": null,
       "object_position": null,
       "order": null,
       "overflow": null,
       "overflow_x": null,
       "overflow_y": null,
       "padding": null,
       "right": null,
       "top": null,
       "visibility": null,
       "width": null
      }
     },
     "82ec606f5fae42ad8df8996c405935b6": {
      "model_module": "@jupyter-widgets/controls",
      "model_module_version": "1.5.0",
      "model_name": "HTMLModel",
      "state": {
       "_dom_classes": [],
       "_model_module": "@jupyter-widgets/controls",
       "_model_module_version": "1.5.0",
       "_model_name": "HTMLModel",
       "_view_count": null,
       "_view_module": "@jupyter-widgets/controls",
       "_view_module_version": "1.5.0",
       "_view_name": "HTMLView",
       "description": "",
       "description_tooltip": null,
       "layout": "IPY_MODEL_84aac9884dd241d5a52ceb6904fd94ed",
       "placeholder": "​",
       "style": "IPY_MODEL_89b3cd59fade4c88bc341562de5646b9",
       "value": " 294/? [00:00&lt;00:00, 4968.43ex/s]"
      }
     },
     "82f82eb53e0b41d4b8bca0e58a4fcbc3": {
      "model_module": "@jupyter-widgets/controls",
      "model_module_version": "1.5.0",
      "model_name": "HTMLModel",
      "state": {
       "_dom_classes": [],
       "_model_module": "@jupyter-widgets/controls",
       "_model_module_version": "1.5.0",
       "_model_name": "HTMLModel",
       "_view_count": null,
       "_view_module": "@jupyter-widgets/controls",
       "_view_module_version": "1.5.0",
       "_view_name": "HTMLView",
       "description": "",
       "description_tooltip": null,
       "layout": "IPY_MODEL_59be0a2349a849fda06d2d87f1b21a0a",
       "placeholder": "​",
       "style": "IPY_MODEL_94fe0254f4544f86a7df335dd89eadd0",
       "value": " 1176/? [00:00&lt;00:00, 3328.61ex/s]"
      }
     },
     "8357cd8c45ab4da395a9fbbd45084be1": {
      "model_module": "@jupyter-widgets/base",
      "model_module_version": "1.2.0",
      "model_name": "LayoutModel",
      "state": {
       "_model_module": "@jupyter-widgets/base",
       "_model_module_version": "1.2.0",
       "_model_name": "LayoutModel",
       "_view_count": null,
       "_view_module": "@jupyter-widgets/base",
       "_view_module_version": "1.2.0",
       "_view_name": "LayoutView",
       "align_content": null,
       "align_items": null,
       "align_self": null,
       "border": null,
       "bottom": null,
       "display": null,
       "flex": null,
       "flex_flow": null,
       "grid_area": null,
       "grid_auto_columns": null,
       "grid_auto_flow": null,
       "grid_auto_rows": null,
       "grid_column": null,
       "grid_gap": null,
       "grid_row": null,
       "grid_template_areas": null,
       "grid_template_columns": null,
       "grid_template_rows": null,
       "height": null,
       "justify_content": null,
       "justify_items": null,
       "left": null,
       "margin": null,
       "max_height": null,
       "max_width": null,
       "min_height": null,
       "min_width": null,
       "object_fit": null,
       "object_position": null,
       "order": null,
       "overflow": null,
       "overflow_x": null,
       "overflow_y": null,
       "padding": null,
       "right": null,
       "top": null,
       "visibility": null,
       "width": null
      }
     },
     "84aac9884dd241d5a52ceb6904fd94ed": {
      "model_module": "@jupyter-widgets/base",
      "model_module_version": "1.2.0",
      "model_name": "LayoutModel",
      "state": {
       "_model_module": "@jupyter-widgets/base",
       "_model_module_version": "1.2.0",
       "_model_name": "LayoutModel",
       "_view_count": null,
       "_view_module": "@jupyter-widgets/base",
       "_view_module_version": "1.2.0",
       "_view_name": "LayoutView",
       "align_content": null,
       "align_items": null,
       "align_self": null,
       "border": null,
       "bottom": null,
       "display": null,
       "flex": null,
       "flex_flow": null,
       "grid_area": null,
       "grid_auto_columns": null,
       "grid_auto_flow": null,
       "grid_auto_rows": null,
       "grid_column": null,
       "grid_gap": null,
       "grid_row": null,
       "grid_template_areas": null,
       "grid_template_columns": null,
       "grid_template_rows": null,
       "height": null,
       "justify_content": null,
       "justify_items": null,
       "left": null,
       "margin": null,
       "max_height": null,
       "max_width": null,
       "min_height": null,
       "min_width": null,
       "object_fit": null,
       "object_position": null,
       "order": null,
       "overflow": null,
       "overflow_x": null,
       "overflow_y": null,
       "padding": null,
       "right": null,
       "top": null,
       "visibility": null,
       "width": null
      }
     },
     "8588c372648542e4b7e7f9565bfceb76": {
      "model_module": "@jupyter-widgets/controls",
      "model_module_version": "1.5.0",
      "model_name": "ProgressStyleModel",
      "state": {
       "_model_module": "@jupyter-widgets/controls",
       "_model_module_version": "1.5.0",
       "_model_name": "ProgressStyleModel",
       "_view_count": null,
       "_view_module": "@jupyter-widgets/base",
       "_view_module_version": "1.2.0",
       "_view_name": "StyleView",
       "bar_color": null,
       "description_width": ""
      }
     },
     "865d2b15833f4a1b87592bcac1f1eff9": {
      "model_module": "@jupyter-widgets/controls",
      "model_module_version": "1.5.0",
      "model_name": "DescriptionStyleModel",
      "state": {
       "_model_module": "@jupyter-widgets/controls",
       "_model_module_version": "1.5.0",
       "_model_name": "DescriptionStyleModel",
       "_view_count": null,
       "_view_module": "@jupyter-widgets/base",
       "_view_module_version": "1.2.0",
       "_view_name": "StyleView",
       "description_width": ""
      }
     },
     "86b86ab0106a4d64a05c5007cfc93872": {
      "model_module": "@jupyter-widgets/base",
      "model_module_version": "1.2.0",
      "model_name": "LayoutModel",
      "state": {
       "_model_module": "@jupyter-widgets/base",
       "_model_module_version": "1.2.0",
       "_model_name": "LayoutModel",
       "_view_count": null,
       "_view_module": "@jupyter-widgets/base",
       "_view_module_version": "1.2.0",
       "_view_name": "LayoutView",
       "align_content": null,
       "align_items": null,
       "align_self": null,
       "border": null,
       "bottom": null,
       "display": null,
       "flex": null,
       "flex_flow": null,
       "grid_area": null,
       "grid_auto_columns": null,
       "grid_auto_flow": null,
       "grid_auto_rows": null,
       "grid_column": null,
       "grid_gap": null,
       "grid_row": null,
       "grid_template_areas": null,
       "grid_template_columns": null,
       "grid_template_rows": null,
       "height": null,
       "justify_content": null,
       "justify_items": null,
       "left": null,
       "margin": null,
       "max_height": null,
       "max_width": null,
       "min_height": null,
       "min_width": null,
       "object_fit": null,
       "object_position": null,
       "order": null,
       "overflow": null,
       "overflow_x": null,
       "overflow_y": null,
       "padding": null,
       "right": null,
       "top": null,
       "visibility": null,
       "width": null
      }
     },
     "882412384b294ad1b8a6e061ec069ee2": {
      "model_module": "@jupyter-widgets/controls",
      "model_module_version": "1.5.0",
      "model_name": "DescriptionStyleModel",
      "state": {
       "_model_module": "@jupyter-widgets/controls",
       "_model_module_version": "1.5.0",
       "_model_name": "DescriptionStyleModel",
       "_view_count": null,
       "_view_module": "@jupyter-widgets/base",
       "_view_module_version": "1.2.0",
       "_view_name": "StyleView",
       "description_width": ""
      }
     },
     "888d2a520b264843b9789d2aa08ba66e": {
      "model_module": "@jupyter-widgets/controls",
      "model_module_version": "1.5.0",
      "model_name": "FloatProgressModel",
      "state": {
       "_dom_classes": [],
       "_model_module": "@jupyter-widgets/controls",
       "_model_module_version": "1.5.0",
       "_model_name": "FloatProgressModel",
       "_view_count": null,
       "_view_module": "@jupyter-widgets/controls",
       "_view_module_version": "1.5.0",
       "_view_name": "ProgressView",
       "bar_style": "success",
       "description": "",
       "description_tooltip": null,
       "layout": "IPY_MODEL_d6d2bb5cf7384b0786d53716bbda5130",
       "max": 1.0,
       "min": 0.0,
       "orientation": "horizontal",
       "style": "IPY_MODEL_5f1abe5d8a1145969f7398e5b2d7392e",
       "value": 1.0
      }
     },
     "89472b2afdae48c3b24bbd997ade71e9": {
      "model_module": "@jupyter-widgets/base",
      "model_module_version": "1.2.0",
      "model_name": "LayoutModel",
      "state": {
       "_model_module": "@jupyter-widgets/base",
       "_model_module_version": "1.2.0",
       "_model_name": "LayoutModel",
       "_view_count": null,
       "_view_module": "@jupyter-widgets/base",
       "_view_module_version": "1.2.0",
       "_view_name": "LayoutView",
       "align_content": null,
       "align_items": null,
       "align_self": null,
       "border": null,
       "bottom": null,
       "display": null,
       "flex": null,
       "flex_flow": null,
       "grid_area": null,
       "grid_auto_columns": null,
       "grid_auto_flow": null,
       "grid_auto_rows": null,
       "grid_column": null,
       "grid_gap": null,
       "grid_row": null,
       "grid_template_areas": null,
       "grid_template_columns": null,
       "grid_template_rows": null,
       "height": null,
       "justify_content": null,
       "justify_items": null,
       "left": null,
       "margin": null,
       "max_height": null,
       "max_width": null,
       "min_height": null,
       "min_width": null,
       "object_fit": null,
       "object_position": null,
       "order": null,
       "overflow": null,
       "overflow_x": null,
       "overflow_y": null,
       "padding": null,
       "right": null,
       "top": null,
       "visibility": null,
       "width": "20px"
      }
     },
     "89b3cd59fade4c88bc341562de5646b9": {
      "model_module": "@jupyter-widgets/controls",
      "model_module_version": "1.5.0",
      "model_name": "DescriptionStyleModel",
      "state": {
       "_model_module": "@jupyter-widgets/controls",
       "_model_module_version": "1.5.0",
       "_model_name": "DescriptionStyleModel",
       "_view_count": null,
       "_view_module": "@jupyter-widgets/base",
       "_view_module_version": "1.2.0",
       "_view_name": "StyleView",
       "description_width": ""
      }
     },
     "8a8df881be5c4f42bb10e237a86e0fba": {
      "model_module": "@jupyter-widgets/controls",
      "model_module_version": "1.5.0",
      "model_name": "HTMLModel",
      "state": {
       "_dom_classes": [],
       "_model_module": "@jupyter-widgets/controls",
       "_model_module_version": "1.5.0",
       "_model_name": "HTMLModel",
       "_view_count": null,
       "_view_module": "@jupyter-widgets/controls",
       "_view_module_version": "1.5.0",
       "_view_name": "HTMLView",
       "description": "",
       "description_tooltip": null,
       "layout": "IPY_MODEL_67d5b7761b594eb7b18fde33edafb187",
       "placeholder": "​",
       "style": "IPY_MODEL_882412384b294ad1b8a6e061ec069ee2",
       "value": " 1705/? [00:00&lt;00:00, 8412.71ex/s]"
      }
     },
     "8bb69c399812430badbf49ae85fb7d83": {
      "model_module": "@jupyter-widgets/base",
      "model_module_version": "1.2.0",
      "model_name": "LayoutModel",
      "state": {
       "_model_module": "@jupyter-widgets/base",
       "_model_module_version": "1.2.0",
       "_model_name": "LayoutModel",
       "_view_count": null,
       "_view_module": "@jupyter-widgets/base",
       "_view_module_version": "1.2.0",
       "_view_name": "LayoutView",
       "align_content": null,
       "align_items": null,
       "align_self": null,
       "border": null,
       "bottom": null,
       "display": null,
       "flex": null,
       "flex_flow": null,
       "grid_area": null,
       "grid_auto_columns": null,
       "grid_auto_flow": null,
       "grid_auto_rows": null,
       "grid_column": null,
       "grid_gap": null,
       "grid_row": null,
       "grid_template_areas": null,
       "grid_template_columns": null,
       "grid_template_rows": null,
       "height": null,
       "justify_content": null,
       "justify_items": null,
       "left": null,
       "margin": null,
       "max_height": null,
       "max_width": null,
       "min_height": null,
       "min_width": null,
       "object_fit": null,
       "object_position": null,
       "order": null,
       "overflow": null,
       "overflow_x": null,
       "overflow_y": null,
       "padding": null,
       "right": null,
       "top": null,
       "visibility": null,
       "width": null
      }
     },
     "8bc939d179bd40e4a7141e0e7c50b9f4": {
      "model_module": "@jupyter-widgets/base",
      "model_module_version": "1.2.0",
      "model_name": "LayoutModel",
      "state": {
       "_model_module": "@jupyter-widgets/base",
       "_model_module_version": "1.2.0",
       "_model_name": "LayoutModel",
       "_view_count": null,
       "_view_module": "@jupyter-widgets/base",
       "_view_module_version": "1.2.0",
       "_view_name": "LayoutView",
       "align_content": null,
       "align_items": null,
       "align_self": null,
       "border": null,
       "bottom": null,
       "display": null,
       "flex": null,
       "flex_flow": null,
       "grid_area": null,
       "grid_auto_columns": null,
       "grid_auto_flow": null,
       "grid_auto_rows": null,
       "grid_column": null,
       "grid_gap": null,
       "grid_row": null,
       "grid_template_areas": null,
       "grid_template_columns": null,
       "grid_template_rows": null,
       "height": null,
       "justify_content": null,
       "justify_items": null,
       "left": null,
       "margin": null,
       "max_height": null,
       "max_width": null,
       "min_height": null,
       "min_width": null,
       "object_fit": null,
       "object_position": null,
       "order": null,
       "overflow": null,
       "overflow_x": null,
       "overflow_y": null,
       "padding": null,
       "right": null,
       "top": null,
       "visibility": null,
       "width": null
      }
     },
     "8d0ca6a71c8243608f4a02fbe2a954dc": {
      "model_module": "@jupyter-widgets/controls",
      "model_module_version": "1.5.0",
      "model_name": "DescriptionStyleModel",
      "state": {
       "_model_module": "@jupyter-widgets/controls",
       "_model_module_version": "1.5.0",
       "_model_name": "DescriptionStyleModel",
       "_view_count": null,
       "_view_module": "@jupyter-widgets/base",
       "_view_module_version": "1.2.0",
       "_view_name": "StyleView",
       "description_width": ""
      }
     },
     "8e1983b1247841c69de7ec64d22ac09b": {
      "model_module": "@jupyter-widgets/controls",
      "model_module_version": "1.5.0",
      "model_name": "ProgressStyleModel",
      "state": {
       "_model_module": "@jupyter-widgets/controls",
       "_model_module_version": "1.5.0",
       "_model_name": "ProgressStyleModel",
       "_view_count": null,
       "_view_module": "@jupyter-widgets/base",
       "_view_module_version": "1.2.0",
       "_view_name": "StyleView",
       "bar_color": null,
       "description_width": ""
      }
     },
     "8eca758665aa41d4bbf815f0f52363eb": {
      "model_module": "@jupyter-widgets/controls",
      "model_module_version": "1.5.0",
      "model_name": "HTMLModel",
      "state": {
       "_dom_classes": [],
       "_model_module": "@jupyter-widgets/controls",
       "_model_module_version": "1.5.0",
       "_model_name": "HTMLModel",
       "_view_count": null,
       "_view_module": "@jupyter-widgets/controls",
       "_view_module_version": "1.5.0",
       "_view_name": "HTMLView",
       "description": "",
       "description_tooltip": null,
       "layout": "IPY_MODEL_42ca07482e2648f1a350d4ce2f5f3778",
       "placeholder": "​",
       "style": "IPY_MODEL_2d7825d3f530443898d5c256be0535bb",
       "value": " 2/? [00:00&lt;00:00, 76.78ex/s]"
      }
     },
     "8f003885e322469f95cdcbf1ab887dc1": {
      "model_module": "@jupyter-widgets/controls",
      "model_module_version": "1.5.0",
      "model_name": "ProgressStyleModel",
      "state": {
       "_model_module": "@jupyter-widgets/controls",
       "_model_module_version": "1.5.0",
       "_model_name": "ProgressStyleModel",
       "_view_count": null,
       "_view_module": "@jupyter-widgets/base",
       "_view_module_version": "1.2.0",
       "_view_name": "StyleView",
       "bar_color": null,
       "description_width": ""
      }
     },
     "91a388eb9f1649268876d01e4d5e8ae6": {
      "model_module": "@jupyter-widgets/controls",
      "model_module_version": "1.5.0",
      "model_name": "DescriptionStyleModel",
      "state": {
       "_model_module": "@jupyter-widgets/controls",
       "_model_module_version": "1.5.0",
       "_model_name": "DescriptionStyleModel",
       "_view_count": null,
       "_view_module": "@jupyter-widgets/base",
       "_view_module_version": "1.2.0",
       "_view_name": "StyleView",
       "description_width": ""
      }
     },
     "936accd9c41b475abf401c442a02e4a1": {
      "model_module": "@jupyter-widgets/controls",
      "model_module_version": "1.5.0",
      "model_name": "HBoxModel",
      "state": {
       "_dom_classes": [],
       "_model_module": "@jupyter-widgets/controls",
       "_model_module_version": "1.5.0",
       "_model_name": "HBoxModel",
       "_view_count": null,
       "_view_module": "@jupyter-widgets/controls",
       "_view_module_version": "1.5.0",
       "_view_name": "HBoxView",
       "box_style": "",
       "children": [
        "IPY_MODEL_26e46afcec13426ea5b6fba4fcba1371",
        "IPY_MODEL_56e5938506784988a7b75c477308ad7e",
        "IPY_MODEL_8eca758665aa41d4bbf815f0f52363eb"
       ],
       "layout": "IPY_MODEL_a1c9a38b8c314cd886c2369501d9d12c"
      }
     },
     "94fe0254f4544f86a7df335dd89eadd0": {
      "model_module": "@jupyter-widgets/controls",
      "model_module_version": "1.5.0",
      "model_name": "DescriptionStyleModel",
      "state": {
       "_model_module": "@jupyter-widgets/controls",
       "_model_module_version": "1.5.0",
       "_model_name": "DescriptionStyleModel",
       "_view_count": null,
       "_view_module": "@jupyter-widgets/base",
       "_view_module_version": "1.2.0",
       "_view_name": "StyleView",
       "description_width": ""
      }
     },
     "96ebd4ed30ab43a2b4bf78adb15e95d1": {
      "model_module": "@jupyter-widgets/base",
      "model_module_version": "1.2.0",
      "model_name": "LayoutModel",
      "state": {
       "_model_module": "@jupyter-widgets/base",
       "_model_module_version": "1.2.0",
       "_model_name": "LayoutModel",
       "_view_count": null,
       "_view_module": "@jupyter-widgets/base",
       "_view_module_version": "1.2.0",
       "_view_name": "LayoutView",
       "align_content": null,
       "align_items": null,
       "align_self": null,
       "border": null,
       "bottom": null,
       "display": null,
       "flex": null,
       "flex_flow": null,
       "grid_area": null,
       "grid_auto_columns": null,
       "grid_auto_flow": null,
       "grid_auto_rows": null,
       "grid_column": null,
       "grid_gap": null,
       "grid_row": null,
       "grid_template_areas": null,
       "grid_template_columns": null,
       "grid_template_rows": null,
       "height": null,
       "justify_content": null,
       "justify_items": null,
       "left": null,
       "margin": null,
       "max_height": null,
       "max_width": null,
       "min_height": null,
       "min_width": null,
       "object_fit": null,
       "object_position": null,
       "order": null,
       "overflow": null,
       "overflow_x": null,
       "overflow_y": null,
       "padding": null,
       "right": null,
       "top": null,
       "visibility": null,
       "width": null
      }
     },
     "97eab65b11264be2a814afdfd8177f00": {
      "model_module": "@jupyter-widgets/controls",
      "model_module_version": "1.5.0",
      "model_name": "FloatProgressModel",
      "state": {
       "_dom_classes": [],
       "_model_module": "@jupyter-widgets/controls",
       "_model_module_version": "1.5.0",
       "_model_name": "FloatProgressModel",
       "_view_count": null,
       "_view_module": "@jupyter-widgets/controls",
       "_view_module_version": "1.5.0",
       "_view_name": "ProgressView",
       "bar_style": "success",
       "description": "",
       "description_tooltip": null,
       "layout": "IPY_MODEL_cb3d9d4998ca49888b7e34f98a9f607a",
       "max": 42.0,
       "min": 0.0,
       "orientation": "horizontal",
       "style": "IPY_MODEL_4307353f99a24596845de482a258e31a",
       "value": 42.0
      }
     },
     "989c9f6d2e374136a31bd185da285bff": {
      "model_module": "@jupyter-widgets/base",
      "model_module_version": "1.2.0",
      "model_name": "LayoutModel",
      "state": {
       "_model_module": "@jupyter-widgets/base",
       "_model_module_version": "1.2.0",
       "_model_name": "LayoutModel",
       "_view_count": null,
       "_view_module": "@jupyter-widgets/base",
       "_view_module_version": "1.2.0",
       "_view_name": "LayoutView",
       "align_content": null,
       "align_items": null,
       "align_self": null,
       "border": null,
       "bottom": null,
       "display": null,
       "flex": null,
       "flex_flow": null,
       "grid_area": null,
       "grid_auto_columns": null,
       "grid_auto_flow": null,
       "grid_auto_rows": null,
       "grid_column": null,
       "grid_gap": null,
       "grid_row": null,
       "grid_template_areas": null,
       "grid_template_columns": null,
       "grid_template_rows": null,
       "height": null,
       "justify_content": null,
       "justify_items": null,
       "left": null,
       "margin": null,
       "max_height": null,
       "max_width": null,
       "min_height": null,
       "min_width": null,
       "object_fit": null,
       "object_position": null,
       "order": null,
       "overflow": null,
       "overflow_x": null,
       "overflow_y": null,
       "padding": null,
       "right": null,
       "top": null,
       "visibility": null,
       "width": null
      }
     },
     "9ac503395ad94274bb0389376b491b54": {
      "model_module": "@jupyter-widgets/controls",
      "model_module_version": "1.5.0",
      "model_name": "HBoxModel",
      "state": {
       "_dom_classes": [],
       "_model_module": "@jupyter-widgets/controls",
       "_model_module_version": "1.5.0",
       "_model_name": "HBoxModel",
       "_view_count": null,
       "_view_module": "@jupyter-widgets/controls",
       "_view_module_version": "1.5.0",
       "_view_name": "HBoxView",
       "box_style": "",
       "children": [
        "IPY_MODEL_783513644eed43feac4601f26163f95d",
        "IPY_MODEL_f387833b586e410a9ad6acc8e0be4755",
        "IPY_MODEL_8a8df881be5c4f42bb10e237a86e0fba"
       ],
       "layout": "IPY_MODEL_86b86ab0106a4d64a05c5007cfc93872"
      }
     },
     "9be98213ca104276a3ce5988b98216c3": {
      "model_module": "@jupyter-widgets/controls",
      "model_module_version": "1.5.0",
      "model_name": "DescriptionStyleModel",
      "state": {
       "_model_module": "@jupyter-widgets/controls",
       "_model_module_version": "1.5.0",
       "_model_name": "DescriptionStyleModel",
       "_view_count": null,
       "_view_module": "@jupyter-widgets/base",
       "_view_module_version": "1.2.0",
       "_view_name": "StyleView",
       "description_width": ""
      }
     },
     "9c53bd84c8b64bec8f3ff365a99b1b26": {
      "model_module": "@jupyter-widgets/controls",
      "model_module_version": "1.5.0",
      "model_name": "HTMLModel",
      "state": {
       "_dom_classes": [],
       "_model_module": "@jupyter-widgets/controls",
       "_model_module_version": "1.5.0",
       "_model_name": "HTMLModel",
       "_view_count": null,
       "_view_module": "@jupyter-widgets/controls",
       "_view_module_version": "1.5.0",
       "_view_name": "HTMLView",
       "description": "",
       "description_tooltip": null,
       "layout": "IPY_MODEL_989c9f6d2e374136a31bd185da285bff",
       "placeholder": "​",
       "style": "IPY_MODEL_a7a77407864e4d8fb822764494d226d3",
       "value": " 4113/? [00:00&lt;00:00, 8876.45ex/s]"
      }
     },
     "9ec59bf8333a40ffb28bad48f437f1af": {
      "model_module": "@jupyter-widgets/controls",
      "model_module_version": "1.5.0",
      "model_name": "HBoxModel",
      "state": {
       "_dom_classes": [],
       "_model_module": "@jupyter-widgets/controls",
       "_model_module_version": "1.5.0",
       "_model_name": "HBoxModel",
       "_view_count": null,
       "_view_module": "@jupyter-widgets/controls",
       "_view_module_version": "1.5.0",
       "_view_name": "HBoxView",
       "box_style": "",
       "children": [
        "IPY_MODEL_e0a9ce1f37274de7a61efd52d4bcfba0",
        "IPY_MODEL_ca02b524408e47a5bfa73dc1ce284f49",
        "IPY_MODEL_020455ba1ef745dc9c769d71d90d6e59"
       ],
       "layout": "IPY_MODEL_726262bbefb1471491c298d4c27fc21b"
      }
     },
     "9eefaf352d124e90adb3c21b61a6af60": {
      "model_module": "@jupyter-widgets/controls",
      "model_module_version": "1.5.0",
      "model_name": "HTMLModel",
      "state": {
       "_dom_classes": [],
       "_model_module": "@jupyter-widgets/controls",
       "_model_module_version": "1.5.0",
       "_model_name": "HTMLModel",
       "_view_count": null,
       "_view_module": "@jupyter-widgets/controls",
       "_view_module_version": "1.5.0",
       "_view_name": "HTMLView",
       "description": "",
       "description_tooltip": null,
       "layout": "IPY_MODEL_80ab8025dbb34035a4eae09d1df53a93",
       "placeholder": "​",
       "style": "IPY_MODEL_5176ad9aaaec4ae0be159d1b07c90b6d",
       "value": " 1029/? [00:00&lt;00:00, 7203.55ex/s]"
      }
     },
     "9f2c34e89d434d0ab144c662924f719c": {
      "model_module": "@jupyter-widgets/controls",
      "model_module_version": "1.5.0",
      "model_name": "HBoxModel",
      "state": {
       "_dom_classes": [],
       "_model_module": "@jupyter-widgets/controls",
       "_model_module_version": "1.5.0",
       "_model_name": "HBoxModel",
       "_view_count": null,
       "_view_module": "@jupyter-widgets/controls",
       "_view_module_version": "1.5.0",
       "_view_name": "HBoxView",
       "box_style": "",
       "children": [
        "IPY_MODEL_f8a1c02950444211a3bc5b98249ac84c",
        "IPY_MODEL_3ee12f7668dd407a9401a60b70022ac3",
        "IPY_MODEL_9c53bd84c8b64bec8f3ff365a99b1b26"
       ],
       "layout": "IPY_MODEL_d228662228af4c5bba7bebc414b5e422"
      }
     },
     "9fdd5084f7474663a6c2827b26359bde": {
      "model_module": "@jupyter-widgets/base",
      "model_module_version": "1.2.0",
      "model_name": "LayoutModel",
      "state": {
       "_model_module": "@jupyter-widgets/base",
       "_model_module_version": "1.2.0",
       "_model_name": "LayoutModel",
       "_view_count": null,
       "_view_module": "@jupyter-widgets/base",
       "_view_module_version": "1.2.0",
       "_view_name": "LayoutView",
       "align_content": null,
       "align_items": null,
       "align_self": null,
       "border": null,
       "bottom": null,
       "display": null,
       "flex": null,
       "flex_flow": null,
       "grid_area": null,
       "grid_auto_columns": null,
       "grid_auto_flow": null,
       "grid_auto_rows": null,
       "grid_column": null,
       "grid_gap": null,
       "grid_row": null,
       "grid_template_areas": null,
       "grid_template_columns": null,
       "grid_template_rows": null,
       "height": null,
       "justify_content": null,
       "justify_items": null,
       "left": null,
       "margin": null,
       "max_height": null,
       "max_width": null,
       "min_height": null,
       "min_width": null,
       "object_fit": null,
       "object_position": null,
       "order": null,
       "overflow": null,
       "overflow_x": null,
       "overflow_y": null,
       "padding": null,
       "right": null,
       "top": null,
       "visibility": null,
       "width": "20px"
      }
     },
     "a1c9a38b8c314cd886c2369501d9d12c": {
      "model_module": "@jupyter-widgets/base",
      "model_module_version": "1.2.0",
      "model_name": "LayoutModel",
      "state": {
       "_model_module": "@jupyter-widgets/base",
       "_model_module_version": "1.2.0",
       "_model_name": "LayoutModel",
       "_view_count": null,
       "_view_module": "@jupyter-widgets/base",
       "_view_module_version": "1.2.0",
       "_view_name": "LayoutView",
       "align_content": null,
       "align_items": null,
       "align_self": null,
       "border": null,
       "bottom": null,
       "display": null,
       "flex": null,
       "flex_flow": null,
       "grid_area": null,
       "grid_auto_columns": null,
       "grid_auto_flow": null,
       "grid_auto_rows": null,
       "grid_column": null,
       "grid_gap": null,
       "grid_row": null,
       "grid_template_areas": null,
       "grid_template_columns": null,
       "grid_template_rows": null,
       "height": null,
       "justify_content": null,
       "justify_items": null,
       "left": null,
       "margin": null,
       "max_height": null,
       "max_width": null,
       "min_height": null,
       "min_width": null,
       "object_fit": null,
       "object_position": null,
       "order": null,
       "overflow": null,
       "overflow_x": null,
       "overflow_y": null,
       "padding": null,
       "right": null,
       "top": null,
       "visibility": null,
       "width": null
      }
     },
     "a37a17c9fcb444d1a8dbb8d83db0053d": {
      "model_module": "@jupyter-widgets/base",
      "model_module_version": "1.2.0",
      "model_name": "LayoutModel",
      "state": {
       "_model_module": "@jupyter-widgets/base",
       "_model_module_version": "1.2.0",
       "_model_name": "LayoutModel",
       "_view_count": null,
       "_view_module": "@jupyter-widgets/base",
       "_view_module_version": "1.2.0",
       "_view_name": "LayoutView",
       "align_content": null,
       "align_items": null,
       "align_self": null,
       "border": null,
       "bottom": null,
       "display": null,
       "flex": null,
       "flex_flow": null,
       "grid_area": null,
       "grid_auto_columns": null,
       "grid_auto_flow": null,
       "grid_auto_rows": null,
       "grid_column": null,
       "grid_gap": null,
       "grid_row": null,
       "grid_template_areas": null,
       "grid_template_columns": null,
       "grid_template_rows": null,
       "height": null,
       "justify_content": null,
       "justify_items": null,
       "left": null,
       "margin": null,
       "max_height": null,
       "max_width": null,
       "min_height": null,
       "min_width": null,
       "object_fit": null,
       "object_position": null,
       "order": null,
       "overflow": null,
       "overflow_x": null,
       "overflow_y": null,
       "padding": null,
       "right": null,
       "top": null,
       "visibility": null,
       "width": null
      }
     },
     "a3fcab2e7fa94165b455e3f18df6ade5": {
      "model_module": "@jupyter-widgets/base",
      "model_module_version": "1.2.0",
      "model_name": "LayoutModel",
      "state": {
       "_model_module": "@jupyter-widgets/base",
       "_model_module_version": "1.2.0",
       "_model_name": "LayoutModel",
       "_view_count": null,
       "_view_module": "@jupyter-widgets/base",
       "_view_module_version": "1.2.0",
       "_view_name": "LayoutView",
       "align_content": null,
       "align_items": null,
       "align_self": null,
       "border": null,
       "bottom": null,
       "display": null,
       "flex": null,
       "flex_flow": null,
       "grid_area": null,
       "grid_auto_columns": null,
       "grid_auto_flow": null,
       "grid_auto_rows": null,
       "grid_column": null,
       "grid_gap": null,
       "grid_row": null,
       "grid_template_areas": null,
       "grid_template_columns": null,
       "grid_template_rows": null,
       "height": null,
       "justify_content": null,
       "justify_items": null,
       "left": null,
       "margin": null,
       "max_height": null,
       "max_width": null,
       "min_height": null,
       "min_width": null,
       "object_fit": null,
       "object_position": null,
       "order": null,
       "overflow": null,
       "overflow_x": null,
       "overflow_y": null,
       "padding": null,
       "right": null,
       "top": null,
       "visibility": null,
       "width": null
      }
     },
     "a573e1a5b3cb4bac88e3ab06d6443f4a": {
      "model_module": "@jupyter-widgets/controls",
      "model_module_version": "1.5.0",
      "model_name": "HBoxModel",
      "state": {
       "_dom_classes": [],
       "_model_module": "@jupyter-widgets/controls",
       "_model_module_version": "1.5.0",
       "_model_name": "HBoxModel",
       "_view_count": null,
       "_view_module": "@jupyter-widgets/controls",
       "_view_module_version": "1.5.0",
       "_view_name": "HBoxView",
       "box_style": "",
       "children": [
        "IPY_MODEL_405824db9bc142fc9fcaf3927022e16a",
        "IPY_MODEL_97eab65b11264be2a814afdfd8177f00",
        "IPY_MODEL_34e8acc4af36453e967acdb67f522402"
       ],
       "layout": "IPY_MODEL_21b3a0aeca9a4dd3b7f977bc3966b910"
      }
     },
     "a5e6338fe3f446c5bd6bc209d2c171b9": {
      "model_module": "@jupyter-widgets/controls",
      "model_module_version": "1.5.0",
      "model_name": "ProgressStyleModel",
      "state": {
       "_model_module": "@jupyter-widgets/controls",
       "_model_module_version": "1.5.0",
       "_model_name": "ProgressStyleModel",
       "_view_count": null,
       "_view_module": "@jupyter-widgets/base",
       "_view_module_version": "1.2.0",
       "_view_name": "StyleView",
       "bar_color": null,
       "description_width": ""
      }
     },
     "a5fdaccc54f44b4485b82cd712c3b4b8": {
      "model_module": "@jupyter-widgets/controls",
      "model_module_version": "1.5.0",
      "model_name": "ProgressStyleModel",
      "state": {
       "_model_module": "@jupyter-widgets/controls",
       "_model_module_version": "1.5.0",
       "_model_name": "ProgressStyleModel",
       "_view_count": null,
       "_view_module": "@jupyter-widgets/base",
       "_view_module_version": "1.2.0",
       "_view_name": "StyleView",
       "bar_color": null,
       "description_width": ""
      }
     },
     "a61acd07ffdb47acb816f18800704645": {
      "model_module": "@jupyter-widgets/controls",
      "model_module_version": "1.5.0",
      "model_name": "FloatProgressModel",
      "state": {
       "_dom_classes": [],
       "_model_module": "@jupyter-widgets/controls",
       "_model_module_version": "1.5.0",
       "_model_name": "FloatProgressModel",
       "_view_count": null,
       "_view_module": "@jupyter-widgets/controls",
       "_view_module_version": "1.5.0",
       "_view_name": "ProgressView",
       "bar_style": "success",
       "description": "",
       "description_tooltip": null,
       "layout": "IPY_MODEL_e912a15bb0ca40f9bf957df90aaae856",
       "max": 1.0,
       "min": 0.0,
       "orientation": "horizontal",
       "style": "IPY_MODEL_ee58006b1d9e4f69933f11b61a31d403",
       "value": 1.0
      }
     },
     "a7a77407864e4d8fb822764494d226d3": {
      "model_module": "@jupyter-widgets/controls",
      "model_module_version": "1.5.0",
      "model_name": "DescriptionStyleModel",
      "state": {
       "_model_module": "@jupyter-widgets/controls",
       "_model_module_version": "1.5.0",
       "_model_name": "DescriptionStyleModel",
       "_view_count": null,
       "_view_module": "@jupyter-widgets/base",
       "_view_module_version": "1.2.0",
       "_view_name": "StyleView",
       "description_width": ""
      }
     },
     "a980290097f7425c996919b38c648607": {
      "model_module": "@jupyter-widgets/controls",
      "model_module_version": "1.5.0",
      "model_name": "HBoxModel",
      "state": {
       "_dom_classes": [],
       "_model_module": "@jupyter-widgets/controls",
       "_model_module_version": "1.5.0",
       "_model_name": "HBoxModel",
       "_view_count": null,
       "_view_module": "@jupyter-widgets/controls",
       "_view_module_version": "1.5.0",
       "_view_name": "HBoxView",
       "box_style": "",
       "children": [
        "IPY_MODEL_b649c391ff4b4c38902857f9e0a56faa",
        "IPY_MODEL_bf5ba23b3f9d4f118b8d23dc6845347c",
        "IPY_MODEL_d2260831266d4689a3f02241cd7a880a"
       ],
       "layout": "IPY_MODEL_8bb69c399812430badbf49ae85fb7d83"
      }
     },
     "a9b9697496c4408ea5d86316c26b840e": {
      "model_module": "@jupyter-widgets/base",
      "model_module_version": "1.2.0",
      "model_name": "LayoutModel",
      "state": {
       "_model_module": "@jupyter-widgets/base",
       "_model_module_version": "1.2.0",
       "_model_name": "LayoutModel",
       "_view_count": null,
       "_view_module": "@jupyter-widgets/base",
       "_view_module_version": "1.2.0",
       "_view_name": "LayoutView",
       "align_content": null,
       "align_items": null,
       "align_self": null,
       "border": null,
       "bottom": null,
       "display": null,
       "flex": null,
       "flex_flow": null,
       "grid_area": null,
       "grid_auto_columns": null,
       "grid_auto_flow": null,
       "grid_auto_rows": null,
       "grid_column": null,
       "grid_gap": null,
       "grid_row": null,
       "grid_template_areas": null,
       "grid_template_columns": null,
       "grid_template_rows": null,
       "height": null,
       "justify_content": null,
       "justify_items": null,
       "left": null,
       "margin": null,
       "max_height": null,
       "max_width": null,
       "min_height": null,
       "min_width": null,
       "object_fit": null,
       "object_position": null,
       "order": null,
       "overflow": null,
       "overflow_x": null,
       "overflow_y": null,
       "padding": null,
       "right": null,
       "top": null,
       "visibility": null,
       "width": null
      }
     },
     "a9dd757c023a410f9dfc1a96c365b384": {
      "model_module": "@jupyter-widgets/controls",
      "model_module_version": "1.5.0",
      "model_name": "FloatProgressModel",
      "state": {
       "_dom_classes": [],
       "_model_module": "@jupyter-widgets/controls",
       "_model_module_version": "1.5.0",
       "_model_name": "FloatProgressModel",
       "_view_count": null,
       "_view_module": "@jupyter-widgets/controls",
       "_view_module_version": "1.5.0",
       "_view_name": "ProgressView",
       "bar_style": "success",
       "description": "",
       "description_tooltip": null,
       "layout": "IPY_MODEL_a37a17c9fcb444d1a8dbb8d83db0053d",
       "max": 5069051.0,
       "min": 0.0,
       "orientation": "horizontal",
       "style": "IPY_MODEL_b11ebe1a28c6494bb28d3b5113c98d64",
       "value": 5069051.0
      }
     },
     "aa3dee4c372e4a079117bde7329a7d2a": {
      "model_module": "@jupyter-widgets/base",
      "model_module_version": "1.2.0",
      "model_name": "LayoutModel",
      "state": {
       "_model_module": "@jupyter-widgets/base",
       "_model_module_version": "1.2.0",
       "_model_name": "LayoutModel",
       "_view_count": null,
       "_view_module": "@jupyter-widgets/base",
       "_view_module_version": "1.2.0",
       "_view_name": "LayoutView",
       "align_content": null,
       "align_items": null,
       "align_self": null,
       "border": null,
       "bottom": null,
       "display": null,
       "flex": null,
       "flex_flow": null,
       "grid_area": null,
       "grid_auto_columns": null,
       "grid_auto_flow": null,
       "grid_auto_rows": null,
       "grid_column": null,
       "grid_gap": null,
       "grid_row": null,
       "grid_template_areas": null,
       "grid_template_columns": null,
       "grid_template_rows": null,
       "height": null,
       "justify_content": null,
       "justify_items": null,
       "left": null,
       "margin": null,
       "max_height": null,
       "max_width": null,
       "min_height": null,
       "min_width": null,
       "object_fit": null,
       "object_position": null,
       "order": null,
       "overflow": null,
       "overflow_x": null,
       "overflow_y": null,
       "padding": null,
       "right": null,
       "top": null,
       "visibility": null,
       "width": "20px"
      }
     },
     "aa6dd87c111c4419b7be7facf576b841": {
      "model_module": "@jupyter-widgets/controls",
      "model_module_version": "1.5.0",
      "model_name": "HTMLModel",
      "state": {
       "_dom_classes": [],
       "_model_module": "@jupyter-widgets/controls",
       "_model_module_version": "1.5.0",
       "_model_name": "HTMLModel",
       "_view_count": null,
       "_view_module": "@jupyter-widgets/controls",
       "_view_module_version": "1.5.0",
       "_view_name": "HTMLView",
       "description": "",
       "description_tooltip": null,
       "layout": "IPY_MODEL_c022235f95ed4673a777dfae89496309",
       "placeholder": "​",
       "style": "IPY_MODEL_7db3d71967734fbab2bff1f57862c8ea",
       "value": " 4.83M/4.83M [00:00&lt;00:00, 27.1MB/s]"
      }
     },
     "aac4eec38981407f945c4bbba0a64290": {
      "model_module": "@jupyter-widgets/controls",
      "model_module_version": "1.5.0",
      "model_name": "ProgressStyleModel",
      "state": {
       "_model_module": "@jupyter-widgets/controls",
       "_model_module_version": "1.5.0",
       "_model_name": "ProgressStyleModel",
       "_view_count": null,
       "_view_module": "@jupyter-widgets/base",
       "_view_module_version": "1.2.0",
       "_view_name": "StyleView",
       "bar_color": null,
       "description_width": ""
      }
     },
     "af37619d08f245d0818f40d07e96ec05": {
      "model_module": "@jupyter-widgets/controls",
      "model_module_version": "1.5.0",
      "model_name": "DescriptionStyleModel",
      "state": {
       "_model_module": "@jupyter-widgets/controls",
       "_model_module_version": "1.5.0",
       "_model_name": "DescriptionStyleModel",
       "_view_count": null,
       "_view_module": "@jupyter-widgets/base",
       "_view_module_version": "1.2.0",
       "_view_name": "StyleView",
       "description_width": ""
      }
     },
     "b028cbaa03d24f66aeb81fc9d48cc798": {
      "model_module": "@jupyter-widgets/controls",
      "model_module_version": "1.5.0",
      "model_name": "HTMLModel",
      "state": {
       "_dom_classes": [],
       "_model_module": "@jupyter-widgets/controls",
       "_model_module_version": "1.5.0",
       "_model_name": "HTMLModel",
       "_view_count": null,
       "_view_module": "@jupyter-widgets/controls",
       "_view_module_version": "1.5.0",
       "_view_name": "HTMLView",
       "description": "",
       "description_tooltip": null,
       "layout": "IPY_MODEL_1360cb058ab8418086e9c43f34c70763",
       "placeholder": "​",
       "style": "IPY_MODEL_312125d94ae34916b166dc7f1af06ee1",
       "value": ""
      }
     },
     "b11ebe1a28c6494bb28d3b5113c98d64": {
      "model_module": "@jupyter-widgets/controls",
      "model_module_version": "1.5.0",
      "model_name": "ProgressStyleModel",
      "state": {
       "_model_module": "@jupyter-widgets/controls",
       "_model_module_version": "1.5.0",
       "_model_name": "ProgressStyleModel",
       "_view_count": null,
       "_view_module": "@jupyter-widgets/base",
       "_view_module_version": "1.2.0",
       "_view_name": "StyleView",
       "bar_color": null,
       "description_width": ""
      }
     },
     "b1d1a3aa6e834861bcc3581f00ffe553": {
      "model_module": "@jupyter-widgets/base",
      "model_module_version": "1.2.0",
      "model_name": "LayoutModel",
      "state": {
       "_model_module": "@jupyter-widgets/base",
       "_model_module_version": "1.2.0",
       "_model_name": "LayoutModel",
       "_view_count": null,
       "_view_module": "@jupyter-widgets/base",
       "_view_module_version": "1.2.0",
       "_view_name": "LayoutView",
       "align_content": null,
       "align_items": null,
       "align_self": null,
       "border": null,
       "bottom": null,
       "display": null,
       "flex": null,
       "flex_flow": null,
       "grid_area": null,
       "grid_auto_columns": null,
       "grid_auto_flow": null,
       "grid_auto_rows": null,
       "grid_column": null,
       "grid_gap": null,
       "grid_row": null,
       "grid_template_areas": null,
       "grid_template_columns": null,
       "grid_template_rows": null,
       "height": null,
       "justify_content": null,
       "justify_items": null,
       "left": null,
       "margin": null,
       "max_height": null,
       "max_width": null,
       "min_height": null,
       "min_width": null,
       "object_fit": null,
       "object_position": null,
       "order": null,
       "overflow": null,
       "overflow_x": null,
       "overflow_y": null,
       "padding": null,
       "right": null,
       "top": null,
       "visibility": null,
       "width": null
      }
     },
     "b33fe439a38e47a3be9695dd0973d573": {
      "model_module": "@jupyter-widgets/controls",
      "model_module_version": "1.5.0",
      "model_name": "HBoxModel",
      "state": {
       "_dom_classes": [],
       "_model_module": "@jupyter-widgets/controls",
       "_model_module_version": "1.5.0",
       "_model_name": "HBoxModel",
       "_view_count": null,
       "_view_module": "@jupyter-widgets/controls",
       "_view_module_version": "1.5.0",
       "_view_name": "HBoxView",
       "box_style": "",
       "children": [
        "IPY_MODEL_b028cbaa03d24f66aeb81fc9d48cc798",
        "IPY_MODEL_888d2a520b264843b9789d2aa08ba66e",
        "IPY_MODEL_e15d80905caf41de8ddbcb6db6c6b44e"
       ],
       "layout": "IPY_MODEL_c78d06c4e214485480a487009f094a7c"
      }
     },
     "b499ad16704a49dcad2d46712ffdbf4d": {
      "model_module": "@jupyter-widgets/base",
      "model_module_version": "1.2.0",
      "model_name": "LayoutModel",
      "state": {
       "_model_module": "@jupyter-widgets/base",
       "_model_module_version": "1.2.0",
       "_model_name": "LayoutModel",
       "_view_count": null,
       "_view_module": "@jupyter-widgets/base",
       "_view_module_version": "1.2.0",
       "_view_name": "LayoutView",
       "align_content": null,
       "align_items": null,
       "align_self": null,
       "border": null,
       "bottom": null,
       "display": null,
       "flex": null,
       "flex_flow": null,
       "grid_area": null,
       "grid_auto_columns": null,
       "grid_auto_flow": null,
       "grid_auto_rows": null,
       "grid_column": null,
       "grid_gap": null,
       "grid_row": null,
       "grid_template_areas": null,
       "grid_template_columns": null,
       "grid_template_rows": null,
       "height": null,
       "justify_content": null,
       "justify_items": null,
       "left": null,
       "margin": null,
       "max_height": null,
       "max_width": null,
       "min_height": null,
       "min_width": null,
       "object_fit": null,
       "object_position": null,
       "order": null,
       "overflow": null,
       "overflow_x": null,
       "overflow_y": null,
       "padding": null,
       "right": null,
       "top": null,
       "visibility": null,
       "width": "20px"
      }
     },
     "b649c391ff4b4c38902857f9e0a56faa": {
      "model_module": "@jupyter-widgets/controls",
      "model_module_version": "1.5.0",
      "model_name": "HTMLModel",
      "state": {
       "_dom_classes": [],
       "_model_module": "@jupyter-widgets/controls",
       "_model_module_version": "1.5.0",
       "_model_name": "HTMLModel",
       "_view_count": null,
       "_view_module": "@jupyter-widgets/controls",
       "_view_module_version": "1.5.0",
       "_view_name": "HTMLView",
       "description": "",
       "description_tooltip": null,
       "layout": "IPY_MODEL_18310a2ca55d4fc3a8ab53a876110573",
       "placeholder": "​",
       "style": "IPY_MODEL_af37619d08f245d0818f40d07e96ec05",
       "value": ""
      }
     },
     "b805f914c65f4984b00ad74cf24a00ef": {
      "model_module": "@jupyter-widgets/controls",
      "model_module_version": "1.5.0",
      "model_name": "ProgressStyleModel",
      "state": {
       "_model_module": "@jupyter-widgets/controls",
       "_model_module_version": "1.5.0",
       "_model_name": "ProgressStyleModel",
       "_view_count": null,
       "_view_module": "@jupyter-widgets/base",
       "_view_module_version": "1.2.0",
       "_view_name": "StyleView",
       "bar_color": null,
       "description_width": ""
      }
     },
     "b8907e460a8745ddac1f2fc4e483c26b": {
      "model_module": "@jupyter-widgets/base",
      "model_module_version": "1.2.0",
      "model_name": "LayoutModel",
      "state": {
       "_model_module": "@jupyter-widgets/base",
       "_model_module_version": "1.2.0",
       "_model_name": "LayoutModel",
       "_view_count": null,
       "_view_module": "@jupyter-widgets/base",
       "_view_module_version": "1.2.0",
       "_view_name": "LayoutView",
       "align_content": null,
       "align_items": null,
       "align_self": null,
       "border": null,
       "bottom": null,
       "display": null,
       "flex": null,
       "flex_flow": null,
       "grid_area": null,
       "grid_auto_columns": null,
       "grid_auto_flow": null,
       "grid_auto_rows": null,
       "grid_column": null,
       "grid_gap": null,
       "grid_row": null,
       "grid_template_areas": null,
       "grid_template_columns": null,
       "grid_template_rows": null,
       "height": null,
       "justify_content": null,
       "justify_items": null,
       "left": null,
       "margin": null,
       "max_height": null,
       "max_width": null,
       "min_height": null,
       "min_width": null,
       "object_fit": null,
       "object_position": null,
       "order": null,
       "overflow": null,
       "overflow_x": null,
       "overflow_y": null,
       "padding": null,
       "right": null,
       "top": null,
       "visibility": null,
       "width": null
      }
     },
     "bba00d686b8f4fe5a9a1c5193d62929c": {
      "model_module": "@jupyter-widgets/controls",
      "model_module_version": "1.5.0",
      "model_name": "HTMLModel",
      "state": {
       "_dom_classes": [],
       "_model_module": "@jupyter-widgets/controls",
       "_model_module_version": "1.5.0",
       "_model_name": "HTMLModel",
       "_view_count": null,
       "_view_module": "@jupyter-widgets/controls",
       "_view_module_version": "1.5.0",
       "_view_name": "HTMLView",
       "description": "",
       "description_tooltip": null,
       "layout": "IPY_MODEL_8bc939d179bd40e4a7141e0e7c50b9f4",
       "placeholder": "​",
       "style": "IPY_MODEL_beb853623ed7422886586ed7b668fe2d",
       "value": ""
      }
     },
     "bbf06e3bc83c47fe8c57c5894b24a106": {
      "model_module": "@jupyter-widgets/base",
      "model_module_version": "1.2.0",
      "model_name": "LayoutModel",
      "state": {
       "_model_module": "@jupyter-widgets/base",
       "_model_module_version": "1.2.0",
       "_model_name": "LayoutModel",
       "_view_count": null,
       "_view_module": "@jupyter-widgets/base",
       "_view_module_version": "1.2.0",
       "_view_name": "LayoutView",
       "align_content": null,
       "align_items": null,
       "align_self": null,
       "border": null,
       "bottom": null,
       "display": null,
       "flex": null,
       "flex_flow": null,
       "grid_area": null,
       "grid_auto_columns": null,
       "grid_auto_flow": null,
       "grid_auto_rows": null,
       "grid_column": null,
       "grid_gap": null,
       "grid_row": null,
       "grid_template_areas": null,
       "grid_template_columns": null,
       "grid_template_rows": null,
       "height": null,
       "justify_content": null,
       "justify_items": null,
       "left": null,
       "margin": null,
       "max_height": null,
       "max_width": null,
       "min_height": null,
       "min_width": null,
       "object_fit": null,
       "object_position": null,
       "order": null,
       "overflow": null,
       "overflow_x": null,
       "overflow_y": null,
       "padding": null,
       "right": null,
       "top": null,
       "visibility": null,
       "width": null
      }
     },
     "bd1516f241b14d46b32f948288a501a7": {
      "model_module": "@jupyter-widgets/controls",
      "model_module_version": "1.5.0",
      "model_name": "ProgressStyleModel",
      "state": {
       "_model_module": "@jupyter-widgets/controls",
       "_model_module_version": "1.5.0",
       "_model_name": "ProgressStyleModel",
       "_view_count": null,
       "_view_module": "@jupyter-widgets/base",
       "_view_module_version": "1.2.0",
       "_view_name": "StyleView",
       "bar_color": null,
       "description_width": ""
      }
     },
     "bd3bf924eff54525a32b74ec695a19cf": {
      "model_module": "@jupyter-widgets/controls",
      "model_module_version": "1.5.0",
      "model_name": "DescriptionStyleModel",
      "state": {
       "_model_module": "@jupyter-widgets/controls",
       "_model_module_version": "1.5.0",
       "_model_name": "DescriptionStyleModel",
       "_view_count": null,
       "_view_module": "@jupyter-widgets/base",
       "_view_module_version": "1.2.0",
       "_view_name": "StyleView",
       "description_width": ""
      }
     },
     "beb853623ed7422886586ed7b668fe2d": {
      "model_module": "@jupyter-widgets/controls",
      "model_module_version": "1.5.0",
      "model_name": "DescriptionStyleModel",
      "state": {
       "_model_module": "@jupyter-widgets/controls",
       "_model_module_version": "1.5.0",
       "_model_name": "DescriptionStyleModel",
       "_view_count": null,
       "_view_module": "@jupyter-widgets/base",
       "_view_module_version": "1.2.0",
       "_view_name": "StyleView",
       "description_width": ""
      }
     },
     "bf5ba23b3f9d4f118b8d23dc6845347c": {
      "model_module": "@jupyter-widgets/controls",
      "model_module_version": "1.5.0",
      "model_name": "FloatProgressModel",
      "state": {
       "_dom_classes": [],
       "_model_module": "@jupyter-widgets/controls",
       "_model_module_version": "1.5.0",
       "_model_name": "FloatProgressModel",
       "_view_count": null,
       "_view_module": "@jupyter-widgets/controls",
       "_view_module_version": "1.5.0",
       "_view_name": "ProgressView",
       "bar_style": "success",
       "description": "",
       "description_tooltip": null,
       "layout": "IPY_MODEL_dd6fa2e7349e49a18c9baee134197b72",
       "max": 1.0,
       "min": 0.0,
       "orientation": "horizontal",
       "style": "IPY_MODEL_8f003885e322469f95cdcbf1ab887dc1",
       "value": 1.0
      }
     },
     "c022235f95ed4673a777dfae89496309": {
      "model_module": "@jupyter-widgets/base",
      "model_module_version": "1.2.0",
      "model_name": "LayoutModel",
      "state": {
       "_model_module": "@jupyter-widgets/base",
       "_model_module_version": "1.2.0",
       "_model_name": "LayoutModel",
       "_view_count": null,
       "_view_module": "@jupyter-widgets/base",
       "_view_module_version": "1.2.0",
       "_view_name": "LayoutView",
       "align_content": null,
       "align_items": null,
       "align_self": null,
       "border": null,
       "bottom": null,
       "display": null,
       "flex": null,
       "flex_flow": null,
       "grid_area": null,
       "grid_auto_columns": null,
       "grid_auto_flow": null,
       "grid_auto_rows": null,
       "grid_column": null,
       "grid_gap": null,
       "grid_row": null,
       "grid_template_areas": null,
       "grid_template_columns": null,
       "grid_template_rows": null,
       "height": null,
       "justify_content": null,
       "justify_items": null,
       "left": null,
       "margin": null,
       "max_height": null,
       "max_width": null,
       "min_height": null,
       "min_width": null,
       "object_fit": null,
       "object_position": null,
       "order": null,
       "overflow": null,
       "overflow_x": null,
       "overflow_y": null,
       "padding": null,
       "right": null,
       "top": null,
       "visibility": null,
       "width": null
      }
     },
     "c0d413dd79bf419187f8d69736a5e6ab": {
      "model_module": "@jupyter-widgets/controls",
      "model_module_version": "1.5.0",
      "model_name": "HTMLModel",
      "state": {
       "_dom_classes": [],
       "_model_module": "@jupyter-widgets/controls",
       "_model_module_version": "1.5.0",
       "_model_name": "HTMLModel",
       "_view_count": null,
       "_view_module": "@jupyter-widgets/controls",
       "_view_module_version": "1.5.0",
       "_view_name": "HTMLView",
       "description": "",
       "description_tooltip": null,
       "layout": "IPY_MODEL_8357cd8c45ab4da395a9fbbd45084be1",
       "placeholder": "​",
       "style": "IPY_MODEL_77e1548ac3ef4996a9044ab178b63494",
       "value": ""
      }
     },
     "c38aa2dd75114cfa98e51b32df8751f3": {
      "model_module": "@jupyter-widgets/base",
      "model_module_version": "1.2.0",
      "model_name": "LayoutModel",
      "state": {
       "_model_module": "@jupyter-widgets/base",
       "_model_module_version": "1.2.0",
       "_model_name": "LayoutModel",
       "_view_count": null,
       "_view_module": "@jupyter-widgets/base",
       "_view_module_version": "1.2.0",
       "_view_name": "LayoutView",
       "align_content": null,
       "align_items": null,
       "align_self": null,
       "border": null,
       "bottom": null,
       "display": null,
       "flex": null,
       "flex_flow": null,
       "grid_area": null,
       "grid_auto_columns": null,
       "grid_auto_flow": null,
       "grid_auto_rows": null,
       "grid_column": null,
       "grid_gap": null,
       "grid_row": null,
       "grid_template_areas": null,
       "grid_template_columns": null,
       "grid_template_rows": null,
       "height": null,
       "justify_content": null,
       "justify_items": null,
       "left": null,
       "margin": null,
       "max_height": null,
       "max_width": null,
       "min_height": null,
       "min_width": null,
       "object_fit": null,
       "object_position": null,
       "order": null,
       "overflow": null,
       "overflow_x": null,
       "overflow_y": null,
       "padding": null,
       "right": null,
       "top": null,
       "visibility": null,
       "width": null
      }
     },
     "c436528247334edfb8b3a20ad9ad8521": {
      "model_module": "@jupyter-widgets/controls",
      "model_module_version": "1.5.0",
      "model_name": "HTMLModel",
      "state": {
       "_dom_classes": [],
       "_model_module": "@jupyter-widgets/controls",
       "_model_module_version": "1.5.0",
       "_model_name": "HTMLModel",
       "_view_count": null,
       "_view_module": "@jupyter-widgets/controls",
       "_view_module_version": "1.5.0",
       "_view_name": "HTMLView",
       "description": "",
       "description_tooltip": null,
       "layout": "IPY_MODEL_4e7a695fb58f4f66adf68e2a0ced821c",
       "placeholder": "​",
       "style": "IPY_MODEL_f22bb07fb3b24c049d2526af3c8352bf",
       "value": "Downloading: 100%"
      }
     },
     "c6067588a4cd48f39df60e76c272e2ba": {
      "model_module": "@jupyter-widgets/controls",
      "model_module_version": "1.5.0",
      "model_name": "DescriptionStyleModel",
      "state": {
       "_model_module": "@jupyter-widgets/controls",
       "_model_module_version": "1.5.0",
       "_model_name": "DescriptionStyleModel",
       "_view_count": null,
       "_view_module": "@jupyter-widgets/base",
       "_view_module_version": "1.2.0",
       "_view_name": "StyleView",
       "description_width": ""
      }
     },
     "c78d06c4e214485480a487009f094a7c": {
      "model_module": "@jupyter-widgets/base",
      "model_module_version": "1.2.0",
      "model_name": "LayoutModel",
      "state": {
       "_model_module": "@jupyter-widgets/base",
       "_model_module_version": "1.2.0",
       "_model_name": "LayoutModel",
       "_view_count": null,
       "_view_module": "@jupyter-widgets/base",
       "_view_module_version": "1.2.0",
       "_view_name": "LayoutView",
       "align_content": null,
       "align_items": null,
       "align_self": null,
       "border": null,
       "bottom": null,
       "display": null,
       "flex": null,
       "flex_flow": null,
       "grid_area": null,
       "grid_auto_columns": null,
       "grid_auto_flow": null,
       "grid_auto_rows": null,
       "grid_column": null,
       "grid_gap": null,
       "grid_row": null,
       "grid_template_areas": null,
       "grid_template_columns": null,
       "grid_template_rows": null,
       "height": null,
       "justify_content": null,
       "justify_items": null,
       "left": null,
       "margin": null,
       "max_height": null,
       "max_width": null,
       "min_height": null,
       "min_width": null,
       "object_fit": null,
       "object_position": null,
       "order": null,
       "overflow": null,
       "overflow_x": null,
       "overflow_y": null,
       "padding": null,
       "right": null,
       "top": null,
       "visibility": null,
       "width": null
      }
     },
     "c90364ffa2234c1abe517cb48b273a39": {
      "model_module": "@jupyter-widgets/controls",
      "model_module_version": "1.5.0",
      "model_name": "DescriptionStyleModel",
      "state": {
       "_model_module": "@jupyter-widgets/controls",
       "_model_module_version": "1.5.0",
       "_model_name": "DescriptionStyleModel",
       "_view_count": null,
       "_view_module": "@jupyter-widgets/base",
       "_view_module_version": "1.2.0",
       "_view_name": "StyleView",
       "description_width": ""
      }
     },
     "ca02b524408e47a5bfa73dc1ce284f49": {
      "model_module": "@jupyter-widgets/controls",
      "model_module_version": "1.5.0",
      "model_name": "FloatProgressModel",
      "state": {
       "_dom_classes": [],
       "_model_module": "@jupyter-widgets/controls",
       "_model_module_version": "1.5.0",
       "_model_name": "FloatProgressModel",
       "_view_count": null,
       "_view_module": "@jupyter-widgets/controls",
       "_view_module_version": "1.5.0",
       "_view_name": "ProgressView",
       "bar_style": "success",
       "description": "",
       "description_tooltip": null,
       "layout": "IPY_MODEL_e64a366646124dcc8befda127128c249",
       "max": 1.0,
       "min": 0.0,
       "orientation": "horizontal",
       "style": "IPY_MODEL_aac4eec38981407f945c4bbba0a64290",
       "value": 1.0
      }
     },
     "cb3d9d4998ca49888b7e34f98a9f607a": {
      "model_module": "@jupyter-widgets/base",
      "model_module_version": "1.2.0",
      "model_name": "LayoutModel",
      "state": {
       "_model_module": "@jupyter-widgets/base",
       "_model_module_version": "1.2.0",
       "_model_name": "LayoutModel",
       "_view_count": null,
       "_view_module": "@jupyter-widgets/base",
       "_view_module_version": "1.2.0",
       "_view_name": "LayoutView",
       "align_content": null,
       "align_items": null,
       "align_self": null,
       "border": null,
       "bottom": null,
       "display": null,
       "flex": null,
       "flex_flow": null,
       "grid_area": null,
       "grid_auto_columns": null,
       "grid_auto_flow": null,
       "grid_auto_rows": null,
       "grid_column": null,
       "grid_gap": null,
       "grid_row": null,
       "grid_template_areas": null,
       "grid_template_columns": null,
       "grid_template_rows": null,
       "height": null,
       "justify_content": null,
       "justify_items": null,
       "left": null,
       "margin": null,
       "max_height": null,
       "max_width": null,
       "min_height": null,
       "min_width": null,
       "object_fit": null,
       "object_position": null,
       "order": null,
       "overflow": null,
       "overflow_x": null,
       "overflow_y": null,
       "padding": null,
       "right": null,
       "top": null,
       "visibility": null,
       "width": null
      }
     },
     "cc304cce5e6f49af98a08d3fdfb3756f": {
      "model_module": "@jupyter-widgets/base",
      "model_module_version": "1.2.0",
      "model_name": "LayoutModel",
      "state": {
       "_model_module": "@jupyter-widgets/base",
       "_model_module_version": "1.2.0",
       "_model_name": "LayoutModel",
       "_view_count": null,
       "_view_module": "@jupyter-widgets/base",
       "_view_module_version": "1.2.0",
       "_view_name": "LayoutView",
       "align_content": null,
       "align_items": null,
       "align_self": null,
       "border": null,
       "bottom": null,
       "display": null,
       "flex": null,
       "flex_flow": null,
       "grid_area": null,
       "grid_auto_columns": null,
       "grid_auto_flow": null,
       "grid_auto_rows": null,
       "grid_column": null,
       "grid_gap": null,
       "grid_row": null,
       "grid_template_areas": null,
       "grid_template_columns": null,
       "grid_template_rows": null,
       "height": null,
       "justify_content": null,
       "justify_items": null,
       "left": null,
       "margin": null,
       "max_height": null,
       "max_width": null,
       "min_height": null,
       "min_width": null,
       "object_fit": null,
       "object_position": null,
       "order": null,
       "overflow": null,
       "overflow_x": null,
       "overflow_y": null,
       "padding": null,
       "right": null,
       "top": null,
       "visibility": null,
       "width": "20px"
      }
     },
     "cd4cf8586bff481394a3557fd660cd7a": {
      "model_module": "@jupyter-widgets/controls",
      "model_module_version": "1.5.0",
      "model_name": "FloatProgressModel",
      "state": {
       "_dom_classes": [],
       "_model_module": "@jupyter-widgets/controls",
       "_model_module_version": "1.5.0",
       "_model_name": "FloatProgressModel",
       "_view_count": null,
       "_view_module": "@jupyter-widgets/controls",
       "_view_module_version": "1.5.0",
       "_view_name": "ProgressView",
       "bar_style": "success",
       "description": "",
       "description_tooltip": null,
       "layout": "IPY_MODEL_aa3dee4c372e4a079117bde7329a7d2a",
       "max": 1.0,
       "min": 0.0,
       "orientation": "horizontal",
       "style": "IPY_MODEL_151f65c270514a798121682625d087e6",
       "value": 1.0
      }
     },
     "d2260831266d4689a3f02241cd7a880a": {
      "model_module": "@jupyter-widgets/controls",
      "model_module_version": "1.5.0",
      "model_name": "HTMLModel",
      "state": {
       "_dom_classes": [],
       "_model_module": "@jupyter-widgets/controls",
       "_model_module_version": "1.5.0",
       "_model_name": "HTMLModel",
       "_view_count": null,
       "_view_module": "@jupyter-widgets/controls",
       "_view_module_version": "1.5.0",
       "_view_name": "HTMLView",
       "description": "",
       "description_tooltip": null,
       "layout": "IPY_MODEL_4f3656f02b92410b96c6d8a2ee6e12db",
       "placeholder": "​",
       "style": "IPY_MODEL_7893643195084b9984480703870e1fff",
       "value": " 483/? [00:00&lt;00:00, 7305.57ex/s]"
      }
     },
     "d228662228af4c5bba7bebc414b5e422": {
      "model_module": "@jupyter-widgets/base",
      "model_module_version": "1.2.0",
      "model_name": "LayoutModel",
      "state": {
       "_model_module": "@jupyter-widgets/base",
       "_model_module_version": "1.2.0",
       "_model_name": "LayoutModel",
       "_view_count": null,
       "_view_module": "@jupyter-widgets/base",
       "_view_module_version": "1.2.0",
       "_view_name": "LayoutView",
       "align_content": null,
       "align_items": null,
       "align_self": null,
       "border": null,
       "bottom": null,
       "display": null,
       "flex": null,
       "flex_flow": null,
       "grid_area": null,
       "grid_auto_columns": null,
       "grid_auto_flow": null,
       "grid_auto_rows": null,
       "grid_column": null,
       "grid_gap": null,
       "grid_row": null,
       "grid_template_areas": null,
       "grid_template_columns": null,
       "grid_template_rows": null,
       "height": null,
       "justify_content": null,
       "justify_items": null,
       "left": null,
       "margin": null,
       "max_height": null,
       "max_width": null,
       "min_height": null,
       "min_width": null,
       "object_fit": null,
       "object_position": null,
       "order": null,
       "overflow": null,
       "overflow_x": null,
       "overflow_y": null,
       "padding": null,
       "right": null,
       "top": null,
       "visibility": null,
       "width": null
      }
     },
     "d2bf0720a9cc4dc084f9bba95112cb3f": {
      "model_module": "@jupyter-widgets/controls",
      "model_module_version": "1.5.0",
      "model_name": "DescriptionStyleModel",
      "state": {
       "_model_module": "@jupyter-widgets/controls",
       "_model_module_version": "1.5.0",
       "_model_name": "DescriptionStyleModel",
       "_view_count": null,
       "_view_module": "@jupyter-widgets/base",
       "_view_module_version": "1.2.0",
       "_view_name": "StyleView",
       "description_width": ""
      }
     },
     "d6d2bb5cf7384b0786d53716bbda5130": {
      "model_module": "@jupyter-widgets/base",
      "model_module_version": "1.2.0",
      "model_name": "LayoutModel",
      "state": {
       "_model_module": "@jupyter-widgets/base",
       "_model_module_version": "1.2.0",
       "_model_name": "LayoutModel",
       "_view_count": null,
       "_view_module": "@jupyter-widgets/base",
       "_view_module_version": "1.2.0",
       "_view_name": "LayoutView",
       "align_content": null,
       "align_items": null,
       "align_self": null,
       "border": null,
       "bottom": null,
       "display": null,
       "flex": null,
       "flex_flow": null,
       "grid_area": null,
       "grid_auto_columns": null,
       "grid_auto_flow": null,
       "grid_auto_rows": null,
       "grid_column": null,
       "grid_gap": null,
       "grid_row": null,
       "grid_template_areas": null,
       "grid_template_columns": null,
       "grid_template_rows": null,
       "height": null,
       "justify_content": null,
       "justify_items": null,
       "left": null,
       "margin": null,
       "max_height": null,
       "max_width": null,
       "min_height": null,
       "min_width": null,
       "object_fit": null,
       "object_position": null,
       "order": null,
       "overflow": null,
       "overflow_x": null,
       "overflow_y": null,
       "padding": null,
       "right": null,
       "top": null,
       "visibility": null,
       "width": "20px"
      }
     },
     "d944ebf8ddbe437ea2e1bb26efcc511e": {
      "model_module": "@jupyter-widgets/controls",
      "model_module_version": "1.5.0",
      "model_name": "DescriptionStyleModel",
      "state": {
       "_model_module": "@jupyter-widgets/controls",
       "_model_module_version": "1.5.0",
       "_model_name": "DescriptionStyleModel",
       "_view_count": null,
       "_view_module": "@jupyter-widgets/base",
       "_view_module_version": "1.2.0",
       "_view_name": "StyleView",
       "description_width": ""
      }
     },
     "d9de138595ff4c86b7b0d65725bb65ed": {
      "model_module": "@jupyter-widgets/controls",
      "model_module_version": "1.5.0",
      "model_name": "HTMLModel",
      "state": {
       "_dom_classes": [],
       "_model_module": "@jupyter-widgets/controls",
       "_model_module_version": "1.5.0",
       "_model_name": "HTMLModel",
       "_view_count": null,
       "_view_module": "@jupyter-widgets/controls",
       "_view_module_version": "1.5.0",
       "_view_name": "HTMLView",
       "description": "",
       "description_tooltip": null,
       "layout": "IPY_MODEL_7c09923c070b417b8d35a7c8e9830ada",
       "placeholder": "​",
       "style": "IPY_MODEL_d944ebf8ddbe437ea2e1bb26efcc511e",
       "value": ""
      }
     },
     "daae7671025b475bad1b6891ccc232bd": {
      "model_module": "@jupyter-widgets/controls",
      "model_module_version": "1.5.0",
      "model_name": "HBoxModel",
      "state": {
       "_dom_classes": [],
       "_model_module": "@jupyter-widgets/controls",
       "_model_module_version": "1.5.0",
       "_model_name": "HBoxModel",
       "_view_count": null,
       "_view_module": "@jupyter-widgets/controls",
       "_view_module_version": "1.5.0",
       "_view_name": "HBoxView",
       "box_style": "",
       "children": [
        "IPY_MODEL_6e089868d73d4e59808110a8631a0a5b",
        "IPY_MODEL_0bd267d2768448d3a5b651c4e67733ce",
        "IPY_MODEL_37bc756044ff4689a39d2aa55cb3e3bb"
       ],
       "layout": "IPY_MODEL_bbf06e3bc83c47fe8c57c5894b24a106"
      }
     },
     "dc64f62118da48c193b196312e4dc24c": {
      "model_module": "@jupyter-widgets/controls",
      "model_module_version": "1.5.0",
      "model_name": "HTMLModel",
      "state": {
       "_dom_classes": [],
       "_model_module": "@jupyter-widgets/controls",
       "_model_module_version": "1.5.0",
       "_model_name": "HTMLModel",
       "_view_count": null,
       "_view_module": "@jupyter-widgets/controls",
       "_view_module_version": "1.5.0",
       "_view_name": "HTMLView",
       "description": "",
       "description_tooltip": null,
       "layout": "IPY_MODEL_c38aa2dd75114cfa98e51b32df8751f3",
       "placeholder": "​",
       "style": "IPY_MODEL_fb81076e88f54fbbac8e858c8d6297fb",
       "value": " 1705/? [00:00&lt;00:00, 3869.38ex/s]"
      }
     },
     "dd407cf8265645078f980c0ae58288cc": {
      "model_module": "@jupyter-widgets/base",
      "model_module_version": "1.2.0",
      "model_name": "LayoutModel",
      "state": {
       "_model_module": "@jupyter-widgets/base",
       "_model_module_version": "1.2.0",
       "_model_name": "LayoutModel",
       "_view_count": null,
       "_view_module": "@jupyter-widgets/base",
       "_view_module_version": "1.2.0",
       "_view_name": "LayoutView",
       "align_content": null,
       "align_items": null,
       "align_self": null,
       "border": null,
       "bottom": null,
       "display": null,
       "flex": null,
       "flex_flow": null,
       "grid_area": null,
       "grid_auto_columns": null,
       "grid_auto_flow": null,
       "grid_auto_rows": null,
       "grid_column": null,
       "grid_gap": null,
       "grid_row": null,
       "grid_template_areas": null,
       "grid_template_columns": null,
       "grid_template_rows": null,
       "height": null,
       "justify_content": null,
       "justify_items": null,
       "left": null,
       "margin": null,
       "max_height": null,
       "max_width": null,
       "min_height": null,
       "min_width": null,
       "object_fit": null,
       "object_position": null,
       "order": null,
       "overflow": null,
       "overflow_x": null,
       "overflow_y": null,
       "padding": null,
       "right": null,
       "top": null,
       "visibility": null,
       "width": null
      }
     },
     "dd6fa2e7349e49a18c9baee134197b72": {
      "model_module": "@jupyter-widgets/base",
      "model_module_version": "1.2.0",
      "model_name": "LayoutModel",
      "state": {
       "_model_module": "@jupyter-widgets/base",
       "_model_module_version": "1.2.0",
       "_model_name": "LayoutModel",
       "_view_count": null,
       "_view_module": "@jupyter-widgets/base",
       "_view_module_version": "1.2.0",
       "_view_name": "LayoutView",
       "align_content": null,
       "align_items": null,
       "align_self": null,
       "border": null,
       "bottom": null,
       "display": null,
       "flex": null,
       "flex_flow": null,
       "grid_area": null,
       "grid_auto_columns": null,
       "grid_auto_flow": null,
       "grid_auto_rows": null,
       "grid_column": null,
       "grid_gap": null,
       "grid_row": null,
       "grid_template_areas": null,
       "grid_template_columns": null,
       "grid_template_rows": null,
       "height": null,
       "justify_content": null,
       "justify_items": null,
       "left": null,
       "margin": null,
       "max_height": null,
       "max_width": null,
       "min_height": null,
       "min_width": null,
       "object_fit": null,
       "object_position": null,
       "order": null,
       "overflow": null,
       "overflow_x": null,
       "overflow_y": null,
       "padding": null,
       "right": null,
       "top": null,
       "visibility": null,
       "width": "20px"
      }
     },
     "e00f50045bba49a5828688713c61302e": {
      "model_module": "@jupyter-widgets/base",
      "model_module_version": "1.2.0",
      "model_name": "LayoutModel",
      "state": {
       "_model_module": "@jupyter-widgets/base",
       "_model_module_version": "1.2.0",
       "_model_name": "LayoutModel",
       "_view_count": null,
       "_view_module": "@jupyter-widgets/base",
       "_view_module_version": "1.2.0",
       "_view_name": "LayoutView",
       "align_content": null,
       "align_items": null,
       "align_self": null,
       "border": null,
       "bottom": null,
       "display": null,
       "flex": null,
       "flex_flow": null,
       "grid_area": null,
       "grid_auto_columns": null,
       "grid_auto_flow": null,
       "grid_auto_rows": null,
       "grid_column": null,
       "grid_gap": null,
       "grid_row": null,
       "grid_template_areas": null,
       "grid_template_columns": null,
       "grid_template_rows": null,
       "height": null,
       "justify_content": null,
       "justify_items": null,
       "left": null,
       "margin": null,
       "max_height": null,
       "max_width": null,
       "min_height": null,
       "min_width": null,
       "object_fit": null,
       "object_position": null,
       "order": null,
       "overflow": null,
       "overflow_x": null,
       "overflow_y": null,
       "padding": null,
       "right": null,
       "top": null,
       "visibility": null,
       "width": null
      }
     },
     "e0a9ce1f37274de7a61efd52d4bcfba0": {
      "model_module": "@jupyter-widgets/controls",
      "model_module_version": "1.5.0",
      "model_name": "HTMLModel",
      "state": {
       "_dom_classes": [],
       "_model_module": "@jupyter-widgets/controls",
       "_model_module_version": "1.5.0",
       "_model_name": "HTMLModel",
       "_view_count": null,
       "_view_module": "@jupyter-widgets/controls",
       "_view_module_version": "1.5.0",
       "_view_name": "HTMLView",
       "description": "",
       "description_tooltip": null,
       "layout": "IPY_MODEL_1c704a2c6a9348b3a394da18783cd1fa",
       "placeholder": "​",
       "style": "IPY_MODEL_802b8a207e6640f392ea69c11971f24d",
       "value": ""
      }
     },
     "e15d80905caf41de8ddbcb6db6c6b44e": {
      "model_module": "@jupyter-widgets/controls",
      "model_module_version": "1.5.0",
      "model_name": "HTMLModel",
      "state": {
       "_dom_classes": [],
       "_model_module": "@jupyter-widgets/controls",
       "_model_module_version": "1.5.0",
       "_model_name": "HTMLModel",
       "_view_count": null,
       "_view_module": "@jupyter-widgets/controls",
       "_view_module_version": "1.5.0",
       "_view_name": "HTMLView",
       "description": "",
       "description_tooltip": null,
       "layout": "IPY_MODEL_1cebfb0c26064626a78664020022f2a8",
       "placeholder": "​",
       "style": "IPY_MODEL_ef3265aa3b00485cbc040626212108f4",
       "value": " 483/? [00:00&lt;00:00, 3053.77ex/s]"
      }
     },
     "e2e9e2af9bf54cf19cacc03b92f881ec": {
      "model_module": "@jupyter-widgets/controls",
      "model_module_version": "1.5.0",
      "model_name": "ProgressStyleModel",
      "state": {
       "_model_module": "@jupyter-widgets/controls",
       "_model_module_version": "1.5.0",
       "_model_name": "ProgressStyleModel",
       "_view_count": null,
       "_view_module": "@jupyter-widgets/base",
       "_view_module_version": "1.2.0",
       "_view_name": "StyleView",
       "bar_color": null,
       "description_width": ""
      }
     },
     "e31f107d76f44e209d677cfe72a1f2c1": {
      "model_module": "@jupyter-widgets/controls",
      "model_module_version": "1.5.0",
      "model_name": "HBoxModel",
      "state": {
       "_dom_classes": [],
       "_model_module": "@jupyter-widgets/controls",
       "_model_module_version": "1.5.0",
       "_model_name": "HBoxModel",
       "_view_count": null,
       "_view_module": "@jupyter-widgets/controls",
       "_view_module_version": "1.5.0",
       "_view_name": "HBoxView",
       "box_style": "",
       "children": [
        "IPY_MODEL_c0d413dd79bf419187f8d69736a5e6ab",
        "IPY_MODEL_a61acd07ffdb47acb816f18800704645",
        "IPY_MODEL_21c6d9ae18df4bc2b9079acf7c9f8ab2"
       ],
       "layout": "IPY_MODEL_15c75afcd843409d8ed3c0b069bb37ec"
      }
     },
     "e321ca0e468f492084d5c6071811cf66": {
      "model_module": "@jupyter-widgets/controls",
      "model_module_version": "1.5.0",
      "model_name": "HBoxModel",
      "state": {
       "_dom_classes": [],
       "_model_module": "@jupyter-widgets/controls",
       "_model_module_version": "1.5.0",
       "_model_name": "HBoxModel",
       "_view_count": null,
       "_view_module": "@jupyter-widgets/controls",
       "_view_module_version": "1.5.0",
       "_view_name": "HBoxView",
       "box_style": "",
       "children": [
        "IPY_MODEL_d9de138595ff4c86b7b0d65725bb65ed",
        "IPY_MODEL_5c5cb22710674aeda29156dfa08a7271",
        "IPY_MODEL_21d34c54c1db4055bd59e657b7327bb5"
       ],
       "layout": "IPY_MODEL_7d1024bf360e49ab8495f096fe62b2cc"
      }
     },
     "e346cdba1f6544fd938d5ac6b8cd1f2a": {
      "model_module": "@jupyter-widgets/base",
      "model_module_version": "1.2.0",
      "model_name": "LayoutModel",
      "state": {
       "_model_module": "@jupyter-widgets/base",
       "_model_module_version": "1.2.0",
       "_model_name": "LayoutModel",
       "_view_count": null,
       "_view_module": "@jupyter-widgets/base",
       "_view_module_version": "1.2.0",
       "_view_name": "LayoutView",
       "align_content": null,
       "align_items": null,
       "align_self": null,
       "border": null,
       "bottom": null,
       "display": null,
       "flex": null,
       "flex_flow": null,
       "grid_area": null,
       "grid_auto_columns": null,
       "grid_auto_flow": null,
       "grid_auto_rows": null,
       "grid_column": null,
       "grid_gap": null,
       "grid_row": null,
       "grid_template_areas": null,
       "grid_template_columns": null,
       "grid_template_rows": null,
       "height": null,
       "justify_content": null,
       "justify_items": null,
       "left": null,
       "margin": null,
       "max_height": null,
       "max_width": null,
       "min_height": null,
       "min_width": null,
       "object_fit": null,
       "object_position": null,
       "order": null,
       "overflow": null,
       "overflow_x": null,
       "overflow_y": null,
       "padding": null,
       "right": null,
       "top": null,
       "visibility": null,
       "width": null
      }
     },
     "e3d5a03d392e47e7a3cf12dbd4d527ff": {
      "model_module": "@jupyter-widgets/base",
      "model_module_version": "1.2.0",
      "model_name": "LayoutModel",
      "state": {
       "_model_module": "@jupyter-widgets/base",
       "_model_module_version": "1.2.0",
       "_model_name": "LayoutModel",
       "_view_count": null,
       "_view_module": "@jupyter-widgets/base",
       "_view_module_version": "1.2.0",
       "_view_name": "LayoutView",
       "align_content": null,
       "align_items": null,
       "align_self": null,
       "border": null,
       "bottom": null,
       "display": null,
       "flex": null,
       "flex_flow": null,
       "grid_area": null,
       "grid_auto_columns": null,
       "grid_auto_flow": null,
       "grid_auto_rows": null,
       "grid_column": null,
       "grid_gap": null,
       "grid_row": null,
       "grid_template_areas": null,
       "grid_template_columns": null,
       "grid_template_rows": null,
       "height": null,
       "justify_content": null,
       "justify_items": null,
       "left": null,
       "margin": null,
       "max_height": null,
       "max_width": null,
       "min_height": null,
       "min_width": null,
       "object_fit": null,
       "object_position": null,
       "order": null,
       "overflow": null,
       "overflow_x": null,
       "overflow_y": null,
       "padding": null,
       "right": null,
       "top": null,
       "visibility": null,
       "width": null
      }
     },
     "e5529596a18746529afdc7d3382e7a21": {
      "model_module": "@jupyter-widgets/controls",
      "model_module_version": "1.5.0",
      "model_name": "ProgressStyleModel",
      "state": {
       "_model_module": "@jupyter-widgets/controls",
       "_model_module_version": "1.5.0",
       "_model_name": "ProgressStyleModel",
       "_view_count": null,
       "_view_module": "@jupyter-widgets/base",
       "_view_module_version": "1.2.0",
       "_view_name": "StyleView",
       "bar_color": null,
       "description_width": ""
      }
     },
     "e64a366646124dcc8befda127128c249": {
      "model_module": "@jupyter-widgets/base",
      "model_module_version": "1.2.0",
      "model_name": "LayoutModel",
      "state": {
       "_model_module": "@jupyter-widgets/base",
       "_model_module_version": "1.2.0",
       "_model_name": "LayoutModel",
       "_view_count": null,
       "_view_module": "@jupyter-widgets/base",
       "_view_module_version": "1.2.0",
       "_view_name": "LayoutView",
       "align_content": null,
       "align_items": null,
       "align_self": null,
       "border": null,
       "bottom": null,
       "display": null,
       "flex": null,
       "flex_flow": null,
       "grid_area": null,
       "grid_auto_columns": null,
       "grid_auto_flow": null,
       "grid_auto_rows": null,
       "grid_column": null,
       "grid_gap": null,
       "grid_row": null,
       "grid_template_areas": null,
       "grid_template_columns": null,
       "grid_template_rows": null,
       "height": null,
       "justify_content": null,
       "justify_items": null,
       "left": null,
       "margin": null,
       "max_height": null,
       "max_width": null,
       "min_height": null,
       "min_width": null,
       "object_fit": null,
       "object_position": null,
       "order": null,
       "overflow": null,
       "overflow_x": null,
       "overflow_y": null,
       "padding": null,
       "right": null,
       "top": null,
       "visibility": null,
       "width": "20px"
      }
     },
     "e663315765b14ca5afcb8120d388b24f": {
      "model_module": "@jupyter-widgets/controls",
      "model_module_version": "1.5.0",
      "model_name": "HBoxModel",
      "state": {
       "_dom_classes": [],
       "_model_module": "@jupyter-widgets/controls",
       "_model_module_version": "1.5.0",
       "_model_name": "HBoxModel",
       "_view_count": null,
       "_view_module": "@jupyter-widgets/controls",
       "_view_module_version": "1.5.0",
       "_view_name": "HBoxView",
       "box_style": "",
       "children": [
        "IPY_MODEL_c436528247334edfb8b3a20ad9ad8521",
        "IPY_MODEL_a9dd757c023a410f9dfc1a96c365b384",
        "IPY_MODEL_aa6dd87c111c4419b7be7facf576b841"
       ],
       "layout": "IPY_MODEL_96ebd4ed30ab43a2b4bf78adb15e95d1"
      }
     },
     "e8cc442a93b742a4acbc8682d15d17e4": {
      "model_module": "@jupyter-widgets/controls",
      "model_module_version": "1.5.0",
      "model_name": "HTMLModel",
      "state": {
       "_dom_classes": [],
       "_model_module": "@jupyter-widgets/controls",
       "_model_module_version": "1.5.0",
       "_model_name": "HTMLModel",
       "_view_count": null,
       "_view_module": "@jupyter-widgets/controls",
       "_view_module_version": "1.5.0",
       "_view_name": "HTMLView",
       "description": "",
       "description_tooltip": null,
       "layout": "IPY_MODEL_b1d1a3aa6e834861bcc3581f00ffe553",
       "placeholder": "​",
       "style": "IPY_MODEL_44b57ca227e04d65aa99dabc7a0a893d",
       "value": ""
      }
     },
     "e8ed079489d5464e8453bde97e868a12": {
      "model_module": "@jupyter-widgets/controls",
      "model_module_version": "1.5.0",
      "model_name": "HTMLModel",
      "state": {
       "_dom_classes": [],
       "_model_module": "@jupyter-widgets/controls",
       "_model_module_version": "1.5.0",
       "_model_name": "HTMLModel",
       "_view_count": null,
       "_view_module": "@jupyter-widgets/controls",
       "_view_module_version": "1.5.0",
       "_view_name": "HTMLView",
       "description": "",
       "description_tooltip": null,
       "layout": "IPY_MODEL_48367c0c125c40a2af4247568096c39a",
       "placeholder": "​",
       "style": "IPY_MODEL_7a8d091cded4458ca257e3e686b11a5d",
       "value": "Downloading: 100%"
      }
     },
     "e912a15bb0ca40f9bf957df90aaae856": {
      "model_module": "@jupyter-widgets/base",
      "model_module_version": "1.2.0",
      "model_name": "LayoutModel",
      "state": {
       "_model_module": "@jupyter-widgets/base",
       "_model_module_version": "1.2.0",
       "_model_name": "LayoutModel",
       "_view_count": null,
       "_view_module": "@jupyter-widgets/base",
       "_view_module_version": "1.2.0",
       "_view_name": "LayoutView",
       "align_content": null,
       "align_items": null,
       "align_self": null,
       "border": null,
       "bottom": null,
       "display": null,
       "flex": null,
       "flex_flow": null,
       "grid_area": null,
       "grid_auto_columns": null,
       "grid_auto_flow": null,
       "grid_auto_rows": null,
       "grid_column": null,
       "grid_gap": null,
       "grid_row": null,
       "grid_template_areas": null,
       "grid_template_columns": null,
       "grid_template_rows": null,
       "height": null,
       "justify_content": null,
       "justify_items": null,
       "left": null,
       "margin": null,
       "max_height": null,
       "max_width": null,
       "min_height": null,
       "min_width": null,
       "object_fit": null,
       "object_position": null,
       "order": null,
       "overflow": null,
       "overflow_x": null,
       "overflow_y": null,
       "padding": null,
       "right": null,
       "top": null,
       "visibility": null,
       "width": "20px"
      }
     },
     "ebc5143422e245b1aa2a14e8d0788606": {
      "model_module": "@jupyter-widgets/controls",
      "model_module_version": "1.5.0",
      "model_name": "HTMLModel",
      "state": {
       "_dom_classes": [],
       "_model_module": "@jupyter-widgets/controls",
       "_model_module_version": "1.5.0",
       "_model_name": "HTMLModel",
       "_view_count": null,
       "_view_module": "@jupyter-widgets/controls",
       "_view_module_version": "1.5.0",
       "_view_name": "HTMLView",
       "description": "",
       "description_tooltip": null,
       "layout": "IPY_MODEL_e00f50045bba49a5828688713c61302e",
       "placeholder": "​",
       "style": "IPY_MODEL_1a1ae749de7346b594c6fa4b05137e89",
       "value": ""
      }
     },
     "ec3151f275a148319039bc57a8d6e70f": {
      "model_module": "@jupyter-widgets/controls",
      "model_module_version": "1.5.0",
      "model_name": "HBoxModel",
      "state": {
       "_dom_classes": [],
       "_model_module": "@jupyter-widgets/controls",
       "_model_module_version": "1.5.0",
       "_model_name": "HBoxModel",
       "_view_count": null,
       "_view_module": "@jupyter-widgets/controls",
       "_view_module_version": "1.5.0",
       "_view_name": "HBoxView",
       "box_style": "",
       "children": [
        "IPY_MODEL_e8ed079489d5464e8453bde97e868a12",
        "IPY_MODEL_1930ade79ec24f0f85beb80c9bb3855f",
        "IPY_MODEL_3deb0a7d57f2417397cca966617df605"
       ],
       "layout": "IPY_MODEL_3d9779cae92845059507d45641e16b5b"
      }
     },
     "ed333dffa17a4a0dbb662e6984138a4a": {
      "model_module": "@jupyter-widgets/base",
      "model_module_version": "1.2.0",
      "model_name": "LayoutModel",
      "state": {
       "_model_module": "@jupyter-widgets/base",
       "_model_module_version": "1.2.0",
       "_model_name": "LayoutModel",
       "_view_count": null,
       "_view_module": "@jupyter-widgets/base",
       "_view_module_version": "1.2.0",
       "_view_name": "LayoutView",
       "align_content": null,
       "align_items": null,
       "align_self": null,
       "border": null,
       "bottom": null,
       "display": null,
       "flex": null,
       "flex_flow": null,
       "grid_area": null,
       "grid_auto_columns": null,
       "grid_auto_flow": null,
       "grid_auto_rows": null,
       "grid_column": null,
       "grid_gap": null,
       "grid_row": null,
       "grid_template_areas": null,
       "grid_template_columns": null,
       "grid_template_rows": null,
       "height": null,
       "justify_content": null,
       "justify_items": null,
       "left": null,
       "margin": null,
       "max_height": null,
       "max_width": null,
       "min_height": null,
       "min_width": null,
       "object_fit": null,
       "object_position": null,
       "order": null,
       "overflow": null,
       "overflow_x": null,
       "overflow_y": null,
       "padding": null,
       "right": null,
       "top": null,
       "visibility": null,
       "width": "20px"
      }
     },
     "ed5bea7b10474d129b168400f217da85": {
      "model_module": "@jupyter-widgets/controls",
      "model_module_version": "1.5.0",
      "model_name": "HTMLModel",
      "state": {
       "_dom_classes": [],
       "_model_module": "@jupyter-widgets/controls",
       "_model_module_version": "1.5.0",
       "_model_name": "HTMLModel",
       "_view_count": null,
       "_view_module": "@jupyter-widgets/controls",
       "_view_module_version": "1.5.0",
       "_view_name": "HTMLView",
       "description": "",
       "description_tooltip": null,
       "layout": "IPY_MODEL_5516923a224946a4838e53972578f6c2",
       "placeholder": "​",
       "style": "IPY_MODEL_91a388eb9f1649268876d01e4d5e8ae6",
       "value": "Downloading: 100%"
      }
     },
     "ee58006b1d9e4f69933f11b61a31d403": {
      "model_module": "@jupyter-widgets/controls",
      "model_module_version": "1.5.0",
      "model_name": "ProgressStyleModel",
      "state": {
       "_model_module": "@jupyter-widgets/controls",
       "_model_module_version": "1.5.0",
       "_model_name": "ProgressStyleModel",
       "_view_count": null,
       "_view_module": "@jupyter-widgets/base",
       "_view_module_version": "1.2.0",
       "_view_name": "StyleView",
       "bar_color": null,
       "description_width": ""
      }
     },
     "ef3265aa3b00485cbc040626212108f4": {
      "model_module": "@jupyter-widgets/controls",
      "model_module_version": "1.5.0",
      "model_name": "DescriptionStyleModel",
      "state": {
       "_model_module": "@jupyter-widgets/controls",
       "_model_module_version": "1.5.0",
       "_model_name": "DescriptionStyleModel",
       "_view_count": null,
       "_view_module": "@jupyter-widgets/base",
       "_view_module_version": "1.2.0",
       "_view_name": "StyleView",
       "description_width": ""
      }
     },
     "f22bb07fb3b24c049d2526af3c8352bf": {
      "model_module": "@jupyter-widgets/controls",
      "model_module_version": "1.5.0",
      "model_name": "DescriptionStyleModel",
      "state": {
       "_model_module": "@jupyter-widgets/controls",
       "_model_module_version": "1.5.0",
       "_model_name": "DescriptionStyleModel",
       "_view_count": null,
       "_view_module": "@jupyter-widgets/base",
       "_view_module_version": "1.2.0",
       "_view_name": "StyleView",
       "description_width": ""
      }
     },
     "f387833b586e410a9ad6acc8e0be4755": {
      "model_module": "@jupyter-widgets/controls",
      "model_module_version": "1.5.0",
      "model_name": "FloatProgressModel",
      "state": {
       "_dom_classes": [],
       "_model_module": "@jupyter-widgets/controls",
       "_model_module_version": "1.5.0",
       "_model_name": "FloatProgressModel",
       "_view_count": null,
       "_view_module": "@jupyter-widgets/controls",
       "_view_module_version": "1.5.0",
       "_view_name": "ProgressView",
       "bar_style": "success",
       "description": "",
       "description_tooltip": null,
       "layout": "IPY_MODEL_188682f7140647b6acac67e205f80eec",
       "max": 1.0,
       "min": 0.0,
       "orientation": "horizontal",
       "style": "IPY_MODEL_12d45a11c2c440998219e61e05f2724b",
       "value": 1.0
      }
     },
     "f4132c66b8ea42f184b69e20403b29fc": {
      "model_module": "@jupyter-widgets/controls",
      "model_module_version": "1.5.0",
      "model_name": "ProgressStyleModel",
      "state": {
       "_model_module": "@jupyter-widgets/controls",
       "_model_module_version": "1.5.0",
       "_model_name": "ProgressStyleModel",
       "_view_count": null,
       "_view_module": "@jupyter-widgets/base",
       "_view_module_version": "1.2.0",
       "_view_name": "StyleView",
       "bar_color": null,
       "description_width": ""
      }
     },
     "f4a5ea9c2752427c9ff19edfbe0f031d": {
      "model_module": "@jupyter-widgets/base",
      "model_module_version": "1.2.0",
      "model_name": "LayoutModel",
      "state": {
       "_model_module": "@jupyter-widgets/base",
       "_model_module_version": "1.2.0",
       "_model_name": "LayoutModel",
       "_view_count": null,
       "_view_module": "@jupyter-widgets/base",
       "_view_module_version": "1.2.0",
       "_view_name": "LayoutView",
       "align_content": null,
       "align_items": null,
       "align_self": null,
       "border": null,
       "bottom": null,
       "display": null,
       "flex": null,
       "flex_flow": null,
       "grid_area": null,
       "grid_auto_columns": null,
       "grid_auto_flow": null,
       "grid_auto_rows": null,
       "grid_column": null,
       "grid_gap": null,
       "grid_row": null,
       "grid_template_areas": null,
       "grid_template_columns": null,
       "grid_template_rows": null,
       "height": null,
       "justify_content": null,
       "justify_items": null,
       "left": null,
       "margin": null,
       "max_height": null,
       "max_width": null,
       "min_height": null,
       "min_width": null,
       "object_fit": null,
       "object_position": null,
       "order": null,
       "overflow": null,
       "overflow_x": null,
       "overflow_y": null,
       "padding": null,
       "right": null,
       "top": null,
       "visibility": null,
       "width": null
      }
     },
     "f531313f5b5d4ca18eafffbcfe1ca58f": {
      "model_module": "@jupyter-widgets/base",
      "model_module_version": "1.2.0",
      "model_name": "LayoutModel",
      "state": {
       "_model_module": "@jupyter-widgets/base",
       "_model_module_version": "1.2.0",
       "_model_name": "LayoutModel",
       "_view_count": null,
       "_view_module": "@jupyter-widgets/base",
       "_view_module_version": "1.2.0",
       "_view_name": "LayoutView",
       "align_content": null,
       "align_items": null,
       "align_self": null,
       "border": null,
       "bottom": null,
       "display": null,
       "flex": null,
       "flex_flow": null,
       "grid_area": null,
       "grid_auto_columns": null,
       "grid_auto_flow": null,
       "grid_auto_rows": null,
       "grid_column": null,
       "grid_gap": null,
       "grid_row": null,
       "grid_template_areas": null,
       "grid_template_columns": null,
       "grid_template_rows": null,
       "height": null,
       "justify_content": null,
       "justify_items": null,
       "left": null,
       "margin": null,
       "max_height": null,
       "max_width": null,
       "min_height": null,
       "min_width": null,
       "object_fit": null,
       "object_position": null,
       "order": null,
       "overflow": null,
       "overflow_x": null,
       "overflow_y": null,
       "padding": null,
       "right": null,
       "top": null,
       "visibility": null,
       "width": null
      }
     },
     "f5ccaf200b8549c280c5cfcda8e02806": {
      "model_module": "@jupyter-widgets/base",
      "model_module_version": "1.2.0",
      "model_name": "LayoutModel",
      "state": {
       "_model_module": "@jupyter-widgets/base",
       "_model_module_version": "1.2.0",
       "_model_name": "LayoutModel",
       "_view_count": null,
       "_view_module": "@jupyter-widgets/base",
       "_view_module_version": "1.2.0",
       "_view_name": "LayoutView",
       "align_content": null,
       "align_items": null,
       "align_self": null,
       "border": null,
       "bottom": null,
       "display": null,
       "flex": null,
       "flex_flow": null,
       "grid_area": null,
       "grid_auto_columns": null,
       "grid_auto_flow": null,
       "grid_auto_rows": null,
       "grid_column": null,
       "grid_gap": null,
       "grid_row": null,
       "grid_template_areas": null,
       "grid_template_columns": null,
       "grid_template_rows": null,
       "height": null,
       "justify_content": null,
       "justify_items": null,
       "left": null,
       "margin": null,
       "max_height": null,
       "max_width": null,
       "min_height": null,
       "min_width": null,
       "object_fit": null,
       "object_position": null,
       "order": null,
       "overflow": null,
       "overflow_x": null,
       "overflow_y": null,
       "padding": null,
       "right": null,
       "top": null,
       "visibility": null,
       "width": "20px"
      }
     },
     "f8a1c02950444211a3bc5b98249ac84c": {
      "model_module": "@jupyter-widgets/controls",
      "model_module_version": "1.5.0",
      "model_name": "HTMLModel",
      "state": {
       "_dom_classes": [],
       "_model_module": "@jupyter-widgets/controls",
       "_model_module_version": "1.5.0",
       "_model_name": "HTMLModel",
       "_view_count": null,
       "_view_module": "@jupyter-widgets/controls",
       "_view_module_version": "1.5.0",
       "_view_name": "HTMLView",
       "description": "",
       "description_tooltip": null,
       "layout": "IPY_MODEL_5f2ba4c324fa46ccbeebe666edb49fd8",
       "placeholder": "​",
       "style": "IPY_MODEL_d2bf0720a9cc4dc084f9bba95112cb3f",
       "value": ""
      }
     },
     "fa4a4e38cd13452d9b407479fbbb2e1d": {
      "model_module": "@jupyter-widgets/controls",
      "model_module_version": "1.5.0",
      "model_name": "HBoxModel",
      "state": {
       "_dom_classes": [],
       "_model_module": "@jupyter-widgets/controls",
       "_model_module_version": "1.5.0",
       "_model_name": "HBoxModel",
       "_view_count": null,
       "_view_module": "@jupyter-widgets/controls",
       "_view_module_version": "1.5.0",
       "_view_name": "HBoxView",
       "box_style": "",
       "children": [
        "IPY_MODEL_54451eb1ea4c4204a5cde14b65c743b9",
        "IPY_MODEL_7999cad743a744d1b445871ccae96870",
        "IPY_MODEL_5c6e4d02d9cd4fb48b36b6bc75530c6a"
       ],
       "layout": "IPY_MODEL_a3fcab2e7fa94165b455e3f18df6ade5"
      }
     },
     "fb714d18bd1d4a1f8ffceb9928c2b4da": {
      "model_module": "@jupyter-widgets/controls",
      "model_module_version": "1.5.0",
      "model_name": "DescriptionStyleModel",
      "state": {
       "_model_module": "@jupyter-widgets/controls",
       "_model_module_version": "1.5.0",
       "_model_name": "DescriptionStyleModel",
       "_view_count": null,
       "_view_module": "@jupyter-widgets/base",
       "_view_module_version": "1.2.0",
       "_view_name": "StyleView",
       "description_width": ""
      }
     },
     "fb81076e88f54fbbac8e858c8d6297fb": {
      "model_module": "@jupyter-widgets/controls",
      "model_module_version": "1.5.0",
      "model_name": "DescriptionStyleModel",
      "state": {
       "_model_module": "@jupyter-widgets/controls",
       "_model_module_version": "1.5.0",
       "_model_name": "DescriptionStyleModel",
       "_view_count": null,
       "_view_module": "@jupyter-widgets/base",
       "_view_module_version": "1.2.0",
       "_view_name": "StyleView",
       "description_width": ""
      }
     },
     "fc461be0c5864fb791ccccaa61ef6d9b": {
      "model_module": "@jupyter-widgets/controls",
      "model_module_version": "1.5.0",
      "model_name": "HBoxModel",
      "state": {
       "_dom_classes": [],
       "_model_module": "@jupyter-widgets/controls",
       "_model_module_version": "1.5.0",
       "_model_name": "HBoxModel",
       "_view_count": null,
       "_view_module": "@jupyter-widgets/controls",
       "_view_module_version": "1.5.0",
       "_view_name": "HBoxView",
       "box_style": "",
       "children": [
        "IPY_MODEL_4da3945a3c3f46519d291e88929e4e37",
        "IPY_MODEL_17752de89e36490a8a52aa3352c189ef",
        "IPY_MODEL_82f82eb53e0b41d4b8bca0e58a4fcbc3"
       ],
       "layout": "IPY_MODEL_80cafba470124594888c15e10785492f"
      }
     }
    },
    "version_major": 2,
    "version_minor": 0
   }
  }
 },
 "nbformat": 4,
 "nbformat_minor": 5
}
