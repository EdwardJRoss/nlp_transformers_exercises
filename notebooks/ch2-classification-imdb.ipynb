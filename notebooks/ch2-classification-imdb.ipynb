{
 "cells": [
  {
   "cell_type": "markdown",
   "id": "e039e727",
   "metadata": {
    "papermill": {
     "duration": 0.051188,
     "end_time": "2022-03-21T12:12:58.751331",
     "exception": false,
     "start_time": "2022-03-21T12:12:58.700143",
     "status": "completed"
    },
    "tags": []
   },
   "source": [
    "Building Text Classifier on IMDB Reviews.\n",
    "\n",
    "This loosely follows [Chapter 2](https://github.com/nlp-with-transformers/notebooks/blob/main/02_classification.ipynb) of [Natural Language Processing with Transformers, by Tunstall, von Werra and Wolf](https://www.oreilly.com/library/view/natural-language-processing/9781098103231/) \n",
    "\n",
    "The [State of the Art](https://paperswithcode.com/sota/text-classification-on-imdb) test accuracy is currently around 97%.\n",
    "In the fastai book they [train a model](https://github.com/fastai/fastbook/blob/master/10_nlp.ipynb) to 94.3%, and in the [ULMFiT](https://arxiv.org/abs/1801.06146) paper with more work they report 95.4%."
   ]
  },
  {
   "cell_type": "markdown",
   "id": "a38fb3a7",
   "metadata": {
    "papermill": {
     "duration": 0.049387,
     "end_time": "2022-03-21T12:12:58.852820",
     "exception": false,
     "start_time": "2022-03-21T12:12:58.803433",
     "status": "completed"
    },
    "tags": []
   },
   "source": [
    "# Get the data\n",
    "\n",
    "The data is originally from [Learning Word Vectors for Sentiment Analysis, Mass et al.](https://aclanthology.org/P11-1015/).\n",
    "\n",
    "> We constructed a collection of 50,000 reviews from IMDB, allowing no more than 30 reviews per movie.\n",
    "> The constructed dataset contains an even number of positive and negative reviews, so randomly guessing yields 50% accuracy.\n",
    "> Following previous work on polarity classification, we consider only highly polarized reviews.\n",
    "> A negative review has a score ≤ 4 out of 10, and a positive review has a score ≥ 7 out of 10.\n",
    "> Neutral reviews are not included in the dataset.\n",
    "\n",
    "It also includes some unlabeled examples from the neutral reviews:\n",
    "\n",
    "> We train a variant of our model which uses 50,000 unlabeled reviews in addition to the labeled set of 25,000 reviews.\n",
    "> The unlabeled set of reviews contains neutral reviews as well as those which are polarized as found in the labeled set.\n",
    "\n",
    "The dataset is hosted on [Huggingface Datasets](https://huggingface.co/datasets/imdb) and we will get it from there."
   ]
  },
  {
   "cell_type": "code",
   "execution_count": 1,
   "id": "5a2c7b8d",
   "metadata": {
    "execution": {
     "iopub.execute_input": "2022-03-21T12:12:58.963534Z",
     "iopub.status.busy": "2022-03-21T12:12:58.963010Z",
     "iopub.status.idle": "2022-03-21T12:13:40.629582Z",
     "shell.execute_reply": "2022-03-21T12:13:40.627579Z",
     "shell.execute_reply.started": "2022-03-21T11:19:56.218013Z"
    },
    "papermill": {
     "duration": 41.726246,
     "end_time": "2022-03-21T12:13:40.629727",
     "exception": false,
     "start_time": "2022-03-21T12:12:58.903481",
     "status": "completed"
    },
    "tags": []
   },
   "outputs": [
    {
     "data": {
      "application/vnd.jupyter.widget-view+json": {
       "model_id": "9b4b410351a74b6db5de2336ed965202",
       "version_major": 2,
       "version_minor": 0
      },
      "text/plain": [
       "Downloading:   0%|          | 0.00/1.79k [00:00<?, ?B/s]"
      ]
     },
     "metadata": {},
     "output_type": "display_data"
    },
    {
     "data": {
      "application/vnd.jupyter.widget-view+json": {
       "model_id": "08376e8fd4b54012b0ecf2e47752ce1c",
       "version_major": 2,
       "version_minor": 0
      },
      "text/plain": [
       "Downloading:   0%|          | 0.00/1.05k [00:00<?, ?B/s]"
      ]
     },
     "metadata": {},
     "output_type": "display_data"
    },
    {
     "name": "stdout",
     "output_type": "stream",
     "text": [
      "Downloading and preparing dataset imdb/plain_text (download: 80.23 MiB, generated: 127.02 MiB, post-processed: Unknown size, total: 207.25 MiB) to /root/.cache/huggingface/datasets/imdb/plain_text/1.0.0/2fdd8b9bcadd6e7055e742a706876ba43f19faee861df134affd7a3f60fc38a1...\n"
     ]
    },
    {
     "data": {
      "application/vnd.jupyter.widget-view+json": {
       "model_id": "91d05eece91c4d32876f5f3eb9e3dd9b",
       "version_major": 2,
       "version_minor": 0
      },
      "text/plain": [
       "Downloading:   0%|          | 0.00/84.1M [00:00<?, ?B/s]"
      ]
     },
     "metadata": {},
     "output_type": "display_data"
    },
    {
     "data": {
      "application/vnd.jupyter.widget-view+json": {
       "model_id": "f3bd3a63170f4819974e1ee7633468d4",
       "version_major": 2,
       "version_minor": 0
      },
      "text/plain": [
       "0 examples [00:00, ? examples/s]"
      ]
     },
     "metadata": {},
     "output_type": "display_data"
    },
    {
     "data": {
      "application/vnd.jupyter.widget-view+json": {
       "model_id": "24c990c20ad84a138d7397b0729bb9b9",
       "version_major": 2,
       "version_minor": 0
      },
      "text/plain": [
       "0 examples [00:00, ? examples/s]"
      ]
     },
     "metadata": {},
     "output_type": "display_data"
    },
    {
     "data": {
      "application/vnd.jupyter.widget-view+json": {
       "model_id": "c09d3dde3d3b482db0565ff0074e3741",
       "version_major": 2,
       "version_minor": 0
      },
      "text/plain": [
       "0 examples [00:00, ? examples/s]"
      ]
     },
     "metadata": {},
     "output_type": "display_data"
    },
    {
     "name": "stdout",
     "output_type": "stream",
     "text": [
      "Dataset imdb downloaded and prepared to /root/.cache/huggingface/datasets/imdb/plain_text/1.0.0/2fdd8b9bcadd6e7055e742a706876ba43f19faee861df134affd7a3f60fc38a1. Subsequent calls will reuse this data.\n"
     ]
    },
    {
     "data": {
      "application/vnd.jupyter.widget-view+json": {
       "model_id": "3fed5247d35f4cc7b4e9744bac287a19",
       "version_major": 2,
       "version_minor": 0
      },
      "text/plain": [
       "  0%|          | 0/3 [00:00<?, ?it/s]"
      ]
     },
     "metadata": {},
     "output_type": "display_data"
    }
   ],
   "source": [
    "from datasets import load_dataset\n",
    "\n",
    "imdb = load_dataset(\"imdb\")"
   ]
  },
  {
   "cell_type": "code",
   "execution_count": 2,
   "id": "f58bc930",
   "metadata": {
    "execution": {
     "iopub.execute_input": "2022-03-21T12:13:40.747938Z",
     "iopub.status.busy": "2022-03-21T12:13:40.747401Z",
     "iopub.status.idle": "2022-03-21T12:13:40.751558Z",
     "shell.execute_reply": "2022-03-21T12:13:40.751964Z",
     "shell.execute_reply.started": "2022-03-21T11:20:38.530459Z"
    },
    "papermill": {
     "duration": 0.067115,
     "end_time": "2022-03-21T12:13:40.752122",
     "exception": false,
     "start_time": "2022-03-21T12:13:40.685007",
     "status": "completed"
    },
    "tags": []
   },
   "outputs": [
    {
     "data": {
      "text/plain": [
       "DatasetDict({\n",
       "    train: Dataset({\n",
       "        features: ['text', 'label'],\n",
       "        num_rows: 25000\n",
       "    })\n",
       "    test: Dataset({\n",
       "        features: ['text', 'label'],\n",
       "        num_rows: 25000\n",
       "    })\n",
       "    unsupervised: Dataset({\n",
       "        features: ['text', 'label'],\n",
       "        num_rows: 50000\n",
       "    })\n",
       "})"
      ]
     },
     "execution_count": 2,
     "metadata": {},
     "output_type": "execute_result"
    }
   ],
   "source": [
    "imdb"
   ]
  },
  {
   "cell_type": "markdown",
   "id": "49b1bc9d",
   "metadata": {
    "papermill": {
     "duration": 0.05579,
     "end_time": "2022-03-21T12:13:40.864199",
     "exception": false,
     "start_time": "2022-03-21T12:13:40.808409",
     "status": "completed"
    },
    "tags": []
   },
   "source": [
    "# Make a validation set\n",
    "\n",
    "There is no validation split, but it's useful for checking the model as we go, so let's create one.\n",
    "Note that I don't set any seeds so this will be non-deterministic."
   ]
  },
  {
   "cell_type": "code",
   "execution_count": 3,
   "id": "a584f9dd",
   "metadata": {
    "execution": {
     "iopub.execute_input": "2022-03-21T12:13:40.983575Z",
     "iopub.status.busy": "2022-03-21T12:13:40.982824Z",
     "iopub.status.idle": "2022-03-21T12:13:40.999832Z",
     "shell.execute_reply": "2022-03-21T12:13:40.999375Z",
     "shell.execute_reply.started": "2022-03-21T11:20:38.541674Z"
    },
    "papermill": {
     "duration": 0.077941,
     "end_time": "2022-03-21T12:13:40.999957",
     "exception": false,
     "start_time": "2022-03-21T12:13:40.922016",
     "status": "completed"
    },
    "tags": []
   },
   "outputs": [],
   "source": [
    "val_prop = 0.1\n",
    "\n",
    "imdb_train_val = imdb[\"train\"].train_test_split(test_size=val_prop)"
   ]
  },
  {
   "cell_type": "code",
   "execution_count": 4,
   "id": "5cf659eb",
   "metadata": {
    "execution": {
     "iopub.execute_input": "2022-03-21T12:13:41.115493Z",
     "iopub.status.busy": "2022-03-21T12:13:41.113976Z",
     "iopub.status.idle": "2022-03-21T12:13:41.116172Z",
     "shell.execute_reply": "2022-03-21T12:13:41.116586Z",
     "shell.execute_reply.started": "2022-03-21T11:20:38.768631Z"
    },
    "papermill": {
     "duration": 0.060877,
     "end_time": "2022-03-21T12:13:41.116704",
     "exception": false,
     "start_time": "2022-03-21T12:13:41.055827",
     "status": "completed"
    },
    "tags": []
   },
   "outputs": [],
   "source": [
    "imdb[\"train\"] = imdb_train_val[\"train\"]\n",
    "imdb[\"valid\"] = imdb_train_val[\"test\"]"
   ]
  },
  {
   "cell_type": "code",
   "execution_count": 5,
   "id": "015af742",
   "metadata": {
    "execution": {
     "iopub.execute_input": "2022-03-21T12:13:41.230669Z",
     "iopub.status.busy": "2022-03-21T12:13:41.230090Z",
     "iopub.status.idle": "2022-03-21T12:13:41.232661Z",
     "shell.execute_reply": "2022-03-21T12:13:41.233072Z",
     "shell.execute_reply.started": "2022-03-21T11:20:38.774414Z"
    },
    "papermill": {
     "duration": 0.062045,
     "end_time": "2022-03-21T12:13:41.233187",
     "exception": false,
     "start_time": "2022-03-21T12:13:41.171142",
     "status": "completed"
    },
    "tags": []
   },
   "outputs": [
    {
     "data": {
      "text/plain": [
       "DatasetDict({\n",
       "    train: Dataset({\n",
       "        features: ['text', 'label'],\n",
       "        num_rows: 22500\n",
       "    })\n",
       "    test: Dataset({\n",
       "        features: ['text', 'label'],\n",
       "        num_rows: 25000\n",
       "    })\n",
       "    unsupervised: Dataset({\n",
       "        features: ['text', 'label'],\n",
       "        num_rows: 50000\n",
       "    })\n",
       "    valid: Dataset({\n",
       "        features: ['text', 'label'],\n",
       "        num_rows: 2500\n",
       "    })\n",
       "})"
      ]
     },
     "execution_count": 5,
     "metadata": {},
     "output_type": "execute_result"
    }
   ],
   "source": [
    "imdb"
   ]
  },
  {
   "cell_type": "markdown",
   "id": "3e6ab5a7",
   "metadata": {
    "papermill": {
     "duration": 0.055965,
     "end_time": "2022-03-21T12:13:41.344070",
     "exception": false,
     "start_time": "2022-03-21T12:13:41.288105",
     "status": "completed"
    },
    "tags": []
   },
   "source": [
    "## Inspect the data"
   ]
  },
  {
   "cell_type": "markdown",
   "id": "580916aa",
   "metadata": {
    "papermill": {
     "duration": 0.054037,
     "end_time": "2022-03-21T12:13:41.455084",
     "exception": false,
     "start_time": "2022-03-21T12:13:41.401047",
     "status": "completed"
    },
    "tags": []
   },
   "source": [
    "Notice the text have some `<br />` strings."
   ]
  },
  {
   "cell_type": "code",
   "execution_count": 6,
   "id": "060f56b0",
   "metadata": {
    "execution": {
     "iopub.execute_input": "2022-03-21T12:13:41.569077Z",
     "iopub.status.busy": "2022-03-21T12:13:41.568249Z",
     "iopub.status.idle": "2022-03-21T12:13:41.574868Z",
     "shell.execute_reply": "2022-03-21T12:13:41.574444Z",
     "shell.execute_reply.started": "2022-03-21T11:20:38.788168Z"
    },
    "papermill": {
     "duration": 0.065634,
     "end_time": "2022-03-21T12:13:41.575003",
     "exception": false,
     "start_time": "2022-03-21T12:13:41.509369",
     "status": "completed"
    },
    "tags": []
   },
   "outputs": [
    {
     "name": "stdout",
     "output_type": "stream",
     "text": [
      "0\n",
      "I just finished watching Going Overboard. I have to say that we should send every copy of this film to Iraq and make them watch. I even tried to get a blind women to watch this and she turned it off in like 20 min. Adam Sandler could not find a better project than this? As for the writing, if thats what you want to call it, those responsible should be forced to watch this movie forever in Hell!! I believe that somewhere I read that the budget for this film was $10,000 and they were way under. Did Wallmart get a good deal on this? Every store has a big huge bin of this crap sitting on the sales floor. The only good thing about this movie is you can use the DVD as a coaster, or trade it to a friend, but then they might not be your friend anymore!!\n",
      "\n",
      "1\n",
      "Oliver! the musical is a favorite of mine. The music, the characters, the story. It all just seems perfect. In this rendition of the timeless classic novel turned stage musical, director Carol Reed brings the Broadway hit to life on the movie screen.<br /><br />The transition from musical to movie musical is not an easy one. You have to have the right voices, the right set, the right script, and the right play. All signs point to yes for this play. It almost appears that it was written for the screen!<br /><br />Our story takes place in jolly old England where a boy named Oliver manages to work his way out of the orphanage. He winds his way through the country to London where he meets up with a group of juvenile delinquents, headed by Dodger, the smart talking, quick handed pick-pocket. The leader of this gang is named Fagin, an older fellow who sells all the stolen goods.<br /><br />But all is not well in London town when Bill Sykes played by Oliver Reed and his loving girlfriend Nancy get tangled up with Oliver, Fagin and his young troops, and the law. What ensues is a marvelous tale of love, affection, and great musical numbers.<br /><br />Whether or not you like musicals or not, one listen to these tunes and you will be humming them all day long. Oliver! is a triumph on and off the stage and is a timeless work of art.\n",
      "\n",
      "1\n",
      "This film takes you on one family's impossible journey, and makes you feel every step of their odyssey. Beautifully acted and photographed, heartbreakingly real. Its last line, with its wistful hope, is one of the more powerful in memory.\n",
      "\n",
      "0\n",
      "Vic (Richard Dreyfuss) is a mob boss, leaving a mental institution, back to his world of gangsters. How can a director have a cast with Richard Dreyfuss, Ellen Barkin, Jeff Goldblum, Diane Lane (very gorgeous), Gabriel Byrne, Gregory Hines, Kyle MacLachlan, Burt Reynolds, Billy Idol and a make such a waste of time? This movie is a comedy that is not funny, having a constellation in the cast. My vote is four.<br /><br />Title (Brazil):' Prazer em Matar-te!' ('Pleasure in Killing You!')<br /><br />\n",
      "\n"
     ]
    }
   ],
   "source": [
    "for idx in range(4):\n",
    "    row = imdb['train'][idx]\n",
    "    print(row['label'])\n",
    "    print(row['text'])\n",
    "    print()"
   ]
  },
  {
   "cell_type": "markdown",
   "id": "56ba7947",
   "metadata": {
    "papermill": {
     "duration": 0.055521,
     "end_time": "2022-03-21T12:13:41.685388",
     "exception": false,
     "start_time": "2022-03-21T12:13:41.629867",
     "status": "completed"
    },
    "tags": []
   },
   "source": [
    "## HTML Tags\n",
    "\n",
    "Let's look into the HTML Tags.\n",
    "While you can't parse HTML with a regular expression, we can get a rough idea of the tags."
   ]
  },
  {
   "cell_type": "code",
   "execution_count": 7,
   "id": "2396b859",
   "metadata": {
    "execution": {
     "iopub.execute_input": "2022-03-21T12:13:41.806109Z",
     "iopub.status.busy": "2022-03-21T12:13:41.804572Z",
     "iopub.status.idle": "2022-03-21T12:13:41.806654Z",
     "shell.execute_reply": "2022-03-21T12:13:41.807081Z",
     "shell.execute_reply.started": "2022-03-21T11:20:38.799182Z"
    },
    "papermill": {
     "duration": 0.061882,
     "end_time": "2022-03-21T12:13:41.807205",
     "exception": false,
     "start_time": "2022-03-21T12:13:41.745323",
     "status": "completed"
    },
    "tags": []
   },
   "outputs": [],
   "source": [
    "import re\n",
    "\n",
    "\n",
    "HTML_TAG_RE = re.compile('(<[^<]*?>)')\n",
    "\n"
   ]
  },
  {
   "cell_type": "code",
   "execution_count": 8,
   "id": "dcbde0df",
   "metadata": {
    "execution": {
     "iopub.execute_input": "2022-03-21T12:13:41.920623Z",
     "iopub.status.busy": "2022-03-21T12:13:41.919919Z",
     "iopub.status.idle": "2022-03-21T12:13:42.194067Z",
     "shell.execute_reply": "2022-03-21T12:13:42.193455Z",
     "shell.execute_reply.started": "2022-03-21T11:20:38.805109Z"
    },
    "papermill": {
     "duration": 0.332479,
     "end_time": "2022-03-21T12:13:42.194196",
     "exception": false,
     "start_time": "2022-03-21T12:13:41.861717",
     "status": "completed"
    },
    "tags": []
   },
   "outputs": [],
   "source": [
    "from collections import Counter\n",
    "\n",
    "html_tag_count = Counter()\n",
    "for text in imdb['train']['text']:\n",
    "    tags = HTML_TAG_RE.findall(text)\n",
    "    html_tag_count.update(tags)"
   ]
  },
  {
   "cell_type": "markdown",
   "id": "348b5b71",
   "metadata": {
    "papermill": {
     "duration": 0.054329,
     "end_time": "2022-03-21T12:13:42.304295",
     "exception": false,
     "start_time": "2022-03-21T12:13:42.249966",
     "status": "completed"
    },
    "tags": []
   },
   "source": [
    "Almost all the tags are exactly `<br />`"
   ]
  },
  {
   "cell_type": "code",
   "execution_count": 9,
   "id": "ccb9448d",
   "metadata": {
    "execution": {
     "iopub.execute_input": "2022-03-21T12:13:42.419179Z",
     "iopub.status.busy": "2022-03-21T12:13:42.418275Z",
     "iopub.status.idle": "2022-03-21T12:13:42.421273Z",
     "shell.execute_reply": "2022-03-21T12:13:42.421659Z",
     "shell.execute_reply.started": "2022-03-21T11:20:39.095224Z"
    },
    "papermill": {
     "duration": 0.062632,
     "end_time": "2022-03-21T12:13:42.421790",
     "exception": false,
     "start_time": "2022-03-21T12:13:42.359158",
     "status": "completed"
    },
    "tags": []
   },
   "outputs": [
    {
     "name": "stdout",
     "output_type": "stream",
     "text": [
      "<br />     91860 occurances\n",
      "<i>        7 occurances\n",
      "</i>       7 occurances\n",
      "<sigh>     1 occurances\n",
      "<hr>       1 occurances\n"
     ]
    }
   ],
   "source": [
    "topn = 5\n",
    "\n",
    "\n",
    "for k,v in sorted(html_tag_count.items(), key=lambda x: x[-1], reverse=True)[:topn]:\n",
    "    print(f'{k:10} {v} occurances')"
   ]
  },
  {
   "cell_type": "markdown",
   "id": "3398f661",
   "metadata": {
    "papermill": {
     "duration": 0.054805,
     "end_time": "2022-03-21T12:13:42.531364",
     "exception": false,
     "start_time": "2022-03-21T12:13:42.476559",
     "status": "completed"
    },
    "tags": []
   },
   "source": [
    "Let's add some logic to remove these tags batchwise"
   ]
  },
  {
   "cell_type": "code",
   "execution_count": 10,
   "id": "71e4a812",
   "metadata": {
    "execution": {
     "iopub.execute_input": "2022-03-21T12:13:42.645945Z",
     "iopub.status.busy": "2022-03-21T12:13:42.645271Z",
     "iopub.status.idle": "2022-03-21T12:13:42.647395Z",
     "shell.execute_reply": "2022-03-21T12:13:42.647794Z",
     "shell.execute_reply.started": "2022-03-21T11:20:39.105928Z"
    },
    "papermill": {
     "duration": 0.061578,
     "end_time": "2022-03-21T12:13:42.647942",
     "exception": false,
     "start_time": "2022-03-21T12:13:42.586364",
     "status": "completed"
    },
    "tags": []
   },
   "outputs": [],
   "source": [
    "def remove_break_tags(text):\n",
    "    return text.replace('<br />', '\\n')\n",
    "\n",
    "def preprocess(batch):\n",
    "    batch['text'] = remove_break_tags(batch['text'])\n",
    "    return batch"
   ]
  },
  {
   "cell_type": "code",
   "execution_count": 11,
   "id": "24a8d5f0",
   "metadata": {
    "execution": {
     "iopub.execute_input": "2022-03-21T12:13:42.764177Z",
     "iopub.status.busy": "2022-03-21T12:13:42.763514Z",
     "iopub.status.idle": "2022-03-21T12:13:42.766309Z",
     "shell.execute_reply": "2022-03-21T12:13:42.765837Z",
     "shell.execute_reply.started": "2022-03-21T11:20:39.113260Z"
    },
    "papermill": {
     "duration": 0.063494,
     "end_time": "2022-03-21T12:13:42.766411",
     "exception": false,
     "start_time": "2022-03-21T12:13:42.702917",
     "status": "completed"
    },
    "tags": []
   },
   "outputs": [],
   "source": [
    "assert remove_break_tags('for myself.<br /><br />The plot <br />') == 'for myself.\\n\\nThe plot \\n'"
   ]
  },
  {
   "cell_type": "code",
   "execution_count": 12,
   "id": "17bc0fef",
   "metadata": {
    "execution": {
     "iopub.execute_input": "2022-03-21T12:13:42.886667Z",
     "iopub.status.busy": "2022-03-21T12:13:42.885840Z",
     "iopub.status.idle": "2022-03-21T12:13:45.046620Z",
     "shell.execute_reply": "2022-03-21T12:13:45.047051Z",
     "shell.execute_reply.started": "2022-03-21T11:20:39.120334Z"
    },
    "papermill": {
     "duration": 2.223387,
     "end_time": "2022-03-21T12:13:45.047215",
     "exception": false,
     "start_time": "2022-03-21T12:13:42.823828",
     "status": "completed"
    },
    "tags": []
   },
   "outputs": [
    {
     "data": {
      "application/vnd.jupyter.widget-view+json": {
       "model_id": "04fd977ca5c34807bc8d318b5e879c7a",
       "version_major": 2,
       "version_minor": 0
      },
      "text/plain": [
       "0ex [00:00, ?ex/s]"
      ]
     },
     "metadata": {},
     "output_type": "display_data"
    }
   ],
   "source": [
    "assert imdb['train'].map(preprocess)[0]['text'] == remove_break_tags(imdb['train'][0]['text'])\n",
    "\n",
    "assert imdb['train'].map(preprocess)[0]['label'] == imdb['train'][0]['label']"
   ]
  },
  {
   "cell_type": "markdown",
   "id": "f9be464c",
   "metadata": {
    "papermill": {
     "duration": 0.05607,
     "end_time": "2022-03-21T12:13:45.161520",
     "exception": false,
     "start_time": "2022-03-21T12:13:45.105450",
     "status": "completed"
    },
    "tags": []
   },
   "source": [
    "## Label distribution\n",
    "\n",
    "As described the training set is 50/50 positive and negative.\n",
    "The unsupervised doesn't have any labels."
   ]
  },
  {
   "cell_type": "code",
   "execution_count": 13,
   "id": "da6890ca",
   "metadata": {
    "execution": {
     "iopub.execute_input": "2022-03-21T12:13:45.280072Z",
     "iopub.status.busy": "2022-03-21T12:13:45.279328Z",
     "iopub.status.idle": "2022-03-21T12:13:45.455629Z",
     "shell.execute_reply": "2022-03-21T12:13:45.456435Z",
     "shell.execute_reply.started": "2022-03-21T11:20:41.609836Z"
    },
    "papermill": {
     "duration": 0.237306,
     "end_time": "2022-03-21T12:13:45.456591",
     "exception": false,
     "start_time": "2022-03-21T12:13:45.219285",
     "status": "completed"
    },
    "tags": []
   },
   "outputs": [
    {
     "name": "stdout",
     "output_type": "stream",
     "text": [
      "train: Counter({0: 11292, 1: 11208})\n",
      "test: Counter({0: 12500, 1: 12500})\n",
      "unsupervised: Counter({-1: 50000})\n",
      "valid: Counter({1: 1292, 0: 1208})\n"
     ]
    }
   ],
   "source": [
    "from collections import Counter\n",
    "\n",
    "for split in imdb:\n",
    "    counts = Counter(imdb[split]['label'])\n",
    "    print(f'{split}: {counts}')"
   ]
  },
  {
   "cell_type": "markdown",
   "id": "a7ccf0f5",
   "metadata": {
    "papermill": {
     "duration": 0.056023,
     "end_time": "2022-03-21T12:13:45.574578",
     "exception": false,
     "start_time": "2022-03-21T12:13:45.518555",
     "status": "completed"
    },
    "tags": []
   },
   "source": [
    "# Text Length"
   ]
  },
  {
   "cell_type": "code",
   "execution_count": 14,
   "id": "802f7fc1",
   "metadata": {
    "execution": {
     "iopub.execute_input": "2022-03-21T12:13:45.699970Z",
     "iopub.status.busy": "2022-03-21T12:13:45.699086Z",
     "iopub.status.idle": "2022-03-21T12:13:45.702092Z",
     "shell.execute_reply": "2022-03-21T12:13:45.701527Z",
     "shell.execute_reply.started": "2022-03-21T11:20:41.806179Z"
    },
    "papermill": {
     "duration": 0.067385,
     "end_time": "2022-03-21T12:13:45.702252",
     "exception": false,
     "start_time": "2022-03-21T12:13:45.634867",
     "status": "completed"
    },
    "tags": []
   },
   "outputs": [],
   "source": [
    "splits = ['train', 'unsupervised', 'valid']"
   ]
  },
  {
   "cell_type": "code",
   "execution_count": 15,
   "id": "8b85629d",
   "metadata": {
    "execution": {
     "iopub.execute_input": "2022-03-21T12:13:45.821923Z",
     "iopub.status.busy": "2022-03-21T12:13:45.821145Z",
     "iopub.status.idle": "2022-03-21T12:13:51.022965Z",
     "shell.execute_reply": "2022-03-21T12:13:51.023375Z",
     "shell.execute_reply.started": "2022-03-21T11:20:41.812062Z"
    },
    "papermill": {
     "duration": 5.264264,
     "end_time": "2022-03-21T12:13:51.023529",
     "exception": false,
     "start_time": "2022-03-21T12:13:45.759265",
     "status": "completed"
    },
    "tags": []
   },
   "outputs": [],
   "source": [
    "import pandas as pd\n",
    "\n",
    "df = pd.concat([pd.DataFrame(imdb[split]).assign(split=split) for split in splits])"
   ]
  },
  {
   "cell_type": "code",
   "execution_count": 16,
   "id": "53a4f999",
   "metadata": {
    "execution": {
     "iopub.execute_input": "2022-03-21T12:13:51.175992Z",
     "iopub.status.busy": "2022-03-21T12:13:51.165273Z",
     "iopub.status.idle": "2022-03-21T12:13:53.320087Z",
     "shell.execute_reply": "2022-03-21T12:13:53.319606Z",
     "shell.execute_reply.started": "2022-03-21T11:20:46.772133Z"
    },
    "papermill": {
     "duration": 2.23536,
     "end_time": "2022-03-21T12:13:53.320225",
     "exception": false,
     "start_time": "2022-03-21T12:13:51.084865",
     "status": "completed"
    },
    "tags": []
   },
   "outputs": [],
   "source": [
    "df['num_words'] = df.text.str.split().str.len()"
   ]
  },
  {
   "cell_type": "markdown",
   "id": "2693f576",
   "metadata": {
    "papermill": {
     "duration": 0.077248,
     "end_time": "2022-03-21T12:13:53.454513",
     "exception": false,
     "start_time": "2022-03-21T12:13:53.377265",
     "status": "completed"
    },
    "tags": []
   },
   "source": [
    "Whether you like boxplots or violin plots: most of the texts are likely to fit into 512 tokens-ish, but a small proportion (~20%?) will need to be truncated."
   ]
  },
  {
   "cell_type": "code",
   "execution_count": 17,
   "id": "022abe46",
   "metadata": {
    "execution": {
     "iopub.execute_input": "2022-03-21T12:13:53.572140Z",
     "iopub.status.busy": "2022-03-21T12:13:53.571543Z",
     "iopub.status.idle": "2022-03-21T12:13:54.443839Z",
     "shell.execute_reply": "2022-03-21T12:13:54.443434Z",
     "shell.execute_reply.started": "2022-03-21T11:20:48.983087Z"
    },
    "papermill": {
     "duration": 0.932788,
     "end_time": "2022-03-21T12:13:54.443989",
     "exception": false,
     "start_time": "2022-03-21T12:13:53.511201",
     "status": "completed"
    },
    "tags": []
   },
   "outputs": [
    {
     "data": {
      "text/plain": [
       "<AxesSubplot:title={'center':'num_words'}, xlabel='[label, split]'>"
      ]
     },
     "execution_count": 17,
     "metadata": {},
     "output_type": "execute_result"
    },
    {
     "data": {
      "image/png": "[encoded data removed]",
      "text/plain": [
       "<Figure size 432x288 with 1 Axes>"
      ]
     },
     "metadata": {
      "needs_background": "light"
     },
     "output_type": "display_data"
    }
   ],
   "source": [
    "df.boxplot('num_words', by=['label', 'split'], showfliers=False, grid=False)"
   ]
  },
  {
   "cell_type": "code",
   "execution_count": 18,
   "id": "e2c49211",
   "metadata": {
    "execution": {
     "iopub.execute_input": "2022-03-21T12:13:54.562171Z",
     "iopub.status.busy": "2022-03-21T12:13:54.561547Z",
     "iopub.status.idle": "2022-03-21T12:13:55.764136Z",
     "shell.execute_reply": "2022-03-21T12:13:55.764506Z",
     "shell.execute_reply.started": "2022-03-21T11:20:49.894736Z"
    },
    "papermill": {
     "duration": 1.263243,
     "end_time": "2022-03-21T12:13:55.764652",
     "exception": false,
     "start_time": "2022-03-21T12:13:54.501409",
     "status": "completed"
    },
    "tags": []
   },
   "outputs": [
    {
     "data": {
      "text/plain": [
       "<AxesSubplot:xlabel='label', ylabel='num_words'>"
      ]
     },
     "execution_count": 18,
     "metadata": {},
     "output_type": "execute_result"
    },
    {
     "data": {
      "image/png": "[encoded data removed]",
      "text/plain": [
       "<Figure size 432x288 with 1 Axes>"
      ]
     },
     "metadata": {
      "needs_background": "light"
     },
     "output_type": "display_data"
    }
   ],
   "source": [
    "import seaborn as sns\n",
    "sns.violinplot(x='label', y='num_words', data=df)"
   ]
  },
  {
   "cell_type": "markdown",
   "id": "449def1f",
   "metadata": {
    "papermill": {
     "duration": 0.058211,
     "end_time": "2022-03-21T12:13:55.882078",
     "exception": false,
     "start_time": "2022-03-21T12:13:55.823867",
     "status": "completed"
    },
    "tags": []
   },
   "source": [
    "## Uniqueness"
   ]
  },
  {
   "cell_type": "markdown",
   "id": "f044d56f",
   "metadata": {
    "papermill": {
     "duration": 0.059198,
     "end_time": "2022-03-21T12:13:56.001149",
     "exception": false,
     "start_time": "2022-03-21T12:13:55.941951",
     "status": "completed"
    },
    "tags": []
   },
   "source": [
    "A small proportion of the rows are duplicate but mostly unique.\n",
    "\n",
    "It seems if the text is the same then the whole row including the label is the same."
   ]
  },
  {
   "cell_type": "code",
   "execution_count": 19,
   "id": "93c49944",
   "metadata": {
    "execution": {
     "iopub.execute_input": "2022-03-21T12:13:56.122570Z",
     "iopub.status.busy": "2022-03-21T12:13:56.121799Z",
     "iopub.status.idle": "2022-03-21T12:14:03.258770Z",
     "shell.execute_reply": "2022-03-21T12:14:03.259218Z",
     "shell.execute_reply.started": "2022-03-21T11:20:51.360427Z"
    },
    "papermill": {
     "duration": 7.200267,
     "end_time": "2022-03-21T12:14:03.259370",
     "exception": false,
     "start_time": "2022-03-21T12:13:56.059103",
     "status": "completed"
    },
    "tags": []
   },
   "outputs": [
    {
     "name": "stdout",
     "output_type": "stream",
     "text": [
      "train: 22500 texts, 22418 unique texts, 22418 unique rows\n",
      "test: 25000 texts, 24801 unique texts, 24801 unique rows\n",
      "unsupervised: 50000 texts, 49507 unique texts, 49507 unique rows\n",
      "valid: 2500 texts, 2499 unique texts, 2499 unique rows\n",
      "CPU times: user 7.1 s, sys: 34.1 ms, total: 7.14 s\n",
      "Wall time: 7.13 s\n"
     ]
    }
   ],
   "source": [
    "%%time\n",
    "for split in imdb:\n",
    "    print(f\"{split}: {len(imdb[split])} texts, {len(set(imdb[split]['text']))} unique texts, {len(set(tuple(row.items()) for row in imdb[split]))} unique rows\")"
   ]
  },
  {
   "cell_type": "markdown",
   "id": "33ea0b32",
   "metadata": {
    "papermill": {
     "duration": 0.059055,
     "end_time": "2022-03-21T12:14:03.378284",
     "exception": false,
     "start_time": "2022-03-21T12:14:03.319229",
     "status": "completed"
    },
    "tags": []
   },
   "source": [
    "They are mostly disjoint between splits; there's a tiny amount of leakage."
   ]
  },
  {
   "cell_type": "code",
   "execution_count": 20,
   "id": "a805b1d2",
   "metadata": {
    "execution": {
     "iopub.execute_input": "2022-03-21T12:14:03.514237Z",
     "iopub.status.busy": "2022-03-21T12:14:03.501379Z",
     "iopub.status.idle": "2022-03-21T12:14:04.907522Z",
     "shell.execute_reply": "2022-03-21T12:14:04.907940Z",
     "shell.execute_reply.started": "2022-03-21T11:20:58.724813Z"
    },
    "papermill": {
     "duration": 1.470775,
     "end_time": "2022-03-21T12:14:04.908089",
     "exception": false,
     "start_time": "2022-03-21T12:14:03.437314",
     "status": "completed"
    },
    "tags": []
   },
   "outputs": [
    {
     "name": "stdout",
     "output_type": "stream",
     "text": [
      "train, test: 111 in common\n",
      "unsupervised, train: 324 in common\n",
      "unsupervised, test: 266 in common\n",
      "valid, train: 13 in common\n",
      "valid, test: 12 in common\n",
      "valid, unsupervised: 32 in common\n"
     ]
    }
   ],
   "source": [
    "for split in imdb:\n",
    "    for other_split in imdb:\n",
    "        if split > other_split:\n",
    "            num_common_text = len(set(imdb[split]['text']).intersection(imdb[other_split]['text']))\n",
    "            print(f'{split}, {other_split}: {num_common_text} in common')"
   ]
  },
  {
   "cell_type": "markdown",
   "id": "006b6cb0",
   "metadata": {
    "papermill": {
     "duration": 0.064277,
     "end_time": "2022-03-21T12:14:05.033395",
     "exception": false,
     "start_time": "2022-03-21T12:14:04.969118",
     "status": "completed"
    },
    "tags": []
   },
   "source": [
    "# Tokenization"
   ]
  },
  {
   "cell_type": "code",
   "execution_count": 21,
   "id": "80db3a19",
   "metadata": {
    "execution": {
     "iopub.execute_input": "2022-03-21T12:14:05.160525Z",
     "iopub.status.busy": "2022-03-21T12:14:05.159763Z",
     "iopub.status.idle": "2022-03-21T12:14:19.356096Z",
     "shell.execute_reply": "2022-03-21T12:14:19.356525Z",
     "shell.execute_reply.started": "2022-03-21T11:21:00.189160Z"
    },
    "papermill": {
     "duration": 14.260655,
     "end_time": "2022-03-21T12:14:19.356691",
     "exception": false,
     "start_time": "2022-03-21T12:14:05.096036",
     "status": "completed"
    },
    "tags": []
   },
   "outputs": [
    {
     "data": {
      "application/vnd.jupyter.widget-view+json": {
       "model_id": "b00f4c2aceb642bcb5dd412a29cdf7d5",
       "version_major": 2,
       "version_minor": 0
      },
      "text/plain": [
       "Downloading:   0%|          | 0.00/28.0 [00:00<?, ?B/s]"
      ]
     },
     "metadata": {},
     "output_type": "display_data"
    },
    {
     "data": {
      "application/vnd.jupyter.widget-view+json": {
       "model_id": "1032861ce8944aed843e3f23e1ed97a3",
       "version_major": 2,
       "version_minor": 0
      },
      "text/plain": [
       "Downloading:   0%|          | 0.00/483 [00:00<?, ?B/s]"
      ]
     },
     "metadata": {},
     "output_type": "display_data"
    },
    {
     "data": {
      "application/vnd.jupyter.widget-view+json": {
       "model_id": "ca3d18db880a43f6954d6bdf95518e7f",
       "version_major": 2,
       "version_minor": 0
      },
      "text/plain": [
       "Downloading:   0%|          | 0.00/226k [00:00<?, ?B/s]"
      ]
     },
     "metadata": {},
     "output_type": "display_data"
    },
    {
     "data": {
      "application/vnd.jupyter.widget-view+json": {
       "model_id": "2247d455e8b24d0cb10e82fc0cfe627f",
       "version_major": 2,
       "version_minor": 0
      },
      "text/plain": [
       "Downloading:   0%|          | 0.00/455k [00:00<?, ?B/s]"
      ]
     },
     "metadata": {},
     "output_type": "display_data"
    }
   ],
   "source": [
    "from transformers import AutoTokenizer\n",
    "\n",
    "model_ckpt = \"distilbert-base-uncased\"\n",
    "tokenizer = AutoTokenizer.from_pretrained(model_ckpt)"
   ]
  },
  {
   "cell_type": "markdown",
   "id": "3119c53d",
   "metadata": {
    "papermill": {
     "duration": 0.062836,
     "end_time": "2022-03-21T12:14:19.483226",
     "exception": false,
     "start_time": "2022-03-21T12:14:19.420390",
     "status": "completed"
    },
    "tags": []
   },
   "source": [
    "Let's see how the tokenizer handles the `<br />` characters."
   ]
  },
  {
   "cell_type": "code",
   "execution_count": 22,
   "id": "c271208c",
   "metadata": {
    "execution": {
     "iopub.execute_input": "2022-03-21T12:14:19.613021Z",
     "iopub.status.busy": "2022-03-21T12:14:19.612488Z",
     "iopub.status.idle": "2022-03-21T12:14:19.617655Z",
     "shell.execute_reply": "2022-03-21T12:14:19.617239Z",
     "shell.execute_reply.started": "2022-03-21T11:21:07.358121Z"
    },
    "papermill": {
     "duration": 0.07217,
     "end_time": "2022-03-21T12:14:19.617765",
     "exception": false,
     "start_time": "2022-03-21T12:14:19.545595",
     "status": "completed"
    },
    "tags": []
   },
   "outputs": [
    {
     "data": {
      "text/plain": [
       "\"Barry Mackenzie is lovable.<br /><br />It's chock a block\""
      ]
     },
     "execution_count": 22,
     "metadata": {},
     "output_type": "execute_result"
    }
   ],
   "source": [
    "text = \"Barry Mackenzie is lovable.<br /><br />It's chock a block\"\n",
    "text"
   ]
  },
  {
   "cell_type": "code",
   "execution_count": 23,
   "id": "15eafbe1",
   "metadata": {
    "execution": {
     "iopub.execute_input": "2022-03-21T12:14:19.751541Z",
     "iopub.status.busy": "2022-03-21T12:14:19.750772Z",
     "iopub.status.idle": "2022-03-21T12:14:19.763774Z",
     "shell.execute_reply": "2022-03-21T12:14:19.763387Z",
     "shell.execute_reply.started": "2022-03-21T11:21:07.364881Z"
    },
    "papermill": {
     "duration": 0.083116,
     "end_time": "2022-03-21T12:14:19.763879",
     "exception": false,
     "start_time": "2022-03-21T12:14:19.680763",
     "status": "completed"
    },
    "tags": []
   },
   "outputs": [
    {
     "data": {
      "text/plain": [
       "['[CLS]',\n",
       " 'barry',\n",
       " 'mackenzie',\n",
       " 'is',\n",
       " 'lo',\n",
       " '##vable',\n",
       " '.',\n",
       " '<',\n",
       " 'br',\n",
       " '/',\n",
       " '>',\n",
       " '<',\n",
       " 'br',\n",
       " '/',\n",
       " '>',\n",
       " 'it',\n",
       " \"'\",\n",
       " 's',\n",
       " 'cho',\n",
       " '##ck',\n",
       " 'a',\n",
       " 'block',\n",
       " '[SEP]']"
      ]
     },
     "execution_count": 23,
     "metadata": {},
     "output_type": "execute_result"
    }
   ],
   "source": [
    "token_ids = tokenizer(text)['input_ids']\n",
    "tokens = tokenizer.convert_ids_to_tokens(token_ids)\n",
    "tokens"
   ]
  },
  {
   "cell_type": "markdown",
   "id": "ee3a1783",
   "metadata": {
    "papermill": {
     "duration": 0.070541,
     "end_time": "2022-03-21T12:14:19.898197",
     "exception": false,
     "start_time": "2022-03-21T12:14:19.827656",
     "status": "completed"
    },
    "tags": []
   },
   "source": [
    "It's better after removal"
   ]
  },
  {
   "cell_type": "code",
   "execution_count": 24,
   "id": "8f52121c",
   "metadata": {
    "execution": {
     "iopub.execute_input": "2022-03-21T12:14:20.048690Z",
     "iopub.status.busy": "2022-03-21T12:14:20.047814Z",
     "iopub.status.idle": "2022-03-21T12:14:20.052158Z",
     "shell.execute_reply": "2022-03-21T12:14:20.051715Z",
     "shell.execute_reply.started": "2022-03-21T11:21:07.384745Z"
    },
    "papermill": {
     "duration": 0.078369,
     "end_time": "2022-03-21T12:14:20.052272",
     "exception": false,
     "start_time": "2022-03-21T12:14:19.973903",
     "status": "completed"
    },
    "tags": []
   },
   "outputs": [
    {
     "data": {
      "text/plain": [
       "['[CLS]',\n",
       " 'barry',\n",
       " 'mackenzie',\n",
       " 'is',\n",
       " 'lo',\n",
       " '##vable',\n",
       " '.',\n",
       " 'it',\n",
       " \"'\",\n",
       " 's',\n",
       " 'cho',\n",
       " '##ck',\n",
       " 'a',\n",
       " 'block',\n",
       " '[SEP]']"
      ]
     },
     "execution_count": 24,
     "metadata": {},
     "output_type": "execute_result"
    }
   ],
   "source": [
    "text = remove_break_tags(text)\n",
    "token_ids = tokenizer(text)['input_ids']\n",
    "tokens = tokenizer.convert_ids_to_tokens(token_ids)\n",
    "tokens"
   ]
  },
  {
   "cell_type": "markdown",
   "id": "9073f409",
   "metadata": {
    "execution": {
     "iopub.execute_input": "2022-03-21T10:34:37.985696Z",
     "iopub.status.busy": "2022-03-21T10:34:37.984755Z",
     "iopub.status.idle": "2022-03-21T10:34:37.991606Z",
     "shell.execute_reply": "2022-03-21T10:34:37.990323Z",
     "shell.execute_reply.started": "2022-03-21T10:34:37.985655Z"
    },
    "papermill": {
     "duration": 0.063443,
     "end_time": "2022-03-21T12:14:20.179661",
     "exception": false,
     "start_time": "2022-03-21T12:14:20.116218",
     "status": "completed"
    },
    "tags": []
   },
   "source": [
    "Tokenizing the whole text"
   ]
  },
  {
   "cell_type": "code",
   "execution_count": 25,
   "id": "6ae79288",
   "metadata": {
    "execution": {
     "iopub.execute_input": "2022-03-21T12:14:20.312558Z",
     "iopub.status.busy": "2022-03-21T12:14:20.311808Z",
     "iopub.status.idle": "2022-03-21T12:14:20.313742Z",
     "shell.execute_reply": "2022-03-21T12:14:20.314229Z",
     "shell.execute_reply.started": "2022-03-21T11:21:07.393277Z"
    },
    "papermill": {
     "duration": 0.070137,
     "end_time": "2022-03-21T12:14:20.314354",
     "exception": false,
     "start_time": "2022-03-21T12:14:20.244217",
     "status": "completed"
    },
    "tags": []
   },
   "outputs": [],
   "source": [
    "def tokenize_text(batch):\n",
    "    return tokenizer(batch['text'], padding=True, truncation=True)"
   ]
  },
  {
   "cell_type": "markdown",
   "id": "e791adc2",
   "metadata": {
    "papermill": {
     "duration": 0.063412,
     "end_time": "2022-03-21T12:14:20.440744",
     "exception": false,
     "start_time": "2022-03-21T12:14:20.377332",
     "status": "completed"
    },
    "tags": []
   },
   "source": [
    "Here we tokenize everything at once.\n",
    "Since we're padding the text all the texts in each split have the same size.\n",
    "It could be more efficient to process the smaller texts together separately."
   ]
  },
  {
   "cell_type": "code",
   "execution_count": 26,
   "id": "9215bb33",
   "metadata": {
    "execution": {
     "iopub.execute_input": "2022-03-21T12:14:20.572285Z",
     "iopub.status.busy": "2022-03-21T12:14:20.571527Z",
     "iopub.status.idle": "2022-03-21T12:15:55.790963Z",
     "shell.execute_reply": "2022-03-21T12:15:55.790483Z",
     "shell.execute_reply.started": "2022-03-21T11:21:07.400208Z"
    },
    "papermill": {
     "duration": 95.286901,
     "end_time": "2022-03-21T12:15:55.791099",
     "exception": false,
     "start_time": "2022-03-21T12:14:20.504198",
     "status": "completed"
    },
    "tags": []
   },
   "outputs": [
    {
     "data": {
      "application/vnd.jupyter.widget-view+json": {
       "model_id": "f6c57cc893da49b4a4fc8c16fef4ed0c",
       "version_major": 2,
       "version_minor": 0
      },
      "text/plain": [
       "  0%|          | 0/1 [00:00<?, ?ba/s]"
      ]
     },
     "metadata": {},
     "output_type": "display_data"
    },
    {
     "data": {
      "application/vnd.jupyter.widget-view+json": {
       "model_id": "8978a50afdd94ea0abc997f2a1bd1cf7",
       "version_major": 2,
       "version_minor": 0
      },
      "text/plain": [
       "  0%|          | 0/1 [00:00<?, ?ba/s]"
      ]
     },
     "metadata": {},
     "output_type": "display_data"
    },
    {
     "data": {
      "application/vnd.jupyter.widget-view+json": {
       "model_id": "5a38540e042545e18a2f21735dde287e",
       "version_major": 2,
       "version_minor": 0
      },
      "text/plain": [
       "  0%|          | 0/1 [00:00<?, ?ba/s]"
      ]
     },
     "metadata": {},
     "output_type": "display_data"
    },
    {
     "data": {
      "application/vnd.jupyter.widget-view+json": {
       "model_id": "b9c5f211763b46b4b17d33e7062f9fb2",
       "version_major": 2,
       "version_minor": 0
      },
      "text/plain": [
       "  0%|          | 0/1 [00:00<?, ?ba/s]"
      ]
     },
     "metadata": {},
     "output_type": "display_data"
    }
   ],
   "source": [
    "imdb_encoded = imdb.map(tokenize_text, batched=True, batch_size=None)"
   ]
  },
  {
   "cell_type": "code",
   "execution_count": 27,
   "id": "b998e407",
   "metadata": {
    "execution": {
     "iopub.execute_input": "2022-03-21T12:15:55.933801Z",
     "iopub.status.busy": "2022-03-21T12:15:55.932603Z",
     "iopub.status.idle": "2022-03-21T12:15:55.936103Z",
     "shell.execute_reply": "2022-03-21T12:15:55.936494Z",
     "shell.execute_reply.started": "2022-03-21T11:22:51.270210Z"
    },
    "papermill": {
     "duration": 0.078721,
     "end_time": "2022-03-21T12:15:55.936654",
     "exception": false,
     "start_time": "2022-03-21T12:15:55.857933",
     "status": "completed"
    },
    "tags": []
   },
   "outputs": [],
   "source": [
    "imdb_encoded.set_format('torch', ['input_ids', 'attention_mask', 'label'])"
   ]
  },
  {
   "cell_type": "markdown",
   "id": "b9569bde",
   "metadata": {
    "execution": {
     "iopub.execute_input": "2022-03-21T10:39:24.862083Z",
     "iopub.status.busy": "2022-03-21T10:39:24.861662Z",
     "iopub.status.idle": "2022-03-21T10:39:24.868877Z",
     "shell.execute_reply": "2022-03-21T10:39:24.867967Z",
     "shell.execute_reply.started": "2022-03-21T10:39:24.862040Z"
    },
    "papermill": {
     "duration": 0.065583,
     "end_time": "2022-03-21T12:15:56.069174",
     "exception": false,
     "start_time": "2022-03-21T12:15:56.003591",
     "status": "completed"
    },
    "tags": []
   },
   "source": [
    "If the `attention_mask` is full it's either exactly the maximum length or over.\n",
    "So checking then this is the `model_max_length` gives a slight overestimate of the texts that are truncated."
   ]
  },
  {
   "cell_type": "code",
   "execution_count": 28,
   "id": "6cd6a2d1",
   "metadata": {
    "execution": {
     "iopub.execute_input": "2022-03-21T12:15:56.210024Z",
     "iopub.status.busy": "2022-03-21T12:15:56.209252Z",
     "iopub.status.idle": "2022-03-21T12:15:56.910933Z",
     "shell.execute_reply": "2022-03-21T12:15:56.911343Z",
     "shell.execute_reply.started": "2022-03-21T11:22:51.284830Z"
    },
    "papermill": {
     "duration": 0.776742,
     "end_time": "2022-03-21T12:15:56.911487",
     "exception": false,
     "start_time": "2022-03-21T12:15:56.134745",
     "status": "completed"
    },
    "tags": []
   },
   "outputs": [
    {
     "name": "stdout",
     "output_type": "stream",
     "text": [
      "train: 14.9% of texts are maybe truncated\n",
      "unsupervised: 14.9% of texts are maybe truncated\n",
      "valid: 14.8% of texts are maybe truncated\n"
     ]
    }
   ],
   "source": [
    "for split in splits:\n",
    "    frac_texts_of_max_len = (imdb_encoded[split]['attention_mask'].sum(axis=1) == tokenizer.model_max_length).sum() / len(imdb_encoded[split])\n",
    "    print(f'{split}: {frac_texts_of_max_len:0.1%} of texts are maybe truncated')"
   ]
  },
  {
   "cell_type": "markdown",
   "id": "416ee9fe",
   "metadata": {
    "papermill": {
     "duration": 0.066223,
     "end_time": "2022-03-21T12:15:57.046130",
     "exception": false,
     "start_time": "2022-03-21T12:15:56.979907",
     "status": "completed"
    },
    "tags": []
   },
   "source": [
    "# Fine Tune Model"
   ]
  },
  {
   "cell_type": "code",
   "execution_count": 29,
   "id": "3ba8bc3d",
   "metadata": {
    "execution": {
     "iopub.execute_input": "2022-03-21T12:15:57.226034Z",
     "iopub.status.busy": "2022-03-21T12:15:57.225208Z",
     "iopub.status.idle": "2022-03-21T12:15:57.227975Z",
     "shell.execute_reply": "2022-03-21T12:15:57.228457Z",
     "shell.execute_reply.started": "2022-03-21T11:22:52.621331Z"
    },
    "papermill": {
     "duration": 0.115905,
     "end_time": "2022-03-21T12:15:57.228591",
     "exception": false,
     "start_time": "2022-03-21T12:15:57.112686",
     "status": "completed"
    },
    "tags": []
   },
   "outputs": [
    {
     "data": {
      "text/plain": [
       "'cuda'"
      ]
     },
     "execution_count": 29,
     "metadata": {},
     "output_type": "execute_result"
    }
   ],
   "source": [
    "import torch\n",
    "device = 'cuda' if torch.cuda.is_available() else 'cpu'\n",
    "device"
   ]
  },
  {
   "cell_type": "code",
   "execution_count": 30,
   "id": "0f165256",
   "metadata": {
    "execution": {
     "iopub.execute_input": "2022-03-21T12:15:57.366721Z",
     "iopub.status.busy": "2022-03-21T12:15:57.366179Z",
     "iopub.status.idle": "2022-03-21T12:16:20.436157Z",
     "shell.execute_reply": "2022-03-21T12:16:20.437301Z",
     "shell.execute_reply.started": "2022-03-21T11:22:52.669120Z"
    },
    "papermill": {
     "duration": 23.141248,
     "end_time": "2022-03-21T12:16:20.437473",
     "exception": false,
     "start_time": "2022-03-21T12:15:57.296225",
     "status": "completed"
    },
    "tags": []
   },
   "outputs": [
    {
     "data": {
      "application/vnd.jupyter.widget-view+json": {
       "model_id": "c39d474b6c314fe2874e4ab860ac0620",
       "version_major": 2,
       "version_minor": 0
      },
      "text/plain": [
       "Downloading:   0%|          | 0.00/256M [00:00<?, ?B/s]"
      ]
     },
     "metadata": {},
     "output_type": "display_data"
    },
    {
     "name": "stderr",
     "output_type": "stream",
     "text": [
      "Some weights of the model checkpoint at distilbert-base-uncased were not used when initializing DistilBertForSequenceClassification: ['vocab_transform.weight', 'vocab_projector.bias', 'vocab_layer_norm.bias', 'vocab_projector.weight', 'vocab_transform.bias', 'vocab_layer_norm.weight']\n",
      "- This IS expected if you are initializing DistilBertForSequenceClassification from the checkpoint of a model trained on another task or with another architecture (e.g. initializing a BertForSequenceClassification model from a BertForPreTraining model).\n",
      "- This IS NOT expected if you are initializing DistilBertForSequenceClassification from the checkpoint of a model that you expect to be exactly identical (initializing a BertForSequenceClassification model from a BertForSequenceClassification model).\n",
      "Some weights of DistilBertForSequenceClassification were not initialized from the model checkpoint at distilbert-base-uncased and are newly initialized: ['pre_classifier.bias', 'classifier.bias', 'classifier.weight', 'pre_classifier.weight']\n",
      "You should probably TRAIN this model on a down-stream task to be able to use it for predictions and inference.\n"
     ]
    }
   ],
   "source": [
    "from transformers import AutoModelForSequenceClassification\n",
    "\n",
    "num_labels = 2\n",
    "model = AutoModelForSequenceClassification.from_pretrained(model_ckpt, num_labels=num_labels).to(device)"
   ]
  },
  {
   "cell_type": "markdown",
   "id": "6a47370b",
   "metadata": {
    "papermill": {
     "duration": 0.067269,
     "end_time": "2022-03-21T12:16:20.577556",
     "exception": false,
     "start_time": "2022-03-21T12:16:20.510287",
     "status": "completed"
    },
    "tags": []
   },
   "source": [
    "Define metric; namely accuracy"
   ]
  },
  {
   "cell_type": "code",
   "execution_count": 31,
   "id": "527e14a4",
   "metadata": {
    "execution": {
     "iopub.execute_input": "2022-03-21T12:16:20.720284Z",
     "iopub.status.busy": "2022-03-21T12:16:20.719641Z",
     "iopub.status.idle": "2022-03-21T12:16:20.866521Z",
     "shell.execute_reply": "2022-03-21T12:16:20.867210Z",
     "shell.execute_reply.started": "2022-03-21T11:23:05.955393Z"
    },
    "papermill": {
     "duration": 0.222287,
     "end_time": "2022-03-21T12:16:20.867427",
     "exception": false,
     "start_time": "2022-03-21T12:16:20.645140",
     "status": "completed"
    },
    "tags": []
   },
   "outputs": [],
   "source": [
    "from sklearn.metrics import accuracy_score\n",
    "\n",
    "def compute_metrics(pred):\n",
    "    labels = pred.label_ids\n",
    "    preds = pred.predictions.argmax(-1)\n",
    "    return {\n",
    "        \"accuracy\": accuracy_score(labels, preds)\n",
    "    }"
   ]
  },
  {
   "cell_type": "code",
   "execution_count": 32,
   "id": "bda8e254",
   "metadata": {
    "execution": {
     "iopub.execute_input": "2022-03-21T12:16:21.036272Z",
     "iopub.status.busy": "2022-03-21T12:16:21.033787Z",
     "iopub.status.idle": "2022-03-21T12:16:25.032059Z",
     "shell.execute_reply": "2022-03-21T12:16:25.032488Z",
     "shell.execute_reply.started": "2022-03-21T11:25:14.200797Z"
    },
    "papermill": {
     "duration": 4.073258,
     "end_time": "2022-03-21T12:16:25.032647",
     "exception": false,
     "start_time": "2022-03-21T12:16:20.959389",
     "status": "completed"
    },
    "tags": []
   },
   "outputs": [],
   "source": [
    "from transformers import TrainingArguments\n",
    "\n",
    "batch_size = 16\n",
    "logging_steps = len(imdb[\"train\"]) // batch_size\n",
    "model_name = f'{model_ckpt}-finetuned-imdb'\n",
    "training_args = TrainingArguments(\n",
    "    output_dir=model_name,\n",
    "    num_train_epochs=2,\n",
    "    learning_rate=2e-5,\n",
    "    per_device_train_batch_size=batch_size,\n",
    "    per_device_eval_batch_size=batch_size,\n",
    "    weight_decay=0.01,\n",
    "    evaluation_strategy=\"epoch\",\n",
    "    disable_tqdm=False,\n",
    "    report_to=\"none\",\n",
    "    logging_steps=logging_steps,\n",
    "    push_to_hub=False,\n",
    "    log_level=\"error\",\n",
    ")"
   ]
  },
  {
   "cell_type": "code",
   "execution_count": 33,
   "id": "6c3c9335",
   "metadata": {
    "execution": {
     "iopub.execute_input": "2022-03-21T12:16:25.175185Z",
     "iopub.status.busy": "2022-03-21T12:16:25.174319Z",
     "iopub.status.idle": "2022-03-21T12:16:26.799828Z",
     "shell.execute_reply": "2022-03-21T12:16:26.799278Z",
     "shell.execute_reply.started": "2022-03-21T11:25:15.153834Z"
    },
    "papermill": {
     "duration": 1.698343,
     "end_time": "2022-03-21T12:16:26.800030",
     "exception": false,
     "start_time": "2022-03-21T12:16:25.101687",
     "status": "completed"
    },
    "tags": []
   },
   "outputs": [],
   "source": [
    "from transformers import Trainer\n",
    "\n",
    "trainer = Trainer(\n",
    "    model=model,\n",
    "    args=training_args,\n",
    "    compute_metrics=compute_metrics,\n",
    "    train_dataset=imdb_encoded[\"train\"],\n",
    "    eval_dataset=imdb_encoded[\"valid\"],\n",
    "    tokenizer=tokenizer,\n",
    ")"
   ]
  },
  {
   "cell_type": "markdown",
   "id": "eaa287c1",
   "metadata": {
    "papermill": {
     "duration": 0.068431,
     "end_time": "2022-03-21T12:16:26.937492",
     "exception": false,
     "start_time": "2022-03-21T12:16:26.869061",
     "status": "completed"
    },
    "tags": []
   },
   "source": [
    "We're getting a validation accuracy of 92.5% without domain adaptation.\n",
    "Let's look into the results."
   ]
  },
  {
   "cell_type": "code",
   "execution_count": 34,
   "id": "0fe7f1f1",
   "metadata": {
    "execution": {
     "iopub.execute_input": "2022-03-21T12:16:27.082646Z",
     "iopub.status.busy": "2022-03-21T12:16:27.081915Z",
     "iopub.status.idle": "2022-03-21T12:38:24.483774Z",
     "shell.execute_reply": "2022-03-21T12:38:24.484241Z",
     "shell.execute_reply.started": "2022-03-21T11:25:16.095168Z"
    },
    "papermill": {
     "duration": 1317.476753,
     "end_time": "2022-03-21T12:38:24.484420",
     "exception": false,
     "start_time": "2022-03-21T12:16:27.007667",
     "status": "completed"
    },
    "tags": []
   },
   "outputs": [
    {
     "name": "stderr",
     "output_type": "stream",
     "text": [
      "/opt/conda/lib/python3.7/site-packages/transformers/optimization.py:309: FutureWarning: This implementation of AdamW is deprecated and will be removed in a future version. Use thePyTorch implementation torch.optim.AdamW instead, or set `no_deprecation_warning=True` to disable this warning\n",
      "  FutureWarning,\n"
     ]
    },
    {
     "data": {
      "text/html": [
       "\n",
       "    <div>\n",
       "      \n",
       "      <progress value='2814' max='2814' style='width:300px; height:20px; vertical-align: middle;'></progress>\n",
       "      [2814/2814 21:56, Epoch 2/2]\n",
       "    </div>\n",
       "    <table border=\"1\" class=\"dataframe\">\n",
       "  <thead>\n",
       " <tr style=\"text-align: left;\">\n",
       "      <th>Epoch</th>\n",
       "      <th>Training Loss</th>\n",
       "      <th>Validation Loss</th>\n",
       "      <th>Accuracy</th>\n",
       "    </tr>\n",
       "  </thead>\n",
       "  <tbody>\n",
       "    <tr>\n",
       "      <td>1</td>\n",
       "      <td>0.268000</td>\n",
       "      <td>0.212515</td>\n",
       "      <td>0.917200</td>\n",
       "    </tr>\n",
       "    <tr>\n",
       "      <td>2</td>\n",
       "      <td>0.149500</td>\n",
       "      <td>0.263180</td>\n",
       "      <td>0.920800</td>\n",
       "    </tr>\n",
       "  </tbody>\n",
       "</table><p>"
      ],
      "text/plain": [
       "<IPython.core.display.HTML object>"
      ]
     },
     "metadata": {},
     "output_type": "display_data"
    },
    {
     "data": {
      "text/plain": [
       "TrainOutput(global_step=2814, training_loss=0.20861409732564892, metrics={'train_runtime': 1317.3872, 'train_samples_per_second': 34.159, 'train_steps_per_second': 2.136, 'total_flos': 5961032939520000.0, 'train_loss': 0.20861409732564892, 'epoch': 2.0})"
      ]
     },
     "execution_count": 34,
     "metadata": {},
     "output_type": "execute_result"
    }
   ],
   "source": [
    "trainer.train()"
   ]
  },
  {
   "cell_type": "markdown",
   "id": "09ebee22",
   "metadata": {
    "papermill": {
     "duration": 0.068782,
     "end_time": "2022-03-21T12:38:24.622052",
     "exception": false,
     "start_time": "2022-03-21T12:38:24.553270",
     "status": "completed"
    },
    "tags": []
   },
   "source": [
    "## Inspect Results"
   ]
  },
  {
   "cell_type": "code",
   "execution_count": 35,
   "id": "fb6b56de",
   "metadata": {
    "execution": {
     "iopub.execute_input": "2022-03-21T12:38:24.766191Z",
     "iopub.status.busy": "2022-03-21T12:38:24.765415Z",
     "iopub.status.idle": "2022-03-21T12:38:48.813710Z",
     "shell.execute_reply": "2022-03-21T12:38:48.814106Z",
     "shell.execute_reply.started": "2022-03-21T11:58:14.227718Z"
    },
    "papermill": {
     "duration": 24.123829,
     "end_time": "2022-03-21T12:38:48.814262",
     "exception": false,
     "start_time": "2022-03-21T12:38:24.690433",
     "status": "completed"
    },
    "tags": []
   },
   "outputs": [
    {
     "data": {
      "text/html": [
       "\n",
       "    <div>\n",
       "      \n",
       "      <progress value='157' max='157' style='width:300px; height:20px; vertical-align: middle;'></progress>\n",
       "      [157/157 00:23]\n",
       "    </div>\n",
       "    "
      ],
      "text/plain": [
       "<IPython.core.display.HTML object>"
      ]
     },
     "metadata": {},
     "output_type": "display_data"
    }
   ],
   "source": [
    "preds_output = trainer.predict(imdb_encoded[\"valid\"])"
   ]
  },
  {
   "cell_type": "code",
   "execution_count": 36,
   "id": "22d6877c",
   "metadata": {
    "execution": {
     "iopub.execute_input": "2022-03-21T12:38:48.957746Z",
     "iopub.status.busy": "2022-03-21T12:38:48.957137Z",
     "iopub.status.idle": "2022-03-21T12:38:48.959818Z",
     "shell.execute_reply": "2022-03-21T12:38:48.960243Z",
     "shell.execute_reply.started": "2022-03-21T11:58:47.398274Z"
    },
    "papermill": {
     "duration": 0.076289,
     "end_time": "2022-03-21T12:38:48.960371",
     "exception": false,
     "start_time": "2022-03-21T12:38:48.884082",
     "status": "completed"
    },
    "tags": []
   },
   "outputs": [
    {
     "data": {
      "text/plain": [
       "{'test_loss': 0.2631796896457672,\n",
       " 'test_accuracy': 0.9208,\n",
       " 'test_runtime': 24.0446,\n",
       " 'test_samples_per_second': 103.973,\n",
       " 'test_steps_per_second': 6.53}"
      ]
     },
     "execution_count": 36,
     "metadata": {},
     "output_type": "execute_result"
    }
   ],
   "source": [
    "preds_output.metrics"
   ]
  },
  {
   "cell_type": "code",
   "execution_count": 37,
   "id": "5e0020b5",
   "metadata": {
    "execution": {
     "iopub.execute_input": "2022-03-21T12:38:49.103588Z",
     "iopub.status.busy": "2022-03-21T12:38:49.102793Z",
     "iopub.status.idle": "2022-03-21T12:38:49.109239Z",
     "shell.execute_reply": "2022-03-21T12:38:49.108751Z",
     "shell.execute_reply.started": "2022-03-21T12:00:09.064358Z"
    },
    "papermill": {
     "duration": 0.079268,
     "end_time": "2022-03-21T12:38:49.109357",
     "exception": false,
     "start_time": "2022-03-21T12:38:49.030089",
     "status": "completed"
    },
    "tags": []
   },
   "outputs": [],
   "source": [
    "import numpy as np\n",
    "\n",
    "y_preds = np.argmax(preds_output.predictions, axis=1)\n",
    "y_valid = imdb_encoded[\"valid\"][\"label\"]"
   ]
  },
  {
   "cell_type": "markdown",
   "id": "f455d015",
   "metadata": {
    "papermill": {
     "duration": 0.069577,
     "end_time": "2022-03-21T12:38:49.252667",
     "exception": false,
     "start_time": "2022-03-21T12:38:49.183090",
     "status": "completed"
    },
    "tags": []
   },
   "source": [
    "## Confusion Matrix"
   ]
  },
  {
   "cell_type": "code",
   "execution_count": 38,
   "id": "b135c1b8",
   "metadata": {
    "execution": {
     "iopub.execute_input": "2022-03-21T12:38:49.398545Z",
     "iopub.status.busy": "2022-03-21T12:38:49.397676Z",
     "iopub.status.idle": "2022-03-21T12:38:49.510654Z",
     "shell.execute_reply": "2022-03-21T12:38:49.509804Z",
     "shell.execute_reply.started": "2022-03-21T12:00:23.279595Z"
    },
    "papermill": {
     "duration": 0.188836,
     "end_time": "2022-03-21T12:38:49.510854",
     "exception": false,
     "start_time": "2022-03-21T12:38:49.322018",
     "status": "completed"
    },
    "tags": []
   },
   "outputs": [
    {
     "data": {
      "image/png": "[encoded data removed]",
      "text/plain": [
       "<Figure size 432x432 with 1 Axes>"
      ]
     },
     "metadata": {
      "needs_background": "light"
     },
     "output_type": "display_data"
    }
   ],
   "source": [
    "from sklearn.metrics import ConfusionMatrixDisplay, confusion_matrix\n",
    "from matplotlib import pyplot as plt\n",
    "\n",
    "def plot_confusion_matrix(y_preds, y_true, labels):\n",
    "    cm = confusion_matrix(y_true, y_preds, normalize=\"true\")\n",
    "    fig, ax = plt.subplots(figsize=(6, 6))\n",
    "    disp = ConfusionMatrixDisplay(confusion_matrix=cm, display_labels=labels)\n",
    "    disp.plot(cmap=\"Blues\", values_format=\".2f\", ax=ax, colorbar=False)\n",
    "    plt.title(\"Normalized confusion matrix\")\n",
    "    plt.show()\n",
    "    \n",
    "plot_confusion_matrix(y_preds, y_valid, labels=[\"neg\", \"pos\"])"
   ]
  },
  {
   "cell_type": "markdown",
   "id": "c78f864f",
   "metadata": {
    "papermill": {
     "duration": 0.070253,
     "end_time": "2022-03-21T12:38:49.688137",
     "exception": false,
     "start_time": "2022-03-21T12:38:49.617884",
     "status": "completed"
    },
    "tags": []
   },
   "source": [
    "## Top Losses\n",
    "\n",
    "Look at the predictions with highest loss to understand the model"
   ]
  },
  {
   "cell_type": "code",
   "execution_count": 39,
   "id": "90b88d2e",
   "metadata": {
    "execution": {
     "iopub.execute_input": "2022-03-21T12:38:49.836669Z",
     "iopub.status.busy": "2022-03-21T12:38:49.835868Z",
     "iopub.status.idle": "2022-03-21T12:38:49.838359Z",
     "shell.execute_reply": "2022-03-21T12:38:49.837920Z",
     "shell.execute_reply.started": "2022-03-21T12:04:48.362791Z"
    },
    "papermill": {
     "duration": 0.080057,
     "end_time": "2022-03-21T12:38:49.838465",
     "exception": false,
     "start_time": "2022-03-21T12:38:49.758408",
     "status": "completed"
    },
    "tags": []
   },
   "outputs": [],
   "source": [
    "from torch.nn.functional import cross_entropy\n",
    "\n",
    "def forward_pass_with_label(batch):\n",
    "    inputs = {k:v.to(device) for k, v in batch.items()\n",
    "              if k in tokenizer.model_input_names}\n",
    "    \n",
    "    with torch.no_grad():\n",
    "        output = model(**inputs)\n",
    "        pred_label = torch.argmax(output.logits, axis=-1)\n",
    "        loss = cross_entropy(output.logits, batch[\"label\"].to(device),\n",
    "                             reduction=\"none\")\n",
    "        \n",
    "    return {\n",
    "        \"loss\": loss.cpu().numpy(),\n",
    "        \"predicted_label\": pred_label.cpu().numpy(),\n",
    "           }"
   ]
  },
  {
   "cell_type": "code",
   "execution_count": 40,
   "id": "7f8006a6",
   "metadata": {
    "execution": {
     "iopub.execute_input": "2022-03-21T12:38:50.013471Z",
     "iopub.status.busy": "2022-03-21T12:38:50.012654Z",
     "iopub.status.idle": "2022-03-21T12:39:15.497126Z",
     "shell.execute_reply": "2022-03-21T12:39:15.498295Z",
     "shell.execute_reply.started": "2022-03-21T12:04:49.502661Z"
    },
    "papermill": {
     "duration": 25.567383,
     "end_time": "2022-03-21T12:39:15.498511",
     "exception": false,
     "start_time": "2022-03-21T12:38:49.931128",
     "status": "completed"
    },
    "tags": []
   },
   "outputs": [
    {
     "data": {
      "application/vnd.jupyter.widget-view+json": {
       "model_id": "a91cd26381db41f69ea5b4e5c1425590",
       "version_major": 2,
       "version_minor": 0
      },
      "text/plain": [
       "  0%|          | 0/157 [00:00<?, ?ba/s]"
      ]
     },
     "metadata": {},
     "output_type": "display_data"
    }
   ],
   "source": [
    "imdb_encoded[\"valid\"] = imdb_encoded[\"valid\"].map(forward_pass_with_label, batched=True, batch_size=16)"
   ]
  },
  {
   "cell_type": "code",
   "execution_count": 41,
   "id": "12de7fa2",
   "metadata": {
    "execution": {
     "iopub.execute_input": "2022-03-21T12:39:15.688560Z",
     "iopub.status.busy": "2022-03-21T12:39:15.687650Z",
     "iopub.status.idle": "2022-03-21T12:39:15.691295Z",
     "shell.execute_reply": "2022-03-21T12:39:15.690799Z",
     "shell.execute_reply.started": "2022-03-21T12:05:49.228773Z"
    },
    "papermill": {
     "duration": 0.090333,
     "end_time": "2022-03-21T12:39:15.691412",
     "exception": false,
     "start_time": "2022-03-21T12:39:15.601079",
     "status": "completed"
    },
    "tags": []
   },
   "outputs": [],
   "source": [
    "imdb_encoded.set_format(\"pandas\")"
   ]
  },
  {
   "cell_type": "code",
   "execution_count": 42,
   "id": "a272a5ec",
   "metadata": {
    "execution": {
     "iopub.execute_input": "2022-03-21T12:39:15.855552Z",
     "iopub.status.busy": "2022-03-21T12:39:15.854817Z",
     "iopub.status.idle": "2022-03-21T12:39:15.880213Z",
     "shell.execute_reply": "2022-03-21T12:39:15.880653Z",
     "shell.execute_reply.started": "2022-03-21T12:06:44.547503Z"
    },
    "papermill": {
     "duration": 0.110087,
     "end_time": "2022-03-21T12:39:15.880826",
     "exception": false,
     "start_time": "2022-03-21T12:39:15.770739",
     "status": "completed"
    },
    "tags": []
   },
   "outputs": [],
   "source": [
    "df_valid = imdb_encoded[\"valid\"][:][[\"text\", \"label\", \"loss\", \"predicted_label\"]]"
   ]
  },
  {
   "cell_type": "markdown",
   "id": "e4947ee4",
   "metadata": {
    "papermill": {
     "duration": 0.080441,
     "end_time": "2022-03-21T12:39:16.041420",
     "exception": false,
     "start_time": "2022-03-21T12:39:15.960979",
     "status": "completed"
    },
    "tags": []
   },
   "source": [
    "The top 4 all seem like negative reviews to me; I agree with the model."
   ]
  },
  {
   "cell_type": "code",
   "execution_count": 43,
   "id": "4b991dfb",
   "metadata": {
    "execution": {
     "iopub.execute_input": "2022-03-21T12:39:16.205168Z",
     "iopub.status.busy": "2022-03-21T12:39:16.204432Z",
     "iopub.status.idle": "2022-03-21T12:39:16.213326Z",
     "shell.execute_reply": "2022-03-21T12:39:16.213840Z",
     "shell.execute_reply.started": "2022-03-21T12:09:16.755294Z"
    },
    "papermill": {
     "duration": 0.093712,
     "end_time": "2022-03-21T12:39:16.214012",
     "exception": false,
     "start_time": "2022-03-21T12:39:16.120300",
     "status": "completed"
    },
    "tags": []
   },
   "outputs": [
    {
     "name": "stdout",
     "output_type": "stream",
     "text": [
      "Actual 1, predicted 0 with loss 5.955411911010742\n",
      "I was really excited about seeing this film. I thought finally Australia had made a good film.. but I was wrong.<br /><br />This was the most pathetic attempt at a slasher film ever. I feel sorry for Molly Ringwald having to come all the way to Australia to make an awful movie.<br /><br />The acting was terrible (especially that Australian guy who was trying to speak in an American accent), and the plot was also pretty bad.<br /><br />When I first heard about this film coming out, I thought that the title was pathetic (because it sounds like the cheesy film \"Stab\" in Scream 2), but I was willing to let it slide if it was a good movie.<br /><br />WARNING!!! MAJOR SPOILERS!!!<br /><br />Probably the worst thing about the film was the ending. I was expecting a big surprise about who the killer was.. but the killer wasn't even human.. which turned this realistic slasher film into an awful horror movie.<br /><br />Don't see this film.. you'll probably be disappointed!\n",
      "\n",
      "Actual 1, predicted 0 with loss 5.941267013549805\n",
      "This movie has everything that makes a bad movie worth watching - sloppy editing, little to no continuity, insane dialog, bad (you might even say non-existent) acting, pointless story lines, shots that go on FAR too long...and it's perfect for MST3K-style riffing, not to mention the \"Corpse Eaters Drinking Game\": Scribble on forms...take a shot - Sign your name...take a shot - Catch a bad Foley edit...take many, many shots.<br /><br />The only reason I didn't rate it higher than 8 is because there's not enough gratuitous nudity and because despite its insane badness, it's only an hour long - hell, a movie like this should have been at least 20-30 minutes longer!\n",
      "\n",
      "Actual 1, predicted 0 with loss 5.87800931930542\n",
      "I'm a bit conflicted over this. The show is on one hand awful, the acting is terrible (even when we get actual name actors like Brad Pitt and Bill Moseley in one episode), the dialogue is moronic and the premise/moral of each episode feels like something lifted out of a 50s educational short. There's no way you'll be scared for a moment from any of these episodes, and Robert Englund's cameos are short, pointless and corny in a sort of a Bob Saget on America's Funniest Home Videos kind of way.<br /><br />On the other hand this is one of the funniest things to ever be on television. The 80s fashions, the soft focus makes the actors look like their on the set of The View at all times, the premises lend the material more to self-parody than scares, so we're left with an episode where a high school kid is afraid if he fails his SAT's his girlfriend will dump him and his parents disown him, another is afraid she'll be locked up in prison because she's a substandard mom (her husband is played by Brad Pit), another is afraid that all the parents in the world are in league against him when he runs away from home, another is afraid she'll be confused with her socially-retarded twin, another is afraid if he doesn't break up his mom and step-dad he'll get killed for having a party at his house. The list goes on and on.<br /><br />Being that these are dreams I suppose you could look past the ludicrous plot points and devices, but they're so out of left field that there's no opportunities for the writers to actually scare the audience. You have characters dressed like something out of a 80s-themed nightmare wandering around delivering bad dialogue in very hammy fashion and making illogical decisions that serve no other purpose but to move the story to the next weird plot point (typically watching as a peripheral character does something uncharacteristic of a sane person while our main character stares aghast and too shocked to do anything about it).<br /><br />If you're looking for something that'll scare you stay away. If you're looking, on the other hand, for one of the funniest things to come out of the 80s ever. Watch it.<br /><br />Its been showing on Chiller TV lately (pretty much every day) and I've been watching, earlier out of morbid curiosity, and now just so I can get a good laugh in each day. With Arrested Development and Extras off the air this is officially the funniest thing on television right now.\n",
      "\n",
      "Actual 0, predicted 1 with loss 5.873328685760498\n",
      "this is a great movie. I love the series on tv and so I loved the movie. One of the best things in the movie is that Helga finally admits her deepest darkest secret to Arnold!!! that was great. i loved it it was pretty funny too. It's a great movie! Doy!!!\n",
      "\n",
      "Actual 0, predicted 1 with loss 5.786076545715332\n",
      "In 17th Century Japan, there lived a samurai who would set the standard for the ages. His name was Mayeda. He is sent on an epic journey across the world to acquire 5,000 muscats from the King of Spain. Whilst at sea a violent storm swallows their precious gold intended to buy the weapons and almost takes their lives. Mayeda must battle all odds to survive and the secure the fate of his beloved Japan. Shogun Mayeda is a multi million dollar action adventure epic set across three continents.<br /><br />Starring cinema legends Sho Kosugi (Tenchu: Stealth Assassins), Christopher Lee (Star Wars, Lord of the Rings Trilogy), John Rhys Davies (Lord of the Rings Trilogy, Indiana Jones Trilogy) and Toshiro Milfune (The Seven Samurai, Throne of Blood), Shogun Mayeda (Kabuto) is a film masterpiece.<br /><br />The Osaka winning stunt team bought to the screen by Bob Ivy bring exciting battle/action sequences such as the opening battle against the Eastern army, the attack on Mayeda's ship carrying priceless jewels and the final confrontation between Sho Kosugi and David Essex. A fine musical score by famed composer John Scott is also present. Director Sho Kusugi was not even nominated for an Oscar for this film which deals with the emotional strife such as the death of Mayedas family, the search for love and acceptance after grieving, all of which is dealt with extremely well. Highly recommended cinematic masterpiece.<br /><br />Please note: All of the above is opposite for the film in question.\n",
      "\n"
     ]
    }
   ],
   "source": [
    "for idx, row in df_valid.sort_values('loss', ascending=False).head(5).iterrows():\n",
    "    print(f'Actual {row.label}, predicted {row.predicted_label} with loss {row.loss}')\n",
    "    print(row.text)\n",
    "    print()"
   ]
  },
  {
   "cell_type": "markdown",
   "id": "8a62857e",
   "metadata": {
    "papermill": {
     "duration": 0.078909,
     "end_time": "2022-03-21T12:39:16.373709",
     "exception": false,
     "start_time": "2022-03-21T12:39:16.294800",
     "status": "completed"
    },
    "tags": []
   },
   "source": [
    "Borderline predictions; there's definite room for improvement here."
   ]
  },
  {
   "cell_type": "code",
   "execution_count": 44,
   "id": "c9d8e443",
   "metadata": {
    "execution": {
     "iopub.execute_input": "2022-03-21T12:39:16.549620Z",
     "iopub.status.busy": "2022-03-21T12:39:16.548885Z",
     "iopub.status.idle": "2022-03-21T12:39:16.552254Z",
     "shell.execute_reply": "2022-03-21T12:39:16.552775Z",
     "shell.execute_reply.started": "2022-03-21T12:10:58.225244Z"
    },
    "papermill": {
     "duration": 0.098811,
     "end_time": "2022-03-21T12:39:16.552932",
     "exception": false,
     "start_time": "2022-03-21T12:39:16.454121",
     "status": "completed"
    },
    "tags": []
   },
   "outputs": [
    {
     "name": "stdout",
     "output_type": "stream",
     "text": [
      "Actual 1, predicted 0 with loss 0.7124398350715637\n",
      "**SPOILERS** Since the disappearance at sea of her favorite niece Phyllis murder mystery writer Abigail Mitchell, Ruth Gordon, has strong suspicions that it was Phyllis' husband Edmund Galvin, Charles Frank, who was responsible for her death. In fact Abigail is convinced that he murdered her and made it look like a tragic accident.<br /><br />Knowing that there's no evidence to have Edmund arrested for Phyillis' death and deciding to take the law into her own hands Abigail cooks up this elaborate plan to do him in and make it look, like Phyllis' death, a tragic accident. Getting Edmund to secretly come over to her mansion to give him the combination to her walk-in safe, as she's about to leave on vacation for New York City, Abigail tricks him into going inside locking the startled and surprised Edmund in. With the safe being soundproof nobody at the mansion the butler maid and Abigail's personal secretary Veronica, Mariette Hartley, hear him screaming for help and the next day Edmund is found suffocated to death. Veronica discovered Edmund's body as she was about to put away, for safe keeping, Abigail's latest murder mystery manuscript.<br /><br />Lt. Columbo, Peter Falk, is called on the case involving the strange death of Edmund Garvin to determine if it's a murder or a tragic accident. Going through Edmund's apartment Columbo is puzzled to find out that he doesn't have a single photo of his late wife, who's been missing for just a month! This ties into what Abigail always felt about him in Edmund not being in love with Phyllis and also a suspect in her, in Abigail's mind, murder. <br /><br />Columbo a big fan, together with his wife, of Abigail's murder mystery novels has a hard time realizing that she in fact was responsible for Edmund's death. All the evidence points to Abigil including a pair of missing car keys that was Edmunds. This all proved that Abgail was in fact in the house, not on her way to the airport, when Edmund was locked inside the walk-in safe.<br /><br />Going through all the evidence Columbo comes up with this strange conclusion that Edmund must have left some evidence inside the safe in writing to who his killer is. That conclusion is quickly checkmated when it's found out that Edmund didn't even have a pen or pencil as well as light, with the safe light-bulb burned out, on him to write it. There's also something very odd that's inside the safe that has been on Lt. Columbo's mind ever since he came on the case. This has to do with the black paint residue that was found under the dead Edmund's fingernails and on his belt buckle! <br /><br />It's that evidence, when put together with a number of other items in the safe, that in the end hangs Edmund's murder on the tricky and very cunning mystery writer Abigail Mitchell. Edmund let Abigail unknowingly convict herself in his final attempt as the air in the safe was being used up, by his breathing, in using burnt out matchsticks to write on Abigail last manuscript who murdered him: Abigail Mitchell!\n",
      "\n",
      "Actual 0, predicted 1 with loss 0.7138953804969788\n",
      "Philip. K. Dickian movie. And a decent one for that matter. Better than the Paycheck (Woo) and that abomination called Minority Report (Spielberg). But lets face it, the twisting and cheesing ending was a bit too much for me. Half way through the movie I already started to fear about such kind of ending, and I was regrettably right. But that does not mean that the film is not worth its time. No, not at all. First half (as already many here have commented) is awesome. There are some parts where you start to doubt whether the director intended to convey the message that showmanship is highly important thing in the future (we will do such kind on corny sf things because we CAN) or is it simply over combining. But the paranoia is there and feeling \"out of joint\" also. Good one.\n",
      "\n",
      "Actual 0, predicted 1 with loss 0.733014702796936\n",
      "I have to say as being a fan of the man who created Halloween/The Fog/Christine/The Thing - probably his best films.<br /><br />Then you got this POS. I can't logically think he put any effort at all into this like he did with Cigarette Burns. At least his son made a decent soundtrack.<br /><br />You have to look at this from the standpoint that it didn't seem like a movie. It looked as if someone else directed it for one thing. I won't believe Carpenter put any effort into this at all.<br /><br />I was just listening to his old school H2/H3/The Fog soundtrack and it was awesome, especially for the times.<br /><br />He was using a style that no one had and it worked so well for his films.\n",
      "\n",
      "Actual 1, predicted 0 with loss 0.7416635751724243\n",
      "I feel very sorry for people who go to movies with a pad and pencil to write down flaws and keep notes on how bad a movie is. I feel equally contempt for people who go to movies and CAN'T suspend reality and/or let themselves enjoy 90 minutes aways from their boring or busy lives! Get a GRIP people. ECGTB is a very ENTERTAINING movie. If you take movies seriously, this is NOT for you. If you are expecting the movie to resemble the book in ANY way, this is not for you. But if you enjoyed the utter hilarity of Priscilla Queen of the Desert, or the \"what the hell am I watching\" of Moulin Rouge. Or the gross out comedy of \"The Sweetest Thing\" Then let yourself escape to Cowgirls. It has some really funny parts. Hilarious actually. It also has some really good music;kudos to kd.lang. Also did I mention it has 90 minutes of Uma Thurman.....need I say more?\n",
      "\n",
      "Actual 1, predicted 0 with loss 0.7662808299064636\n",
      "whereas the hard-boiled detective stories of Dashiell Hammett and Raymond Chandler have fitted to cinema like a fox in a chicken coop - indeed creating the definitively modern American genre and style in the process - those of what might be called Golden Age fiction have made barely any impression whatsoever. The problem with books like those of Agatha Christie, Dorothy L. Sayers or S.S. Van Dine (on whose work this film is based), is that they are low on action or variety - whereas Sam Spade or Philip Marlowe traverse the mean streets of LA, working class tenements, bars, offices, wealthy mansions, and meet all sorts of exciting dangers and violence, Golden Age fiction is generally fixed in location, the scene of the murder, usually a lavish country house, and the action is limited to investigating clues and interviewing suspects. This is a very static procedure, plot reduced to puzzle.<br /><br />This, of course, is as much ideological as anything else, the Golden Age stories dealing with a society hostile to change and movement; the hard-boiled novels recording an urban reality increasingly moving away from a centre (both of authority, and of a city), dividing itself up into hostile, ever uncontrollable and lawless camps. Another major problem with Golden age fiction is character - because we cannot know the answer to the crime until the end, we cannot gain access to characters' motivations or emotions, being defined solely by their potential need to murder. The detective, unlike the anxious, prejudice-ridden private eyes, are simply there to be brilliant, and maybe a little eccentric.<br /><br />The problem with most films from Golden Age books is that they try to be period recreations of the Merchant Ivory/Jane Austen school, and end up looking silly. There have been successes, for example the radical reworkings of Ellery Queen and others by Claude Chabrol. In the English-speaking world, there have really only been two. The Alistair Sim classic, 'Green For Danger', works because it pushes the form almost into parody, while never betraying the integrity or interest of the mystery.<br /><br />Before that came Michael Curtiz's brilliant 'The Kennel Murder Case'. The narrative is pure Golden Age. A repulsive character is introduced who gives a number of potential suspects reason to kill him. He is duly murdered in a seemingly foolproof manner, indicating suicide, slumped in a locked room. The caricatured policemen fall hopelessly for the bait. It is up to Philo Vance, gentleman and amateur detective, neither old nor fat, to read the clues more insightfully, open the case out of the confines of the room, and eventually solve the case, the corpse being little more than the pretext for intellectual stimulation.<br /><br />What is interesting is not this detective plot - which can only ever be unsatisfying as all solutions are - although it is rarely less than entertaining, and full of comical bits of business. There isn't even really an attempt to 'subvert' the image of the perfect detective - there is one alarming scene where a brutal sergeant threatens to rough up a suspect, with no protest from Vance, but that's about it.<br /><br />What marks 'Kennel' as a classic is its modernity. Curtiz is not generally considered a great auteur, because he has no consistent themes or evidence of artistic development. But he was Hollywood's greatest craftsman, and he is on sensational form here. if the Golden Age detective story is mere puzzle, Curtiz takes this idea to is logical extreme, creating an abstract variation on his source, reducing narrative, character and location to geometry, a series of lines, from the beautiful art-deco sets to the glorious camera movements which suddenly break from a static composition , and, as they glide furiously at an angle, jolt the dead decor to life.<br /><br />This treatment is appropriate to a story that resolutely refuses realism, it is a pattern that turns the detective plot into a hall of mirrors, like the two central brothers, or the original crime itself, borrowed from an 'Unsolved Mysteries' book. This fantasy world of nasty rich men who collect Oriental relics (shades of 'The Moonstone'?), inscrutable Chinese servants, ex-cons turned butlers, dog-loving fops, Runyonesque cops, is the perfect habitat for Vance, a man who will drop a cruise to Europe on a fanciful hunch, who knows the social world of these people, and yet is tainted by his interest in crime and association with the police, or would be if he wasn't anything more than a thinking machine, William Powell, the greatest American comedian of the decade, bravely subsuming his idiosyncratic humanity.<br /><br />But if the treatment is rarefied, the climax is spectacularly brutal, involving vicious dogs and attempted murder. The police and the detective, supposed to be preventing crime, are guilty of inciting one.\n",
      "\n"
     ]
    }
   ],
   "source": [
    "for idx, row in df_valid.query('label != predicted_label').sort_values('loss').head(5).iterrows():\n",
    "    print(f'Actual {row.label}, predicted {row.predicted_label} with loss {row.loss}')\n",
    "    print(row.text)\n",
    "    print()"
   ]
  },
  {
   "cell_type": "markdown",
   "id": "8f656369",
   "metadata": {
    "papermill": {
     "duration": 0.081048,
     "end_time": "2022-03-21T12:39:16.715534",
     "exception": false,
     "start_time": "2022-03-21T12:39:16.634486",
     "status": "completed"
    },
    "tags": []
   },
   "source": [
    "# Domain Adaptation"
   ]
  },
  {
   "cell_type": "markdown",
   "id": "682555c1",
   "metadata": {
    "papermill": {
     "duration": 0.081586,
     "end_time": "2022-03-21T12:39:16.879299",
     "exception": false,
     "start_time": "2022-03-21T12:39:16.797713",
     "status": "completed"
    },
    "tags": []
   },
   "source": [
    "The next step would be Domain Adaptation, as in the [HuggingFace Course](https://huggingface.co/course/chapter7/3?fw=pt), followed by fine tuning the language model.\n",
    "\n",
    "It would be worth doing this in a future iteration."
   ]
  }
 ],
 "metadata": {
  "kernelspec": {
   "display_name": "Python 3",
   "language": "python",
   "name": "python3"
  },
  "language_info": {
   "codemirror_mode": {
    "name": "ipython",
    "version": 3
   },
   "file_extension": ".py",
   "mimetype": "text/x-python",
   "name": "python",
   "nbconvert_exporter": "python",
   "pygments_lexer": "ipython3",
   "version": "3.7.12"
  },
  "papermill": {
   "default_parameters": {},
   "duration": 1589.070534,
   "end_time": "2022-03-21T12:39:19.823212",
   "environment_variables": {},
   "exception": null,
   "input_path": "__notebook__.ipynb",
   "output_path": "__notebook__.ipynb",
   "parameters": {},
   "start_time": "2022-03-21T12:12:50.752678",
   "version": "2.3.3"
  },
  "widgets": {
   "application/vnd.jupyter.widget-state+json": {
    "state": {
     "028998bee28d4f5ea4a2e14c7af2fea6": {
      "model_module": "@jupyter-widgets/base",
      "model_module_version": "1.2.0",
      "model_name": "LayoutModel",
      "state": {
       "_model_module": "@jupyter-widgets/base",
       "_model_module_version": "1.2.0",
       "_model_name": "LayoutModel",
       "_view_count": null,
       "_view_module": "@jupyter-widgets/base",
       "_view_module_version": "1.2.0",
       "_view_name": "LayoutView",
       "align_content": null,
       "align_items": null,
       "align_self": null,
       "border": null,
       "bottom": null,
       "display": null,
       "flex": null,
       "flex_flow": null,
       "grid_area": null,
       "grid_auto_columns": null,
       "grid_auto_flow": null,
       "grid_auto_rows": null,
       "grid_column": null,
       "grid_gap": null,
       "grid_row": null,
       "grid_template_areas": null,
       "grid_template_columns": null,
       "grid_template_rows": null,
       "height": null,
       "justify_content": null,
       "justify_items": null,
       "left": null,
       "margin": null,
       "max_height": null,
       "max_width": null,
       "min_height": null,
       "min_width": null,
       "object_fit": null,
       "object_position": null,
       "order": null,
       "overflow": null,
       "overflow_x": null,
       "overflow_y": null,
       "padding": null,
       "right": null,
       "top": null,
       "visibility": null,
       "width": null
      }
     },
     "02d9d23c4d5640ddbdba63f8b5d8b15e": {
      "model_module": "@jupyter-widgets/controls",
      "model_module_version": "1.5.0",
      "model_name": "FloatProgressModel",
      "state": {
       "_dom_classes": [],
       "_model_module": "@jupyter-widgets/controls",
       "_model_module_version": "1.5.0",
       "_model_name": "FloatProgressModel",
       "_view_count": null,
       "_view_module": "@jupyter-widgets/controls",
       "_view_module_version": "1.5.0",
       "_view_name": "ProgressView",
       "bar_style": "success",
       "description": "",
       "description_tooltip": null,
       "layout": "IPY_MODEL_8eb80e2a2f5a4e09b19ff924ef01301f",
       "max": 1.0,
       "min": 0.0,
       "orientation": "horizontal",
       "style": "IPY_MODEL_f6be39f17dec433cb448544efa9f60c0",
       "value": 1.0
      }
     },
     "03cc22b98aa448168480111ed2da813c": {
      "model_module": "@jupyter-widgets/base",
      "model_module_version": "1.2.0",
      "model_name": "LayoutModel",
      "state": {
       "_model_module": "@jupyter-widgets/base",
       "_model_module_version": "1.2.0",
       "_model_name": "LayoutModel",
       "_view_count": null,
       "_view_module": "@jupyter-widgets/base",
       "_view_module_version": "1.2.0",
       "_view_name": "LayoutView",
       "align_content": null,
       "align_items": null,
       "align_self": null,
       "border": null,
       "bottom": null,
       "display": null,
       "flex": null,
       "flex_flow": null,
       "grid_area": null,
       "grid_auto_columns": null,
       "grid_auto_flow": null,
       "grid_auto_rows": null,
       "grid_column": null,
       "grid_gap": null,
       "grid_row": null,
       "grid_template_areas": null,
       "grid_template_columns": null,
       "grid_template_rows": null,
       "height": null,
       "justify_content": null,
       "justify_items": null,
       "left": null,
       "margin": null,
       "max_height": null,
       "max_width": null,
       "min_height": null,
       "min_width": null,
       "object_fit": null,
       "object_position": null,
       "order": null,
       "overflow": null,
       "overflow_x": null,
       "overflow_y": null,
       "padding": null,
       "right": null,
       "top": null,
       "visibility": null,
       "width": null
      }
     },
     "04fd977ca5c34807bc8d318b5e879c7a": {
      "model_module": "@jupyter-widgets/controls",
      "model_module_version": "1.5.0",
      "model_name": "HBoxModel",
      "state": {
       "_dom_classes": [],
       "_model_module": "@jupyter-widgets/controls",
       "_model_module_version": "1.5.0",
       "_model_name": "HBoxModel",
       "_view_count": null,
       "_view_module": "@jupyter-widgets/controls",
       "_view_module_version": "1.5.0",
       "_view_name": "HBoxView",
       "box_style": "",
       "children": [
        "IPY_MODEL_1fdd94688c7a4d5baa7af9d270d1c11a",
        "IPY_MODEL_02d9d23c4d5640ddbdba63f8b5d8b15e",
        "IPY_MODEL_5d1abf2db3e9469787dd8082669c1c5a"
       ],
       "layout": "IPY_MODEL_c00f147e3280448ca2f75ff1a6019a61"
      }
     },
     "08221ad3c02e48aca44b9c6e0c886614": {
      "model_module": "@jupyter-widgets/base",
      "model_module_version": "1.2.0",
      "model_name": "LayoutModel",
      "state": {
       "_model_module": "@jupyter-widgets/base",
       "_model_module_version": "1.2.0",
       "_model_name": "LayoutModel",
       "_view_count": null,
       "_view_module": "@jupyter-widgets/base",
       "_view_module_version": "1.2.0",
       "_view_name": "LayoutView",
       "align_content": null,
       "align_items": null,
       "align_self": null,
       "border": null,
       "bottom": null,
       "display": null,
       "flex": null,
       "flex_flow": null,
       "grid_area": null,
       "grid_auto_columns": null,
       "grid_auto_flow": null,
       "grid_auto_rows": null,
       "grid_column": null,
       "grid_gap": null,
       "grid_row": null,
       "grid_template_areas": null,
       "grid_template_columns": null,
       "grid_template_rows": null,
       "height": null,
       "justify_content": null,
       "justify_items": null,
       "left": null,
       "margin": null,
       "max_height": null,
       "max_width": null,
       "min_height": null,
       "min_width": null,
       "object_fit": null,
       "object_position": null,
       "order": null,
       "overflow": null,
       "overflow_x": null,
       "overflow_y": null,
       "padding": null,
       "right": null,
       "top": null,
       "visibility": null,
       "width": null
      }
     },
     "08376e8fd4b54012b0ecf2e47752ce1c": {
      "model_module": "@jupyter-widgets/controls",
      "model_module_version": "1.5.0",
      "model_name": "HBoxModel",
      "state": {
       "_dom_classes": [],
       "_model_module": "@jupyter-widgets/controls",
       "_model_module_version": "1.5.0",
       "_model_name": "HBoxModel",
       "_view_count": null,
       "_view_module": "@jupyter-widgets/controls",
       "_view_module_version": "1.5.0",
       "_view_name": "HBoxView",
       "box_style": "",
       "children": [
        "IPY_MODEL_3c3b7bdc486d4d248583a9dcf1373e50",
        "IPY_MODEL_6121c5e90c784d5bb6f7e3d24f57d619",
        "IPY_MODEL_150b711b34564b5498ddfa4d12399ac5"
       ],
       "layout": "IPY_MODEL_9b48639c204f4077926e0fa0170dbd54"
      }
     },
     "08688868404f4f47abeedbc5c42d2432": {
      "model_module": "@jupyter-widgets/controls",
      "model_module_version": "1.5.0",
      "model_name": "DescriptionStyleModel",
      "state": {
       "_model_module": "@jupyter-widgets/controls",
       "_model_module_version": "1.5.0",
       "_model_name": "DescriptionStyleModel",
       "_view_count": null,
       "_view_module": "@jupyter-widgets/base",
       "_view_module_version": "1.2.0",
       "_view_name": "StyleView",
       "description_width": ""
      }
     },
     "087a4ceb7ba9400d8dafe8ff49717c5e": {
      "model_module": "@jupyter-widgets/controls",
      "model_module_version": "1.5.0",
      "model_name": "HTMLModel",
      "state": {
       "_dom_classes": [],
       "_model_module": "@jupyter-widgets/controls",
       "_model_module_version": "1.5.0",
       "_model_name": "HTMLModel",
       "_view_count": null,
       "_view_module": "@jupyter-widgets/controls",
       "_view_module_version": "1.5.0",
       "_view_name": "HTMLView",
       "description": "",
       "description_tooltip": null,
       "layout": "IPY_MODEL_d3f54eff62d246978a3bb24d52ab4ab2",
       "placeholder": "​",
       "style": "IPY_MODEL_08688868404f4f47abeedbc5c42d2432",
       "value": "100%"
      }
     },
     "0884d1628ffc4c8bb49d9b419e3826cc": {
      "model_module": "@jupyter-widgets/controls",
      "model_module_version": "1.5.0",
      "model_name": "FloatProgressModel",
      "state": {
       "_dom_classes": [],
       "_model_module": "@jupyter-widgets/controls",
       "_model_module_version": "1.5.0",
       "_model_name": "FloatProgressModel",
       "_view_count": null,
       "_view_module": "@jupyter-widgets/controls",
       "_view_module_version": "1.5.0",
       "_view_name": "ProgressView",
       "bar_style": "info",
       "description": "",
       "description_tooltip": null,
       "layout": "IPY_MODEL_868f814085314881a1937078138dfb24",
       "max": 1.0,
       "min": 0.0,
       "orientation": "horizontal",
       "style": "IPY_MODEL_0932a0fd2ffa480f877b291a6e798802",
       "value": 1.0
      }
     },
     "08aa5ec06c4f4ed4944e7666b3213c77": {
      "model_module": "@jupyter-widgets/controls",
      "model_module_version": "1.5.0",
      "model_name": "DescriptionStyleModel",
      "state": {
       "_model_module": "@jupyter-widgets/controls",
       "_model_module_version": "1.5.0",
       "_model_name": "DescriptionStyleModel",
       "_view_count": null,
       "_view_module": "@jupyter-widgets/base",
       "_view_module_version": "1.2.0",
       "_view_name": "StyleView",
       "description_width": ""
      }
     },
     "0932a0fd2ffa480f877b291a6e798802": {
      "model_module": "@jupyter-widgets/controls",
      "model_module_version": "1.5.0",
      "model_name": "ProgressStyleModel",
      "state": {
       "_model_module": "@jupyter-widgets/controls",
       "_model_module_version": "1.5.0",
       "_model_name": "ProgressStyleModel",
       "_view_count": null,
       "_view_module": "@jupyter-widgets/base",
       "_view_module_version": "1.2.0",
       "_view_name": "StyleView",
       "bar_color": null,
       "description_width": ""
      }
     },
     "097da1786f9d4f869236af3f676cdaea": {
      "model_module": "@jupyter-widgets/controls",
      "model_module_version": "1.5.0",
      "model_name": "DescriptionStyleModel",
      "state": {
       "_model_module": "@jupyter-widgets/controls",
       "_model_module_version": "1.5.0",
       "_model_name": "DescriptionStyleModel",
       "_view_count": null,
       "_view_module": "@jupyter-widgets/base",
       "_view_module_version": "1.2.0",
       "_view_name": "StyleView",
       "description_width": ""
      }
     },
     "09e8ebbab0ca417ca5b97cf525de312c": {
      "model_module": "@jupyter-widgets/base",
      "model_module_version": "1.2.0",
      "model_name": "LayoutModel",
      "state": {
       "_model_module": "@jupyter-widgets/base",
       "_model_module_version": "1.2.0",
       "_model_name": "LayoutModel",
       "_view_count": null,
       "_view_module": "@jupyter-widgets/base",
       "_view_module_version": "1.2.0",
       "_view_name": "LayoutView",
       "align_content": null,
       "align_items": null,
       "align_self": null,
       "border": null,
       "bottom": null,
       "display": null,
       "flex": null,
       "flex_flow": null,
       "grid_area": null,
       "grid_auto_columns": null,
       "grid_auto_flow": null,
       "grid_auto_rows": null,
       "grid_column": null,
       "grid_gap": null,
       "grid_row": null,
       "grid_template_areas": null,
       "grid_template_columns": null,
       "grid_template_rows": null,
       "height": null,
       "justify_content": null,
       "justify_items": null,
       "left": null,
       "margin": null,
       "max_height": null,
       "max_width": null,
       "min_height": null,
       "min_width": null,
       "object_fit": null,
       "object_position": null,
       "order": null,
       "overflow": null,
       "overflow_x": null,
       "overflow_y": null,
       "padding": null,
       "right": null,
       "top": null,
       "visibility": null,
       "width": null
      }
     },
     "0a600363c5e144429ad62feab5119e13": {
      "model_module": "@jupyter-widgets/base",
      "model_module_version": "1.2.0",
      "model_name": "LayoutModel",
      "state": {
       "_model_module": "@jupyter-widgets/base",
       "_model_module_version": "1.2.0",
       "_model_name": "LayoutModel",
       "_view_count": null,
       "_view_module": "@jupyter-widgets/base",
       "_view_module_version": "1.2.0",
       "_view_name": "LayoutView",
       "align_content": null,
       "align_items": null,
       "align_self": null,
       "border": null,
       "bottom": null,
       "display": null,
       "flex": null,
       "flex_flow": null,
       "grid_area": null,
       "grid_auto_columns": null,
       "grid_auto_flow": null,
       "grid_auto_rows": null,
       "grid_column": null,
       "grid_gap": null,
       "grid_row": null,
       "grid_template_areas": null,
       "grid_template_columns": null,
       "grid_template_rows": null,
       "height": null,
       "justify_content": null,
       "justify_items": null,
       "left": null,
       "margin": null,
       "max_height": null,
       "max_width": null,
       "min_height": null,
       "min_width": null,
       "object_fit": null,
       "object_position": null,
       "order": null,
       "overflow": null,
       "overflow_x": null,
       "overflow_y": null,
       "padding": null,
       "right": null,
       "top": null,
       "visibility": null,
       "width": null
      }
     },
     "0d79a43260ac435eacacd190fed35a46": {
      "model_module": "@jupyter-widgets/controls",
      "model_module_version": "1.5.0",
      "model_name": "HTMLModel",
      "state": {
       "_dom_classes": [],
       "_model_module": "@jupyter-widgets/controls",
       "_model_module_version": "1.5.0",
       "_model_name": "HTMLModel",
       "_view_count": null,
       "_view_module": "@jupyter-widgets/controls",
       "_view_module_version": "1.5.0",
       "_view_name": "HTMLView",
       "description": "",
       "description_tooltip": null,
       "layout": "IPY_MODEL_49b1c927a41e4459be085e56a79a87f4",
       "placeholder": "​",
       "style": "IPY_MODEL_c8b4ec1579fa470faeb3635234265462",
       "value": " 1/1 [00:21&lt;00:00, 21.12s/ba]"
      }
     },
     "0e022f10d8a24c16921627ce34e5f385": {
      "model_module": "@jupyter-widgets/base",
      "model_module_version": "1.2.0",
      "model_name": "LayoutModel",
      "state": {
       "_model_module": "@jupyter-widgets/base",
       "_model_module_version": "1.2.0",
       "_model_name": "LayoutModel",
       "_view_count": null,
       "_view_module": "@jupyter-widgets/base",
       "_view_module_version": "1.2.0",
       "_view_name": "LayoutView",
       "align_content": null,
       "align_items": null,
       "align_self": null,
       "border": null,
       "bottom": null,
       "display": null,
       "flex": null,
       "flex_flow": null,
       "grid_area": null,
       "grid_auto_columns": null,
       "grid_auto_flow": null,
       "grid_auto_rows": null,
       "grid_column": null,
       "grid_gap": null,
       "grid_row": null,
       "grid_template_areas": null,
       "grid_template_columns": null,
       "grid_template_rows": null,
       "height": null,
       "justify_content": null,
       "justify_items": null,
       "left": null,
       "margin": null,
       "max_height": null,
       "max_width": null,
       "min_height": null,
       "min_width": null,
       "object_fit": null,
       "object_position": null,
       "order": null,
       "overflow": null,
       "overflow_x": null,
       "overflow_y": null,
       "padding": null,
       "right": null,
       "top": null,
       "visibility": null,
       "width": null
      }
     },
     "1032861ce8944aed843e3f23e1ed97a3": {
      "model_module": "@jupyter-widgets/controls",
      "model_module_version": "1.5.0",
      "model_name": "HBoxModel",
      "state": {
       "_dom_classes": [],
       "_model_module": "@jupyter-widgets/controls",
       "_model_module_version": "1.5.0",
       "_model_name": "HBoxModel",
       "_view_count": null,
       "_view_module": "@jupyter-widgets/controls",
       "_view_module_version": "1.5.0",
       "_view_name": "HBoxView",
       "box_style": "",
       "children": [
        "IPY_MODEL_11a2a0f18e434cbda21212ba633d5dcd",
        "IPY_MODEL_a75b276d007645858fe91bb0de72e8b0",
        "IPY_MODEL_f40b9eaadc924116b3772026bbc990e0"
       ],
       "layout": "IPY_MODEL_7012a1a04f334f2f8e743a0e8e3c19c1"
      }
     },
     "11a2a0f18e434cbda21212ba633d5dcd": {
      "model_module": "@jupyter-widgets/controls",
      "model_module_version": "1.5.0",
      "model_name": "HTMLModel",
      "state": {
       "_dom_classes": [],
       "_model_module": "@jupyter-widgets/controls",
       "_model_module_version": "1.5.0",
       "_model_name": "HTMLModel",
       "_view_count": null,
       "_view_module": "@jupyter-widgets/controls",
       "_view_module_version": "1.5.0",
       "_view_name": "HTMLView",
       "description": "",
       "description_tooltip": null,
       "layout": "IPY_MODEL_fb3a7a2a48a2462aa4fb5d183a57c1bc",
       "placeholder": "​",
       "style": "IPY_MODEL_52bbee106a7249eab78fc08896855772",
       "value": "Downloading: 100%"
      }
     },
     "1263648bd38d4688b42a8a4895f915ab": {
      "model_module": "@jupyter-widgets/base",
      "model_module_version": "1.2.0",
      "model_name": "LayoutModel",
      "state": {
       "_model_module": "@jupyter-widgets/base",
       "_model_module_version": "1.2.0",
       "_model_name": "LayoutModel",
       "_view_count": null,
       "_view_module": "@jupyter-widgets/base",
       "_view_module_version": "1.2.0",
       "_view_name": "LayoutView",
       "align_content": null,
       "align_items": null,
       "align_self": null,
       "border": null,
       "bottom": null,
       "display": null,
       "flex": null,
       "flex_flow": null,
       "grid_area": null,
       "grid_auto_columns": null,
       "grid_auto_flow": null,
       "grid_auto_rows": null,
       "grid_column": null,
       "grid_gap": null,
       "grid_row": null,
       "grid_template_areas": null,
       "grid_template_columns": null,
       "grid_template_rows": null,
       "height": null,
       "justify_content": null,
       "justify_items": null,
       "left": null,
       "margin": null,
       "max_height": null,
       "max_width": null,
       "min_height": null,
       "min_width": null,
       "object_fit": null,
       "object_position": null,
       "order": null,
       "overflow": null,
       "overflow_x": null,
       "overflow_y": null,
       "padding": null,
       "right": null,
       "top": null,
       "visibility": null,
       "width": null
      }
     },
     "150b711b34564b5498ddfa4d12399ac5": {
      "model_module": "@jupyter-widgets/controls",
      "model_module_version": "1.5.0",
      "model_name": "HTMLModel",
      "state": {
       "_dom_classes": [],
       "_model_module": "@jupyter-widgets/controls",
       "_model_module_version": "1.5.0",
       "_model_name": "HTMLModel",
       "_view_count": null,
       "_view_module": "@jupyter-widgets/controls",
       "_view_module_version": "1.5.0",
       "_view_name": "HTMLView",
       "description": "",
       "description_tooltip": null,
       "layout": "IPY_MODEL_e6434959287f48c980175f918b32ebeb",
       "placeholder": "​",
       "style": "IPY_MODEL_db8a82759eeb412dbcf7bb0c6cf48430",
       "value": " 2.17k/? [00:00&lt;00:00, 85.6kB/s]"
      }
     },
     "19034ddf14fc48e29f56912fb609f414": {
      "model_module": "@jupyter-widgets/controls",
      "model_module_version": "1.5.0",
      "model_name": "HTMLModel",
      "state": {
       "_dom_classes": [],
       "_model_module": "@jupyter-widgets/controls",
       "_model_module_version": "1.5.0",
       "_model_name": "HTMLModel",
       "_view_count": null,
       "_view_module": "@jupyter-widgets/controls",
       "_view_module_version": "1.5.0",
       "_view_name": "HTMLView",
       "description": "",
       "description_tooltip": null,
       "layout": "IPY_MODEL_5c9966264d154570944cfc72650e8bbb",
       "placeholder": "​",
       "style": "IPY_MODEL_dcd5036c6b424f31959fbfe185d7296f",
       "value": " 3/3 [00:00&lt;00:00, 100.30it/s]"
      }
     },
     "1c701335600745b89090e7b839ae2b0c": {
      "model_module": "@jupyter-widgets/base",
      "model_module_version": "1.2.0",
      "model_name": "LayoutModel",
      "state": {
       "_model_module": "@jupyter-widgets/base",
       "_model_module_version": "1.2.0",
       "_model_name": "LayoutModel",
       "_view_count": null,
       "_view_module": "@jupyter-widgets/base",
       "_view_module_version": "1.2.0",
       "_view_name": "LayoutView",
       "align_content": null,
       "align_items": null,
       "align_self": null,
       "border": null,
       "bottom": null,
       "display": null,
       "flex": null,
       "flex_flow": null,
       "grid_area": null,
       "grid_auto_columns": null,
       "grid_auto_flow": null,
       "grid_auto_rows": null,
       "grid_column": null,
       "grid_gap": null,
       "grid_row": null,
       "grid_template_areas": null,
       "grid_template_columns": null,
       "grid_template_rows": null,
       "height": null,
       "justify_content": null,
       "justify_items": null,
       "left": null,
       "margin": null,
       "max_height": null,
       "max_width": null,
       "min_height": null,
       "min_width": null,
       "object_fit": null,
       "object_position": null,
       "order": null,
       "overflow": null,
       "overflow_x": null,
       "overflow_y": null,
       "padding": null,
       "right": null,
       "top": null,
       "visibility": null,
       "width": null
      }
     },
     "1ed1ebd31ff34d3ca919867cf0184d2a": {
      "model_module": "@jupyter-widgets/base",
      "model_module_version": "1.2.0",
      "model_name": "LayoutModel",
      "state": {
       "_model_module": "@jupyter-widgets/base",
       "_model_module_version": "1.2.0",
       "_model_name": "LayoutModel",
       "_view_count": null,
       "_view_module": "@jupyter-widgets/base",
       "_view_module_version": "1.2.0",
       "_view_name": "LayoutView",
       "align_content": null,
       "align_items": null,
       "align_self": null,
       "border": null,
       "bottom": null,
       "display": null,
       "flex": null,
       "flex_flow": null,
       "grid_area": null,
       "grid_auto_columns": null,
       "grid_auto_flow": null,
       "grid_auto_rows": null,
       "grid_column": null,
       "grid_gap": null,
       "grid_row": null,
       "grid_template_areas": null,
       "grid_template_columns": null,
       "grid_template_rows": null,
       "height": null,
       "justify_content": null,
       "justify_items": null,
       "left": null,
       "margin": null,
       "max_height": null,
       "max_width": null,
       "min_height": null,
       "min_width": null,
       "object_fit": null,
       "object_position": null,
       "order": null,
       "overflow": null,
       "overflow_x": null,
       "overflow_y": null,
       "padding": null,
       "right": null,
       "top": null,
       "visibility": null,
       "width": null
      }
     },
     "1f0439cd5cff4902b227cf1518f7cde8": {
      "model_module": "@jupyter-widgets/controls",
      "model_module_version": "1.5.0",
      "model_name": "HTMLModel",
      "state": {
       "_dom_classes": [],
       "_model_module": "@jupyter-widgets/controls",
       "_model_module_version": "1.5.0",
       "_model_name": "HTMLModel",
       "_view_count": null,
       "_view_module": "@jupyter-widgets/controls",
       "_view_module_version": "1.5.0",
       "_view_name": "HTMLView",
       "description": "",
       "description_tooltip": null,
       "layout": "IPY_MODEL_d70d0941a5464f26a4e609afe6c8758f",
       "placeholder": "​",
       "style": "IPY_MODEL_c17fffb38171452cbb2b12dd490d8853",
       "value": " 24704/0 [00:05&lt;00:00, 8915.43 examples/s]"
      }
     },
     "1fdd94688c7a4d5baa7af9d270d1c11a": {
      "model_module": "@jupyter-widgets/controls",
      "model_module_version": "1.5.0",
      "model_name": "HTMLModel",
      "state": {
       "_dom_classes": [],
       "_model_module": "@jupyter-widgets/controls",
       "_model_module_version": "1.5.0",
       "_model_name": "HTMLModel",
       "_view_count": null,
       "_view_module": "@jupyter-widgets/controls",
       "_view_module_version": "1.5.0",
       "_view_name": "HTMLView",
       "description": "",
       "description_tooltip": null,
       "layout": "IPY_MODEL_2aa24f9a94b74476adf6e3f102d3b4fe",
       "placeholder": "​",
       "style": "IPY_MODEL_992c26c93eca44128bed4449a2d2d4e6",
       "value": ""
      }
     },
     "204a9a1c76cc4994a2cba953386aaf40": {
      "model_module": "@jupyter-widgets/controls",
      "model_module_version": "1.5.0",
      "model_name": "FloatProgressModel",
      "state": {
       "_dom_classes": [],
       "_model_module": "@jupyter-widgets/controls",
       "_model_module_version": "1.5.0",
       "_model_name": "FloatProgressModel",
       "_view_count": null,
       "_view_module": "@jupyter-widgets/controls",
       "_view_module_version": "1.5.0",
       "_view_name": "ProgressView",
       "bar_style": "success",
       "description": "",
       "description_tooltip": null,
       "layout": "IPY_MODEL_d0afa4bfdb1849299fdf0f6897a0045a",
       "max": 157.0,
       "min": 0.0,
       "orientation": "horizontal",
       "style": "IPY_MODEL_bd6bec005b5d4ac19472b9fb1197a3ba",
       "value": 157.0
      }
     },
     "21c9e768ce9741e5813b926041f47824": {
      "model_module": "@jupyter-widgets/controls",
      "model_module_version": "1.5.0",
      "model_name": "DescriptionStyleModel",
      "state": {
       "_model_module": "@jupyter-widgets/controls",
       "_model_module_version": "1.5.0",
       "_model_name": "DescriptionStyleModel",
       "_view_count": null,
       "_view_module": "@jupyter-widgets/base",
       "_view_module_version": "1.2.0",
       "_view_name": "StyleView",
       "description_width": ""
      }
     },
     "2247d455e8b24d0cb10e82fc0cfe627f": {
      "model_module": "@jupyter-widgets/controls",
      "model_module_version": "1.5.0",
      "model_name": "HBoxModel",
      "state": {
       "_dom_classes": [],
       "_model_module": "@jupyter-widgets/controls",
       "_model_module_version": "1.5.0",
       "_model_name": "HBoxModel",
       "_view_count": null,
       "_view_module": "@jupyter-widgets/controls",
       "_view_module_version": "1.5.0",
       "_view_name": "HBoxView",
       "box_style": "",
       "children": [
        "IPY_MODEL_8c2cd8d1ad5b47c5a49aba0b5ec9e5a7",
        "IPY_MODEL_54c4c25c2d3844ab956c6123548556cc",
        "IPY_MODEL_31c61781a0224f30991cf73b06915352"
       ],
       "layout": "IPY_MODEL_237a51e0a5fe49b3a6c17ae000930fc4"
      }
     },
     "237a51e0a5fe49b3a6c17ae000930fc4": {
      "model_module": "@jupyter-widgets/base",
      "model_module_version": "1.2.0",
      "model_name": "LayoutModel",
      "state": {
       "_model_module": "@jupyter-widgets/base",
       "_model_module_version": "1.2.0",
       "_model_name": "LayoutModel",
       "_view_count": null,
       "_view_module": "@jupyter-widgets/base",
       "_view_module_version": "1.2.0",
       "_view_name": "LayoutView",
       "align_content": null,
       "align_items": null,
       "align_self": null,
       "border": null,
       "bottom": null,
       "display": null,
       "flex": null,
       "flex_flow": null,
       "grid_area": null,
       "grid_auto_columns": null,
       "grid_auto_flow": null,
       "grid_auto_rows": null,
       "grid_column": null,
       "grid_gap": null,
       "grid_row": null,
       "grid_template_areas": null,
       "grid_template_columns": null,
       "grid_template_rows": null,
       "height": null,
       "justify_content": null,
       "justify_items": null,
       "left": null,
       "margin": null,
       "max_height": null,
       "max_width": null,
       "min_height": null,
       "min_width": null,
       "object_fit": null,
       "object_position": null,
       "order": null,
       "overflow": null,
       "overflow_x": null,
       "overflow_y": null,
       "padding": null,
       "right": null,
       "top": null,
       "visibility": null,
       "width": null
      }
     },
     "23fffe094c06415683fb70c0ce4a74f4": {
      "model_module": "@jupyter-widgets/base",
      "model_module_version": "1.2.0",
      "model_name": "LayoutModel",
      "state": {
       "_model_module": "@jupyter-widgets/base",
       "_model_module_version": "1.2.0",
       "_model_name": "LayoutModel",
       "_view_count": null,
       "_view_module": "@jupyter-widgets/base",
       "_view_module_version": "1.2.0",
       "_view_name": "LayoutView",
       "align_content": null,
       "align_items": null,
       "align_self": null,
       "border": null,
       "bottom": null,
       "display": null,
       "flex": null,
       "flex_flow": null,
       "grid_area": null,
       "grid_auto_columns": null,
       "grid_auto_flow": null,
       "grid_auto_rows": null,
       "grid_column": null,
       "grid_gap": null,
       "grid_row": null,
       "grid_template_areas": null,
       "grid_template_columns": null,
       "grid_template_rows": null,
       "height": null,
       "justify_content": null,
       "justify_items": null,
       "left": null,
       "margin": null,
       "max_height": null,
       "max_width": null,
       "min_height": null,
       "min_width": null,
       "object_fit": null,
       "object_position": null,
       "order": null,
       "overflow": null,
       "overflow_x": null,
       "overflow_y": null,
       "padding": null,
       "right": null,
       "top": null,
       "visibility": null,
       "width": null
      }
     },
     "244ed5a307024919b1d4ac89f465b244": {
      "model_module": "@jupyter-widgets/controls",
      "model_module_version": "1.5.0",
      "model_name": "HTMLModel",
      "state": {
       "_dom_classes": [],
       "_model_module": "@jupyter-widgets/controls",
       "_model_module_version": "1.5.0",
       "_model_name": "HTMLModel",
       "_view_count": null,
       "_view_module": "@jupyter-widgets/controls",
       "_view_module_version": "1.5.0",
       "_view_name": "HTMLView",
       "description": "",
       "description_tooltip": null,
       "layout": "IPY_MODEL_a66a6158455a4a5c8ed25b31f439a8a6",
       "placeholder": "​",
       "style": "IPY_MODEL_fd4bb00f4e704cd6b2dfeec55f5c04a4",
       "value": "Downloading: 100%"
      }
     },
     "24c990c20ad84a138d7397b0729bb9b9": {
      "model_module": "@jupyter-widgets/controls",
      "model_module_version": "1.5.0",
      "model_name": "HBoxModel",
      "state": {
       "_dom_classes": [],
       "_model_module": "@jupyter-widgets/controls",
       "_model_module_version": "1.5.0",
       "_model_name": "HBoxModel",
       "_view_count": null,
       "_view_module": "@jupyter-widgets/controls",
       "_view_module_version": "1.5.0",
       "_view_name": "HBoxView",
       "box_style": "",
       "children": [
        "IPY_MODEL_5038182619b146d6820310e70915dd81",
        "IPY_MODEL_9b4ade15150642e69ab241575bc83442",
        "IPY_MODEL_667a1f58baae4d798f82bf006a45bd76"
       ],
       "layout": "IPY_MODEL_d038a42e5a624e84b8fec35c622090ce"
      }
     },
     "250805a4317741e196dc22b106b4af53": {
      "model_module": "@jupyter-widgets/controls",
      "model_module_version": "1.5.0",
      "model_name": "ProgressStyleModel",
      "state": {
       "_model_module": "@jupyter-widgets/controls",
       "_model_module_version": "1.5.0",
       "_model_name": "ProgressStyleModel",
       "_view_count": null,
       "_view_module": "@jupyter-widgets/base",
       "_view_module_version": "1.2.0",
       "_view_name": "StyleView",
       "bar_color": null,
       "description_width": ""
      }
     },
     "272f2ed7a9834af98b66825960a43e31": {
      "model_module": "@jupyter-widgets/controls",
      "model_module_version": "1.5.0",
      "model_name": "DescriptionStyleModel",
      "state": {
       "_model_module": "@jupyter-widgets/controls",
       "_model_module_version": "1.5.0",
       "_model_name": "DescriptionStyleModel",
       "_view_count": null,
       "_view_module": "@jupyter-widgets/base",
       "_view_module_version": "1.2.0",
       "_view_name": "StyleView",
       "description_width": ""
      }
     },
     "2aa24f9a94b74476adf6e3f102d3b4fe": {
      "model_module": "@jupyter-widgets/base",
      "model_module_version": "1.2.0",
      "model_name": "LayoutModel",
      "state": {
       "_model_module": "@jupyter-widgets/base",
       "_model_module_version": "1.2.0",
       "_model_name": "LayoutModel",
       "_view_count": null,
       "_view_module": "@jupyter-widgets/base",
       "_view_module_version": "1.2.0",
       "_view_name": "LayoutView",
       "align_content": null,
       "align_items": null,
       "align_self": null,
       "border": null,
       "bottom": null,
       "display": null,
       "flex": null,
       "flex_flow": null,
       "grid_area": null,
       "grid_auto_columns": null,
       "grid_auto_flow": null,
       "grid_auto_rows": null,
       "grid_column": null,
       "grid_gap": null,
       "grid_row": null,
       "grid_template_areas": null,
       "grid_template_columns": null,
       "grid_template_rows": null,
       "height": null,
       "justify_content": null,
       "justify_items": null,
       "left": null,
       "margin": null,
       "max_height": null,
       "max_width": null,
       "min_height": null,
       "min_width": null,
       "object_fit": null,
       "object_position": null,
       "order": null,
       "overflow": null,
       "overflow_x": null,
       "overflow_y": null,
       "padding": null,
       "right": null,
       "top": null,
       "visibility": null,
       "width": null
      }
     },
     "2c38b6263dc64824985a001d2451892a": {
      "model_module": "@jupyter-widgets/controls",
      "model_module_version": "1.5.0",
      "model_name": "HTMLModel",
      "state": {
       "_dom_classes": [],
       "_model_module": "@jupyter-widgets/controls",
       "_model_module_version": "1.5.0",
       "_model_name": "HTMLModel",
       "_view_count": null,
       "_view_module": "@jupyter-widgets/controls",
       "_view_module_version": "1.5.0",
       "_view_name": "HTMLView",
       "description": "",
       "description_tooltip": null,
       "layout": "IPY_MODEL_594e97b21f7a41ae98113441fb2aeeef",
       "placeholder": "​",
       "style": "IPY_MODEL_f469253edd6a4f1c90bdd7d602283db1",
       "value": "100%"
      }
     },
     "2d1fff6da2c84fb882243f5d63018c68": {
      "model_module": "@jupyter-widgets/controls",
      "model_module_version": "1.5.0",
      "model_name": "DescriptionStyleModel",
      "state": {
       "_model_module": "@jupyter-widgets/controls",
       "_model_module_version": "1.5.0",
       "_model_name": "DescriptionStyleModel",
       "_view_count": null,
       "_view_module": "@jupyter-widgets/base",
       "_view_module_version": "1.2.0",
       "_view_name": "StyleView",
       "description_width": ""
      }
     },
     "2d916b6ad2f5405fbd42d706169a18ae": {
      "model_module": "@jupyter-widgets/base",
      "model_module_version": "1.2.0",
      "model_name": "LayoutModel",
      "state": {
       "_model_module": "@jupyter-widgets/base",
       "_model_module_version": "1.2.0",
       "_model_name": "LayoutModel",
       "_view_count": null,
       "_view_module": "@jupyter-widgets/base",
       "_view_module_version": "1.2.0",
       "_view_name": "LayoutView",
       "align_content": null,
       "align_items": null,
       "align_self": null,
       "border": null,
       "bottom": null,
       "display": null,
       "flex": null,
       "flex_flow": null,
       "grid_area": null,
       "grid_auto_columns": null,
       "grid_auto_flow": null,
       "grid_auto_rows": null,
       "grid_column": null,
       "grid_gap": null,
       "grid_row": null,
       "grid_template_areas": null,
       "grid_template_columns": null,
       "grid_template_rows": null,
       "height": null,
       "justify_content": null,
       "justify_items": null,
       "left": null,
       "margin": null,
       "max_height": null,
       "max_width": null,
       "min_height": null,
       "min_width": null,
       "object_fit": null,
       "object_position": null,
       "order": null,
       "overflow": null,
       "overflow_x": null,
       "overflow_y": null,
       "padding": null,
       "right": null,
       "top": null,
       "visibility": null,
       "width": null
      }
     },
     "2dff37021d11439981cb6a67fa469bf6": {
      "model_module": "@jupyter-widgets/base",
      "model_module_version": "1.2.0",
      "model_name": "LayoutModel",
      "state": {
       "_model_module": "@jupyter-widgets/base",
       "_model_module_version": "1.2.0",
       "_model_name": "LayoutModel",
       "_view_count": null,
       "_view_module": "@jupyter-widgets/base",
       "_view_module_version": "1.2.0",
       "_view_name": "LayoutView",
       "align_content": null,
       "align_items": null,
       "align_self": null,
       "border": null,
       "bottom": null,
       "display": null,
       "flex": null,
       "flex_flow": null,
       "grid_area": null,
       "grid_auto_columns": null,
       "grid_auto_flow": null,
       "grid_auto_rows": null,
       "grid_column": null,
       "grid_gap": null,
       "grid_row": null,
       "grid_template_areas": null,
       "grid_template_columns": null,
       "grid_template_rows": null,
       "height": null,
       "justify_content": null,
       "justify_items": null,
       "left": null,
       "margin": null,
       "max_height": null,
       "max_width": null,
       "min_height": null,
       "min_width": null,
       "object_fit": null,
       "object_position": null,
       "order": null,
       "overflow": null,
       "overflow_x": null,
       "overflow_y": null,
       "padding": null,
       "right": null,
       "top": null,
       "visibility": null,
       "width": null
      }
     },
     "2e6f01bae76447069dddf0fa385c4cfb": {
      "model_module": "@jupyter-widgets/controls",
      "model_module_version": "1.5.0",
      "model_name": "DescriptionStyleModel",
      "state": {
       "_model_module": "@jupyter-widgets/controls",
       "_model_module_version": "1.5.0",
       "_model_name": "DescriptionStyleModel",
       "_view_count": null,
       "_view_module": "@jupyter-widgets/base",
       "_view_module_version": "1.2.0",
       "_view_name": "StyleView",
       "description_width": ""
      }
     },
     "2f8ba9dde9024d1cadd2b4d88ca26785": {
      "model_module": "@jupyter-widgets/controls",
      "model_module_version": "1.5.0",
      "model_name": "DescriptionStyleModel",
      "state": {
       "_model_module": "@jupyter-widgets/controls",
       "_model_module_version": "1.5.0",
       "_model_name": "DescriptionStyleModel",
       "_view_count": null,
       "_view_module": "@jupyter-widgets/base",
       "_view_module_version": "1.2.0",
       "_view_name": "StyleView",
       "description_width": ""
      }
     },
     "2febd3133c2c484ab53cda1831f92c2b": {
      "model_module": "@jupyter-widgets/controls",
      "model_module_version": "1.5.0",
      "model_name": "ProgressStyleModel",
      "state": {
       "_model_module": "@jupyter-widgets/controls",
       "_model_module_version": "1.5.0",
       "_model_name": "ProgressStyleModel",
       "_view_count": null,
       "_view_module": "@jupyter-widgets/base",
       "_view_module_version": "1.2.0",
       "_view_name": "StyleView",
       "bar_color": null,
       "description_width": ""
      }
     },
     "2ff5bb536aa84b409da18858d60978a9": {
      "model_module": "@jupyter-widgets/controls",
      "model_module_version": "1.5.0",
      "model_name": "FloatProgressModel",
      "state": {
       "_dom_classes": [],
       "_model_module": "@jupyter-widgets/controls",
       "_model_module_version": "1.5.0",
       "_model_name": "FloatProgressModel",
       "_view_count": null,
       "_view_module": "@jupyter-widgets/controls",
       "_view_module_version": "1.5.0",
       "_view_name": "ProgressView",
       "bar_style": "success",
       "description": "",
       "description_tooltip": null,
       "layout": "IPY_MODEL_028998bee28d4f5ea4a2e14c7af2fea6",
       "max": 1.0,
       "min": 0.0,
       "orientation": "horizontal",
       "style": "IPY_MODEL_6e7bdabbbd62439d8da14fd4a0786d68",
       "value": 1.0
      }
     },
     "31c61781a0224f30991cf73b06915352": {
      "model_module": "@jupyter-widgets/controls",
      "model_module_version": "1.5.0",
      "model_name": "HTMLModel",
      "state": {
       "_dom_classes": [],
       "_model_module": "@jupyter-widgets/controls",
       "_model_module_version": "1.5.0",
       "_model_name": "HTMLModel",
       "_view_count": null,
       "_view_module": "@jupyter-widgets/controls",
       "_view_module_version": "1.5.0",
       "_view_name": "HTMLView",
       "description": "",
       "description_tooltip": null,
       "layout": "IPY_MODEL_e8a699b708e246028b575d5ee8f805c0",
       "placeholder": "​",
       "style": "IPY_MODEL_2f8ba9dde9024d1cadd2b4d88ca26785",
       "value": " 455k/455k [00:00&lt;00:00, 656kB/s]"
      }
     },
     "32c55ae043c7497288bb208ccf12fbbd": {
      "model_module": "@jupyter-widgets/controls",
      "model_module_version": "1.5.0",
      "model_name": "HTMLModel",
      "state": {
       "_dom_classes": [],
       "_model_module": "@jupyter-widgets/controls",
       "_model_module_version": "1.5.0",
       "_model_name": "HTMLModel",
       "_view_count": null,
       "_view_module": "@jupyter-widgets/controls",
       "_view_module_version": "1.5.0",
       "_view_name": "HTMLView",
       "description": "",
       "description_tooltip": null,
       "layout": "IPY_MODEL_cf5ef22544ed4e5597c5012896b166f5",
       "placeholder": "​",
       "style": "IPY_MODEL_c1c3b77a32214b1a89df04efaf525c0f",
       "value": " 1/1 [00:23&lt;00:00, 23.09s/ba]"
      }
     },
     "353e8f90700549f395859204440ec098": {
      "model_module": "@jupyter-widgets/controls",
      "model_module_version": "1.5.0",
      "model_name": "ProgressStyleModel",
      "state": {
       "_model_module": "@jupyter-widgets/controls",
       "_model_module_version": "1.5.0",
       "_model_name": "ProgressStyleModel",
       "_view_count": null,
       "_view_module": "@jupyter-widgets/base",
       "_view_module_version": "1.2.0",
       "_view_name": "StyleView",
       "bar_color": null,
       "description_width": ""
      }
     },
     "3716a0b1dea94bd6913b0bffdc366f43": {
      "model_module": "@jupyter-widgets/controls",
      "model_module_version": "1.5.0",
      "model_name": "DescriptionStyleModel",
      "state": {
       "_model_module": "@jupyter-widgets/controls",
       "_model_module_version": "1.5.0",
       "_model_name": "DescriptionStyleModel",
       "_view_count": null,
       "_view_module": "@jupyter-widgets/base",
       "_view_module_version": "1.2.0",
       "_view_name": "StyleView",
       "description_width": ""
      }
     },
     "38920cc738c64957ae0fc7952a7ea9c4": {
      "model_module": "@jupyter-widgets/controls",
      "model_module_version": "1.5.0",
      "model_name": "ProgressStyleModel",
      "state": {
       "_model_module": "@jupyter-widgets/controls",
       "_model_module_version": "1.5.0",
       "_model_name": "ProgressStyleModel",
       "_view_count": null,
       "_view_module": "@jupyter-widgets/base",
       "_view_module_version": "1.2.0",
       "_view_name": "StyleView",
       "bar_color": null,
       "description_width": ""
      }
     },
     "39544bfd460947129a6eea5e3943d7a2": {
      "model_module": "@jupyter-widgets/controls",
      "model_module_version": "1.5.0",
      "model_name": "HTMLModel",
      "state": {
       "_dom_classes": [],
       "_model_module": "@jupyter-widgets/controls",
       "_model_module_version": "1.5.0",
       "_model_name": "HTMLModel",
       "_view_count": null,
       "_view_module": "@jupyter-widgets/controls",
       "_view_module_version": "1.5.0",
       "_view_name": "HTMLView",
       "description": "",
       "description_tooltip": null,
       "layout": "IPY_MODEL_1263648bd38d4688b42a8a4895f915ab",
       "placeholder": "​",
       "style": "IPY_MODEL_7b15f47625b64c1ebb2a8a6b5226d331",
       "value": "Downloading: "
      }
     },
     "3c3b7bdc486d4d248583a9dcf1373e50": {
      "model_module": "@jupyter-widgets/controls",
      "model_module_version": "1.5.0",
      "model_name": "HTMLModel",
      "state": {
       "_dom_classes": [],
       "_model_module": "@jupyter-widgets/controls",
       "_model_module_version": "1.5.0",
       "_model_name": "HTMLModel",
       "_view_count": null,
       "_view_module": "@jupyter-widgets/controls",
       "_view_module_version": "1.5.0",
       "_view_name": "HTMLView",
       "description": "",
       "description_tooltip": null,
       "layout": "IPY_MODEL_e81f171517524d75aaf92b23f51b7041",
       "placeholder": "​",
       "style": "IPY_MODEL_4c8869c6f0164aa69a3a0a79f3eb4f74",
       "value": "Downloading: "
      }
     },
     "3ddf74024d65409890c5f6bad4e3610b": {
      "model_module": "@jupyter-widgets/base",
      "model_module_version": "1.2.0",
      "model_name": "LayoutModel",
      "state": {
       "_model_module": "@jupyter-widgets/base",
       "_model_module_version": "1.2.0",
       "_model_name": "LayoutModel",
       "_view_count": null,
       "_view_module": "@jupyter-widgets/base",
       "_view_module_version": "1.2.0",
       "_view_name": "LayoutView",
       "align_content": null,
       "align_items": null,
       "align_self": null,
       "border": null,
       "bottom": null,
       "display": null,
       "flex": null,
       "flex_flow": null,
       "grid_area": null,
       "grid_auto_columns": null,
       "grid_auto_flow": null,
       "grid_auto_rows": null,
       "grid_column": null,
       "grid_gap": null,
       "grid_row": null,
       "grid_template_areas": null,
       "grid_template_columns": null,
       "grid_template_rows": null,
       "height": null,
       "justify_content": null,
       "justify_items": null,
       "left": null,
       "margin": null,
       "max_height": null,
       "max_width": null,
       "min_height": null,
       "min_width": null,
       "object_fit": null,
       "object_position": null,
       "order": null,
       "overflow": null,
       "overflow_x": null,
       "overflow_y": null,
       "padding": null,
       "right": null,
       "top": null,
       "visibility": null,
       "width": null
      }
     },
     "3fca777449684267b5dc741844305ed4": {
      "model_module": "@jupyter-widgets/controls",
      "model_module_version": "1.5.0",
      "model_name": "DescriptionStyleModel",
      "state": {
       "_model_module": "@jupyter-widgets/controls",
       "_model_module_version": "1.5.0",
       "_model_name": "DescriptionStyleModel",
       "_view_count": null,
       "_view_module": "@jupyter-widgets/base",
       "_view_module_version": "1.2.0",
       "_view_name": "StyleView",
       "description_width": ""
      }
     },
     "3fed5247d35f4cc7b4e9744bac287a19": {
      "model_module": "@jupyter-widgets/controls",
      "model_module_version": "1.5.0",
      "model_name": "HBoxModel",
      "state": {
       "_dom_classes": [],
       "_model_module": "@jupyter-widgets/controls",
       "_model_module_version": "1.5.0",
       "_model_name": "HBoxModel",
       "_view_count": null,
       "_view_module": "@jupyter-widgets/controls",
       "_view_module_version": "1.5.0",
       "_view_name": "HBoxView",
       "box_style": "",
       "children": [
        "IPY_MODEL_cd0b19addd4a46938af0853faf35da38",
        "IPY_MODEL_a7ed9d8405de4de3901ca6966221c3ab",
        "IPY_MODEL_19034ddf14fc48e29f56912fb609f414"
       ],
       "layout": "IPY_MODEL_0e022f10d8a24c16921627ce34e5f385"
      }
     },
     "42697cd56ca3493a8831ffaf28ff8337": {
      "model_module": "@jupyter-widgets/base",
      "model_module_version": "1.2.0",
      "model_name": "LayoutModel",
      "state": {
       "_model_module": "@jupyter-widgets/base",
       "_model_module_version": "1.2.0",
       "_model_name": "LayoutModel",
       "_view_count": null,
       "_view_module": "@jupyter-widgets/base",
       "_view_module_version": "1.2.0",
       "_view_name": "LayoutView",
       "align_content": null,
       "align_items": null,
       "align_self": null,
       "border": null,
       "bottom": null,
       "display": null,
       "flex": null,
       "flex_flow": null,
       "grid_area": null,
       "grid_auto_columns": null,
       "grid_auto_flow": null,
       "grid_auto_rows": null,
       "grid_column": null,
       "grid_gap": null,
       "grid_row": null,
       "grid_template_areas": null,
       "grid_template_columns": null,
       "grid_template_rows": null,
       "height": null,
       "justify_content": null,
       "justify_items": null,
       "left": null,
       "margin": null,
       "max_height": null,
       "max_width": null,
       "min_height": null,
       "min_width": null,
       "object_fit": null,
       "object_position": null,
       "order": null,
       "overflow": null,
       "overflow_x": null,
       "overflow_y": null,
       "padding": null,
       "right": null,
       "top": null,
       "visibility": null,
       "width": null
      }
     },
     "4302dda0ddc44875a045cee893dedfe3": {
      "model_module": "@jupyter-widgets/base",
      "model_module_version": "1.2.0",
      "model_name": "LayoutModel",
      "state": {
       "_model_module": "@jupyter-widgets/base",
       "_model_module_version": "1.2.0",
       "_model_name": "LayoutModel",
       "_view_count": null,
       "_view_module": "@jupyter-widgets/base",
       "_view_module_version": "1.2.0",
       "_view_name": "LayoutView",
       "align_content": null,
       "align_items": null,
       "align_self": null,
       "border": null,
       "bottom": null,
       "display": null,
       "flex": null,
       "flex_flow": null,
       "grid_area": null,
       "grid_auto_columns": null,
       "grid_auto_flow": null,
       "grid_auto_rows": null,
       "grid_column": null,
       "grid_gap": null,
       "grid_row": null,
       "grid_template_areas": null,
       "grid_template_columns": null,
       "grid_template_rows": null,
       "height": null,
       "justify_content": null,
       "justify_items": null,
       "left": null,
       "margin": null,
       "max_height": null,
       "max_width": null,
       "min_height": null,
       "min_width": null,
       "object_fit": null,
       "object_position": null,
       "order": null,
       "overflow": null,
       "overflow_x": null,
       "overflow_y": null,
       "padding": null,
       "right": null,
       "top": null,
       "visibility": null,
       "width": null
      }
     },
     "451ab4edaf404c42861a6f93f85e08c3": {
      "model_module": "@jupyter-widgets/base",
      "model_module_version": "1.2.0",
      "model_name": "LayoutModel",
      "state": {
       "_model_module": "@jupyter-widgets/base",
       "_model_module_version": "1.2.0",
       "_model_name": "LayoutModel",
       "_view_count": null,
       "_view_module": "@jupyter-widgets/base",
       "_view_module_version": "1.2.0",
       "_view_name": "LayoutView",
       "align_content": null,
       "align_items": null,
       "align_self": null,
       "border": null,
       "bottom": null,
       "display": null,
       "flex": null,
       "flex_flow": null,
       "grid_area": null,
       "grid_auto_columns": null,
       "grid_auto_flow": null,
       "grid_auto_rows": null,
       "grid_column": null,
       "grid_gap": null,
       "grid_row": null,
       "grid_template_areas": null,
       "grid_template_columns": null,
       "grid_template_rows": null,
       "height": null,
       "justify_content": null,
       "justify_items": null,
       "left": null,
       "margin": null,
       "max_height": null,
       "max_width": null,
       "min_height": null,
       "min_width": null,
       "object_fit": null,
       "object_position": null,
       "order": null,
       "overflow": null,
       "overflow_x": null,
       "overflow_y": null,
       "padding": null,
       "right": null,
       "top": null,
       "visibility": null,
       "width": null
      }
     },
     "4677a10c316a4bc89b5007e19c050876": {
      "model_module": "@jupyter-widgets/base",
      "model_module_version": "1.2.0",
      "model_name": "LayoutModel",
      "state": {
       "_model_module": "@jupyter-widgets/base",
       "_model_module_version": "1.2.0",
       "_model_name": "LayoutModel",
       "_view_count": null,
       "_view_module": "@jupyter-widgets/base",
       "_view_module_version": "1.2.0",
       "_view_name": "LayoutView",
       "align_content": null,
       "align_items": null,
       "align_self": null,
       "border": null,
       "bottom": null,
       "display": null,
       "flex": null,
       "flex_flow": null,
       "grid_area": null,
       "grid_auto_columns": null,
       "grid_auto_flow": null,
       "grid_auto_rows": null,
       "grid_column": null,
       "grid_gap": null,
       "grid_row": null,
       "grid_template_areas": null,
       "grid_template_columns": null,
       "grid_template_rows": null,
       "height": null,
       "justify_content": null,
       "justify_items": null,
       "left": null,
       "margin": null,
       "max_height": null,
       "max_width": null,
       "min_height": null,
       "min_width": null,
       "object_fit": null,
       "object_position": null,
       "order": null,
       "overflow": null,
       "overflow_x": null,
       "overflow_y": null,
       "padding": null,
       "right": null,
       "top": null,
       "visibility": null,
       "width": null
      }
     },
     "4883dd0972af428d9f6c202dfd6199f6": {
      "model_module": "@jupyter-widgets/controls",
      "model_module_version": "1.5.0",
      "model_name": "HTMLModel",
      "state": {
       "_dom_classes": [],
       "_model_module": "@jupyter-widgets/controls",
       "_model_module_version": "1.5.0",
       "_model_name": "HTMLModel",
       "_view_count": null,
       "_view_module": "@jupyter-widgets/controls",
       "_view_module_version": "1.5.0",
       "_view_name": "HTMLView",
       "description": "",
       "description_tooltip": null,
       "layout": "IPY_MODEL_7d435e6c724f49959d1823f4294f3aed",
       "placeholder": "​",
       "style": "IPY_MODEL_f20b8e8b2a154ead9dceabde1f74af93",
       "value": " 28.0/28.0 [00:00&lt;00:00, 1.04kB/s]"
      }
     },
     "49b1c927a41e4459be085e56a79a87f4": {
      "model_module": "@jupyter-widgets/base",
      "model_module_version": "1.2.0",
      "model_name": "LayoutModel",
      "state": {
       "_model_module": "@jupyter-widgets/base",
       "_model_module_version": "1.2.0",
       "_model_name": "LayoutModel",
       "_view_count": null,
       "_view_module": "@jupyter-widgets/base",
       "_view_module_version": "1.2.0",
       "_view_name": "LayoutView",
       "align_content": null,
       "align_items": null,
       "align_self": null,
       "border": null,
       "bottom": null,
       "display": null,
       "flex": null,
       "flex_flow": null,
       "grid_area": null,
       "grid_auto_columns": null,
       "grid_auto_flow": null,
       "grid_auto_rows": null,
       "grid_column": null,
       "grid_gap": null,
       "grid_row": null,
       "grid_template_areas": null,
       "grid_template_columns": null,
       "grid_template_rows": null,
       "height": null,
       "justify_content": null,
       "justify_items": null,
       "left": null,
       "margin": null,
       "max_height": null,
       "max_width": null,
       "min_height": null,
       "min_width": null,
       "object_fit": null,
       "object_position": null,
       "order": null,
       "overflow": null,
       "overflow_x": null,
       "overflow_y": null,
       "padding": null,
       "right": null,
       "top": null,
       "visibility": null,
       "width": null
      }
     },
     "4c8869c6f0164aa69a3a0a79f3eb4f74": {
      "model_module": "@jupyter-widgets/controls",
      "model_module_version": "1.5.0",
      "model_name": "DescriptionStyleModel",
      "state": {
       "_model_module": "@jupyter-widgets/controls",
       "_model_module_version": "1.5.0",
       "_model_name": "DescriptionStyleModel",
       "_view_count": null,
       "_view_module": "@jupyter-widgets/base",
       "_view_module_version": "1.2.0",
       "_view_name": "StyleView",
       "description_width": ""
      }
     },
     "501f8f92c3fd405baa32da10c9e35e1d": {
      "model_module": "@jupyter-widgets/base",
      "model_module_version": "1.2.0",
      "model_name": "LayoutModel",
      "state": {
       "_model_module": "@jupyter-widgets/base",
       "_model_module_version": "1.2.0",
       "_model_name": "LayoutModel",
       "_view_count": null,
       "_view_module": "@jupyter-widgets/base",
       "_view_module_version": "1.2.0",
       "_view_name": "LayoutView",
       "align_content": null,
       "align_items": null,
       "align_self": null,
       "border": null,
       "bottom": null,
       "display": null,
       "flex": null,
       "flex_flow": null,
       "grid_area": null,
       "grid_auto_columns": null,
       "grid_auto_flow": null,
       "grid_auto_rows": null,
       "grid_column": null,
       "grid_gap": null,
       "grid_row": null,
       "grid_template_areas": null,
       "grid_template_columns": null,
       "grid_template_rows": null,
       "height": null,
       "justify_content": null,
       "justify_items": null,
       "left": null,
       "margin": null,
       "max_height": null,
       "max_width": null,
       "min_height": null,
       "min_width": null,
       "object_fit": null,
       "object_position": null,
       "order": null,
       "overflow": null,
       "overflow_x": null,
       "overflow_y": null,
       "padding": null,
       "right": null,
       "top": null,
       "visibility": null,
       "width": null
      }
     },
     "5038182619b146d6820310e70915dd81": {
      "model_module": "@jupyter-widgets/controls",
      "model_module_version": "1.5.0",
      "model_name": "HTMLModel",
      "state": {
       "_dom_classes": [],
       "_model_module": "@jupyter-widgets/controls",
       "_model_module_version": "1.5.0",
       "_model_name": "HTMLModel",
       "_view_count": null,
       "_view_module": "@jupyter-widgets/controls",
       "_view_module_version": "1.5.0",
       "_view_name": "HTMLView",
       "description": "",
       "description_tooltip": null,
       "layout": "IPY_MODEL_513133d29d60489dac3a13217c5869eb",
       "placeholder": "​",
       "style": "IPY_MODEL_cdfcf7ad241244c38803ab9f56ba9821",
       "value": ""
      }
     },
     "50feeb9e02724089be5bdc7daddb074f": {
      "model_module": "@jupyter-widgets/controls",
      "model_module_version": "1.5.0",
      "model_name": "DescriptionStyleModel",
      "state": {
       "_model_module": "@jupyter-widgets/controls",
       "_model_module_version": "1.5.0",
       "_model_name": "DescriptionStyleModel",
       "_view_count": null,
       "_view_module": "@jupyter-widgets/base",
       "_view_module_version": "1.2.0",
       "_view_name": "StyleView",
       "description_width": ""
      }
     },
     "513133d29d60489dac3a13217c5869eb": {
      "model_module": "@jupyter-widgets/base",
      "model_module_version": "1.2.0",
      "model_name": "LayoutModel",
      "state": {
       "_model_module": "@jupyter-widgets/base",
       "_model_module_version": "1.2.0",
       "_model_name": "LayoutModel",
       "_view_count": null,
       "_view_module": "@jupyter-widgets/base",
       "_view_module_version": "1.2.0",
       "_view_name": "LayoutView",
       "align_content": null,
       "align_items": null,
       "align_self": null,
       "border": null,
       "bottom": null,
       "display": null,
       "flex": null,
       "flex_flow": null,
       "grid_area": null,
       "grid_auto_columns": null,
       "grid_auto_flow": null,
       "grid_auto_rows": null,
       "grid_column": null,
       "grid_gap": null,
       "grid_row": null,
       "grid_template_areas": null,
       "grid_template_columns": null,
       "grid_template_rows": null,
       "height": null,
       "justify_content": null,
       "justify_items": null,
       "left": null,
       "margin": null,
       "max_height": null,
       "max_width": null,
       "min_height": null,
       "min_width": null,
       "object_fit": null,
       "object_position": null,
       "order": null,
       "overflow": null,
       "overflow_x": null,
       "overflow_y": null,
       "padding": null,
       "right": null,
       "top": null,
       "visibility": null,
       "width": null
      }
     },
     "5223ad3b0ccf49b5ac81d9519dde29c0": {
      "model_module": "@jupyter-widgets/controls",
      "model_module_version": "1.5.0",
      "model_name": "DescriptionStyleModel",
      "state": {
       "_model_module": "@jupyter-widgets/controls",
       "_model_module_version": "1.5.0",
       "_model_name": "DescriptionStyleModel",
       "_view_count": null,
       "_view_module": "@jupyter-widgets/base",
       "_view_module_version": "1.2.0",
       "_view_name": "StyleView",
       "description_width": ""
      }
     },
     "52bbee106a7249eab78fc08896855772": {
      "model_module": "@jupyter-widgets/controls",
      "model_module_version": "1.5.0",
      "model_name": "DescriptionStyleModel",
      "state": {
       "_model_module": "@jupyter-widgets/controls",
       "_model_module_version": "1.5.0",
       "_model_name": "DescriptionStyleModel",
       "_view_count": null,
       "_view_module": "@jupyter-widgets/base",
       "_view_module_version": "1.2.0",
       "_view_name": "StyleView",
       "description_width": ""
      }
     },
     "54c4c25c2d3844ab956c6123548556cc": {
      "model_module": "@jupyter-widgets/controls",
      "model_module_version": "1.5.0",
      "model_name": "FloatProgressModel",
      "state": {
       "_dom_classes": [],
       "_model_module": "@jupyter-widgets/controls",
       "_model_module_version": "1.5.0",
       "_model_name": "FloatProgressModel",
       "_view_count": null,
       "_view_module": "@jupyter-widgets/controls",
       "_view_module_version": "1.5.0",
       "_view_name": "ProgressView",
       "bar_style": "success",
       "description": "",
       "description_tooltip": null,
       "layout": "IPY_MODEL_5e97cdbdab9145a68eb14a9531377ba8",
       "max": 466062.0,
       "min": 0.0,
       "orientation": "horizontal",
       "style": "IPY_MODEL_353e8f90700549f395859204440ec098",
       "value": 466062.0
      }
     },
     "558af8bd5e62437abbf0090478e8103c": {
      "model_module": "@jupyter-widgets/controls",
      "model_module_version": "1.5.0",
      "model_name": "DescriptionStyleModel",
      "state": {
       "_model_module": "@jupyter-widgets/controls",
       "_model_module_version": "1.5.0",
       "_model_name": "DescriptionStyleModel",
       "_view_count": null,
       "_view_module": "@jupyter-widgets/base",
       "_view_module_version": "1.2.0",
       "_view_name": "StyleView",
       "description_width": ""
      }
     },
     "594e97b21f7a41ae98113441fb2aeeef": {
      "model_module": "@jupyter-widgets/base",
      "model_module_version": "1.2.0",
      "model_name": "LayoutModel",
      "state": {
       "_model_module": "@jupyter-widgets/base",
       "_model_module_version": "1.2.0",
       "_model_name": "LayoutModel",
       "_view_count": null,
       "_view_module": "@jupyter-widgets/base",
       "_view_module_version": "1.2.0",
       "_view_name": "LayoutView",
       "align_content": null,
       "align_items": null,
       "align_self": null,
       "border": null,
       "bottom": null,
       "display": null,
       "flex": null,
       "flex_flow": null,
       "grid_area": null,
       "grid_auto_columns": null,
       "grid_auto_flow": null,
       "grid_auto_rows": null,
       "grid_column": null,
       "grid_gap": null,
       "grid_row": null,
       "grid_template_areas": null,
       "grid_template_columns": null,
       "grid_template_rows": null,
       "height": null,
       "justify_content": null,
       "justify_items": null,
       "left": null,
       "margin": null,
       "max_height": null,
       "max_width": null,
       "min_height": null,
       "min_width": null,
       "object_fit": null,
       "object_position": null,
       "order": null,
       "overflow": null,
       "overflow_x": null,
       "overflow_y": null,
       "padding": null,
       "right": null,
       "top": null,
       "visibility": null,
       "width": null
      }
     },
     "5a29ca1897e045cc95b0c6fe5405ac42": {
      "model_module": "@jupyter-widgets/base",
      "model_module_version": "1.2.0",
      "model_name": "LayoutModel",
      "state": {
       "_model_module": "@jupyter-widgets/base",
       "_model_module_version": "1.2.0",
       "_model_name": "LayoutModel",
       "_view_count": null,
       "_view_module": "@jupyter-widgets/base",
       "_view_module_version": "1.2.0",
       "_view_name": "LayoutView",
       "align_content": null,
       "align_items": null,
       "align_self": null,
       "border": null,
       "bottom": null,
       "display": null,
       "flex": null,
       "flex_flow": null,
       "grid_area": null,
       "grid_auto_columns": null,
       "grid_auto_flow": null,
       "grid_auto_rows": null,
       "grid_column": null,
       "grid_gap": null,
       "grid_row": null,
       "grid_template_areas": null,
       "grid_template_columns": null,
       "grid_template_rows": null,
       "height": null,
       "justify_content": null,
       "justify_items": null,
       "left": null,
       "margin": null,
       "max_height": null,
       "max_width": null,
       "min_height": null,
       "min_width": null,
       "object_fit": null,
       "object_position": null,
       "order": null,
       "overflow": null,
       "overflow_x": null,
       "overflow_y": null,
       "padding": null,
       "right": null,
       "top": null,
       "visibility": null,
       "width": null
      }
     },
     "5a38540e042545e18a2f21735dde287e": {
      "model_module": "@jupyter-widgets/controls",
      "model_module_version": "1.5.0",
      "model_name": "HBoxModel",
      "state": {
       "_dom_classes": [],
       "_model_module": "@jupyter-widgets/controls",
       "_model_module_version": "1.5.0",
       "_model_name": "HBoxModel",
       "_view_count": null,
       "_view_module": "@jupyter-widgets/controls",
       "_view_module_version": "1.5.0",
       "_view_name": "HBoxView",
       "box_style": "",
       "children": [
        "IPY_MODEL_8cdbfd0c4166418b95f789044471c30e",
        "IPY_MODEL_8fd3e477bedd4a40bb158130b3b3bbb7",
        "IPY_MODEL_a66956ad09bb43998acda3e51dc9ff9c"
       ],
       "layout": "IPY_MODEL_e852415c7ed94eafbca6658223e96c6b"
      }
     },
     "5b7e93196faa4f8f8c5e4b1a228dfe56": {
      "model_module": "@jupyter-widgets/controls",
      "model_module_version": "1.5.0",
      "model_name": "HTMLModel",
      "state": {
       "_dom_classes": [],
       "_model_module": "@jupyter-widgets/controls",
       "_model_module_version": "1.5.0",
       "_model_name": "HTMLModel",
       "_view_count": null,
       "_view_module": "@jupyter-widgets/controls",
       "_view_module_version": "1.5.0",
       "_view_name": "HTMLView",
       "description": "",
       "description_tooltip": null,
       "layout": "IPY_MODEL_f69b993b3f244da38e54502136c6c501",
       "placeholder": "​",
       "style": "IPY_MODEL_63f43352b1c247f6b87640fd79732bbb",
       "value": "Downloading: 100%"
      }
     },
     "5c9966264d154570944cfc72650e8bbb": {
      "model_module": "@jupyter-widgets/base",
      "model_module_version": "1.2.0",
      "model_name": "LayoutModel",
      "state": {
       "_model_module": "@jupyter-widgets/base",
       "_model_module_version": "1.2.0",
       "_model_name": "LayoutModel",
       "_view_count": null,
       "_view_module": "@jupyter-widgets/base",
       "_view_module_version": "1.2.0",
       "_view_name": "LayoutView",
       "align_content": null,
       "align_items": null,
       "align_self": null,
       "border": null,
       "bottom": null,
       "display": null,
       "flex": null,
       "flex_flow": null,
       "grid_area": null,
       "grid_auto_columns": null,
       "grid_auto_flow": null,
       "grid_auto_rows": null,
       "grid_column": null,
       "grid_gap": null,
       "grid_row": null,
       "grid_template_areas": null,
       "grid_template_columns": null,
       "grid_template_rows": null,
       "height": null,
       "justify_content": null,
       "justify_items": null,
       "left": null,
       "margin": null,
       "max_height": null,
       "max_width": null,
       "min_height": null,
       "min_width": null,
       "object_fit": null,
       "object_position": null,
       "order": null,
       "overflow": null,
       "overflow_x": null,
       "overflow_y": null,
       "padding": null,
       "right": null,
       "top": null,
       "visibility": null,
       "width": null
      }
     },
     "5d1abf2db3e9469787dd8082669c1c5a": {
      "model_module": "@jupyter-widgets/controls",
      "model_module_version": "1.5.0",
      "model_name": "HTMLModel",
      "state": {
       "_dom_classes": [],
       "_model_module": "@jupyter-widgets/controls",
       "_model_module_version": "1.5.0",
       "_model_name": "HTMLModel",
       "_view_count": null,
       "_view_module": "@jupyter-widgets/controls",
       "_view_module_version": "1.5.0",
       "_view_name": "HTMLView",
       "description": "",
       "description_tooltip": null,
       "layout": "IPY_MODEL_b784d35ca8984b8c8e45aca54d9cc9b4",
       "placeholder": "​",
       "style": "IPY_MODEL_846b5a1f700745d297185a15954a9b24",
       "value": " 22500/? [00:02&lt;00:00, 10699.57ex/s]"
      }
     },
     "5de1d3832c894fe08c190af94864b3e4": {
      "model_module": "@jupyter-widgets/base",
      "model_module_version": "1.2.0",
      "model_name": "LayoutModel",
      "state": {
       "_model_module": "@jupyter-widgets/base",
       "_model_module_version": "1.2.0",
       "_model_name": "LayoutModel",
       "_view_count": null,
       "_view_module": "@jupyter-widgets/base",
       "_view_module_version": "1.2.0",
       "_view_name": "LayoutView",
       "align_content": null,
       "align_items": null,
       "align_self": null,
       "border": null,
       "bottom": null,
       "display": null,
       "flex": null,
       "flex_flow": null,
       "grid_area": null,
       "grid_auto_columns": null,
       "grid_auto_flow": null,
       "grid_auto_rows": null,
       "grid_column": null,
       "grid_gap": null,
       "grid_row": null,
       "grid_template_areas": null,
       "grid_template_columns": null,
       "grid_template_rows": null,
       "height": null,
       "justify_content": null,
       "justify_items": null,
       "left": null,
       "margin": null,
       "max_height": null,
       "max_width": null,
       "min_height": null,
       "min_width": null,
       "object_fit": null,
       "object_position": null,
       "order": null,
       "overflow": null,
       "overflow_x": null,
       "overflow_y": null,
       "padding": null,
       "right": null,
       "top": null,
       "visibility": null,
       "width": null
      }
     },
     "5e6ea79825dd4928882abb879cb3aaab": {
      "model_module": "@jupyter-widgets/controls",
      "model_module_version": "1.5.0",
      "model_name": "HTMLModel",
      "state": {
       "_dom_classes": [],
       "_model_module": "@jupyter-widgets/controls",
       "_model_module_version": "1.5.0",
       "_model_name": "HTMLModel",
       "_view_count": null,
       "_view_module": "@jupyter-widgets/controls",
       "_view_module_version": "1.5.0",
       "_view_name": "HTMLView",
       "description": "",
       "description_tooltip": null,
       "layout": "IPY_MODEL_0a600363c5e144429ad62feab5119e13",
       "placeholder": "​",
       "style": "IPY_MODEL_558af8bd5e62437abbf0090478e8103c",
       "value": " 256M/256M [00:16&lt;00:00, 17.8MB/s]"
      }
     },
     "5e97cdbdab9145a68eb14a9531377ba8": {
      "model_module": "@jupyter-widgets/base",
      "model_module_version": "1.2.0",
      "model_name": "LayoutModel",
      "state": {
       "_model_module": "@jupyter-widgets/base",
       "_model_module_version": "1.2.0",
       "_model_name": "LayoutModel",
       "_view_count": null,
       "_view_module": "@jupyter-widgets/base",
       "_view_module_version": "1.2.0",
       "_view_name": "LayoutView",
       "align_content": null,
       "align_items": null,
       "align_self": null,
       "border": null,
       "bottom": null,
       "display": null,
       "flex": null,
       "flex_flow": null,
       "grid_area": null,
       "grid_auto_columns": null,
       "grid_auto_flow": null,
       "grid_auto_rows": null,
       "grid_column": null,
       "grid_gap": null,
       "grid_row": null,
       "grid_template_areas": null,
       "grid_template_columns": null,
       "grid_template_rows": null,
       "height": null,
       "justify_content": null,
       "justify_items": null,
       "left": null,
       "margin": null,
       "max_height": null,
       "max_width": null,
       "min_height": null,
       "min_width": null,
       "object_fit": null,
       "object_position": null,
       "order": null,
       "overflow": null,
       "overflow_x": null,
       "overflow_y": null,
       "padding": null,
       "right": null,
       "top": null,
       "visibility": null,
       "width": null
      }
     },
     "605b0e7155f2435298aa110d96ebafdf": {
      "model_module": "@jupyter-widgets/base",
      "model_module_version": "1.2.0",
      "model_name": "LayoutModel",
      "state": {
       "_model_module": "@jupyter-widgets/base",
       "_model_module_version": "1.2.0",
       "_model_name": "LayoutModel",
       "_view_count": null,
       "_view_module": "@jupyter-widgets/base",
       "_view_module_version": "1.2.0",
       "_view_name": "LayoutView",
       "align_content": null,
       "align_items": null,
       "align_self": null,
       "border": null,
       "bottom": null,
       "display": null,
       "flex": null,
       "flex_flow": null,
       "grid_area": null,
       "grid_auto_columns": null,
       "grid_auto_flow": null,
       "grid_auto_rows": null,
       "grid_column": null,
       "grid_gap": null,
       "grid_row": null,
       "grid_template_areas": null,
       "grid_template_columns": null,
       "grid_template_rows": null,
       "height": null,
       "justify_content": null,
       "justify_items": null,
       "left": null,
       "margin": null,
       "max_height": null,
       "max_width": null,
       "min_height": null,
       "min_width": null,
       "object_fit": null,
       "object_position": null,
       "order": null,
       "overflow": null,
       "overflow_x": null,
       "overflow_y": null,
       "padding": null,
       "right": null,
       "top": null,
       "visibility": null,
       "width": null
      }
     },
     "6121c5e90c784d5bb6f7e3d24f57d619": {
      "model_module": "@jupyter-widgets/controls",
      "model_module_version": "1.5.0",
      "model_name": "FloatProgressModel",
      "state": {
       "_dom_classes": [],
       "_model_module": "@jupyter-widgets/controls",
       "_model_module_version": "1.5.0",
       "_model_name": "FloatProgressModel",
       "_view_count": null,
       "_view_module": "@jupyter-widgets/controls",
       "_view_module_version": "1.5.0",
       "_view_name": "ProgressView",
       "bar_style": "success",
       "description": "",
       "description_tooltip": null,
       "layout": "IPY_MODEL_2d916b6ad2f5405fbd42d706169a18ae",
       "max": 1054.0,
       "min": 0.0,
       "orientation": "horizontal",
       "style": "IPY_MODEL_78e7cbfe4da4410998cce1c072438528",
       "value": 1054.0
      }
     },
     "627242bd9246405d94b243bcc27dbeba": {
      "model_module": "@jupyter-widgets/base",
      "model_module_version": "1.2.0",
      "model_name": "LayoutModel",
      "state": {
       "_model_module": "@jupyter-widgets/base",
       "_model_module_version": "1.2.0",
       "_model_name": "LayoutModel",
       "_view_count": null,
       "_view_module": "@jupyter-widgets/base",
       "_view_module_version": "1.2.0",
       "_view_name": "LayoutView",
       "align_content": null,
       "align_items": null,
       "align_self": null,
       "border": null,
       "bottom": null,
       "display": null,
       "flex": null,
       "flex_flow": null,
       "grid_area": null,
       "grid_auto_columns": null,
       "grid_auto_flow": null,
       "grid_auto_rows": null,
       "grid_column": null,
       "grid_gap": null,
       "grid_row": null,
       "grid_template_areas": null,
       "grid_template_columns": null,
       "grid_template_rows": null,
       "height": null,
       "justify_content": null,
       "justify_items": null,
       "left": null,
       "margin": null,
       "max_height": null,
       "max_width": null,
       "min_height": null,
       "min_width": null,
       "object_fit": null,
       "object_position": null,
       "order": null,
       "overflow": null,
       "overflow_x": null,
       "overflow_y": null,
       "padding": null,
       "right": null,
       "top": null,
       "visibility": null,
       "width": null
      }
     },
     "6347ecf247d648609f6f57a461a10157": {
      "model_module": "@jupyter-widgets/base",
      "model_module_version": "1.2.0",
      "model_name": "LayoutModel",
      "state": {
       "_model_module": "@jupyter-widgets/base",
       "_model_module_version": "1.2.0",
       "_model_name": "LayoutModel",
       "_view_count": null,
       "_view_module": "@jupyter-widgets/base",
       "_view_module_version": "1.2.0",
       "_view_name": "LayoutView",
       "align_content": null,
       "align_items": null,
       "align_self": null,
       "border": null,
       "bottom": null,
       "display": null,
       "flex": null,
       "flex_flow": null,
       "grid_area": null,
       "grid_auto_columns": null,
       "grid_auto_flow": null,
       "grid_auto_rows": null,
       "grid_column": null,
       "grid_gap": null,
       "grid_row": null,
       "grid_template_areas": null,
       "grid_template_columns": null,
       "grid_template_rows": null,
       "height": null,
       "justify_content": null,
       "justify_items": null,
       "left": null,
       "margin": null,
       "max_height": null,
       "max_width": null,
       "min_height": null,
       "min_width": null,
       "object_fit": null,
       "object_position": null,
       "order": null,
       "overflow": null,
       "overflow_x": null,
       "overflow_y": null,
       "padding": null,
       "right": null,
       "top": null,
       "visibility": null,
       "width": null
      }
     },
     "63c1951a3fb34f4a90e0fd4897b43650": {
      "model_module": "@jupyter-widgets/controls",
      "model_module_version": "1.5.0",
      "model_name": "DescriptionStyleModel",
      "state": {
       "_model_module": "@jupyter-widgets/controls",
       "_model_module_version": "1.5.0",
       "_model_name": "DescriptionStyleModel",
       "_view_count": null,
       "_view_module": "@jupyter-widgets/base",
       "_view_module_version": "1.2.0",
       "_view_name": "StyleView",
       "description_width": ""
      }
     },
     "63f43352b1c247f6b87640fd79732bbb": {
      "model_module": "@jupyter-widgets/controls",
      "model_module_version": "1.5.0",
      "model_name": "DescriptionStyleModel",
      "state": {
       "_model_module": "@jupyter-widgets/controls",
       "_model_module_version": "1.5.0",
       "_model_name": "DescriptionStyleModel",
       "_view_count": null,
       "_view_module": "@jupyter-widgets/base",
       "_view_module_version": "1.2.0",
       "_view_name": "StyleView",
       "description_width": ""
      }
     },
     "64e46b0007ef4fbaae4ffac5923e3548": {
      "model_module": "@jupyter-widgets/base",
      "model_module_version": "1.2.0",
      "model_name": "LayoutModel",
      "state": {
       "_model_module": "@jupyter-widgets/base",
       "_model_module_version": "1.2.0",
       "_model_name": "LayoutModel",
       "_view_count": null,
       "_view_module": "@jupyter-widgets/base",
       "_view_module_version": "1.2.0",
       "_view_name": "LayoutView",
       "align_content": null,
       "align_items": null,
       "align_self": null,
       "border": null,
       "bottom": null,
       "display": null,
       "flex": null,
       "flex_flow": null,
       "grid_area": null,
       "grid_auto_columns": null,
       "grid_auto_flow": null,
       "grid_auto_rows": null,
       "grid_column": null,
       "grid_gap": null,
       "grid_row": null,
       "grid_template_areas": null,
       "grid_template_columns": null,
       "grid_template_rows": null,
       "height": null,
       "justify_content": null,
       "justify_items": null,
       "left": null,
       "margin": null,
       "max_height": null,
       "max_width": null,
       "min_height": null,
       "min_width": null,
       "object_fit": null,
       "object_position": null,
       "order": null,
       "overflow": null,
       "overflow_x": null,
       "overflow_y": null,
       "padding": null,
       "right": null,
       "top": null,
       "visibility": null,
       "width": null
      }
     },
     "6508f1f35de2447590b73153ce969dab": {
      "model_module": "@jupyter-widgets/controls",
      "model_module_version": "1.5.0",
      "model_name": "HTMLModel",
      "state": {
       "_dom_classes": [],
       "_model_module": "@jupyter-widgets/controls",
       "_model_module_version": "1.5.0",
       "_model_name": "HTMLModel",
       "_view_count": null,
       "_view_module": "@jupyter-widgets/controls",
       "_view_module_version": "1.5.0",
       "_view_name": "HTMLView",
       "description": "",
       "description_tooltip": null,
       "layout": "IPY_MODEL_a232577021c64a2bb7b34dbc7d08747e",
       "placeholder": "​",
       "style": "IPY_MODEL_c2eec2cb26284335a10656ffb537777d",
       "value": "Downloading: 100%"
      }
     },
     "667a1f58baae4d798f82bf006a45bd76": {
      "model_module": "@jupyter-widgets/controls",
      "model_module_version": "1.5.0",
      "model_name": "HTMLModel",
      "state": {
       "_dom_classes": [],
       "_model_module": "@jupyter-widgets/controls",
       "_model_module_version": "1.5.0",
       "_model_name": "HTMLModel",
       "_view_count": null,
       "_view_module": "@jupyter-widgets/controls",
       "_view_module_version": "1.5.0",
       "_view_name": "HTMLView",
       "description": "",
       "description_tooltip": null,
       "layout": "IPY_MODEL_42697cd56ca3493a8831ffaf28ff8337",
       "placeholder": "​",
       "style": "IPY_MODEL_d987bc1366444c6b8f2f025fc8a070c2",
       "value": " 24475/0 [00:03&lt;00:00, 8185.28 examples/s]"
      }
     },
     "67cc5e3319d34087801c2d42a75dcfac": {
      "model_module": "@jupyter-widgets/controls",
      "model_module_version": "1.5.0",
      "model_name": "FloatProgressModel",
      "state": {
       "_dom_classes": [],
       "_model_module": "@jupyter-widgets/controls",
       "_model_module_version": "1.5.0",
       "_model_name": "FloatProgressModel",
       "_view_count": null,
       "_view_module": "@jupyter-widgets/controls",
       "_view_module_version": "1.5.0",
       "_view_name": "ProgressView",
       "bar_style": "success",
       "description": "",
       "description_tooltip": null,
       "layout": "IPY_MODEL_7d2d5cbfff674873a66b6057892bfb51",
       "max": 1.0,
       "min": 0.0,
       "orientation": "horizontal",
       "style": "IPY_MODEL_7477286f5ce646cca0ee0b136ff8da45",
       "value": 1.0
      }
     },
     "67f3ab9ded0b41d8b335251510d454b0": {
      "model_module": "@jupyter-widgets/controls",
      "model_module_version": "1.5.0",
      "model_name": "HTMLModel",
      "state": {
       "_dom_classes": [],
       "_model_module": "@jupyter-widgets/controls",
       "_model_module_version": "1.5.0",
       "_model_name": "HTMLModel",
       "_view_count": null,
       "_view_module": "@jupyter-widgets/controls",
       "_view_module_version": "1.5.0",
       "_view_name": "HTMLView",
       "description": "",
       "description_tooltip": null,
       "layout": "IPY_MODEL_f0d33b7acd9945c3a98a2480354504e5",
       "placeholder": "​",
       "style": "IPY_MODEL_e0417c70e1af4e3a86b97065d5c62746",
       "value": " 4.31k/? [00:00&lt;00:00, 162kB/s]"
      }
     },
     "6b28895eb6704445912c23e23f9db524": {
      "model_module": "@jupyter-widgets/base",
      "model_module_version": "1.2.0",
      "model_name": "LayoutModel",
      "state": {
       "_model_module": "@jupyter-widgets/base",
       "_model_module_version": "1.2.0",
       "_model_name": "LayoutModel",
       "_view_count": null,
       "_view_module": "@jupyter-widgets/base",
       "_view_module_version": "1.2.0",
       "_view_name": "LayoutView",
       "align_content": null,
       "align_items": null,
       "align_self": null,
       "border": null,
       "bottom": null,
       "display": null,
       "flex": null,
       "flex_flow": null,
       "grid_area": null,
       "grid_auto_columns": null,
       "grid_auto_flow": null,
       "grid_auto_rows": null,
       "grid_column": null,
       "grid_gap": null,
       "grid_row": null,
       "grid_template_areas": null,
       "grid_template_columns": null,
       "grid_template_rows": null,
       "height": null,
       "justify_content": null,
       "justify_items": null,
       "left": null,
       "margin": null,
       "max_height": null,
       "max_width": null,
       "min_height": null,
       "min_width": null,
       "object_fit": null,
       "object_position": null,
       "order": null,
       "overflow": null,
       "overflow_x": null,
       "overflow_y": null,
       "padding": null,
       "right": null,
       "top": null,
       "visibility": null,
       "width": null
      }
     },
     "6b5017a3f2de4a1f9e0a669df8937e32": {
      "model_module": "@jupyter-widgets/controls",
      "model_module_version": "1.5.0",
      "model_name": "ProgressStyleModel",
      "state": {
       "_model_module": "@jupyter-widgets/controls",
       "_model_module_version": "1.5.0",
       "_model_name": "ProgressStyleModel",
       "_view_count": null,
       "_view_module": "@jupyter-widgets/base",
       "_view_module_version": "1.2.0",
       "_view_name": "StyleView",
       "bar_color": null,
       "description_width": ""
      }
     },
     "6e7bdabbbd62439d8da14fd4a0786d68": {
      "model_module": "@jupyter-widgets/controls",
      "model_module_version": "1.5.0",
      "model_name": "ProgressStyleModel",
      "state": {
       "_model_module": "@jupyter-widgets/controls",
       "_model_module_version": "1.5.0",
       "_model_name": "ProgressStyleModel",
       "_view_count": null,
       "_view_module": "@jupyter-widgets/base",
       "_view_module_version": "1.2.0",
       "_view_name": "StyleView",
       "bar_color": null,
       "description_width": ""
      }
     },
     "6e94c6aa06f14852aad8e1566ba84c53": {
      "model_module": "@jupyter-widgets/controls",
      "model_module_version": "1.5.0",
      "model_name": "HTMLModel",
      "state": {
       "_dom_classes": [],
       "_model_module": "@jupyter-widgets/controls",
       "_model_module_version": "1.5.0",
       "_model_name": "HTMLModel",
       "_view_count": null,
       "_view_module": "@jupyter-widgets/controls",
       "_view_module_version": "1.5.0",
       "_view_name": "HTMLView",
       "description": "",
       "description_tooltip": null,
       "layout": "IPY_MODEL_03cc22b98aa448168480111ed2da813c",
       "placeholder": "​",
       "style": "IPY_MODEL_711ee1643ca04ff49c744f22924e1f01",
       "value": "Downloading: 100%"
      }
     },
     "7012a1a04f334f2f8e743a0e8e3c19c1": {
      "model_module": "@jupyter-widgets/base",
      "model_module_version": "1.2.0",
      "model_name": "LayoutModel",
      "state": {
       "_model_module": "@jupyter-widgets/base",
       "_model_module_version": "1.2.0",
       "_model_name": "LayoutModel",
       "_view_count": null,
       "_view_module": "@jupyter-widgets/base",
       "_view_module_version": "1.2.0",
       "_view_name": "LayoutView",
       "align_content": null,
       "align_items": null,
       "align_self": null,
       "border": null,
       "bottom": null,
       "display": null,
       "flex": null,
       "flex_flow": null,
       "grid_area": null,
       "grid_auto_columns": null,
       "grid_auto_flow": null,
       "grid_auto_rows": null,
       "grid_column": null,
       "grid_gap": null,
       "grid_row": null,
       "grid_template_areas": null,
       "grid_template_columns": null,
       "grid_template_rows": null,
       "height": null,
       "justify_content": null,
       "justify_items": null,
       "left": null,
       "margin": null,
       "max_height": null,
       "max_width": null,
       "min_height": null,
       "min_width": null,
       "object_fit": null,
       "object_position": null,
       "order": null,
       "overflow": null,
       "overflow_x": null,
       "overflow_y": null,
       "padding": null,
       "right": null,
       "top": null,
       "visibility": null,
       "width": null
      }
     },
     "701e965178504c2db905c00e80792808": {
      "model_module": "@jupyter-widgets/controls",
      "model_module_version": "1.5.0",
      "model_name": "HTMLModel",
      "state": {
       "_dom_classes": [],
       "_model_module": "@jupyter-widgets/controls",
       "_model_module_version": "1.5.0",
       "_model_name": "HTMLModel",
       "_view_count": null,
       "_view_module": "@jupyter-widgets/controls",
       "_view_module_version": "1.5.0",
       "_view_name": "HTMLView",
       "description": "",
       "description_tooltip": null,
       "layout": "IPY_MODEL_77c054dbc3ef4723b7c4d95c2d631c83",
       "placeholder": "​",
       "style": "IPY_MODEL_8dd2b3a6f6354e0c976637acff1a01bd",
       "value": " 157/157 [00:24&lt;00:00,  6.02ba/s]"
      }
     },
     "711ee1643ca04ff49c744f22924e1f01": {
      "model_module": "@jupyter-widgets/controls",
      "model_module_version": "1.5.0",
      "model_name": "DescriptionStyleModel",
      "state": {
       "_model_module": "@jupyter-widgets/controls",
       "_model_module_version": "1.5.0",
       "_model_name": "DescriptionStyleModel",
       "_view_count": null,
       "_view_module": "@jupyter-widgets/base",
       "_view_module_version": "1.2.0",
       "_view_name": "StyleView",
       "description_width": ""
      }
     },
     "7477286f5ce646cca0ee0b136ff8da45": {
      "model_module": "@jupyter-widgets/controls",
      "model_module_version": "1.5.0",
      "model_name": "ProgressStyleModel",
      "state": {
       "_model_module": "@jupyter-widgets/controls",
       "_model_module_version": "1.5.0",
       "_model_name": "ProgressStyleModel",
       "_view_count": null,
       "_view_module": "@jupyter-widgets/base",
       "_view_module_version": "1.2.0",
       "_view_name": "StyleView",
       "bar_color": null,
       "description_width": ""
      }
     },
     "751c717f270f4e70834746586772b06a": {
      "model_module": "@jupyter-widgets/controls",
      "model_module_version": "1.5.0",
      "model_name": "FloatProgressModel",
      "state": {
       "_dom_classes": [],
       "_model_module": "@jupyter-widgets/controls",
       "_model_module_version": "1.5.0",
       "_model_name": "FloatProgressModel",
       "_view_count": null,
       "_view_module": "@jupyter-widgets/controls",
       "_view_module_version": "1.5.0",
       "_view_name": "ProgressView",
       "bar_style": "success",
       "description": "",
       "description_tooltip": null,
       "layout": "IPY_MODEL_5de1d3832c894fe08c190af94864b3e4",
       "max": 1.0,
       "min": 0.0,
       "orientation": "horizontal",
       "style": "IPY_MODEL_aa114eef58fb41189038877fa96105bf",
       "value": 1.0
      }
     },
     "77c054dbc3ef4723b7c4d95c2d631c83": {
      "model_module": "@jupyter-widgets/base",
      "model_module_version": "1.2.0",
      "model_name": "LayoutModel",
      "state": {
       "_model_module": "@jupyter-widgets/base",
       "_model_module_version": "1.2.0",
       "_model_name": "LayoutModel",
       "_view_count": null,
       "_view_module": "@jupyter-widgets/base",
       "_view_module_version": "1.2.0",
       "_view_name": "LayoutView",
       "align_content": null,
       "align_items": null,
       "align_self": null,
       "border": null,
       "bottom": null,
       "display": null,
       "flex": null,
       "flex_flow": null,
       "grid_area": null,
       "grid_auto_columns": null,
       "grid_auto_flow": null,
       "grid_auto_rows": null,
       "grid_column": null,
       "grid_gap": null,
       "grid_row": null,
       "grid_template_areas": null,
       "grid_template_columns": null,
       "grid_template_rows": null,
       "height": null,
       "justify_content": null,
       "justify_items": null,
       "left": null,
       "margin": null,
       "max_height": null,
       "max_width": null,
       "min_height": null,
       "min_width": null,
       "object_fit": null,
       "object_position": null,
       "order": null,
       "overflow": null,
       "overflow_x": null,
       "overflow_y": null,
       "padding": null,
       "right": null,
       "top": null,
       "visibility": null,
       "width": null
      }
     },
     "78e7cbfe4da4410998cce1c072438528": {
      "model_module": "@jupyter-widgets/controls",
      "model_module_version": "1.5.0",
      "model_name": "ProgressStyleModel",
      "state": {
       "_model_module": "@jupyter-widgets/controls",
       "_model_module_version": "1.5.0",
       "_model_name": "ProgressStyleModel",
       "_view_count": null,
       "_view_module": "@jupyter-widgets/base",
       "_view_module_version": "1.2.0",
       "_view_name": "StyleView",
       "bar_color": null,
       "description_width": ""
      }
     },
     "7a438419917649b89e4fa22e950cca76": {
      "model_module": "@jupyter-widgets/controls",
      "model_module_version": "1.5.0",
      "model_name": "HTMLModel",
      "state": {
       "_dom_classes": [],
       "_model_module": "@jupyter-widgets/controls",
       "_model_module_version": "1.5.0",
       "_model_name": "HTMLModel",
       "_view_count": null,
       "_view_module": "@jupyter-widgets/controls",
       "_view_module_version": "1.5.0",
       "_view_name": "HTMLView",
       "description": "",
       "description_tooltip": null,
       "layout": "IPY_MODEL_4302dda0ddc44875a045cee893dedfe3",
       "placeholder": "​",
       "style": "IPY_MODEL_272f2ed7a9834af98b66825960a43e31",
       "value": " 226k/226k [00:00&lt;00:00, 375kB/s]"
      }
     },
     "7b15f47625b64c1ebb2a8a6b5226d331": {
      "model_module": "@jupyter-widgets/controls",
      "model_module_version": "1.5.0",
      "model_name": "DescriptionStyleModel",
      "state": {
       "_model_module": "@jupyter-widgets/controls",
       "_model_module_version": "1.5.0",
       "_model_name": "DescriptionStyleModel",
       "_view_count": null,
       "_view_module": "@jupyter-widgets/base",
       "_view_module_version": "1.2.0",
       "_view_name": "StyleView",
       "description_width": ""
      }
     },
     "7c26cbed700f4a479136f5d8ba47cea7": {
      "model_module": "@jupyter-widgets/controls",
      "model_module_version": "1.5.0",
      "model_name": "FloatProgressModel",
      "state": {
       "_dom_classes": [],
       "_model_module": "@jupyter-widgets/controls",
       "_model_module_version": "1.5.0",
       "_model_name": "FloatProgressModel",
       "_view_count": null,
       "_view_module": "@jupyter-widgets/controls",
       "_view_module_version": "1.5.0",
       "_view_name": "ProgressView",
       "bar_style": "success",
       "description": "",
       "description_tooltip": null,
       "layout": "IPY_MODEL_e6d56314b71b45fd946988189a5ff499",
       "max": 28.0,
       "min": 0.0,
       "orientation": "horizontal",
       "style": "IPY_MODEL_ca0f0fdb1a094872a5c7307a917aabbb",
       "value": 28.0
      }
     },
     "7d2d5cbfff674873a66b6057892bfb51": {
      "model_module": "@jupyter-widgets/base",
      "model_module_version": "1.2.0",
      "model_name": "LayoutModel",
      "state": {
       "_model_module": "@jupyter-widgets/base",
       "_model_module_version": "1.2.0",
       "_model_name": "LayoutModel",
       "_view_count": null,
       "_view_module": "@jupyter-widgets/base",
       "_view_module_version": "1.2.0",
       "_view_name": "LayoutView",
       "align_content": null,
       "align_items": null,
       "align_self": null,
       "border": null,
       "bottom": null,
       "display": null,
       "flex": null,
       "flex_flow": null,
       "grid_area": null,
       "grid_auto_columns": null,
       "grid_auto_flow": null,
       "grid_auto_rows": null,
       "grid_column": null,
       "grid_gap": null,
       "grid_row": null,
       "grid_template_areas": null,
       "grid_template_columns": null,
       "grid_template_rows": null,
       "height": null,
       "justify_content": null,
       "justify_items": null,
       "left": null,
       "margin": null,
       "max_height": null,
       "max_width": null,
       "min_height": null,
       "min_width": null,
       "object_fit": null,
       "object_position": null,
       "order": null,
       "overflow": null,
       "overflow_x": null,
       "overflow_y": null,
       "padding": null,
       "right": null,
       "top": null,
       "visibility": null,
       "width": null
      }
     },
     "7d435e6c724f49959d1823f4294f3aed": {
      "model_module": "@jupyter-widgets/base",
      "model_module_version": "1.2.0",
      "model_name": "LayoutModel",
      "state": {
       "_model_module": "@jupyter-widgets/base",
       "_model_module_version": "1.2.0",
       "_model_name": "LayoutModel",
       "_view_count": null,
       "_view_module": "@jupyter-widgets/base",
       "_view_module_version": "1.2.0",
       "_view_name": "LayoutView",
       "align_content": null,
       "align_items": null,
       "align_self": null,
       "border": null,
       "bottom": null,
       "display": null,
       "flex": null,
       "flex_flow": null,
       "grid_area": null,
       "grid_auto_columns": null,
       "grid_auto_flow": null,
       "grid_auto_rows": null,
       "grid_column": null,
       "grid_gap": null,
       "grid_row": null,
       "grid_template_areas": null,
       "grid_template_columns": null,
       "grid_template_rows": null,
       "height": null,
       "justify_content": null,
       "justify_items": null,
       "left": null,
       "margin": null,
       "max_height": null,
       "max_width": null,
       "min_height": null,
       "min_width": null,
       "object_fit": null,
       "object_position": null,
       "order": null,
       "overflow": null,
       "overflow_x": null,
       "overflow_y": null,
       "padding": null,
       "right": null,
       "top": null,
       "visibility": null,
       "width": null
      }
     },
     "7e9b0d43e7734ef0874e04ea0984943f": {
      "model_module": "@jupyter-widgets/controls",
      "model_module_version": "1.5.0",
      "model_name": "HTMLModel",
      "state": {
       "_dom_classes": [],
       "_model_module": "@jupyter-widgets/controls",
       "_model_module_version": "1.5.0",
       "_model_name": "HTMLModel",
       "_view_count": null,
       "_view_module": "@jupyter-widgets/controls",
       "_view_module_version": "1.5.0",
       "_view_name": "HTMLView",
       "description": "",
       "description_tooltip": null,
       "layout": "IPY_MODEL_09e8ebbab0ca417ca5b97cf525de312c",
       "placeholder": "​",
       "style": "IPY_MODEL_63c1951a3fb34f4a90e0fd4897b43650",
       "value": ""
      }
     },
     "836275982dd24ae9aa7694d897b318c9": {
      "model_module": "@jupyter-widgets/base",
      "model_module_version": "1.2.0",
      "model_name": "LayoutModel",
      "state": {
       "_model_module": "@jupyter-widgets/base",
       "_model_module_version": "1.2.0",
       "_model_name": "LayoutModel",
       "_view_count": null,
       "_view_module": "@jupyter-widgets/base",
       "_view_module_version": "1.2.0",
       "_view_name": "LayoutView",
       "align_content": null,
       "align_items": null,
       "align_self": null,
       "border": null,
       "bottom": null,
       "display": null,
       "flex": null,
       "flex_flow": null,
       "grid_area": null,
       "grid_auto_columns": null,
       "grid_auto_flow": null,
       "grid_auto_rows": null,
       "grid_column": null,
       "grid_gap": null,
       "grid_row": null,
       "grid_template_areas": null,
       "grid_template_columns": null,
       "grid_template_rows": null,
       "height": null,
       "justify_content": null,
       "justify_items": null,
       "left": null,
       "margin": null,
       "max_height": null,
       "max_width": null,
       "min_height": null,
       "min_width": null,
       "object_fit": null,
       "object_position": null,
       "order": null,
       "overflow": null,
       "overflow_x": null,
       "overflow_y": null,
       "padding": null,
       "right": null,
       "top": null,
       "visibility": null,
       "width": null
      }
     },
     "846b5a1f700745d297185a15954a9b24": {
      "model_module": "@jupyter-widgets/controls",
      "model_module_version": "1.5.0",
      "model_name": "DescriptionStyleModel",
      "state": {
       "_model_module": "@jupyter-widgets/controls",
       "_model_module_version": "1.5.0",
       "_model_name": "DescriptionStyleModel",
       "_view_count": null,
       "_view_module": "@jupyter-widgets/base",
       "_view_module_version": "1.2.0",
       "_view_name": "StyleView",
       "description_width": ""
      }
     },
     "868f814085314881a1937078138dfb24": {
      "model_module": "@jupyter-widgets/base",
      "model_module_version": "1.2.0",
      "model_name": "LayoutModel",
      "state": {
       "_model_module": "@jupyter-widgets/base",
       "_model_module_version": "1.2.0",
       "_model_name": "LayoutModel",
       "_view_count": null,
       "_view_module": "@jupyter-widgets/base",
       "_view_module_version": "1.2.0",
       "_view_name": "LayoutView",
       "align_content": null,
       "align_items": null,
       "align_self": null,
       "border": null,
       "bottom": null,
       "display": null,
       "flex": null,
       "flex_flow": null,
       "grid_area": null,
       "grid_auto_columns": null,
       "grid_auto_flow": null,
       "grid_auto_rows": null,
       "grid_column": null,
       "grid_gap": null,
       "grid_row": null,
       "grid_template_areas": null,
       "grid_template_columns": null,
       "grid_template_rows": null,
       "height": null,
       "justify_content": null,
       "justify_items": null,
       "left": null,
       "margin": null,
       "max_height": null,
       "max_width": null,
       "min_height": null,
       "min_width": null,
       "object_fit": null,
       "object_position": null,
       "order": null,
       "overflow": null,
       "overflow_x": null,
       "overflow_y": null,
       "padding": null,
       "right": null,
       "top": null,
       "visibility": null,
       "width": "20px"
      }
     },
     "87239bfe58b54bb8a6a2f59fda2fbfd5": {
      "model_module": "@jupyter-widgets/base",
      "model_module_version": "1.2.0",
      "model_name": "LayoutModel",
      "state": {
       "_model_module": "@jupyter-widgets/base",
       "_model_module_version": "1.2.0",
       "_model_name": "LayoutModel",
       "_view_count": null,
       "_view_module": "@jupyter-widgets/base",
       "_view_module_version": "1.2.0",
       "_view_name": "LayoutView",
       "align_content": null,
       "align_items": null,
       "align_self": null,
       "border": null,
       "bottom": null,
       "display": null,
       "flex": null,
       "flex_flow": null,
       "grid_area": null,
       "grid_auto_columns": null,
       "grid_auto_flow": null,
       "grid_auto_rows": null,
       "grid_column": null,
       "grid_gap": null,
       "grid_row": null,
       "grid_template_areas": null,
       "grid_template_columns": null,
       "grid_template_rows": null,
       "height": null,
       "justify_content": null,
       "justify_items": null,
       "left": null,
       "margin": null,
       "max_height": null,
       "max_width": null,
       "min_height": null,
       "min_width": null,
       "object_fit": null,
       "object_position": null,
       "order": null,
       "overflow": null,
       "overflow_x": null,
       "overflow_y": null,
       "padding": null,
       "right": null,
       "top": null,
       "visibility": null,
       "width": null
      }
     },
     "8978a50afdd94ea0abc997f2a1bd1cf7": {
      "model_module": "@jupyter-widgets/controls",
      "model_module_version": "1.5.0",
      "model_name": "HBoxModel",
      "state": {
       "_dom_classes": [],
       "_model_module": "@jupyter-widgets/controls",
       "_model_module_version": "1.5.0",
       "_model_name": "HBoxModel",
       "_view_count": null,
       "_view_module": "@jupyter-widgets/controls",
       "_view_module_version": "1.5.0",
       "_view_name": "HBoxView",
       "box_style": "",
       "children": [
        "IPY_MODEL_a749aefe99dc452d9b012ae8a91da0c5",
        "IPY_MODEL_751c717f270f4e70834746586772b06a",
        "IPY_MODEL_32c55ae043c7497288bb208ccf12fbbd"
       ],
       "layout": "IPY_MODEL_451ab4edaf404c42861a6f93f85e08c3"
      }
     },
     "8c2cd8d1ad5b47c5a49aba0b5ec9e5a7": {
      "model_module": "@jupyter-widgets/controls",
      "model_module_version": "1.5.0",
      "model_name": "HTMLModel",
      "state": {
       "_dom_classes": [],
       "_model_module": "@jupyter-widgets/controls",
       "_model_module_version": "1.5.0",
       "_model_name": "HTMLModel",
       "_view_count": null,
       "_view_module": "@jupyter-widgets/controls",
       "_view_module_version": "1.5.0",
       "_view_name": "HTMLView",
       "description": "",
       "description_tooltip": null,
       "layout": "IPY_MODEL_2dff37021d11439981cb6a67fa469bf6",
       "placeholder": "​",
       "style": "IPY_MODEL_21c9e768ce9741e5813b926041f47824",
       "value": "Downloading: 100%"
      }
     },
     "8cdbfd0c4166418b95f789044471c30e": {
      "model_module": "@jupyter-widgets/controls",
      "model_module_version": "1.5.0",
      "model_name": "HTMLModel",
      "state": {
       "_dom_classes": [],
       "_model_module": "@jupyter-widgets/controls",
       "_model_module_version": "1.5.0",
       "_model_name": "HTMLModel",
       "_view_count": null,
       "_view_module": "@jupyter-widgets/controls",
       "_view_module_version": "1.5.0",
       "_view_name": "HTMLView",
       "description": "",
       "description_tooltip": null,
       "layout": "IPY_MODEL_3ddf74024d65409890c5f6bad4e3610b",
       "placeholder": "​",
       "style": "IPY_MODEL_5223ad3b0ccf49b5ac81d9519dde29c0",
       "value": "100%"
      }
     },
     "8dd2b3a6f6354e0c976637acff1a01bd": {
      "model_module": "@jupyter-widgets/controls",
      "model_module_version": "1.5.0",
      "model_name": "DescriptionStyleModel",
      "state": {
       "_model_module": "@jupyter-widgets/controls",
       "_model_module_version": "1.5.0",
       "_model_name": "DescriptionStyleModel",
       "_view_count": null,
       "_view_module": "@jupyter-widgets/base",
       "_view_module_version": "1.2.0",
       "_view_name": "StyleView",
       "description_width": ""
      }
     },
     "8eb80e2a2f5a4e09b19ff924ef01301f": {
      "model_module": "@jupyter-widgets/base",
      "model_module_version": "1.2.0",
      "model_name": "LayoutModel",
      "state": {
       "_model_module": "@jupyter-widgets/base",
       "_model_module_version": "1.2.0",
       "_model_name": "LayoutModel",
       "_view_count": null,
       "_view_module": "@jupyter-widgets/base",
       "_view_module_version": "1.2.0",
       "_view_name": "LayoutView",
       "align_content": null,
       "align_items": null,
       "align_self": null,
       "border": null,
       "bottom": null,
       "display": null,
       "flex": null,
       "flex_flow": null,
       "grid_area": null,
       "grid_auto_columns": null,
       "grid_auto_flow": null,
       "grid_auto_rows": null,
       "grid_column": null,
       "grid_gap": null,
       "grid_row": null,
       "grid_template_areas": null,
       "grid_template_columns": null,
       "grid_template_rows": null,
       "height": null,
       "justify_content": null,
       "justify_items": null,
       "left": null,
       "margin": null,
       "max_height": null,
       "max_width": null,
       "min_height": null,
       "min_width": null,
       "object_fit": null,
       "object_position": null,
       "order": null,
       "overflow": null,
       "overflow_x": null,
       "overflow_y": null,
       "padding": null,
       "right": null,
       "top": null,
       "visibility": null,
       "width": "20px"
      }
     },
     "8f72119ebc444445952ecd9b98aed740": {
      "model_module": "@jupyter-widgets/base",
      "model_module_version": "1.2.0",
      "model_name": "LayoutModel",
      "state": {
       "_model_module": "@jupyter-widgets/base",
       "_model_module_version": "1.2.0",
       "_model_name": "LayoutModel",
       "_view_count": null,
       "_view_module": "@jupyter-widgets/base",
       "_view_module_version": "1.2.0",
       "_view_name": "LayoutView",
       "align_content": null,
       "align_items": null,
       "align_self": null,
       "border": null,
       "bottom": null,
       "display": null,
       "flex": null,
       "flex_flow": null,
       "grid_area": null,
       "grid_auto_columns": null,
       "grid_auto_flow": null,
       "grid_auto_rows": null,
       "grid_column": null,
       "grid_gap": null,
       "grid_row": null,
       "grid_template_areas": null,
       "grid_template_columns": null,
       "grid_template_rows": null,
       "height": null,
       "justify_content": null,
       "justify_items": null,
       "left": null,
       "margin": null,
       "max_height": null,
       "max_width": null,
       "min_height": null,
       "min_width": null,
       "object_fit": null,
       "object_position": null,
       "order": null,
       "overflow": null,
       "overflow_x": null,
       "overflow_y": null,
       "padding": null,
       "right": null,
       "top": null,
       "visibility": null,
       "width": null
      }
     },
     "8fd3e477bedd4a40bb158130b3b3bbb7": {
      "model_module": "@jupyter-widgets/controls",
      "model_module_version": "1.5.0",
      "model_name": "FloatProgressModel",
      "state": {
       "_dom_classes": [],
       "_model_module": "@jupyter-widgets/controls",
       "_model_module_version": "1.5.0",
       "_model_name": "FloatProgressModel",
       "_view_count": null,
       "_view_module": "@jupyter-widgets/controls",
       "_view_module_version": "1.5.0",
       "_view_name": "ProgressView",
       "bar_style": "success",
       "description": "",
       "description_tooltip": null,
       "layout": "IPY_MODEL_4677a10c316a4bc89b5007e19c050876",
       "max": 1.0,
       "min": 0.0,
       "orientation": "horizontal",
       "style": "IPY_MODEL_ccbe8c1709e44bdd891c4f8328a33e34",
       "value": 1.0
      }
     },
     "91d05eece91c4d32876f5f3eb9e3dd9b": {
      "model_module": "@jupyter-widgets/controls",
      "model_module_version": "1.5.0",
      "model_name": "HBoxModel",
      "state": {
       "_dom_classes": [],
       "_model_module": "@jupyter-widgets/controls",
       "_model_module_version": "1.5.0",
       "_model_name": "HBoxModel",
       "_view_count": null,
       "_view_module": "@jupyter-widgets/controls",
       "_view_module_version": "1.5.0",
       "_view_name": "HBoxView",
       "box_style": "",
       "children": [
        "IPY_MODEL_244ed5a307024919b1d4ac89f465b244",
        "IPY_MODEL_c1f7f08739814e8d9232476506600e12",
        "IPY_MODEL_e8b0cbd2bd6947a4b3017ee5bf6d62ee"
       ],
       "layout": "IPY_MODEL_d2cfcf32f7694fb79e2100acc7f6d2e9"
      }
     },
     "9675e1ed5b27499ab4c7f76a1596a290": {
      "model_module": "@jupyter-widgets/controls",
      "model_module_version": "1.5.0",
      "model_name": "DescriptionStyleModel",
      "state": {
       "_model_module": "@jupyter-widgets/controls",
       "_model_module_version": "1.5.0",
       "_model_name": "DescriptionStyleModel",
       "_view_count": null,
       "_view_module": "@jupyter-widgets/base",
       "_view_module_version": "1.2.0",
       "_view_name": "StyleView",
       "description_width": ""
      }
     },
     "992c26c93eca44128bed4449a2d2d4e6": {
      "model_module": "@jupyter-widgets/controls",
      "model_module_version": "1.5.0",
      "model_name": "DescriptionStyleModel",
      "state": {
       "_model_module": "@jupyter-widgets/controls",
       "_model_module_version": "1.5.0",
       "_model_name": "DescriptionStyleModel",
       "_view_count": null,
       "_view_module": "@jupyter-widgets/base",
       "_view_module_version": "1.2.0",
       "_view_name": "StyleView",
       "description_width": ""
      }
     },
     "9b48639c204f4077926e0fa0170dbd54": {
      "model_module": "@jupyter-widgets/base",
      "model_module_version": "1.2.0",
      "model_name": "LayoutModel",
      "state": {
       "_model_module": "@jupyter-widgets/base",
       "_model_module_version": "1.2.0",
       "_model_name": "LayoutModel",
       "_view_count": null,
       "_view_module": "@jupyter-widgets/base",
       "_view_module_version": "1.2.0",
       "_view_name": "LayoutView",
       "align_content": null,
       "align_items": null,
       "align_self": null,
       "border": null,
       "bottom": null,
       "display": null,
       "flex": null,
       "flex_flow": null,
       "grid_area": null,
       "grid_auto_columns": null,
       "grid_auto_flow": null,
       "grid_auto_rows": null,
       "grid_column": null,
       "grid_gap": null,
       "grid_row": null,
       "grid_template_areas": null,
       "grid_template_columns": null,
       "grid_template_rows": null,
       "height": null,
       "justify_content": null,
       "justify_items": null,
       "left": null,
       "margin": null,
       "max_height": null,
       "max_width": null,
       "min_height": null,
       "min_width": null,
       "object_fit": null,
       "object_position": null,
       "order": null,
       "overflow": null,
       "overflow_x": null,
       "overflow_y": null,
       "padding": null,
       "right": null,
       "top": null,
       "visibility": null,
       "width": null
      }
     },
     "9b4ade15150642e69ab241575bc83442": {
      "model_module": "@jupyter-widgets/controls",
      "model_module_version": "1.5.0",
      "model_name": "FloatProgressModel",
      "state": {
       "_dom_classes": [],
       "_model_module": "@jupyter-widgets/controls",
       "_model_module_version": "1.5.0",
       "_model_name": "FloatProgressModel",
       "_view_count": null,
       "_view_module": "@jupyter-widgets/controls",
       "_view_module_version": "1.5.0",
       "_view_name": "ProgressView",
       "bar_style": "info",
       "description": "",
       "description_tooltip": null,
       "layout": "IPY_MODEL_aab347c857e14fda95b6b588df7b832e",
       "max": 1.0,
       "min": 0.0,
       "orientation": "horizontal",
       "style": "IPY_MODEL_250805a4317741e196dc22b106b4af53",
       "value": 1.0
      }
     },
     "9b4b410351a74b6db5de2336ed965202": {
      "model_module": "@jupyter-widgets/controls",
      "model_module_version": "1.5.0",
      "model_name": "HBoxModel",
      "state": {
       "_dom_classes": [],
       "_model_module": "@jupyter-widgets/controls",
       "_model_module_version": "1.5.0",
       "_model_name": "HBoxModel",
       "_view_count": null,
       "_view_module": "@jupyter-widgets/controls",
       "_view_module_version": "1.5.0",
       "_view_name": "HBoxView",
       "box_style": "",
       "children": [
        "IPY_MODEL_39544bfd460947129a6eea5e3943d7a2",
        "IPY_MODEL_ee8fd0eac8924194b8079fea6bb0fad0",
        "IPY_MODEL_67f3ab9ded0b41d8b335251510d454b0"
       ],
       "layout": "IPY_MODEL_cc84a01f25504ac9a508e6aff5290b7e"
      }
     },
     "9df1af4529664988aea837c04ba75a48": {
      "model_module": "@jupyter-widgets/base",
      "model_module_version": "1.2.0",
      "model_name": "LayoutModel",
      "state": {
       "_model_module": "@jupyter-widgets/base",
       "_model_module_version": "1.2.0",
       "_model_name": "LayoutModel",
       "_view_count": null,
       "_view_module": "@jupyter-widgets/base",
       "_view_module_version": "1.2.0",
       "_view_name": "LayoutView",
       "align_content": null,
       "align_items": null,
       "align_self": null,
       "border": null,
       "bottom": null,
       "display": null,
       "flex": null,
       "flex_flow": null,
       "grid_area": null,
       "grid_auto_columns": null,
       "grid_auto_flow": null,
       "grid_auto_rows": null,
       "grid_column": null,
       "grid_gap": null,
       "grid_row": null,
       "grid_template_areas": null,
       "grid_template_columns": null,
       "grid_template_rows": null,
       "height": null,
       "justify_content": null,
       "justify_items": null,
       "left": null,
       "margin": null,
       "max_height": null,
       "max_width": null,
       "min_height": null,
       "min_width": null,
       "object_fit": null,
       "object_position": null,
       "order": null,
       "overflow": null,
       "overflow_x": null,
       "overflow_y": null,
       "padding": null,
       "right": null,
       "top": null,
       "visibility": null,
       "width": null
      }
     },
     "9f4bce02173a4d168350491dc478646a": {
      "model_module": "@jupyter-widgets/controls",
      "model_module_version": "1.5.0",
      "model_name": "HTMLModel",
      "state": {
       "_dom_classes": [],
       "_model_module": "@jupyter-widgets/controls",
       "_model_module_version": "1.5.0",
       "_model_name": "HTMLModel",
       "_view_count": null,
       "_view_module": "@jupyter-widgets/controls",
       "_view_module_version": "1.5.0",
       "_view_name": "HTMLView",
       "description": "",
       "description_tooltip": null,
       "layout": "IPY_MODEL_6347ecf247d648609f6f57a461a10157",
       "placeholder": "​",
       "style": "IPY_MODEL_08aa5ec06c4f4ed4944e7666b3213c77",
       "value": " 49236/0 [00:10&lt;00:00, 8972.12 examples/s]"
      }
     },
     "9fe945149ec24a6498158b24175b39a5": {
      "model_module": "@jupyter-widgets/base",
      "model_module_version": "1.2.0",
      "model_name": "LayoutModel",
      "state": {
       "_model_module": "@jupyter-widgets/base",
       "_model_module_version": "1.2.0",
       "_model_name": "LayoutModel",
       "_view_count": null,
       "_view_module": "@jupyter-widgets/base",
       "_view_module_version": "1.2.0",
       "_view_name": "LayoutView",
       "align_content": null,
       "align_items": null,
       "align_self": null,
       "border": null,
       "bottom": null,
       "display": null,
       "flex": null,
       "flex_flow": null,
       "grid_area": null,
       "grid_auto_columns": null,
       "grid_auto_flow": null,
       "grid_auto_rows": null,
       "grid_column": null,
       "grid_gap": null,
       "grid_row": null,
       "grid_template_areas": null,
       "grid_template_columns": null,
       "grid_template_rows": null,
       "height": null,
       "justify_content": null,
       "justify_items": null,
       "left": null,
       "margin": null,
       "max_height": null,
       "max_width": null,
       "min_height": null,
       "min_width": null,
       "object_fit": null,
       "object_position": null,
       "order": null,
       "overflow": null,
       "overflow_x": null,
       "overflow_y": null,
       "padding": null,
       "right": null,
       "top": null,
       "visibility": null,
       "width": null
      }
     },
     "a0f765486c5445aca8d9d20b52fef4c5": {
      "model_module": "@jupyter-widgets/controls",
      "model_module_version": "1.5.0",
      "model_name": "DescriptionStyleModel",
      "state": {
       "_model_module": "@jupyter-widgets/controls",
       "_model_module_version": "1.5.0",
       "_model_name": "DescriptionStyleModel",
       "_view_count": null,
       "_view_module": "@jupyter-widgets/base",
       "_view_module_version": "1.2.0",
       "_view_name": "StyleView",
       "description_width": ""
      }
     },
     "a232577021c64a2bb7b34dbc7d08747e": {
      "model_module": "@jupyter-widgets/base",
      "model_module_version": "1.2.0",
      "model_name": "LayoutModel",
      "state": {
       "_model_module": "@jupyter-widgets/base",
       "_model_module_version": "1.2.0",
       "_model_name": "LayoutModel",
       "_view_count": null,
       "_view_module": "@jupyter-widgets/base",
       "_view_module_version": "1.2.0",
       "_view_name": "LayoutView",
       "align_content": null,
       "align_items": null,
       "align_self": null,
       "border": null,
       "bottom": null,
       "display": null,
       "flex": null,
       "flex_flow": null,
       "grid_area": null,
       "grid_auto_columns": null,
       "grid_auto_flow": null,
       "grid_auto_rows": null,
       "grid_column": null,
       "grid_gap": null,
       "grid_row": null,
       "grid_template_areas": null,
       "grid_template_columns": null,
       "grid_template_rows": null,
       "height": null,
       "justify_content": null,
       "justify_items": null,
       "left": null,
       "margin": null,
       "max_height": null,
       "max_width": null,
       "min_height": null,
       "min_width": null,
       "object_fit": null,
       "object_position": null,
       "order": null,
       "overflow": null,
       "overflow_x": null,
       "overflow_y": null,
       "padding": null,
       "right": null,
       "top": null,
       "visibility": null,
       "width": null
      }
     },
     "a3604a1253344a3394ffca8b745aa7e8": {
      "model_module": "@jupyter-widgets/controls",
      "model_module_version": "1.5.0",
      "model_name": "ProgressStyleModel",
      "state": {
       "_model_module": "@jupyter-widgets/controls",
       "_model_module_version": "1.5.0",
       "_model_name": "ProgressStyleModel",
       "_view_count": null,
       "_view_module": "@jupyter-widgets/base",
       "_view_module_version": "1.2.0",
       "_view_name": "StyleView",
       "bar_color": null,
       "description_width": ""
      }
     },
     "a66956ad09bb43998acda3e51dc9ff9c": {
      "model_module": "@jupyter-widgets/controls",
      "model_module_version": "1.5.0",
      "model_name": "HTMLModel",
      "state": {
       "_dom_classes": [],
       "_model_module": "@jupyter-widgets/controls",
       "_model_module_version": "1.5.0",
       "_model_name": "HTMLModel",
       "_view_count": null,
       "_view_module": "@jupyter-widgets/controls",
       "_view_module_version": "1.5.0",
       "_view_name": "HTMLView",
       "description": "",
       "description_tooltip": null,
       "layout": "IPY_MODEL_9fe945149ec24a6498158b24175b39a5",
       "placeholder": "​",
       "style": "IPY_MODEL_2e6f01bae76447069dddf0fa385c4cfb",
       "value": " 1/1 [00:47&lt;00:00, 47.69s/ba]"
      }
     },
     "a66a6158455a4a5c8ed25b31f439a8a6": {
      "model_module": "@jupyter-widgets/base",
      "model_module_version": "1.2.0",
      "model_name": "LayoutModel",
      "state": {
       "_model_module": "@jupyter-widgets/base",
       "_model_module_version": "1.2.0",
       "_model_name": "LayoutModel",
       "_view_count": null,
       "_view_module": "@jupyter-widgets/base",
       "_view_module_version": "1.2.0",
       "_view_name": "LayoutView",
       "align_content": null,
       "align_items": null,
       "align_self": null,
       "border": null,
       "bottom": null,
       "display": null,
       "flex": null,
       "flex_flow": null,
       "grid_area": null,
       "grid_auto_columns": null,
       "grid_auto_flow": null,
       "grid_auto_rows": null,
       "grid_column": null,
       "grid_gap": null,
       "grid_row": null,
       "grid_template_areas": null,
       "grid_template_columns": null,
       "grid_template_rows": null,
       "height": null,
       "justify_content": null,
       "justify_items": null,
       "left": null,
       "margin": null,
       "max_height": null,
       "max_width": null,
       "min_height": null,
       "min_width": null,
       "object_fit": null,
       "object_position": null,
       "order": null,
       "overflow": null,
       "overflow_x": null,
       "overflow_y": null,
       "padding": null,
       "right": null,
       "top": null,
       "visibility": null,
       "width": null
      }
     },
     "a749aefe99dc452d9b012ae8a91da0c5": {
      "model_module": "@jupyter-widgets/controls",
      "model_module_version": "1.5.0",
      "model_name": "HTMLModel",
      "state": {
       "_dom_classes": [],
       "_model_module": "@jupyter-widgets/controls",
       "_model_module_version": "1.5.0",
       "_model_name": "HTMLModel",
       "_view_count": null,
       "_view_module": "@jupyter-widgets/controls",
       "_view_module_version": "1.5.0",
       "_view_name": "HTMLView",
       "description": "",
       "description_tooltip": null,
       "layout": "IPY_MODEL_dabb886352f14725b2883b49d73690c5",
       "placeholder": "​",
       "style": "IPY_MODEL_9675e1ed5b27499ab4c7f76a1596a290",
       "value": "100%"
      }
     },
     "a75b276d007645858fe91bb0de72e8b0": {
      "model_module": "@jupyter-widgets/controls",
      "model_module_version": "1.5.0",
      "model_name": "FloatProgressModel",
      "state": {
       "_dom_classes": [],
       "_model_module": "@jupyter-widgets/controls",
       "_model_module_version": "1.5.0",
       "_model_name": "FloatProgressModel",
       "_view_count": null,
       "_view_module": "@jupyter-widgets/controls",
       "_view_module_version": "1.5.0",
       "_view_name": "ProgressView",
       "bar_style": "success",
       "description": "",
       "description_tooltip": null,
       "layout": "IPY_MODEL_08221ad3c02e48aca44b9c6e0c886614",
       "max": 483.0,
       "min": 0.0,
       "orientation": "horizontal",
       "style": "IPY_MODEL_38920cc738c64957ae0fc7952a7ea9c4",
       "value": 483.0
      }
     },
     "a7ed9d8405de4de3901ca6966221c3ab": {
      "model_module": "@jupyter-widgets/controls",
      "model_module_version": "1.5.0",
      "model_name": "FloatProgressModel",
      "state": {
       "_dom_classes": [],
       "_model_module": "@jupyter-widgets/controls",
       "_model_module_version": "1.5.0",
       "_model_name": "FloatProgressModel",
       "_view_count": null,
       "_view_module": "@jupyter-widgets/controls",
       "_view_module_version": "1.5.0",
       "_view_name": "ProgressView",
       "bar_style": "success",
       "description": "",
       "description_tooltip": null,
       "layout": "IPY_MODEL_5a29ca1897e045cc95b0c6fe5405ac42",
       "max": 3.0,
       "min": 0.0,
       "orientation": "horizontal",
       "style": "IPY_MODEL_a3604a1253344a3394ffca8b745aa7e8",
       "value": 3.0
      }
     },
     "a91cd26381db41f69ea5b4e5c1425590": {
      "model_module": "@jupyter-widgets/controls",
      "model_module_version": "1.5.0",
      "model_name": "HBoxModel",
      "state": {
       "_dom_classes": [],
       "_model_module": "@jupyter-widgets/controls",
       "_model_module_version": "1.5.0",
       "_model_name": "HBoxModel",
       "_view_count": null,
       "_view_module": "@jupyter-widgets/controls",
       "_view_module_version": "1.5.0",
       "_view_name": "HBoxView",
       "box_style": "",
       "children": [
        "IPY_MODEL_2c38b6263dc64824985a001d2451892a",
        "IPY_MODEL_204a9a1c76cc4994a2cba953386aaf40",
        "IPY_MODEL_701e965178504c2db905c00e80792808"
       ],
       "layout": "IPY_MODEL_64e46b0007ef4fbaae4ffac5923e3548"
      }
     },
     "aa114eef58fb41189038877fa96105bf": {
      "model_module": "@jupyter-widgets/controls",
      "model_module_version": "1.5.0",
      "model_name": "ProgressStyleModel",
      "state": {
       "_model_module": "@jupyter-widgets/controls",
       "_model_module_version": "1.5.0",
       "_model_name": "ProgressStyleModel",
       "_view_count": null,
       "_view_module": "@jupyter-widgets/base",
       "_view_module_version": "1.2.0",
       "_view_name": "StyleView",
       "bar_color": null,
       "description_width": ""
      }
     },
     "aa954305269a4b728d7d4983701a927e": {
      "model_module": "@jupyter-widgets/controls",
      "model_module_version": "1.5.0",
      "model_name": "HTMLModel",
      "state": {
       "_dom_classes": [],
       "_model_module": "@jupyter-widgets/controls",
       "_model_module_version": "1.5.0",
       "_model_name": "HTMLModel",
       "_view_count": null,
       "_view_module": "@jupyter-widgets/controls",
       "_view_module_version": "1.5.0",
       "_view_name": "HTMLView",
       "description": "",
       "description_tooltip": null,
       "layout": "IPY_MODEL_f9163b993d944c2fb389c4885ddf3844",
       "placeholder": "​",
       "style": "IPY_MODEL_3716a0b1dea94bd6913b0bffdc366f43",
       "value": ""
      }
     },
     "aab347c857e14fda95b6b588df7b832e": {
      "model_module": "@jupyter-widgets/base",
      "model_module_version": "1.2.0",
      "model_name": "LayoutModel",
      "state": {
       "_model_module": "@jupyter-widgets/base",
       "_model_module_version": "1.2.0",
       "_model_name": "LayoutModel",
       "_view_count": null,
       "_view_module": "@jupyter-widgets/base",
       "_view_module_version": "1.2.0",
       "_view_name": "LayoutView",
       "align_content": null,
       "align_items": null,
       "align_self": null,
       "border": null,
       "bottom": null,
       "display": null,
       "flex": null,
       "flex_flow": null,
       "grid_area": null,
       "grid_auto_columns": null,
       "grid_auto_flow": null,
       "grid_auto_rows": null,
       "grid_column": null,
       "grid_gap": null,
       "grid_row": null,
       "grid_template_areas": null,
       "grid_template_columns": null,
       "grid_template_rows": null,
       "height": null,
       "justify_content": null,
       "justify_items": null,
       "left": null,
       "margin": null,
       "max_height": null,
       "max_width": null,
       "min_height": null,
       "min_width": null,
       "object_fit": null,
       "object_position": null,
       "order": null,
       "overflow": null,
       "overflow_x": null,
       "overflow_y": null,
       "padding": null,
       "right": null,
       "top": null,
       "visibility": null,
       "width": "20px"
      }
     },
     "b00f4c2aceb642bcb5dd412a29cdf7d5": {
      "model_module": "@jupyter-widgets/controls",
      "model_module_version": "1.5.0",
      "model_name": "HBoxModel",
      "state": {
       "_dom_classes": [],
       "_model_module": "@jupyter-widgets/controls",
       "_model_module_version": "1.5.0",
       "_model_name": "HBoxModel",
       "_view_count": null,
       "_view_module": "@jupyter-widgets/controls",
       "_view_module_version": "1.5.0",
       "_view_name": "HBoxView",
       "box_style": "",
       "children": [
        "IPY_MODEL_6508f1f35de2447590b73153ce969dab",
        "IPY_MODEL_7c26cbed700f4a479136f5d8ba47cea7",
        "IPY_MODEL_4883dd0972af428d9f6c202dfd6199f6"
       ],
       "layout": "IPY_MODEL_836275982dd24ae9aa7694d897b318c9"
      }
     },
     "b784d35ca8984b8c8e45aca54d9cc9b4": {
      "model_module": "@jupyter-widgets/base",
      "model_module_version": "1.2.0",
      "model_name": "LayoutModel",
      "state": {
       "_model_module": "@jupyter-widgets/base",
       "_model_module_version": "1.2.0",
       "_model_name": "LayoutModel",
       "_view_count": null,
       "_view_module": "@jupyter-widgets/base",
       "_view_module_version": "1.2.0",
       "_view_name": "LayoutView",
       "align_content": null,
       "align_items": null,
       "align_self": null,
       "border": null,
       "bottom": null,
       "display": null,
       "flex": null,
       "flex_flow": null,
       "grid_area": null,
       "grid_auto_columns": null,
       "grid_auto_flow": null,
       "grid_auto_rows": null,
       "grid_column": null,
       "grid_gap": null,
       "grid_row": null,
       "grid_template_areas": null,
       "grid_template_columns": null,
       "grid_template_rows": null,
       "height": null,
       "justify_content": null,
       "justify_items": null,
       "left": null,
       "margin": null,
       "max_height": null,
       "max_width": null,
       "min_height": null,
       "min_width": null,
       "object_fit": null,
       "object_position": null,
       "order": null,
       "overflow": null,
       "overflow_x": null,
       "overflow_y": null,
       "padding": null,
       "right": null,
       "top": null,
       "visibility": null,
       "width": null
      }
     },
     "b78ad92f023648bca2ad07fabdc7131b": {
      "model_module": "@jupyter-widgets/controls",
      "model_module_version": "1.5.0",
      "model_name": "ProgressStyleModel",
      "state": {
       "_model_module": "@jupyter-widgets/controls",
       "_model_module_version": "1.5.0",
       "_model_name": "ProgressStyleModel",
       "_view_count": null,
       "_view_module": "@jupyter-widgets/base",
       "_view_module_version": "1.2.0",
       "_view_name": "StyleView",
       "bar_color": null,
       "description_width": ""
      }
     },
     "b9c5f211763b46b4b17d33e7062f9fb2": {
      "model_module": "@jupyter-widgets/controls",
      "model_module_version": "1.5.0",
      "model_name": "HBoxModel",
      "state": {
       "_dom_classes": [],
       "_model_module": "@jupyter-widgets/controls",
       "_model_module_version": "1.5.0",
       "_model_name": "HBoxModel",
       "_view_count": null,
       "_view_module": "@jupyter-widgets/controls",
       "_view_module_version": "1.5.0",
       "_view_name": "HBoxView",
       "box_style": "",
       "children": [
        "IPY_MODEL_fa85163c2ec64b0fb94784fc6fc94490",
        "IPY_MODEL_2ff5bb536aa84b409da18858d60978a9",
        "IPY_MODEL_eaee6f2194224b539f13bf03fe883559"
       ],
       "layout": "IPY_MODEL_1ed1ebd31ff34d3ca919867cf0184d2a"
      }
     },
     "bd09d03faff7400186b8d89d12226bb6": {
      "model_module": "@jupyter-widgets/controls",
      "model_module_version": "1.5.0",
      "model_name": "FloatProgressModel",
      "state": {
       "_dom_classes": [],
       "_model_module": "@jupyter-widgets/controls",
       "_model_module_version": "1.5.0",
       "_model_name": "FloatProgressModel",
       "_view_count": null,
       "_view_module": "@jupyter-widgets/controls",
       "_view_module_version": "1.5.0",
       "_view_name": "ProgressView",
       "bar_style": "success",
       "description": "",
       "description_tooltip": null,
       "layout": "IPY_MODEL_de19e17dc5534c1bb9b053526003a5cb",
       "max": 267967963.0,
       "min": 0.0,
       "orientation": "horizontal",
       "style": "IPY_MODEL_2febd3133c2c484ab53cda1831f92c2b",
       "value": 267967963.0
      }
     },
     "bd6bec005b5d4ac19472b9fb1197a3ba": {
      "model_module": "@jupyter-widgets/controls",
      "model_module_version": "1.5.0",
      "model_name": "ProgressStyleModel",
      "state": {
       "_model_module": "@jupyter-widgets/controls",
       "_model_module_version": "1.5.0",
       "_model_name": "ProgressStyleModel",
       "_view_count": null,
       "_view_module": "@jupyter-widgets/base",
       "_view_module_version": "1.2.0",
       "_view_name": "StyleView",
       "bar_color": null,
       "description_width": ""
      }
     },
     "c00f147e3280448ca2f75ff1a6019a61": {
      "model_module": "@jupyter-widgets/base",
      "model_module_version": "1.2.0",
      "model_name": "LayoutModel",
      "state": {
       "_model_module": "@jupyter-widgets/base",
       "_model_module_version": "1.2.0",
       "_model_name": "LayoutModel",
       "_view_count": null,
       "_view_module": "@jupyter-widgets/base",
       "_view_module_version": "1.2.0",
       "_view_name": "LayoutView",
       "align_content": null,
       "align_items": null,
       "align_self": null,
       "border": null,
       "bottom": null,
       "display": null,
       "flex": null,
       "flex_flow": null,
       "grid_area": null,
       "grid_auto_columns": null,
       "grid_auto_flow": null,
       "grid_auto_rows": null,
       "grid_column": null,
       "grid_gap": null,
       "grid_row": null,
       "grid_template_areas": null,
       "grid_template_columns": null,
       "grid_template_rows": null,
       "height": null,
       "justify_content": null,
       "justify_items": null,
       "left": null,
       "margin": null,
       "max_height": null,
       "max_width": null,
       "min_height": null,
       "min_width": null,
       "object_fit": null,
       "object_position": null,
       "order": null,
       "overflow": null,
       "overflow_x": null,
       "overflow_y": null,
       "padding": null,
       "right": null,
       "top": null,
       "visibility": null,
       "width": null
      }
     },
     "c0624fa1803c4d7aba45a7b7e13517fc": {
      "model_module": "@jupyter-widgets/controls",
      "model_module_version": "1.5.0",
      "model_name": "FloatProgressModel",
      "state": {
       "_dom_classes": [],
       "_model_module": "@jupyter-widgets/controls",
       "_model_module_version": "1.5.0",
       "_model_name": "FloatProgressModel",
       "_view_count": null,
       "_view_module": "@jupyter-widgets/controls",
       "_view_module_version": "1.5.0",
       "_view_name": "ProgressView",
       "bar_style": "success",
       "description": "",
       "description_tooltip": null,
       "layout": "IPY_MODEL_501f8f92c3fd405baa32da10c9e35e1d",
       "max": 231508.0,
       "min": 0.0,
       "orientation": "horizontal",
       "style": "IPY_MODEL_f2a6dc3733d24bdfbae4f76c1df3c760",
       "value": 231508.0
      }
     },
     "c09d3dde3d3b482db0565ff0074e3741": {
      "model_module": "@jupyter-widgets/controls",
      "model_module_version": "1.5.0",
      "model_name": "HBoxModel",
      "state": {
       "_dom_classes": [],
       "_model_module": "@jupyter-widgets/controls",
       "_model_module_version": "1.5.0",
       "_model_name": "HBoxModel",
       "_view_count": null,
       "_view_module": "@jupyter-widgets/controls",
       "_view_module_version": "1.5.0",
       "_view_name": "HBoxView",
       "box_style": "",
       "children": [
        "IPY_MODEL_aa954305269a4b728d7d4983701a927e",
        "IPY_MODEL_de4aa6b7c60b42f3aea65ec87d38df57",
        "IPY_MODEL_9f4bce02173a4d168350491dc478646a"
       ],
       "layout": "IPY_MODEL_627242bd9246405d94b243bcc27dbeba"
      }
     },
     "c17fffb38171452cbb2b12dd490d8853": {
      "model_module": "@jupyter-widgets/controls",
      "model_module_version": "1.5.0",
      "model_name": "DescriptionStyleModel",
      "state": {
       "_model_module": "@jupyter-widgets/controls",
       "_model_module_version": "1.5.0",
       "_model_name": "DescriptionStyleModel",
       "_view_count": null,
       "_view_module": "@jupyter-widgets/base",
       "_view_module_version": "1.2.0",
       "_view_name": "StyleView",
       "description_width": ""
      }
     },
     "c1c3b77a32214b1a89df04efaf525c0f": {
      "model_module": "@jupyter-widgets/controls",
      "model_module_version": "1.5.0",
      "model_name": "DescriptionStyleModel",
      "state": {
       "_model_module": "@jupyter-widgets/controls",
       "_model_module_version": "1.5.0",
       "_model_name": "DescriptionStyleModel",
       "_view_count": null,
       "_view_module": "@jupyter-widgets/base",
       "_view_module_version": "1.2.0",
       "_view_name": "StyleView",
       "description_width": ""
      }
     },
     "c1f7f08739814e8d9232476506600e12": {
      "model_module": "@jupyter-widgets/controls",
      "model_module_version": "1.5.0",
      "model_name": "FloatProgressModel",
      "state": {
       "_dom_classes": [],
       "_model_module": "@jupyter-widgets/controls",
       "_model_module_version": "1.5.0",
       "_model_name": "FloatProgressModel",
       "_view_count": null,
       "_view_module": "@jupyter-widgets/controls",
       "_view_module_version": "1.5.0",
       "_view_name": "ProgressView",
       "bar_style": "success",
       "description": "",
       "description_tooltip": null,
       "layout": "IPY_MODEL_6b28895eb6704445912c23e23f9db524",
       "max": 84125825.0,
       "min": 0.0,
       "orientation": "horizontal",
       "style": "IPY_MODEL_e6460542aa2f40caac29818579223b60",
       "value": 84125825.0
      }
     },
     "c2eec2cb26284335a10656ffb537777d": {
      "model_module": "@jupyter-widgets/controls",
      "model_module_version": "1.5.0",
      "model_name": "DescriptionStyleModel",
      "state": {
       "_model_module": "@jupyter-widgets/controls",
       "_model_module_version": "1.5.0",
       "_model_name": "DescriptionStyleModel",
       "_view_count": null,
       "_view_module": "@jupyter-widgets/base",
       "_view_module_version": "1.2.0",
       "_view_name": "StyleView",
       "description_width": ""
      }
     },
     "c39d474b6c314fe2874e4ab860ac0620": {
      "model_module": "@jupyter-widgets/controls",
      "model_module_version": "1.5.0",
      "model_name": "HBoxModel",
      "state": {
       "_dom_classes": [],
       "_model_module": "@jupyter-widgets/controls",
       "_model_module_version": "1.5.0",
       "_model_name": "HBoxModel",
       "_view_count": null,
       "_view_module": "@jupyter-widgets/controls",
       "_view_module_version": "1.5.0",
       "_view_name": "HBoxView",
       "box_style": "",
       "children": [
        "IPY_MODEL_6e94c6aa06f14852aad8e1566ba84c53",
        "IPY_MODEL_bd09d03faff7400186b8d89d12226bb6",
        "IPY_MODEL_5e6ea79825dd4928882abb879cb3aaab"
       ],
       "layout": "IPY_MODEL_87239bfe58b54bb8a6a2f59fda2fbfd5"
      }
     },
     "c8b4ec1579fa470faeb3635234265462": {
      "model_module": "@jupyter-widgets/controls",
      "model_module_version": "1.5.0",
      "model_name": "DescriptionStyleModel",
      "state": {
       "_model_module": "@jupyter-widgets/controls",
       "_model_module_version": "1.5.0",
       "_model_name": "DescriptionStyleModel",
       "_view_count": null,
       "_view_module": "@jupyter-widgets/base",
       "_view_module_version": "1.2.0",
       "_view_name": "StyleView",
       "description_width": ""
      }
     },
     "c9bf0408f5d04365839c0f2ae61cf6e9": {
      "model_module": "@jupyter-widgets/base",
      "model_module_version": "1.2.0",
      "model_name": "LayoutModel",
      "state": {
       "_model_module": "@jupyter-widgets/base",
       "_model_module_version": "1.2.0",
       "_model_name": "LayoutModel",
       "_view_count": null,
       "_view_module": "@jupyter-widgets/base",
       "_view_module_version": "1.2.0",
       "_view_name": "LayoutView",
       "align_content": null,
       "align_items": null,
       "align_self": null,
       "border": null,
       "bottom": null,
       "display": null,
       "flex": null,
       "flex_flow": null,
       "grid_area": null,
       "grid_auto_columns": null,
       "grid_auto_flow": null,
       "grid_auto_rows": null,
       "grid_column": null,
       "grid_gap": null,
       "grid_row": null,
       "grid_template_areas": null,
       "grid_template_columns": null,
       "grid_template_rows": null,
       "height": null,
       "justify_content": null,
       "justify_items": null,
       "left": null,
       "margin": null,
       "max_height": null,
       "max_width": null,
       "min_height": null,
       "min_width": null,
       "object_fit": null,
       "object_position": null,
       "order": null,
       "overflow": null,
       "overflow_x": null,
       "overflow_y": null,
       "padding": null,
       "right": null,
       "top": null,
       "visibility": null,
       "width": null
      }
     },
     "ca0f0fdb1a094872a5c7307a917aabbb": {
      "model_module": "@jupyter-widgets/controls",
      "model_module_version": "1.5.0",
      "model_name": "ProgressStyleModel",
      "state": {
       "_model_module": "@jupyter-widgets/controls",
       "_model_module_version": "1.5.0",
       "_model_name": "ProgressStyleModel",
       "_view_count": null,
       "_view_module": "@jupyter-widgets/base",
       "_view_module_version": "1.2.0",
       "_view_name": "StyleView",
       "bar_color": null,
       "description_width": ""
      }
     },
     "ca3d18db880a43f6954d6bdf95518e7f": {
      "model_module": "@jupyter-widgets/controls",
      "model_module_version": "1.5.0",
      "model_name": "HBoxModel",
      "state": {
       "_dom_classes": [],
       "_model_module": "@jupyter-widgets/controls",
       "_model_module_version": "1.5.0",
       "_model_name": "HBoxModel",
       "_view_count": null,
       "_view_module": "@jupyter-widgets/controls",
       "_view_module_version": "1.5.0",
       "_view_name": "HBoxView",
       "box_style": "",
       "children": [
        "IPY_MODEL_5b7e93196faa4f8f8c5e4b1a228dfe56",
        "IPY_MODEL_c0624fa1803c4d7aba45a7b7e13517fc",
        "IPY_MODEL_7a438419917649b89e4fa22e950cca76"
       ],
       "layout": "IPY_MODEL_8f72119ebc444445952ecd9b98aed740"
      }
     },
     "cc84a01f25504ac9a508e6aff5290b7e": {
      "model_module": "@jupyter-widgets/base",
      "model_module_version": "1.2.0",
      "model_name": "LayoutModel",
      "state": {
       "_model_module": "@jupyter-widgets/base",
       "_model_module_version": "1.2.0",
       "_model_name": "LayoutModel",
       "_view_count": null,
       "_view_module": "@jupyter-widgets/base",
       "_view_module_version": "1.2.0",
       "_view_name": "LayoutView",
       "align_content": null,
       "align_items": null,
       "align_self": null,
       "border": null,
       "bottom": null,
       "display": null,
       "flex": null,
       "flex_flow": null,
       "grid_area": null,
       "grid_auto_columns": null,
       "grid_auto_flow": null,
       "grid_auto_rows": null,
       "grid_column": null,
       "grid_gap": null,
       "grid_row": null,
       "grid_template_areas": null,
       "grid_template_columns": null,
       "grid_template_rows": null,
       "height": null,
       "justify_content": null,
       "justify_items": null,
       "left": null,
       "margin": null,
       "max_height": null,
       "max_width": null,
       "min_height": null,
       "min_width": null,
       "object_fit": null,
       "object_position": null,
       "order": null,
       "overflow": null,
       "overflow_x": null,
       "overflow_y": null,
       "padding": null,
       "right": null,
       "top": null,
       "visibility": null,
       "width": null
      }
     },
     "ccbe8c1709e44bdd891c4f8328a33e34": {
      "model_module": "@jupyter-widgets/controls",
      "model_module_version": "1.5.0",
      "model_name": "ProgressStyleModel",
      "state": {
       "_model_module": "@jupyter-widgets/controls",
       "_model_module_version": "1.5.0",
       "_model_name": "ProgressStyleModel",
       "_view_count": null,
       "_view_module": "@jupyter-widgets/base",
       "_view_module_version": "1.2.0",
       "_view_name": "StyleView",
       "bar_color": null,
       "description_width": ""
      }
     },
     "cd0b19addd4a46938af0853faf35da38": {
      "model_module": "@jupyter-widgets/controls",
      "model_module_version": "1.5.0",
      "model_name": "HTMLModel",
      "state": {
       "_dom_classes": [],
       "_model_module": "@jupyter-widgets/controls",
       "_model_module_version": "1.5.0",
       "_model_name": "HTMLModel",
       "_view_count": null,
       "_view_module": "@jupyter-widgets/controls",
       "_view_module_version": "1.5.0",
       "_view_name": "HTMLView",
       "description": "",
       "description_tooltip": null,
       "layout": "IPY_MODEL_23fffe094c06415683fb70c0ce4a74f4",
       "placeholder": "​",
       "style": "IPY_MODEL_3fca777449684267b5dc741844305ed4",
       "value": "100%"
      }
     },
     "cdfcf7ad241244c38803ab9f56ba9821": {
      "model_module": "@jupyter-widgets/controls",
      "model_module_version": "1.5.0",
      "model_name": "DescriptionStyleModel",
      "state": {
       "_model_module": "@jupyter-widgets/controls",
       "_model_module_version": "1.5.0",
       "_model_name": "DescriptionStyleModel",
       "_view_count": null,
       "_view_module": "@jupyter-widgets/base",
       "_view_module_version": "1.2.0",
       "_view_name": "StyleView",
       "description_width": ""
      }
     },
     "cf5ef22544ed4e5597c5012896b166f5": {
      "model_module": "@jupyter-widgets/base",
      "model_module_version": "1.2.0",
      "model_name": "LayoutModel",
      "state": {
       "_model_module": "@jupyter-widgets/base",
       "_model_module_version": "1.2.0",
       "_model_name": "LayoutModel",
       "_view_count": null,
       "_view_module": "@jupyter-widgets/base",
       "_view_module_version": "1.2.0",
       "_view_name": "LayoutView",
       "align_content": null,
       "align_items": null,
       "align_self": null,
       "border": null,
       "bottom": null,
       "display": null,
       "flex": null,
       "flex_flow": null,
       "grid_area": null,
       "grid_auto_columns": null,
       "grid_auto_flow": null,
       "grid_auto_rows": null,
       "grid_column": null,
       "grid_gap": null,
       "grid_row": null,
       "grid_template_areas": null,
       "grid_template_columns": null,
       "grid_template_rows": null,
       "height": null,
       "justify_content": null,
       "justify_items": null,
       "left": null,
       "margin": null,
       "max_height": null,
       "max_width": null,
       "min_height": null,
       "min_width": null,
       "object_fit": null,
       "object_position": null,
       "order": null,
       "overflow": null,
       "overflow_x": null,
       "overflow_y": null,
       "padding": null,
       "right": null,
       "top": null,
       "visibility": null,
       "width": null
      }
     },
     "d038a42e5a624e84b8fec35c622090ce": {
      "model_module": "@jupyter-widgets/base",
      "model_module_version": "1.2.0",
      "model_name": "LayoutModel",
      "state": {
       "_model_module": "@jupyter-widgets/base",
       "_model_module_version": "1.2.0",
       "_model_name": "LayoutModel",
       "_view_count": null,
       "_view_module": "@jupyter-widgets/base",
       "_view_module_version": "1.2.0",
       "_view_name": "LayoutView",
       "align_content": null,
       "align_items": null,
       "align_self": null,
       "border": null,
       "bottom": null,
       "display": null,
       "flex": null,
       "flex_flow": null,
       "grid_area": null,
       "grid_auto_columns": null,
       "grid_auto_flow": null,
       "grid_auto_rows": null,
       "grid_column": null,
       "grid_gap": null,
       "grid_row": null,
       "grid_template_areas": null,
       "grid_template_columns": null,
       "grid_template_rows": null,
       "height": null,
       "justify_content": null,
       "justify_items": null,
       "left": null,
       "margin": null,
       "max_height": null,
       "max_width": null,
       "min_height": null,
       "min_width": null,
       "object_fit": null,
       "object_position": null,
       "order": null,
       "overflow": null,
       "overflow_x": null,
       "overflow_y": null,
       "padding": null,
       "right": null,
       "top": null,
       "visibility": null,
       "width": null
      }
     },
     "d0afa4bfdb1849299fdf0f6897a0045a": {
      "model_module": "@jupyter-widgets/base",
      "model_module_version": "1.2.0",
      "model_name": "LayoutModel",
      "state": {
       "_model_module": "@jupyter-widgets/base",
       "_model_module_version": "1.2.0",
       "_model_name": "LayoutModel",
       "_view_count": null,
       "_view_module": "@jupyter-widgets/base",
       "_view_module_version": "1.2.0",
       "_view_name": "LayoutView",
       "align_content": null,
       "align_items": null,
       "align_self": null,
       "border": null,
       "bottom": null,
       "display": null,
       "flex": null,
       "flex_flow": null,
       "grid_area": null,
       "grid_auto_columns": null,
       "grid_auto_flow": null,
       "grid_auto_rows": null,
       "grid_column": null,
       "grid_gap": null,
       "grid_row": null,
       "grid_template_areas": null,
       "grid_template_columns": null,
       "grid_template_rows": null,
       "height": null,
       "justify_content": null,
       "justify_items": null,
       "left": null,
       "margin": null,
       "max_height": null,
       "max_width": null,
       "min_height": null,
       "min_width": null,
       "object_fit": null,
       "object_position": null,
       "order": null,
       "overflow": null,
       "overflow_x": null,
       "overflow_y": null,
       "padding": null,
       "right": null,
       "top": null,
       "visibility": null,
       "width": null
      }
     },
     "d2cfcf32f7694fb79e2100acc7f6d2e9": {
      "model_module": "@jupyter-widgets/base",
      "model_module_version": "1.2.0",
      "model_name": "LayoutModel",
      "state": {
       "_model_module": "@jupyter-widgets/base",
       "_model_module_version": "1.2.0",
       "_model_name": "LayoutModel",
       "_view_count": null,
       "_view_module": "@jupyter-widgets/base",
       "_view_module_version": "1.2.0",
       "_view_name": "LayoutView",
       "align_content": null,
       "align_items": null,
       "align_self": null,
       "border": null,
       "bottom": null,
       "display": null,
       "flex": null,
       "flex_flow": null,
       "grid_area": null,
       "grid_auto_columns": null,
       "grid_auto_flow": null,
       "grid_auto_rows": null,
       "grid_column": null,
       "grid_gap": null,
       "grid_row": null,
       "grid_template_areas": null,
       "grid_template_columns": null,
       "grid_template_rows": null,
       "height": null,
       "justify_content": null,
       "justify_items": null,
       "left": null,
       "margin": null,
       "max_height": null,
       "max_width": null,
       "min_height": null,
       "min_width": null,
       "object_fit": null,
       "object_position": null,
       "order": null,
       "overflow": null,
       "overflow_x": null,
       "overflow_y": null,
       "padding": null,
       "right": null,
       "top": null,
       "visibility": null,
       "width": null
      }
     },
     "d3f54eff62d246978a3bb24d52ab4ab2": {
      "model_module": "@jupyter-widgets/base",
      "model_module_version": "1.2.0",
      "model_name": "LayoutModel",
      "state": {
       "_model_module": "@jupyter-widgets/base",
       "_model_module_version": "1.2.0",
       "_model_name": "LayoutModel",
       "_view_count": null,
       "_view_module": "@jupyter-widgets/base",
       "_view_module_version": "1.2.0",
       "_view_name": "LayoutView",
       "align_content": null,
       "align_items": null,
       "align_self": null,
       "border": null,
       "bottom": null,
       "display": null,
       "flex": null,
       "flex_flow": null,
       "grid_area": null,
       "grid_auto_columns": null,
       "grid_auto_flow": null,
       "grid_auto_rows": null,
       "grid_column": null,
       "grid_gap": null,
       "grid_row": null,
       "grid_template_areas": null,
       "grid_template_columns": null,
       "grid_template_rows": null,
       "height": null,
       "justify_content": null,
       "justify_items": null,
       "left": null,
       "margin": null,
       "max_height": null,
       "max_width": null,
       "min_height": null,
       "min_width": null,
       "object_fit": null,
       "object_position": null,
       "order": null,
       "overflow": null,
       "overflow_x": null,
       "overflow_y": null,
       "padding": null,
       "right": null,
       "top": null,
       "visibility": null,
       "width": null
      }
     },
     "d70d0941a5464f26a4e609afe6c8758f": {
      "model_module": "@jupyter-widgets/base",
      "model_module_version": "1.2.0",
      "model_name": "LayoutModel",
      "state": {
       "_model_module": "@jupyter-widgets/base",
       "_model_module_version": "1.2.0",
       "_model_name": "LayoutModel",
       "_view_count": null,
       "_view_module": "@jupyter-widgets/base",
       "_view_module_version": "1.2.0",
       "_view_name": "LayoutView",
       "align_content": null,
       "align_items": null,
       "align_self": null,
       "border": null,
       "bottom": null,
       "display": null,
       "flex": null,
       "flex_flow": null,
       "grid_area": null,
       "grid_auto_columns": null,
       "grid_auto_flow": null,
       "grid_auto_rows": null,
       "grid_column": null,
       "grid_gap": null,
       "grid_row": null,
       "grid_template_areas": null,
       "grid_template_columns": null,
       "grid_template_rows": null,
       "height": null,
       "justify_content": null,
       "justify_items": null,
       "left": null,
       "margin": null,
       "max_height": null,
       "max_width": null,
       "min_height": null,
       "min_width": null,
       "object_fit": null,
       "object_position": null,
       "order": null,
       "overflow": null,
       "overflow_x": null,
       "overflow_y": null,
       "padding": null,
       "right": null,
       "top": null,
       "visibility": null,
       "width": null
      }
     },
     "d987bc1366444c6b8f2f025fc8a070c2": {
      "model_module": "@jupyter-widgets/controls",
      "model_module_version": "1.5.0",
      "model_name": "DescriptionStyleModel",
      "state": {
       "_model_module": "@jupyter-widgets/controls",
       "_model_module_version": "1.5.0",
       "_model_name": "DescriptionStyleModel",
       "_view_count": null,
       "_view_module": "@jupyter-widgets/base",
       "_view_module_version": "1.2.0",
       "_view_name": "StyleView",
       "description_width": ""
      }
     },
     "dabb886352f14725b2883b49d73690c5": {
      "model_module": "@jupyter-widgets/base",
      "model_module_version": "1.2.0",
      "model_name": "LayoutModel",
      "state": {
       "_model_module": "@jupyter-widgets/base",
       "_model_module_version": "1.2.0",
       "_model_name": "LayoutModel",
       "_view_count": null,
       "_view_module": "@jupyter-widgets/base",
       "_view_module_version": "1.2.0",
       "_view_name": "LayoutView",
       "align_content": null,
       "align_items": null,
       "align_self": null,
       "border": null,
       "bottom": null,
       "display": null,
       "flex": null,
       "flex_flow": null,
       "grid_area": null,
       "grid_auto_columns": null,
       "grid_auto_flow": null,
       "grid_auto_rows": null,
       "grid_column": null,
       "grid_gap": null,
       "grid_row": null,
       "grid_template_areas": null,
       "grid_template_columns": null,
       "grid_template_rows": null,
       "height": null,
       "justify_content": null,
       "justify_items": null,
       "left": null,
       "margin": null,
       "max_height": null,
       "max_width": null,
       "min_height": null,
       "min_width": null,
       "object_fit": null,
       "object_position": null,
       "order": null,
       "overflow": null,
       "overflow_x": null,
       "overflow_y": null,
       "padding": null,
       "right": null,
       "top": null,
       "visibility": null,
       "width": null
      }
     },
     "db8a82759eeb412dbcf7bb0c6cf48430": {
      "model_module": "@jupyter-widgets/controls",
      "model_module_version": "1.5.0",
      "model_name": "DescriptionStyleModel",
      "state": {
       "_model_module": "@jupyter-widgets/controls",
       "_model_module_version": "1.5.0",
       "_model_name": "DescriptionStyleModel",
       "_view_count": null,
       "_view_module": "@jupyter-widgets/base",
       "_view_module_version": "1.2.0",
       "_view_name": "StyleView",
       "description_width": ""
      }
     },
     "dcd5036c6b424f31959fbfe185d7296f": {
      "model_module": "@jupyter-widgets/controls",
      "model_module_version": "1.5.0",
      "model_name": "DescriptionStyleModel",
      "state": {
       "_model_module": "@jupyter-widgets/controls",
       "_model_module_version": "1.5.0",
       "_model_name": "DescriptionStyleModel",
       "_view_count": null,
       "_view_module": "@jupyter-widgets/base",
       "_view_module_version": "1.2.0",
       "_view_name": "StyleView",
       "description_width": ""
      }
     },
     "de19e17dc5534c1bb9b053526003a5cb": {
      "model_module": "@jupyter-widgets/base",
      "model_module_version": "1.2.0",
      "model_name": "LayoutModel",
      "state": {
       "_model_module": "@jupyter-widgets/base",
       "_model_module_version": "1.2.0",
       "_model_name": "LayoutModel",
       "_view_count": null,
       "_view_module": "@jupyter-widgets/base",
       "_view_module_version": "1.2.0",
       "_view_name": "LayoutView",
       "align_content": null,
       "align_items": null,
       "align_self": null,
       "border": null,
       "bottom": null,
       "display": null,
       "flex": null,
       "flex_flow": null,
       "grid_area": null,
       "grid_auto_columns": null,
       "grid_auto_flow": null,
       "grid_auto_rows": null,
       "grid_column": null,
       "grid_gap": null,
       "grid_row": null,
       "grid_template_areas": null,
       "grid_template_columns": null,
       "grid_template_rows": null,
       "height": null,
       "justify_content": null,
       "justify_items": null,
       "left": null,
       "margin": null,
       "max_height": null,
       "max_width": null,
       "min_height": null,
       "min_width": null,
       "object_fit": null,
       "object_position": null,
       "order": null,
       "overflow": null,
       "overflow_x": null,
       "overflow_y": null,
       "padding": null,
       "right": null,
       "top": null,
       "visibility": null,
       "width": null
      }
     },
     "de4aa6b7c60b42f3aea65ec87d38df57": {
      "model_module": "@jupyter-widgets/controls",
      "model_module_version": "1.5.0",
      "model_name": "FloatProgressModel",
      "state": {
       "_dom_classes": [],
       "_model_module": "@jupyter-widgets/controls",
       "_model_module_version": "1.5.0",
       "_model_name": "FloatProgressModel",
       "_view_count": null,
       "_view_module": "@jupyter-widgets/controls",
       "_view_module_version": "1.5.0",
       "_view_name": "ProgressView",
       "bar_style": "info",
       "description": "",
       "description_tooltip": null,
       "layout": "IPY_MODEL_ee63ca961b5d4b6bbb2ec5f21d7d3845",
       "max": 1.0,
       "min": 0.0,
       "orientation": "horizontal",
       "style": "IPY_MODEL_b78ad92f023648bca2ad07fabdc7131b",
       "value": 1.0
      }
     },
     "e0417c70e1af4e3a86b97065d5c62746": {
      "model_module": "@jupyter-widgets/controls",
      "model_module_version": "1.5.0",
      "model_name": "DescriptionStyleModel",
      "state": {
       "_model_module": "@jupyter-widgets/controls",
       "_model_module_version": "1.5.0",
       "_model_name": "DescriptionStyleModel",
       "_view_count": null,
       "_view_module": "@jupyter-widgets/base",
       "_view_module_version": "1.2.0",
       "_view_name": "StyleView",
       "description_width": ""
      }
     },
     "e6434959287f48c980175f918b32ebeb": {
      "model_module": "@jupyter-widgets/base",
      "model_module_version": "1.2.0",
      "model_name": "LayoutModel",
      "state": {
       "_model_module": "@jupyter-widgets/base",
       "_model_module_version": "1.2.0",
       "_model_name": "LayoutModel",
       "_view_count": null,
       "_view_module": "@jupyter-widgets/base",
       "_view_module_version": "1.2.0",
       "_view_name": "LayoutView",
       "align_content": null,
       "align_items": null,
       "align_self": null,
       "border": null,
       "bottom": null,
       "display": null,
       "flex": null,
       "flex_flow": null,
       "grid_area": null,
       "grid_auto_columns": null,
       "grid_auto_flow": null,
       "grid_auto_rows": null,
       "grid_column": null,
       "grid_gap": null,
       "grid_row": null,
       "grid_template_areas": null,
       "grid_template_columns": null,
       "grid_template_rows": null,
       "height": null,
       "justify_content": null,
       "justify_items": null,
       "left": null,
       "margin": null,
       "max_height": null,
       "max_width": null,
       "min_height": null,
       "min_width": null,
       "object_fit": null,
       "object_position": null,
       "order": null,
       "overflow": null,
       "overflow_x": null,
       "overflow_y": null,
       "padding": null,
       "right": null,
       "top": null,
       "visibility": null,
       "width": null
      }
     },
     "e6460542aa2f40caac29818579223b60": {
      "model_module": "@jupyter-widgets/controls",
      "model_module_version": "1.5.0",
      "model_name": "ProgressStyleModel",
      "state": {
       "_model_module": "@jupyter-widgets/controls",
       "_model_module_version": "1.5.0",
       "_model_name": "ProgressStyleModel",
       "_view_count": null,
       "_view_module": "@jupyter-widgets/base",
       "_view_module_version": "1.2.0",
       "_view_name": "StyleView",
       "bar_color": null,
       "description_width": ""
      }
     },
     "e6d56314b71b45fd946988189a5ff499": {
      "model_module": "@jupyter-widgets/base",
      "model_module_version": "1.2.0",
      "model_name": "LayoutModel",
      "state": {
       "_model_module": "@jupyter-widgets/base",
       "_model_module_version": "1.2.0",
       "_model_name": "LayoutModel",
       "_view_count": null,
       "_view_module": "@jupyter-widgets/base",
       "_view_module_version": "1.2.0",
       "_view_name": "LayoutView",
       "align_content": null,
       "align_items": null,
       "align_self": null,
       "border": null,
       "bottom": null,
       "display": null,
       "flex": null,
       "flex_flow": null,
       "grid_area": null,
       "grid_auto_columns": null,
       "grid_auto_flow": null,
       "grid_auto_rows": null,
       "grid_column": null,
       "grid_gap": null,
       "grid_row": null,
       "grid_template_areas": null,
       "grid_template_columns": null,
       "grid_template_rows": null,
       "height": null,
       "justify_content": null,
       "justify_items": null,
       "left": null,
       "margin": null,
       "max_height": null,
       "max_width": null,
       "min_height": null,
       "min_width": null,
       "object_fit": null,
       "object_position": null,
       "order": null,
       "overflow": null,
       "overflow_x": null,
       "overflow_y": null,
       "padding": null,
       "right": null,
       "top": null,
       "visibility": null,
       "width": null
      }
     },
     "e81f171517524d75aaf92b23f51b7041": {
      "model_module": "@jupyter-widgets/base",
      "model_module_version": "1.2.0",
      "model_name": "LayoutModel",
      "state": {
       "_model_module": "@jupyter-widgets/base",
       "_model_module_version": "1.2.0",
       "_model_name": "LayoutModel",
       "_view_count": null,
       "_view_module": "@jupyter-widgets/base",
       "_view_module_version": "1.2.0",
       "_view_name": "LayoutView",
       "align_content": null,
       "align_items": null,
       "align_self": null,
       "border": null,
       "bottom": null,
       "display": null,
       "flex": null,
       "flex_flow": null,
       "grid_area": null,
       "grid_auto_columns": null,
       "grid_auto_flow": null,
       "grid_auto_rows": null,
       "grid_column": null,
       "grid_gap": null,
       "grid_row": null,
       "grid_template_areas": null,
       "grid_template_columns": null,
       "grid_template_rows": null,
       "height": null,
       "justify_content": null,
       "justify_items": null,
       "left": null,
       "margin": null,
       "max_height": null,
       "max_width": null,
       "min_height": null,
       "min_width": null,
       "object_fit": null,
       "object_position": null,
       "order": null,
       "overflow": null,
       "overflow_x": null,
       "overflow_y": null,
       "padding": null,
       "right": null,
       "top": null,
       "visibility": null,
       "width": null
      }
     },
     "e852415c7ed94eafbca6658223e96c6b": {
      "model_module": "@jupyter-widgets/base",
      "model_module_version": "1.2.0",
      "model_name": "LayoutModel",
      "state": {
       "_model_module": "@jupyter-widgets/base",
       "_model_module_version": "1.2.0",
       "_model_name": "LayoutModel",
       "_view_count": null,
       "_view_module": "@jupyter-widgets/base",
       "_view_module_version": "1.2.0",
       "_view_name": "LayoutView",
       "align_content": null,
       "align_items": null,
       "align_self": null,
       "border": null,
       "bottom": null,
       "display": null,
       "flex": null,
       "flex_flow": null,
       "grid_area": null,
       "grid_auto_columns": null,
       "grid_auto_flow": null,
       "grid_auto_rows": null,
       "grid_column": null,
       "grid_gap": null,
       "grid_row": null,
       "grid_template_areas": null,
       "grid_template_columns": null,
       "grid_template_rows": null,
       "height": null,
       "justify_content": null,
       "justify_items": null,
       "left": null,
       "margin": null,
       "max_height": null,
       "max_width": null,
       "min_height": null,
       "min_width": null,
       "object_fit": null,
       "object_position": null,
       "order": null,
       "overflow": null,
       "overflow_x": null,
       "overflow_y": null,
       "padding": null,
       "right": null,
       "top": null,
       "visibility": null,
       "width": null
      }
     },
     "e8a699b708e246028b575d5ee8f805c0": {
      "model_module": "@jupyter-widgets/base",
      "model_module_version": "1.2.0",
      "model_name": "LayoutModel",
      "state": {
       "_model_module": "@jupyter-widgets/base",
       "_model_module_version": "1.2.0",
       "_model_name": "LayoutModel",
       "_view_count": null,
       "_view_module": "@jupyter-widgets/base",
       "_view_module_version": "1.2.0",
       "_view_name": "LayoutView",
       "align_content": null,
       "align_items": null,
       "align_self": null,
       "border": null,
       "bottom": null,
       "display": null,
       "flex": null,
       "flex_flow": null,
       "grid_area": null,
       "grid_auto_columns": null,
       "grid_auto_flow": null,
       "grid_auto_rows": null,
       "grid_column": null,
       "grid_gap": null,
       "grid_row": null,
       "grid_template_areas": null,
       "grid_template_columns": null,
       "grid_template_rows": null,
       "height": null,
       "justify_content": null,
       "justify_items": null,
       "left": null,
       "margin": null,
       "max_height": null,
       "max_width": null,
       "min_height": null,
       "min_width": null,
       "object_fit": null,
       "object_position": null,
       "order": null,
       "overflow": null,
       "overflow_x": null,
       "overflow_y": null,
       "padding": null,
       "right": null,
       "top": null,
       "visibility": null,
       "width": null
      }
     },
     "e8b0cbd2bd6947a4b3017ee5bf6d62ee": {
      "model_module": "@jupyter-widgets/controls",
      "model_module_version": "1.5.0",
      "model_name": "HTMLModel",
      "state": {
       "_dom_classes": [],
       "_model_module": "@jupyter-widgets/controls",
       "_model_module_version": "1.5.0",
       "_model_name": "HTMLModel",
       "_view_count": null,
       "_view_module": "@jupyter-widgets/controls",
       "_view_module_version": "1.5.0",
       "_view_name": "HTMLView",
       "description": "",
       "description_tooltip": null,
       "layout": "IPY_MODEL_1c701335600745b89090e7b839ae2b0c",
       "placeholder": "​",
       "style": "IPY_MODEL_50feeb9e02724089be5bdc7daddb074f",
       "value": " 84.1M/84.1M [00:07&lt;00:00, 20.8MB/s]"
      }
     },
     "e8ea40c6256f46e19f97cc97685b607a": {
      "model_module": "@jupyter-widgets/base",
      "model_module_version": "1.2.0",
      "model_name": "LayoutModel",
      "state": {
       "_model_module": "@jupyter-widgets/base",
       "_model_module_version": "1.2.0",
       "_model_name": "LayoutModel",
       "_view_count": null,
       "_view_module": "@jupyter-widgets/base",
       "_view_module_version": "1.2.0",
       "_view_name": "LayoutView",
       "align_content": null,
       "align_items": null,
       "align_self": null,
       "border": null,
       "bottom": null,
       "display": null,
       "flex": null,
       "flex_flow": null,
       "grid_area": null,
       "grid_auto_columns": null,
       "grid_auto_flow": null,
       "grid_auto_rows": null,
       "grid_column": null,
       "grid_gap": null,
       "grid_row": null,
       "grid_template_areas": null,
       "grid_template_columns": null,
       "grid_template_rows": null,
       "height": null,
       "justify_content": null,
       "justify_items": null,
       "left": null,
       "margin": null,
       "max_height": null,
       "max_width": null,
       "min_height": null,
       "min_width": null,
       "object_fit": null,
       "object_position": null,
       "order": null,
       "overflow": null,
       "overflow_x": null,
       "overflow_y": null,
       "padding": null,
       "right": null,
       "top": null,
       "visibility": null,
       "width": null
      }
     },
     "eaee6f2194224b539f13bf03fe883559": {
      "model_module": "@jupyter-widgets/controls",
      "model_module_version": "1.5.0",
      "model_name": "HTMLModel",
      "state": {
       "_dom_classes": [],
       "_model_module": "@jupyter-widgets/controls",
       "_model_module_version": "1.5.0",
       "_model_name": "HTMLModel",
       "_view_count": null,
       "_view_module": "@jupyter-widgets/controls",
       "_view_module_version": "1.5.0",
       "_view_name": "HTMLView",
       "description": "",
       "description_tooltip": null,
       "layout": "IPY_MODEL_605b0e7155f2435298aa110d96ebafdf",
       "placeholder": "​",
       "style": "IPY_MODEL_097da1786f9d4f869236af3f676cdaea",
       "value": " 1/1 [00:02&lt;00:00,  2.17s/ba]"
      }
     },
     "ee63ca961b5d4b6bbb2ec5f21d7d3845": {
      "model_module": "@jupyter-widgets/base",
      "model_module_version": "1.2.0",
      "model_name": "LayoutModel",
      "state": {
       "_model_module": "@jupyter-widgets/base",
       "_model_module_version": "1.2.0",
       "_model_name": "LayoutModel",
       "_view_count": null,
       "_view_module": "@jupyter-widgets/base",
       "_view_module_version": "1.2.0",
       "_view_name": "LayoutView",
       "align_content": null,
       "align_items": null,
       "align_self": null,
       "border": null,
       "bottom": null,
       "display": null,
       "flex": null,
       "flex_flow": null,
       "grid_area": null,
       "grid_auto_columns": null,
       "grid_auto_flow": null,
       "grid_auto_rows": null,
       "grid_column": null,
       "grid_gap": null,
       "grid_row": null,
       "grid_template_areas": null,
       "grid_template_columns": null,
       "grid_template_rows": null,
       "height": null,
       "justify_content": null,
       "justify_items": null,
       "left": null,
       "margin": null,
       "max_height": null,
       "max_width": null,
       "min_height": null,
       "min_width": null,
       "object_fit": null,
       "object_position": null,
       "order": null,
       "overflow": null,
       "overflow_x": null,
       "overflow_y": null,
       "padding": null,
       "right": null,
       "top": null,
       "visibility": null,
       "width": "20px"
      }
     },
     "ee8fd0eac8924194b8079fea6bb0fad0": {
      "model_module": "@jupyter-widgets/controls",
      "model_module_version": "1.5.0",
      "model_name": "FloatProgressModel",
      "state": {
       "_dom_classes": [],
       "_model_module": "@jupyter-widgets/controls",
       "_model_module_version": "1.5.0",
       "_model_name": "FloatProgressModel",
       "_view_count": null,
       "_view_module": "@jupyter-widgets/controls",
       "_view_module_version": "1.5.0",
       "_view_name": "ProgressView",
       "bar_style": "success",
       "description": "",
       "description_tooltip": null,
       "layout": "IPY_MODEL_ef175877f3784ff28e6f15ef66d07df0",
       "max": 1789.0,
       "min": 0.0,
       "orientation": "horizontal",
       "style": "IPY_MODEL_6b5017a3f2de4a1f9e0a669df8937e32",
       "value": 1789.0
      }
     },
     "ef175877f3784ff28e6f15ef66d07df0": {
      "model_module": "@jupyter-widgets/base",
      "model_module_version": "1.2.0",
      "model_name": "LayoutModel",
      "state": {
       "_model_module": "@jupyter-widgets/base",
       "_model_module_version": "1.2.0",
       "_model_name": "LayoutModel",
       "_view_count": null,
       "_view_module": "@jupyter-widgets/base",
       "_view_module_version": "1.2.0",
       "_view_name": "LayoutView",
       "align_content": null,
       "align_items": null,
       "align_self": null,
       "border": null,
       "bottom": null,
       "display": null,
       "flex": null,
       "flex_flow": null,
       "grid_area": null,
       "grid_auto_columns": null,
       "grid_auto_flow": null,
       "grid_auto_rows": null,
       "grid_column": null,
       "grid_gap": null,
       "grid_row": null,
       "grid_template_areas": null,
       "grid_template_columns": null,
       "grid_template_rows": null,
       "height": null,
       "justify_content": null,
       "justify_items": null,
       "left": null,
       "margin": null,
       "max_height": null,
       "max_width": null,
       "min_height": null,
       "min_width": null,
       "object_fit": null,
       "object_position": null,
       "order": null,
       "overflow": null,
       "overflow_x": null,
       "overflow_y": null,
       "padding": null,
       "right": null,
       "top": null,
       "visibility": null,
       "width": null
      }
     },
     "f0d33b7acd9945c3a98a2480354504e5": {
      "model_module": "@jupyter-widgets/base",
      "model_module_version": "1.2.0",
      "model_name": "LayoutModel",
      "state": {
       "_model_module": "@jupyter-widgets/base",
       "_model_module_version": "1.2.0",
       "_model_name": "LayoutModel",
       "_view_count": null,
       "_view_module": "@jupyter-widgets/base",
       "_view_module_version": "1.2.0",
       "_view_name": "LayoutView",
       "align_content": null,
       "align_items": null,
       "align_self": null,
       "border": null,
       "bottom": null,
       "display": null,
       "flex": null,
       "flex_flow": null,
       "grid_area": null,
       "grid_auto_columns": null,
       "grid_auto_flow": null,
       "grid_auto_rows": null,
       "grid_column": null,
       "grid_gap": null,
       "grid_row": null,
       "grid_template_areas": null,
       "grid_template_columns": null,
       "grid_template_rows": null,
       "height": null,
       "justify_content": null,
       "justify_items": null,
       "left": null,
       "margin": null,
       "max_height": null,
       "max_width": null,
       "min_height": null,
       "min_width": null,
       "object_fit": null,
       "object_position": null,
       "order": null,
       "overflow": null,
       "overflow_x": null,
       "overflow_y": null,
       "padding": null,
       "right": null,
       "top": null,
       "visibility": null,
       "width": null
      }
     },
     "f20b8e8b2a154ead9dceabde1f74af93": {
      "model_module": "@jupyter-widgets/controls",
      "model_module_version": "1.5.0",
      "model_name": "DescriptionStyleModel",
      "state": {
       "_model_module": "@jupyter-widgets/controls",
       "_model_module_version": "1.5.0",
       "_model_name": "DescriptionStyleModel",
       "_view_count": null,
       "_view_module": "@jupyter-widgets/base",
       "_view_module_version": "1.2.0",
       "_view_name": "StyleView",
       "description_width": ""
      }
     },
     "f2a6dc3733d24bdfbae4f76c1df3c760": {
      "model_module": "@jupyter-widgets/controls",
      "model_module_version": "1.5.0",
      "model_name": "ProgressStyleModel",
      "state": {
       "_model_module": "@jupyter-widgets/controls",
       "_model_module_version": "1.5.0",
       "_model_name": "ProgressStyleModel",
       "_view_count": null,
       "_view_module": "@jupyter-widgets/base",
       "_view_module_version": "1.2.0",
       "_view_name": "StyleView",
       "bar_color": null,
       "description_width": ""
      }
     },
     "f2cc4ce3ef244259b213bae2d8bf66bc": {
      "model_module": "@jupyter-widgets/base",
      "model_module_version": "1.2.0",
      "model_name": "LayoutModel",
      "state": {
       "_model_module": "@jupyter-widgets/base",
       "_model_module_version": "1.2.0",
       "_model_name": "LayoutModel",
       "_view_count": null,
       "_view_module": "@jupyter-widgets/base",
       "_view_module_version": "1.2.0",
       "_view_name": "LayoutView",
       "align_content": null,
       "align_items": null,
       "align_self": null,
       "border": null,
       "bottom": null,
       "display": null,
       "flex": null,
       "flex_flow": null,
       "grid_area": null,
       "grid_auto_columns": null,
       "grid_auto_flow": null,
       "grid_auto_rows": null,
       "grid_column": null,
       "grid_gap": null,
       "grid_row": null,
       "grid_template_areas": null,
       "grid_template_columns": null,
       "grid_template_rows": null,
       "height": null,
       "justify_content": null,
       "justify_items": null,
       "left": null,
       "margin": null,
       "max_height": null,
       "max_width": null,
       "min_height": null,
       "min_width": null,
       "object_fit": null,
       "object_position": null,
       "order": null,
       "overflow": null,
       "overflow_x": null,
       "overflow_y": null,
       "padding": null,
       "right": null,
       "top": null,
       "visibility": null,
       "width": null
      }
     },
     "f3bd3a63170f4819974e1ee7633468d4": {
      "model_module": "@jupyter-widgets/controls",
      "model_module_version": "1.5.0",
      "model_name": "HBoxModel",
      "state": {
       "_dom_classes": [],
       "_model_module": "@jupyter-widgets/controls",
       "_model_module_version": "1.5.0",
       "_model_name": "HBoxModel",
       "_view_count": null,
       "_view_module": "@jupyter-widgets/controls",
       "_view_module_version": "1.5.0",
       "_view_name": "HBoxView",
       "box_style": "",
       "children": [
        "IPY_MODEL_7e9b0d43e7734ef0874e04ea0984943f",
        "IPY_MODEL_0884d1628ffc4c8bb49d9b419e3826cc",
        "IPY_MODEL_1f0439cd5cff4902b227cf1518f7cde8"
       ],
       "layout": "IPY_MODEL_9df1af4529664988aea837c04ba75a48"
      }
     },
     "f40b9eaadc924116b3772026bbc990e0": {
      "model_module": "@jupyter-widgets/controls",
      "model_module_version": "1.5.0",
      "model_name": "HTMLModel",
      "state": {
       "_dom_classes": [],
       "_model_module": "@jupyter-widgets/controls",
       "_model_module_version": "1.5.0",
       "_model_name": "HTMLModel",
       "_view_count": null,
       "_view_module": "@jupyter-widgets/controls",
       "_view_module_version": "1.5.0",
       "_view_name": "HTMLView",
       "description": "",
       "description_tooltip": null,
       "layout": "IPY_MODEL_f2cc4ce3ef244259b213bae2d8bf66bc",
       "placeholder": "​",
       "style": "IPY_MODEL_2d1fff6da2c84fb882243f5d63018c68",
       "value": " 483/483 [00:00&lt;00:00, 17.3kB/s]"
      }
     },
     "f469253edd6a4f1c90bdd7d602283db1": {
      "model_module": "@jupyter-widgets/controls",
      "model_module_version": "1.5.0",
      "model_name": "DescriptionStyleModel",
      "state": {
       "_model_module": "@jupyter-widgets/controls",
       "_model_module_version": "1.5.0",
       "_model_name": "DescriptionStyleModel",
       "_view_count": null,
       "_view_module": "@jupyter-widgets/base",
       "_view_module_version": "1.2.0",
       "_view_name": "StyleView",
       "description_width": ""
      }
     },
     "f69b993b3f244da38e54502136c6c501": {
      "model_module": "@jupyter-widgets/base",
      "model_module_version": "1.2.0",
      "model_name": "LayoutModel",
      "state": {
       "_model_module": "@jupyter-widgets/base",
       "_model_module_version": "1.2.0",
       "_model_name": "LayoutModel",
       "_view_count": null,
       "_view_module": "@jupyter-widgets/base",
       "_view_module_version": "1.2.0",
       "_view_name": "LayoutView",
       "align_content": null,
       "align_items": null,
       "align_self": null,
       "border": null,
       "bottom": null,
       "display": null,
       "flex": null,
       "flex_flow": null,
       "grid_area": null,
       "grid_auto_columns": null,
       "grid_auto_flow": null,
       "grid_auto_rows": null,
       "grid_column": null,
       "grid_gap": null,
       "grid_row": null,
       "grid_template_areas": null,
       "grid_template_columns": null,
       "grid_template_rows": null,
       "height": null,
       "justify_content": null,
       "justify_items": null,
       "left": null,
       "margin": null,
       "max_height": null,
       "max_width": null,
       "min_height": null,
       "min_width": null,
       "object_fit": null,
       "object_position": null,
       "order": null,
       "overflow": null,
       "overflow_x": null,
       "overflow_y": null,
       "padding": null,
       "right": null,
       "top": null,
       "visibility": null,
       "width": null
      }
     },
     "f6be39f17dec433cb448544efa9f60c0": {
      "model_module": "@jupyter-widgets/controls",
      "model_module_version": "1.5.0",
      "model_name": "ProgressStyleModel",
      "state": {
       "_model_module": "@jupyter-widgets/controls",
       "_model_module_version": "1.5.0",
       "_model_name": "ProgressStyleModel",
       "_view_count": null,
       "_view_module": "@jupyter-widgets/base",
       "_view_module_version": "1.2.0",
       "_view_name": "StyleView",
       "bar_color": null,
       "description_width": ""
      }
     },
     "f6c57cc893da49b4a4fc8c16fef4ed0c": {
      "model_module": "@jupyter-widgets/controls",
      "model_module_version": "1.5.0",
      "model_name": "HBoxModel",
      "state": {
       "_dom_classes": [],
       "_model_module": "@jupyter-widgets/controls",
       "_model_module_version": "1.5.0",
       "_model_name": "HBoxModel",
       "_view_count": null,
       "_view_module": "@jupyter-widgets/controls",
       "_view_module_version": "1.5.0",
       "_view_name": "HBoxView",
       "box_style": "",
       "children": [
        "IPY_MODEL_087a4ceb7ba9400d8dafe8ff49717c5e",
        "IPY_MODEL_67cc5e3319d34087801c2d42a75dcfac",
        "IPY_MODEL_0d79a43260ac435eacacd190fed35a46"
       ],
       "layout": "IPY_MODEL_c9bf0408f5d04365839c0f2ae61cf6e9"
      }
     },
     "f9163b993d944c2fb389c4885ddf3844": {
      "model_module": "@jupyter-widgets/base",
      "model_module_version": "1.2.0",
      "model_name": "LayoutModel",
      "state": {
       "_model_module": "@jupyter-widgets/base",
       "_model_module_version": "1.2.0",
       "_model_name": "LayoutModel",
       "_view_count": null,
       "_view_module": "@jupyter-widgets/base",
       "_view_module_version": "1.2.0",
       "_view_name": "LayoutView",
       "align_content": null,
       "align_items": null,
       "align_self": null,
       "border": null,
       "bottom": null,
       "display": null,
       "flex": null,
       "flex_flow": null,
       "grid_area": null,
       "grid_auto_columns": null,
       "grid_auto_flow": null,
       "grid_auto_rows": null,
       "grid_column": null,
       "grid_gap": null,
       "grid_row": null,
       "grid_template_areas": null,
       "grid_template_columns": null,
       "grid_template_rows": null,
       "height": null,
       "justify_content": null,
       "justify_items": null,
       "left": null,
       "margin": null,
       "max_height": null,
       "max_width": null,
       "min_height": null,
       "min_width": null,
       "object_fit": null,
       "object_position": null,
       "order": null,
       "overflow": null,
       "overflow_x": null,
       "overflow_y": null,
       "padding": null,
       "right": null,
       "top": null,
       "visibility": null,
       "width": null
      }
     },
     "fa85163c2ec64b0fb94784fc6fc94490": {
      "model_module": "@jupyter-widgets/controls",
      "model_module_version": "1.5.0",
      "model_name": "HTMLModel",
      "state": {
       "_dom_classes": [],
       "_model_module": "@jupyter-widgets/controls",
       "_model_module_version": "1.5.0",
       "_model_name": "HTMLModel",
       "_view_count": null,
       "_view_module": "@jupyter-widgets/controls",
       "_view_module_version": "1.5.0",
       "_view_name": "HTMLView",
       "description": "",
       "description_tooltip": null,
       "layout": "IPY_MODEL_e8ea40c6256f46e19f97cc97685b607a",
       "placeholder": "​",
       "style": "IPY_MODEL_a0f765486c5445aca8d9d20b52fef4c5",
       "value": "100%"
      }
     },
     "fb3a7a2a48a2462aa4fb5d183a57c1bc": {
      "model_module": "@jupyter-widgets/base",
      "model_module_version": "1.2.0",
      "model_name": "LayoutModel",
      "state": {
       "_model_module": "@jupyter-widgets/base",
       "_model_module_version": "1.2.0",
       "_model_name": "LayoutModel",
       "_view_count": null,
       "_view_module": "@jupyter-widgets/base",
       "_view_module_version": "1.2.0",
       "_view_name": "LayoutView",
       "align_content": null,
       "align_items": null,
       "align_self": null,
       "border": null,
       "bottom": null,
       "display": null,
       "flex": null,
       "flex_flow": null,
       "grid_area": null,
       "grid_auto_columns": null,
       "grid_auto_flow": null,
       "grid_auto_rows": null,
       "grid_column": null,
       "grid_gap": null,
       "grid_row": null,
       "grid_template_areas": null,
       "grid_template_columns": null,
       "grid_template_rows": null,
       "height": null,
       "justify_content": null,
       "justify_items": null,
       "left": null,
       "margin": null,
       "max_height": null,
       "max_width": null,
       "min_height": null,
       "min_width": null,
       "object_fit": null,
       "object_position": null,
       "order": null,
       "overflow": null,
       "overflow_x": null,
       "overflow_y": null,
       "padding": null,
       "right": null,
       "top": null,
       "visibility": null,
       "width": null
      }
     },
     "fd4bb00f4e704cd6b2dfeec55f5c04a4": {
      "model_module": "@jupyter-widgets/controls",
      "model_module_version": "1.5.0",
      "model_name": "DescriptionStyleModel",
      "state": {
       "_model_module": "@jupyter-widgets/controls",
       "_model_module_version": "1.5.0",
       "_model_name": "DescriptionStyleModel",
       "_view_count": null,
       "_view_module": "@jupyter-widgets/base",
       "_view_module_version": "1.2.0",
       "_view_name": "StyleView",
       "description_width": ""
      }
     }
    },
    "version_major": 2,
    "version_minor": 0
   }
  }
 },
 "nbformat": 4,
 "nbformat_minor": 5
}
