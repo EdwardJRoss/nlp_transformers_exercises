{
 "cells": [
  {
   "cell_type": "markdown",
   "id": "77ac0a8b",
   "metadata": {
    "papermill": {
     "duration": 0.062801,
     "end_time": "2022-04-07T11:46:44.265126",
     "exception": false,
     "start_time": "2022-04-07T11:46:44.202325",
     "status": "completed"
    },
    "tags": []
   },
   "source": [
    "We're going to replicate the benchmark in [A Named Entity Based Approach to Model Recipes](https://arxiv.org/abs/2004.12184), by Diwan, Batra, and Bagler using StanfordNLP, and check it using [seqeval](https://github.com/chakki-works/seqeval).\n",
    "\n",
    "Evaluating NER is surprisingly tricky, as [David Batista explains](https://www.davidsbatista.net/blog/2018/05/09/Named_Entity_Evaluation/), and I want to check that the results in the paper are the same as what seqeval gives, so I can compare it to other models.\n",
    "\n",
    "The authors share their data in an [associated git repository](https://github.com/cosylabiiit/recipe-knowledge-mining) and train a model using [Stanford NER](https://nlp.stanford.edu/software/CRF-NER.html), which is open source, so we have a chance of replicating the results."
   ]
  },
  {
   "cell_type": "markdown",
   "id": "d1ac5ff0",
   "metadata": {
    "papermill": {
     "duration": 0.06219,
     "end_time": "2022-04-07T11:46:44.390518",
     "exception": false,
     "start_time": "2022-04-07T11:46:44.328328",
     "status": "completed"
    },
    "tags": []
   },
   "source": [
    "# Installing Stanford NLP\n",
    "\n",
    "We're going to install Stanford NLP which is a Java library.\n",
    "To make things easier we will use [stanza](https://stanfordnlp.github.io/stanza/) which includes tools for [installing and invoking Stanford NLP](https://stanfordnlp.github.io/stanza/corenlp_client.html)."
   ]
  },
  {
   "cell_type": "code",
   "execution_count": 1,
   "id": "a7714110",
   "metadata": {
    "execution": {
     "iopub.execute_input": "2022-04-07T11:46:44.516130Z",
     "iopub.status.busy": "2022-04-07T11:46:44.514969Z",
     "iopub.status.idle": "2022-04-07T11:46:55.540431Z",
     "shell.execute_reply": "2022-04-07T11:46:55.539653Z",
     "shell.execute_reply.started": "2022-04-07T11:18:41.851225Z"
    },
    "papermill": {
     "duration": 11.089282,
     "end_time": "2022-04-07T11:46:55.540579",
     "exception": false,
     "start_time": "2022-04-07T11:46:44.451297",
     "status": "completed"
    },
    "tags": []
   },
   "outputs": [
    {
     "name": "stdout",
     "output_type": "stream",
     "text": [
      "Collecting stanza\r\n",
      "  Downloading stanza-1.3.0-py3-none-any.whl (432 kB)\r\n",
      "     |████████████████████████████████| 432 kB 894 kB/s            \r\n",
      "\u001b[?25hRequirement already satisfied: protobuf in /opt/conda/lib/python3.7/site-packages (from stanza) (3.19.4)\r\n",
      "Requirement already satisfied: six in /opt/conda/lib/python3.7/site-packages (from stanza) (1.16.0)\r\n",
      "Requirement already satisfied: tqdm in /opt/conda/lib/python3.7/site-packages (from stanza) (4.62.3)\r\n",
      "Requirement already satisfied: torch>=1.3.0 in /opt/conda/lib/python3.7/site-packages (from stanza) (1.9.1+cpu)\r\n",
      "Requirement already satisfied: requests in /opt/conda/lib/python3.7/site-packages (from stanza) (2.26.0)\r\n",
      "Requirement already satisfied: emoji in /opt/conda/lib/python3.7/site-packages (from stanza) (1.7.0)\r\n",
      "Requirement already satisfied: numpy in /opt/conda/lib/python3.7/site-packages (from stanza) (1.20.3)\r\n",
      "Requirement already satisfied: typing-extensions in /opt/conda/lib/python3.7/site-packages (from torch>=1.3.0->stanza) (4.1.1)\r\n",
      "Requirement already satisfied: charset-normalizer~=2.0.0 in /opt/conda/lib/python3.7/site-packages (from requests->stanza) (2.0.9)\r\n",
      "Requirement already satisfied: urllib3<1.27,>=1.21.1 in /opt/conda/lib/python3.7/site-packages (from requests->stanza) (1.26.7)\r\n",
      "Requirement already satisfied: idna<4,>=2.5 in /opt/conda/lib/python3.7/site-packages (from requests->stanza) (3.1)\r\n",
      "Requirement already satisfied: certifi>=2017.4.17 in /opt/conda/lib/python3.7/site-packages (from requests->stanza) (2021.10.8)\r\n",
      "Installing collected packages: stanza\r\n",
      "Successfully installed stanza-1.3.0\r\n",
      "\u001b[33mWARNING: Running pip as the 'root' user can result in broken permissions and conflicting behaviour with the system package manager. It is recommended to use a virtual environment instead: https://pip.pypa.io/warnings/venv\u001b[0m\r\n"
     ]
    }
   ],
   "source": [
    "    !pip install stanza"
   ]
  },
  {
   "cell_type": "markdown",
   "id": "165a0ef3",
   "metadata": {
    "papermill": {
     "duration": 0.06439,
     "end_time": "2022-04-07T11:46:55.670043",
     "exception": false,
     "start_time": "2022-04-07T11:46:55.605653",
     "status": "completed"
    },
    "tags": []
   },
   "source": [
    "We can specify where to install Core NLP, but we will us the default, which is either \"\\\\$CORE_NLP_HOME\", or \"\\\\$HOME/stanza_corenlp\". (Ideally we'd use stanza to get this, but I couldn't easy work out how.)"
   ]
  },
  {
   "cell_type": "code",
   "execution_count": 2,
   "id": "1ca0cc56",
   "metadata": {
    "execution": {
     "iopub.execute_input": "2022-04-07T11:46:55.817392Z",
     "iopub.status.busy": "2022-04-07T11:46:55.816311Z",
     "iopub.status.idle": "2022-04-07T11:47:09.252054Z",
     "shell.execute_reply": "2022-04-07T11:47:09.251446Z",
     "shell.execute_reply.started": "2022-04-07T11:18:52.621961Z"
    },
    "papermill": {
     "duration": 13.517185,
     "end_time": "2022-04-07T11:47:09.252206",
     "exception": false,
     "start_time": "2022-04-07T11:46:55.735021",
     "status": "completed"
    },
    "tags": []
   },
   "outputs": [
    {
     "data": {
      "application/vnd.jupyter.widget-view+json": {
       "model_id": "66356b357dfe459bb021a251db5bf3bb",
       "version_major": 2,
       "version_minor": 0
      },
      "text/plain": [
       "Downloading https://huggingface.co/stanfordnlp/CoreNLP/resolve/main/stanford-corenlp-latest.zip:   0%|        …"
      ]
     },
     "metadata": {},
     "output_type": "display_data"
    }
   ],
   "source": [
    "import stanza\n",
    "stanza.install_corenlp()"
   ]
  },
  {
   "cell_type": "markdown",
   "id": "4d410afb",
   "metadata": {
    "papermill": {
     "duration": 0.065812,
     "end_time": "2022-04-07T11:47:09.384657",
     "exception": false,
     "start_time": "2022-04-07T11:47:09.318845",
     "status": "completed"
    },
    "tags": []
   },
   "source": [
    "We'll need to invoke the Stanford Core NLP JAR that we just installed, so let's find it."
   ]
  },
  {
   "cell_type": "code",
   "execution_count": 3,
   "id": "235d02d3",
   "metadata": {
    "execution": {
     "iopub.execute_input": "2022-04-07T11:47:09.520146Z",
     "iopub.status.busy": "2022-04-07T11:47:09.519443Z",
     "iopub.status.idle": "2022-04-07T11:47:09.529517Z",
     "shell.execute_reply": "2022-04-07T11:47:09.528921Z",
     "shell.execute_reply.started": "2022-04-07T11:18:58.420216Z"
    },
    "papermill": {
     "duration": 0.078937,
     "end_time": "2022-04-07T11:47:09.529659",
     "exception": false,
     "start_time": "2022-04-07T11:47:09.450722",
     "status": "completed"
    },
    "tags": []
   },
   "outputs": [
    {
     "data": {
      "text/plain": [
       "'/root/stanza_corenlp/stanford-corenlp-4.4.0.jar'"
      ]
     },
     "execution_count": 3,
     "metadata": {},
     "output_type": "execute_result"
    }
   ],
   "source": [
    "import os\n",
    "import re\n",
    "from pathlib import Path\n",
    "\n",
    "\n",
    "# Reimplement the logic to find the path where stanza_corenlp is installed.\n",
    "core_nlp_path = os.getenv('CORENLP_HOME', str(Path.home() / 'stanza_corenlp'))\n",
    "\n",
    "# A heuristic to find the right jar file\n",
    "classpath = [str(p) for p in Path(core_nlp_path).iterdir() if re.match(r\"stanford-corenlp-[0-9.]+\\.jar\", p.name)][0]\n",
    "classpath"
   ]
  },
  {
   "cell_type": "markdown",
   "id": "292cf8ec",
   "metadata": {
    "papermill": {
     "duration": 0.066165,
     "end_time": "2022-04-07T11:47:09.662148",
     "exception": false,
     "start_time": "2022-04-07T11:47:09.595983",
     "status": "completed"
    },
    "tags": []
   },
   "source": [
    "Let's test the [basic usage](https://stanfordnlp.github.io/stanza/client_usage.html).\n",
    "\n",
    "There are currently models for 8 languages, and for some fairly complex tasks like coreference resolution."
   ]
  },
  {
   "cell_type": "code",
   "execution_count": 4,
   "id": "c64ea780",
   "metadata": {
    "execution": {
     "iopub.execute_input": "2022-04-07T11:47:09.801697Z",
     "iopub.status.busy": "2022-04-07T11:47:09.800987Z",
     "iopub.status.idle": "2022-04-07T11:47:48.193265Z",
     "shell.execute_reply": "2022-04-07T11:47:48.192634Z",
     "shell.execute_reply.started": "2022-04-07T11:18:58.437617Z"
    },
    "papermill": {
     "duration": 38.464122,
     "end_time": "2022-04-07T11:47:48.193426",
     "exception": false,
     "start_time": "2022-04-07T11:47:09.729304",
     "status": "completed"
    },
    "tags": []
   },
   "outputs": [
    {
     "name": "stderr",
     "output_type": "stream",
     "text": [
      "[main] INFO CoreNLP - --- StanfordCoreNLPServer#main() called ---\n",
      "[main] INFO CoreNLP - Server default properties:\n",
      "\t\t\t(Note: unspecified annotator properties are English defaults)\n",
      "\t\t\tannotators = tokenize,ssplit,pos,lemma,ner,parse,depparse,coref\n",
      "\t\t\tinputFormat = text\n",
      "\t\t\toutputFormat = serialized\n",
      "\t\t\tprettyPrint = false\n",
      "\t\t\tthreads = 5\n",
      "[main] INFO CoreNLP - Threads: 5\n",
      "[main] INFO edu.stanford.nlp.pipeline.StanfordCoreNLP - Adding annotator tokenize\n",
      "[main] INFO edu.stanford.nlp.pipeline.StanfordCoreNLP - Adding annotator ssplit\n",
      "[main] INFO edu.stanford.nlp.pipeline.StanfordCoreNLP - Adding annotator pos\n",
      "[main] INFO edu.stanford.nlp.tagger.maxent.MaxentTagger - Loading POS tagger from edu/stanford/nlp/models/pos-tagger/english-left3words-distsim.tagger ... done [1.1 sec].\n",
      "[main] INFO edu.stanford.nlp.pipeline.StanfordCoreNLP - Adding annotator lemma\n",
      "[main] INFO edu.stanford.nlp.pipeline.StanfordCoreNLP - Adding annotator ner\n",
      "[main] INFO edu.stanford.nlp.ie.AbstractSequenceClassifier - Loading classifier from edu/stanford/nlp/models/ner/english.all.3class.distsim.crf.ser.gz ... done [2.2 sec].\n",
      "[main] INFO edu.stanford.nlp.ie.AbstractSequenceClassifier - Loading classifier from edu/stanford/nlp/models/ner/english.muc.7class.distsim.crf.ser.gz ... done [0.6 sec].\n",
      "[main] INFO edu.stanford.nlp.ie.AbstractSequenceClassifier - Loading classifier from edu/stanford/nlp/models/ner/english.conll.4class.distsim.crf.ser.gz ... done [0.9 sec].\n",
      "[main] INFO edu.stanford.nlp.time.JollyDayHolidays - Initializing JollyDayHoliday for SUTime from classpath edu/stanford/nlp/models/sutime/jollyday/Holidays_sutime.xml as sutime.binder.1.\n",
      "[main] INFO edu.stanford.nlp.time.TimeExpressionExtractorImpl - Using following SUTime rules: edu/stanford/nlp/models/sutime/defs.sutime.txt,edu/stanford/nlp/models/sutime/english.sutime.txt,edu/stanford/nlp/models/sutime/english.holidays.sutime.txt\n",
      "[main] INFO edu.stanford.nlp.pipeline.TokensRegexNERAnnotator - ner.fine.regexner: Read 580705 unique entries out of 581864 from edu/stanford/nlp/models/kbp/english/gazetteers/regexner_caseless.tab, 0 TokensRegex patterns.\n",
      "[main] INFO edu.stanford.nlp.pipeline.TokensRegexNERAnnotator - ner.fine.regexner: Read 4867 unique entries out of 4867 from edu/stanford/nlp/models/kbp/english/gazetteers/regexner_cased.tab, 0 TokensRegex patterns.\n",
      "[main] INFO edu.stanford.nlp.pipeline.TokensRegexNERAnnotator - ner.fine.regexner: Read 585572 unique entries from 2 files\n",
      "[main] INFO edu.stanford.nlp.pipeline.NERCombinerAnnotator - numeric classifiers: true; SUTime: true [no docDate]; fine grained: true\n",
      "[main] INFO edu.stanford.nlp.pipeline.StanfordCoreNLP - Adding annotator parse\n",
      "[main] INFO edu.stanford.nlp.parser.common.ParserGrammar - Loading parser from serialized file edu/stanford/nlp/models/lexparser/englishPCFG.ser.gz ... done [1.0 sec].\n",
      "[main] INFO edu.stanford.nlp.pipeline.StanfordCoreNLP - Adding annotator depparse\n",
      "[main] INFO edu.stanford.nlp.parser.nndep.DependencyParser - Loading depparse model: edu/stanford/nlp/models/parser/nndep/english_UD.gz ... Time elapsed: 1.7 sec\n",
      "[main] INFO edu.stanford.nlp.parser.nndep.Classifier - PreComputed 20000 vectors, elapsed Time: 1.939 sec\n",
      "[main] INFO edu.stanford.nlp.parser.nndep.DependencyParser - Initializing dependency parser ... done [3.6 sec].\n",
      "[main] INFO edu.stanford.nlp.pipeline.StanfordCoreNLP - Adding annotator coref\n",
      "[main] INFO edu.stanford.nlp.coref.statistical.SimpleLinearClassifier - Loading coref model edu/stanford/nlp/models/coref/statistical/ranking_model.ser.gz ... done [1.0 sec].\n",
      "[main] INFO edu.stanford.nlp.pipeline.CorefMentionAnnotator - Using mention detector type: dependency\n",
      "[main] INFO CoreNLP - Starting server...\n",
      "[main] INFO CoreNLP - StanfordCoreNLPServer listening at /0.0.0.0:9000\n",
      "[pool-1-thread-2] INFO CoreNLP - [/127.0.0.1:32876] API call w/annotators tokenize,ssplit,pos,lemma,ner,parse,depparse,coref\n",
      "[pool-1-thread-2] INFO edu.stanford.nlp.pipeline.StanfordCoreNLP - Adding annotator tokenize\n",
      "[pool-1-thread-2] INFO edu.stanford.nlp.pipeline.StanfordCoreNLP - Adding annotator ssplit\n",
      "[pool-1-thread-2] INFO edu.stanford.nlp.pipeline.StanfordCoreNLP - Adding annotator pos\n",
      "[pool-1-thread-2] INFO edu.stanford.nlp.pipeline.StanfordCoreNLP - Adding annotator lemma\n",
      "[pool-1-thread-2] INFO edu.stanford.nlp.pipeline.StanfordCoreNLP - Adding annotator ner\n",
      "[pool-1-thread-2] INFO edu.stanford.nlp.pipeline.StanfordCoreNLP - Adding annotator parse\n",
      "[pool-1-thread-2] INFO edu.stanford.nlp.pipeline.StanfordCoreNLP - Adding annotator depparse\n",
      "[pool-1-thread-2] INFO edu.stanford.nlp.pipeline.StanfordCoreNLP - Adding annotator coref\n"
     ]
    },
    {
     "name": "stdout",
     "output_type": "stream",
     "text": [
      "David Batista wrote a blog post on NER evaluation. Hiroki Nakayama wrote seqeval to evaluate sequential labelling tasks, such as NER. We will test his library against Stanford Core NLP. \n"
     ]
    },
    {
     "name": "stderr",
     "output_type": "stream",
     "text": [
      "[Thread-0] INFO CoreNLP - CoreNLP Server is shutting down.\n"
     ]
    }
   ],
   "source": [
    "from stanza.server import CoreNLPClient\n",
    "\n",
    "text = \"David Batista wrote a blog post on NER evaluation. \" \\\n",
    "       \"Hiroki Nakayama wrote seqeval to evaluate sequential labelling tasks, such as NER. \" \\\n",
    "       \"We will test his library against Stanford Core NLP. \"\n",
    "\n",
    "with CoreNLPClient(\n",
    "     annotators=['tokenize','ssplit','pos','lemma','ner', 'parse', 'depparse','coref'],\n",
    "        timeout=30000,\n",
    "        memory='6G') as client:\n",
    "    \n",
    "    ann =  client.annotate(text)"
   ]
  },
  {
   "cell_type": "markdown",
   "id": "6b1a4388",
   "metadata": {
    "papermill": {
     "duration": 0.071088,
     "end_time": "2022-04-07T11:47:48.336708",
     "exception": false,
     "start_time": "2022-04-07T11:47:48.265620",
     "status": "completed"
    },
    "tags": []
   },
   "source": [
    "We get 3 sentences out."
   ]
  },
  {
   "cell_type": "code",
   "execution_count": 5,
   "id": "30204f69",
   "metadata": {
    "execution": {
     "iopub.execute_input": "2022-04-07T11:47:48.484007Z",
     "iopub.status.busy": "2022-04-07T11:47:48.483346Z",
     "iopub.status.idle": "2022-04-07T11:47:48.489887Z",
     "shell.execute_reply": "2022-04-07T11:47:48.489378Z",
     "shell.execute_reply.started": "2022-04-07T11:19:35.225524Z"
    },
    "papermill": {
     "duration": 0.082301,
     "end_time": "2022-04-07T11:47:48.490048",
     "exception": false,
     "start_time": "2022-04-07T11:47:48.407747",
     "status": "completed"
    },
    "tags": []
   },
   "outputs": [
    {
     "name": "stdout",
     "output_type": "stream",
     "text": [
      "David Batista wrote a blog post on NER evaluation .\n",
      "Hiroki Nakayama wrote seqeval to evaluate sequential labelling tasks , such as NER .\n",
      "We will test his library against Stanford Core NLP .\n"
     ]
    }
   ],
   "source": [
    "for sentence in ann.sentence:\n",
    "    print(\" \".join([token.word for token in sentence.token]))"
   ]
  },
  {
   "cell_type": "markdown",
   "id": "af1b9b13",
   "metadata": {
    "papermill": {
     "duration": 0.071292,
     "end_time": "2022-04-07T11:47:48.632872",
     "exception": false,
     "start_time": "2022-04-07T11:47:48.561580",
     "status": "completed"
    },
    "tags": []
   },
   "source": [
    "It can even do clever things like coreference resolution; resolving that \"his library\" refers to \"Hiroki Nakayama's library\"."
   ]
  },
  {
   "cell_type": "code",
   "execution_count": 6,
   "id": "d0eb6b4e",
   "metadata": {
    "execution": {
     "iopub.execute_input": "2022-04-07T11:47:48.783817Z",
     "iopub.status.busy": "2022-04-07T11:47:48.783174Z",
     "iopub.status.idle": "2022-04-07T11:47:48.785861Z",
     "shell.execute_reply": "2022-04-07T11:47:48.786579Z",
     "shell.execute_reply.started": "2022-04-07T11:19:35.234084Z"
    },
    "papermill": {
     "duration": 0.080831,
     "end_time": "2022-04-07T11:47:48.786801",
     "exception": false,
     "start_time": "2022-04-07T11:47:48.705970",
     "status": "completed"
    },
    "tags": []
   },
   "outputs": [
    {
     "name": "stdout",
     "output_type": "stream",
     "text": [
      "['nakayama', 'his']\n"
     ]
    }
   ],
   "source": [
    "for chain in ann.corefChain:\n",
    "    print([ann.mentionsForCoref[mention.mentionID].headString for mention in chain.mention])"
   ]
  },
  {
   "cell_type": "markdown",
   "id": "a6a69f33",
   "metadata": {
    "papermill": {
     "duration": 0.07209,
     "end_time": "2022-04-07T11:47:48.932360",
     "exception": false,
     "start_time": "2022-04-07T11:47:48.860270",
     "status": "completed"
    },
    "tags": []
   },
   "source": [
    "We can extract things such as lemmas, parts of speech and standard NER tags.\n",
    "\n",
    "But we want to train our own NER model to detect ingredients. First we will need to collect the data."
   ]
  },
  {
   "cell_type": "code",
   "execution_count": 7,
   "id": "e867b8b8",
   "metadata": {
    "execution": {
     "iopub.execute_input": "2022-04-07T11:47:49.098116Z",
     "iopub.status.busy": "2022-04-07T11:47:49.097471Z",
     "iopub.status.idle": "2022-04-07T11:47:49.129299Z",
     "shell.execute_reply": "2022-04-07T11:47:49.128761Z",
     "shell.execute_reply.started": "2022-04-07T11:19:35.247371Z"
    },
    "papermill": {
     "duration": 0.120306,
     "end_time": "2022-04-07T11:47:49.129440",
     "exception": false,
     "start_time": "2022-04-07T11:47:49.009134",
     "status": "completed"
    },
    "tags": []
   },
   "outputs": [
    {
     "data": {
      "text/html": [
       "<div>\n",
       "<style scoped>\n",
       "    .dataframe tbody tr th:only-of-type {\n",
       "        vertical-align: middle;\n",
       "    }\n",
       "\n",
       "    .dataframe tbody tr th {\n",
       "        vertical-align: top;\n",
       "    }\n",
       "\n",
       "    .dataframe thead th {\n",
       "        text-align: right;\n",
       "    }\n",
       "</style>\n",
       "<table border=\"1\" class=\"dataframe\">\n",
       "  <thead>\n",
       "    <tr style=\"text-align: right;\">\n",
       "      <th></th>\n",
       "      <th>0</th>\n",
       "      <th>1</th>\n",
       "      <th>2</th>\n",
       "      <th>3</th>\n",
       "      <th>4</th>\n",
       "      <th>5</th>\n",
       "      <th>6</th>\n",
       "      <th>7</th>\n",
       "      <th>8</th>\n",
       "      <th>9</th>\n",
       "      <th>10</th>\n",
       "      <th>11</th>\n",
       "      <th>12</th>\n",
       "      <th>13</th>\n",
       "    </tr>\n",
       "  </thead>\n",
       "  <tbody>\n",
       "    <tr>\n",
       "      <th>word</th>\n",
       "      <td>Hiroki</td>\n",
       "      <td>Nakayama</td>\n",
       "      <td>wrote</td>\n",
       "      <td>seqeval</td>\n",
       "      <td>to</td>\n",
       "      <td>evaluate</td>\n",
       "      <td>sequential</td>\n",
       "      <td>labelling</td>\n",
       "      <td>tasks</td>\n",
       "      <td>,</td>\n",
       "      <td>such</td>\n",
       "      <td>as</td>\n",
       "      <td>NER</td>\n",
       "      <td>.</td>\n",
       "    </tr>\n",
       "    <tr>\n",
       "      <th>lemma</th>\n",
       "      <td>Hiroki</td>\n",
       "      <td>Nakayama</td>\n",
       "      <td>write</td>\n",
       "      <td>seqeval</td>\n",
       "      <td>to</td>\n",
       "      <td>evaluate</td>\n",
       "      <td>sequential</td>\n",
       "      <td>labelling</td>\n",
       "      <td>task</td>\n",
       "      <td>,</td>\n",
       "      <td>such</td>\n",
       "      <td>as</td>\n",
       "      <td>ner</td>\n",
       "      <td>.</td>\n",
       "    </tr>\n",
       "    <tr>\n",
       "      <th>pos</th>\n",
       "      <td>NNP</td>\n",
       "      <td>NNP</td>\n",
       "      <td>VBD</td>\n",
       "      <td>NN</td>\n",
       "      <td>TO</td>\n",
       "      <td>VB</td>\n",
       "      <td>JJ</td>\n",
       "      <td>NN</td>\n",
       "      <td>NNS</td>\n",
       "      <td>,</td>\n",
       "      <td>JJ</td>\n",
       "      <td>IN</td>\n",
       "      <td>NN</td>\n",
       "      <td>.</td>\n",
       "    </tr>\n",
       "    <tr>\n",
       "      <th>ner</th>\n",
       "      <td>PERSON</td>\n",
       "      <td>PERSON</td>\n",
       "      <td>O</td>\n",
       "      <td>O</td>\n",
       "      <td>O</td>\n",
       "      <td>O</td>\n",
       "      <td>O</td>\n",
       "      <td>O</td>\n",
       "      <td>O</td>\n",
       "      <td>O</td>\n",
       "      <td>O</td>\n",
       "      <td>O</td>\n",
       "      <td>O</td>\n",
       "      <td>O</td>\n",
       "    </tr>\n",
       "  </tbody>\n",
       "</table>\n",
       "</div>"
      ],
      "text/plain": [
       "           0         1      2        3   4         5           6          7   \\\n",
       "word   Hiroki  Nakayama  wrote  seqeval  to  evaluate  sequential  labelling   \n",
       "lemma  Hiroki  Nakayama  write  seqeval  to  evaluate  sequential  labelling   \n",
       "pos       NNP       NNP    VBD       NN  TO        VB          JJ         NN   \n",
       "ner    PERSON    PERSON      O        O   O         O           O          O   \n",
       "\n",
       "          8  9     10  11   12 13  \n",
       "word   tasks  ,  such  as  NER  .  \n",
       "lemma   task  ,  such  as  ner  .  \n",
       "pos      NNS  ,    JJ  IN   NN  .  \n",
       "ner        O  O     O   O    O  O  "
      ]
     },
     "execution_count": 7,
     "metadata": {},
     "output_type": "execute_result"
    }
   ],
   "source": [
    "import pandas as pd\n",
    "\n",
    "tokens = ann.sentence[1].token\n",
    "\n",
    "pd.DataFrame({'word': [s.word for s in tokens],\n",
    "              'lemma': [s.lemma for s in tokens],\n",
    "              'pos': [s.pos for s in tokens],\n",
    "              'ner': [s.ner for s in tokens]}).T"
   ]
  },
  {
   "cell_type": "markdown",
   "id": "432b313d",
   "metadata": {
    "papermill": {
     "duration": 0.072588,
     "end_time": "2022-04-07T11:47:49.275037",
     "exception": false,
     "start_time": "2022-04-07T11:47:49.202449",
     "status": "completed"
    },
    "tags": []
   },
   "source": [
    "# Get Data\n",
    "\n",
    "Helpfully the authors provide the annotated ingredients data in the format for Stanford NER that we can download [from github](https://github.com/cosylabiiit/recipe-knowledge-mining).\n",
    "\n",
    "There are two sources of ingredients, `ar` is AllRecipes and `gk` is  FOOD.com (formerly GeniusKitchen.com)."
   ]
  },
  {
   "cell_type": "code",
   "execution_count": 8,
   "id": "010e98b1",
   "metadata": {
    "_cell_guid": "b1076dfc-b9ad-4769-8c92-a6c4dae69d19",
    "_uuid": "8f2839f25d086af736a60e9eeb907d3b93b6e0e5",
    "execution": {
     "iopub.execute_input": "2022-04-07T11:47:49.428416Z",
     "iopub.status.busy": "2022-04-07T11:47:49.427755Z",
     "iopub.status.idle": "2022-04-07T11:47:50.555665Z",
     "shell.execute_reply": "2022-04-07T11:47:50.554974Z",
     "shell.execute_reply.started": "2022-04-07T11:19:35.282380Z"
    },
    "papermill": {
     "duration": 1.208062,
     "end_time": "2022-04-07T11:47:50.555812",
     "exception": false,
     "start_time": "2022-04-07T11:47:49.347750",
     "status": "completed"
    },
    "tags": []
   },
   "outputs": [],
   "source": [
    "from urllib.request import urlretrieve\n",
    "\n",
    "data_sources = ['ar', 'gk']\n",
    "data_splits = ['train', 'test']\n",
    "\n",
    "base_url = 'https://raw.githubusercontent.com/cosylabiiit/recipe-knowledge-mining/master/'\n",
    "\n",
    "def data_filename(source, split):\n",
    "    return f'{source}_{split}.tsv'\n",
    "\n",
    "for source in data_sources:\n",
    "    for split in data_splits:\n",
    "        name = data_filename(source, split)\n",
    "        urlretrieve(base_url + name, name)"
   ]
  },
  {
   "cell_type": "markdown",
   "id": "92788745",
   "metadata": {
    "papermill": {
     "duration": 0.072846,
     "end_time": "2022-04-07T11:47:50.701876",
     "exception": false,
     "start_time": "2022-04-07T11:47:50.629030",
     "status": "completed"
    },
    "tags": []
   },
   "source": [
    "Each line of the file is either a single tab (separating different texts), or a token followed by a tab and then the entity type.\n",
    "\n",
    "So for example the first ingredient is `4 cloves garlic`, which is a quantity (4) followed by a unit (cloves) and a name (garlic)."
   ]
  },
  {
   "cell_type": "code",
   "execution_count": 9,
   "id": "77608f04",
   "metadata": {
    "execution": {
     "iopub.execute_input": "2022-04-07T11:47:50.878144Z",
     "iopub.status.busy": "2022-04-07T11:47:50.873461Z",
     "iopub.status.idle": "2022-04-07T11:47:51.638792Z",
     "shell.execute_reply": "2022-04-07T11:47:51.638109Z",
     "shell.execute_reply.started": "2022-04-07T11:19:35.544709Z"
    },
    "papermill": {
     "duration": 0.860477,
     "end_time": "2022-04-07T11:47:51.638952",
     "exception": false,
     "start_time": "2022-04-07T11:47:50.778475",
     "status": "completed"
    },
    "tags": []
   },
   "outputs": [
    {
     "name": "stdout",
     "output_type": "stream",
     "text": [
      "^I\r\n",
      "4^IQUANTITY\r\n",
      "cloves^IUNIT\r\n",
      "garlic^INAME\r\n",
      "^I\r\n",
      "2^IQUANTITY\r\n",
      "tablespoons^IUNIT\r\n",
      "vegetable^INAME\r\n",
      "oil^INAME\r\n",
      ",^IO\r\n"
     ]
    }
   ],
   "source": [
    "!head {data_filename('ar', 'train')} | cat -t"
   ]
  },
  {
   "cell_type": "markdown",
   "id": "ff2459bc",
   "metadata": {
    "papermill": {
     "duration": 0.073017,
     "end_time": "2022-04-07T11:47:51.785469",
     "exception": false,
     "start_time": "2022-04-07T11:47:51.712452",
     "status": "completed"
    },
    "tags": []
   },
   "source": [
    "We can read this in to Python, converting it to a list of annotated sentences, which is just a sequence of token, label pairs."
   ]
  },
  {
   "cell_type": "code",
   "execution_count": 10,
   "id": "96f080ad",
   "metadata": {
    "execution": {
     "iopub.execute_input": "2022-04-07T11:47:51.936468Z",
     "iopub.status.busy": "2022-04-07T11:47:51.935807Z",
     "iopub.status.idle": "2022-04-07T11:47:51.944793Z",
     "shell.execute_reply": "2022-04-07T11:47:51.944147Z",
     "shell.execute_reply.started": "2022-04-07T11:19:36.350124Z"
    },
    "papermill": {
     "duration": 0.08534,
     "end_time": "2022-04-07T11:47:51.944952",
     "exception": false,
     "start_time": "2022-04-07T11:47:51.859612",
     "status": "completed"
    },
    "tags": []
   },
   "outputs": [],
   "source": [
    "from typing import List, Tuple, Generator\n",
    "\n",
    "Annotation = Tuple[str, str]\n",
    "AnnotatedSentence = List[Annotation]\n",
    "\n",
    "def segment_texts(data: str) -> Generator[AnnotatedSentence, None, None]:\n",
    "    output = []\n",
    "    for line in data.split('\\n'):\n",
    "        if line.strip():\n",
    "            text, token = line.split('\\t')\n",
    "            output.append((text.strip(), token.strip()))\n",
    "        elif output:\n",
    "            yield output\n",
    "            output = []\n",
    "            \n",
    "def segment_file(filename: str) -> List[AnnotatedSentence]:\n",
    "    with open(filename, 'rt') as f:\n",
    "        return list(segment_texts(f.read()))"
   ]
  },
  {
   "cell_type": "code",
   "execution_count": 11,
   "id": "ecf9ce38",
   "metadata": {
    "execution": {
     "iopub.execute_input": "2022-04-07T11:47:52.099379Z",
     "iopub.status.busy": "2022-04-07T11:47:52.098383Z",
     "iopub.status.idle": "2022-04-07T11:47:52.110326Z",
     "shell.execute_reply": "2022-04-07T11:47:52.110873Z",
     "shell.execute_reply.started": "2022-04-07T11:19:36.359375Z"
    },
    "papermill": {
     "duration": 0.090956,
     "end_time": "2022-04-07T11:47:52.111072",
     "exception": false,
     "start_time": "2022-04-07T11:47:52.020116",
     "status": "completed"
    },
    "tags": []
   },
   "outputs": [],
   "source": [
    "ar_train = segment_file(data_filename('ar', 'train'))"
   ]
  },
  {
   "cell_type": "code",
   "execution_count": 12,
   "id": "6f8b5571",
   "metadata": {
    "execution": {
     "iopub.execute_input": "2022-04-07T11:47:52.266224Z",
     "iopub.status.busy": "2022-04-07T11:47:52.265532Z",
     "iopub.status.idle": "2022-04-07T11:47:52.268164Z",
     "shell.execute_reply": "2022-04-07T11:47:52.268641Z",
     "shell.execute_reply.started": "2022-04-07T11:19:36.383239Z"
    },
    "papermill": {
     "duration": 0.083378,
     "end_time": "2022-04-07T11:47:52.268817",
     "exception": false,
     "start_time": "2022-04-07T11:47:52.185439",
     "status": "completed"
    },
    "tags": []
   },
   "outputs": [
    {
     "data": {
      "text/plain": [
       "[[('4', 'QUANTITY'), ('cloves', 'UNIT'), ('garlic', 'NAME')],\n",
       " [('2', 'QUANTITY'),\n",
       "  ('tablespoons', 'UNIT'),\n",
       "  ('vegetable', 'NAME'),\n",
       "  ('oil', 'NAME'),\n",
       "  (',', 'O'),\n",
       "  ('divided', 'STATE')]]"
      ]
     },
     "execution_count": 12,
     "metadata": {},
     "output_type": "execute_result"
    }
   ],
   "source": [
    "ar_train[:2]"
   ]
  },
  {
   "cell_type": "markdown",
   "id": "124338cf",
   "metadata": {
    "papermill": {
     "duration": 0.073725,
     "end_time": "2022-04-07T11:47:52.417341",
     "exception": false,
     "start_time": "2022-04-07T11:47:52.343616",
     "status": "completed"
    },
    "tags": []
   },
   "source": [
    "We can then calculate the number of sentences in the training set for a source."
   ]
  },
  {
   "cell_type": "code",
   "execution_count": 13,
   "id": "fa0ff591",
   "metadata": {
    "execution": {
     "iopub.execute_input": "2022-04-07T11:47:52.569118Z",
     "iopub.status.busy": "2022-04-07T11:47:52.568490Z",
     "iopub.status.idle": "2022-04-07T11:47:52.572464Z",
     "shell.execute_reply": "2022-04-07T11:47:52.572961Z",
     "shell.execute_reply.started": "2022-04-07T11:19:36.390850Z"
    },
    "papermill": {
     "duration": 0.081509,
     "end_time": "2022-04-07T11:47:52.573123",
     "exception": false,
     "start_time": "2022-04-07T11:47:52.491614",
     "status": "completed"
    },
    "tags": []
   },
   "outputs": [
    {
     "data": {
      "text/plain": [
       "1470"
      ]
     },
     "execution_count": 13,
     "metadata": {},
     "output_type": "execute_result"
    }
   ],
   "source": [
    "len(ar_train)"
   ]
  },
  {
   "cell_type": "markdown",
   "id": "3b0ab9ac",
   "metadata": {
    "papermill": {
     "duration": 0.073901,
     "end_time": "2022-04-07T11:47:52.723057",
     "exception": false,
     "start_time": "2022-04-07T11:47:52.649156",
     "status": "completed"
    },
    "tags": []
   },
   "source": [
    "We can use this to check the types of entities annotated, as in the paper (DF is Dried/Fresh)."
   ]
  },
  {
   "cell_type": "code",
   "execution_count": 14,
   "id": "7781aca2",
   "metadata": {
    "execution": {
     "iopub.execute_input": "2022-04-07T11:47:52.881726Z",
     "iopub.status.busy": "2022-04-07T11:47:52.881132Z",
     "iopub.status.idle": "2022-04-07T11:47:52.888762Z",
     "shell.execute_reply": "2022-04-07T11:47:52.889389Z",
     "shell.execute_reply.started": "2022-04-07T11:19:36.403149Z"
    },
    "papermill": {
     "duration": 0.085932,
     "end_time": "2022-04-07T11:47:52.889555",
     "exception": false,
     "start_time": "2022-04-07T11:47:52.803623",
     "status": "completed"
    },
    "tags": []
   },
   "outputs": [
    {
     "data": {
      "text/plain": [
       "Counter({'QUANTITY': 1583,\n",
       "         'UNIT': 1338,\n",
       "         'NAME': 2501,\n",
       "         'O': 1662,\n",
       "         'STATE': 879,\n",
       "         'DF': 154,\n",
       "         'SIZE': 64,\n",
       "         'TEMP': 31})"
      ]
     },
     "execution_count": 14,
     "metadata": {},
     "output_type": "execute_result"
    }
   ],
   "source": [
    "from collections import Counter\n",
    "\n",
    "tag_counts = Counter([annotation[1] for sentence in ar_train for annotation in sentence])\n",
    "tag_counts"
   ]
  },
  {
   "cell_type": "markdown",
   "id": "a5578e1d",
   "metadata": {
    "papermill": {
     "duration": 0.074634,
     "end_time": "2022-04-07T11:47:53.038969",
     "exception": false,
     "start_time": "2022-04-07T11:47:52.964335",
     "status": "completed"
    },
    "tags": []
   },
   "source": [
    "# Train NER Model\n",
    "\n",
    "Now we want to train a Stanford NER model on the new annotations.\n",
    "\n",
    "First we have to configure it; but there's no information on the paper on how it's configured.\n",
    "I've copied this template configuration out of the [FAQ](https://nlp.stanford.edu/software/crf-faq.html)\n",
    "For more information on the parameters you can check the [NERFeatureFactory documentation](https://nlp.stanford.edu/nlp/javadoc/javanlp/edu/stanford/nlp/ie/NERFeatureFactory.html) or the [source](https://github.com/stanfordnlp/CoreNLP/blob/main/src/edu/stanford/nlp/ie/NERFeatureFactory.java)."
   ]
  },
  {
   "cell_type": "code",
   "execution_count": 15,
   "id": "f1b4ae21",
   "metadata": {
    "execution": {
     "iopub.execute_input": "2022-04-07T11:47:53.191060Z",
     "iopub.status.busy": "2022-04-07T11:47:53.190448Z",
     "iopub.status.idle": "2022-04-07T11:47:53.195351Z",
     "shell.execute_reply": "2022-04-07T11:47:53.195927Z",
     "shell.execute_reply.started": "2022-04-07T11:19:36.416221Z"
    },
    "papermill": {
     "duration": 0.082422,
     "end_time": "2022-04-07T11:47:53.196103",
     "exception": false,
     "start_time": "2022-04-07T11:47:53.113681",
     "status": "completed"
    },
    "tags": []
   },
   "outputs": [],
   "source": [
    "def ner_prop_str(train_files: List[str], test_files: List[str], output: str) -> None:\n",
    "    \"\"\"Returns configuration string to train NER model\"\"\"\n",
    "    train_file_str = ','.join(train_files)\n",
    "    test_file_str = ','.join(test_files)\n",
    "    return f\"\"\"\n",
    "trainFileList = {train_file_str}\n",
    "testFiles = {test_file_str}\n",
    "serializeTo = {output}\n",
    "map = word=0,answer=1\n",
    "\n",
    "useClassFeature=true\n",
    "useWord=true\n",
    "useNGrams=true\n",
    "noMidNGrams=true\n",
    "maxNGramLeng=6\n",
    "usePrev=true\n",
    "useNext=true\n",
    "useSequences=true\n",
    "usePrevSequences=true\n",
    "maxLeft=1\n",
    "useTypeSeqs=true\n",
    "useTypeSeqs2=true\n",
    "useTypeySequences=true\n",
    "wordShape=chris2useLC\n",
    "useDisjunctive=true\n",
    "\"\"\""
   ]
  },
  {
   "cell_type": "markdown",
   "id": "2ae17c5f",
   "metadata": {
    "papermill": {
     "duration": 0.074017,
     "end_time": "2022-04-07T11:47:53.344206",
     "exception": false,
     "start_time": "2022-04-07T11:47:53.270189",
     "status": "completed"
    },
    "tags": []
   },
   "source": [
    "This is expected to be a file, so let's write a helper that writes it to a file. (An alternative would be to pass these as arguments to the trainer)."
   ]
  },
  {
   "cell_type": "code",
   "execution_count": 16,
   "id": "506c564d",
   "metadata": {
    "execution": {
     "iopub.execute_input": "2022-04-07T11:47:53.496234Z",
     "iopub.status.busy": "2022-04-07T11:47:53.495602Z",
     "iopub.status.idle": "2022-04-07T11:47:53.499904Z",
     "shell.execute_reply": "2022-04-07T11:47:53.500489Z",
     "shell.execute_reply.started": "2022-04-07T11:19:36.426083Z"
    },
    "papermill": {
     "duration": 0.082233,
     "end_time": "2022-04-07T11:47:53.500647",
     "exception": false,
     "start_time": "2022-04-07T11:47:53.418414",
     "status": "completed"
    },
    "tags": []
   },
   "outputs": [],
   "source": [
    "def write_ner_prop_file(ner_prop_file: str, train_files: List[str], test_files: List[str], output_file: str) -> None:\n",
    "    with open(ner_prop_file, 'wt') as f:\n",
    "        props = ner_prop_str(train_files, test_files, output_file)\n",
    "        f.write(props)"
   ]
  },
  {
   "cell_type": "markdown",
   "id": "9f38da00",
   "metadata": {
    "papermill": {
     "duration": 0.075456,
     "end_time": "2022-04-07T11:47:53.651773",
     "exception": false,
     "start_time": "2022-04-07T11:47:53.576317",
     "status": "completed"
    },
    "tags": []
   },
   "source": [
    "Stanza doesn't give an interface to train a CRF NER model using Stanford NLP, but we can invoke `edu.stanford.nlp.ie.crf.CRFClassifier` directly.\n",
    "\n",
    "Let's write a properties file and invoke Java to run the classifier.\n",
    "It prints a lot of training information, and importantly a summary report at the end which we want to see."
   ]
  },
  {
   "cell_type": "code",
   "execution_count": 17,
   "id": "8e227093",
   "metadata": {
    "execution": {
     "iopub.execute_input": "2022-04-07T11:47:53.804811Z",
     "iopub.status.busy": "2022-04-07T11:47:53.804163Z",
     "iopub.status.idle": "2022-04-07T11:47:53.811508Z",
     "shell.execute_reply": "2022-04-07T11:47:53.812042Z",
     "shell.execute_reply.started": "2022-04-07T11:19:36.435938Z"
    },
    "papermill": {
     "duration": 0.084747,
     "end_time": "2022-04-07T11:47:53.812214",
     "exception": false,
     "start_time": "2022-04-07T11:47:53.727467",
     "status": "completed"
    },
    "tags": []
   },
   "outputs": [],
   "source": [
    "import subprocess\n",
    "from typing import List\n",
    "\n",
    "def train_model(model_name, train_files: List[str], test_files: List[str], print_report=True, classpath=classpath) -> str:\n",
    "    \"\"\"Trains CRF NER Model using StanfordNLP\"\"\"\n",
    "    model_file = f'{model_name}.model.ser.gz'\n",
    "    ner_prop_filename = f'{model_name}.model.props'\n",
    "    write_ner_prop_file(ner_prop_filename, train_files, test_files, model_file)\n",
    "        \n",
    "    result = subprocess.run(\n",
    "                ['java',\n",
    "                 '-Xmx2g',\n",
    "                 '-cp', classpath,\n",
    "                 'edu.stanford.nlp.ie.crf.CRFClassifier',\n",
    "                 '-prop', ner_prop_filename],\n",
    "                capture_output=True)\n",
    "    \n",
    "    # If there's an error with invocation better log the stacktrace\n",
    "    if result.returncode != 0:\n",
    "        print(result.stderr.decode('utf-8'))\n",
    "    result.check_returncode()\n",
    "    \n",
    "    if print_report:\n",
    "        print(*result.stderr.decode('utf-8').split('\\n')[-11:], sep='\\n')\n",
    "        \n",
    "    return model_file"
   ]
  },
  {
   "cell_type": "markdown",
   "id": "ba23e9cb",
   "metadata": {
    "papermill": {
     "duration": 0.073979,
     "end_time": "2022-04-07T11:47:53.960819",
     "exception": false,
     "start_time": "2022-04-07T11:47:53.886840",
     "status": "completed"
    },
    "tags": []
   },
   "source": [
    "We can train models on each dataset separately, and all together.\n",
    "For evaluation we'll use the corresponding test set.\n",
    "\n",
    "This only takes a few minutes."
   ]
  },
  {
   "cell_type": "code",
   "execution_count": 18,
   "id": "a694a5c8",
   "metadata": {
    "execution": {
     "iopub.execute_input": "2022-04-07T11:47:54.115140Z",
     "iopub.status.busy": "2022-04-07T11:47:54.114178Z",
     "iopub.status.idle": "2022-04-07T11:49:57.715774Z",
     "shell.execute_reply": "2022-04-07T11:49:57.716302Z",
     "shell.execute_reply.started": "2022-04-07T11:19:36.446359Z"
    },
    "papermill": {
     "duration": 123.680662,
     "end_time": "2022-04-07T11:49:57.716487",
     "exception": false,
     "start_time": "2022-04-07T11:47:54.035825",
     "status": "completed"
    },
    "tags": []
   },
   "outputs": [
    {
     "name": "stdout",
     "output_type": "stream",
     "text": [
      "ar\n",
      "CRFClassifier tagged 2788 words in 483 documents at 7898.02 words per second.\n",
      "         Entity\tP\tR\tF1\tTP\tFP\tFN\n",
      "             DF\t1.0000\t0.9608\t0.9800\t49\t0\t2\n",
      "           NAME\t0.9297\t0.9279\t0.9288\t463\t35\t36\n",
      "       QUANTITY\t1.0000\t0.9962\t0.9981\t522\t0\t2\n",
      "           SIZE\t1.0000\t1.0000\t1.0000\t20\t0\t0\n",
      "          STATE\t0.9601\t0.9633\t0.9617\t289\t12\t11\n",
      "           TEMP\t0.8750\t0.7000\t0.7778\t7\t1\t3\n",
      "           UNIT\t0.9819\t0.9841\t0.9830\t434\t8\t7\n",
      "         Totals\t0.9696\t0.9669\t0.9682\t1784\t56\t61\n",
      "\n",
      "\n",
      "gk\n",
      "CRFClassifier tagged 9886 words in 1705 documents at 9086.40 words per second.\n",
      "         Entity\tP\tR\tF1\tTP\tFP\tFN\n",
      "             DF\t0.9718\t0.9517\t0.9617\t138\t4\t7\n",
      "           NAME\t0.9132\t0.9021\t0.9076\t1621\t154\t176\n",
      "       QUANTITY\t0.9882\t0.9870\t0.9876\t1598\t19\t21\n",
      "           SIZE\t0.9750\t0.9398\t0.9571\t78\t2\t5\n",
      "          STATE\t0.9255\t0.9503\t0.9377\t708\t57\t37\n",
      "           TEMP\t0.8125\t0.8125\t0.8125\t26\t6\t6\n",
      "           UNIT\t0.9810\t0.9721\t0.9766\t1291\t25\t37\n",
      "         Totals\t0.9534\t0.9497\t0.9516\t5460\t267\t289\n",
      "\n",
      "\n",
      "ar_gk\n",
      "CRFClassifier tagged 12674 words in 2188 documents at 12536.10 words per second.\n",
      "         Entity\tP\tR\tF1\tTP\tFP\tFN\n",
      "             DF\t0.9738\t0.9490\t0.9612\t186\t5\t10\n",
      "           NAME\t0.9136\t0.9077\t0.9106\t2084\t197\t212\n",
      "       QUANTITY\t0.9911\t0.9897\t0.9904\t2121\t19\t22\n",
      "           SIZE\t0.9798\t0.9417\t0.9604\t97\t2\t6\n",
      "          STATE\t0.9386\t0.9512\t0.9449\t994\t65\t51\n",
      "           TEMP\t0.8140\t0.8333\t0.8235\t35\t8\t7\n",
      "           UNIT\t0.9801\t0.9763\t0.9782\t1727\t35\t42\n",
      "         Totals\t0.9563\t0.9539\t0.9551\t7244\t331\t350\n",
      "\n",
      "\n",
      "CPU times: user 321 ms, sys: 141 ms, total: 462 ms\n",
      "Wall time: 2min 3s\n"
     ]
    }
   ],
   "source": [
    "%%time\n",
    "\n",
    "models = {}\n",
    "for source in ['ar', 'gk', 'ar_gk']:\n",
    "    print(source)\n",
    "    train_files = [data_filename(s, 'train') for s in source.split('_')]\n",
    "    test_files = [data_filename(s, 'test') for s in source.split('_')]\n",
    "    models[source] = train_model(source, train_files, test_files)\n",
    "    print()"
   ]
  },
  {
   "cell_type": "markdown",
   "id": "c23cbc60",
   "metadata": {
    "papermill": {
     "duration": 0.0774,
     "end_time": "2022-04-07T11:49:57.870050",
     "exception": false,
     "start_time": "2022-04-07T11:49:57.792650",
     "status": "completed"
    },
    "tags": []
   },
   "source": [
    "The summary report shows for each model and entity type:\n",
    "\n",
    "* True Positives (TP): The number of times that entity was predicted correctly\n",
    "* False Positives (FP): The number of times that entity in the text but not predicted correctly\n",
    "* False Negative (FN): The number of times that entity was not in the text and predicted\n",
    "* Precision (P): Probability a predicted entity is correct, TP/(TP+FP)\n",
    "* Recall (R): Probability a correct entity is predicted, TP/(TP+FN)\n",
    "* F1 Score (F1): Harmonic mean of precision and recall, 2/(1/P + 1/R).\n",
    "\n",
    "We can compare the F1 Totals to the diagonal of Table IV in the paper\n",
    "\n",
    "* AllRecipes.com (ar): We get 0.9682, they report 0.9682\n",
    "* FOOD.com (gk): We get 0.9516, they report 0.9519\n",
    "* Both (ar_gk): We get 0.9551, they report 0.9611\n",
    "\n",
    "These are super close.\n",
    "The furthest is `ar_gk` and in the repository they have a separate `ar_gk_train.tsv`; it would be interesting to check whether using it directly gives a closer result and why there is a difference."
   ]
  },
  {
   "cell_type": "markdown",
   "id": "7f7cf09b",
   "metadata": {
    "papermill": {
     "duration": 0.077099,
     "end_time": "2022-04-07T11:49:58.023614",
     "exception": false,
     "start_time": "2022-04-07T11:49:57.946515",
     "status": "completed"
    },
    "tags": []
   },
   "source": [
    "# Running the model in Python"
   ]
  },
  {
   "cell_type": "markdown",
   "id": "0780d840",
   "metadata": {
    "papermill": {
     "duration": 0.075436,
     "end_time": "2022-04-07T11:49:58.175290",
     "exception": false,
     "start_time": "2022-04-07T11:49:58.099854",
     "status": "completed"
    },
    "tags": []
   },
   "source": [
    "We can now use these trained models in Python by invoking Stanford NLP with Stanza.\n",
    "\n",
    "First we'll load in the test data."
   ]
  },
  {
   "cell_type": "code",
   "execution_count": 19,
   "id": "f225600b",
   "metadata": {
    "execution": {
     "iopub.execute_input": "2022-04-07T11:49:58.336701Z",
     "iopub.status.busy": "2022-04-07T11:49:58.333143Z",
     "iopub.status.idle": "2022-04-07T11:49:58.350816Z",
     "shell.execute_reply": "2022-04-07T11:49:58.351381Z",
     "shell.execute_reply.started": "2022-04-07T11:21:38.388264Z"
    },
    "papermill": {
     "duration": 0.100137,
     "end_time": "2022-04-07T11:49:58.351560",
     "exception": false,
     "start_time": "2022-04-07T11:49:58.251423",
     "status": "completed"
    },
    "tags": []
   },
   "outputs": [
    {
     "name": "stdout",
     "output_type": "stream",
     "text": [
      "ar 483\n",
      "gk 1705\n"
     ]
    }
   ],
   "source": [
    "test_data = {}\n",
    "\n",
    "for source in data_sources:\n",
    "    test_data[source] = segment_file(data_filename(source, 'test'))\n",
    "    print(source, len(test_data[source]))"
   ]
  },
  {
   "cell_type": "markdown",
   "id": "ef276e94",
   "metadata": {
    "execution": {
     "iopub.execute_input": "2022-04-06T23:58:43.359429Z",
     "iopub.status.busy": "2022-04-06T23:58:43.359055Z",
     "iopub.status.idle": "2022-04-06T23:58:43.365707Z",
     "shell.execute_reply": "2022-04-06T23:58:43.36474Z",
     "shell.execute_reply.started": "2022-04-06T23:58:43.35939Z"
    },
    "papermill": {
     "duration": 0.076515,
     "end_time": "2022-04-07T11:49:58.504686",
     "exception": false,
     "start_time": "2022-04-07T11:49:58.428171",
     "status": "completed"
    },
    "tags": []
   },
   "source": [
    "We can call StanfordNLP with our custom model by passing the property `ner.model`.\n",
    "\n",
    "Our test data is already tokenized in a different way to StanfordNLP, so we'll add an option to the [Tokenizer](https://stanfordnlp.github.io/CoreNLP/tokenize.html) to use whitespace tokenization which is easy to invert.\n",
    "\n",
    "It takes a while to start up the server so we want to annotate a large number of texts at once."
   ]
  },
  {
   "cell_type": "code",
   "execution_count": 20,
   "id": "d3aa06ba",
   "metadata": {
    "execution": {
     "iopub.execute_input": "2022-04-07T11:49:58.662777Z",
     "iopub.status.busy": "2022-04-07T11:49:58.662139Z",
     "iopub.status.idle": "2022-04-07T11:49:58.668691Z",
     "shell.execute_reply": "2022-04-07T11:49:58.669191Z",
     "shell.execute_reply.started": "2022-04-07T11:21:38.410288Z"
    },
    "papermill": {
     "duration": 0.086687,
     "end_time": "2022-04-07T11:49:58.669377",
     "exception": false,
     "start_time": "2022-04-07T11:49:58.582690",
     "status": "completed"
    },
    "tags": []
   },
   "outputs": [],
   "source": [
    "from tqdm.notebook import tqdm\n",
    "from stanza.server import CoreNLPClient\n",
    "\n",
    "def annotate_ner(ner_model_file: str, texts: List[str], tokenize_whitespace: bool = True):\n",
    "    properties = {\"ner.model\": ner_model_file, \"tokenize.whitespace\": tokenize_whitespace}\n",
    "    \n",
    "    annotated = []\n",
    "    with CoreNLPClient(\n",
    "         annotators=['tokenize','ssplit','ner'],\n",
    "         properties=properties,\n",
    "         timeout=30000,\n",
    "         be_quiet=True,\n",
    "        memory='6G') as client:\n",
    "    \n",
    "        for text in tqdm(texts):\n",
    "            annotated.append(client.annotate(text))\n",
    "    return annotated"
   ]
  },
  {
   "cell_type": "markdown",
   "id": "6b1aff5c",
   "metadata": {
    "papermill": {
     "duration": 0.079414,
     "end_time": "2022-04-07T11:49:58.826640",
     "exception": false,
     "start_time": "2022-04-07T11:49:58.747226",
     "status": "completed"
    },
    "tags": []
   },
   "source": [
    "We can then get the annotations"
   ]
  },
  {
   "cell_type": "code",
   "execution_count": 21,
   "id": "c762c371",
   "metadata": {
    "execution": {
     "iopub.execute_input": "2022-04-07T11:49:58.984800Z",
     "iopub.status.busy": "2022-04-07T11:49:58.984141Z",
     "iopub.status.idle": "2022-04-07T11:50:12.339298Z",
     "shell.execute_reply": "2022-04-07T11:50:12.338718Z",
     "shell.execute_reply.started": "2022-04-07T11:21:38.419046Z"
    },
    "papermill": {
     "duration": 13.435393,
     "end_time": "2022-04-07T11:50:12.339465",
     "exception": false,
     "start_time": "2022-04-07T11:49:58.904072",
     "status": "completed"
    },
    "tags": []
   },
   "outputs": [
    {
     "data": {
      "application/vnd.jupyter.widget-view+json": {
       "model_id": "76441d5feb6249e3b7668b21f1959f3b",
       "version_major": 2,
       "version_minor": 0
      },
      "text/plain": [
       "  0%|          | 0/3 [00:00<?, ?it/s]"
      ]
     },
     "metadata": {},
     "output_type": "display_data"
    }
   ],
   "source": [
    "annotations = annotate_ner(models['ar'],\n",
    "                           ['1 cup of frozen peas',\n",
    "                            'A dash of salt . Or to taste',\n",
    "                           '12 slices pancetta -LRB- Italian unsmoked cured bacon -RRB-'])"
   ]
  },
  {
   "cell_type": "markdown",
   "id": "8b9bad26",
   "metadata": {
    "papermill": {
     "duration": 0.077262,
     "end_time": "2022-04-07T11:50:12.494625",
     "exception": false,
     "start_time": "2022-04-07T11:50:12.417363",
     "status": "completed"
    },
    "tags": []
   },
   "source": [
    "Note here that the word \"Italian\" has ner \"NATIONALITY\", which comes from another model (it wasn't in the training set!).\n",
    "\n",
    "We want to use the `coarseNER`."
   ]
  },
  {
   "cell_type": "code",
   "execution_count": 22,
   "id": "ca60d242",
   "metadata": {
    "execution": {
     "iopub.execute_input": "2022-04-07T11:50:12.656188Z",
     "iopub.status.busy": "2022-04-07T11:50:12.655462Z",
     "iopub.status.idle": "2022-04-07T11:50:12.658273Z",
     "shell.execute_reply": "2022-04-07T11:50:12.658803Z",
     "shell.execute_reply.started": "2022-04-07T11:21:50.819011Z"
    },
    "papermill": {
     "duration": 0.086674,
     "end_time": "2022-04-07T11:50:12.658987",
     "exception": false,
     "start_time": "2022-04-07T11:50:12.572313",
     "status": "completed"
    },
    "tags": []
   },
   "outputs": [
    {
     "data": {
      "text/plain": [
       "word: \"Italian\"\n",
       "pos: \"JJ\"\n",
       "value: \"Italian\"\n",
       "originalText: \"Italian\"\n",
       "ner: \"NATIONALITY\"\n",
       "lemma: \"italian\"\n",
       "beginChar: 25\n",
       "endChar: 32\n",
       "tokenBeginIndex: 4\n",
       "tokenEndIndex: 5\n",
       "hasXmlContext: false\n",
       "isNewline: false\n",
       "coarseNER: \"O\"\n",
       "fineGrainedNER: \"NATIONALITY\"\n",
       "entityMentionIndex: 3\n",
       "nerLabelProbs: \"O=0.870902471545891\""
      ]
     },
     "execution_count": 22,
     "metadata": {},
     "output_type": "execute_result"
    }
   ],
   "source": [
    "annotations[2].sentence[0].token[4]"
   ]
  },
  {
   "cell_type": "markdown",
   "id": "0ebea72d",
   "metadata": {
    "papermill": {
     "duration": 0.080955,
     "end_time": "2022-04-07T11:50:12.819446",
     "exception": false,
     "start_time": "2022-04-07T11:50:12.738491",
     "status": "completed"
    },
    "tags": []
   },
   "source": [
    "We can then flatten the sentences and extract the NER tokens"
   ]
  },
  {
   "cell_type": "code",
   "execution_count": 23,
   "id": "0bcb91ae",
   "metadata": {
    "execution": {
     "iopub.execute_input": "2022-04-07T11:50:12.990403Z",
     "iopub.status.busy": "2022-04-07T11:50:12.989683Z",
     "iopub.status.idle": "2022-04-07T11:50:12.996444Z",
     "shell.execute_reply": "2022-04-07T11:50:12.996965Z",
     "shell.execute_reply.started": "2022-04-07T11:21:50.828690Z"
    },
    "papermill": {
     "duration": 0.099114,
     "end_time": "2022-04-07T11:50:12.997158",
     "exception": false,
     "start_time": "2022-04-07T11:50:12.898044",
     "status": "completed"
    },
    "tags": []
   },
   "outputs": [],
   "source": [
    "from dataclasses import dataclass, asdict\n",
    "\n",
    "@dataclass\n",
    "class NERData:\n",
    "    ner: List[str]\n",
    "    tokens: List[str]\n",
    "        \n",
    "    # Let's use Pandas to make it pretty in a notebook\n",
    "    def _repr_html_(self):\n",
    "        return pd.DataFrame(asdict(self)).T._repr_html_()\n",
    "\n",
    "def extract_ner_data(annotation) -> NERData:\n",
    "    tokens = [token for sentence in annotation.sentence for token in sentence.token]\n",
    "    return NERData(tokens=[t.word for t in tokens], ner=[t.coarseNER for t in tokens])"
   ]
  },
  {
   "cell_type": "markdown",
   "id": "464c3232",
   "metadata": {
    "papermill": {
     "duration": 0.079067,
     "end_time": "2022-04-07T11:50:13.155827",
     "exception": false,
     "start_time": "2022-04-07T11:50:13.076760",
     "status": "completed"
    },
    "tags": []
   },
   "source": [
    "A relatively simple ingredient works well"
   ]
  },
  {
   "cell_type": "code",
   "execution_count": 24,
   "id": "7e18aeb8",
   "metadata": {
    "execution": {
     "iopub.execute_input": "2022-04-07T11:50:13.315647Z",
     "iopub.status.busy": "2022-04-07T11:50:13.314973Z",
     "iopub.status.idle": "2022-04-07T11:50:13.323843Z",
     "shell.execute_reply": "2022-04-07T11:50:13.324356Z",
     "shell.execute_reply.started": "2022-04-07T11:21:50.843289Z"
    },
    "papermill": {
     "duration": 0.090363,
     "end_time": "2022-04-07T11:50:13.324537",
     "exception": false,
     "start_time": "2022-04-07T11:50:13.234174",
     "status": "completed"
    },
    "tags": []
   },
   "outputs": [
    {
     "data": {
      "text/html": [
       "<div>\n",
       "<style scoped>\n",
       "    .dataframe tbody tr th:only-of-type {\n",
       "        vertical-align: middle;\n",
       "    }\n",
       "\n",
       "    .dataframe tbody tr th {\n",
       "        vertical-align: top;\n",
       "    }\n",
       "\n",
       "    .dataframe thead th {\n",
       "        text-align: right;\n",
       "    }\n",
       "</style>\n",
       "<table border=\"1\" class=\"dataframe\">\n",
       "  <thead>\n",
       "    <tr style=\"text-align: right;\">\n",
       "      <th></th>\n",
       "      <th>0</th>\n",
       "      <th>1</th>\n",
       "      <th>2</th>\n",
       "      <th>3</th>\n",
       "      <th>4</th>\n",
       "    </tr>\n",
       "  </thead>\n",
       "  <tbody>\n",
       "    <tr>\n",
       "      <th>ner</th>\n",
       "      <td>QUANTITY</td>\n",
       "      <td>UNIT</td>\n",
       "      <td>O</td>\n",
       "      <td>TEMP</td>\n",
       "      <td>NAME</td>\n",
       "    </tr>\n",
       "    <tr>\n",
       "      <th>tokens</th>\n",
       "      <td>1</td>\n",
       "      <td>cup</td>\n",
       "      <td>of</td>\n",
       "      <td>frozen</td>\n",
       "      <td>peas</td>\n",
       "    </tr>\n",
       "  </tbody>\n",
       "</table>\n",
       "</div>"
      ],
      "text/plain": [
       "NERData(ner=['QUANTITY', 'UNIT', 'O', 'TEMP', 'NAME'], tokens=['1', 'cup', 'of', 'frozen', 'peas'])"
      ]
     },
     "execution_count": 24,
     "metadata": {},
     "output_type": "execute_result"
    }
   ],
   "source": [
    "extract_ner_data(annotations[0])"
   ]
  },
  {
   "cell_type": "markdown",
   "id": "0af7e50b",
   "metadata": {
    "papermill": {
     "duration": 0.09313,
     "end_time": "2022-04-07T11:50:13.496483",
     "exception": false,
     "start_time": "2022-04-07T11:50:13.403353",
     "status": "completed"
    },
    "tags": []
   },
   "source": [
    "A more complex sentence does quite badly, perhaps because this kind of thing wasn't seen."
   ]
  },
  {
   "cell_type": "code",
   "execution_count": 25,
   "id": "bc1e34a8",
   "metadata": {
    "execution": {
     "iopub.execute_input": "2022-04-07T11:50:13.667530Z",
     "iopub.status.busy": "2022-04-07T11:50:13.666821Z",
     "iopub.status.idle": "2022-04-07T11:50:13.675382Z",
     "shell.execute_reply": "2022-04-07T11:50:13.675849Z",
     "shell.execute_reply.started": "2022-04-07T11:21:50.866618Z"
    },
    "papermill": {
     "duration": 0.090796,
     "end_time": "2022-04-07T11:50:13.676043",
     "exception": false,
     "start_time": "2022-04-07T11:50:13.585247",
     "status": "completed"
    },
    "tags": []
   },
   "outputs": [
    {
     "data": {
      "text/html": [
       "<div>\n",
       "<style scoped>\n",
       "    .dataframe tbody tr th:only-of-type {\n",
       "        vertical-align: middle;\n",
       "    }\n",
       "\n",
       "    .dataframe tbody tr th {\n",
       "        vertical-align: top;\n",
       "    }\n",
       "\n",
       "    .dataframe thead th {\n",
       "        text-align: right;\n",
       "    }\n",
       "</style>\n",
       "<table border=\"1\" class=\"dataframe\">\n",
       "  <thead>\n",
       "    <tr style=\"text-align: right;\">\n",
       "      <th></th>\n",
       "      <th>0</th>\n",
       "      <th>1</th>\n",
       "      <th>2</th>\n",
       "      <th>3</th>\n",
       "      <th>4</th>\n",
       "      <th>5</th>\n",
       "      <th>6</th>\n",
       "      <th>7</th>\n",
       "    </tr>\n",
       "  </thead>\n",
       "  <tbody>\n",
       "    <tr>\n",
       "      <th>ner</th>\n",
       "      <td>QUANTITY</td>\n",
       "      <td>UNIT</td>\n",
       "      <td>NAME</td>\n",
       "      <td>NAME</td>\n",
       "      <td>NAME</td>\n",
       "      <td>NAME</td>\n",
       "      <td>O</td>\n",
       "      <td>O</td>\n",
       "    </tr>\n",
       "    <tr>\n",
       "      <th>tokens</th>\n",
       "      <td>A</td>\n",
       "      <td>dash</td>\n",
       "      <td>of</td>\n",
       "      <td>salt</td>\n",
       "      <td>.</td>\n",
       "      <td>Or</td>\n",
       "      <td>to</td>\n",
       "      <td>taste</td>\n",
       "    </tr>\n",
       "  </tbody>\n",
       "</table>\n",
       "</div>"
      ],
      "text/plain": [
       "NERData(ner=['QUANTITY', 'UNIT', 'NAME', 'NAME', 'NAME', 'NAME', 'O', 'O'], tokens=['A', 'dash', 'of', 'salt', '.', 'Or', 'to', 'taste'])"
      ]
     },
     "execution_count": 25,
     "metadata": {},
     "output_type": "execute_result"
    }
   ],
   "source": [
    "extract_ner_data(annotations[1])"
   ]
  },
  {
   "cell_type": "code",
   "execution_count": 26,
   "id": "a23905f3",
   "metadata": {
    "execution": {
     "iopub.execute_input": "2022-04-07T11:50:13.866002Z",
     "iopub.status.busy": "2022-04-07T11:50:13.864730Z",
     "iopub.status.idle": "2022-04-07T11:50:13.875159Z",
     "shell.execute_reply": "2022-04-07T11:50:13.874599Z",
     "shell.execute_reply.started": "2022-04-07T11:21:50.883489Z"
    },
    "papermill": {
     "duration": 0.118725,
     "end_time": "2022-04-07T11:50:13.875301",
     "exception": false,
     "start_time": "2022-04-07T11:50:13.756576",
     "status": "completed"
    },
    "tags": []
   },
   "outputs": [
    {
     "data": {
      "text/html": [
       "<div>\n",
       "<style scoped>\n",
       "    .dataframe tbody tr th:only-of-type {\n",
       "        vertical-align: middle;\n",
       "    }\n",
       "\n",
       "    .dataframe tbody tr th {\n",
       "        vertical-align: top;\n",
       "    }\n",
       "\n",
       "    .dataframe thead th {\n",
       "        text-align: right;\n",
       "    }\n",
       "</style>\n",
       "<table border=\"1\" class=\"dataframe\">\n",
       "  <thead>\n",
       "    <tr style=\"text-align: right;\">\n",
       "      <th></th>\n",
       "      <th>0</th>\n",
       "      <th>1</th>\n",
       "      <th>2</th>\n",
       "      <th>3</th>\n",
       "      <th>4</th>\n",
       "      <th>5</th>\n",
       "      <th>6</th>\n",
       "      <th>7</th>\n",
       "      <th>8</th>\n",
       "    </tr>\n",
       "  </thead>\n",
       "  <tbody>\n",
       "    <tr>\n",
       "      <th>ner</th>\n",
       "      <td>QUANTITY</td>\n",
       "      <td>UNIT</td>\n",
       "      <td>NAME</td>\n",
       "      <td>O</td>\n",
       "      <td>O</td>\n",
       "      <td>O</td>\n",
       "      <td>O</td>\n",
       "      <td>O</td>\n",
       "      <td>O</td>\n",
       "    </tr>\n",
       "    <tr>\n",
       "      <th>tokens</th>\n",
       "      <td>12</td>\n",
       "      <td>slices</td>\n",
       "      <td>pancetta</td>\n",
       "      <td>-LRB-</td>\n",
       "      <td>Italian</td>\n",
       "      <td>unsmoked</td>\n",
       "      <td>cured</td>\n",
       "      <td>bacon</td>\n",
       "      <td>-RRB-</td>\n",
       "    </tr>\n",
       "  </tbody>\n",
       "</table>\n",
       "</div>"
      ],
      "text/plain": [
       "NERData(ner=['QUANTITY', 'UNIT', 'NAME', 'O', 'O', 'O', 'O', 'O', 'O'], tokens=['12', 'slices', 'pancetta', '-LRB-', 'Italian', 'unsmoked', 'cured', 'bacon', '-RRB-'])"
      ]
     },
     "execution_count": 26,
     "metadata": {},
     "output_type": "execute_result"
    }
   ],
   "source": [
    "extract_ner_data(annotations[2])"
   ]
  },
  {
   "cell_type": "markdown",
   "id": "ae19fbfd",
   "metadata": {
    "papermill": {
     "duration": 0.084492,
     "end_time": "2022-04-07T11:50:14.041542",
     "exception": false,
     "start_time": "2022-04-07T11:50:13.957050",
     "status": "completed"
    },
    "tags": []
   },
   "source": [
    "We can chain these functions together to get from text to NER"
   ]
  },
  {
   "cell_type": "code",
   "execution_count": 27,
   "id": "b4fa81f0",
   "metadata": {
    "execution": {
     "iopub.execute_input": "2022-04-07T11:50:14.244616Z",
     "iopub.status.busy": "2022-04-07T11:50:14.243874Z",
     "iopub.status.idle": "2022-04-07T11:50:14.249763Z",
     "shell.execute_reply": "2022-04-07T11:50:14.249231Z",
     "shell.execute_reply.started": "2022-04-07T11:21:50.899946Z"
    },
    "papermill": {
     "duration": 0.108683,
     "end_time": "2022-04-07T11:50:14.249915",
     "exception": false,
     "start_time": "2022-04-07T11:50:14.141232",
     "status": "completed"
    },
    "tags": []
   },
   "outputs": [],
   "source": [
    "from typing import Dict\n",
    "\n",
    "def ner_extract(ner_model_file: str, texts: List[str], tokenize_whitespace: bool = True) -> List[Dict[str, List[str]]]:\n",
    "    annotations = annotate_ner(ner_model_file, texts, tokenize_whitespace)\n",
    "    return [extract_ner_data(ann) for ann in annotations]"
   ]
  },
  {
   "cell_type": "markdown",
   "id": "0ffb9cb4",
   "metadata": {
    "papermill": {
     "duration": 0.079969,
     "end_time": "2022-04-07T11:50:14.410462",
     "exception": false,
     "start_time": "2022-04-07T11:50:14.330493",
     "status": "completed"
    },
    "tags": []
   },
   "source": [
    "And then for each model, and test data we can calculate the predictions."
   ]
  },
  {
   "cell_type": "code",
   "execution_count": 28,
   "id": "7a239713",
   "metadata": {
    "execution": {
     "iopub.execute_input": "2022-04-07T11:50:14.613998Z",
     "iopub.status.busy": "2022-04-07T11:50:14.613318Z",
     "iopub.status.idle": "2022-04-07T11:54:41.935107Z",
     "shell.execute_reply": "2022-04-07T11:54:41.934481Z",
     "shell.execute_reply.started": "2022-04-07T11:21:50.918681Z"
    },
    "papermill": {
     "duration": 267.425516,
     "end_time": "2022-04-07T11:54:41.935276",
     "exception": false,
     "start_time": "2022-04-07T11:50:14.509760",
     "status": "completed"
    },
    "tags": []
   },
   "outputs": [
    {
     "data": {
      "application/vnd.jupyter.widget-view+json": {
       "model_id": "aeecf7bdfd2d49e9880fc51dc19c4f46",
       "version_major": 2,
       "version_minor": 0
      },
      "text/plain": [
       "  0%|          | 0/483 [00:00<?, ?it/s]"
      ]
     },
     "metadata": {},
     "output_type": "display_data"
    },
    {
     "data": {
      "application/vnd.jupyter.widget-view+json": {
       "model_id": "859e65aea37247bf9b53b42e186c48bc",
       "version_major": 2,
       "version_minor": 0
      },
      "text/plain": [
       "  0%|          | 0/1705 [00:00<?, ?it/s]"
      ]
     },
     "metadata": {},
     "output_type": "display_data"
    },
    {
     "data": {
      "application/vnd.jupyter.widget-view+json": {
       "model_id": "b45575ee22d541e38bc024507ba85189",
       "version_major": 2,
       "version_minor": 0
      },
      "text/plain": [
       "  0%|          | 0/483 [00:00<?, ?it/s]"
      ]
     },
     "metadata": {},
     "output_type": "display_data"
    },
    {
     "data": {
      "application/vnd.jupyter.widget-view+json": {
       "model_id": "5641dc88441e4596996cf27b431c07b4",
       "version_major": 2,
       "version_minor": 0
      },
      "text/plain": [
       "  0%|          | 0/1705 [00:00<?, ?it/s]"
      ]
     },
     "metadata": {},
     "output_type": "display_data"
    },
    {
     "data": {
      "application/vnd.jupyter.widget-view+json": {
       "model_id": "1e2f7cd55d204b5086f355f48dab2caf",
       "version_major": 2,
       "version_minor": 0
      },
      "text/plain": [
       "  0%|          | 0/483 [00:00<?, ?it/s]"
      ]
     },
     "metadata": {},
     "output_type": "display_data"
    },
    {
     "data": {
      "application/vnd.jupyter.widget-view+json": {
       "model_id": "49853b73e4e540b5aa1f4661656c7d03",
       "version_major": 2,
       "version_minor": 0
      },
      "text/plain": [
       "  0%|          | 0/1705 [00:00<?, ?it/s]"
      ]
     },
     "metadata": {},
     "output_type": "display_data"
    }
   ],
   "source": [
    "preds = {}\n",
    "for model, modelfile in models.items():\n",
    "    preds[model] = {}\n",
    "    for test_source, token_data in test_data.items():\n",
    "        texts = [' '.join([x[0] for x in text]) for text in token_data]\n",
    "        preds[model][test_source] = ner_extract(modelfile, texts)"
   ]
  },
  {
   "cell_type": "markdown",
   "id": "26115f18",
   "metadata": {
    "papermill": {
     "duration": 0.083888,
     "end_time": "2022-04-07T11:54:42.102375",
     "exception": false,
     "start_time": "2022-04-07T11:54:42.018487",
     "status": "completed"
    },
    "tags": []
   },
   "source": [
    "## Sanity checks\n",
    "\n",
    "Let's check the same tokens come through the model as were input"
   ]
  },
  {
   "cell_type": "code",
   "execution_count": 29,
   "id": "3723d3eb",
   "metadata": {
    "execution": {
     "iopub.execute_input": "2022-04-07T11:54:42.273479Z",
     "iopub.status.busy": "2022-04-07T11:54:42.272643Z",
     "iopub.status.idle": "2022-04-07T11:54:42.284340Z",
     "shell.execute_reply": "2022-04-07T11:54:42.284888Z",
     "shell.execute_reply.started": "2022-04-07T11:26:20.356292Z"
    },
    "papermill": {
     "duration": 0.099195,
     "end_time": "2022-04-07T11:54:42.285100",
     "exception": false,
     "start_time": "2022-04-07T11:54:42.185905",
     "status": "completed"
    },
    "tags": []
   },
   "outputs": [],
   "source": [
    "for test_source, token_data in test_data.items():\n",
    "    tokens = [[x[0] for x in tokens] for tokens in token_data]\n",
    "    \n",
    "    for model in models:\n",
    "        model_preds = preds[model][test_source]\n",
    "        \n",
    "        model_tokens = [p.tokens for p in model_preds]\n",
    "        \n",
    "        if tokens != model_tokens:\n",
    "            raise ValueError(\"Tokenization issue in %s with model %s\" % (test_source, model))"
   ]
  },
  {
   "cell_type": "markdown",
   "id": "fe4cf776",
   "metadata": {
    "papermill": {
     "duration": 0.083319,
     "end_time": "2022-04-07T11:54:42.451447",
     "exception": false,
     "start_time": "2022-04-07T11:54:42.368128",
     "status": "completed"
    },
    "tags": []
   },
   "source": [
    "# Evaluating\n",
    "\n",
    "Now that we have predictions we can evaulate with [seqeval](https://github.com/chakki-works/seqeval)."
   ]
  },
  {
   "cell_type": "code",
   "execution_count": 30,
   "id": "a4494540",
   "metadata": {
    "execution": {
     "iopub.execute_input": "2022-04-07T11:54:42.624690Z",
     "iopub.status.busy": "2022-04-07T11:54:42.623740Z",
     "iopub.status.idle": "2022-04-07T11:54:56.708502Z",
     "shell.execute_reply": "2022-04-07T11:54:56.709088Z",
     "shell.execute_reply.started": "2022-04-07T11:26:20.371817Z"
    },
    "papermill": {
     "duration": 14.173878,
     "end_time": "2022-04-07T11:54:56.709331",
     "exception": false,
     "start_time": "2022-04-07T11:54:42.535453",
     "status": "completed"
    },
    "tags": []
   },
   "outputs": [
    {
     "name": "stdout",
     "output_type": "stream",
     "text": [
      "Collecting seqeval\r\n",
      "  Downloading seqeval-1.2.2.tar.gz (43 kB)\r\n",
      "     |████████████████████████████████| 43 kB 265 kB/s            \r\n",
      "\u001b[?25h  Preparing metadata (setup.py) ... \u001b[?25l-\b \bdone\r\n",
      "\u001b[?25hRequirement already satisfied: numpy>=1.14.0 in /opt/conda/lib/python3.7/site-packages (from seqeval) (1.20.3)\r\n",
      "Requirement already satisfied: scikit-learn>=0.21.3 in /opt/conda/lib/python3.7/site-packages (from seqeval) (1.0.1)\r\n",
      "Requirement already satisfied: joblib>=0.11 in /opt/conda/lib/python3.7/site-packages (from scikit-learn>=0.21.3->seqeval) (1.1.0)\r\n",
      "Requirement already satisfied: threadpoolctl>=2.0.0 in /opt/conda/lib/python3.7/site-packages (from scikit-learn>=0.21.3->seqeval) (3.0.0)\r\n",
      "Requirement already satisfied: scipy>=1.1.0 in /opt/conda/lib/python3.7/site-packages (from scikit-learn>=0.21.3->seqeval) (1.7.3)\r\n",
      "Building wheels for collected packages: seqeval\r\n",
      "  Building wheel for seqeval (setup.py) ... \u001b[?25l-\b \b\\\b \b|\b \bdone\r\n",
      "\u001b[?25h  Created wheel for seqeval: filename=seqeval-1.2.2-py3-none-any.whl size=16181 sha256=8c98be131a8803c86ee19cbc56196ab7ca12a17ccb46974b3130e4b188750a9c\r\n",
      "  Stored in directory: /root/.cache/pip/wheels/05/96/ee/7cac4e74f3b19e3158dce26a20a1c86b3533c43ec72a549fd7\r\n",
      "Successfully built seqeval\r\n",
      "Installing collected packages: seqeval\r\n",
      "Successfully installed seqeval-1.2.2\r\n",
      "\u001b[33mWARNING: Running pip as the 'root' user can result in broken permissions and conflicting behaviour with the system package manager. It is recommended to use a virtual environment instead: https://pip.pypa.io/warnings/venv\u001b[0m\r\n"
     ]
    }
   ],
   "source": [
    "!pip install seqeval"
   ]
  },
  {
   "cell_type": "markdown",
   "id": "a7efa01d",
   "metadata": {
    "papermill": {
     "duration": 0.089519,
     "end_time": "2022-04-07T11:54:56.891971",
     "exception": false,
     "start_time": "2022-04-07T11:54:56.802452",
     "status": "completed"
    },
    "tags": []
   },
   "source": [
    "Seqeval expects the data to be in one of the following formats:\n",
    "\n",
    "* IOB1\n",
    "* IOB2\n",
    "* IOE1\n",
    "* IOE2\n",
    "* IOBES(only in strict mode)\n",
    "* BILOU(only in strict mode)\n",
    "\n",
    "These all become important when trying to distinguish distinct entities that are adjacent; these are quite rare in practice.\n",
    "See Wikipedia for a detailed explanation of [IOB (inside-outside-beginning)](https://en.wikipedia.org/wiki/Inside%E2%80%93outside%E2%80%93beginning_(tagging)).\n",
    "\n",
    "In this case it's assumed there's only one entity of each type (which can be wrong when multiple names are listing in a single ingredient).\n",
    "We can easily convert it to IOB1 using this assumption by prefixing every tag other than 'O' with an 'I-'."
   ]
  },
  {
   "cell_type": "code",
   "execution_count": 31,
   "id": "87b2e061",
   "metadata": {
    "execution": {
     "iopub.execute_input": "2022-04-07T11:54:57.080235Z",
     "iopub.status.busy": "2022-04-07T11:54:57.079178Z",
     "iopub.status.idle": "2022-04-07T11:54:57.082131Z",
     "shell.execute_reply": "2022-04-07T11:54:57.081504Z",
     "shell.execute_reply.started": "2022-04-07T11:26:34.307237Z"
    },
    "papermill": {
     "duration": 0.101462,
     "end_time": "2022-04-07T11:54:57.082275",
     "exception": false,
     "start_time": "2022-04-07T11:54:56.980813",
     "status": "completed"
    },
    "tags": []
   },
   "outputs": [],
   "source": [
    "def convert_to_iob1(tokens):\n",
    "    return ['I-' + label if label != 'O' else 'O' for label in tokens]\n",
    "\n",
    "assert convert_to_iob1(['QUANTITY', 'SIZE', 'NAME', 'NAME', 'O', 'STATE']) == ['I-QUANTITY', 'I-SIZE', 'I-NAME', 'I-NAME', 'O', 'I-STATE']"
   ]
  },
  {
   "cell_type": "markdown",
   "id": "8c60c7da",
   "metadata": {
    "papermill": {
     "duration": 0.088648,
     "end_time": "2022-04-07T11:54:57.260285",
     "exception": false,
     "start_time": "2022-04-07T11:54:57.171637",
     "status": "completed"
    },
    "tags": []
   },
   "source": [
    "Let's check the classification report for a single example and compare it to the report from StanfordNER.\n",
    "\n",
    "The classification report doesn't have the TP, TN and FN, but instead has the support - the number of true entities in the data.\n",
    "The set of data is equivalent:\n",
    "\n",
    "* support = TP + FN\n",
    "* TP = R * support\n",
    "* FP = TP (1/P - 1)\n",
    "* FN = support - TP\n",
    "\n",
    "The results are the same, except:\n",
    "\n",
    "* There is an extra category `NUMBER`\n",
    "* The micro f1 is a little lower"
   ]
  },
  {
   "cell_type": "code",
   "execution_count": 32,
   "id": "9cd8609a",
   "metadata": {
    "execution": {
     "iopub.execute_input": "2022-04-07T11:54:57.443839Z",
     "iopub.status.busy": "2022-04-07T11:54:57.443184Z",
     "iopub.status.idle": "2022-04-07T11:54:58.589055Z",
     "shell.execute_reply": "2022-04-07T11:54:58.589787Z",
     "shell.execute_reply.started": "2022-04-07T11:26:34.316869Z"
    },
    "papermill": {
     "duration": 1.241569,
     "end_time": "2022-04-07T11:54:58.590043",
     "exception": false,
     "start_time": "2022-04-07T11:54:57.348474",
     "status": "completed"
    },
    "tags": []
   },
   "outputs": [
    {
     "name": "stdout",
     "output_type": "stream",
     "text": [
      "              precision    recall  f1-score   support\n",
      "\n",
      "          DF     1.0000    0.9608    0.9800        51\n",
      "        NAME     0.9297    0.9279    0.9288       499\n",
      "      NUMBER     0.0000    0.0000    0.0000         0\n",
      "    QUANTITY     1.0000    0.9962    0.9981       524\n",
      "        SIZE     1.0000    1.0000    1.0000        20\n",
      "       STATE     0.9601    0.9633    0.9617       300\n",
      "        TEMP     0.8750    0.7000    0.7778        10\n",
      "        UNIT     0.9819    0.9841    0.9830       441\n",
      "\n",
      "   micro avg     0.9664    0.9669    0.9667      1845\n",
      "   macro avg     0.8433    0.8165    0.8287      1845\n",
      "weighted avg     0.9695    0.9669    0.9682      1845\n",
      "\n"
     ]
    },
    {
     "name": "stderr",
     "output_type": "stream",
     "text": [
      "/opt/conda/lib/python3.7/site-packages/seqeval/metrics/v1.py:57: UndefinedMetricWarning: Recall and F-score are ill-defined and being set to 0.0 in labels with no true samples. Use `zero_division` parameter to control this behavior.\n",
      "  _warn_prf(average, modifier, msg_start, len(result))\n"
     ]
    }
   ],
   "source": [
    "from seqeval.metrics import classification_report\n",
    "\n",
    "test_source = 'ar'\n",
    "model = 'ar'\n",
    "\n",
    "actual_ner = [convert_to_iob1([x[1] for x in ann]) for ann in test_data[test_source]]\n",
    "pred_ner = [convert_to_iob1(p.ner) for p in preds[model][test_source]]\n",
    "\n",
    "print(classification_report(actual_ner, pred_ner, digits=4))"
   ]
  },
  {
   "cell_type": "markdown",
   "id": "1f2e0fbc",
   "metadata": {
    "papermill": {
     "duration": 0.094262,
     "end_time": "2022-04-07T11:54:58.777415",
     "exception": false,
     "start_time": "2022-04-07T11:54:58.683153",
     "status": "completed"
    },
    "tags": []
   },
   "source": [
    "Somehow it's predicting `NUMBER` even though it's not a tag in the training data."
   ]
  },
  {
   "cell_type": "code",
   "execution_count": 33,
   "id": "145cd51f",
   "metadata": {
    "execution": {
     "iopub.execute_input": "2022-04-07T11:54:58.963334Z",
     "iopub.status.busy": "2022-04-07T11:54:58.962340Z",
     "iopub.status.idle": "2022-04-07T11:54:58.979990Z",
     "shell.execute_reply": "2022-04-07T11:54:58.980478Z",
     "shell.execute_reply.started": "2022-04-07T11:26:35.478712Z"
    },
    "papermill": {
     "duration": 0.113101,
     "end_time": "2022-04-07T11:54:58.980660",
     "exception": false,
     "start_time": "2022-04-07T11:54:58.867559",
     "status": "completed"
    },
    "tags": []
   },
   "outputs": [
    {
     "data": {
      "text/html": [
       "<div>\n",
       "<style scoped>\n",
       "    .dataframe tbody tr th:only-of-type {\n",
       "        vertical-align: middle;\n",
       "    }\n",
       "\n",
       "    .dataframe tbody tr th {\n",
       "        vertical-align: top;\n",
       "    }\n",
       "\n",
       "    .dataframe thead th {\n",
       "        text-align: right;\n",
       "    }\n",
       "</style>\n",
       "<table border=\"1\" class=\"dataframe\">\n",
       "  <thead>\n",
       "    <tr style=\"text-align: right;\">\n",
       "      <th></th>\n",
       "      <th>0</th>\n",
       "      <th>1</th>\n",
       "      <th>2</th>\n",
       "      <th>3</th>\n",
       "      <th>4</th>\n",
       "      <th>5</th>\n",
       "      <th>6</th>\n",
       "      <th>7</th>\n",
       "      <th>8</th>\n",
       "      <th>9</th>\n",
       "      <th>10</th>\n",
       "    </tr>\n",
       "  </thead>\n",
       "  <tbody>\n",
       "    <tr>\n",
       "      <th>ner</th>\n",
       "      <td>QUANTITY</td>\n",
       "      <td>UNIT</td>\n",
       "      <td>DF</td>\n",
       "      <td>NAME</td>\n",
       "      <td>NAME</td>\n",
       "      <td>O</td>\n",
       "      <td>STATE</td>\n",
       "      <td>O</td>\n",
       "      <td>NUMBER</td>\n",
       "      <td>O</td>\n",
       "      <td>O</td>\n",
       "    </tr>\n",
       "    <tr>\n",
       "      <th>tokens</th>\n",
       "      <td>1</td>\n",
       "      <td>pound</td>\n",
       "      <td>fresh</td>\n",
       "      <td>green</td>\n",
       "      <td>beans</td>\n",
       "      <td>,</td>\n",
       "      <td>cut</td>\n",
       "      <td>into</td>\n",
       "      <td>1</td>\n",
       "      <td>inch</td>\n",
       "      <td>pieces</td>\n",
       "    </tr>\n",
       "  </tbody>\n",
       "</table>\n",
       "</div>"
      ],
      "text/plain": [
       "NERData(ner=['QUANTITY', 'UNIT', 'DF', 'NAME', 'NAME', 'O', 'STATE', 'O', 'NUMBER', 'O', 'O'], tokens=['1', 'pound', 'fresh', 'green', 'beans', ',', 'cut', 'into', '1', 'inch', 'pieces'])"
      ]
     },
     "execution_count": 33,
     "metadata": {},
     "output_type": "execute_result"
    }
   ],
   "source": [
    "idxs = [i for i, c in enumerate(pred_ner) if 'I-NUMBER' in c]\n",
    "idx = idxs[0]\n",
    "\n",
    "preds[model][test_source][idx]"
   ]
  },
  {
   "cell_type": "markdown",
   "id": "cc4768eb",
   "metadata": {
    "papermill": {
     "duration": 0.088875,
     "end_time": "2022-04-07T11:54:59.158866",
     "exception": false,
     "start_time": "2022-04-07T11:54:59.069991",
     "status": "completed"
    },
    "tags": []
   },
   "source": [
    "I suspect there's some parameter to turn this off in the configuration, but we can post-process to filter it out."
   ]
  },
  {
   "cell_type": "code",
   "execution_count": 34,
   "id": "012678ec",
   "metadata": {
    "execution": {
     "iopub.execute_input": "2022-04-07T11:54:59.340799Z",
     "iopub.status.busy": "2022-04-07T11:54:59.339769Z",
     "iopub.status.idle": "2022-04-07T11:54:59.345182Z",
     "shell.execute_reply": "2022-04-07T11:54:59.345794Z",
     "shell.execute_reply.started": "2022-04-07T11:26:35.499459Z"
    },
    "papermill": {
     "duration": 0.098453,
     "end_time": "2022-04-07T11:54:59.345997",
     "exception": false,
     "start_time": "2022-04-07T11:54:59.247544",
     "status": "completed"
    },
    "tags": []
   },
   "outputs": [],
   "source": [
    "valid_tags = ['NAME', 'QUANTITY', 'UNIT', 'SIZE', 'DF', 'STATE', 'TEMP']\n",
    "\n",
    "valid_tags_iob1 = convert_to_iob1(valid_tags)\n",
    "\n",
    "\n",
    "def remove_invalid_tags_from_preds(pred_tags):\n",
    "    return [[tag if tag in valid_tags_iob1 else 'O' for tag in tags] for tags in pred_tags]"
   ]
  },
  {
   "cell_type": "markdown",
   "id": "c8b8592c",
   "metadata": {
    "papermill": {
     "duration": 0.089475,
     "end_time": "2022-04-07T11:54:59.526731",
     "exception": false,
     "start_time": "2022-04-07T11:54:59.437256",
     "status": "completed"
    },
    "tags": []
   },
   "source": [
    "Once we remove the hallucinated `NUMBER` tag we get exactly the same result, in particular the `micro avg f1-score` matches the f1 score."
   ]
  },
  {
   "cell_type": "code",
   "execution_count": 35,
   "id": "9357fffc",
   "metadata": {
    "execution": {
     "iopub.execute_input": "2022-04-07T11:54:59.709491Z",
     "iopub.status.busy": "2022-04-07T11:54:59.708404Z",
     "iopub.status.idle": "2022-04-07T11:54:59.815215Z",
     "shell.execute_reply": "2022-04-07T11:54:59.815719Z",
     "shell.execute_reply.started": "2022-04-07T11:26:35.519314Z"
    },
    "papermill": {
     "duration": 0.199888,
     "end_time": "2022-04-07T11:54:59.815928",
     "exception": false,
     "start_time": "2022-04-07T11:54:59.616040",
     "status": "completed"
    },
    "tags": []
   },
   "outputs": [
    {
     "name": "stdout",
     "output_type": "stream",
     "text": [
      "              precision    recall  f1-score   support\n",
      "\n",
      "          DF     1.0000    0.9608    0.9800        51\n",
      "        NAME     0.9297    0.9279    0.9288       499\n",
      "    QUANTITY     1.0000    0.9962    0.9981       524\n",
      "        SIZE     1.0000    1.0000    1.0000        20\n",
      "       STATE     0.9601    0.9633    0.9617       300\n",
      "        TEMP     0.8750    0.7000    0.7778        10\n",
      "        UNIT     0.9819    0.9841    0.9830       441\n",
      "\n",
      "   micro avg     0.9696    0.9669    0.9682      1845\n",
      "   macro avg     0.9638    0.9332    0.9471      1845\n",
      "weighted avg     0.9695    0.9669    0.9682      1845\n",
      "\n"
     ]
    }
   ],
   "source": [
    "print(classification_report(actual_ner, remove_invalid_tags_from_preds(pred_ner), digits=4))"
   ]
  },
  {
   "cell_type": "code",
   "execution_count": 36,
   "id": "fd080f3f",
   "metadata": {
    "execution": {
     "iopub.execute_input": "2022-04-07T11:55:00.049265Z",
     "iopub.status.busy": "2022-04-07T11:55:00.045070Z",
     "iopub.status.idle": "2022-04-07T11:55:00.053691Z",
     "shell.execute_reply": "2022-04-07T11:55:00.054165Z",
     "shell.execute_reply.started": "2022-04-07T11:26:35.606367Z"
    },
    "papermill": {
     "duration": 0.13214,
     "end_time": "2022-04-07T11:55:00.054346",
     "exception": false,
     "start_time": "2022-04-07T11:54:59.922206",
     "status": "completed"
    },
    "tags": []
   },
   "outputs": [
    {
     "data": {
      "text/plain": [
       "'0.9682'"
      ]
     },
     "execution_count": 36,
     "metadata": {},
     "output_type": "execute_result"
    }
   ],
   "source": [
    "from seqeval.metrics import f1_score\n",
    "'%0.4f' % f1_score(actual_ner, remove_invalid_tags_from_preds(pred_ner))"
   ]
  },
  {
   "cell_type": "markdown",
   "id": "995e87b7",
   "metadata": {
    "papermill": {
     "duration": 0.090249,
     "end_time": "2022-04-07T11:55:00.235132",
     "exception": false,
     "start_time": "2022-04-07T11:55:00.144883",
     "status": "completed"
    },
    "tags": []
   },
   "source": [
    "We can then try to reproduce Table IV by computing the f1-score for each model and data."
   ]
  },
  {
   "cell_type": "code",
   "execution_count": 37,
   "id": "087ca3d6",
   "metadata": {
    "execution": {
     "iopub.execute_input": "2022-04-07T11:55:00.447364Z",
     "iopub.status.busy": "2022-04-07T11:55:00.420591Z",
     "iopub.status.idle": "2022-04-07T11:55:00.722000Z",
     "shell.execute_reply": "2022-04-07T11:55:00.721339Z",
     "shell.execute_reply.started": "2022-04-07T11:26:35.632876Z"
    },
    "papermill": {
     "duration": 0.396916,
     "end_time": "2022-04-07T11:55:00.722152",
     "exception": false,
     "start_time": "2022-04-07T11:55:00.325236",
     "status": "completed"
    },
    "tags": []
   },
   "outputs": [],
   "source": [
    "scores = {model: {} for model in models}\n",
    "for test_source, data in test_data.items():\n",
    "    actual_ner = [convert_to_iob1([x[1] for x in ann]) for ann in data]\n",
    "    for model in models:\n",
    "        pred_ner = [convert_to_iob1(p.ner) for p in preds[model][test_source]]\n",
    "        pred_ner = remove_invalid_tags_from_preds(pred_ner)\n",
    "        scores[model][test_source] = f1_score(actual_ner, pred_ner)"
   ]
  },
  {
   "cell_type": "markdown",
   "id": "970f5dc1",
   "metadata": {
    "papermill": {
     "duration": 0.090358,
     "end_time": "2022-04-07T11:55:00.905281",
     "exception": false,
     "start_time": "2022-04-07T11:55:00.814923",
     "status": "completed"
    },
    "tags": []
   },
   "source": [
    "We also need to calculate the scores on the combined test set, by contatenating them"
   ]
  },
  {
   "cell_type": "code",
   "execution_count": 38,
   "id": "b83cdaa9",
   "metadata": {
    "execution": {
     "iopub.execute_input": "2022-04-07T11:55:01.089392Z",
     "iopub.status.busy": "2022-04-07T11:55:01.088676Z",
     "iopub.status.idle": "2022-04-07T11:55:01.383085Z",
     "shell.execute_reply": "2022-04-07T11:55:01.382453Z",
     "shell.execute_reply.started": "2022-04-07T11:26:35.876782Z"
    },
    "papermill": {
     "duration": 0.388085,
     "end_time": "2022-04-07T11:55:01.383242",
     "exception": false,
     "start_time": "2022-04-07T11:55:00.995157",
     "status": "completed"
    },
    "tags": []
   },
   "outputs": [],
   "source": [
    "actual_ner = [convert_to_iob1([x[1] for x in ann]) for data in test_data.values() for ann in data]\n",
    "for model in models:\n",
    "    pred_ner = [convert_to_iob1(p.ner) for test_source in test_data for p in preds[model][test_source]]\n",
    "    pred_ner = remove_invalid_tags_from_preds(pred_ner)\n",
    "    scores[model]['combined'] = f1_score(actual_ner, pred_ner)"
   ]
  },
  {
   "cell_type": "code",
   "execution_count": 39,
   "id": "f0211e6b",
   "metadata": {
    "execution": {
     "iopub.execute_input": "2022-04-07T11:55:01.567266Z",
     "iopub.status.busy": "2022-04-07T11:55:01.566318Z",
     "iopub.status.idle": "2022-04-07T11:55:01.648603Z",
     "shell.execute_reply": "2022-04-07T11:55:01.648091Z",
     "shell.execute_reply.started": "2022-04-07T11:26:36.109822Z"
    },
    "papermill": {
     "duration": 0.175488,
     "end_time": "2022-04-07T11:55:01.648750",
     "exception": false,
     "start_time": "2022-04-07T11:55:01.473262",
     "status": "completed"
    },
    "tags": []
   },
   "outputs": [
    {
     "data": {
      "text/html": [
       "<style type=\"text/css\">\n",
       "</style>\n",
       "<table id=\"T_4365c_\">\n",
       "  <thead>\n",
       "    <tr>\n",
       "      <th class=\"blank level0\" >&nbsp;</th>\n",
       "      <th class=\"col_heading level0 col0\" >ar</th>\n",
       "      <th class=\"col_heading level0 col1\" >gk</th>\n",
       "      <th class=\"col_heading level0 col2\" >ar_gk</th>\n",
       "    </tr>\n",
       "  </thead>\n",
       "  <tbody>\n",
       "    <tr>\n",
       "      <th id=\"T_4365c_level0_row0\" class=\"row_heading level0 row0\" >ar</th>\n",
       "      <td id=\"T_4365c_row0_col0\" class=\"data row0 col0\" >0.9682</td>\n",
       "      <td id=\"T_4365c_row0_col1\" class=\"data row0 col1\" >0.9331</td>\n",
       "      <td id=\"T_4365c_row0_col2\" class=\"data row0 col2\" >0.9704</td>\n",
       "    </tr>\n",
       "    <tr>\n",
       "      <th id=\"T_4365c_level0_row1\" class=\"row_heading level0 row1\" >gk</th>\n",
       "      <td id=\"T_4365c_row1_col0\" class=\"data row1 col0\" >0.8666</td>\n",
       "      <td id=\"T_4365c_row1_col1\" class=\"data row1 col1\" >0.9511</td>\n",
       "      <td id=\"T_4365c_row1_col2\" class=\"data row1 col2\" >0.9499</td>\n",
       "    </tr>\n",
       "    <tr>\n",
       "      <th id=\"T_4365c_level0_row2\" class=\"row_heading level0 row2\" >combined</th>\n",
       "      <td id=\"T_4365c_row2_col0\" class=\"data row2 col0\" >0.8911</td>\n",
       "      <td id=\"T_4365c_row2_col1\" class=\"data row2 col1\" >0.9469</td>\n",
       "      <td id=\"T_4365c_row2_col2\" class=\"data row2 col2\" >0.9549</td>\n",
       "    </tr>\n",
       "  </tbody>\n",
       "</table>\n"
      ],
      "text/plain": [
       "<pandas.io.formats.style.Styler at 0x7f330dc1db10>"
      ]
     },
     "execution_count": 39,
     "metadata": {},
     "output_type": "execute_result"
    }
   ],
   "source": [
    "pd.DataFrame(scores).style.format('{:0.4f}')"
   ]
  },
  {
   "cell_type": "markdown",
   "id": "9a6f1df3",
   "metadata": {
    "papermill": {
     "duration": 0.094835,
     "end_time": "2022-04-07T11:55:01.836045",
     "exception": false,
     "start_time": "2022-04-07T11:55:01.741210",
     "status": "completed"
    },
    "tags": []
   },
   "source": [
    "The results are *slightly* different to those in the paper, but all agree within 0.01 for each row.\n",
    "\n",
    "So we've successfully reproduced the results in the paper, and shown the evaulation from Stanford NER toolkit is very close to that of seqeval (if you work around hallucinated entities)."
   ]
  },
  {
   "cell_type": "code",
   "execution_count": 40,
   "id": "1fe3fa03",
   "metadata": {
    "execution": {
     "iopub.execute_input": "2022-04-07T11:55:02.031816Z",
     "iopub.status.busy": "2022-04-07T11:55:02.030854Z",
     "iopub.status.idle": "2022-04-07T11:55:02.035053Z",
     "shell.execute_reply": "2022-04-07T11:55:02.034379Z",
     "shell.execute_reply.started": "2022-04-07T11:26:36.189454Z"
    },
    "papermill": {
     "duration": 0.108081,
     "end_time": "2022-04-07T11:55:02.035200",
     "exception": false,
     "start_time": "2022-04-07T11:55:01.927119",
     "status": "completed"
    },
    "tags": []
   },
   "outputs": [
    {
     "data": {
      "text/html": [
       "<div>\n",
       "<style scoped>\n",
       "    .dataframe tbody tr th:only-of-type {\n",
       "        vertical-align: middle;\n",
       "    }\n",
       "\n",
       "    .dataframe tbody tr th {\n",
       "        vertical-align: top;\n",
       "    }\n",
       "\n",
       "    .dataframe thead th {\n",
       "        text-align: right;\n",
       "    }\n",
       "</style>\n",
       "<table border=\"1\" class=\"dataframe\">\n",
       "  <thead>\n",
       "    <tr style=\"text-align: right;\">\n",
       "      <th></th>\n",
       "      <th>AllRecipes</th>\n",
       "      <th>FOOD.com</th>\n",
       "      <th>BOTH</th>\n",
       "    </tr>\n",
       "  </thead>\n",
       "  <tbody>\n",
       "    <tr>\n",
       "      <th>AllRecipes</th>\n",
       "      <td>0.9682</td>\n",
       "      <td>0.9317</td>\n",
       "      <td>0.9709</td>\n",
       "    </tr>\n",
       "    <tr>\n",
       "      <th>FOOD.com</th>\n",
       "      <td>0.8672</td>\n",
       "      <td>0.9519</td>\n",
       "      <td>0.9498</td>\n",
       "    </tr>\n",
       "    <tr>\n",
       "      <th>BOTH</th>\n",
       "      <td>0.8972</td>\n",
       "      <td>0.9472</td>\n",
       "      <td>0.9611</td>\n",
       "    </tr>\n",
       "  </tbody>\n",
       "</table>\n",
       "</div>"
      ],
      "text/plain": [
       "            AllRecipes  FOOD.com    BOTH\n",
       "AllRecipes      0.9682    0.9317  0.9709\n",
       "FOOD.com        0.8672    0.9519  0.9498\n",
       "BOTH            0.8972    0.9472  0.9611"
      ]
     },
     "execution_count": 40,
     "metadata": {},
     "output_type": "execute_result"
    }
   ],
   "source": [
    "reported_scores = pd.DataFrame([[0.9682, 0.9317, 0.9709],\n",
    "              [0.8672, 0.9519, 0.9498],\n",
    "              [0.8972, 0.9472, 0.9611]],\n",
    "             columns = ['AllRecipes', 'FOOD.com', 'BOTH'],\n",
    "             index = ['AllRecipes', 'FOOD.com', 'BOTH'])\n",
    "reported_scores"
   ]
  }
 ],
 "metadata": {
  "kernelspec": {
   "display_name": "Python 3",
   "language": "python",
   "name": "python3"
  },
  "language_info": {
   "codemirror_mode": {
    "name": "ipython",
    "version": 3
   },
   "file_extension": ".py",
   "mimetype": "text/x-python",
   "name": "python",
   "nbconvert_exporter": "python",
   "pygments_lexer": "ipython3",
   "version": "3.7.12"
  },
  "papermill": {
   "default_parameters": {},
   "duration": 508.087189,
   "end_time": "2022-04-07T11:55:03.042651",
   "environment_variables": {},
   "exception": null,
   "input_path": "__notebook__.ipynb",
   "output_path": "__notebook__.ipynb",
   "parameters": {},
   "start_time": "2022-04-07T11:46:34.955462",
   "version": "2.3.3"
  },
  "widgets": {
   "application/vnd.jupyter.widget-state+json": {
    "state": {
     "00db0125b35a4dc4915c8d22a77372ab": {
      "model_module": "@jupyter-widgets/controls",
      "model_module_version": "1.5.0",
      "model_name": "ProgressStyleModel",
      "state": {
       "_model_module": "@jupyter-widgets/controls",
       "_model_module_version": "1.5.0",
       "_model_name": "ProgressStyleModel",
       "_view_count": null,
       "_view_module": "@jupyter-widgets/base",
       "_view_module_version": "1.2.0",
       "_view_name": "StyleView",
       "bar_color": null,
       "description_width": ""
      }
     },
     "054445199bd342a9b22b37fbdb81b6a7": {
      "model_module": "@jupyter-widgets/controls",
      "model_module_version": "1.5.0",
      "model_name": "FloatProgressModel",
      "state": {
       "_dom_classes": [],
       "_model_module": "@jupyter-widgets/controls",
       "_model_module_version": "1.5.0",
       "_model_name": "FloatProgressModel",
       "_view_count": null,
       "_view_module": "@jupyter-widgets/controls",
       "_view_module_version": "1.5.0",
       "_view_name": "ProgressView",
       "bar_style": "success",
       "description": "",
       "description_tooltip": null,
       "layout": "IPY_MODEL_3901fd69e86f4eae8a8a5acc2e23ffdb",
       "max": 483.0,
       "min": 0.0,
       "orientation": "horizontal",
       "style": "IPY_MODEL_0d0560f430c44f488492164005046c04",
       "value": 483.0
      }
     },
     "082cde0696904435971ee787d8ebe121": {
      "model_module": "@jupyter-widgets/controls",
      "model_module_version": "1.5.0",
      "model_name": "DescriptionStyleModel",
      "state": {
       "_model_module": "@jupyter-widgets/controls",
       "_model_module_version": "1.5.0",
       "_model_name": "DescriptionStyleModel",
       "_view_count": null,
       "_view_module": "@jupyter-widgets/base",
       "_view_module_version": "1.2.0",
       "_view_name": "StyleView",
       "description_width": ""
      }
     },
     "08defbf8203a41e69a8344b96e2a37b1": {
      "model_module": "@jupyter-widgets/base",
      "model_module_version": "1.2.0",
      "model_name": "LayoutModel",
      "state": {
       "_model_module": "@jupyter-widgets/base",
       "_model_module_version": "1.2.0",
       "_model_name": "LayoutModel",
       "_view_count": null,
       "_view_module": "@jupyter-widgets/base",
       "_view_module_version": "1.2.0",
       "_view_name": "LayoutView",
       "align_content": null,
       "align_items": null,
       "align_self": null,
       "border": null,
       "bottom": null,
       "display": null,
       "flex": null,
       "flex_flow": null,
       "grid_area": null,
       "grid_auto_columns": null,
       "grid_auto_flow": null,
       "grid_auto_rows": null,
       "grid_column": null,
       "grid_gap": null,
       "grid_row": null,
       "grid_template_areas": null,
       "grid_template_columns": null,
       "grid_template_rows": null,
       "height": null,
       "justify_content": null,
       "justify_items": null,
       "left": null,
       "margin": null,
       "max_height": null,
       "max_width": null,
       "min_height": null,
       "min_width": null,
       "object_fit": null,
       "object_position": null,
       "order": null,
       "overflow": null,
       "overflow_x": null,
       "overflow_y": null,
       "padding": null,
       "right": null,
       "top": null,
       "visibility": null,
       "width": null
      }
     },
     "0d0560f430c44f488492164005046c04": {
      "model_module": "@jupyter-widgets/controls",
      "model_module_version": "1.5.0",
      "model_name": "ProgressStyleModel",
      "state": {
       "_model_module": "@jupyter-widgets/controls",
       "_model_module_version": "1.5.0",
       "_model_name": "ProgressStyleModel",
       "_view_count": null,
       "_view_module": "@jupyter-widgets/base",
       "_view_module_version": "1.2.0",
       "_view_name": "StyleView",
       "bar_color": null,
       "description_width": ""
      }
     },
     "0ea7970c596a49b19b252a1d6b118524": {
      "model_module": "@jupyter-widgets/base",
      "model_module_version": "1.2.0",
      "model_name": "LayoutModel",
      "state": {
       "_model_module": "@jupyter-widgets/base",
       "_model_module_version": "1.2.0",
       "_model_name": "LayoutModel",
       "_view_count": null,
       "_view_module": "@jupyter-widgets/base",
       "_view_module_version": "1.2.0",
       "_view_name": "LayoutView",
       "align_content": null,
       "align_items": null,
       "align_self": null,
       "border": null,
       "bottom": null,
       "display": null,
       "flex": null,
       "flex_flow": null,
       "grid_area": null,
       "grid_auto_columns": null,
       "grid_auto_flow": null,
       "grid_auto_rows": null,
       "grid_column": null,
       "grid_gap": null,
       "grid_row": null,
       "grid_template_areas": null,
       "grid_template_columns": null,
       "grid_template_rows": null,
       "height": null,
       "justify_content": null,
       "justify_items": null,
       "left": null,
       "margin": null,
       "max_height": null,
       "max_width": null,
       "min_height": null,
       "min_width": null,
       "object_fit": null,
       "object_position": null,
       "order": null,
       "overflow": null,
       "overflow_x": null,
       "overflow_y": null,
       "padding": null,
       "right": null,
       "top": null,
       "visibility": null,
       "width": null
      }
     },
     "1084a541b62e46cda06b62af208c96ab": {
      "model_module": "@jupyter-widgets/controls",
      "model_module_version": "1.5.0",
      "model_name": "DescriptionStyleModel",
      "state": {
       "_model_module": "@jupyter-widgets/controls",
       "_model_module_version": "1.5.0",
       "_model_name": "DescriptionStyleModel",
       "_view_count": null,
       "_view_module": "@jupyter-widgets/base",
       "_view_module_version": "1.2.0",
       "_view_name": "StyleView",
       "description_width": ""
      }
     },
     "117c74cf58ea438bbcd1f33ae02ee082": {
      "model_module": "@jupyter-widgets/controls",
      "model_module_version": "1.5.0",
      "model_name": "HTMLModel",
      "state": {
       "_dom_classes": [],
       "_model_module": "@jupyter-widgets/controls",
       "_model_module_version": "1.5.0",
       "_model_name": "HTMLModel",
       "_view_count": null,
       "_view_module": "@jupyter-widgets/controls",
       "_view_module_version": "1.5.0",
       "_view_name": "HTMLView",
       "description": "",
       "description_tooltip": null,
       "layout": "IPY_MODEL_afff293a73c24e8e84ef2da6da060c36",
       "placeholder": "​",
       "style": "IPY_MODEL_97c9d077883a46a2bcb940bfd6bf63c0",
       "value": " 483/483 [00:28&lt;00:00, 38.86it/s]"
      }
     },
     "1320e1c0166547f2804b14deb6928904": {
      "model_module": "@jupyter-widgets/controls",
      "model_module_version": "1.5.0",
      "model_name": "HTMLModel",
      "state": {
       "_dom_classes": [],
       "_model_module": "@jupyter-widgets/controls",
       "_model_module_version": "1.5.0",
       "_model_name": "HTMLModel",
       "_view_count": null,
       "_view_module": "@jupyter-widgets/controls",
       "_view_module_version": "1.5.0",
       "_view_name": "HTMLView",
       "description": "",
       "description_tooltip": null,
       "layout": "IPY_MODEL_e5df6ae8b68143dab2311c569d71910f",
       "placeholder": "​",
       "style": "IPY_MODEL_1b290b1b40a44d878557486e97b4c014",
       "value": " 1705/1705 [00:59&lt;00:00, 36.67it/s]"
      }
     },
     "13920a31bc1b4d4a9a44c2fa84864fe8": {
      "model_module": "@jupyter-widgets/base",
      "model_module_version": "1.2.0",
      "model_name": "LayoutModel",
      "state": {
       "_model_module": "@jupyter-widgets/base",
       "_model_module_version": "1.2.0",
       "_model_name": "LayoutModel",
       "_view_count": null,
       "_view_module": "@jupyter-widgets/base",
       "_view_module_version": "1.2.0",
       "_view_name": "LayoutView",
       "align_content": null,
       "align_items": null,
       "align_self": null,
       "border": null,
       "bottom": null,
       "display": null,
       "flex": null,
       "flex_flow": null,
       "grid_area": null,
       "grid_auto_columns": null,
       "grid_auto_flow": null,
       "grid_auto_rows": null,
       "grid_column": null,
       "grid_gap": null,
       "grid_row": null,
       "grid_template_areas": null,
       "grid_template_columns": null,
       "grid_template_rows": null,
       "height": null,
       "justify_content": null,
       "justify_items": null,
       "left": null,
       "margin": null,
       "max_height": null,
       "max_width": null,
       "min_height": null,
       "min_width": null,
       "object_fit": null,
       "object_position": null,
       "order": null,
       "overflow": null,
       "overflow_x": null,
       "overflow_y": null,
       "padding": null,
       "right": null,
       "top": null,
       "visibility": null,
       "width": null
      }
     },
     "17d07ba0f6274c5688f0b468f08306d2": {
      "model_module": "@jupyter-widgets/controls",
      "model_module_version": "1.5.0",
      "model_name": "FloatProgressModel",
      "state": {
       "_dom_classes": [],
       "_model_module": "@jupyter-widgets/controls",
       "_model_module_version": "1.5.0",
       "_model_name": "FloatProgressModel",
       "_view_count": null,
       "_view_module": "@jupyter-widgets/controls",
       "_view_module_version": "1.5.0",
       "_view_name": "ProgressView",
       "bar_style": "success",
       "description": "",
       "description_tooltip": null,
       "layout": "IPY_MODEL_bd388ddb21c147779af1d71b178b12ef",
       "max": 483.0,
       "min": 0.0,
       "orientation": "horizontal",
       "style": "IPY_MODEL_d5c409c763b348b3b668a36603ecb6a6",
       "value": 483.0
      }
     },
     "19d9e46fdefa40ffa82a5cf87bdb6067": {
      "model_module": "@jupyter-widgets/controls",
      "model_module_version": "1.5.0",
      "model_name": "DescriptionStyleModel",
      "state": {
       "_model_module": "@jupyter-widgets/controls",
       "_model_module_version": "1.5.0",
       "_model_name": "DescriptionStyleModel",
       "_view_count": null,
       "_view_module": "@jupyter-widgets/base",
       "_view_module_version": "1.2.0",
       "_view_name": "StyleView",
       "description_width": ""
      }
     },
     "1b290b1b40a44d878557486e97b4c014": {
      "model_module": "@jupyter-widgets/controls",
      "model_module_version": "1.5.0",
      "model_name": "DescriptionStyleModel",
      "state": {
       "_model_module": "@jupyter-widgets/controls",
       "_model_module_version": "1.5.0",
       "_model_name": "DescriptionStyleModel",
       "_view_count": null,
       "_view_module": "@jupyter-widgets/base",
       "_view_module_version": "1.2.0",
       "_view_name": "StyleView",
       "description_width": ""
      }
     },
     "1e2f7cd55d204b5086f355f48dab2caf": {
      "model_module": "@jupyter-widgets/controls",
      "model_module_version": "1.5.0",
      "model_name": "HBoxModel",
      "state": {
       "_dom_classes": [],
       "_model_module": "@jupyter-widgets/controls",
       "_model_module_version": "1.5.0",
       "_model_name": "HBoxModel",
       "_view_count": null,
       "_view_module": "@jupyter-widgets/controls",
       "_view_module_version": "1.5.0",
       "_view_name": "HBoxView",
       "box_style": "",
       "children": [
        "IPY_MODEL_b2fae1b01ece413faa15c2e9e885bfb1",
        "IPY_MODEL_054445199bd342a9b22b37fbdb81b6a7",
        "IPY_MODEL_8b4bcc572bba4f00af7e413c10453358"
       ],
       "layout": "IPY_MODEL_c6afaee9d96147dab6c9a239c375aeda"
      }
     },
     "1fc2a09871e04d6bb25552968f34bdec": {
      "model_module": "@jupyter-widgets/controls",
      "model_module_version": "1.5.0",
      "model_name": "HTMLModel",
      "state": {
       "_dom_classes": [],
       "_model_module": "@jupyter-widgets/controls",
       "_model_module_version": "1.5.0",
       "_model_name": "HTMLModel",
       "_view_count": null,
       "_view_module": "@jupyter-widgets/controls",
       "_view_module_version": "1.5.0",
       "_view_name": "HTMLView",
       "description": "",
       "description_tooltip": null,
       "layout": "IPY_MODEL_44ec6eda506f450b952255b9f4735150",
       "placeholder": "​",
       "style": "IPY_MODEL_7f72d644c4394d27a43e4ebc7ae459e4",
       "value": " 505M/505M [00:09&lt;00:00, 56.2MB/s]"
      }
     },
     "2048cec5617746fa858ba4c79b0a4619": {
      "model_module": "@jupyter-widgets/controls",
      "model_module_version": "1.5.0",
      "model_name": "DescriptionStyleModel",
      "state": {
       "_model_module": "@jupyter-widgets/controls",
       "_model_module_version": "1.5.0",
       "_model_name": "DescriptionStyleModel",
       "_view_count": null,
       "_view_module": "@jupyter-widgets/base",
       "_view_module_version": "1.2.0",
       "_view_name": "StyleView",
       "description_width": ""
      }
     },
     "2c386d0df61248959b3a1e3b98abdc17": {
      "model_module": "@jupyter-widgets/controls",
      "model_module_version": "1.5.0",
      "model_name": "ProgressStyleModel",
      "state": {
       "_model_module": "@jupyter-widgets/controls",
       "_model_module_version": "1.5.0",
       "_model_name": "ProgressStyleModel",
       "_view_count": null,
       "_view_module": "@jupyter-widgets/base",
       "_view_module_version": "1.2.0",
       "_view_name": "StyleView",
       "bar_color": null,
       "description_width": ""
      }
     },
     "2da1344770f141329f2c473b4fb94f8f": {
      "model_module": "@jupyter-widgets/controls",
      "model_module_version": "1.5.0",
      "model_name": "HTMLModel",
      "state": {
       "_dom_classes": [],
       "_model_module": "@jupyter-widgets/controls",
       "_model_module_version": "1.5.0",
       "_model_name": "HTMLModel",
       "_view_count": null,
       "_view_module": "@jupyter-widgets/controls",
       "_view_module_version": "1.5.0",
       "_view_name": "HTMLView",
       "description": "",
       "description_tooltip": null,
       "layout": "IPY_MODEL_53fc1f49de334343a4a58969e9054bc0",
       "placeholder": "​",
       "style": "IPY_MODEL_ee18391a4c2f4e40a88b9d5aaed559e3",
       "value": "100%"
      }
     },
     "2f930cdc1ff1472dafe7f0aa439c18d9": {
      "model_module": "@jupyter-widgets/controls",
      "model_module_version": "1.5.0",
      "model_name": "DescriptionStyleModel",
      "state": {
       "_model_module": "@jupyter-widgets/controls",
       "_model_module_version": "1.5.0",
       "_model_name": "DescriptionStyleModel",
       "_view_count": null,
       "_view_module": "@jupyter-widgets/base",
       "_view_module_version": "1.2.0",
       "_view_name": "StyleView",
       "description_width": ""
      }
     },
     "327eca626ffb422181d7c8a6c1b8f702": {
      "model_module": "@jupyter-widgets/base",
      "model_module_version": "1.2.0",
      "model_name": "LayoutModel",
      "state": {
       "_model_module": "@jupyter-widgets/base",
       "_model_module_version": "1.2.0",
       "_model_name": "LayoutModel",
       "_view_count": null,
       "_view_module": "@jupyter-widgets/base",
       "_view_module_version": "1.2.0",
       "_view_name": "LayoutView",
       "align_content": null,
       "align_items": null,
       "align_self": null,
       "border": null,
       "bottom": null,
       "display": null,
       "flex": null,
       "flex_flow": null,
       "grid_area": null,
       "grid_auto_columns": null,
       "grid_auto_flow": null,
       "grid_auto_rows": null,
       "grid_column": null,
       "grid_gap": null,
       "grid_row": null,
       "grid_template_areas": null,
       "grid_template_columns": null,
       "grid_template_rows": null,
       "height": null,
       "justify_content": null,
       "justify_items": null,
       "left": null,
       "margin": null,
       "max_height": null,
       "max_width": null,
       "min_height": null,
       "min_width": null,
       "object_fit": null,
       "object_position": null,
       "order": null,
       "overflow": null,
       "overflow_x": null,
       "overflow_y": null,
       "padding": null,
       "right": null,
       "top": null,
       "visibility": null,
       "width": null
      }
     },
     "350b49ace44e4c1cb6623aed26f0abec": {
      "model_module": "@jupyter-widgets/base",
      "model_module_version": "1.2.0",
      "model_name": "LayoutModel",
      "state": {
       "_model_module": "@jupyter-widgets/base",
       "_model_module_version": "1.2.0",
       "_model_name": "LayoutModel",
       "_view_count": null,
       "_view_module": "@jupyter-widgets/base",
       "_view_module_version": "1.2.0",
       "_view_name": "LayoutView",
       "align_content": null,
       "align_items": null,
       "align_self": null,
       "border": null,
       "bottom": null,
       "display": null,
       "flex": null,
       "flex_flow": null,
       "grid_area": null,
       "grid_auto_columns": null,
       "grid_auto_flow": null,
       "grid_auto_rows": null,
       "grid_column": null,
       "grid_gap": null,
       "grid_row": null,
       "grid_template_areas": null,
       "grid_template_columns": null,
       "grid_template_rows": null,
       "height": null,
       "justify_content": null,
       "justify_items": null,
       "left": null,
       "margin": null,
       "max_height": null,
       "max_width": null,
       "min_height": null,
       "min_width": null,
       "object_fit": null,
       "object_position": null,
       "order": null,
       "overflow": null,
       "overflow_x": null,
       "overflow_y": null,
       "padding": null,
       "right": null,
       "top": null,
       "visibility": null,
       "width": null
      }
     },
     "3901fd69e86f4eae8a8a5acc2e23ffdb": {
      "model_module": "@jupyter-widgets/base",
      "model_module_version": "1.2.0",
      "model_name": "LayoutModel",
      "state": {
       "_model_module": "@jupyter-widgets/base",
       "_model_module_version": "1.2.0",
       "_model_name": "LayoutModel",
       "_view_count": null,
       "_view_module": "@jupyter-widgets/base",
       "_view_module_version": "1.2.0",
       "_view_name": "LayoutView",
       "align_content": null,
       "align_items": null,
       "align_self": null,
       "border": null,
       "bottom": null,
       "display": null,
       "flex": null,
       "flex_flow": null,
       "grid_area": null,
       "grid_auto_columns": null,
       "grid_auto_flow": null,
       "grid_auto_rows": null,
       "grid_column": null,
       "grid_gap": null,
       "grid_row": null,
       "grid_template_areas": null,
       "grid_template_columns": null,
       "grid_template_rows": null,
       "height": null,
       "justify_content": null,
       "justify_items": null,
       "left": null,
       "margin": null,
       "max_height": null,
       "max_width": null,
       "min_height": null,
       "min_width": null,
       "object_fit": null,
       "object_position": null,
       "order": null,
       "overflow": null,
       "overflow_x": null,
       "overflow_y": null,
       "padding": null,
       "right": null,
       "top": null,
       "visibility": null,
       "width": null
      }
     },
     "4014be3f6d8540e391d7ead1ec8af045": {
      "model_module": "@jupyter-widgets/base",
      "model_module_version": "1.2.0",
      "model_name": "LayoutModel",
      "state": {
       "_model_module": "@jupyter-widgets/base",
       "_model_module_version": "1.2.0",
       "_model_name": "LayoutModel",
       "_view_count": null,
       "_view_module": "@jupyter-widgets/base",
       "_view_module_version": "1.2.0",
       "_view_name": "LayoutView",
       "align_content": null,
       "align_items": null,
       "align_self": null,
       "border": null,
       "bottom": null,
       "display": null,
       "flex": null,
       "flex_flow": null,
       "grid_area": null,
       "grid_auto_columns": null,
       "grid_auto_flow": null,
       "grid_auto_rows": null,
       "grid_column": null,
       "grid_gap": null,
       "grid_row": null,
       "grid_template_areas": null,
       "grid_template_columns": null,
       "grid_template_rows": null,
       "height": null,
       "justify_content": null,
       "justify_items": null,
       "left": null,
       "margin": null,
       "max_height": null,
       "max_width": null,
       "min_height": null,
       "min_width": null,
       "object_fit": null,
       "object_position": null,
       "order": null,
       "overflow": null,
       "overflow_x": null,
       "overflow_y": null,
       "padding": null,
       "right": null,
       "top": null,
       "visibility": null,
       "width": null
      }
     },
     "41b42deb82d34d308a6370df05649e4f": {
      "model_module": "@jupyter-widgets/controls",
      "model_module_version": "1.5.0",
      "model_name": "DescriptionStyleModel",
      "state": {
       "_model_module": "@jupyter-widgets/controls",
       "_model_module_version": "1.5.0",
       "_model_name": "DescriptionStyleModel",
       "_view_count": null,
       "_view_module": "@jupyter-widgets/base",
       "_view_module_version": "1.2.0",
       "_view_name": "StyleView",
       "description_width": ""
      }
     },
     "43774af35ecf4730ab7a9c864e3174ec": {
      "model_module": "@jupyter-widgets/base",
      "model_module_version": "1.2.0",
      "model_name": "LayoutModel",
      "state": {
       "_model_module": "@jupyter-widgets/base",
       "_model_module_version": "1.2.0",
       "_model_name": "LayoutModel",
       "_view_count": null,
       "_view_module": "@jupyter-widgets/base",
       "_view_module_version": "1.2.0",
       "_view_name": "LayoutView",
       "align_content": null,
       "align_items": null,
       "align_self": null,
       "border": null,
       "bottom": null,
       "display": null,
       "flex": null,
       "flex_flow": null,
       "grid_area": null,
       "grid_auto_columns": null,
       "grid_auto_flow": null,
       "grid_auto_rows": null,
       "grid_column": null,
       "grid_gap": null,
       "grid_row": null,
       "grid_template_areas": null,
       "grid_template_columns": null,
       "grid_template_rows": null,
       "height": null,
       "justify_content": null,
       "justify_items": null,
       "left": null,
       "margin": null,
       "max_height": null,
       "max_width": null,
       "min_height": null,
       "min_width": null,
       "object_fit": null,
       "object_position": null,
       "order": null,
       "overflow": null,
       "overflow_x": null,
       "overflow_y": null,
       "padding": null,
       "right": null,
       "top": null,
       "visibility": null,
       "width": null
      }
     },
     "44ec6eda506f450b952255b9f4735150": {
      "model_module": "@jupyter-widgets/base",
      "model_module_version": "1.2.0",
      "model_name": "LayoutModel",
      "state": {
       "_model_module": "@jupyter-widgets/base",
       "_model_module_version": "1.2.0",
       "_model_name": "LayoutModel",
       "_view_count": null,
       "_view_module": "@jupyter-widgets/base",
       "_view_module_version": "1.2.0",
       "_view_name": "LayoutView",
       "align_content": null,
       "align_items": null,
       "align_self": null,
       "border": null,
       "bottom": null,
       "display": null,
       "flex": null,
       "flex_flow": null,
       "grid_area": null,
       "grid_auto_columns": null,
       "grid_auto_flow": null,
       "grid_auto_rows": null,
       "grid_column": null,
       "grid_gap": null,
       "grid_row": null,
       "grid_template_areas": null,
       "grid_template_columns": null,
       "grid_template_rows": null,
       "height": null,
       "justify_content": null,
       "justify_items": null,
       "left": null,
       "margin": null,
       "max_height": null,
       "max_width": null,
       "min_height": null,
       "min_width": null,
       "object_fit": null,
       "object_position": null,
       "order": null,
       "overflow": null,
       "overflow_x": null,
       "overflow_y": null,
       "padding": null,
       "right": null,
       "top": null,
       "visibility": null,
       "width": null
      }
     },
     "4577a7a6150e441da4196d93e7eac506": {
      "model_module": "@jupyter-widgets/controls",
      "model_module_version": "1.5.0",
      "model_name": "ProgressStyleModel",
      "state": {
       "_model_module": "@jupyter-widgets/controls",
       "_model_module_version": "1.5.0",
       "_model_name": "ProgressStyleModel",
       "_view_count": null,
       "_view_module": "@jupyter-widgets/base",
       "_view_module_version": "1.2.0",
       "_view_name": "StyleView",
       "bar_color": null,
       "description_width": ""
      }
     },
     "475e2192606641fb98c1b3fb0ddcd458": {
      "model_module": "@jupyter-widgets/base",
      "model_module_version": "1.2.0",
      "model_name": "LayoutModel",
      "state": {
       "_model_module": "@jupyter-widgets/base",
       "_model_module_version": "1.2.0",
       "_model_name": "LayoutModel",
       "_view_count": null,
       "_view_module": "@jupyter-widgets/base",
       "_view_module_version": "1.2.0",
       "_view_name": "LayoutView",
       "align_content": null,
       "align_items": null,
       "align_self": null,
       "border": null,
       "bottom": null,
       "display": null,
       "flex": null,
       "flex_flow": null,
       "grid_area": null,
       "grid_auto_columns": null,
       "grid_auto_flow": null,
       "grid_auto_rows": null,
       "grid_column": null,
       "grid_gap": null,
       "grid_row": null,
       "grid_template_areas": null,
       "grid_template_columns": null,
       "grid_template_rows": null,
       "height": null,
       "justify_content": null,
       "justify_items": null,
       "left": null,
       "margin": null,
       "max_height": null,
       "max_width": null,
       "min_height": null,
       "min_width": null,
       "object_fit": null,
       "object_position": null,
       "order": null,
       "overflow": null,
       "overflow_x": null,
       "overflow_y": null,
       "padding": null,
       "right": null,
       "top": null,
       "visibility": null,
       "width": null
      }
     },
     "4964de7ca5854454ba4c7733272a4182": {
      "model_module": "@jupyter-widgets/controls",
      "model_module_version": "1.5.0",
      "model_name": "HTMLModel",
      "state": {
       "_dom_classes": [],
       "_model_module": "@jupyter-widgets/controls",
       "_model_module_version": "1.5.0",
       "_model_name": "HTMLModel",
       "_view_count": null,
       "_view_module": "@jupyter-widgets/controls",
       "_view_module_version": "1.5.0",
       "_view_name": "HTMLView",
       "description": "",
       "description_tooltip": null,
       "layout": "IPY_MODEL_6a6df4d032bd43f1ad7d54f21125d26d",
       "placeholder": "​",
       "style": "IPY_MODEL_ce8b5392be6546cf80d0ad9f1b7d7c12",
       "value": "100%"
      }
     },
     "49853b73e4e540b5aa1f4661656c7d03": {
      "model_module": "@jupyter-widgets/controls",
      "model_module_version": "1.5.0",
      "model_name": "HBoxModel",
      "state": {
       "_dom_classes": [],
       "_model_module": "@jupyter-widgets/controls",
       "_model_module_version": "1.5.0",
       "_model_name": "HBoxModel",
       "_view_count": null,
       "_view_module": "@jupyter-widgets/controls",
       "_view_module_version": "1.5.0",
       "_view_name": "HBoxView",
       "box_style": "",
       "children": [
        "IPY_MODEL_e9187647b5c4463dab8aad3a7281d3af",
        "IPY_MODEL_4afe4178dce64d9b8e552236bda99995",
        "IPY_MODEL_1320e1c0166547f2804b14deb6928904"
       ],
       "layout": "IPY_MODEL_0ea7970c596a49b19b252a1d6b118524"
      }
     },
     "4a3cfb72d6ee4215ace04f7640c026ec": {
      "model_module": "@jupyter-widgets/controls",
      "model_module_version": "1.5.0",
      "model_name": "DescriptionStyleModel",
      "state": {
       "_model_module": "@jupyter-widgets/controls",
       "_model_module_version": "1.5.0",
       "_model_name": "DescriptionStyleModel",
       "_view_count": null,
       "_view_module": "@jupyter-widgets/base",
       "_view_module_version": "1.2.0",
       "_view_name": "StyleView",
       "description_width": ""
      }
     },
     "4afe4178dce64d9b8e552236bda99995": {
      "model_module": "@jupyter-widgets/controls",
      "model_module_version": "1.5.0",
      "model_name": "FloatProgressModel",
      "state": {
       "_dom_classes": [],
       "_model_module": "@jupyter-widgets/controls",
       "_model_module_version": "1.5.0",
       "_model_name": "FloatProgressModel",
       "_view_count": null,
       "_view_module": "@jupyter-widgets/controls",
       "_view_module_version": "1.5.0",
       "_view_name": "ProgressView",
       "bar_style": "success",
       "description": "",
       "description_tooltip": null,
       "layout": "IPY_MODEL_5f70fc311d474501b7176683a9be316b",
       "max": 1705.0,
       "min": 0.0,
       "orientation": "horizontal",
       "style": "IPY_MODEL_b44f206b3a8c4453a34c4712de49e9ec",
       "value": 1705.0
      }
     },
     "53fc1f49de334343a4a58969e9054bc0": {
      "model_module": "@jupyter-widgets/base",
      "model_module_version": "1.2.0",
      "model_name": "LayoutModel",
      "state": {
       "_model_module": "@jupyter-widgets/base",
       "_model_module_version": "1.2.0",
       "_model_name": "LayoutModel",
       "_view_count": null,
       "_view_module": "@jupyter-widgets/base",
       "_view_module_version": "1.2.0",
       "_view_name": "LayoutView",
       "align_content": null,
       "align_items": null,
       "align_self": null,
       "border": null,
       "bottom": null,
       "display": null,
       "flex": null,
       "flex_flow": null,
       "grid_area": null,
       "grid_auto_columns": null,
       "grid_auto_flow": null,
       "grid_auto_rows": null,
       "grid_column": null,
       "grid_gap": null,
       "grid_row": null,
       "grid_template_areas": null,
       "grid_template_columns": null,
       "grid_template_rows": null,
       "height": null,
       "justify_content": null,
       "justify_items": null,
       "left": null,
       "margin": null,
       "max_height": null,
       "max_width": null,
       "min_height": null,
       "min_width": null,
       "object_fit": null,
       "object_position": null,
       "order": null,
       "overflow": null,
       "overflow_x": null,
       "overflow_y": null,
       "padding": null,
       "right": null,
       "top": null,
       "visibility": null,
       "width": null
      }
     },
     "54cb0403bd8a4b7cb68e0af93a675108": {
      "model_module": "@jupyter-widgets/controls",
      "model_module_version": "1.5.0",
      "model_name": "HTMLModel",
      "state": {
       "_dom_classes": [],
       "_model_module": "@jupyter-widgets/controls",
       "_model_module_version": "1.5.0",
       "_model_name": "HTMLModel",
       "_view_count": null,
       "_view_module": "@jupyter-widgets/controls",
       "_view_module_version": "1.5.0",
       "_view_name": "HTMLView",
       "description": "",
       "description_tooltip": null,
       "layout": "IPY_MODEL_be2c24a355b7467aaa7b117c8a988840",
       "placeholder": "​",
       "style": "IPY_MODEL_c90f80f3a2984c5dba1efd2dbca9fa1d",
       "value": "100%"
      }
     },
     "55efbb06fd1142919db92cba9f306f72": {
      "model_module": "@jupyter-widgets/controls",
      "model_module_version": "1.5.0",
      "model_name": "HTMLModel",
      "state": {
       "_dom_classes": [],
       "_model_module": "@jupyter-widgets/controls",
       "_model_module_version": "1.5.0",
       "_model_name": "HTMLModel",
       "_view_count": null,
       "_view_module": "@jupyter-widgets/controls",
       "_view_module_version": "1.5.0",
       "_view_name": "HTMLView",
       "description": "",
       "description_tooltip": null,
       "layout": "IPY_MODEL_475e2192606641fb98c1b3fb0ddcd458",
       "placeholder": "​",
       "style": "IPY_MODEL_4a3cfb72d6ee4215ace04f7640c026ec",
       "value": "100%"
      }
     },
     "5641dc88441e4596996cf27b431c07b4": {
      "model_module": "@jupyter-widgets/controls",
      "model_module_version": "1.5.0",
      "model_name": "HBoxModel",
      "state": {
       "_dom_classes": [],
       "_model_module": "@jupyter-widgets/controls",
       "_model_module_version": "1.5.0",
       "_model_name": "HBoxModel",
       "_view_count": null,
       "_view_module": "@jupyter-widgets/controls",
       "_view_module_version": "1.5.0",
       "_view_name": "HBoxView",
       "box_style": "",
       "children": [
        "IPY_MODEL_54cb0403bd8a4b7cb68e0af93a675108",
        "IPY_MODEL_84151a291ec44c7fa20b243c9fb56ffb",
        "IPY_MODEL_b65c7a07653a4e97a48c77a98df9dbad"
       ],
       "layout": "IPY_MODEL_77bd16062e254a44a2c65ac6c7a1600f"
      }
     },
     "5f70fc311d474501b7176683a9be316b": {
      "model_module": "@jupyter-widgets/base",
      "model_module_version": "1.2.0",
      "model_name": "LayoutModel",
      "state": {
       "_model_module": "@jupyter-widgets/base",
       "_model_module_version": "1.2.0",
       "_model_name": "LayoutModel",
       "_view_count": null,
       "_view_module": "@jupyter-widgets/base",
       "_view_module_version": "1.2.0",
       "_view_name": "LayoutView",
       "align_content": null,
       "align_items": null,
       "align_self": null,
       "border": null,
       "bottom": null,
       "display": null,
       "flex": null,
       "flex_flow": null,
       "grid_area": null,
       "grid_auto_columns": null,
       "grid_auto_flow": null,
       "grid_auto_rows": null,
       "grid_column": null,
       "grid_gap": null,
       "grid_row": null,
       "grid_template_areas": null,
       "grid_template_columns": null,
       "grid_template_rows": null,
       "height": null,
       "justify_content": null,
       "justify_items": null,
       "left": null,
       "margin": null,
       "max_height": null,
       "max_width": null,
       "min_height": null,
       "min_width": null,
       "object_fit": null,
       "object_position": null,
       "order": null,
       "overflow": null,
       "overflow_x": null,
       "overflow_y": null,
       "padding": null,
       "right": null,
       "top": null,
       "visibility": null,
       "width": null
      }
     },
     "652bd0cc89874629949616ea2452f0ff": {
      "model_module": "@jupyter-widgets/base",
      "model_module_version": "1.2.0",
      "model_name": "LayoutModel",
      "state": {
       "_model_module": "@jupyter-widgets/base",
       "_model_module_version": "1.2.0",
       "_model_name": "LayoutModel",
       "_view_count": null,
       "_view_module": "@jupyter-widgets/base",
       "_view_module_version": "1.2.0",
       "_view_name": "LayoutView",
       "align_content": null,
       "align_items": null,
       "align_self": null,
       "border": null,
       "bottom": null,
       "display": null,
       "flex": null,
       "flex_flow": null,
       "grid_area": null,
       "grid_auto_columns": null,
       "grid_auto_flow": null,
       "grid_auto_rows": null,
       "grid_column": null,
       "grid_gap": null,
       "grid_row": null,
       "grid_template_areas": null,
       "grid_template_columns": null,
       "grid_template_rows": null,
       "height": null,
       "justify_content": null,
       "justify_items": null,
       "left": null,
       "margin": null,
       "max_height": null,
       "max_width": null,
       "min_height": null,
       "min_width": null,
       "object_fit": null,
       "object_position": null,
       "order": null,
       "overflow": null,
       "overflow_x": null,
       "overflow_y": null,
       "padding": null,
       "right": null,
       "top": null,
       "visibility": null,
       "width": null
      }
     },
     "66356b357dfe459bb021a251db5bf3bb": {
      "model_module": "@jupyter-widgets/controls",
      "model_module_version": "1.5.0",
      "model_name": "HBoxModel",
      "state": {
       "_dom_classes": [],
       "_model_module": "@jupyter-widgets/controls",
       "_model_module_version": "1.5.0",
       "_model_name": "HBoxModel",
       "_view_count": null,
       "_view_module": "@jupyter-widgets/controls",
       "_view_module_version": "1.5.0",
       "_view_name": "HBoxView",
       "box_style": "",
       "children": [
        "IPY_MODEL_f389b780c18441bf8aec59f196119889",
        "IPY_MODEL_d3c90cd4895748bd88ea80ac260184e2",
        "IPY_MODEL_1fc2a09871e04d6bb25552968f34bdec"
       ],
       "layout": "IPY_MODEL_a10f1e5044d146b993bd9b1736ee42f2"
      }
     },
     "69879f0e4edd4ad0ad886bba623c5910": {
      "model_module": "@jupyter-widgets/controls",
      "model_module_version": "1.5.0",
      "model_name": "FloatProgressModel",
      "state": {
       "_dom_classes": [],
       "_model_module": "@jupyter-widgets/controls",
       "_model_module_version": "1.5.0",
       "_model_name": "FloatProgressModel",
       "_view_count": null,
       "_view_module": "@jupyter-widgets/controls",
       "_view_module_version": "1.5.0",
       "_view_name": "ProgressView",
       "bar_style": "success",
       "description": "",
       "description_tooltip": null,
       "layout": "IPY_MODEL_e58fe231f4f54b7390ffe9c51e463aec",
       "max": 1705.0,
       "min": 0.0,
       "orientation": "horizontal",
       "style": "IPY_MODEL_8cde82f9cefe4fc28310757f2ffd8d0c",
       "value": 1705.0
      }
     },
     "6a6df4d032bd43f1ad7d54f21125d26d": {
      "model_module": "@jupyter-widgets/base",
      "model_module_version": "1.2.0",
      "model_name": "LayoutModel",
      "state": {
       "_model_module": "@jupyter-widgets/base",
       "_model_module_version": "1.2.0",
       "_model_name": "LayoutModel",
       "_view_count": null,
       "_view_module": "@jupyter-widgets/base",
       "_view_module_version": "1.2.0",
       "_view_name": "LayoutView",
       "align_content": null,
       "align_items": null,
       "align_self": null,
       "border": null,
       "bottom": null,
       "display": null,
       "flex": null,
       "flex_flow": null,
       "grid_area": null,
       "grid_auto_columns": null,
       "grid_auto_flow": null,
       "grid_auto_rows": null,
       "grid_column": null,
       "grid_gap": null,
       "grid_row": null,
       "grid_template_areas": null,
       "grid_template_columns": null,
       "grid_template_rows": null,
       "height": null,
       "justify_content": null,
       "justify_items": null,
       "left": null,
       "margin": null,
       "max_height": null,
       "max_width": null,
       "min_height": null,
       "min_width": null,
       "object_fit": null,
       "object_position": null,
       "order": null,
       "overflow": null,
       "overflow_x": null,
       "overflow_y": null,
       "padding": null,
       "right": null,
       "top": null,
       "visibility": null,
       "width": null
      }
     },
     "76441d5feb6249e3b7668b21f1959f3b": {
      "model_module": "@jupyter-widgets/controls",
      "model_module_version": "1.5.0",
      "model_name": "HBoxModel",
      "state": {
       "_dom_classes": [],
       "_model_module": "@jupyter-widgets/controls",
       "_model_module_version": "1.5.0",
       "_model_name": "HBoxModel",
       "_view_count": null,
       "_view_module": "@jupyter-widgets/controls",
       "_view_module_version": "1.5.0",
       "_view_name": "HBoxView",
       "box_style": "",
       "children": [
        "IPY_MODEL_55efbb06fd1142919db92cba9f306f72",
        "IPY_MODEL_8b27c4acecbb4e5787dc63a691fba4d8",
        "IPY_MODEL_d99e616823d34d86b0a094ff9e4aa576"
       ],
       "layout": "IPY_MODEL_652bd0cc89874629949616ea2452f0ff"
      }
     },
     "77bd16062e254a44a2c65ac6c7a1600f": {
      "model_module": "@jupyter-widgets/base",
      "model_module_version": "1.2.0",
      "model_name": "LayoutModel",
      "state": {
       "_model_module": "@jupyter-widgets/base",
       "_model_module_version": "1.2.0",
       "_model_name": "LayoutModel",
       "_view_count": null,
       "_view_module": "@jupyter-widgets/base",
       "_view_module_version": "1.2.0",
       "_view_name": "LayoutView",
       "align_content": null,
       "align_items": null,
       "align_self": null,
       "border": null,
       "bottom": null,
       "display": null,
       "flex": null,
       "flex_flow": null,
       "grid_area": null,
       "grid_auto_columns": null,
       "grid_auto_flow": null,
       "grid_auto_rows": null,
       "grid_column": null,
       "grid_gap": null,
       "grid_row": null,
       "grid_template_areas": null,
       "grid_template_columns": null,
       "grid_template_rows": null,
       "height": null,
       "justify_content": null,
       "justify_items": null,
       "left": null,
       "margin": null,
       "max_height": null,
       "max_width": null,
       "min_height": null,
       "min_width": null,
       "object_fit": null,
       "object_position": null,
       "order": null,
       "overflow": null,
       "overflow_x": null,
       "overflow_y": null,
       "padding": null,
       "right": null,
       "top": null,
       "visibility": null,
       "width": null
      }
     },
     "7f72d644c4394d27a43e4ebc7ae459e4": {
      "model_module": "@jupyter-widgets/controls",
      "model_module_version": "1.5.0",
      "model_name": "DescriptionStyleModel",
      "state": {
       "_model_module": "@jupyter-widgets/controls",
       "_model_module_version": "1.5.0",
       "_model_name": "DescriptionStyleModel",
       "_view_count": null,
       "_view_module": "@jupyter-widgets/base",
       "_view_module_version": "1.2.0",
       "_view_name": "StyleView",
       "description_width": ""
      }
     },
     "81e7ae3064634b4da52b6bb2c8558621": {
      "model_module": "@jupyter-widgets/base",
      "model_module_version": "1.2.0",
      "model_name": "LayoutModel",
      "state": {
       "_model_module": "@jupyter-widgets/base",
       "_model_module_version": "1.2.0",
       "_model_name": "LayoutModel",
       "_view_count": null,
       "_view_module": "@jupyter-widgets/base",
       "_view_module_version": "1.2.0",
       "_view_name": "LayoutView",
       "align_content": null,
       "align_items": null,
       "align_self": null,
       "border": null,
       "bottom": null,
       "display": null,
       "flex": null,
       "flex_flow": null,
       "grid_area": null,
       "grid_auto_columns": null,
       "grid_auto_flow": null,
       "grid_auto_rows": null,
       "grid_column": null,
       "grid_gap": null,
       "grid_row": null,
       "grid_template_areas": null,
       "grid_template_columns": null,
       "grid_template_rows": null,
       "height": null,
       "justify_content": null,
       "justify_items": null,
       "left": null,
       "margin": null,
       "max_height": null,
       "max_width": null,
       "min_height": null,
       "min_width": null,
       "object_fit": null,
       "object_position": null,
       "order": null,
       "overflow": null,
       "overflow_x": null,
       "overflow_y": null,
       "padding": null,
       "right": null,
       "top": null,
       "visibility": null,
       "width": null
      }
     },
     "83b5bea945f14c428f0001b499efeb34": {
      "model_module": "@jupyter-widgets/base",
      "model_module_version": "1.2.0",
      "model_name": "LayoutModel",
      "state": {
       "_model_module": "@jupyter-widgets/base",
       "_model_module_version": "1.2.0",
       "_model_name": "LayoutModel",
       "_view_count": null,
       "_view_module": "@jupyter-widgets/base",
       "_view_module_version": "1.2.0",
       "_view_name": "LayoutView",
       "align_content": null,
       "align_items": null,
       "align_self": null,
       "border": null,
       "bottom": null,
       "display": null,
       "flex": null,
       "flex_flow": null,
       "grid_area": null,
       "grid_auto_columns": null,
       "grid_auto_flow": null,
       "grid_auto_rows": null,
       "grid_column": null,
       "grid_gap": null,
       "grid_row": null,
       "grid_template_areas": null,
       "grid_template_columns": null,
       "grid_template_rows": null,
       "height": null,
       "justify_content": null,
       "justify_items": null,
       "left": null,
       "margin": null,
       "max_height": null,
       "max_width": null,
       "min_height": null,
       "min_width": null,
       "object_fit": null,
       "object_position": null,
       "order": null,
       "overflow": null,
       "overflow_x": null,
       "overflow_y": null,
       "padding": null,
       "right": null,
       "top": null,
       "visibility": null,
       "width": null
      }
     },
     "84151a291ec44c7fa20b243c9fb56ffb": {
      "model_module": "@jupyter-widgets/controls",
      "model_module_version": "1.5.0",
      "model_name": "FloatProgressModel",
      "state": {
       "_dom_classes": [],
       "_model_module": "@jupyter-widgets/controls",
       "_model_module_version": "1.5.0",
       "_model_name": "FloatProgressModel",
       "_view_count": null,
       "_view_module": "@jupyter-widgets/controls",
       "_view_module_version": "1.5.0",
       "_view_name": "ProgressView",
       "bar_style": "success",
       "description": "",
       "description_tooltip": null,
       "layout": "IPY_MODEL_43774af35ecf4730ab7a9c864e3174ec",
       "max": 1705.0,
       "min": 0.0,
       "orientation": "horizontal",
       "style": "IPY_MODEL_4577a7a6150e441da4196d93e7eac506",
       "value": 1705.0
      }
     },
     "859e65aea37247bf9b53b42e186c48bc": {
      "model_module": "@jupyter-widgets/controls",
      "model_module_version": "1.5.0",
      "model_name": "HBoxModel",
      "state": {
       "_dom_classes": [],
       "_model_module": "@jupyter-widgets/controls",
       "_model_module_version": "1.5.0",
       "_model_name": "HBoxModel",
       "_view_count": null,
       "_view_module": "@jupyter-widgets/controls",
       "_view_module_version": "1.5.0",
       "_view_name": "HBoxView",
       "box_style": "",
       "children": [
        "IPY_MODEL_2da1344770f141329f2c473b4fb94f8f",
        "IPY_MODEL_69879f0e4edd4ad0ad886bba623c5910",
        "IPY_MODEL_b2f075df925d429fbbcf3c11c17a85e5"
       ],
       "layout": "IPY_MODEL_327eca626ffb422181d7c8a6c1b8f702"
      }
     },
     "8748fe0fec8f4460acc552a6681b5cf5": {
      "model_module": "@jupyter-widgets/controls",
      "model_module_version": "1.5.0",
      "model_name": "DescriptionStyleModel",
      "state": {
       "_model_module": "@jupyter-widgets/controls",
       "_model_module_version": "1.5.0",
       "_model_name": "DescriptionStyleModel",
       "_view_count": null,
       "_view_module": "@jupyter-widgets/base",
       "_view_module_version": "1.2.0",
       "_view_name": "StyleView",
       "description_width": ""
      }
     },
     "878cf1f83fec43d8b096469876ccc5f6": {
      "model_module": "@jupyter-widgets/base",
      "model_module_version": "1.2.0",
      "model_name": "LayoutModel",
      "state": {
       "_model_module": "@jupyter-widgets/base",
       "_model_module_version": "1.2.0",
       "_model_name": "LayoutModel",
       "_view_count": null,
       "_view_module": "@jupyter-widgets/base",
       "_view_module_version": "1.2.0",
       "_view_name": "LayoutView",
       "align_content": null,
       "align_items": null,
       "align_self": null,
       "border": null,
       "bottom": null,
       "display": null,
       "flex": null,
       "flex_flow": null,
       "grid_area": null,
       "grid_auto_columns": null,
       "grid_auto_flow": null,
       "grid_auto_rows": null,
       "grid_column": null,
       "grid_gap": null,
       "grid_row": null,
       "grid_template_areas": null,
       "grid_template_columns": null,
       "grid_template_rows": null,
       "height": null,
       "justify_content": null,
       "justify_items": null,
       "left": null,
       "margin": null,
       "max_height": null,
       "max_width": null,
       "min_height": null,
       "min_width": null,
       "object_fit": null,
       "object_position": null,
       "order": null,
       "overflow": null,
       "overflow_x": null,
       "overflow_y": null,
       "padding": null,
       "right": null,
       "top": null,
       "visibility": null,
       "width": null
      }
     },
     "8b27c4acecbb4e5787dc63a691fba4d8": {
      "model_module": "@jupyter-widgets/controls",
      "model_module_version": "1.5.0",
      "model_name": "FloatProgressModel",
      "state": {
       "_dom_classes": [],
       "_model_module": "@jupyter-widgets/controls",
       "_model_module_version": "1.5.0",
       "_model_name": "FloatProgressModel",
       "_view_count": null,
       "_view_module": "@jupyter-widgets/controls",
       "_view_module_version": "1.5.0",
       "_view_name": "ProgressView",
       "bar_style": "success",
       "description": "",
       "description_tooltip": null,
       "layout": "IPY_MODEL_942345d7bab34bb79bc50fb8e98c4dc4",
       "max": 3.0,
       "min": 0.0,
       "orientation": "horizontal",
       "style": "IPY_MODEL_2c386d0df61248959b3a1e3b98abdc17",
       "value": 3.0
      }
     },
     "8b4bcc572bba4f00af7e413c10453358": {
      "model_module": "@jupyter-widgets/controls",
      "model_module_version": "1.5.0",
      "model_name": "HTMLModel",
      "state": {
       "_dom_classes": [],
       "_model_module": "@jupyter-widgets/controls",
       "_model_module_version": "1.5.0",
       "_model_name": "HTMLModel",
       "_view_count": null,
       "_view_module": "@jupyter-widgets/controls",
       "_view_module_version": "1.5.0",
       "_view_name": "HTMLView",
       "description": "",
       "description_tooltip": null,
       "layout": "IPY_MODEL_350b49ace44e4c1cb6623aed26f0abec",
       "placeholder": "​",
       "style": "IPY_MODEL_2048cec5617746fa858ba4c79b0a4619",
       "value": " 483/483 [00:28&lt;00:00, 38.38it/s]"
      }
     },
     "8cde82f9cefe4fc28310757f2ffd8d0c": {
      "model_module": "@jupyter-widgets/controls",
      "model_module_version": "1.5.0",
      "model_name": "ProgressStyleModel",
      "state": {
       "_model_module": "@jupyter-widgets/controls",
       "_model_module_version": "1.5.0",
       "_model_name": "ProgressStyleModel",
       "_view_count": null,
       "_view_module": "@jupyter-widgets/base",
       "_view_module_version": "1.2.0",
       "_view_name": "StyleView",
       "bar_color": null,
       "description_width": ""
      }
     },
     "8d240cb84a6e472abde2214065194a67": {
      "model_module": "@jupyter-widgets/base",
      "model_module_version": "1.2.0",
      "model_name": "LayoutModel",
      "state": {
       "_model_module": "@jupyter-widgets/base",
       "_model_module_version": "1.2.0",
       "_model_name": "LayoutModel",
       "_view_count": null,
       "_view_module": "@jupyter-widgets/base",
       "_view_module_version": "1.2.0",
       "_view_name": "LayoutView",
       "align_content": null,
       "align_items": null,
       "align_self": null,
       "border": null,
       "bottom": null,
       "display": null,
       "flex": null,
       "flex_flow": null,
       "grid_area": null,
       "grid_auto_columns": null,
       "grid_auto_flow": null,
       "grid_auto_rows": null,
       "grid_column": null,
       "grid_gap": null,
       "grid_row": null,
       "grid_template_areas": null,
       "grid_template_columns": null,
       "grid_template_rows": null,
       "height": null,
       "justify_content": null,
       "justify_items": null,
       "left": null,
       "margin": null,
       "max_height": null,
       "max_width": null,
       "min_height": null,
       "min_width": null,
       "object_fit": null,
       "object_position": null,
       "order": null,
       "overflow": null,
       "overflow_x": null,
       "overflow_y": null,
       "padding": null,
       "right": null,
       "top": null,
       "visibility": null,
       "width": null
      }
     },
     "942345d7bab34bb79bc50fb8e98c4dc4": {
      "model_module": "@jupyter-widgets/base",
      "model_module_version": "1.2.0",
      "model_name": "LayoutModel",
      "state": {
       "_model_module": "@jupyter-widgets/base",
       "_model_module_version": "1.2.0",
       "_model_name": "LayoutModel",
       "_view_count": null,
       "_view_module": "@jupyter-widgets/base",
       "_view_module_version": "1.2.0",
       "_view_name": "LayoutView",
       "align_content": null,
       "align_items": null,
       "align_self": null,
       "border": null,
       "bottom": null,
       "display": null,
       "flex": null,
       "flex_flow": null,
       "grid_area": null,
       "grid_auto_columns": null,
       "grid_auto_flow": null,
       "grid_auto_rows": null,
       "grid_column": null,
       "grid_gap": null,
       "grid_row": null,
       "grid_template_areas": null,
       "grid_template_columns": null,
       "grid_template_rows": null,
       "height": null,
       "justify_content": null,
       "justify_items": null,
       "left": null,
       "margin": null,
       "max_height": null,
       "max_width": null,
       "min_height": null,
       "min_width": null,
       "object_fit": null,
       "object_position": null,
       "order": null,
       "overflow": null,
       "overflow_x": null,
       "overflow_y": null,
       "padding": null,
       "right": null,
       "top": null,
       "visibility": null,
       "width": null
      }
     },
     "97c9d077883a46a2bcb940bfd6bf63c0": {
      "model_module": "@jupyter-widgets/controls",
      "model_module_version": "1.5.0",
      "model_name": "DescriptionStyleModel",
      "state": {
       "_model_module": "@jupyter-widgets/controls",
       "_model_module_version": "1.5.0",
       "_model_name": "DescriptionStyleModel",
       "_view_count": null,
       "_view_module": "@jupyter-widgets/base",
       "_view_module_version": "1.2.0",
       "_view_name": "StyleView",
       "description_width": ""
      }
     },
     "a10f1e5044d146b993bd9b1736ee42f2": {
      "model_module": "@jupyter-widgets/base",
      "model_module_version": "1.2.0",
      "model_name": "LayoutModel",
      "state": {
       "_model_module": "@jupyter-widgets/base",
       "_model_module_version": "1.2.0",
       "_model_name": "LayoutModel",
       "_view_count": null,
       "_view_module": "@jupyter-widgets/base",
       "_view_module_version": "1.2.0",
       "_view_name": "LayoutView",
       "align_content": null,
       "align_items": null,
       "align_self": null,
       "border": null,
       "bottom": null,
       "display": null,
       "flex": null,
       "flex_flow": null,
       "grid_area": null,
       "grid_auto_columns": null,
       "grid_auto_flow": null,
       "grid_auto_rows": null,
       "grid_column": null,
       "grid_gap": null,
       "grid_row": null,
       "grid_template_areas": null,
       "grid_template_columns": null,
       "grid_template_rows": null,
       "height": null,
       "justify_content": null,
       "justify_items": null,
       "left": null,
       "margin": null,
       "max_height": null,
       "max_width": null,
       "min_height": null,
       "min_width": null,
       "object_fit": null,
       "object_position": null,
       "order": null,
       "overflow": null,
       "overflow_x": null,
       "overflow_y": null,
       "padding": null,
       "right": null,
       "top": null,
       "visibility": null,
       "width": null
      }
     },
     "acdd8f11f2d643eb8f3428c95709aeb8": {
      "model_module": "@jupyter-widgets/base",
      "model_module_version": "1.2.0",
      "model_name": "LayoutModel",
      "state": {
       "_model_module": "@jupyter-widgets/base",
       "_model_module_version": "1.2.0",
       "_model_name": "LayoutModel",
       "_view_count": null,
       "_view_module": "@jupyter-widgets/base",
       "_view_module_version": "1.2.0",
       "_view_name": "LayoutView",
       "align_content": null,
       "align_items": null,
       "align_self": null,
       "border": null,
       "bottom": null,
       "display": null,
       "flex": null,
       "flex_flow": null,
       "grid_area": null,
       "grid_auto_columns": null,
       "grid_auto_flow": null,
       "grid_auto_rows": null,
       "grid_column": null,
       "grid_gap": null,
       "grid_row": null,
       "grid_template_areas": null,
       "grid_template_columns": null,
       "grid_template_rows": null,
       "height": null,
       "justify_content": null,
       "justify_items": null,
       "left": null,
       "margin": null,
       "max_height": null,
       "max_width": null,
       "min_height": null,
       "min_width": null,
       "object_fit": null,
       "object_position": null,
       "order": null,
       "overflow": null,
       "overflow_x": null,
       "overflow_y": null,
       "padding": null,
       "right": null,
       "top": null,
       "visibility": null,
       "width": null
      }
     },
     "aeecf7bdfd2d49e9880fc51dc19c4f46": {
      "model_module": "@jupyter-widgets/controls",
      "model_module_version": "1.5.0",
      "model_name": "HBoxModel",
      "state": {
       "_dom_classes": [],
       "_model_module": "@jupyter-widgets/controls",
       "_model_module_version": "1.5.0",
       "_model_name": "HBoxModel",
       "_view_count": null,
       "_view_module": "@jupyter-widgets/controls",
       "_view_module_version": "1.5.0",
       "_view_name": "HBoxView",
       "box_style": "",
       "children": [
        "IPY_MODEL_cfabba301599492d8602cb18defde698",
        "IPY_MODEL_17d07ba0f6274c5688f0b468f08306d2",
        "IPY_MODEL_f9d9308899a142a2ac922422d6bf294b"
       ],
       "layout": "IPY_MODEL_acdd8f11f2d643eb8f3428c95709aeb8"
      }
     },
     "afff293a73c24e8e84ef2da6da060c36": {
      "model_module": "@jupyter-widgets/base",
      "model_module_version": "1.2.0",
      "model_name": "LayoutModel",
      "state": {
       "_model_module": "@jupyter-widgets/base",
       "_model_module_version": "1.2.0",
       "_model_name": "LayoutModel",
       "_view_count": null,
       "_view_module": "@jupyter-widgets/base",
       "_view_module_version": "1.2.0",
       "_view_name": "LayoutView",
       "align_content": null,
       "align_items": null,
       "align_self": null,
       "border": null,
       "bottom": null,
       "display": null,
       "flex": null,
       "flex_flow": null,
       "grid_area": null,
       "grid_auto_columns": null,
       "grid_auto_flow": null,
       "grid_auto_rows": null,
       "grid_column": null,
       "grid_gap": null,
       "grid_row": null,
       "grid_template_areas": null,
       "grid_template_columns": null,
       "grid_template_rows": null,
       "height": null,
       "justify_content": null,
       "justify_items": null,
       "left": null,
       "margin": null,
       "max_height": null,
       "max_width": null,
       "min_height": null,
       "min_width": null,
       "object_fit": null,
       "object_position": null,
       "order": null,
       "overflow": null,
       "overflow_x": null,
       "overflow_y": null,
       "padding": null,
       "right": null,
       "top": null,
       "visibility": null,
       "width": null
      }
     },
     "b2f075df925d429fbbcf3c11c17a85e5": {
      "model_module": "@jupyter-widgets/controls",
      "model_module_version": "1.5.0",
      "model_name": "HTMLModel",
      "state": {
       "_dom_classes": [],
       "_model_module": "@jupyter-widgets/controls",
       "_model_module_version": "1.5.0",
       "_model_name": "HTMLModel",
       "_view_count": null,
       "_view_module": "@jupyter-widgets/controls",
       "_view_module_version": "1.5.0",
       "_view_name": "HTMLView",
       "description": "",
       "description_tooltip": null,
       "layout": "IPY_MODEL_81e7ae3064634b4da52b6bb2c8558621",
       "placeholder": "​",
       "style": "IPY_MODEL_dab840053d2d4e15a4d90845ed21260e",
       "value": " 1705/1705 [00:58&lt;00:00, 36.84it/s]"
      }
     },
     "b2fae1b01ece413faa15c2e9e885bfb1": {
      "model_module": "@jupyter-widgets/controls",
      "model_module_version": "1.5.0",
      "model_name": "HTMLModel",
      "state": {
       "_dom_classes": [],
       "_model_module": "@jupyter-widgets/controls",
       "_model_module_version": "1.5.0",
       "_model_name": "HTMLModel",
       "_view_count": null,
       "_view_module": "@jupyter-widgets/controls",
       "_view_module_version": "1.5.0",
       "_view_name": "HTMLView",
       "description": "",
       "description_tooltip": null,
       "layout": "IPY_MODEL_cc9b6acc8e354d8bba4d964ada617df8",
       "placeholder": "​",
       "style": "IPY_MODEL_e6c0dae4813541e4b9e0c5456051aecf",
       "value": "100%"
      }
     },
     "b44f206b3a8c4453a34c4712de49e9ec": {
      "model_module": "@jupyter-widgets/controls",
      "model_module_version": "1.5.0",
      "model_name": "ProgressStyleModel",
      "state": {
       "_model_module": "@jupyter-widgets/controls",
       "_model_module_version": "1.5.0",
       "_model_name": "ProgressStyleModel",
       "_view_count": null,
       "_view_module": "@jupyter-widgets/base",
       "_view_module_version": "1.2.0",
       "_view_name": "StyleView",
       "bar_color": null,
       "description_width": ""
      }
     },
     "b45575ee22d541e38bc024507ba85189": {
      "model_module": "@jupyter-widgets/controls",
      "model_module_version": "1.5.0",
      "model_name": "HBoxModel",
      "state": {
       "_dom_classes": [],
       "_model_module": "@jupyter-widgets/controls",
       "_model_module_version": "1.5.0",
       "_model_name": "HBoxModel",
       "_view_count": null,
       "_view_module": "@jupyter-widgets/controls",
       "_view_module_version": "1.5.0",
       "_view_name": "HBoxView",
       "box_style": "",
       "children": [
        "IPY_MODEL_4964de7ca5854454ba4c7733272a4182",
        "IPY_MODEL_e34a9d9ae8a34c9eae608fa864ea3c65",
        "IPY_MODEL_117c74cf58ea438bbcd1f33ae02ee082"
       ],
       "layout": "IPY_MODEL_4014be3f6d8540e391d7ead1ec8af045"
      }
     },
     "b65c7a07653a4e97a48c77a98df9dbad": {
      "model_module": "@jupyter-widgets/controls",
      "model_module_version": "1.5.0",
      "model_name": "HTMLModel",
      "state": {
       "_dom_classes": [],
       "_model_module": "@jupyter-widgets/controls",
       "_model_module_version": "1.5.0",
       "_model_name": "HTMLModel",
       "_view_count": null,
       "_view_module": "@jupyter-widgets/controls",
       "_view_module_version": "1.5.0",
       "_view_name": "HTMLView",
       "description": "",
       "description_tooltip": null,
       "layout": "IPY_MODEL_d5da6edd20ef4b52b62b880e97789762",
       "placeholder": "​",
       "style": "IPY_MODEL_8748fe0fec8f4460acc552a6681b5cf5",
       "value": " 1705/1705 [01:02&lt;00:00, 35.12it/s]"
      }
     },
     "bd388ddb21c147779af1d71b178b12ef": {
      "model_module": "@jupyter-widgets/base",
      "model_module_version": "1.2.0",
      "model_name": "LayoutModel",
      "state": {
       "_model_module": "@jupyter-widgets/base",
       "_model_module_version": "1.2.0",
       "_model_name": "LayoutModel",
       "_view_count": null,
       "_view_module": "@jupyter-widgets/base",
       "_view_module_version": "1.2.0",
       "_view_name": "LayoutView",
       "align_content": null,
       "align_items": null,
       "align_self": null,
       "border": null,
       "bottom": null,
       "display": null,
       "flex": null,
       "flex_flow": null,
       "grid_area": null,
       "grid_auto_columns": null,
       "grid_auto_flow": null,
       "grid_auto_rows": null,
       "grid_column": null,
       "grid_gap": null,
       "grid_row": null,
       "grid_template_areas": null,
       "grid_template_columns": null,
       "grid_template_rows": null,
       "height": null,
       "justify_content": null,
       "justify_items": null,
       "left": null,
       "margin": null,
       "max_height": null,
       "max_width": null,
       "min_height": null,
       "min_width": null,
       "object_fit": null,
       "object_position": null,
       "order": null,
       "overflow": null,
       "overflow_x": null,
       "overflow_y": null,
       "padding": null,
       "right": null,
       "top": null,
       "visibility": null,
       "width": null
      }
     },
     "be2c24a355b7467aaa7b117c8a988840": {
      "model_module": "@jupyter-widgets/base",
      "model_module_version": "1.2.0",
      "model_name": "LayoutModel",
      "state": {
       "_model_module": "@jupyter-widgets/base",
       "_model_module_version": "1.2.0",
       "_model_name": "LayoutModel",
       "_view_count": null,
       "_view_module": "@jupyter-widgets/base",
       "_view_module_version": "1.2.0",
       "_view_name": "LayoutView",
       "align_content": null,
       "align_items": null,
       "align_self": null,
       "border": null,
       "bottom": null,
       "display": null,
       "flex": null,
       "flex_flow": null,
       "grid_area": null,
       "grid_auto_columns": null,
       "grid_auto_flow": null,
       "grid_auto_rows": null,
       "grid_column": null,
       "grid_gap": null,
       "grid_row": null,
       "grid_template_areas": null,
       "grid_template_columns": null,
       "grid_template_rows": null,
       "height": null,
       "justify_content": null,
       "justify_items": null,
       "left": null,
       "margin": null,
       "max_height": null,
       "max_width": null,
       "min_height": null,
       "min_width": null,
       "object_fit": null,
       "object_position": null,
       "order": null,
       "overflow": null,
       "overflow_x": null,
       "overflow_y": null,
       "padding": null,
       "right": null,
       "top": null,
       "visibility": null,
       "width": null
      }
     },
     "c01e71fa7de44782aefbbe7476633927": {
      "model_module": "@jupyter-widgets/controls",
      "model_module_version": "1.5.0",
      "model_name": "ProgressStyleModel",
      "state": {
       "_model_module": "@jupyter-widgets/controls",
       "_model_module_version": "1.5.0",
       "_model_name": "ProgressStyleModel",
       "_view_count": null,
       "_view_module": "@jupyter-widgets/base",
       "_view_module_version": "1.2.0",
       "_view_name": "StyleView",
       "bar_color": null,
       "description_width": ""
      }
     },
     "c6afaee9d96147dab6c9a239c375aeda": {
      "model_module": "@jupyter-widgets/base",
      "model_module_version": "1.2.0",
      "model_name": "LayoutModel",
      "state": {
       "_model_module": "@jupyter-widgets/base",
       "_model_module_version": "1.2.0",
       "_model_name": "LayoutModel",
       "_view_count": null,
       "_view_module": "@jupyter-widgets/base",
       "_view_module_version": "1.2.0",
       "_view_name": "LayoutView",
       "align_content": null,
       "align_items": null,
       "align_self": null,
       "border": null,
       "bottom": null,
       "display": null,
       "flex": null,
       "flex_flow": null,
       "grid_area": null,
       "grid_auto_columns": null,
       "grid_auto_flow": null,
       "grid_auto_rows": null,
       "grid_column": null,
       "grid_gap": null,
       "grid_row": null,
       "grid_template_areas": null,
       "grid_template_columns": null,
       "grid_template_rows": null,
       "height": null,
       "justify_content": null,
       "justify_items": null,
       "left": null,
       "margin": null,
       "max_height": null,
       "max_width": null,
       "min_height": null,
       "min_width": null,
       "object_fit": null,
       "object_position": null,
       "order": null,
       "overflow": null,
       "overflow_x": null,
       "overflow_y": null,
       "padding": null,
       "right": null,
       "top": null,
       "visibility": null,
       "width": null
      }
     },
     "c90f80f3a2984c5dba1efd2dbca9fa1d": {
      "model_module": "@jupyter-widgets/controls",
      "model_module_version": "1.5.0",
      "model_name": "DescriptionStyleModel",
      "state": {
       "_model_module": "@jupyter-widgets/controls",
       "_model_module_version": "1.5.0",
       "_model_name": "DescriptionStyleModel",
       "_view_count": null,
       "_view_module": "@jupyter-widgets/base",
       "_view_module_version": "1.2.0",
       "_view_name": "StyleView",
       "description_width": ""
      }
     },
     "cc9b6acc8e354d8bba4d964ada617df8": {
      "model_module": "@jupyter-widgets/base",
      "model_module_version": "1.2.0",
      "model_name": "LayoutModel",
      "state": {
       "_model_module": "@jupyter-widgets/base",
       "_model_module_version": "1.2.0",
       "_model_name": "LayoutModel",
       "_view_count": null,
       "_view_module": "@jupyter-widgets/base",
       "_view_module_version": "1.2.0",
       "_view_name": "LayoutView",
       "align_content": null,
       "align_items": null,
       "align_self": null,
       "border": null,
       "bottom": null,
       "display": null,
       "flex": null,
       "flex_flow": null,
       "grid_area": null,
       "grid_auto_columns": null,
       "grid_auto_flow": null,
       "grid_auto_rows": null,
       "grid_column": null,
       "grid_gap": null,
       "grid_row": null,
       "grid_template_areas": null,
       "grid_template_columns": null,
       "grid_template_rows": null,
       "height": null,
       "justify_content": null,
       "justify_items": null,
       "left": null,
       "margin": null,
       "max_height": null,
       "max_width": null,
       "min_height": null,
       "min_width": null,
       "object_fit": null,
       "object_position": null,
       "order": null,
       "overflow": null,
       "overflow_x": null,
       "overflow_y": null,
       "padding": null,
       "right": null,
       "top": null,
       "visibility": null,
       "width": null
      }
     },
     "ce8b5392be6546cf80d0ad9f1b7d7c12": {
      "model_module": "@jupyter-widgets/controls",
      "model_module_version": "1.5.0",
      "model_name": "DescriptionStyleModel",
      "state": {
       "_model_module": "@jupyter-widgets/controls",
       "_model_module_version": "1.5.0",
       "_model_name": "DescriptionStyleModel",
       "_view_count": null,
       "_view_module": "@jupyter-widgets/base",
       "_view_module_version": "1.2.0",
       "_view_name": "StyleView",
       "description_width": ""
      }
     },
     "cfabba301599492d8602cb18defde698": {
      "model_module": "@jupyter-widgets/controls",
      "model_module_version": "1.5.0",
      "model_name": "HTMLModel",
      "state": {
       "_dom_classes": [],
       "_model_module": "@jupyter-widgets/controls",
       "_model_module_version": "1.5.0",
       "_model_name": "HTMLModel",
       "_view_count": null,
       "_view_module": "@jupyter-widgets/controls",
       "_view_module_version": "1.5.0",
       "_view_name": "HTMLView",
       "description": "",
       "description_tooltip": null,
       "layout": "IPY_MODEL_f8f568c36732496daeeef3f87992b316",
       "placeholder": "​",
       "style": "IPY_MODEL_2f930cdc1ff1472dafe7f0aa439c18d9",
       "value": "100%"
      }
     },
     "d3c90cd4895748bd88ea80ac260184e2": {
      "model_module": "@jupyter-widgets/controls",
      "model_module_version": "1.5.0",
      "model_name": "FloatProgressModel",
      "state": {
       "_dom_classes": [],
       "_model_module": "@jupyter-widgets/controls",
       "_model_module_version": "1.5.0",
       "_model_name": "FloatProgressModel",
       "_view_count": null,
       "_view_module": "@jupyter-widgets/controls",
       "_view_module_version": "1.5.0",
       "_view_name": "ProgressView",
       "bar_style": "success",
       "description": "",
       "description_tooltip": null,
       "layout": "IPY_MODEL_878cf1f83fec43d8b096469876ccc5f6",
       "max": 505207915.0,
       "min": 0.0,
       "orientation": "horizontal",
       "style": "IPY_MODEL_00db0125b35a4dc4915c8d22a77372ab",
       "value": 505207915.0
      }
     },
     "d5c409c763b348b3b668a36603ecb6a6": {
      "model_module": "@jupyter-widgets/controls",
      "model_module_version": "1.5.0",
      "model_name": "ProgressStyleModel",
      "state": {
       "_model_module": "@jupyter-widgets/controls",
       "_model_module_version": "1.5.0",
       "_model_name": "ProgressStyleModel",
       "_view_count": null,
       "_view_module": "@jupyter-widgets/base",
       "_view_module_version": "1.2.0",
       "_view_name": "StyleView",
       "bar_color": null,
       "description_width": ""
      }
     },
     "d5da6edd20ef4b52b62b880e97789762": {
      "model_module": "@jupyter-widgets/base",
      "model_module_version": "1.2.0",
      "model_name": "LayoutModel",
      "state": {
       "_model_module": "@jupyter-widgets/base",
       "_model_module_version": "1.2.0",
       "_model_name": "LayoutModel",
       "_view_count": null,
       "_view_module": "@jupyter-widgets/base",
       "_view_module_version": "1.2.0",
       "_view_name": "LayoutView",
       "align_content": null,
       "align_items": null,
       "align_self": null,
       "border": null,
       "bottom": null,
       "display": null,
       "flex": null,
       "flex_flow": null,
       "grid_area": null,
       "grid_auto_columns": null,
       "grid_auto_flow": null,
       "grid_auto_rows": null,
       "grid_column": null,
       "grid_gap": null,
       "grid_row": null,
       "grid_template_areas": null,
       "grid_template_columns": null,
       "grid_template_rows": null,
       "height": null,
       "justify_content": null,
       "justify_items": null,
       "left": null,
       "margin": null,
       "max_height": null,
       "max_width": null,
       "min_height": null,
       "min_width": null,
       "object_fit": null,
       "object_position": null,
       "order": null,
       "overflow": null,
       "overflow_x": null,
       "overflow_y": null,
       "padding": null,
       "right": null,
       "top": null,
       "visibility": null,
       "width": null
      }
     },
     "d99e616823d34d86b0a094ff9e4aa576": {
      "model_module": "@jupyter-widgets/controls",
      "model_module_version": "1.5.0",
      "model_name": "HTMLModel",
      "state": {
       "_dom_classes": [],
       "_model_module": "@jupyter-widgets/controls",
       "_model_module_version": "1.5.0",
       "_model_name": "HTMLModel",
       "_view_count": null,
       "_view_module": "@jupyter-widgets/controls",
       "_view_module_version": "1.5.0",
       "_view_name": "HTMLView",
       "description": "",
       "description_tooltip": null,
       "layout": "IPY_MODEL_8d240cb84a6e472abde2214065194a67",
       "placeholder": "​",
       "style": "IPY_MODEL_082cde0696904435971ee787d8ebe121",
       "value": " 3/3 [00:12&lt;00:00,  2.98s/it]"
      }
     },
     "dab840053d2d4e15a4d90845ed21260e": {
      "model_module": "@jupyter-widgets/controls",
      "model_module_version": "1.5.0",
      "model_name": "DescriptionStyleModel",
      "state": {
       "_model_module": "@jupyter-widgets/controls",
       "_model_module_version": "1.5.0",
       "_model_name": "DescriptionStyleModel",
       "_view_count": null,
       "_view_module": "@jupyter-widgets/base",
       "_view_module_version": "1.2.0",
       "_view_name": "StyleView",
       "description_width": ""
      }
     },
     "e34a9d9ae8a34c9eae608fa864ea3c65": {
      "model_module": "@jupyter-widgets/controls",
      "model_module_version": "1.5.0",
      "model_name": "FloatProgressModel",
      "state": {
       "_dom_classes": [],
       "_model_module": "@jupyter-widgets/controls",
       "_model_module_version": "1.5.0",
       "_model_name": "FloatProgressModel",
       "_view_count": null,
       "_view_module": "@jupyter-widgets/controls",
       "_view_module_version": "1.5.0",
       "_view_name": "ProgressView",
       "bar_style": "success",
       "description": "",
       "description_tooltip": null,
       "layout": "IPY_MODEL_08defbf8203a41e69a8344b96e2a37b1",
       "max": 483.0,
       "min": 0.0,
       "orientation": "horizontal",
       "style": "IPY_MODEL_c01e71fa7de44782aefbbe7476633927",
       "value": 483.0
      }
     },
     "e58fe231f4f54b7390ffe9c51e463aec": {
      "model_module": "@jupyter-widgets/base",
      "model_module_version": "1.2.0",
      "model_name": "LayoutModel",
      "state": {
       "_model_module": "@jupyter-widgets/base",
       "_model_module_version": "1.2.0",
       "_model_name": "LayoutModel",
       "_view_count": null,
       "_view_module": "@jupyter-widgets/base",
       "_view_module_version": "1.2.0",
       "_view_name": "LayoutView",
       "align_content": null,
       "align_items": null,
       "align_self": null,
       "border": null,
       "bottom": null,
       "display": null,
       "flex": null,
       "flex_flow": null,
       "grid_area": null,
       "grid_auto_columns": null,
       "grid_auto_flow": null,
       "grid_auto_rows": null,
       "grid_column": null,
       "grid_gap": null,
       "grid_row": null,
       "grid_template_areas": null,
       "grid_template_columns": null,
       "grid_template_rows": null,
       "height": null,
       "justify_content": null,
       "justify_items": null,
       "left": null,
       "margin": null,
       "max_height": null,
       "max_width": null,
       "min_height": null,
       "min_width": null,
       "object_fit": null,
       "object_position": null,
       "order": null,
       "overflow": null,
       "overflow_x": null,
       "overflow_y": null,
       "padding": null,
       "right": null,
       "top": null,
       "visibility": null,
       "width": null
      }
     },
     "e5df6ae8b68143dab2311c569d71910f": {
      "model_module": "@jupyter-widgets/base",
      "model_module_version": "1.2.0",
      "model_name": "LayoutModel",
      "state": {
       "_model_module": "@jupyter-widgets/base",
       "_model_module_version": "1.2.0",
       "_model_name": "LayoutModel",
       "_view_count": null,
       "_view_module": "@jupyter-widgets/base",
       "_view_module_version": "1.2.0",
       "_view_name": "LayoutView",
       "align_content": null,
       "align_items": null,
       "align_self": null,
       "border": null,
       "bottom": null,
       "display": null,
       "flex": null,
       "flex_flow": null,
       "grid_area": null,
       "grid_auto_columns": null,
       "grid_auto_flow": null,
       "grid_auto_rows": null,
       "grid_column": null,
       "grid_gap": null,
       "grid_row": null,
       "grid_template_areas": null,
       "grid_template_columns": null,
       "grid_template_rows": null,
       "height": null,
       "justify_content": null,
       "justify_items": null,
       "left": null,
       "margin": null,
       "max_height": null,
       "max_width": null,
       "min_height": null,
       "min_width": null,
       "object_fit": null,
       "object_position": null,
       "order": null,
       "overflow": null,
       "overflow_x": null,
       "overflow_y": null,
       "padding": null,
       "right": null,
       "top": null,
       "visibility": null,
       "width": null
      }
     },
     "e6c0dae4813541e4b9e0c5456051aecf": {
      "model_module": "@jupyter-widgets/controls",
      "model_module_version": "1.5.0",
      "model_name": "DescriptionStyleModel",
      "state": {
       "_model_module": "@jupyter-widgets/controls",
       "_model_module_version": "1.5.0",
       "_model_name": "DescriptionStyleModel",
       "_view_count": null,
       "_view_module": "@jupyter-widgets/base",
       "_view_module_version": "1.2.0",
       "_view_name": "StyleView",
       "description_width": ""
      }
     },
     "e9187647b5c4463dab8aad3a7281d3af": {
      "model_module": "@jupyter-widgets/controls",
      "model_module_version": "1.5.0",
      "model_name": "HTMLModel",
      "state": {
       "_dom_classes": [],
       "_model_module": "@jupyter-widgets/controls",
       "_model_module_version": "1.5.0",
       "_model_name": "HTMLModel",
       "_view_count": null,
       "_view_module": "@jupyter-widgets/controls",
       "_view_module_version": "1.5.0",
       "_view_name": "HTMLView",
       "description": "",
       "description_tooltip": null,
       "layout": "IPY_MODEL_13920a31bc1b4d4a9a44c2fa84864fe8",
       "placeholder": "​",
       "style": "IPY_MODEL_19d9e46fdefa40ffa82a5cf87bdb6067",
       "value": "100%"
      }
     },
     "e9cb0d9cf89446eaa2dfe7878fec2eff": {
      "model_module": "@jupyter-widgets/base",
      "model_module_version": "1.2.0",
      "model_name": "LayoutModel",
      "state": {
       "_model_module": "@jupyter-widgets/base",
       "_model_module_version": "1.2.0",
       "_model_name": "LayoutModel",
       "_view_count": null,
       "_view_module": "@jupyter-widgets/base",
       "_view_module_version": "1.2.0",
       "_view_name": "LayoutView",
       "align_content": null,
       "align_items": null,
       "align_self": null,
       "border": null,
       "bottom": null,
       "display": null,
       "flex": null,
       "flex_flow": null,
       "grid_area": null,
       "grid_auto_columns": null,
       "grid_auto_flow": null,
       "grid_auto_rows": null,
       "grid_column": null,
       "grid_gap": null,
       "grid_row": null,
       "grid_template_areas": null,
       "grid_template_columns": null,
       "grid_template_rows": null,
       "height": null,
       "justify_content": null,
       "justify_items": null,
       "left": null,
       "margin": null,
       "max_height": null,
       "max_width": null,
       "min_height": null,
       "min_width": null,
       "object_fit": null,
       "object_position": null,
       "order": null,
       "overflow": null,
       "overflow_x": null,
       "overflow_y": null,
       "padding": null,
       "right": null,
       "top": null,
       "visibility": null,
       "width": null
      }
     },
     "ee18391a4c2f4e40a88b9d5aaed559e3": {
      "model_module": "@jupyter-widgets/controls",
      "model_module_version": "1.5.0",
      "model_name": "DescriptionStyleModel",
      "state": {
       "_model_module": "@jupyter-widgets/controls",
       "_model_module_version": "1.5.0",
       "_model_name": "DescriptionStyleModel",
       "_view_count": null,
       "_view_module": "@jupyter-widgets/base",
       "_view_module_version": "1.2.0",
       "_view_name": "StyleView",
       "description_width": ""
      }
     },
     "f389b780c18441bf8aec59f196119889": {
      "model_module": "@jupyter-widgets/controls",
      "model_module_version": "1.5.0",
      "model_name": "HTMLModel",
      "state": {
       "_dom_classes": [],
       "_model_module": "@jupyter-widgets/controls",
       "_model_module_version": "1.5.0",
       "_model_name": "HTMLModel",
       "_view_count": null,
       "_view_module": "@jupyter-widgets/controls",
       "_view_module_version": "1.5.0",
       "_view_name": "HTMLView",
       "description": "",
       "description_tooltip": null,
       "layout": "IPY_MODEL_e9cb0d9cf89446eaa2dfe7878fec2eff",
       "placeholder": "​",
       "style": "IPY_MODEL_41b42deb82d34d308a6370df05649e4f",
       "value": "Downloading https://huggingface.co/stanfordnlp/CoreNLP/resolve/main/stanford-corenlp-latest.zip: 100%"
      }
     },
     "f8f568c36732496daeeef3f87992b316": {
      "model_module": "@jupyter-widgets/base",
      "model_module_version": "1.2.0",
      "model_name": "LayoutModel",
      "state": {
       "_model_module": "@jupyter-widgets/base",
       "_model_module_version": "1.2.0",
       "_model_name": "LayoutModel",
       "_view_count": null,
       "_view_module": "@jupyter-widgets/base",
       "_view_module_version": "1.2.0",
       "_view_name": "LayoutView",
       "align_content": null,
       "align_items": null,
       "align_self": null,
       "border": null,
       "bottom": null,
       "display": null,
       "flex": null,
       "flex_flow": null,
       "grid_area": null,
       "grid_auto_columns": null,
       "grid_auto_flow": null,
       "grid_auto_rows": null,
       "grid_column": null,
       "grid_gap": null,
       "grid_row": null,
       "grid_template_areas": null,
       "grid_template_columns": null,
       "grid_template_rows": null,
       "height": null,
       "justify_content": null,
       "justify_items": null,
       "left": null,
       "margin": null,
       "max_height": null,
       "max_width": null,
       "min_height": null,
       "min_width": null,
       "object_fit": null,
       "object_position": null,
       "order": null,
       "overflow": null,
       "overflow_x": null,
       "overflow_y": null,
       "padding": null,
       "right": null,
       "top": null,
       "visibility": null,
       "width": null
      }
     },
     "f9d9308899a142a2ac922422d6bf294b": {
      "model_module": "@jupyter-widgets/controls",
      "model_module_version": "1.5.0",
      "model_name": "HTMLModel",
      "state": {
       "_dom_classes": [],
       "_model_module": "@jupyter-widgets/controls",
       "_model_module_version": "1.5.0",
       "_model_name": "HTMLModel",
       "_view_count": null,
       "_view_module": "@jupyter-widgets/controls",
       "_view_module_version": "1.5.0",
       "_view_name": "HTMLView",
       "description": "",
       "description_tooltip": null,
       "layout": "IPY_MODEL_83b5bea945f14c428f0001b499efeb34",
       "placeholder": "​",
       "style": "IPY_MODEL_1084a541b62e46cda06b62af208c96ab",
       "value": " 483/483 [00:26&lt;00:00, 40.23it/s]"
      }
     }
    },
    "version_major": 2,
    "version_minor": 0
   }
  }
 },
 "nbformat": 4,
 "nbformat_minor": 5
}
